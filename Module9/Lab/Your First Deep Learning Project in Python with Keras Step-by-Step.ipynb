{
 "cells": [
  {
   "cell_type": "code",
   "execution_count": 4,
   "id": "a4895f8a",
   "metadata": {},
   "outputs": [],
   "source": [
    "from numpy import loadtxt\n",
    "import pandas as pd\n",
    "from tensorflow.keras.models import Sequential\n",
    "from tensorflow.keras.layers import Dense"
   ]
  },
  {
   "cell_type": "code",
   "execution_count": 15,
   "id": "d670626a",
   "metadata": {},
   "outputs": [],
   "source": [
    "dataset = loadtxt('https://raw.githubusercontent.com/jbrownlee/Datasets/master/pima-indians-diabetes.data.csv'\n",
    "                  , delimiter=',')"
   ]
  },
  {
   "cell_type": "code",
   "execution_count": 16,
   "id": "9f63d852",
   "metadata": {},
   "outputs": [],
   "source": [
    "X = dataset[:,0:8]\n",
    "y = dataset[:,8]"
   ]
  },
  {
   "cell_type": "code",
   "execution_count": 17,
   "id": "95630f54",
   "metadata": {},
   "outputs": [
    {
     "name": "stderr",
     "output_type": "stream",
     "text": [
      "2022-08-30 19:27:35.093567: I tensorflow/core/platform/cpu_feature_guard.cc:151] This TensorFlow binary is optimized with oneAPI Deep Neural Network Library (oneDNN) to use the following CPU instructions in performance-critical operations:  SSE4.1 SSE4.2 AVX AVX2 FMA\n",
      "To enable them in other operations, rebuild TensorFlow with the appropriate compiler flags.\n"
     ]
    }
   ],
   "source": [
    "# define the keras model\n",
    "model = Sequential()\n",
    "model.add(Dense(12, input_shape=(8,), activation='relu'))\n",
    "model.add(Dense(8, activation='relu'))\n",
    "model.add(Dense(1, activation='sigmoid'))"
   ]
  },
  {
   "cell_type": "code",
   "execution_count": 18,
   "id": "61c72564",
   "metadata": {},
   "outputs": [],
   "source": [
    "# compile the keras model\n",
    "model.compile(loss='binary_crossentropy', optimizer='adam', metrics=['accuracy'])"
   ]
  },
  {
   "cell_type": "code",
   "execution_count": 19,
   "id": "6a124be6",
   "metadata": {},
   "outputs": [
    {
     "name": "stdout",
     "output_type": "stream",
     "text": [
      "Epoch 1/150\n",
      "77/77 [==============================] - 1s 993us/step - loss: 23.1283 - accuracy: 0.3867\n",
      "Epoch 2/150\n",
      "77/77 [==============================] - 0s 905us/step - loss: 4.2382 - accuracy: 0.4674\n",
      "Epoch 3/150\n",
      "77/77 [==============================] - 0s 968us/step - loss: 1.3616 - accuracy: 0.5521\n",
      "Epoch 4/150\n",
      "77/77 [==============================] - 0s 922us/step - loss: 1.1883 - accuracy: 0.5690\n",
      "Epoch 5/150\n",
      "77/77 [==============================] - 0s 954us/step - loss: 1.0650 - accuracy: 0.5964\n",
      "Epoch 6/150\n",
      "77/77 [==============================] - 0s 884us/step - loss: 0.9581 - accuracy: 0.6185\n",
      "Epoch 7/150\n",
      "77/77 [==============================] - 0s 977us/step - loss: 0.8961 - accuracy: 0.6211\n",
      "Epoch 8/150\n",
      "77/77 [==============================] - 0s 928us/step - loss: 0.8354 - accuracy: 0.6380\n",
      "Epoch 9/150\n",
      "77/77 [==============================] - 0s 989us/step - loss: 0.7684 - accuracy: 0.6497\n",
      "Epoch 10/150\n",
      "77/77 [==============================] - 0s 901us/step - loss: 0.7692 - accuracy: 0.6602\n",
      "Epoch 11/150\n",
      "77/77 [==============================] - 0s 986us/step - loss: 0.7168 - accuracy: 0.6719\n",
      "Epoch 12/150\n",
      "77/77 [==============================] - 0s 986us/step - loss: 0.7491 - accuracy: 0.6706\n",
      "Epoch 13/150\n",
      "77/77 [==============================] - 0s 979us/step - loss: 0.6760 - accuracy: 0.6927\n",
      "Epoch 14/150\n",
      "77/77 [==============================] - 0s 968us/step - loss: 0.6810 - accuracy: 0.6745\n",
      "Epoch 15/150\n",
      "77/77 [==============================] - 0s 1ms/step - loss: 0.6769 - accuracy: 0.6849\n",
      "Epoch 16/150\n",
      "77/77 [==============================] - 0s 1ms/step - loss: 0.6603 - accuracy: 0.6992\n",
      "Epoch 17/150\n",
      "77/77 [==============================] - 0s 1ms/step - loss: 0.6534 - accuracy: 0.6888\n",
      "Epoch 18/150\n",
      "77/77 [==============================] - 0s 1ms/step - loss: 0.6854 - accuracy: 0.6732\n",
      "Epoch 19/150\n",
      "77/77 [==============================] - 0s 1ms/step - loss: 0.6301 - accuracy: 0.6992\n",
      "Epoch 20/150\n",
      "77/77 [==============================] - 0s 1ms/step - loss: 0.6560 - accuracy: 0.6849\n",
      "Epoch 21/150\n",
      "77/77 [==============================] - 0s 1ms/step - loss: 0.6122 - accuracy: 0.6953\n",
      "Epoch 22/150\n",
      "77/77 [==============================] - 0s 2ms/step - loss: 0.6990 - accuracy: 0.6654\n",
      "Epoch 23/150\n",
      "77/77 [==============================] - 0s 2ms/step - loss: 0.6482 - accuracy: 0.6836\n",
      "Epoch 24/150\n",
      "77/77 [==============================] - 0s 2ms/step - loss: 0.6802 - accuracy: 0.6823\n",
      "Epoch 25/150\n",
      "77/77 [==============================] - 0s 2ms/step - loss: 0.6273 - accuracy: 0.7005\n",
      "Epoch 26/150\n",
      "77/77 [==============================] - 0s 2ms/step - loss: 0.5991 - accuracy: 0.7148\n",
      "Epoch 27/150\n",
      "77/77 [==============================] - 0s 2ms/step - loss: 0.6420 - accuracy: 0.6875\n",
      "Epoch 28/150\n",
      "77/77 [==============================] - 0s 2ms/step - loss: 0.6397 - accuracy: 0.6862\n",
      "Epoch 29/150\n",
      "77/77 [==============================] - 0s 1ms/step - loss: 0.6077 - accuracy: 0.6992\n",
      "Epoch 30/150\n",
      "77/77 [==============================] - 0s 1ms/step - loss: 0.6036 - accuracy: 0.7070\n",
      "Epoch 31/150\n",
      "77/77 [==============================] - 0s 1ms/step - loss: 0.6231 - accuracy: 0.7018\n",
      "Epoch 32/150\n",
      "77/77 [==============================] - 0s 1ms/step - loss: 0.6031 - accuracy: 0.6966\n",
      "Epoch 33/150\n",
      "77/77 [==============================] - 0s 1ms/step - loss: 0.6044 - accuracy: 0.7096\n",
      "Epoch 34/150\n",
      "77/77 [==============================] - 0s 1ms/step - loss: 0.6433 - accuracy: 0.6784\n",
      "Epoch 35/150\n",
      "77/77 [==============================] - 0s 1ms/step - loss: 0.5919 - accuracy: 0.7214\n",
      "Epoch 36/150\n",
      "77/77 [==============================] - 0s 1ms/step - loss: 0.6032 - accuracy: 0.7188\n",
      "Epoch 37/150\n",
      "77/77 [==============================] - 0s 1ms/step - loss: 0.6389 - accuracy: 0.6810\n",
      "Epoch 38/150\n",
      "77/77 [==============================] - 0s 1ms/step - loss: 0.6594 - accuracy: 0.6784\n",
      "Epoch 39/150\n",
      "77/77 [==============================] - 0s 1ms/step - loss: 0.6062 - accuracy: 0.6966\n",
      "Epoch 40/150\n",
      "77/77 [==============================] - 0s 1ms/step - loss: 0.5834 - accuracy: 0.7201\n",
      "Epoch 41/150\n",
      "77/77 [==============================] - 0s 1ms/step - loss: 0.6175 - accuracy: 0.7031\n",
      "Epoch 42/150\n",
      "77/77 [==============================] - 0s 1ms/step - loss: 0.5594 - accuracy: 0.7240\n",
      "Epoch 43/150\n",
      "77/77 [==============================] - 0s 1ms/step - loss: 0.5779 - accuracy: 0.7357\n",
      "Epoch 44/150\n",
      "77/77 [==============================] - 0s 1ms/step - loss: 0.5730 - accuracy: 0.7266\n",
      "Epoch 45/150\n",
      "77/77 [==============================] - 0s 1ms/step - loss: 0.5965 - accuracy: 0.7161\n",
      "Epoch 46/150\n",
      "77/77 [==============================] - 0s 1ms/step - loss: 0.6506 - accuracy: 0.6875\n",
      "Epoch 47/150\n",
      "77/77 [==============================] - 0s 1ms/step - loss: 0.5633 - accuracy: 0.7214\n",
      "Epoch 48/150\n",
      "77/77 [==============================] - 0s 1ms/step - loss: 0.5965 - accuracy: 0.7096\n",
      "Epoch 49/150\n",
      "77/77 [==============================] - 0s 1ms/step - loss: 0.5600 - accuracy: 0.7344\n",
      "Epoch 50/150\n",
      "77/77 [==============================] - 0s 1ms/step - loss: 0.5955 - accuracy: 0.7070\n",
      "Epoch 51/150\n",
      "77/77 [==============================] - 0s 1ms/step - loss: 0.5595 - accuracy: 0.7266\n",
      "Epoch 52/150\n",
      "77/77 [==============================] - 0s 1ms/step - loss: 0.5707 - accuracy: 0.7266\n",
      "Epoch 53/150\n",
      "77/77 [==============================] - 0s 1ms/step - loss: 0.5531 - accuracy: 0.7409\n",
      "Epoch 54/150\n",
      "77/77 [==============================] - 0s 1ms/step - loss: 0.5770 - accuracy: 0.7096\n",
      "Epoch 55/150\n",
      "77/77 [==============================] - 0s 1ms/step - loss: 0.5762 - accuracy: 0.7122\n",
      "Epoch 56/150\n",
      "77/77 [==============================] - 0s 1ms/step - loss: 0.5511 - accuracy: 0.7357\n",
      "Epoch 57/150\n",
      "77/77 [==============================] - 0s 1ms/step - loss: 0.5506 - accuracy: 0.7279\n",
      "Epoch 58/150\n",
      "77/77 [==============================] - 0s 1ms/step - loss: 0.5861 - accuracy: 0.7174\n",
      "Epoch 59/150\n",
      "77/77 [==============================] - 0s 1ms/step - loss: 0.5875 - accuracy: 0.7096\n",
      "Epoch 60/150\n",
      "77/77 [==============================] - 0s 1ms/step - loss: 0.6293 - accuracy: 0.7188\n",
      "Epoch 61/150\n",
      "77/77 [==============================] - 0s 1ms/step - loss: 0.5870 - accuracy: 0.7201\n",
      "Epoch 62/150\n",
      "77/77 [==============================] - 0s 1ms/step - loss: 0.5495 - accuracy: 0.7109\n",
      "Epoch 63/150\n",
      "77/77 [==============================] - 0s 1ms/step - loss: 0.5436 - accuracy: 0.7305\n",
      "Epoch 64/150\n",
      "77/77 [==============================] - 0s 1ms/step - loss: 0.5718 - accuracy: 0.7318\n",
      "Epoch 65/150\n",
      "77/77 [==============================] - 0s 1ms/step - loss: 0.5443 - accuracy: 0.7292\n",
      "Epoch 66/150\n",
      "77/77 [==============================] - 0s 1ms/step - loss: 0.5662 - accuracy: 0.7292\n",
      "Epoch 67/150\n",
      "77/77 [==============================] - 0s 1ms/step - loss: 0.5684 - accuracy: 0.7331\n",
      "Epoch 68/150\n",
      "77/77 [==============================] - 0s 1ms/step - loss: 0.5783 - accuracy: 0.7174\n",
      "Epoch 69/150\n",
      "77/77 [==============================] - 0s 1ms/step - loss: 0.5853 - accuracy: 0.7122\n",
      "Epoch 70/150\n",
      "77/77 [==============================] - 0s 1ms/step - loss: 0.5537 - accuracy: 0.7188\n",
      "Epoch 71/150\n",
      "77/77 [==============================] - 0s 1ms/step - loss: 0.5410 - accuracy: 0.7331\n",
      "Epoch 72/150\n",
      "77/77 [==============================] - 0s 1ms/step - loss: 0.5447 - accuracy: 0.7318\n",
      "Epoch 73/150\n",
      "77/77 [==============================] - 0s 1ms/step - loss: 0.5662 - accuracy: 0.7240\n",
      "Epoch 74/150\n",
      "77/77 [==============================] - 0s 1ms/step - loss: 0.5285 - accuracy: 0.7331\n",
      "Epoch 75/150\n",
      "77/77 [==============================] - 0s 1ms/step - loss: 0.5292 - accuracy: 0.7383\n",
      "Epoch 76/150\n",
      "77/77 [==============================] - 0s 1ms/step - loss: 0.5439 - accuracy: 0.7357\n",
      "Epoch 77/150\n",
      "77/77 [==============================] - 0s 1ms/step - loss: 0.5406 - accuracy: 0.7370\n",
      "Epoch 78/150\n",
      "77/77 [==============================] - 0s 920us/step - loss: 0.5560 - accuracy: 0.7370\n",
      "Epoch 79/150\n",
      "77/77 [==============================] - 0s 952us/step - loss: 0.5293 - accuracy: 0.7487\n",
      "Epoch 80/150\n",
      "77/77 [==============================] - 0s 958us/step - loss: 0.5286 - accuracy: 0.7461\n",
      "Epoch 81/150\n",
      "77/77 [==============================] - 0s 928us/step - loss: 0.5925 - accuracy: 0.7331\n",
      "Epoch 82/150\n"
     ]
    },
    {
     "name": "stdout",
     "output_type": "stream",
     "text": [
      "77/77 [==============================] - 0s 931us/step - loss: 0.5653 - accuracy: 0.7357\n",
      "Epoch 83/150\n",
      "77/77 [==============================] - 0s 877us/step - loss: 0.5668 - accuracy: 0.7461\n",
      "Epoch 84/150\n",
      "77/77 [==============================] - 0s 861us/step - loss: 0.5252 - accuracy: 0.7370\n",
      "Epoch 85/150\n",
      "77/77 [==============================] - 0s 816us/step - loss: 0.5443 - accuracy: 0.7435\n",
      "Epoch 86/150\n",
      "77/77 [==============================] - 0s 846us/step - loss: 0.5586 - accuracy: 0.7266\n",
      "Epoch 87/150\n",
      "77/77 [==============================] - 0s 839us/step - loss: 0.5216 - accuracy: 0.7565\n",
      "Epoch 88/150\n",
      "77/77 [==============================] - 0s 832us/step - loss: 0.5409 - accuracy: 0.7370\n",
      "Epoch 89/150\n",
      "77/77 [==============================] - 0s 857us/step - loss: 0.5223 - accuracy: 0.7383\n",
      "Epoch 90/150\n",
      "77/77 [==============================] - 0s 811us/step - loss: 0.5166 - accuracy: 0.7461\n",
      "Epoch 91/150\n",
      "77/77 [==============================] - 0s 1ms/step - loss: 0.5324 - accuracy: 0.7357\n",
      "Epoch 92/150\n",
      "77/77 [==============================] - 0s 1ms/step - loss: 0.5359 - accuracy: 0.7370\n",
      "Epoch 93/150\n",
      "77/77 [==============================] - 0s 2ms/step - loss: 0.5503 - accuracy: 0.7474\n",
      "Epoch 94/150\n",
      "77/77 [==============================] - 0s 1ms/step - loss: 0.5508 - accuracy: 0.7214\n",
      "Epoch 95/150\n",
      "77/77 [==============================] - 0s 1ms/step - loss: 0.5095 - accuracy: 0.7617\n",
      "Epoch 96/150\n",
      "77/77 [==============================] - 0s 1ms/step - loss: 0.5255 - accuracy: 0.7565\n",
      "Epoch 97/150\n",
      "77/77 [==============================] - 0s 1ms/step - loss: 0.5474 - accuracy: 0.7266\n",
      "Epoch 98/150\n",
      "77/77 [==============================] - 0s 2ms/step - loss: 0.5423 - accuracy: 0.7435\n",
      "Epoch 99/150\n",
      "77/77 [==============================] - 0s 1ms/step - loss: 0.5364 - accuracy: 0.7487\n",
      "Epoch 100/150\n",
      "77/77 [==============================] - 0s 1ms/step - loss: 0.5386 - accuracy: 0.7370\n",
      "Epoch 101/150\n",
      "77/77 [==============================] - 0s 1ms/step - loss: 0.5234 - accuracy: 0.7474\n",
      "Epoch 102/150\n",
      "77/77 [==============================] - 0s 1ms/step - loss: 0.5321 - accuracy: 0.7474\n",
      "Epoch 103/150\n",
      "77/77 [==============================] - 0s 2ms/step - loss: 0.5137 - accuracy: 0.7552\n",
      "Epoch 104/150\n",
      "77/77 [==============================] - 0s 1ms/step - loss: 0.5221 - accuracy: 0.7500\n",
      "Epoch 105/150\n",
      "77/77 [==============================] - 0s 1ms/step - loss: 0.5189 - accuracy: 0.7474\n",
      "Epoch 106/150\n",
      "77/77 [==============================] - 0s 972us/step - loss: 0.5143 - accuracy: 0.7513\n",
      "Epoch 107/150\n",
      "77/77 [==============================] - 0s 1ms/step - loss: 0.5300 - accuracy: 0.7370\n",
      "Epoch 108/150\n",
      "77/77 [==============================] - 0s 1ms/step - loss: 0.5258 - accuracy: 0.7565\n",
      "Epoch 109/150\n",
      "77/77 [==============================] - 0s 2ms/step - loss: 0.5407 - accuracy: 0.7448\n",
      "Epoch 110/150\n",
      "77/77 [==============================] - 0s 1ms/step - loss: 0.5555 - accuracy: 0.7253\n",
      "Epoch 111/150\n",
      "77/77 [==============================] - 0s 1ms/step - loss: 0.5520 - accuracy: 0.7331\n",
      "Epoch 112/150\n",
      "77/77 [==============================] - 0s 1ms/step - loss: 0.5138 - accuracy: 0.7513\n",
      "Epoch 113/150\n",
      "77/77 [==============================] - 0s 1ms/step - loss: 0.5371 - accuracy: 0.7526\n",
      "Epoch 114/150\n",
      "77/77 [==============================] - 0s 1ms/step - loss: 0.5372 - accuracy: 0.7383\n",
      "Epoch 115/150\n",
      "77/77 [==============================] - 0s 1ms/step - loss: 0.5534 - accuracy: 0.7383\n",
      "Epoch 116/150\n",
      "77/77 [==============================] - 0s 2ms/step - loss: 0.5101 - accuracy: 0.7500\n",
      "Epoch 117/150\n",
      "77/77 [==============================] - 0s 1ms/step - loss: 0.5157 - accuracy: 0.7552\n",
      "Epoch 118/150\n",
      "77/77 [==============================] - 0s 1ms/step - loss: 0.5008 - accuracy: 0.7565\n",
      "Epoch 119/150\n",
      "77/77 [==============================] - 0s 1ms/step - loss: 0.4994 - accuracy: 0.7708\n",
      "Epoch 120/150\n",
      "77/77 [==============================] - 0s 1ms/step - loss: 0.5185 - accuracy: 0.7656\n",
      "Epoch 121/150\n",
      "77/77 [==============================] - 0s 1ms/step - loss: 0.5007 - accuracy: 0.7591\n",
      "Epoch 122/150\n",
      "77/77 [==============================] - 0s 1ms/step - loss: 0.4873 - accuracy: 0.7747\n",
      "Epoch 123/150\n",
      "77/77 [==============================] - 0s 983us/step - loss: 0.5219 - accuracy: 0.7513\n",
      "Epoch 124/150\n",
      "77/77 [==============================] - 0s 1ms/step - loss: 0.5452 - accuracy: 0.7461\n",
      "Epoch 125/150\n",
      "77/77 [==============================] - 0s 1ms/step - loss: 0.5533 - accuracy: 0.7292\n",
      "Epoch 126/150\n",
      "77/77 [==============================] - 0s 1ms/step - loss: 0.5548 - accuracy: 0.7448\n",
      "Epoch 127/150\n",
      "77/77 [==============================] - 0s 2ms/step - loss: 0.5220 - accuracy: 0.7487\n",
      "Epoch 128/150\n",
      "77/77 [==============================] - 0s 1ms/step - loss: 0.5055 - accuracy: 0.7526\n",
      "Epoch 129/150\n",
      "77/77 [==============================] - 0s 1ms/step - loss: 0.5180 - accuracy: 0.7435\n",
      "Epoch 130/150\n",
      "77/77 [==============================] - 0s 2ms/step - loss: 0.5028 - accuracy: 0.7617\n",
      "Epoch 131/150\n",
      "77/77 [==============================] - 0s 2ms/step - loss: 0.4991 - accuracy: 0.7708\n",
      "Epoch 132/150\n",
      "77/77 [==============================] - 0s 2ms/step - loss: 0.5158 - accuracy: 0.7734\n",
      "Epoch 133/150\n",
      "77/77 [==============================] - 0s 1ms/step - loss: 0.5346 - accuracy: 0.7474\n",
      "Epoch 134/150\n",
      "77/77 [==============================] - 0s 945us/step - loss: 0.5116 - accuracy: 0.7526\n",
      "Epoch 135/150\n",
      "77/77 [==============================] - 0s 1ms/step - loss: 0.5265 - accuracy: 0.7214\n",
      "Epoch 136/150\n",
      "77/77 [==============================] - 0s 1ms/step - loss: 0.4985 - accuracy: 0.7604\n",
      "Epoch 137/150\n",
      "77/77 [==============================] - 0s 1ms/step - loss: 0.4973 - accuracy: 0.7669\n",
      "Epoch 138/150\n",
      "77/77 [==============================] - 0s 1ms/step - loss: 0.5133 - accuracy: 0.7604\n",
      "Epoch 139/150\n",
      "77/77 [==============================] - 0s 1ms/step - loss: 0.5027 - accuracy: 0.7526\n",
      "Epoch 140/150\n",
      "77/77 [==============================] - 0s 1ms/step - loss: 0.5042 - accuracy: 0.7565\n",
      "Epoch 141/150\n",
      "77/77 [==============================] - 0s 1ms/step - loss: 0.4952 - accuracy: 0.7578\n",
      "Epoch 142/150\n",
      "77/77 [==============================] - 0s 1ms/step - loss: 0.5023 - accuracy: 0.7617\n",
      "Epoch 143/150\n",
      "77/77 [==============================] - 0s 1ms/step - loss: 0.5013 - accuracy: 0.7617\n",
      "Epoch 144/150\n",
      "77/77 [==============================] - 0s 955us/step - loss: 0.5028 - accuracy: 0.7565\n",
      "Epoch 145/150\n",
      "77/77 [==============================] - 0s 1ms/step - loss: 0.5284 - accuracy: 0.7591\n",
      "Epoch 146/150\n",
      "77/77 [==============================] - 0s 1ms/step - loss: 0.5059 - accuracy: 0.7565\n",
      "Epoch 147/150\n",
      "77/77 [==============================] - 0s 1ms/step - loss: 0.4947 - accuracy: 0.7669\n",
      "Epoch 148/150\n",
      "77/77 [==============================] - 0s 1ms/step - loss: 0.5070 - accuracy: 0.7552\n",
      "Epoch 149/150\n",
      "77/77 [==============================] - 0s 952us/step - loss: 0.5530 - accuracy: 0.7292\n",
      "Epoch 150/150\n",
      "77/77 [==============================] - 0s 970us/step - loss: 0.5241 - accuracy: 0.7552\n"
     ]
    },
    {
     "data": {
      "text/plain": [
       "<keras.callbacks.History at 0x7fbde405e070>"
      ]
     },
     "execution_count": 19,
     "metadata": {},
     "output_type": "execute_result"
    }
   ],
   "source": [
    "# fit the keras model on the dataset\n",
    "model.fit(X, y, epochs=150, batch_size=10)"
   ]
  },
  {
   "cell_type": "code",
   "execution_count": 20,
   "id": "8453c227",
   "metadata": {},
   "outputs": [
    {
     "name": "stdout",
     "output_type": "stream",
     "text": [
      "24/24 [==============================] - 0s 1ms/step - loss: 0.4750 - accuracy: 0.7669\n",
      "Accuracy: 76.69\n"
     ]
    }
   ],
   "source": [
    "# evaluate the keras model\n",
    "_, accuracy = model.evaluate(X, y)\n",
    "print('Accuracy: %.2f' % (accuracy*100))"
   ]
  },
  {
   "cell_type": "code",
   "execution_count": 21,
   "id": "8d49994f",
   "metadata": {},
   "outputs": [],
   "source": [
    "# fit the keras model on the dataset without progress bars\n",
    "model.fit(X, y, epochs=150, batch_size=10, verbose=0)\n",
    "# evaluate the keras model\n",
    "_, accuracy = model.evaluate(X, y, verbose=0)"
   ]
  },
  {
   "cell_type": "code",
   "execution_count": 22,
   "id": "85280764",
   "metadata": {},
   "outputs": [
    {
     "name": "stdout",
     "output_type": "stream",
     "text": [
      "24/24 [==============================] - 0s 1ms/step - loss: 0.4506 - accuracy: 0.7839\n",
      "Accuracy: 78.39\n"
     ]
    }
   ],
   "source": [
    "_, accuracy = model.evaluate(X, y)\n",
    "print('Accuracy: %.2f' % (accuracy*100))"
   ]
  },
  {
   "cell_type": "code",
   "execution_count": 24,
   "id": "5886ce4d",
   "metadata": {},
   "outputs": [
    {
     "name": "stdout",
     "output_type": "stream",
     "text": [
      "24/24 [==============================] - 0s 1ms/step - loss: 0.4373 - accuracy: 0.7917\n",
      "Accuracy: 79.17\n"
     ]
    }
   ],
   "source": [
    "# fit the keras model on the dataset without progress bars\n",
    "model.fit(X, y, epochs=150, batch_size=10, verbose=0)\n",
    "# evaluate the keras model\n",
    "_, accuracy = model.evaluate(X, y, verbose=0)\n",
    "\n",
    "print('Accuracy: %.2f' % (accuracy*100))\n",
    "\n"
   ]
  },
  {
   "cell_type": "code",
   "execution_count": 25,
   "id": "45c35713",
   "metadata": {},
   "outputs": [
    {
     "name": "stdout",
     "output_type": "stream",
     "text": [
      "Accuracy: 80.08\n"
     ]
    }
   ],
   "source": [
    "# fit the keras model on the dataset without progress bars\n",
    "model.fit(X, y, epochs=150, batch_size=10, verbose=0)\n",
    "# evaluate the keras model\n",
    "_, accuracy = model.evaluate(X, y, verbose=0)\n",
    "\n",
    "print('Accuracy: %.2f' % (accuracy*100))"
   ]
  },
  {
   "cell_type": "code",
   "execution_count": 30,
   "id": "59225cce",
   "metadata": {},
   "outputs": [
    {
     "name": "stdout",
     "output_type": "stream",
     "text": [
      "Accuracy: 78.65\n"
     ]
    }
   ],
   "source": [
    "X = dataset[:,0:8]\n",
    "y = dataset[:,8]\n",
    "\n",
    "# define the keras model\n",
    "model = Sequential()\n",
    "model.add(Dense(12, input_shape=(8,), activation='relu'))\n",
    "model.add(Dense(8, activation='relu'))\n",
    "model.add(Dense(1, activation='sigmoid'))\n",
    "\n",
    "#the keras model\n",
    "model.compile(loss='binary_crossentropy', optimizer='adam', metrics=['accuracy'])\n",
    "\n",
    "# fit the keras model on the dataset without progress bars\n",
    "model.fit(X, y, epochs=150, batch_size=10, verbose=0)\n",
    "\n",
    "# evaluate the keras model\n",
    "_, accuracy = model.evaluate(X, y, verbose=0)\n",
    "\n",
    "print('Accuracy: %.2f' % (accuracy*100))"
   ]
  },
  {
   "cell_type": "code",
   "execution_count": 31,
   "id": "3d46328e",
   "metadata": {},
   "outputs": [
    {
     "name": "stdout",
     "output_type": "stream",
     "text": [
      "Accuracy: 80.99\n"
     ]
    }
   ],
   "source": [
    "X = dataset[:,0:8]\n",
    "y = dataset[:,8]\n",
    "\n",
    "# define the keras model\n",
    "model = Sequential()\n",
    "model.add(Dense(12, input_shape=(8,), activation='relu'))\n",
    "model.add(Dense(8, activation='relu'))\n",
    "model.add(Dense(1, activation='sigmoid'))\n",
    "\n",
    "#the keras model\n",
    "model.compile(loss='binary_crossentropy', optimizer='adam', metrics=['accuracy'])\n",
    "\n",
    "# fit the keras model on the dataset without progress bars\n",
    "model.fit(X, y, epochs=300, batch_size=10, verbose=0)\n",
    "\n",
    "# evaluate the keras model\n",
    "_, accuracy = model.evaluate(X, y, verbose=0)\n",
    "\n",
    "print('Accuracy: %.2f' % (accuracy*100))"
   ]
  },
  {
   "cell_type": "code",
   "execution_count": 32,
   "id": "45cfbd5c",
   "metadata": {},
   "outputs": [],
   "source": [
    "# make probability predictions with the model\n",
    "predictions = model.predict(X)\n",
    "# round predictions \n",
    "rounded = [round(x[0]) for x in predictions]"
   ]
  },
  {
   "cell_type": "code",
   "execution_count": 33,
   "id": "7c1008c5",
   "metadata": {},
   "outputs": [],
   "source": [
    "# make class predictions with the model\n",
    "predictions = (model.predict(X) > 0.5).astype(int)"
   ]
  },
  {
   "cell_type": "code",
   "execution_count": 35,
   "id": "b165e5f7",
   "metadata": {},
   "outputs": [
    {
     "name": "stdout",
     "output_type": "stream",
     "text": [
      "[6.0, 148.0, 72.0, 35.0, 0.0, 33.6, 0.627, 50.0] => 1 (expected 1)\n",
      "[1.0, 85.0, 66.0, 29.0, 0.0, 26.6, 0.351, 31.0] => 0 (expected 0)\n",
      "[8.0, 183.0, 64.0, 0.0, 0.0, 23.3, 0.672, 32.0] => 1 (expected 1)\n",
      "[1.0, 89.0, 66.0, 23.0, 94.0, 28.1, 0.167, 21.0] => 0 (expected 0)\n",
      "[0.0, 137.0, 40.0, 35.0, 168.0, 43.1, 2.288, 33.0] => 1 (expected 1)\n"
     ]
    }
   ],
   "source": [
    "# summarize the first 5 cases\n",
    "for i in range(5):\n",
    "\tprint('%s => %d (expected %d)' % (X[i].tolist(), predictions[i], y[i]))"
   ]
  },
  {
   "cell_type": "code",
   "execution_count": null,
   "id": "5a23cf32",
   "metadata": {},
   "outputs": [],
   "source": []
  },
  {
   "cell_type": "code",
   "execution_count": null,
   "id": "1705d497",
   "metadata": {},
   "outputs": [],
   "source": []
  }
 ],
 "metadata": {
  "kernelspec": {
   "display_name": "Python 3 (ipykernel)",
   "language": "python",
   "name": "python3"
  },
  "language_info": {
   "codemirror_mode": {
    "name": "ipython",
    "version": 3
   },
   "file_extension": ".py",
   "mimetype": "text/x-python",
   "name": "python",
   "nbconvert_exporter": "python",
   "pygments_lexer": "ipython3",
   "version": "3.8.13"
  }
 },
 "nbformat": 4,
 "nbformat_minor": 5
}
