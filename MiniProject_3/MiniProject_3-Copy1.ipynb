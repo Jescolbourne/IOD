{
 "cells": [
  {
   "cell_type": "code",
   "execution_count": 1,
   "id": "0b0ca1f4",
   "metadata": {},
   "outputs": [],
   "source": [
    "import numpy as np\n",
    "import pandas as pd\n",
    "import math\n",
    "from scipy import stats\n",
    "import seaborn as sns\n",
    "from matplotlib import pyplot as plt\n",
    "import matplotlib.pylab as pylab\n",
    "import datetime\n",
    "\n",
    "plt.style.use('fivethirtyeight')\n",
    "\n",
    "from warnings import filterwarnings\n",
    "filterwarnings(\"ignore\")\n",
    "\n",
    "%matplotlib inline\n",
    "%config InlineBackend.figure_format = 'retina'"
   ]
  },
  {
   "cell_type": "code",
   "execution_count": 2,
   "id": "4922b0d0",
   "metadata": {},
   "outputs": [],
   "source": [
    "df = pd.read_csv('PRODUCTSALES1.csv')"
   ]
  },
  {
   "cell_type": "code",
   "execution_count": 3,
   "id": "6a0e1eaf",
   "metadata": {},
   "outputs": [
    {
     "data": {
      "text/html": [
       "<div>\n",
       "<style scoped>\n",
       "    .dataframe tbody tr th:only-of-type {\n",
       "        vertical-align: middle;\n",
       "    }\n",
       "\n",
       "    .dataframe tbody tr th {\n",
       "        vertical-align: top;\n",
       "    }\n",
       "\n",
       "    .dataframe thead th {\n",
       "        text-align: right;\n",
       "    }\n",
       "</style>\n",
       "<table border=\"1\" class=\"dataframe\">\n",
       "  <thead>\n",
       "    <tr style=\"text-align: right;\">\n",
       "      <th></th>\n",
       "      <th>sale_date</th>\n",
       "      <th>sale_time</th>\n",
       "      <th>transpos</th>\n",
       "      <th>clerkname</th>\n",
       "      <th>main_id</th>\n",
       "      <th>plu</th>\n",
       "      <th>dissno</th>\n",
       "      <th>qty</th>\n",
       "      <th>descr</th>\n",
       "      <th>last_price</th>\n",
       "      <th>...</th>\n",
       "      <th>pdiscount</th>\n",
       "      <th>gst</th>\n",
       "      <th>sellprice</th>\n",
       "      <th>grosssales</th>\n",
       "      <th>tdiscount</th>\n",
       "      <th>rounding</th>\n",
       "      <th>salesamm2</th>\n",
       "      <th>tendered</th>\n",
       "      <th>change</th>\n",
       "      <th>ref</th>\n",
       "    </tr>\n",
       "  </thead>\n",
       "  <tbody>\n",
       "    <tr>\n",
       "      <th>0</th>\n",
       "      <td>01-Jan-20</td>\n",
       "      <td>09:35:38</td>\n",
       "      <td>1.001040e+15</td>\n",
       "      <td>Monina</td>\n",
       "      <td>704438508410</td>\n",
       "      <td>16535</td>\n",
       "      <td>4</td>\n",
       "      <td>1.0</td>\n",
       "      <td>GVC PB Peru Balsam</td>\n",
       "      <td>3.45</td>\n",
       "      <td>...</td>\n",
       "      <td>1.00</td>\n",
       "      <td>0.00</td>\n",
       "      <td>18.95</td>\n",
       "      <td>250.41</td>\n",
       "      <td>12.53</td>\n",
       "      <td>0.0</td>\n",
       "      <td>259.11</td>\n",
       "      <td>259.11</td>\n",
       "      <td>0.0</td>\n",
       "      <td>NaN</td>\n",
       "    </tr>\n",
       "    <tr>\n",
       "      <th>1</th>\n",
       "      <td>01-Jan-20</td>\n",
       "      <td>09:35:38</td>\n",
       "      <td>1.001040e+15</td>\n",
       "      <td>Monina</td>\n",
       "      <td>9329785000588</td>\n",
       "      <td>4689</td>\n",
       "      <td>1</td>\n",
       "      <td>1.0</td>\n",
       "      <td>Nv Zinc Comp 60t</td>\n",
       "      <td>5.09</td>\n",
       "      <td>...</td>\n",
       "      <td>0.52</td>\n",
       "      <td>0.98</td>\n",
       "      <td>10.78</td>\n",
       "      <td>250.41</td>\n",
       "      <td>12.53</td>\n",
       "      <td>0.0</td>\n",
       "      <td>259.11</td>\n",
       "      <td>259.11</td>\n",
       "      <td>0.0</td>\n",
       "      <td>NaN</td>\n",
       "    </tr>\n",
       "    <tr>\n",
       "      <th>2</th>\n",
       "      <td>01-Jan-20</td>\n",
       "      <td>09:35:38</td>\n",
       "      <td>1.001040e+15</td>\n",
       "      <td>Monina</td>\n",
       "      <td>9332510002016</td>\n",
       "      <td>1024</td>\n",
       "      <td>1</td>\n",
       "      <td>1.0</td>\n",
       "      <td>Tres B Plus 150t</td>\n",
       "      <td>49.17</td>\n",
       "      <td>...</td>\n",
       "      <td>4.03</td>\n",
       "      <td>7.66</td>\n",
       "      <td>84.22</td>\n",
       "      <td>250.41</td>\n",
       "      <td>12.53</td>\n",
       "      <td>0.0</td>\n",
       "      <td>259.11</td>\n",
       "      <td>259.11</td>\n",
       "      <td>0.0</td>\n",
       "      <td>NaN</td>\n",
       "    </tr>\n",
       "    <tr>\n",
       "      <th>3</th>\n",
       "      <td>01-Jan-20</td>\n",
       "      <td>09:35:38</td>\n",
       "      <td>1.001040e+15</td>\n",
       "      <td>Monina</td>\n",
       "      <td>9317320405004</td>\n",
       "      <td>17550</td>\n",
       "      <td>7</td>\n",
       "      <td>1.0</td>\n",
       "      <td>MD Goats Yog (B) 500</td>\n",
       "      <td>4.50</td>\n",
       "      <td>...</td>\n",
       "      <td>0.36</td>\n",
       "      <td>0.00</td>\n",
       "      <td>6.74</td>\n",
       "      <td>250.41</td>\n",
       "      <td>12.53</td>\n",
       "      <td>0.0</td>\n",
       "      <td>259.11</td>\n",
       "      <td>259.11</td>\n",
       "      <td>0.0</td>\n",
       "      <td>NaN</td>\n",
       "    </tr>\n",
       "    <tr>\n",
       "      <th>4</th>\n",
       "      <td>01-Jan-20</td>\n",
       "      <td>09:35:39</td>\n",
       "      <td>1.001040e+15</td>\n",
       "      <td>Monina</td>\n",
       "      <td>797776496792</td>\n",
       "      <td>16640</td>\n",
       "      <td>5</td>\n",
       "      <td>1.0</td>\n",
       "      <td>Aroma Bloom Wood Pea</td>\n",
       "      <td>52.25</td>\n",
       "      <td>...</td>\n",
       "      <td>4.53</td>\n",
       "      <td>8.61</td>\n",
       "      <td>94.72</td>\n",
       "      <td>250.41</td>\n",
       "      <td>12.53</td>\n",
       "      <td>0.0</td>\n",
       "      <td>259.11</td>\n",
       "      <td>259.11</td>\n",
       "      <td>0.0</td>\n",
       "      <td>NaN</td>\n",
       "    </tr>\n",
       "  </tbody>\n",
       "</table>\n",
       "<p>5 rows × 21 columns</p>\n",
       "</div>"
      ],
      "text/plain": [
       "   sale_date sale_time      transpos clerkname        main_id    plu  dissno  \\\n",
       "0  01-Jan-20  09:35:38  1.001040e+15    Monina   704438508410  16535       4   \n",
       "1  01-Jan-20  09:35:38  1.001040e+15    Monina  9329785000588   4689       1   \n",
       "2  01-Jan-20  09:35:38  1.001040e+15    Monina  9332510002016   1024       1   \n",
       "3  01-Jan-20  09:35:38  1.001040e+15    Monina  9317320405004  17550       7   \n",
       "4  01-Jan-20  09:35:39  1.001040e+15    Monina   797776496792  16640       5   \n",
       "\n",
       "   qty                 descr  last_price  ...  pdiscount   gst  sellprice  \\\n",
       "0  1.0    GVC PB Peru Balsam        3.45  ...       1.00  0.00      18.95   \n",
       "1  1.0      Nv Zinc Comp 60t        5.09  ...       0.52  0.98      10.78   \n",
       "2  1.0      Tres B Plus 150t       49.17  ...       4.03  7.66      84.22   \n",
       "3  1.0  MD Goats Yog (B) 500        4.50  ...       0.36  0.00       6.74   \n",
       "4  1.0  Aroma Bloom Wood Pea       52.25  ...       4.53  8.61      94.72   \n",
       "\n",
       "   grosssales  tdiscount  rounding  salesamm2  tendered  change  ref  \n",
       "0      250.41      12.53       0.0     259.11    259.11     0.0  NaN  \n",
       "1      250.41      12.53       0.0     259.11    259.11     0.0  NaN  \n",
       "2      250.41      12.53       0.0     259.11    259.11     0.0  NaN  \n",
       "3      250.41      12.53       0.0     259.11    259.11     0.0  NaN  \n",
       "4      250.41      12.53       0.0     259.11    259.11     0.0  NaN  \n",
       "\n",
       "[5 rows x 21 columns]"
      ]
     },
     "execution_count": 3,
     "metadata": {},
     "output_type": "execute_result"
    }
   ],
   "source": [
    "df.head()"
   ]
  },
  {
   "cell_type": "code",
   "execution_count": 4,
   "id": "87215063",
   "metadata": {},
   "outputs": [
    {
     "data": {
      "text/plain": [
       "(65534, 21)"
      ]
     },
     "execution_count": 4,
     "metadata": {},
     "output_type": "execute_result"
    }
   ],
   "source": [
    "df.shape"
   ]
  },
  {
   "cell_type": "code",
   "execution_count": 5,
   "id": "05a6adb6",
   "metadata": {},
   "outputs": [
    {
     "data": {
      "text/plain": [
       "sale_date         0\n",
       "sale_time         0\n",
       "transpos          0\n",
       "clerkname         0\n",
       "main_id           0\n",
       "plu               0\n",
       "dissno            0\n",
       "qty               0\n",
       "descr             0\n",
       "last_price        0\n",
       "cost              0\n",
       "pdiscount         0\n",
       "gst               0\n",
       "sellprice         0\n",
       "grosssales        0\n",
       "tdiscount         0\n",
       "rounding          0\n",
       "salesamm2         0\n",
       "tendered          0\n",
       "change            0\n",
       "ref           65532\n",
       "dtype: int64"
      ]
     },
     "execution_count": 5,
     "metadata": {},
     "output_type": "execute_result"
    }
   ],
   "source": [
    "df.isnull().sum()"
   ]
  },
  {
   "cell_type": "code",
   "execution_count": 6,
   "id": "46434852",
   "metadata": {},
   "outputs": [],
   "source": [
    "df = df.drop(labels = ['ref', 'transpos', 'main_id', 'plu', 'dissno', 'tdiscount', 'rounding', 'salesamm2', 'tendered', 'change'], axis=1)"
   ]
  },
  {
   "cell_type": "code",
   "execution_count": 7,
   "id": "a6df578e",
   "metadata": {},
   "outputs": [
    {
     "data": {
      "text/html": [
       "<div>\n",
       "<style scoped>\n",
       "    .dataframe tbody tr th:only-of-type {\n",
       "        vertical-align: middle;\n",
       "    }\n",
       "\n",
       "    .dataframe tbody tr th {\n",
       "        vertical-align: top;\n",
       "    }\n",
       "\n",
       "    .dataframe thead th {\n",
       "        text-align: right;\n",
       "    }\n",
       "</style>\n",
       "<table border=\"1\" class=\"dataframe\">\n",
       "  <thead>\n",
       "    <tr style=\"text-align: right;\">\n",
       "      <th></th>\n",
       "      <th>sale_date</th>\n",
       "      <th>sale_time</th>\n",
       "      <th>clerkname</th>\n",
       "      <th>qty</th>\n",
       "      <th>descr</th>\n",
       "      <th>last_price</th>\n",
       "      <th>cost</th>\n",
       "      <th>pdiscount</th>\n",
       "      <th>gst</th>\n",
       "      <th>sellprice</th>\n",
       "      <th>grosssales</th>\n",
       "    </tr>\n",
       "  </thead>\n",
       "  <tbody>\n",
       "    <tr>\n",
       "      <th>0</th>\n",
       "      <td>01-Jan-20</td>\n",
       "      <td>09:35:38</td>\n",
       "      <td>Monina</td>\n",
       "      <td>1.0</td>\n",
       "      <td>GVC PB Peru Balsam</td>\n",
       "      <td>3.45</td>\n",
       "      <td>19.95</td>\n",
       "      <td>1.00</td>\n",
       "      <td>0.00</td>\n",
       "      <td>18.95</td>\n",
       "      <td>250.41</td>\n",
       "    </tr>\n",
       "    <tr>\n",
       "      <th>1</th>\n",
       "      <td>01-Jan-20</td>\n",
       "      <td>09:35:38</td>\n",
       "      <td>Monina</td>\n",
       "      <td>1.0</td>\n",
       "      <td>Nv Zinc Comp 60t</td>\n",
       "      <td>5.09</td>\n",
       "      <td>10.32</td>\n",
       "      <td>0.52</td>\n",
       "      <td>0.98</td>\n",
       "      <td>10.78</td>\n",
       "      <td>250.41</td>\n",
       "    </tr>\n",
       "    <tr>\n",
       "      <th>2</th>\n",
       "      <td>01-Jan-20</td>\n",
       "      <td>09:35:38</td>\n",
       "      <td>Monina</td>\n",
       "      <td>1.0</td>\n",
       "      <td>Tres B Plus 150t</td>\n",
       "      <td>49.17</td>\n",
       "      <td>80.59</td>\n",
       "      <td>4.03</td>\n",
       "      <td>7.66</td>\n",
       "      <td>84.22</td>\n",
       "      <td>250.41</td>\n",
       "    </tr>\n",
       "    <tr>\n",
       "      <th>3</th>\n",
       "      <td>01-Jan-20</td>\n",
       "      <td>09:35:38</td>\n",
       "      <td>Monina</td>\n",
       "      <td>1.0</td>\n",
       "      <td>MD Goats Yog (B) 500</td>\n",
       "      <td>4.50</td>\n",
       "      <td>7.10</td>\n",
       "      <td>0.36</td>\n",
       "      <td>0.00</td>\n",
       "      <td>6.74</td>\n",
       "      <td>250.41</td>\n",
       "    </tr>\n",
       "    <tr>\n",
       "      <th>4</th>\n",
       "      <td>01-Jan-20</td>\n",
       "      <td>09:35:39</td>\n",
       "      <td>Monina</td>\n",
       "      <td>1.0</td>\n",
       "      <td>Aroma Bloom Wood Pea</td>\n",
       "      <td>52.25</td>\n",
       "      <td>90.64</td>\n",
       "      <td>4.53</td>\n",
       "      <td>8.61</td>\n",
       "      <td>94.72</td>\n",
       "      <td>250.41</td>\n",
       "    </tr>\n",
       "  </tbody>\n",
       "</table>\n",
       "</div>"
      ],
      "text/plain": [
       "   sale_date sale_time clerkname  qty                 descr  last_price  \\\n",
       "0  01-Jan-20  09:35:38    Monina  1.0    GVC PB Peru Balsam        3.45   \n",
       "1  01-Jan-20  09:35:38    Monina  1.0      Nv Zinc Comp 60t        5.09   \n",
       "2  01-Jan-20  09:35:38    Monina  1.0      Tres B Plus 150t       49.17   \n",
       "3  01-Jan-20  09:35:38    Monina  1.0  MD Goats Yog (B) 500        4.50   \n",
       "4  01-Jan-20  09:35:39    Monina  1.0  Aroma Bloom Wood Pea       52.25   \n",
       "\n",
       "    cost  pdiscount   gst  sellprice  grosssales  \n",
       "0  19.95       1.00  0.00      18.95      250.41  \n",
       "1  10.32       0.52  0.98      10.78      250.41  \n",
       "2  80.59       4.03  7.66      84.22      250.41  \n",
       "3   7.10       0.36  0.00       6.74      250.41  \n",
       "4  90.64       4.53  8.61      94.72      250.41  "
      ]
     },
     "execution_count": 7,
     "metadata": {},
     "output_type": "execute_result"
    }
   ],
   "source": [
    "df.head()"
   ]
  },
  {
   "cell_type": "code",
   "execution_count": 8,
   "id": "1f5bae0e",
   "metadata": {},
   "outputs": [
    {
     "name": "stdout",
     "output_type": "stream",
     "text": [
      "{'SD Bar Salted carame', 'PO Chilli Flakes', 'Aroma Gem Amythest', 'JC jojo Gl Box 85ml', 'DV L-Arginine 200g', 'Eag Beta AC Pdr 200g', 'SL C/Gum 30p  Cinna', 'WWN PPC CM 850g', 'Lauria Crunchy Seed', 'Lot Trad Oats 1kg', 'Piping Rock 5HTP 100', 'Fe Instant Yeast 500', 'Sfoglini Rigatoni', 'LE Coc Sugar 500g', 'RG Vegetable Pasta S', 'TR Rose Hip 30ml', 'SP Org Wholegrain Mu', 'SOS Rehyd Mango 10PK', 'Eagle Beta AC 180tab', 'Jun Teen Lot 50ml', 'Boody Crew T White L', 'GN Marine Mag 120c', 'CJ Strawberry 325g', 'NG Muesli Prem  750g', 'Life Cykel Turkey Ta', 'ZZ - Gen Tec Gltmne', 'Bm Bio C 1000mg 150t', 'Aroma Flare Wood Gra', 'Anas Barb 200c', 'M&P K Phos 30ml', 'Wheatbags Love Blue', 'Lotus Org Wh Qui 600', 'TE Reishi Mush 50g', 'Sp Cham Rom 2.5%', 'Ozg Sw Chilli Sauce', 'VIT AllOne Doy 330g', 'Banana Joe Chips BBQ', 'Bc D3+K2 50ml', 'Chlorella 500mg 500t', 'Pow SwCacNib 200g', 'Crystalised Ginger', 'Pow Cacao Crunch100g', 'Weleda Skin Food Lig', 'BOO ShapBra Bk L', 'UVN Baby 30+ 50g', 'Pr Throat Clear H L', 'Aloe Vera Aloe Spray', 'DV WPC 1.5kg', 'Sophie Non Drip Cup', 'Bo T-Shirt Ch 12-18m', 'Fusion MenoHeatRe120', 'Am RAW Slim Van 1kg', 'Abs Org GarPeas 350g', 'Aroma Move White Gre', 'TR Nourish Face Crea', 'Inner Health EczSh60', 'Ak Lav Body Wash 500', 'Mel Mass Oil Dis 1L', 'Fus Liver Ton 60 Tab', 'PLV Dill SKraut 680g', 'HH Prostalobium 30 B', 'Dr P Bamboo Toothbru', 'JC Hyd Mist 100ml', 'PO Yerba Mate 25tb', 'HOG Glucoplex 60c', 'K Plain Flour Org 5k', 'H2G Org Roasted seaw', 'DrB Cast Euc 946ml', 'NR Wheoncentrate 1KG', 'CLProt Cap 500g', 'Moogoo Shea Sorbet 5', 'End Perf LL 800g', 'End Perf Orange 800g', 'LE Coconut Oil 450ml', 'Lauria GF Choc Hores', 'JC Face Exfol 80ml', 'TE Sandalwood 40s', 'TP TT Face Cream 65g', 'Tulsi Sweet Rose Tea', 'PB Grapefruit 10ml', 'Bf Pow Porrij 1.3kg', 'GM Spelt Puff 175g', 'LL 5 Day Detox', 'CHE SS ThMxTeal 1.6L', 'PRA A LCarn 150g', 'FUS Guiotic SB+ 30vc', 'PB Lemon Myrtle 10ml', 'PF Leekie soup', 'Tri Ylang Ylang 10ml', 'Fus Multivitamin 60t', 'HOG B Complete 120t', 'MEL OMCT PCwM 300g', 'Amb Org Raw Honey 1k', 'Clean Lean Protein C', 'BB Mues Birch 900g', 'PRA PPB CL 60g', 'NL Super B 60 Caps', 'Murray Pink Salt 250', 'M&P Ferr Phos 125 Tb', 'Alch Jojo Cond 225ml', 'DrB Cast Almond 140g', 'OB Chamomile Tea 20', 'Mad Millie Gin Kit', 'PO Coriander Leaf', 'OZG Bolg Pas S 500g', 'Jun Rose Hy Mist 125', 'NI Coco Teriyaki 250', 'LE Mesquite 500g', 'PNO Lemon Balm 20g', 'LE SD Deluxe Mix 120', 'Jam Deo Herb 50ml', 'PRA PPP Van 1kg', 'Bon Dand Med 1kg', 'Nv Curcumin 60 Caps', 'M & P Cal Sulph 125', 'Wel Arnica Crm 36ml', 'BOO Mii Brief Nude L', 'BOO Ack Sil Thread L', 'MedMedium LifeChFood', 'Eco C Body Milk 500m', 'Castile Rsmry Ref 50', 'Spry Gems Cinn 40', 'Roch Ginger NoSugar', 'Alch LeaveIn Con 150', 'Spry Gum Fruit 10', 'PO Caraway Seed', 'Tri Citronella 10ml', 'NL Milk Th 17000 120', 'BC Adva Forte 180', 'BD Pal Bar Ban 45g', 'PRG OPPP V 450g', 'LIF Ess Berries 100g', 'Topliss in the kitch', 'IH PL Dble Strengt60', 'Inner Health Plus 30', 'OT Choc Ginger', 'the GF Orig Mac 200g', 'HoG Eld Ech Ol 100ml', 'Lauria GF shortbread', 'UV Nat 30+ 50g', 'Glace Pineapple 150', 'Boody 3/4 Scoop Bl S', 'BonSoy Soy Milk 1L', 'Liberate GF Crumpets', 'GVC Jewelry Car Diff', 'Aroma Swirl Denim Bl', 'TP Acne ctrl kit', 'Spiral Org Shiitake', 'BOO Menglet White XL', 'AbsOrg SweetCorn350g', 'THO Hemp Seeds 450g', 'M&P Comb 12 250t', 'Arborvitae Health We', 'Bm Magmin 50t', 'PB Jojoba 100ml', 'PR Hard Max 60c', 'PA Choc SaltedCa 80g', 'Bo Socks Ch/Sk 6-21m', 'Pizza/Pasta Sauce', 'NV VFlxSd 1000 200c', 'EVO FMist Rain 100ml', 'BOO Ful Brief Nude L', 'Bragg Ap Cid Vin 946', 'Boody Bikini Nude XL', 'Jam Deo L Myrt 50ml', 'Hemp Milk 750ml', 'Have you got guts', 'LLEsOil Sniffles10ml', 'Thom Org Mag 120 t', 'LE Hazel Choc 80g', 'Nt Rice Loaf (GF)', 'BOO Ful Brief Nude S', 'OGN Crispbread C125g', 'Sp SoW B Wash 500ml', 'PB Hand Sani 100ml', 'BOO LSck Top Black L', 'Weleda Skin Food 75g', 'Fus Detox 60t', 'SW Rice Prot Nat 1kg', 'Pl Spr Bread Ezekiel', 'NG Fig Org 500g', 'PO Marjoram', 'Bo Jers Wrap Rose 1s', 'NL Joimula Caps 200c', 'Murray Pink Salt 150', 'BergaMALE 60 tablets', 'NO C-Berry Bl 200g', 'MOR BG WMM 200g', 'Max Health WPI 4kg', 'PP Safflower oil', 'Dextrose Mono 2kg', 'Coco Coast Coconut W', 'Springfields Thyme', 'Lauria Florentine Bi', 'Cheeki ins tumbler p', 'Mel Balsamic Vin 250', 'Lauria Almond Horseh', 'CHE CM Topaz 350ml', 'ORG Ve Easy Egg 250g', 'Boody Cami White S', 'OP Pre workout Straw', 'Sp H Cr Maca 40ml', 'CHE CC Coral 240ml', 'Ls Aloe Juice 500ml', 'Deonat Stik Deo 100g', 'Glace Mixed Peel 150', 'H&B Coconut 250ml', 'PH Atlantic DF 25g', 'Abs Org Beetroot Sl', 'Bo LSleevOnes Ro 3-6', 'PB Clove Bud 30ml', 'HOG Omega 369 200c', 'Spry Gum SMint 100', 'Bf Mac Oil L&C 250ml', 'NG Almonds Sliv 150g', 'FU Pain Relief Gel', 'Tri Sage 10ml', 'Bal Nat Plnt Pr Ch1k', 'Bc ArmaForce 60t', 'Sp Ezi Breathe11ml', 'PB Smudge stick sm', 'Jama Deo Vanilla Ros', 'Par Olives Kalamata', 'Bc NuroSAMe Plus 60t', 'Mel Cast Ref Or 500m', 'NT Coll Silver 500ml', 'Bon Henna Br 100g', 'Spatone 28', 'Tri Clove 10ml', 'Tri Geranium 10ml', 'DG Moisturiser Med d', 'Eagle Vitamin D3 50M', 'Bon PruneAll Spd 375', 'DV WPC 400g', 'ON Amino Energy Wate', 'PRA PPP Fr Van 3kg', 'Silicea Capsules 30', 'CHE ICB Pink 600ml', 'Moogoo Bmboo Toothbr', 'SD Drk Choc CherCoco', 'Sp Tamari Org 250', 'DG Found fair sunris', 'SS Incence Holder Wo', 'Nat Spelt Hot X Buns', 'Bm Executive B 28tab', 'ZD Chocolate 475ml', 'HOG MR LL 300g', 'Boody Tank Top Bl L', 'PS TigerNut Flk', 'Bm Cod LO 1000mg 80', 'BOO Parop Bra Blk XL', \"EN Cholestrienol 30'\", 'GN Gr Vit C 100g', 'HOG Collagen 30c', 'Org BWheat PCake Mix', 'Ng Walnuts 1kg', 'PO Or StJWort 25tb', 'Fus Cough Lung 100ml', 'BT Orange Bloss 250g', 'NV Fish Oil OL 200c', 'Mandalas', 'Oregano Oil 30 Caps', 'NS R Clover 100c', 'BC Echinamide Burst', 'PRA PF PH 1kg', 'Niulife MCT Oil 500m', 'NP EK Gorilla Munch', 'Pr Throat Clear Orig', 'PNO Bloss Herb 25tb', 'Naturebee 200c + 1 S', 'MEL HS F Oil 200ml', 'Ko Seaweec OOil', 'CLO Lemon Burst soap', 'NG Raisins 250g', 'H/H Sting Net T Bag', 'GVC Mask 3ply', 'HOG Mag Forte 120t', 'SE Celtic Salt F 650', 'WWN W CVP 1kg', 'HOG Child Imm 60t', 'Top BCAA + Adv 500g', 'Am RAW Prot Va 500g', 'BD Protein Peanut', 'Alch Avo Cal Con 500', 'DV WPC 4Kg', 'NR LSA 1kg', 'Gallexier 250ml', 'CF Vanilla Bean Soap', 'Mel Flax Oil Org 200', 'Jun Teen Exfol 100g', 'Ozg Mayonaise 500g', 'Pukka Tea LemGingm', 'NL Org Mag 120t', 'Ng Oats Org 1kg', 'H Mix Digest 200ml', 'BM Olive Leaf 200ml', 'Pukka Tea Elderberry', 'Bo LSleevOnes Sk 0-3', 'Bc Acetyl L-Carn 90c', 'PO Basil', 'NS Tofu Spicy 200g', 'Wel Salt T Paste 75m', 'M Org Spirulina 500t', 'AMA RAW Paleo 500g', 'MH P2- Detox 160g', 'Hi Va Liquivita 500', 'Bc Adrenoplex 120ca', 'EnerC Raspberry Vit', 'NS Hawthorn 100 Caps', 'SC Thyroid Book', 'Abs Org Pineapl 350g', 'M Org Spirulina 250g', 'LL EssOil Frank 15ml', 'NO B Broth Orig 100g', 'CG Barley 200g', 'Mh Echinacea Bl 500m', 'Harmony Soap Lemon M', 'WWN VAFP 360g', 'Wel Alm Face Cr 30ml', 'THO AshComplexDay 60', 'NO ChikBBroth HomeMu', 'Tulsi Inc strawb', 'Eag GlucoSupport 120', 'Am RAW Slim Van 500g', 'Glace R Cherry 150g', 'NO CollgenBuild 450g', 'CK Mint Bar 80g', 'OR chia seeds 500g', 'DrB Cast Rose 140g', 'Am Kom M Gr 330ml', 'BF GF Porrij 400g', 'HSF Salt Lamp M 3-5k', 'Fl Remotiv 60t', 'Bc UC Krill 60c', 'Boody M Box Gr M', 'PO Or Ginger 25tb', 'Noble Jerky Hickory', 'FOR GF Mue spr 350g', 'DrB Castile Alm 946m', 'Ever Eco Bento snack', 'Power Cacao Nibs 125', 'NatWay Choline 500mg', 'Wel SeaBuck Hand Cr', 'Mel Macad 250ml', 'WWN V ProChoMalt Ble', 'Wheatbags L Waratah', 'EPBentoniteClay 250g', 'JC Ult Night Cr 50ml', 'Org Rice & Corn Past', 'Bon Date Sprd 375', 'HOG Nia 100mg ER 60t', 'CK Coconut bear', 'Te Car Nut 10 Bag', 'Bo Bean+Boot Sk 0-3m', 'NA Rubber sooth rd', 'Lot Wheat Br Un 300g', 'HB Ramen Noodles 270', 'Vital Prot Van 1kg', 'Byron Bay Chick Brot', 'Me Sheep Yog 1kg G', 'HOG Biotin 60t', 'Gutsy Kraut Smoked G', 'BD Choc Orange', 'Rosa Scarless Healer', 'MooGoo Soap BMilk', 'RO Coc Oil 330ml', 'Nt Org WM Spelt Brea', 'Sc Nail Groove Is In', 'Gr Superfoods 450g', 'M&P Cr Thuja 100g', 'Lotus Fibre Clense', 'CLProt Straw 20g', 'DG Eye Shadow Summer', 'Bf GF Apr 350g', 'CHE AS WBO 750ml', 'Bc U M Eze 360g', 'CG Org Ol Oil 500ml', 'HFA HP Choc 420g', 'Lot QuinoaRedOrg 500', 'Mg Soothing Moist', 'HOG St J Wor 30t', 'Lot MilletFlakes 375', 'GVC Washing Soda 1.1', 'BCR Axilla DP 75g (S', 'PBC PrBread Mix 660g', 'LE NAC N-Acetyl-L-Cy', 'SB5 AC ABCM 150ml', 'Lotus Spelt WM Fl 1k', 'Ess Ear candles 4pai', 'Alch Rmary Spoo 225m', '2die4 Mix Nuts 120g', 'THO Hedr unflav 450g', 'NV Mar Calc + 120c', 'Bo Socks Ch/Ro 6-12m', 'HOG BurnX 60T', 'DrB Cast Cit Or 59ml', 'Car Org Honey 500g', 'CHE IWT PC 220ml', 'OR WW Flour 1kg', 'Bon Henna Clear 100g', 'BC Sharp White Chedd', 'Pr Melatonin 90t', 'Env Body&Hair 1l', 'TE Turkey Tail 50g', 'Mel Tahini 375g', 'OZG BBQ Sa 350ml', 'CHE Coffee Lime240', 'PO Fennel', 'Mel Cod Liver 500ml', 'AMA RP PP Ch 500g', 'NV Prem ProBiotic 30', 'Del Tealight Mademoi', 'NES Marine Coll 280g', 'CHE CC Topaz 310ml', 'Chia Co White 150g', 'Arborvitae Cognitive', 'NR Linseed meal 400g', 'PLV French Onion Cas', 'Bc MSM 1000 120c', 'SD Peanut Choc Caram', 'Bioc Vitex 60c', 'Tulsi Insence', 'Sp SweetOrangO11ml', 'NR Soother Large', 'Bal Nat Whey C 2.8kg', 'CF Blueberry Soap', 'Th St J Wort 60c', 'PR Potassium 99mg', 'Fus Gluc Adv Rep 120', 'End Perf LL 2kg', 'Lotus Semolina 500g', 'Prot Bread Mix 330g', 'Bm Digest Aid 60t', 'NO Collagen bar salt', 'H Mix Skin 200ml', 'Eco Min Blush Dreamt', 'PB Jojobo 500ml', 'Bc UB Pregnancy 60c', 'Et Heali Kiwi Sh', 'Klean Kanteen 355ml', 'CHE IT RP 500ml', 'Alch Rice Shpoo 500m', 'PB Pennyroyal 10ml', 'Moogoo Lip Blm Honey', 'TE Schizandra 50g', 'Harmony Soap Pepperm', 'BC Folinic Acid 120c', \"Bon Gel Cap '00' 100\", 'DrB Lip Balm Naked', 'MooGoo Blem Cl Mo 75', 'HSF Salt Lamp M 2-3k', 'NL GluM JFood Un 1kg', 'CLProt Nat 1kg', 'Boody Bikini Bl XL', 'Venerdi Paleo Bread', 'NG Licorice Pieces', 'Pep Beef Gel 500g', 'Sp Patchouli 11ml', 'Eloa AV Lime', \"NG Grande' Mix 1kg\", 'Fus Gluc Adv Rep 60c', 'Bm Ech Ace+zinc 60tb', 'BB Mues Gl Free 350', 'CF Ban + Coco Soap', 'HOG L-Glutamine 120c', 'BD Apple Pie', 'Sp S Wom Bod But 240', 'BP UMF5+ MHoney250g', 'Bm Bio C 125g', 'X50 Broc Ch Salt 60g', 'NV Arnica 30c 130t', 'QuePasa OrgSalsa Med', 'Boody 3/4 Scoop Bl M', 'BergaMet Pro + 60t', 'PO Or Echinacea25tb', 'Jun Nurtur Oil 100ml', 'Lot Rapadura Org 375', 'KF LL Eng Org 50g', 'Bm Cold Combat', 'Niulife MCT+PowPowdr', 'Alch Rmary Spoo 500m', 'NO Berry YUM 30g', 'Et Damage Contr', 'Fus Blood Sugar 60t', 'ALO Aloe Gel 100g', 'ABN Royal Jelly 1000', 'Eco Min Concealer Me', 'HOG CoQ10 30C', 'RWC 3 Seed beet crk', 'CHE Inn SS Bot 600ml', 'Mel Ses Oil 500', 'Livatone+Tum 120c', 'BNV Blh Chic Ins 70g', 'NIU MCT+PPNBBCO 350g', 'AF Mandarin good 100', 'NG LSA 500g', 'M&P CrComfrey 20g', 'PNO Dand Root 100g', 'Nl Gar+C HR+Hist 50c', 'Bf Macad Oil 250ml', 'VEGO Choc Spread', 'CJ Black Cherry 325g', 'NG Msl Prm Tst 750g', 'NT Coll Silver 1l', 'Boody Cami Nude S', 'DV WPI 400 Grams', 'Mel App Cid Vin 2l', 'Ateronon 30 Caps', 'ABC R Hip Pdr 500g', 'Fus Astra 8 100ml', 'Boody Cami Black M', 'Mad Millie Kombucha', 'DrB H Soap Pmin 710m', 'DrB Cast Ch Bl 946ml', 'M&P Nat Sulph 125', 'Herb Party Sausage R', 'Sp Calm Kids 11ml', 'SE Celtic Salt C 650', 'GoodGreen Stuff 750g', 'Mh S Palm 500ml', 'LE Mint Dark Ch 80g', 'Korean Nori Snack', 'KIN Macha Green 25tb', 'Boody Boyleg Bl ML', 'Sp Rejuvenate11ml', 'MMCV Vegan Basil Pes', 'Bee-Power Honey Pops', 'DrB H Soap Lav 355ml', 'Jun Calm Mask 100g', 'Fus Gluc Adv Rep 50', 'ALO Alr-Digest 500ml', 'Sweet Nectar Balls', 'Br Paw Paw 25g', 'NIU OV CMPCGDF 200g', 'Mel App Conc 360', 'EM Splendedevour', 'Bass Dry Skin Brush', 'PRT Kids Gum MV 60s', 'GN Wheatgrass 200g', 'CLProt Nat 20g', 'Pro Grass Fed Van', 'AbsOrg Th Raisins250', 'EN Fish Oil Kids 90m', 'Sp Grlc/Bsl Sugo g/f', 'PO Or Rooibos 25tb', 'Eco Tan Super Citrus', 'Bo PullShort Ro 3-6m', 'Eco Tan Super Fruit', 'PR Black Elder 180', 'THO Mad Relief 200ml', 'Mel ABC Spread', 'Pill Cutter', 'Lotus Arrowroot 250g', 'Bc Ultra MEase 180g', 'TON PeBlond 6R 120ml', 'CLProt Straw 1kg', 'Bm Executive B 62tab', 'M&M Bone Broth Natur', 'Pukka TSelection Box', 'JC Foam Cleanse 125m', 'Eco Body Wash 500ml', 'HOG Bulg Trib 120t', 'LL Aroma Swell', 'Naturis Org Lt Rye', 'Bc UC EPA/DHA+ 120c', 'Herbisaurus SauRoll', 'Bo M Bus Soc Bl 6-11', 'BB ButterCrmVan SCan', 'Bl Rosehip 200g', 'DV WPI 4kg', 'PF Lo Carb mash', 'Kfibre 100g', 'Br Arnica 60t', 'PRA PPP S/Car 1Kg', 'LE Dark Choc 30g', 'Vegesorb 250 Grams', 'Fusion Mens Multi 60', 'Fus Stress 60t', 'Br Paw Paw 75g', 'Fus Fish Oil 120c', 'Vegan Soft Candy', 'Chia Co Black 1kg', 'Eco Min Perfect L Be', 'PB Breathe 10ml', 'PR  L-Tryptophan 60c', 'Insect Repellent', 'HOG Quercetin 60c', 'BP A ManMGO 263+250g', 'RS TPaste Smok 100g', '2die4 Almonds 120g', 'SB5 ACSPM 100g', 'Mh Boswellia 60t', 'Evo FMist Beach100ml', 'HOG Child Calc 60t', 'Tri Hand Cream 100mL', 'Boody Cami Wh M', 'Bm Sust Rel C 200t', 'GVC Neckl Gem assort', 'BB Mues Al F Pr 450g', 'PO Paprika', 'Fl Calc + Mag 250ml', 'NB Sweet Pot300', 'NR Plnt Prot Van 1kg', 'Oplex Zymin 200ml', 'Bo Sh Cr Bra Nu SM', 'Boody Bikini Wh ML', 'MER MCro Rapid 500ml', 'MBC Raw Milk 1.5L', 'Glace Apricots 250g', 'Tri Tangerine 10ml', 'Jama Deo Paste Peper', 'Eagle Tr B 150tabs', 'Sp CedarwoodO11ml', 'Mel Cashew Spread', 'Wel Pom Day Cr', 'NG Cashews Raw 1kg', 'ML Dan Detox 25', 'Me Sheep Yog 1kg B', 'Jungle Balm 50ml', 'Walker Wellbeing Kri', 'Orgran Pln Flr 500g', 'DV WPI 1.5kg', 'Alch Unsc Cond 225ml', 'GV SB Black 700ml', 'Floravital 500ml', 'Orthplx Lymp + 60 T', 'NS Fenugreek 100 Cap', 'GP Supergreens Colla', 'CLProt Straw 500g', 'Hh Dand Root 100g', 'SIL Si One a Day 30c', 'PO All Spice', 'Coyo Yog Van 300', 'Ton 4RR 120ml', 'Pana IceCream DbleCh', 'DW Salt Lmp Sphere6', 'ET Tan Applicator', 'Bc D3 Drops 20ml', 'Pow SwCacNib 100g', 'Lotus Or Besan Fl500', 'LE Camu Camu 150g', \"Org Buckwheat O's\", 'Am RAW Prot Va 1kg', 'End Low Carb GB 128g', 'GVC Peaz Bites 110g', 'DrB Cast S & J 59ml', 'Alkalife Water 1.5L', 'NS Xylitol Birch 500', 'Eloa Aloe mango 500', 'X50 GrnTea Mango 30', 'Pro Grass Fed unf', 'MooGoo Oil Cln C 100', 'Org Selfies 150g', 'Boody Bikini Nu ML', 'EN Mega Mag 200g', 'Ateronon Male Fertil', 'CHE SSe Silver 1.6lt', 'PO Dand Leaf 25tb', 'Bergamet Sport 60t', 'Bon Dand Fine 175g', 'TEM Caul Puffs KP', 'MRM Org Moringa 240g', 'Agna IS Smudge Stick', 'Ng Superbeet 500ml', 'Ju NailVar Various', 'MG Anti Age Cr 75g', 'HOG Child Multi 60t', 'NN Arctic Cod Liver', 'Niu Cr Coco 500g', 'Tri Rose Ger 10ml', 'Mojo Act Ging 450ml', 'NO B Broth Herb 100g', 'LE Buckinis Car 400g', 'Bo Socks Ch/Sky 0-3m', 'MH Mung beans 500g', 'Honey Leatherwood 1k', 'CoYo Ice Cream Choc', 'N-Zimes 90t', 'No Co Bi Bar Gin 45g', 'Flat Out Baby Rosie', 'Boobie Brekkie Apple', 'PR Lions Mane 120c', 'Pukka Tea Ch,Va&Man', 'CoYo Ice Cream Nat', 'LL EssOil Elevate 15', 'Bo Pullon Ch 6-12m', 'Sp Citronella 11ml', 'Or  Lasagne 200g', 'PRG Org PPBU 150g', 'Bon Psyllium 1kg', 'JC Ultimate Duo', 'LL Ess OIl Relax10ml', 'Fus ActiViral 30c', 'Jun Sen Moist Lot 50', 'HOG Digest-Zyme 60c', 'NO Golden Latte 90g', 'Crm of Mshrm Sp 400g', 'BIO UltraBi 500 7s', 'Spry Gum Cinn 100', 'Lot Pepitals Org 500', 'Vital Greens 120g', 'Ls Aloe Vera 60caps', 'Jun Cam Face Ex 100g', 'Et Sweet & Spic sham', 'Bc MGest Enz 180c', 'HOG EPO 1000mg 200c', 'Tr Boost Red', 'PRA PPP Van 400G', 'Org Vege Rice Pasta', 'Bioc Ult Pot Ch C', 'Walker Wellbeing Ubi', 'Bm Odrles FshOil 400', 'NS Dandelion 100c', 'WWN V SCP 400g', 'NG Alm Tam 500g', 'BBik Oat&Van 300g', 'PP PC Flour Mix 340g', '2die4 Pepitas 250g', 'Perfect Sweet 225g', 'BC womans ess 120c', 'Fus Skin Tonic 60c', 'Esk FNut But Sm 450g', 'Fus Probiotic 30c', 'OrgRice Pasta Spiral', 'Max Health WPC 4kg', 'Lotus Agar Agar 75g', 'Salt Lamp Cord', 'LL Ess OilProtection', 'Ethique St Clements', 'SS Incence Resin', 'LL EssOil Lvndr 15ml', 'M&P Comb Q 125 Tabs', 'FUS Cuumin Adv 90SGC', 'QuePas Or Salsa Mild', 'Bm Valerian Forte 60', 'DoggyL HipJointCoat', 'Et Sweet Orang BWash', 'MG SPF 40 200g', 'Bm Lyprinol 100c', 'Pompom PancakeMx235g', 'UVN Sport 30+ 125g', 'Nir Stevia Car 50ml', 'BM Garlic 3k 60t', 'RS T Paste Nat 110g', 'CK Bar 80g', 'Floradix 500ml', 'Flat Out Baby Choc', 'BP Or Raw Honey 500g', 'Lot Quinoa Flour 500', 'WEL EPBody Oil 100ml', 'MG Ecz Ps Cr *Orig*', 'LIF Naal Vitamin 90C', 'DrB Cast G Tea 59ml', '2die4 Almonds 300g', 'Incense Lily', 'NR Whein Isolate 1KG', 'Grants Crys Deo 100g', 'Pukka Tea Vanilla Ch', 'Bf Tst Apr 1.5kg', 'Bm Lyp-sine 30tab', 'Bo MWrap x 2 Rose', 'Br B+C Cough 100ml', 'Tri Preg Oil 100ml', 'Idlewilde Eggs 700g', 'Env AllPurpClean 750', 'Jim Liquid Ccnut Oil', 'TP W Hazel 100ml', 'Bon Prune Juice 750m', 'LL Dune Marble', 'Fus Constipation 60t', 'Bc UltBiotic 45 60c', 'HV Stress 100 tabs', 'M&P Cr Hamamelis 20g', 'LIF Nal Calcium 120C', 'TE Maitake mus 50g', 'Lotus Banana chips', 'Ns Artichoke 90c', 'Bm Omega Brain 60c', 'M&P Comb K 125 Tabs', 'BOTB BBCwML MR', 'BC AvoOil Cl SeaSalt', 'KF Mnt Burst 25s 50g', 'DrB HB Lot Pat 237ml', 'MG Lip Balm SPF', 'Fus Milk Thistle 50c', 'RHip Vital 250c', 'PB French Lav 10ml', 'Aroma Lily Pink', 'PB Turmeric 10ml', 'Top  ZMA 250g', 'Ng Cherry J 1L', 'Top Premium Van 1kg', 'Wel Citrus Deo 100ml', 'Tri Lemon 10ml', 'BioBeet Tumeric Rene', 'MP Heram Nettle 100g', 'Chia Co Black 150g', 'HFA AG HS 800g', 'TSB ZechMag OS 125ml', 'HOG Ch Probio15B 50g', 'Jun Oil Bal Clns 125', 'WEL SF SkFood Glow', 'PR Chlorophyl 200c', 'Mel Sod Ascorb 125g', 'Bm Women Vital 100t', 'CF Mandarin Soap', 'BOO ShapCropBraBlM', 'PNO Goldenrod 50g', 'Te Van Nut 312g', 'Lotus Buck Fl 500g', 'PL Sprout Bread Spel', 'NByron Veg Mayo 435g', 'Am RAW Pre-Pro 120g', 'Hills Honey 1kg', 'Pukka Tea Relax', 'FUS Vit C 1000 Ad 60', 'NIU CB VanBean 35g', 'Fus Ginkgo 6000 60t', 'OR Pepitas 500g', 'Eco Tan Eye Compost', 'PR T1000 100c', 'DB 5-HTP 180c', 'OGO Quin BR Am Penne', 'NG Chic Peas 500', 'GF Anzac Bisc 240g', 'SPF Vetiver 11ml', 'NV Prem Mag Comp 50T', 'DrB Cast G Tea 946ml', 'PB 50ml Spray bottle', 'Tiger Balm Red 18g', 'Sp Shiro Miso 400g', 'Vegesorb 100g', 'Opt Pre WO GApp 300g', 'Coyo Yog Mango 500g', 'Bo Pullon Sky 6-12m', 'TP TT + Av Spra', 'Sp Sandalwood Au5ml', 'OR Cinnamon powder', 'Lot Millet Puff 175g', 'NS Marshmallow 100c', 'BD Pal Bar Cac M 45g', 'NV Mag Phos 30c 130t', 'JC Baby Oil 100ml', 'KOA NW Tea 20tb', 'Aloe Vera Aloe Jelly', 'BOO Mert Li Marle XL', 'BOO Midi Brief Blk L', 'Maca Power 200 Grams', 'LL 15 Day Weight Los', 'PR Cinnamon 200c', 'Proper Crisps C Pepp', 'Top BCAA 500g', 'Alch Ylang Spoo 500m', 'EVER ECO S/Steel', 'DG Moisturiser Mediu', 'BRR Chns Sleep 100ml', 'NP EK KoalaCrisp 325', 'Oregano Oil 25ml', 'Nv Zinc Comp 60t', 'SJ TP Orange 75g', 'BC Hickory Barbecue', 'HOG Alp Lip 60c', 'THO Skir & Nails 90c', 'Boody 3/4 Leg Bl L', 'NIU CB Esp Latte 35g', 'NB Trav Friend 30ml', 'BM Troat Loz 24t', 'DrB H Soap Smint 355', 'Livatone+Tum 240c', 'TN Taurine 100g', 'Hex 14 Incenc', 'Gra Calen Cream 120g', 'Sp Love 11ml', 'EAG VeDigestaid 90vc', 'Ton 1N 120ml', 'Cheeki Mug Chocolate', 'EN Bone Build 180g', 'Lotus Bi Soda 500g', 'OR Pepitas 1kg', 'Deer Daisy Card', 'HOG Selen Max 60c', 'Am RAW Prot Nat 1kg', 'NV SAMe 30c 130t', 'Hills Honey 500g', 'Pukka Three Chamomil', 'Babushka Kefir 500g', 'FH Hair Tonic 120c', 'Th Gink 6000 60c', 'ML Cocnut oil Ex Vir', 'NL Kyor Extract 120c', 'Jade Facial Massager', 'Eco Min Masc Choc', 'DG Min found dark mi', 'BB Drink Bottle 2.2L', 'Orgran No Egg 200 Gr', 'Na Soap Lavender', 'PL Sprout Bread Rye', 'Fus Curcumin 60c', 'Am RAW Greens 120g', 'DrB Cast T Tree 946m', 'Lotus Moringa Powder', 'PR Potassium iod', 'Lucas Paw Paw 25g', 'Bass Hair Brush', 'Ton 4N 120ml', 'NR ABC Spread 240g', 'Tilley Bath BombLemo', 'LE Buck Ber Cac 400g', 'Boody Boyleg Wh ML', '2Die4 Hemp Sa Map', 'PR Biotin 10k 90c', 'Smart Diet Apple Pie', 'Pukka Tea Turmeric G', 'M&P Comb P 125 Tabs', 'Fus Green Tea 30t', 'Bm Bio C Chew 50t', 'BC Liquid Iron 200ml', 'Tri Patchouli 10ml', 'ARG 5. Brown Natural', 'Natural Rubber sooth', 'CF Jojo BMilk Soap', 'CK Coconut bar 80g', 'THO AshComplexNgt 60', 'Pukka Tea Cleanse', 'Anthogenol 100c', 'Am Kom M Gr 375ml', 'GH Milk Thistle 500', 'Hp Spirulina 200t', 'NR Sunflower Kern 1k', 'Tri Lime 10ml', 'Pow Cacao Powder 1kg', 'LZ Dk Ck Coco 85g', 'Boody F Brief Bl M', 'Bm Hr Gar + C 90t', 'Bl Chamomile 40g', 'Sp Van Body Oil 150m', 'Nv Flax Seed Oil 300', 'BB Mues Paleo 500g', 'Boody G-Str Nu ML', 'TN AO Seedy Mix', 'My Magic Mud Oral Ri', 'NG Walnuts 250g', 'NG Prop Anis 200g', 'Kit Clean Air', 'NV Sleep Formula 60t', 'Olive Ext Pepp 500ml', 'Mel Avocado Oil 250m', 'Sp MRoom Ramen 88g', 'NG Wild Yam 100g', 'ON 100% Whey Bannana', 'PB Shea Butter 100g', \"NV Infant's Probioti\", 'Jama Tonka Bean', 'PLV SK SmkdChil 635g', 'HOG Bulg Trib 60t', 'Sp Vitality 11ml', 'Aroma Mod Hot Pink', 'Aroma Bloom Charcoal', 'MP STS COMB L 125t', 'LE Coffee kaPow Bar', 'PNO Ladys Mantle 25g', 'Eco Sonya Glory Oil', 'PP Insta Coffee 160g', 'COYO Salted Caramel', 'LL Es Oil Wnter Resc', 'Tri Jasmine Joj 10ml', 'Ls Bowel Biot 4', 'BM Womans Vital 100t', 'Sp Org Tom Pst 300g', 'B Shampoo coconut 16', 'BC Ult Mus P5P 120t', 'Tulsi Inc Egypt 20', 'Bl Linden Flower 50g', 'Tilley Bath Bomb Lav', 'BOTB MushrmPwd Blend', 'CHE IKB Orca 400ml', 'BB Mues G Free 700g', 'Flat Out Baby Honey', 'CF Rasp + Marsh Soap', 'Fus Probiotic 90c', 'VIT Gr 1.1kg Doy Bag', 'WEL Why Lotion 200ml', 'Flor Essence 500ml', 'Bc UBiotic IBS 30c', 'Flat Out Koala Lge', 'HOG Child Cold 100ml', 'Boody Tank Top Wh L', 'Weleda Skin Food Lip', 'DG V Lipstick Chia s', 'EM Sup Hemp Seeds', 'Apricot Kernels 500g', 'CLO Coc/H', 'Jim Coc Wraps 6pk', 'Bm EPO 1000mg  190c', 'Br Sleep 20ml', 'DrB Cast Rose 946ml', 'Bm Ech Ace+zinc 30tb', 'GM Rice Puffs 175g', 'BC Armaforce Junior', 'H Mix Stress 200ml', 'NFCips Sweet Chilli', 'Br Teeth Rel 100', \"Fus Kids'Astra8 200m\", 'Gr TPaste Cinnamon', 'Nir Stevia Van 50ml', 'Bm Multi 180 tab', 'Bc CQ10 Ex 150 30c', 'EN Candex 30 Caps', 'Sp Mois Re B Lot 240', 'Bm PPMP 170 Tabs', 'Gr H Mouthwash', 'BB Berg Lemgras SCan', 'Aroma Bloom P White', 'PO Cumin Seed Ground', 'DoggyL Probio Cookie', 'EM Byron Bliss', 'M Org Spirulina 200t', 'BOO Woow Hid Blk 3-9', 'Pre Probiotic45B', 'PO Curry', 'Coyo Yoghurt Nat 300', 'Bal Nat Mass Va 1.5k', 'BB Mues Al F Pr 900g', 'Bm S79 84 Tabs', 'Tri Cedarwood 10ml', 'Blo Horsechestnut 90', 'Jun Ren Clay Msk 100', 'Sweet Nectar Cake', 'Grants AV Cr Deo', 'Organic Spark Coco W', 'Jun Calm Wash 250ml', 'Sp TeaTreeLavend Or', 'M&P Comb N 125 Tabs', 'Fus Zinc Adv 30 Tabs', 'M&P Nat Phos Spr 30m', 'Top Shaker', 'HH KBM 30 T bag', 'TBG Grain Brown Rice', 'Bc Lact + SB 60c', 'Et Bliss Face Cleans', 'Alk Pow Water 600ml', 'Wel SeaBuckthor', 'PRA PPP CocoMylk 1kg', 'WEL WREye Cream 10ml', 'Bm Ech Forte 150tab', 'Boody M Box Bl M', 'NV Act Charcoal 60c', 'Trin RHip Oil 25ml', 'Salt Lamp DW Elephan', 'CLProt Van 500g', 'Prana ProtBar MultiP', 'Pana Ganache Maple', 'NL Liver Guard+ 100c', 'NG Lntl Brw 500g', 'BT Tongue Cleaner', 'BD Lamington HndBake', 'Chandan 20 (Hex)', 'Bc D3 240c', 'NV Str + Anx 60t', 'BE IV F+Liquid 30s', 'MG Eye Ser Vit C 20m', 'NO ChixBroth Origina', 'Pure Bliss Camphor', 'Br Calm Spray 20ml', 'PRA PPB VC 60g', 'Lucas Paw Paw 75g', 'PO Chilli Powder', 'Luml Org SwChili Sau', 'NS Tem Burg 200g', 'JC Disc Jojo Xmas Pk', 'Trin Harmony Blend', 'PLV Kefir 375ml', 'OGO Amar/Rice Spagh', 'Lot Rye Flour Org 1k', 'CHE IWT RB 320ml', 'Sp Frankince 5ml', 'Bc UM Energy 240g', 'GF Salmon Brine 120', 'Sp Tamari S/r 2', 'PB Aloe Gel 250g', 'Nutrisoy Tofu 350g', 'Bc Lipoec 400 60c', 'HFA HP Van 420g', 'MooGoo Lip Cow Lick', 'ENV Laund+PSoak 2kg', 'RS T Paste Prop 100g', 'Fusion Hair Tonic 30', 'NS Dong Quai 100c', 'LE Dark Choc 80g', 'BCR Axilla DP BB 75g', 'Eco P Salt Scr 250ml', 'Perfect Sweet 1kg', 'Rap White Choc 190g', 'Tropeaka Matcha Tea', '2die4 Cashews 300g', 'LU NDM 100g', 'HOG Parastrike 84t', 'GF Tuna Brine 125g', 'Nv Mega B 120t', 'Bc Ubiquinol 150 60c', 'PO Or Green 50tb', 'DrB Cast G Tea 140g', 'Drb HandSan Peppermi', 'Pana Orange', 'Fus Calc Adv 60t', 'Trin Sugar Scrub 500', 'DrB H Soap Unsc 355m', 'DJA Crispy Brocolli', 'Fus Dermaheal 50g', 'MG Ant Age SPF15 75g', 'Marigold Green 150g', 'HOG Calcium K2 90t', 'HOG Slip Elm 60c', 'Raw C 330ml', 'Pukka Tulsi Clarity', 'M&P Comb J 125 Tabs', 'Herbanica Vasguard', 'Lot Linseed Meal 450', 'LLEssO SenstvCh 15ml', 'Fus Wom Bal 30 Tabs', 'NG Ses Seads 250g', 'NIU Coco NCAS 250ml', 'CHE IKB Shrk 400ml', 'TP Acne Gel 25g', 'NG Mango Aus 100g', 'ZZ - ABC Bod Lot 250', 'NV Ult SB 5 Bill 60c', 'NL Grape Seed 120c', 'NV Curcumin 120c', 'JC 100% NCOJ 100ml', 'Nf Slot Spatul Green', 'CLO Pasley Soap 150g', 'Byron Bay Beef Broth', 'HOG Probiotic SB 60c', 'Bonsoy ALMOND Milk 1', 'SPF BS Col Tr 350ml', 'Theracumin Tripple 6', 'Greek Oregano flakes', 'Lotus Carob Pdr 250g', 'EnerC Orange 12s 100', 'Fusion CoQ10 150 60', 'BC AdvaCal Forte 90', 'DG Lip Gloss Sun Sho', 'Eco Min Kabuki Brush', 'Bm MP 65 170t', 'SL C/Gum 30p Spear', 'Org Ck Mx Vn 375g', 'M&P Kali Phos 125 Ta', 'Blue Dinosaur Prot S', 'SC LemMrt hand soap', 'Lot Yeast Shake 145g', 'Hp Spirulina 1kg', 'H2G Chick Peas Org 5', 'Pow Goldenber 225g', 'Spry Gems Berry 40', 'Sp Peppermint 11ml', 'WEL Pom B Wash 200ml', 'Ng Apricots 250', 'Eco Min Flawless San', 'Green Calcium 240c', 'PSF CO Maca Pow 250g', 'Cheeki Tumbler ocean', 'PRG OrgPl MRC 700g', 'NL Super Calcium 250', 'Orgran Falafel Mix 2', 'Sweet Nectar Cups', 'Fu Calc Adv 120t', 'Bc Liposomal C 100ml', 'CoYo Yog Nat 500g', 'NR Oat Bran 400g', 'NV Prem Mag 200t', 'Smart Diet Mango Cre', 'Ols Salt Fine 250g', 'Org SR Flour GF 500g', 'NZ KGS Van Car', 'PO Or Wintime 25tb', 'Green Calcium 250g', 'PA Ice Cream TP', 'Nv CoQ10 150mg 120c', 'BOO Ack Sil Thread S', 'BB LychBlckT SCandle', 'SB5 Clear Skin SB', 'Holle Inf For 2 600g', 'Ozg Tik Massala 500g', 'HOG Ginkgo 6000 120c', \"Zero 'Rice' 350g\", 'DG V Lipstik Maca Nu', 'ON Amino Energy Pine', 'H Mix Liver 500ml', 'TP T Tree Oil 10ml', 'MooGoo Acne Cl Cr 75', 'BRK Nuty Granola 1kg', 'TP T Tree Oil 50ml', 'HOG CultureCh500ml', 'Smart Diet Bar Latte', 'DrB Cast T Tree 237m', 'Bragg Ap Cid V 3.78l', 'Harmony Soap Tea Tre', 'Org Primavera', 'BD Pal Bar Mac L 45g', 'WWN PCPW 250g', 'CH LivaTon Shot 60', 'BRK PCW SS 70g', 'BER AMHoney Loz 30pk', 'QC Life Change cook', 'Trinity Vanilla 10ml', 'Jama Refill Spice', 'Org Rice Cr All Purp', 'Wel Nappy Cream 75ml', 'Boody M Box Gr L', 'FF Blk Rice Quin 125', 'Kin Formosan Blk 32', 'LZ Carob Buds Orange', 'Kit Sleep Spray', 'GN N Ast DS 12mg 20c', 'HP Spirulina 450g', 'BOO Mii Brief Nude M', 'Pure Bliss Menthol', 'FL Pearl Barley 350g', 'Lewis YogFrogs Sbery', 'Mango Box 4 drawer n', 'En UTS 90 Tabs', 'Incense Gift Exotic', 'Lot Rice Bran450', 'GVC Organic Matcha', 'Korean Seaweed seaso', 'BB Kakadu LuxSCan185', 'NG Pist Kern 150g', 'GVC Amber Neklace', 'NV Methyl B12 100t', 'CH Coloidal Minerals', 'Icelandic still wate', 'Pow Cacao Powder 250', 'THF Cashew kimchi', 'Bl Peppermint 80g', 'NES Grdrolysate 450g', 'OT Choc Licorice', 'Niu Coc Clarity 500m', 'DG Kabuki brush', 'BC UltraClean 85 60', 'Kintra Turmeric Gold', 'MMMCharcoalFlosspepm', 'PO Parsley', \"NS P D'Arco 100c\", 'ARG 5.02 Warm Coffee', 'Eagle SB Forte 60c', 'Pure Bliss Pine', 'NG Alm Tam 1K', 'Muso Kuzu 100g', 'PRA PPP S/Car 400g', 'Tulsi Incence myrrh', 'OR Rolled Oats 1kg', 'Naturebee 400c + 2 s', 'HOG Zinc + C 100g', 'BC Alpha EFA 60c', 'LE Maqui 150g', 'KS Br Rice nood', 'EN Mega Zinc 60t', 'WEL Luxe Show Set', 'LWood Pomegr C 370', 'NV Fish Oil OL 400c', 'Grants T/paste Green', 'Bl Dand Roast 100g', 'SPF BS Normal 350ml', 'CH Metabocel 90t', 'BNV DaBlend Fine 1kg', 'GluFreedom PizzaBase', 'Jun Teen Clnse 125ml', 'Melrose EssReds 120g', 'Bc InNatal + Iron 90', 'Deliver 3km', 'HOG Ginkgo 6000 60c', 'Perfect Sweet 2kg', 'YP Chlorella 120g', 'CC HW Lavender 300ml', 'Nl Gar+C HR+Hist 100', 'GM Kelp Noodles 454g', 'Eco Tan Nat Sunscree', \"HOG StMary'sThis 60t\", 'Fl Femular 30t', 'Bo Jers Wrap Chlk 1s', 'Bc U ME FB 360g', 'Bm Bio Zinc 84tab', 'Fus Energy 60 Tabs', 'KMax Ging Lime 500ml', 'LE CM Choc 30g', 'GN N Ast DS 12mg 60c', 'NR Almond Spr 240g', 'EZ Bth Cr Relax 900g', 'NG Almonds Bl 150g', 'GVC Handmade Bag', 'CJ Golden Peach 325g', 'Lts Org Pot Stch 1kg', 'PRA PPB CB 60g', 'PO Or Lemgras 25tb', 'DrB Cast Pepp 140g', 'Et Frizz Wrangler', 'Lot Spel Fl Roll 250', 'Sel Epsom Salts 1kg', 'Sp Tamari 250ml', 'GH Turmeric 500ml', 'Tri Foaming Cleanser', 'WWN VC VP 1kg', 'Mv Coffee Esp 250g', 'H Mix Olive 200ml', 'Ng Almonds Tam 150g', 'Fus Astra 8 200ml', 'DJA Shitake Gar&Chi', 'ARG 7.30 MG Blonde', 'NR Brown linseed 500', 'TN Pecans 150g', 'EM Fm Friendly 240g', 'BOB BBC OIHG 350g', 'NO Joint Colla 450', 'Boody Bikini Nu SM', 'MooGoo Tail Swat 200', 'Flat Out Bear Rosie', 'ON 100% Whey Cookies', 'Udos Oil 500ml', 'GRA Kiste Bberry 75g', 'WG Cruad Mix + Yeast', 'Alk Pow Water 1.5l', 'FTN Ch Cake Mix 400g', 'NO Ac Ber Blend 200g', 'ALO Alng-Clean 500ml', 'Pana Eighty 45g', 'Amb Dry Sham Blonde', 'ET Purple face mask', 'Cabot Fatty Liver Bk', 'Par Olives Green', 'Pow Cacao Gold 225g', 'BOO BTS CSS 6-12', 'Homo Arnica 200c 10g', 'TP Nurture Oil 60ml', 'Ivys Ladies Fasion', 'BC Ubiquinol 300mg30', 'ARG 6.50 RR Natural', 'EN Magnesium 120', 'Castile Orig Refill', 'JUN Vit C Nt Ser', 'NV Milk Thistle 60VC', 'HOG Ech 2000+ 200ml', 'Olive Ext Nat 200ml', 'NR Plnt Prot Ch 1kg', 'Ng Delux Mix 250g', 'Lakewood Pinapl 946', 'H Mix Anxiety 200ml', 'K Sorghum flour wht', 'Mel WNut+Cash S 250g', 'GVC Epsom Salts 3kg', 'NO Sup Gr + Red 180c', 'DrB Cast Euc 140g', 'OT Butter UNSALT 250', 'Org Blueberries 500g', 'Tri Clay 2 Pink 45g', 'MDr RapLift Mask 40m', 'NR Festive Cake Mix', 'Glace Ginger 250 g', 'Lot Quinoa Puff 180g', 'Bm Vit D3 200 Caps', 'NV St Johns Wort60VC', 'OB Fennel Tea 50 Bag', 'Org R&C An Pst 200g', 'OR Cocnut Flour 400g', 'Env Disinfectant 1L', 'RS T Paste Lem 100g', 'NR Wheat Germ 650g', 'Foleys Org raw Sauer', 'NL Glut Fd Conc 300g', 'Hg Gout Rel 60c', 'Bm Odrles FshOil 200', 'PO Fenugreek', 'Motion Potion 250g', 'PR ACV 84c', 'Alch Ylang Spoo 225m', 'Bo PullShort Ro 6-12', 'BC Avo Salt Pep', 'Bf Nat Cran 1.5kg', 'HFA OHHS 250g', 'ARG 5. Copper Blonde', 'So Sun - Bonbon', 'SweetLife Sugar Free', 'Sp Clove Bud 11 Ml', 'THW MQu Soap GS', 'Melrose EPO Org 200m', 'Herbal Mixture 500ml', 'Bo T-Shirt Sk 12-18m', 'Fus Cough Lung 60t', 'Org Outbak V 175g', 'ON 100% Whey Vanilla', 'Wel Nipple Care 36ml', 'OR Maple Syrup 250ml', 'WWN GANFBC 180g', 'Cracked Candy Cinnam', 'Sp Genmai Miso', 'GVC Roller Bottle 10', 'Trin Preg Oil 200', 'Bal Nat Ult Van 750g', 'Bm Bio C Chew 200t', 'M&P Comb D 250 Tabs', 'MEL AlmChaiSp 250g', 'Thmp Salmon Oil 300', 'Icelandic sparkling', 'Proper Crisps Kumara', 'Lot Yeast Flake 200g', 'CLProt Choc 1kg', 'Salt Lamp Globe', 'Env Dish Wash 1kg', 'Eloa AV Passion', 'BOO WonkSock Blk 3-9', 'JC Jojoba+Rhip 30ml', 'CHE IB CC 1.9l', 'Absolutfruitz Banana', 'ARG 5.63 RC Brown', 'PP Keto ButerBomb250', 'PO Nutmeg', 'Pana Chocolate Chai', 'KOA Te Hemp Seed Tea', 'PO Or Detox 25tb', 'Bal Liq Carn 300ml', 'GoMacro Macrobar Ban', 'LZ chili sup 71% 85g', 'Super Grass 600g', 'PO Cinnamon 250g', 'M&P Comb 12 Spr 30ml', 'EN Magnesium 60t', 'Tri Clay 1 White 45', 'Lot Tapioca Fl 500g', 'Bl Dand Root Raw 125', 'Fl Legalon 60c', 'TP Macd Lip Balm 30g', 'Ton 5N 120ml', 'Salt Lamp 8 to 10kg', 'ORG PrBread Mix 450g', 'Two Scoops Ice Cream', 'MG Skin Milk Udd 200', 'Mel OrgTahini H 375g', 'TP Anti Druff 250ml', 'Smart Diet Banana Br', 'Til GM Hand cream', 'Boody M Box Gr S', 'Fus Sinusitis 30 Cap', 'NL Silicaplex 100 Ca', 'Bl Yerba Tea 125g', 'Bc APlex Clear 500g', 'Sp Grapefrut 11ml', 'Lf Food Graph 475ml', 'Bm Magmin 250t', 'Eco Deodorant 60ml', 'AO Mag Pro PR 200ml', 'NE Ban Flour 454g', 'NG Apricots Org 500g', 'NG Sunrise Muesli 1k', 'Bm Bio Zinc 168tab', 'FU Gutbiotic SB+ 60', 'PO Or Spearmin 25tb', 'MH Gotu Kola 500ml', 'Ess Nut K2 60c', 'NS Liquorice 100c', 'NG Triticale Rld 500', 'EN IBS Supp 90 Caps', 'Fus Str B Mul Adv 30', 'PR Niacinamide 200c', 'Nourishing Bubs', 'Cook Islands Noni Ju', 'CC Thins Slt Car 99g', 'CC APS Laven 500ml', 'B Cond Coconut 16oz', 'ENV Dish Wash 1L', 'Goatsmilk Co Lv Soap', 'EVER ECOnut milk bag', 'Bl S Elm Pdr 125g', 'Silicea T Paste 50ml', 'Cheeki Cup Ocean', 'LL Ess OIl Sleep 10m', 'HOG Omega3 Conc 100c', 'CC APS Lemon 500ml', 'Ber Org Honey 500g', 'Am RAW Vit C 120g', 'MH WPI WPC Ch 375', 'TP Aloe Gel 30g', 'Ch Ins SS 1L', 'Bon Guarana 100 G', 'NL Prost Comp 100c', 'ByronOrg Bucha Ginge', 'Trin Cinnamon 10ml', 'Pukka Earl Grey', 'Bm Bio C 1000mg 31t', 'PRA L-Glutamine 300g', 'Bm Vit E 1000iu 30c', 'Boody G-Str Nu SM', 'OZG Tom Sau 350ml', 'MooGoo MSM Cr 120g', 'NS Act Charcoal 100c', 'Tulsi Ess Cin twist', '2die4 Sun Seeds 200g', 'Herbal Mixture 200ml', 'Jun M Rich Hy Cr 50m', 'Abs Org Italia Pesto', 'TP C Sore Cr 10g', 'ALO AV Man Honey 1l', 'M Org Spirulina 500g', 'DrB Cast Rose 59ml', 'NL Meno Life 60c', 'Sym Dand Tea 100gm', 'NV D3 1000iu 200c', 'NV Mag&Cramp Bark200', 'TE Chaga Mushr 50g', 'Go Vita Jute Bag', 'Bo M Sp Soc Wh 6-11', 'PO Turmeric', 'Pure Bliss Rosem 10', 'Ellia Diff Balance G', 'FG Vegan Salsa', 'Bm Cpmp 84 Tab', 'Am Kom Mint Gr 1L', 'DJA Sugar snap peas', 'Env Fruit+Veg W 500m', 'Pukka Tea Green Coll', 'Trin Vitamin E 50ml', 'EZ Bth Cr Pure 900g', 'NE GF Ban Flour 2', 'Boulder JalapeÒo Che', 'Sweet Nectar Goodnes', 'OGN Es FibCbread128g', 'Milkadamia Latte da', 'Bl Kelp 750mg 75 Ta', 'AMA RP PP Va 500g', 'TEM NC Avoc Chips', 'JC Pgment Oil 30ml', 'Fus H Sk Nails 60t', 'Alch Jojo Cond 500ml', 'WEL Bay Lotion 200ml', 'NFChips Salt pepper', 'GF Mack EVOO 125g', 'Tho Brew Yeast 100t', 'Am RAW Sug Crave 50m', 'OR Coc Milk 400ml', 'Fusion Mum to be 60t', 'NO B Broth Tur 100g', 'Pelvi Leakproof Bl S', 'Holle Onf For 3 600g', 'Lot Linseed Gold 500', 'OR CO Raw Honey 1kg', 'NV Prem ProBiotic 60', 'Bl Sleep Sound 30t', 'NG Del Mix Roast 1kg', 'NG Crackerjack 425g', 'BRK PCP SS 70g', 'BC MFactors 60', 'Eco Min Flawless Oli', 'EN Fish Oil 120c', 'Eloa Aloe peach', 'CH Livatone Shot 30', 'BOO Mi Brief Nude XL', 'MMCV Vegan Mayo 235g', 'PPC HWer Henna 250ml', 'Bal Nat Whey Ch 750g', 'GF TradBulk Oats 2kg', 'PF Mushr soup', 'EN Immune Def 30', 'Sp Tamari 500ml', 'Chill Out 62s', 'TE Almond chips Salt', 'LL EOil Mditatio10ml', 'ON 100% Whey French', 'THO Hemp Oil 200ml', 'BOO BLB Nude L', 'End Van 1440g', 'WEL WRal Lotion 30ml', 'Fo Jalapeno kraut', 'Boody Hip Bik Bl ML', 'SPF BC Dry 350ml', 'CHE Clr SS Bottle 1l', 'NC Polybac 8 30 Caps', 'BBM Cacao & Coco 400', 'Pukka Tea Love', 'Fusion Green Tea 90t', 'Ateronon XY', 'WWN LTIG SB 30s 150g', 'PNO Lic Root 100g', 'Cl App Cid Vin 946ml', 'Glace Peaches 250g', 'Boody Boyleg Nu ML', 'NV Super Greens 150G', 'Yum Earth Org Licori', 'PNO Yarrow 50g', 'Shirataki Noodle', 'Boody M Box Bl S', 'Inner Health Kid 120', 'Ls Spirulina 200caps', 'Bc UM P5P 60t', 'Ton 6TF 120ml', 'CB Choc Hazel Bar', 'Nv Mega B 60t', 'Fus Gluc Adv Rep 100', 'NR Slippery Elm 250', 'BOO ARBT Black XL', 'Sp LavenderOrg30ml', 'ET Cac Tan Mou 125m', 'NS Bl CHosh 100c', 'BB BasilMandarn SCan', 'NA Grain Free GF', 'NR Almond Meal 250g', 'Sp Serenity 11ml', 'Br Calm 500ml', 'B†Pad†Shap†Cro Nud L', 'BB LimeCoco SoyCandl', 'SLC AC BU 100g', 'BOO Fu Brief White S', 'PSnaps Origano thyme', 'LW Cranb Org 946ml', 'ET Invis Tan 150ml', 'PB Pregnancy oil 100', 'Bragg Coco Amino Sea', 'Nv Flax Seed Oil 150', 'NR PG FM 350g', 'Alchh Rice ShPoo 225', 'GO Pea soup', 'DrSup Wild Blueberry', 'LE Darking Choc 250g', 'Lf Food Green 475ml', 'Bc BabyBiotic 0+ 100', 'Bl Nettle Tea 40g', 'DrB Castile S&J 946m', 'Pure Bliss Ylang 10', 'Mel Almond 500ml', 'WG CMCM +CF 475g', 'BAL 100% WhVa 2.4kg', 'PLV S Beetroot Herbs', 'Nut Ferm Cranb 500ml', 'CJ Four Fruits 325g', 'M&P Kali Sulph 125t', 'Piping Rock Vitamin', 'Tr Lean Prot SC', 'Lot Millet Hull 500g', 'AF Peach 20g', 'BC Eczema Rel 60g', 'NS Feverfew 100c', 'Pukka Feel New tea b', 'Org Brow Mix Ch 400g', 'Fus Allergy 30t', 'MOR BB KC 200g', 'ET Extreme Exfoliant', 'NO Chick Bone Broth', 'Nv Vit C 120t', 'OGN It Bit Brs 175g', 'Peanuts Roasted 1kg', 'Food Matters Detox', 'CN CK9 CD 50mg 56t', 'NG Almonds Slice 150', 'CLProt Choc 500g', 'CHE AI BMB 600ml', 'NS Slip Elm 100c', 'Tom Org Panty Liner', 'Lot Wild Rice Or 125', 'ARG 9.0N VLB Nat', 'Br Sleep&Insom Rel', 'IH Eczema Shield120', 'Pukka Tea Wild Apple', 'WWN GN FBC 180g', 'JC Abs Serum 30ml', 'MH L-Arginine 200g', 'BP UMF Honey NZ 250g', 'Four Leaf Br Rice 1k', 'We Arn Mass Oil 100m', 'DV WPI+WPC Choc 375g', 'Roch LemLimGg 725ml', 'Lw Prune Juice 946ml', 'Bm Omega Daily 200c', 'Sym Dand Tea 500g', '2die4 Brazil 120g', 'GF Sardines EVOO 277', 'AO Roll On 60ml', 'JC Firming Eye Balm', 'Pure Life multiseed', 'NZ KGS Choc', 'Eagle Vit E  60 c', 'OGN Crbread TBW 125g', 'Pow Goj Snack Bl 150', 'East Bali Cashews Gr', 'CLProt Van 1kg', 'Boody Full Leg Bl S', 'Ton 5D 120ml', 'Power Chia 500g', 'OR Tahini Hull 375g', 'Piping Rock Nac 600m', 'LKW Juate Pure 946ml', 'THO Naiq Calcium 60c', 'Hh Liver Herbs 50g*', 'NG Brly Rolled 500g', 'Fus Probiotic 60c', 'NV GutSup Comp 150g', 'OT Dk Ch Maca 150g', 'EN Digest Plus 90t', 'GVC Empty Bottle 10m', '2die4 Tam Alm 120g', 'EN Fish Oil 60 Caps', 'Nv Lysine 100 Tabs', 'DS Cherry Bombs 125g', 'EAG Defence Sup 60T', 'NO Chix BBMisoRamen', 'Nat F&N Loaf 680g', 'Optimum BCAA 345g', 'MOR Inin Powder 150g', 'LE Cream Mylk Ch 30g', 'Cry Deod Uns 118ml', 'Tulsi Ess Lem Grass', 'DrB Cast S & J 237ml', 'TUR TurmeriX 120c', '2Die4 Hemp Mint ch', 'ABN Colostrum 400g', 'BF GF Gr Cac Coc 350', 'N-Zimes 180t', 'Bm M-Vision 150 Tabs', 'HOG Silica Hair Sol', 'Sp Sage 11ml', 'Chandan 8 Sticks', 'Pow Cacao Powder 500', 'Boody Boxers Bl XL', 'PB Wild Oregano 30ml', 'Tulsi Ess Lavender', 'Lot Brewers Yst 500g', 'Bc SB FlAct 30c', 'NO Sup Gr + Red 300g', 'Pukka Tea Supreme Ma', 'NG PinenutKnl 150g', 'GVC PB Peru Balsam', 'Love Argan Oil 30ml', 'ELL GAD + Ess Oils', 'Et Bow Wow Wow', 'ARG 6.Blonde Natura', 'CHE Clo SS Bot 750ml', 'Zen Ki 60t', 'NGS Rot Care Conc 1l', 'ARG 7.Blonde Natural', 'NG Lntl  Red 500', 'WEL Baeam Bath 200ml', 'Pukka Tea Three Fenn', 'Beef Bone Broth Gard', 'LE Boobook eggs', 'SPF Oi Cert Org 30ml', 'BC Urinary care 30', 'Sp Or Br R Vin 250ml', 'PO Maple Syrup 250ml', 'Jn Int Moist L 125ml', 'CHE IWT SW 220ml', 'Book Diabetes Type 2', 'Amazonia Pitaya smoo', 'Fus Wom Bal 60 Tabs', 'SW Prot Nat 375g', 'Boody Full Leg Bl M', 'Ozg Caesar Dr 350ml', 'HOG WMPGS 12000 90t', 'Incense Jasmine', 'Pow Goldenber 125g', 'CLV PD 72% San 100ml', 'HOG St J Wort 60', 'Sp Cypress 11ml', \"L'A Or Spelt Lin 375\", 'NG Sultanas 500 g', 'PRA PPP Fre Van 400g', 'GP Syrup 237ml', 'O Ap+Ci PCake Mix', 'SOS Rehyd C/nut 10PK', 'CHE Iny SS Bot 600ml', 'Trinity Body Oil 125', 'Bl Fenugreek 250', 'AV Herbamar DNS 125g', 'Sp Shoyu Org 25', \"BB Tea 30's\", 'Wel Pom Bod Lot 200m', 'THO Co Oil Plus 100c', 'Broccoli Powder', 'Smart Diet Strawberr', 'Jun Rev Eye Cr 15ml', 'Fus Probiotic 8 60 C', 'Bf GF Apr 1kg', 'Vego Alomd Bliss Whi', 'NV EPP 35 B 30c', 'Pep Tea Organic Matc', 'Tom Org Tampons Reg', 'Aroma Swirl Pink Swi', 'PRA PPP Choc 3kg', 'DrB Cast Lav 946ml', 'End Low Carb TP 128g', 'Bee-Power 1 Kg', 'PB Peppermint 30ml', 'EM Sup Hemp Prot 500', 'End Gel Citrus', 'Eco Min Perfect N Sa', 'Me Sheep Yog 500g B', 'HOG Vit B3 60t', 'Bc ProbioZyme 45c', 'Trin Cream Cleanser', 'Bal Pl Prot Ch 500g', 'AlterEco GrFed MlkRC', 'Sp Camomile GBlueOr', 'Herbanica Femulate', 'Yaki Nori Sheets 10', 'DG Blush Golden Deli', 'ALO A/V Juice+Her 1L', 'Bc ThyroPlex 120t', 'BC UM Night 240g', 'Sun Warrior Van 375g', 'ET Hempitan water', 'Bal Nat Whey V 1.5kg', 'NS Cas Sag 100 Caps', 'BOO LSck Top Black S', 'NR Unpro StBran 375g', 'Hab Shifa Black seed', 'PSnaps BBQ 50g', 'Wel Childs Tooth Gel', 'Bo Sh Cr Bra Bl SM', 'Sp EucalypOrg11ml', 'Lot Oatbran Org 400g', 'Aroma Flare Met Grey', 'Eco Face Water 100ml', 'NL Ester C 250g', 'NS Sage 100c', 'Ng Goji Juice 500ml', 'Org Ck Mx Chc 375g', 'Mer GM Blk 1Kg', 'BOO ShapCropBraBlL', 'ND Medjool 1kg', 'NV Triple Omega 250c', 'DV L-Glutamine 500g', 'LZ Dark Choc 85g', 'Nut Ferm Tumeric 500', 'NRT CayChilli 500ml', 'Br B+C R Nose 100ml', 'Sugar Free Golden Oa', 'Sp Tamari S/r 500ml', 'NV Xylitol sticks 40', 'GN Wheatgrass 120c', 'BB Paleo Gran 450g', 'MooGoo Deodorant 60m', 'Sp Lime 11ml', 'EM Sup Hemp oil 250', 'Vego Whole Hazelnut', 'NL Magrte Daily 100c', 'EvEco Prod Bag 8pak', 'BE IV M+ Chew 30t', 'Ng Kefir 5 Sach', 'GF ProtPatty Mex200g', 'PO Or E Breakf 50tb', 'OGO Quin BR Am Spagh', 'CF App + Avo Soap', 'MG Moothpaste 100g', 'Fus Sinusitis 60 Cap', 'Cacao Beans 125g', 'THO Maat Relief 25ml', 'KF Fenn Fus 25s 65g', 'NN Ultimate Omega', 'DJA Crispy Beetroot', 'NV Glucosamine 180t', 'Trin Makeup Rem 100m', 'Deonat Spray 125ml', 'Mh With Comp 60t', 'CoYo Yog Van 500g', 'En Ginseng 5 60c', 'HOG ParaStrike 60t', 'NG Goji Berries 400g', 'Bo Pullon Rose 12-18', 'Boody Boxers Gr XL', 'Lot Org JasRice 500g', 'KWH Kids Cough 200m', 'MG SPF40 Tinted 50', 'NL Mag Comp 100c', 'Mg Milk Wash 1L', 'Bo T-Shirt Sky 3-6m', 'BOB BBC OTGBP 350g', 'CJ Select Pear 325g', 'Pukka Tea Lemongrass', 'DV Dextrose 1kg', 'Trinity Spice 10ml', 'Gev Better Belly BBQ', 'Happy Go Paleo', 'Jun Int H Cream 50ml', 'Boody M Briefs Bl L', 'PO Brahmi 25tb', 'CH Syn X Pdr 1k', 'JC 100% NCOJ 200ml', 'Gm Amaranth P 200g', 'BOO LSck Top Black M', 'X50 GrnTea Tropic 30', 'H/hemmes Tea Infuser', 'LL EsOil StressRel10', 'FU Brfeed 60t', 'PNO Mars Root 75g', '2die4 Walnuts 300g', 'NS Withania 100caps', 'PF Soup Beetroot', 'Bl Vit D3 1000iu 200', 'BOO Ack Sil Thread M', 'MooGoo Soap Goats', 'WEL Cal Nap CC 30ml', 'Ellia Diff Blos Blu', 'Mel Calc Asc 125g', 'Jun Oil Bal Lot 125m', 'DrB Lip Balm Lem Lim', 'NL Super Cal 120t', 'Boody Boyleg Wh SM', 'NG Prunes 250g', 'PF Pure mash', 'NO B Broth HeartyMus', 'HNZ Manuka 15+ 250g', 'Fus Multivitamin 90t', 'Lotus Freekeh Cracke', 'Pukka English Breakf', 'roasted seaweed Teri', 'PLV Sea SKraut 680g', 'Bl Chol Bal 200g', 'DrB Cast Rose 237ml', 'macadamia milk 945ml', 'Bf Nat Apr 500g', 'Jc Blemish Serum 50m', 'Na Soap Strawb', 'Organic SC Coco Milk', 'Fus Turmeric 90 Tab', 'PR Daily Pro 15 30vc', 'MG Night Cream 75', 'Fus Turmeric 60 Tabs', 'LE Car Choc 80g', 'HOG Macu-Guard 90c', 'Fus Cystitis 30t', 'AH Flaxseed Wraps', 'HE Baby Prob 60g', 'Nf Slot Turn Grey', 'HOG Ubiq 150mg 60c', 'Incense box Brass in', 'SW Rice Prot Van 750', 'Nag Champa 10g Box', 'BNV 10a Natural 500g', 'PS Wakame Flakes 50g', 'CHE ICBP 600ml', 'BM Multivit 50+ 90c', 'DrB H Soap Unsc 710m', 'Am RAW Pal Pro V 500', 'NV Kali Phos 130t', 'Zen Liniment 50ml', 'LE Salt Car Choc 80g', 'MooGoo Rosehip 20ml', 'NG Sesame Seeds 1kg', 'Glace Pears 200g', 'Sp Geranium 11ml', 'Castile Orig Pump 50', 'Trinity Relax Blend', 'HS Seaweed Teriyaki', 'OB Lemon Soother 50', 'Boody Bikini Wh SM', 'Nv Chromium 200t', 'Raw C 1 L', 'NR Him Salt Fn 500g', 'HOG Collagen 180g', 'Aroma Dream WoodLook', 'AH Or HR Vin 350ml', 'Whole Earth Baked Be', 'Eco Tan Super Exfoli', 'Ton 2N 120m', 'HOG Probio55Bill 60C', 'HOG Ult Sil Cmp 30', 'Bc Theracurmin 60c', 'Env Hair Cond 1L', 'BOO FuBrief White XL', 'NL Ester C 120 Tabs', 'Actvtd Almond Milk', 'Harmony Soap Rose Ge', 'Lewis Yog Frogs Van', 'Amazonia Acai 280g', 'Bal Bet Alanine 150g', 'Tulsi Ess Jasmine', 'MV Coffee Beans', 'Opt Pre WO FP 300g', 'ORG Multi Crisp Chia', 'Inner Health + DF 90', 'Bc UC EPA/DHA+ 240c', '2die4 Walnuts 120g', 'HOG B12 1000mcg 75t', 'BergaMet Mega+O 60t', 'PO Clove', 'TN Premium Ch 3kg', 'PO Passionflower 25', 'HOG LiverToniAF200ml', 'Env Bathr Clean 750m', 'CG Barley Grass 200t', 'Amphore Coco Kefir', 'Eco Min Masc Midnigh', 'Vital Greens 1kg', 'Bm Proseren 120 Caps', 'Bo T-Shirt Ro 3-6m', 'Tri Basil 10ml', 'HOG ChromMax 120c', 'CHE Inh SS Bot 400ml', 'Tho Lecithin 200c', 'Bl Juniper 100g', 'HOG Bulg Trib 30t', 'Bon Henna DB 100g', 'KMax Pom 500ml', 'Flat Out Baby Milk', 'Crystal Essence 118m', 'Org R&C Penne 250g', 'BNV Psium Husks 500g', '3 seed SB 184g', 'BBM Almond hemp 400', 'ON Amino Energy Rasp', 'Immunol 30 Caps', 'PO Or JasmineG 25tb', 'Tri Clary Sage 10ml', '2Die4 Act Org Muesli', 'Lotus Cit Pect 100g', 'Fus Astra 8 60 Tab', 'Flordis Premular 30', 'Ton 3N 120ml', 'M&P Cr Calendula 100', 'TN L Carnitine 100g', 'Jun Body Exfol 100g', 'Lot Rice Flakes 500g', 'NR Sav Yst Flk 250g', 'PSA Colostrum 200g', 'T burner Lotus', 'HOG Child Fish 60c', 'Tulsi Incence Opium', 'Shiritaki Rice', 'Boody Bikini Nu LL', 'Core Ghee 500ml', 'Olive Leaf 1L', 'Jun V Rose H Cr 50ml', 'DJA ShiitakeMushroom', 'PP Almond Oil 250ml', 'Incense Gift Aromaco', 'Env Delicate Wash 1L', 'Banjo Bear Coconut', 'Chia Co Black 500g', 'OGO Amar/Rice Penne', 'One Scoop Ice Cream', 'Et Lavender Body was', 'Boody Crop Leg Bla L', 'CL Prot Matcha 500g', 'LE Org Cacao Pdr 500', 'CF GoatMilk Yog Soap', 'Venerdi Keto Bread', 'OR Cacao Pwd Raw200g', 'LE Rasp Choc 80g', 'GF Sardines EVOO 125', 'ARG Hyditioner 500ml', 'Bo Bsuit Chalk Newbo', 'ES Ear Cand bamb 1pa', 'Boody 3/4 Leg Bl S', 'Bo Pullon Sky 12-18m', 'Pana Coc+Goji 45g', 'Wf Stevia 25g', 'EM Desert Rose', 'Ton 6C 120ml', 'CF Swiss Herb Soap', 'Bon Henna G Red 100g', 'Spry Gum PMint 100', 'Bal Nat Whey V 2.8kg', 'Eagle Potasi 60 Tabs', 'MG Bubbly Wash 500ml', 'GVC Bl Turtle bean', '2die4 Cashews 120g', 'M&P Nat Mur 125 Tabs', 'OGO Quin Rice Penne', 'WWN VASK 360g', 'Jun Pure Rej Oil 30m', 'OB LemSooth Tea 20', 'NS Gotu Kola 100c', 'Bm Epo+fish Oil 100c', 'PB Peppermint 10ml', 'BF Pow Porrij 450g', 'Top Nutr NAC 250g', 'Alch Lgrass Spoo 225', 'Bo Bean+Boot Ro 3-6m', 'BP Raw Honey 1kg', 'Bc Mushroom 7 90 Tab', 'DG V Lipstick Guava', 'Bragg Healthy Lifest', 'Fus Detox 30t', 'WEL Skin Food Indul', 'NL VC1200mg Ch 150t', 'KS Millet Noodles', 'HE Withania 500ml', 'CLV PD 72% San 500ml', 'En Fish Oil FP 280ml', 'BC Lipo Methyl B12', 'Ntrton Cre Poly b 75', 'DrB Lip Balm Or Ging', 'LL Swish Navy', 'BB PersianPear SCand', 'Fus Menopause 120t', 'WEL BTP Oral 60g', 'Orgran Macaroni', 'NIU CO Coco FS 250ml', 'PRA PFP DrkChoc 1kg', 'Power Chia 250g', 'Bc Mega B Q10 120c', 'Bm T Cal Mag+D3 60', 'MP STS COMB H 125t', 'MG Prot Shot 50ml', 'Spiced Basmati Rice', 'Wel Rose Deo 100ml', 'DrB HB Lot Lav 237ml', 'DrB Cast Lav 59ml', 'WWN V ICP 1kg', 'BD Protein Choc', 'LKW C JO 946ml', 'Turban Butter Chicke', 'CG Org Ol Oil 2l', 'DrB Cast G Tea 237ml', 'Bm Selemite B 100 Ta', 'LE Almond Crunch 80g', 'BC Silica Liq 500ml', 'Bal Carnitine 60 Cap', 'En Fish Oil M 170ml', 'SD Rose & Pistachio', 'Little Oak Goat Mlk1', 'Te Hazelnut 10 Bag', 'Mel Shampoo Base 1lt', 'Ton 10N 120ml', 'NAC PrGr pH TS x 100', 'Bon DLion Med 150g', 'DrB Sh Gel Smint 207', 'Flat Out BabyLeopard', 'MG Bubbly Wash 1L', 'Grants T/paste Blue', 'LS Barley Grass 250', 'GVC Blk Sesame 300g', 'Norsk NorwSalmon100g', 'EVO Frag ROOut 12ml', 'BBBB Chicken 1L', 'Pukka Lean Matcha te', 'Zero Fettuccine 350g', 'BC Classic Sea Salt', 'TN inositol 250g', 'GVC Mag flakes 2kg', 'Bl Sage 75 Grams', 'HOG Mag Forte 60t', 'PNO Su 3 Greens 300g', 'PB Frankincense 10ml', 'MG MSM sooth moist', 'Lot Popcorn Org 500g', 'IH Travel Bug 20caps', 'OR Coc Oil 1L', 'GN Mnt OS 520mg 180c', 'NO Beef BB MisoRamen', 'HOG Thy Supp 60t', 'CoYo Ice Cream Vanil', 'Fus Cold Flu 60 Tabs', 'ARG 10ght Blonde Nat', 'Sp TeaTree Org 11ml', 'ARG 4. Brown Natural', 'Trin Deo Paste 60g', 'OGN DinosaurWFC175g', 'NR Xylitol 500g', 'PO Org Chamomile25tb', 'DJA Breen Bean crisp', 'Now Inositol 500mg 1', 'LE Buckinis Ch 400g', 'Ng Apricots Org 250g', 'Whole Hazelnut Choc', 'BOO Fu Brief White M', 'LE Cacao Butter 500g', 'OB PMint Tea 20', 'Mel Asc Acid 125g', 'Fus Constipation 30t', 'Pow Cacao Butter 250', 'FOR GF PG spr 400g', 'AMA Raw Collagen Glo', 'Lot Yeast Flake 500g', 'NL Joimula Caps 100c', 'BB Mues Classic 900g', 'JUN SEye Cr 15ml', 'Springfields Rosehip', 'Tp Soap - 3 Pack', 'NV Vitamin C 60t', 'Opt Pre WO WMel 300g', 'Bl H-A-Lax 90 Caps', 'BonSoy SOY Milk 1L', 'PLV Kraut Cucumber 6', 'Bl Detox Tea 20', 'PA Salted Caramel Wh', 'DrB H Soap Lav 710ml', 'Aroma Bloom Lime', 'Bm REME-D 60 Caps', 'M&P Mag Phos 12', 'BOO Fu Brief Nude XL', 'PR Liq Biotin 10k 59', 'OR Spelt Flr UB 1kg', 'Sweet Nectar Oat cru', 'GVC Empty bottle 31.', 'MER MCPro Plus 500ml', 'HOG Activ B Comp 60C', 'TON Heat Pillow PS', 'HVA Liquivita 500ml', 'Salt Lamp DW Fire B', 'EnerC Lemon Lime Vit', 'Bo Sh Cr Bra Nu ML', 'MG Milk Wash 500ml', 'T Sandalwood cone 20', 'Sp Bergamot 11ml', 'HOG AcetylLCarn60v/c', '2die4 Pecans 120g', 'Bm Vit E 500iu 50c', 'LL EsOil Breathe10ml', 'BC Vitamin E 60c', 'OR Coc Cream 400ml', 'BC Menoplus-8PN 60t', 'ZZ - Sp Tamari Org 2', 'Nutra Org Biotic Who', 'DrB Cast Cit Or 140g', 'Fus Revital 8 50Tabs', 'EVER ECO S/S bent', 'ET Emu Oil 100ml', 'Boody Full Brief Bl', 'Boody Cami Black L', 'BOO Baop Bra Black L', 'Bf Nat Apricot 1.5kg', 'GVC 180ml Conical Bo', 'HFA OHHS 1kg', 'GN Veg Omega 30c', 'Pukka Tea Detox', 'Fus Glucosamine 60t', 'KOA DT Tea 20tb', 'DrB Cast Pepp 237ml', 'Vitawerx White Choco', 'Bf Tst Cran 1.5kg', 'Bm B6 240mg S/r 42tb', 'Neem Oil 20ml', 'GVC Mjool Dates 160', 'TOG Rose Water 100ml', 'PC pimp salad cashew', 'Bm Zinvit 100t', 'Aroma Joy White Base', 'Lauria Choc Shortbre', 'Glace Pears 250g', 'Organic Prunes 250g', 'Smart Diet Coconut', 'BC DHA Om 60', 'Bm Hr Gar + C 50t', 'Inner Health Plus 90', 'Fus Magne Adv60t', 'Bc Paracea Forte 60c', 'Salt Lamp 1.5kg', 'HP Spirulina 225g', 'ARG 4.02 RC Chestnut', 'Hog Olive Leaf 500ml', 'NIU CB Salt Car 35g', 'DFDU Vegan Cheddar s', 'Hh Dand T Bags 30', 'Boody 3/4 Scoop Bl L', \"HH Laxative Tea 30's\", 'Jun Oil P Tone 125ml', 'Sp Mind Power 11ml', 'PB sugar Scrub', 'NV Sleep Formula 90t', 'Bm Mega B 75t', 'Trin Ult AntOx Ser30', 'BP UMF5+ MHoney 500g', 'WEL PoBody Oil 100ml', \"LCKL Lion's Maine La\", 'QB Solid Pillar 15cm', 'RW Blue tortilla chi', 'BOO Ac Tight Black M', 'NG Aronia 1L', 'OT Van Marshmallows', 'Mel Apricot Oil 200', 'Organic Seaweed 4g', 'Mad Millie Ginger Be', 'Enviro Bottle 1l', 'Zen Ki 30t', 'Pana Choc Straw 45g', 'Boody 3/4 Scoop Wh L', 'TP Tea Heal Balm 30g', 'NO Velvet Latte 90g', 'CL Prot Nat 500g', 'PB Refresh 10ml', 'HOG Prob SB 30vc', 'MG MoothPaste W Fluo', 'BC ArmaPreg 60', 'NB Pumpkin300g', 'NS Erythritol 500g', 'CJ Apricot 325g', 'NG Almond Meal 1kg', 'DRB To40g Peppermint', 'NG H Nut Meal 150g', 'Bo LSleevOne Ros New', 'NL Zinc 120c', 'En Fish Oil M 280ml', 'Tr Pump Prot choc', 'UVN Sport Lip 30+ 5g', 'Bo M Wk Soc Bl 6-11', 'Jama Deo Bergamot', 'Amb Or Raw Honey 500', 'PB Bergamot 10ml', 'SB5 ES AC 120t', 'Cheeki GoVita Black', 'Ozg Butt Chick 500g', 'Bc RestoraCalm 60c', 'BRK GF Granola 800g', 'Bl Rasp Tea 60g', 'Aroma Breeze Col Chg', 'OP Pre Workout blueb', 'Bragg Ap Cid V 473', 'Bon Psyllium 200g', 'AE Sea Salt', 'Lotus Ba Pwd GF 125g', 'Eag ImmunoAdapt 90t', 'KOA Turmeric 20tb', 'NL Cran 50000 100c', 'Ng Pepitas 250g', 'Flat Out Baby Bluey', 'OB Chamomile Tea 50', 'CellFood OxygnGl60ml', 'TPBC Veg Pankaes', 'Boody Crew T White M', 'CHE AI BT 600ml', 'Bl Str/Sleep Tea 20', 'Silicea 500ml', 'Ivys Ladies Fashion', 'NR Him Salt Cr 500g', 'Hh Sage 30 Tea Bags', 'H Mix Immune 500ml', 'TP Foot Spray 50ml', 'Jojoba Ultimate Day', 'M&P Comb 5 Spr 30ml', 'Immune Boost Kids 60', 'Amazonia Jackfruit O', 'Opt Pre WO BB L 3', 'GVC Maple Syrup 250', 'Lotus Mung Beans 500', 'EN UTS 180t', 'JC Night Cream 50ml', 'DrB Cast Cit Or 946m', 'J&B Melatonin 3mg100', 'BB Bone broth Be Pdr', 'HOG Sinus Ease 60t', 'Tres B Plus 150t', 'Morlife Antiox Colla', 'Cotton Buds x200', 'Trin HairScalp Oil50', 'Pimp My Salad Hemp 1', 'SPF Auojoba Oil 11ml', 'Eag Ech Roy 90t', 'HOG Breast F Sup 60', 'HOG Chrom Max 60c', 'NGR Raisin seeded 1k', 'RS TPaste BS 100g', 'Nutra NatGelatin250g', 'NG Msli Birch  750', 'ALO Alecov-Imm 500ml', 'Love Inc Love Potion', 'Pukka Tea Revitalise', 'Mel Veg Glyc 200ml', 'Boody Tank Top Wh S', 'PB Vitamin E 50ml', 'Bal Nat Ul Rp Ch750', 'NatBee 60 (1 month)', 'Zen Her Liniment 100', 'CHE ASWBS 750ml', 'Vital Prot 500g', 'TP Lav Oil 100% 50ml', 'BOO Midi Brief Blk M', 'BF GF Bircher 400g', 'Spiral Org Pld Tom', 'MediMedium A William', 'Bo Sh Cr Bra Wh SM', 'TEM Caul Puffs SS', 'Bm M-Vision 90t', 'WEL Almond Cls Ltn', 'BBik OranOatCin 300g', 'NR PVT MM 400g', 'End Drink Bottle Sm', 'Nux Vomica 200c', 'Sp Bush Scnt 1 ml', 'Gr Xyl Mint TPaste', 'PR Monolaurin 90', 'GVC Blu 7day Pillbox', 'Pow Nori Flakes 40g', 'KWH DeStuff Kid 100m', 'THO MaRel Kids 200ml', 'JC Hohoba and Mist', 'Bo MWrap x 2 Chalk', 'OR Besan Flour 500g', 'EcoTan Raf HandCream', 'Sp Ginger 11ml', 'Lotus Couscous Whole', 'NS Plain Tempeh 300g', 'M&M Bone Broth Lemon', 'GN Veg Omega 90c', 'NIU CB CR 35g', 'HOG Lys + Olive 100t', 'Mh Throat Spray 25ml', 'Harmony Soap Unscent', 'SPF BC Normal 350ml', 'TE Almond chips BBQ', 'DrB H Soap Smin 710m', 'M&P Cr Arnica 20g', 'SWAP The O.G', 'BM Super CoQ10 300', 'LE Cacao 1kg', \"L'A Org Fett 375g\", 'MM Sourdough Kit', 'Smart Diet Vanilla', 'KWH Baby Balm 50g', 'Ns Ginger 100 Caps', 'BD Prot Cookie', 'Sp Blk Pepper 11ml', 'Sp Goddess 11ml', 'OR BW Flour 500g', 'Tulsi Chandrika Soap', 'Ng Chry Juice 500ml', 'Bon Henna Gold 100g', 'Boody Hip Bik Bl SM', 'ET Hempitan Water140', 'HOG Vit D3 120c', 'NB Beetroot300', 'Jun Wakame seaweed 5', 'NG Cashew Raw 500g', 'HOG CoQ10 150 M 60c', 'Silicea Twin Pack', 'Peanut Butter 1kg', 'H Mix Liver 200ml', 'HOG Ult Silic Cmp 60', 'BBBB Beef 1L', 'PR Pygeum 120c', 'Ng Pecans 150g', 'Kindervital 250ml', 'NL CoQMax 150mg 60c', 'Fus Menopause 30 Tab', 'DG Mascara Night Fal', 'LE Lem Car Choc 30g', 'Love Tamunu Oil 30ml', 'NV Prem Liv Supp 60t', 'LLEsOil Positvty10ml', 'DG Lip Gloss Pacific', 'Boody 3/4 Scoop Wh S', 'Spiral Org Dcd Tom', 'THO Slppry Elm 120t', 'PO Or Licorice 25tb', 'LL EssOil Snooze15ml', 'PR VMax Male 120c', 'CH Calcium Comp 120t', 'PRA PPP Ban Sp 400g', 'Env Body & Hair 5l', 'Tri Lemon 50ml', 'BOO Mii Brief Blk XL', 'DrB Cast Unsc 946ml', 'Sp Aniseed 11ml', 'Melrose EsGreens120g', 'KOA Turm Tea 20tb', 'Mh Oats Seed 500ml', '2die4 Hazel 300g', 'NG Msl W/Y free 750', 'EN Imm Def 60', 'Mel Apricot Oil 500m', 'Lotus SR Flour Or 1k', 'NS Lemon Balm 60c', 'Nf Pasta Spn Sil Yel', 'NO Coc Biot Bar 45g', 'Sacred Cow Ghee 270g', 'Tr Shea Butter 150g', 'Kitz Her Duls Sp Cr', 'Bc Intestamine 300g', 'LUN Clear Model 1', 'NFChips Peri Peri', 'TP Foot Pdr 100g', 'HOG Pr55 Billion 30c', 'Top Inulin 500g', 'HOG B Complete 60t', 'NO Beauty skin 450', 'DrB HB Lot Or 237ml', 'BC Vinegar & SeaSalt', 'AE Crisp Mint', 'AO Magnesium 250ml', 'Mel Fish Oil 500', 'Gra Shamp 250ml', 'Jun R Face Ex 100g', 'HOG Berber Imm 30t', 'Hills Honey Comb 450', 'MBC Raw Milk 750ml', 'NR LSA 400g', 'H&B Coconut 16oz', 'Bc Adrenoplex 60 Cap', 'PO Or Bedtime 25tb', 'CHE IKB Turt 400ml', 'SPF Hyfused Oil 50ml', 'Tamari Almonds 1kg', 'ORG VGMP 200g', 'Bc Quercetain 60t', 'Bc Ultra Pot C 200g', 'PLV KC SKraut 680g', 'ND Rose water 250', 'Misc', 'NV Nat AloeVJu 500ml', 'PF Thai Patty', 'LL EssOil ChCalm 15m', 'Natural Roah Grass F', 'Ellia Diff Thrive wh', 'WWN PPC HC 850g', 'CH Mag Ultra C 200g', 'PO Aniseed', 'Roch Ginger 725ml', 'Boody Bikini Bl ML', 'TON Pe Red 5FR 120ml', 'Co Sh Cr Bra Bl ML', 'HOG Garc 8300+ C 60t', 'TGCC BBQ 160g', 'Pukka Tea Wonder Ber', 'Lot Instant Oats 500', 'DrB Cast Unsc 59ml', 'Jama Deo Frag Free', 'LE Banoffee Bang Bar', 'EN Lysine 30 Tabs', 'Bee-Power 480g', 'TP Cala Ointment 50g', 'COBS Popcorn SweetSa', 'OGO Quin Rice Spagh', 'Mel Flax Aust 200ml', 'LE H Choc Butter 175', 'H Mix Sleep 500ml', 'PO Cayenne Pepper', 'PO Or Ginseng25tb', 'LE SCaramel Swayzee', 'NR Lecithin Gran 400', 'Bal Nat Whey Va 750g', 'Book Heal your gut', 'TP Anti Fungal Sol', 'Sp Bliss 11ml', 'Na Soap Coconut', 'Lot Linseed Bro 500g', 'KOA HS Tea 20tb', 'Ns Saw Palm 100c', 'CHE Ink SS Bot 400ml', 'NL Bub + Candle', 'GP Gin Gins Cand 84g', 'Bf Tst Apricot 500g', 'DrB Cast T Tree 140g', '2die4 Pistachio 100g', 'Bo Pullon Rose 6-12m', 'Life Ext Boron 3mg 1', 'ET Glorious Xmas pk', 'ZEB St Act CC 300g', 'Bm Gluc+Fish Oil 90c', 'Wheatbags Love Pink', 'Sp Lem Euc 11ml', 'DJA Coconut Mango', 'M&P Comb 12 125 Tabs', 'NG Rye Rolled 500g', 'Harmony Soap Lav Pat', 'CF Sandalwood Soap', 'Sp Clary Sage 11ml', 'TR Lean Protein choc', 'NG Brazil Nuts 250g', 'CJ Royal Fig 325g', 'LE Almonds in Choc', 'KIN Licorice Tea 50g', 'WEL Birch CellSet', 'Lot SlipperingElm125', 'OT Dark Choc Almonds', 'Bm Bilberry Eye 30', 'MER GGangerine 355ml', 'Tho Astraforte 200ml', 'CHE  Insulated Class', 'Spatone 14', 'Bl Herb-A-Lax 100g', 'M&P Cr Arnica 100g', 'HS Black seed 200g', 'Organic Choc Coco Mi', 'Castile Rsmry Pump 5', 'Sp Cinnamon 11ml', 'LC Cordyceps 120ml', 'Ton 5R 120ml', 'Fusion Hair Tonic 60', 'GM Multi Puffs 125g', 'TE Astragalus 50g', 'Sp Mirin 250ml', 'OR Tumeric 250g', 'IH Ecz Shield FF 30c', 'Ls Aloe 120 Caps', 'SW bakingbuttons Cho', 'CE Lavender 66ml', 'CH Mag Comp 200t', 'Fus Zinc Adv 60t', 'SC Liver Clnse Diet', 'Tulsi Amber necklace', 'Fus Green Tea 60t', 'NG Macad Roast 150g', 'HOG Clear Skin 60Tab', 'Lotus Cornflour', 'Am RAW Greens 300g', 'Activated Charcoal', 'QB 8hr Tealight Ref', 'BOO Ac Tight Black L', 'Olive Leaf Spray 20m', 'NS Golden Seal 100c', 'JC Lip Balm', 'Tom Org Tooshies', 'HoG Eld Ech Ol 200ml', 'Boody Tank Top Wh M', 'SW Rice Prot Nat750g', 'Salt Lamp 3 to 5kg', 'PO Cumin Seed Whole', 'FTN Paleo BFast 800g', 'PH Or Rice Malt 500g', 'PO Or Chamomile 50tb', 'Organic Van Coco Mil', 'AO PRO Mag Spr 125ml', 'Core Org Ghee 250ml', 'Niulife Coconut Endu', 'PR 5 HTP 200mg 90c', 'Flo Calc Mag 500ml', 'CC HW Lemon 300ml', 'X50 Broc Ch BBQ 60g', 'Bm I-Folic 150 Tabs', 'THO HePwdr Choc 450g', 'Max Health WPC 1.5kg', 'SC Raw Juices Book', 'Temole Avocado chips', 'Org Muffin Mix Choco', 'PO Or Rhip&Hsc 25tb', 'PO Peppercorn Black', 'Grants Bamboo Toothb', 'Niu Sw Chilli 250ml', 'ON Amino Energy Oran', 'Env H Duty Clean 750', 'Turban Nasi Goreng p', 'Mel WorcestSauce 250', 'BB Mues Paleo 425g', 'GVC Goji Org Ber 300', 'SPF BS Oily 350ml', 'TE Almond Chips SC', 'EN Immune Fighter 30', 'SQU 10 Hand San 75ml', 'SB5 AC Moist 50ml', 'SP Org Arrabbiata', 'Sp May Chang 11ml', 'Moj Org Kom Ras 330m', 'Naturis Rce N Sul Gf', 'Org Black Beans 400', 'LC Mag Mane Pwd 100g', 'NV Selen 150 mcg 60c', 'Env LaundryPwd 1kg', 'Wel Nursing Tea 20 B', 'GVC Pillbox Multicol', '2die4 Pecans 300g', 'Bf GF Cran 1kg', 'BobsRM GFPncakeMx623', 'NR Almond Meal 500g', 'NO Lunar Latte 90g', 'Bm Gink 6000 Teb 30t', 'H/h S/bitrs 120 Vg.c', 'Bo Pullon Ch 12-18m', 'Tulsi Incense Dragon', 'NO ChixBBroth GrdenH', 'Lotus Gluten flour 5', 'BRR Rery Cough 200ml', 'Barambah Milk 2L', 'OB Rosehip Tea 50', 'AMA GrCompress 500ml', 'CJ Or + Ging 325g', 'Pana Sticks MintChoc', 'Incense Gardenia', 'Incense Gift Fruity', 'GVC Dextrose 1kg', 'OB RHip Tea 20 Bags', 'Pukka Tea Night time', 'BAL 100WNARCC 750g', 'PR Immune Pro 30g', 'Wel Preg Oil 100ml', 'MD Goats Yog (B) 500', 'DrSup Blueberry Blis', 'Bharath Dashan 12c', 'PR Child Imm Pro 50g', 'Glace Gr Cherry 150g', 'LUN Cynthia Model 2', 'GN Mnt OS 520mg 60c', 'Nv Vit E 500iu 200c', 'NG Sunflower bul 500', 'Am Kom Ging 375ml', 'BLO VQIK LT 50ml', 'Braggs Seasoning 946', 'OR Shred Coc 200g', 'PRA PPP Van 3kg', 'Bo LSleevOnes Ch New', 'CC Things Lemon 99g', 'Bo W Low H Soc N 3-9', 'Eloa Lychee 500ml', 'Car Org Agave 350g', 'Hh Liquorice Tb', 'BOO Meinglet White L', 'WM Eco Wash Pad', 'GM Face Cream 100ml', 'Weleda Skin Food Bod', 'Env Fabric Cond 1L', 'CHE IKB Peng 400ml', 'Koala Tea berryful', 'BOO Full Brief Nud M', 'ARG 5.30 GB Chestnut', 'Fus Pain + Infl 60t', 'Max Health WPI 1.5kg', 'DoggyL CalmingCookie', 'Dr Red Spearole 150', 'LE Cashew Mylk 80g', 'Bf GF Cran 500g', 'HOG Vit C 120t', 'Flat Out Bear Latte', 'PO Or Nettle 25tb', 'Prot Muffin Mix 340g', 'Cell Food 30ml', 'Inca Inchi Prot 400g', 'Bal N Plant Pr V 1kg', 'Boody Full Leg Bl L', 'YP Chlorella 200t', \"Bc Men's Ess 240t\", 'Super Grass 200g', 'Boody G-Str Bl SM', 'Tho Bilberry 60c', 'Fus Sleep 60 Tabs', 'NG Msli Goj Frt Nut', 'Zero Lasagne 350g', 'CF Rose + Glyc Soap', 'HOG Mag Cit 60c', 'Trinity Body Oil 200', 'SPF BC Oily 350ml', 'Arborvitae Arthritis', 'Vr Castor Oil 250ml', 'Tom Org Ult Thin Pad', 'Ng Almonds 1kg', 'NL Ester C 60t', 'Sp My House11ml', 'Bioc CalmB 30c', 'Mel Cond Base 1litre', 'HoG Act B12 75 Tabs', 'Woodstck DillPickles', 'HOG Mushroom 5 60t', 'CH Fibretone 200g', 'DrB Cast Unsc 140g', 'RS Rasp Tea 25 Bags', 'ENV Dish Wash 500ml', 'OL 1 A Day 60c', 'NG Chip Ccnt 150g', 'JC 100st Jojoba 30ml', 'NO SupGree+Reds 150g', 'Mel Olive 500ml', 'PR Child Pro 50g', 'AF Pear 20g', 'NV Nat Aloe V Ju 1L', 'Lot Wheat Grm Rw 500', 'Bm PrAct 50+ 100c', 'Zen Matcha Gr Tea 60', 'PO Rosemary', 'PO Oregano', 'SS Beetroot 80g', 'EVO Hand CrBch 50ml', 'Ever Eco Bento boxXL', 'HNZ Manuka 10+ 250g', 'FH Coll Silver 500ml', 'Tri Frankincense 10m', 'DV Ac L-Carn 150g', 'NG Almond Meal 150g', 'Eco Min Flawles LgtT', 'M&P Kali Mur 125 Tab', 'NV Children Pro 50g', 'Braggs ACV Book', 'VGO CV PP 1.12kg', 'JC Facial Clean 125m', 'TP TT Shampoo', 'H Mix Sleep 200ml', 'Icelandic elderflowe', 'BD Banana Bread HndB', 'BM SK Imune Gum 60c', 'Castile Lav. Pump 50', 'NS Turmeric 34k 30c', 'MP Mot Potion 150g', 'B-Active 31s', 'JC Youth Potion 50ml', 'SLC ANB Cream 250ml', 'Vital Prot 1kg', 'LE Paleo Prot 320g', 'Power Maca Blend 250', 'NV Mag Cmpl Pdr 300', 'Eco Min Perfect Beig', 'CE Pomegranate 66ml', 'Mg How Now 120g', 'Lot Sunflw Kern 250g', 'BP NZ Man Hon Bl 500', 'Jun Sen Rej Oil 30ml', 'HNZ Manuka 22+ 250g', 'CHE SS CB Pink 750ml', 'Easy pH Test + Book', 'Fus Cold Flu 200ml', 'PB Jojoba 200ml', 'Bc Zinc Sust 120t', 'Bf Power Food 330g', 'Cry deod uns 66ml', 'HOG Resverat Ad 60c', 'WM Shopping bag', 'Ellia Diff Gathther', 'NL GL Cho MSM18', 'ARG Hy Shampoo 500ml', \"TE Lion's Mane 50g\", 'LIF BarGrass 240vc', 'Bm Vit E Cream 50g', 'Ls Aloe Juice 1.25l', 'Eloa Pomeg', 'MOR Ale Coconut 300g', 'Bc Prodophlus 120 ca', 'DrB H Soap LGr 710ml', 'Niu Coc Vinegar 250m', 'Niulife Coconut Shel', 'Env F Load Laund 1L', 'Flat Out Bear Bluey', 'Am Smooth Coc 4x100g', 'Fus Liver Ton 30 Tab', 'OR Coc Chips 200g', 'ON Amino Energy Grap', 'PO Org White 25tb', 'Chia Co White 1kg', 'Ls Aloe Juice 2l', 'Sp Coc Bod But 240g', 'SF pasta sauce fungi', 'Fus Cold Flu 30 Tab', 'MEL CashCocoSp 250g', 'KF LL Sleepy Org 40g', 'M&P Calc Fluor 125 T', 'TO Salted Butter', 'PLV Gr SupKraut 680g', 'FUS Garcinia 60', 'GN Gr Vit C 120c', 'HTG Nut Milk Bag', \"NG B'wheat rostd 500\", 'Endura Gel Grape', 'Lw Blueberry 946ml', 'Smart Diet Peanut bu', 'Pukka Tea Blackcurre', 'Lot Rice Fl Whit 500', 'Raw Med Reishi 50g', 'HOG Brom Forte 60c', 'DV WPI+WPC Van 375g', 'M&P Comb D 125 Tabs', 'Nirvana Stevia 250t', 'Bl Dand Leaf 50g', 'Sp Plum Vinegar 250m', 'Natural rubber sooth', 'HOG Wom Multi 60T', 'Nirvana Stevia 50ml', 'M&M Bone Broth Curry', 'Bl Horsetail 50 Gram', 'Mel Rolled Flax 350g', 'Eloa Aloe drink orig', 'End Low Carb LL 128g', \"Pret Mag Ort 60's\", 'Lunch Box Rev Book', 'ET HandSanitiz EL150', 'EV Raw Organic Rose', 'HOG RaspLeaf 60t', 'Ton 7R 120ml', 'LS Col Min 500ml', 'Tr Lean Prot Van', 'Jun Sens Cl Lot 125m', 'BC GlFac Forte 120c', 'Hh PassFlwr T Bag 30', 'CC Things Choco 99g', 'CHE ASWBT 1l', 'Cholesterol Book', 'Ak Unsc BodyWash 500', 'HOG Vit B5 60c', 'Ever Eco Bento Box L', 'ABC Mag Bath Fl 1kg', 'Castile Lav. Refill', 'Gr Superfoods 250c', 'Fus Wom Multi 90t', 'Bc Ult Pot-C 500g', 'Bal Pl Prot Va 500g', 'Tulsi Inc healing', 'Eag GlucoSupport 60', 'Barambah CottageChiz', 'Easy Keto by P Evans', 'Bonvit Guarana 200g', 'Lf Food Orange 475ml', 'BioC K2 Caps 60c', 'HOG B1 100mg 100t', 'Floradix 250ml', 'Bo LSleevOnes Ch 0-3', 'MG Conditioner 500ml', 'HNZ Manuka 5+ 250g', 'Bo Socks Ch/Ro 12-24', 'OR Coc Sugar 250g', 'Bo MWraps x 2 Sky', 'YP Chlorella 100t', 'Tulsi Ess Rose Cones', 'Boody Crop Leg Bl Me', 'Bc BabyBiotic 0+ 60g', 'NO Sup Gr + Red 1kg', 'KIN Tulden Blend 50g', 'Sp Myrrh 11ml', 'Bundaburg Syrup 1kg', 'CH Tyrosine 125g', 'ZEB Diat Earth 250g', 'Sp Jasmine2.5%in Jo', 'Noble Jerky BBQ Vega', 'LL Swish Turq', 'Deonat Roll On 65 Ml', 'Herbisaurus Morrocan', 'Me Goat Ch Olive 320', \"BC Men's Ess 120t\", 'PP Keto ButerBomb2', 'Sp Jojoba Cream 240g', 'PB Sleep EZY', 'HOG Crn 70000 HS 70t', 'LE 85% Dark Choc 80g', 'BC Olive Oil Salt', 'PPC HWoo Henna 250ml', 'THO OA Kava 3800 30t', 'Bm Travel Calm 45tab', 'MG Ecz Psor Cr *New*', 'PB Orange 10ml', 'MG Cream Cond 1l', 'Bc CardioChol 60t', 'HM Herbed sea salt', 'Good Green Stuff 1kg', 'MooGoo Lip Balm Str', 'Lot Spelt Wht Fl 1Kg', 'LL Drift White', 'NS Gymnema 60 Caps', 'Am RAW Slim Cac 1kg', 'Bc Pharma Mag 120t', 'OB PeppMint Tea 50', 'Tilley Bath Bomb Van', 'NV Prem Mag 100t', 'Rawsome vegan baking', 'Ozg Tom+Bas Sce 500g', 'NG Dates 500g', 'CHE IWT SG 320ml', 'TP Headache Rollon', 'Bc Iodine Drops 50ml', 'TP T/T Conditioner', 'NV Olive Leaf 6k 60c', 'Fus Magnes Adv 120t', 'Smart Diet Rasperry', 'TP Lavder Spray 140g', 'OZG RJ CS 500g', 'Bm Vit E 500iu 150c', 'MG Milk Shampoo 1L', 'Mel Almond Spread', 'KH De-Stuff Rub 28g', 'Boody Boyleg Bl SM', 'Fusion CoQ10 150 30', 'EAG Tresos Natal 90t', 'M&P Comb R 125 Tabs', 'TP CB SL 7ml', 'Th Kelp 1400 60Tabs', 'Bm Bio Magnes 50tab', 'Bo LSleevOnes Ch 3-6', 'PB Wintergreen 10ml', 'NS To Tem Burg 200g', 'PRA PPP Choc 400G', 'Goli ACV Apple cider', 'M&P Nat Phos 125t', 'TP TTree Oil 25ml', 'NS Rhodiola 60c', 'HOG Echin 4000 60t', 'LWood Pomegr J 946', 'Fus Stress 120t', 'CHE Clo SS Bottle 1l', 'ZZ-Opt Pre WO BB L 3', 'NI Night Cream 110ml', 'Eagle Joint ease 150', 'LZ Carob bud mint', 'Ivys Bracelet Variou', 'NL Kyoic Extract 60c', 'OT Wht Choc Rasp', 'EVO FMist Gard 100ml', 'NV Pr Calc Comp 100t', 'Flat Out Bear Choc', 'PL Date And Wal', 'Eag Ech Roy 60t', \"Castile P'mint Pump\", 'Bm Echinacea 50ml', 'Vegolino Pralines', 'Bc ArmaForce 120t', 'LL Dune wht', 'Pow Dulse Fl 40g', 'OR Cacao pwdr Org', 'NG Ban Sun Dry  250g', 'NR Alm Chia Spr 240g', 'OR Des Coc 200g', 'Eco Tan Glory Oil100', 'Amb Org Honey 1kg', 'PO Org Peppmint 25tb', 'Ton 7N 120ml', 'Sp Tamari Cr 65g', 'Bragg Vin Honey 473', 'GPeople Juice 147ml', 'PLV Native Herbs580g', 'SW ProteinBerry 500', 'Niu C Amino Sce 250m', 'GF Salmon EVOO 120g', 'MooGoo Milk Shampoo', 'Yogi Green Tea Blueb', 'Bl H-A-Lax 200g', 'Sp P Sauce Arrab 375', 'Del Tealight Jap Mim', 'Boody M Briefs Bl M', 'Boody M Boxers Bl L', 'EM The Original 240g', 'PH Or Rice Malt 1kg', 'Trinity Witch Hazel', 'WEL Geing Milk 100ml', 'Prot Pancake Mix 300', 'Hh Prostalobium 120c', 'BOO Mew Cut Blk 6-11', 'CLProt Cap 20g', 'AO Trail Mix 250g', 'Amazonia Acai 145g', 'HOG Preg+ 123 60t', 'Amb Org Honey 500g', 'Vital Prot Van 500g', 'ALO Al 20 shots 50ml', 'Power Org Chia 950g', 'GF Salmon EVOO 190g', 'AMA LemManSpray 20ml', 'HoG Mem+Conc 60t', 'X50 GrnTea Passion', 'BioGr Curcumin 60g', 'HNZ Manuka 18+ 250g', 'ORG ICMP 200g', 'Nv C + Hesp 200g', 'QCamel Camel milk 1L', 'Tulsi Amber Necklace', 'JC Ho-Ho-Ba Kissmas', 'GO Lentil Soup', 'Ak SWood BWash 500ml', 'Alch Lgrass Spoo 500', 'Nt Org BWheat Bread', 'Postage 500gm', 'BB RaspbryVan SCadle', 'ALO A/V Juice Nat 1L', 'Pow Cacao Beans 250g', 'PRA PPP SS 400g', 'End Perf Rasp 800g', 'Fus Curcumin 30c', 'Tulsi Mango Box 3 dr', 'AO Mag Bath Fl 800g', 'Pn Papaya 25g', 'Am Smooth Ener 4x100', 'HNZ Manuka 20+ 250g', 'PR GABA 750 100c', 'PB Castor Oil 50ml', 'EM Lw AussSalt 240g', 'Wel Sage Deo 100ml', 'GVC PB HairWell100m', 'BC Armaforce DN', 'SPF BS Dry 350ml', 'HNZ Manuka 10+ 500g', 'SS Smudge Small', 'SP Blk Ses Ck 75g', 'Bl Calendula 50g', 'LL Ess OIl Joy 10ml', 'LE R Cash Myl Ch 30g', 'Organic Coconut Milk', 'PR Boswellia 120c', 'Paper Bag', 'H Mix Yeast 500ml', 'NR Euc Raw Honey 1kg', 'PO Org Engl Breakf25', 'NL Probiotica DH 60t', 'CHE CC Pista 310ml', 'Banjo Bear Vegan bar', 'NG Figs Org 1kg', 'MH Roasted Peanuts', 'Lotus Almd Meal 125g', 'LL Aroma Elise', 'Bach Rescue 20ml', 'M&P Silica 125t', 'East Bali Chasews Po', 'OP 100% Whey Va 2.2', 'SD Bar Caramel hon', '2die4 Sun Seeds 300g', 'BP Aus14+ (15+) 250g', 'WWN CMIG SB 30x150g', 'Ch Bottle Buddha 1L', 'Bc Glutathione 60c', 'Roch Papaya Leaf 60c', 'Env Floor Care 1L', 'CHE CM Pink 350ml', 'Herbal Wellbeing Str', 'Saba Hand Sanitiser', 'LE BucknBerry Bar', 'Sp Org lemon 11', 'MOR BW ZCP 200g', 'PO Energy 25tb', 'Gr Superfoods 500g', 'Tri-Plex 50ml', 'BOO ShapCropBraBlS', 'Bon Henna Burg 100g', 'Bc UME Cream 100g', 'NV Nat Mur 130t', 'Satya Nag Champa 10g', 'NL Gluc 1500 Adv 180', 'Am Kom Ging 1L', 'Wel Baby Sh&B/W 200m', 'PO Or Ginkgo 25tb', 'Top Premium Choc 1kg', 'Moogoo Demodectic Ro', 'KF Sleepy 25s 50g', 'Bm Folate 90 Tab', 'BP Honey Comb 350g', 'X50 Tea Marine Colla', 'Bo PullShort Sk 3-6m', '2die4 Brazil 300g', 'HOG Stress-Ease 60t', 'NR LSQ 400g', 'HOG Glucosamine Max', 'Bm Pc 73 84t', 'AF PeachGood 100g', 'Tilley Soaps Various', 'Eco Min Bronzer Exot', 'PRA SG Mint 200g', 'H Mix Echinacea 200m', 'Ns Meadowsweet 100c', 'HOG Brahmi 6000 60 T', 'Ber Org Honey 1kg', 'Fus Sleep 30 Tabs', 'Tr Pump Protein Van', 'Grahams Soap 100', 'M&P mag Phos Cr', 'BP Ginger&Lemon 40l', 'THO MTOAD 42000m 60c', 'DrB Cast Pepp 59ml', 'Bm Lutein-Vision Ad', 'M&P CrCalendula 20g', 'Jun Clm Rose Mst 125', 'PB Lavender Aust 10m', 'HOG FolicAcid C 60t', 'KF LL DC Org 60g', 'LE HNut Mylk Ch 30g', 'Lot WheatBran Org300', 'Pro Grass Fed Choc', 'Tri Clove 50ml', 'Banjo Bear 15g', 'CHE AS WBS 1lt', 'MEL AFS Oil 500ml', 'NP Honey Cornflakes', 'CoYo Ice Cream V+NM', 'DrB Cast Pepp 946ml', 'PA Macadamia White', \"Bm Men's Multi 90t\", 'Bl Cel & Jun 70c', 'DrB H Rinse Cit 237m', 'WWN PlPC BIC 850g', 'Schar GF Delishios', 'Bc Iodine Ft Spr 50m', 'Nv Iron 24mg 30t', 'Biologika BugAnother', 'Fus Str B Mul Adv 60', 'NV Olive Leaf 6k 120', 'BM Omega Double 90c', 'Sp Mandarin 11ml', 'Noble Jerky Original', 'Boody G-Str Bl ML', 'Rescue Rem Sleep 10m', 'Bon DLion Bags 32', 'BBik GF CocoDate300g', 'PO Org Earl Grey25tb', 'Mh Schisandra 500ml', 'RG Crushed Garlic', 'Br Arnica Cream 100g', 'CE Chamomile 66ml', 'Ns Horsetail 100t', 'TN Premium Va 3kg', 'EVER ECO B/straw', 'OT Butter SALT 250g', 'Weleda Shaving Cream', 'LL EsOil Courage10ml', 'PR VitC 1000 250', 'Tri Marjoram 10ml', 'Zero Konjac Noodles', 'Bc Gluc Fact Frte 60', 'CJ Blackberry 325g', 'Sp Lavender 11ml', 'Bc B12 50m', 'Trin RHip Oil 50ml', 'DG Moisturiser Ligh', 'Bo W ED Soc Bl 3-9', 'Baby Wipes', '2die4 Tam Alm 300g', 'ARG 1.0N Blk Natural', 'Lot Quin Flakes 300g', 'NG Bitter Melon 365c', 'BugGrrOff Ins Repel', 'PB Clove Bud 10 ml', 'PLV Cash Cheese 300g', 'Tri Rosemary 10ml', 'NV Beauty Colla 155g', 'BOB GFBBCL 350g', 'End Low Carb Coc128g', 'BM SupKids MChew', 'Pukka Tea Herbal Col', 'GN BarleyGrass 200g', 'Keto Nat CrispyCauli', 'NG Sultanas Org 500g', 'Bon Psyllium Or 500g', 'Lotus Bourg Fine 375', 'ZEN Spts Spray 125ml', 'RS TPaste Kids 75gm', 'HNZ Manuka 5+ 1kg', 'Colon Cleanse 125g', 'SS Smudge Large', 'WWN VAPP 360g', 'Tulsi Nag white sage', 'MooGoo Scalp Cr 200g', 'Jun N Cr Clnse 125ml', 'Nirvana Stevia 100t', 'EN CoQ10 6x 150 60c', 'Fus Libido 60 Tab', 'OB SlimmTee 20', 'Ols Salt Raw 250g', 'TP TTManHon ClayMask', 'TP Maclean Oil 125ml', 'M&P Cr Comfrey 100g', 'THW LM NG Gift Set', 'Th Org Zinc 180t', 'Hh Epilobium 100g', 'Bc Lipo Glut 50ml', 'TP Peprmint Oil 25mL', 'Bioceuticals MTHF 60', 'DrB H Soap LGr 355ml', 'PLV Bush Curry 580g', 'ALO AV Imm Rec 1l', 'Bm Vit A 150 Tabs', 'WWN V SCP 1kg', 'Aroma Rose', 'Hh Hawthorn 30 TB', 'DG Blush Pink La', 'Bc UME Cream 400g', 'LE Buck Nt Seed 400', 'Green Calcium 60c', 'Crystalized Ginger1k', 'Fus Wom Bal 120t', 'Bon Sweet Slice 150g', 'Pret DHEA 90 Tabs', 'Smart Diet Marshmell', 'Bo Bsuit Chalk 0-3m', 'EB Cashews Chilli', 'DrB Cast Unsc 237ml', 'Niu Coc Flour 500g', 'NV Vitex1000OAD60VC', 'PRT Kids Gum VCZ 60s', 'OR Apple CiderV500ml', 'Aroma Seed', 'Boody VNeck T Wh Lge', 'Salt Lamp 2 to 3kg', 'DrB Cast Euc 237ml', 'Tri Candle CMV Tin', 'Lot Oat Steel 500g', 'DG V LipShine Pink', 'Ch Bottle Leaf 1L', 'Boody Crew T Black S', 'PRG Org PPBO 150g', 'PL Spr Brd Date Waln', 'Fl Iberogast 100ml', \"NG B'wheat Raw 500\", 'NL Brahmi+Ginkgo 100', 'PB Vegi Capsules 150', 'Bc CQ10 Ex 150 60c', 'NE Gr Ban Starch 400', 'LL Swish Black', 'PLV Kraut Garden her', 'MG Eye Ser 3 Vit 25m', 'Ton 4M 120ml', 'WEL Aly Lotion 200ml', 'PO Cinnamon', 'Bo Socks Ch/Sk 3-6m', 'Nut Olive Leaf 500ml', 'Pana Stcks SaltCarx3', 'Boody Crew T White S', 'Turban Laksa Paste', 'PF Potat Spin Mash', 'ARG 3.0N Dark Brown', 'Klean Kanteen 532ml', 'M&P Sleep Spray 25ml', 'BOO Paop Bra Nude XL', 'Boody 3/4 Scoop T M', 'PR Pomegranate 250mg', 'Bl Herb-A-Lax 200c', 'White Magic Veg Brus', 'Lot Guar Gum Org 75g', 'HH Bile Flow TBags', 'BC Pepzin Pro 60c', 'Eco Bod Wash 375ml', 'Fus Kids Probio 100g', 'PO Crk Blk Pepper', 'Salt Lamp 5 to 7kg', 'EN Mood Re-neu', 'Bc InNatal 120c', 'BM VitC Effer 10s', 'GVC Rattan bundle', 'DV Carbs 1.5kg', 'Bo Socks Ch/Sk 12-24', 'Tulsi Rose Cones 10p', 'PO Cor Seed Whole', 'CF Loofah Scr Soap', 'NR Sunflower Ker 500', 'Spiral Olv Oil X/V 5', 'Koochikoo Org Lolli', 'Jun Teen Mist 125ml', 'NS Tasty Temp 300g', \"Org MG O's Quin 300g\", 'Bm Mens Multi 50 Tab', 'Jun Calm Serum 100ml', 'Hh St J Wort 50g', 'BOO Meinglet White M', 'Fus Meno Free 60 Tab', 'Nat Good Bit Mel 100', 'DrB Hand San 59ml', 'Bc Iron Sus 30t', 'ENC SEDMB 12sac', 'Bm Lyp-Sine 100t', 'Turban Korma Paste', 'Pukka Tea Womankind', 'Aroma Snooze Blue pl', 'CE Pomegranate 118ml', 'Herbal Wellbeing Paq', 'WWN LTPW 250g', 'Sp Spirit Woman 11ml', 'PO Or FemBal 25tb', 'CF Kinder + Soap', 'Bal Nat Mass Ch 1.5k', 'OGN Crbread RT 125g', 'Maca Power 500g', 'JC Day Cream 50ml', 'Kit Car Spray', 'BOO Meirt Li Marle L', 'WnderFoods Inulin500', 'Sp Miso Soup Red', 'MH WPI+WPC Van 375g', 'Am RAW Pro Cac 500g', 'Mad Millie Vegan Che', 'OB Nat Green Tea 20', 'Sataya Nag Champa 40', 'LE Caramel Choc 30g', 'Tress B Plus 50t', 'Bm Vit D3 60 Caps', 'PB Lemon CO 10ml', 'GP Ginger Chews 56g', 'Av Vit C Cream', 'Th Celery 5000 60c', 'Aroma Lily Blue', 'TOL Oil Pendant', 'WEL IrDay Cream 30ml', 'Cheeki Silver 750ml', 'Am Smooth Pure 4x100', 'Fusion Cardio Tonic', 'Lauria Amaretti Coll', 'Bm PCIP 170 Tabs', 'TP Acne F Wash 150ml', 'OT MilkChoc RockyRoa', 'En Fish Oil FP 170ml', 'AH Org BuckwheatWrap', 'PO Espresso Caps Med', 'Nl G L Mussel 90c', 'PRA Phy Fire Pro400g', 'PO Or Chai Spice25tb', 'NL LivPlus Boldo 60C', 'Br Nervat Calm 60t', 'Pana Mint 45g', 'Vegesorb 1kg', 'Tulsi Cone Tower Var', 'Inner Health 90g', 'LL EO HeadSoothe10ml', 'BC Selnm Drops', 'Dr Zoo Moogoo Dog Sh', 'Bc Intestamine 150g', 'Bm Macu Vis Plus 60t', 'AO PRO SL TGA 125ml', 'Boody VNeck T Bla Me', 'Zen Harmony 60 Tabs', 'BC PEA Liq 50ml', 'GVC Epsom Salts 1kg', 'Boody Cami Nude M', 'Sp LemongrOrg 11ml', 'CF GFruit+ Lime Soap', 'Bc InflamZyme 90c', 'PO Garam Masala', 'LE Mint Dk Choc 30g', 'Bc Antiox Ex 60c', 'Br Arnica Spray', 'Olive Ext Pepp 200ml', 'ARG 8.Blonde Natural', 'Tulsi Tea Sleep', 'DrB Cast Almond 59ml', 'X50 GT Lemon Ginger', 'ABC Manuka Candy 60c', 'KF L&G M Hon 25s 65g', 'Bf Gran Map Van 450g', 'Fus Mag Adv 300g', 'Honey Leatherwood 50', 'EZ Bth Cr Detox 900g', 'Eco Tan Hand Sanitiz', 'Til GM Body wash', 'Bl Osteoblast 100t', 'Tom Org Night Pad', 'Mel Coconut Oil 900g', 'MOR BG Ju Mang 200g', 'BM Lut Def 60t', 'Bal Nat Whey Ch 1.5k', 'Lacteeze 120 Tabs', 'HS Seaweed salt', 'Fus Energy Multi 90t', 'Mel Vit C+bio 100g', 'BRG Seasoning Herb', 'Aroma Snooze White P', 'PO Elderflower 25tb', \"Castile P'mint Ref.\", 'GVC Mixtures 50ml', 'BOO Meirt Li Marle M', 'Naturis Corn Bread', 'Mojo Act Kombucha Gi', 'WWN StrawMint I+G150', 'Ng Goji Juice 1L', 'LWood Cranberry 370m', 'Wel Pom Hnd Crm', 'Pure Life 6 Seed bre', 'Sym Dand Tea 250gm', 'Chia Co White 500g', 'Tropeaka PB Prot Bar', 'Pukka Motherkind', 'NV Pr Calc Comp 200t', 'LE Turk Delight bar', 'NG Macadamia 150g', 'NG Figs Org 250g', 'PN Hny&Cin PB', 'NG Cranberries 250g', 'BD Wild Apricot Bar', 'HOL Kombuc ginger', 'AM Festve Fizz 1L', 'Hh Beta-Lax 30 Bags', 'ALO AV San 125ml', 'Ns Astragalas 100c', 'Pret Micel E 50 Ml', 'MG SPF40 120g', 'ZEB St Act CC 75g', 'Banana Joe Chips Sal', 'Fus Menopause 60t', 'Nv CoQ10 150mg 60c', 'Tr Protein Choco Bar', 'SD Bar Apricot Cocon', 'Nat Good Pollen 250g', 'Bm Women Multi 90t', 'Cheeki Mug Orange', 'Pow Org Chia 200g', 'LE Camu Camu 50g', 'Olive Ext Nat 500ml', 'MooGoo MSM Cr 75g', 'Dr B Cast Almond 237', 'M&P Calc Phos 125t', 'SF Haircare DPN', 'DrSup Cranberries', 'LE Cr Mylk Ch 80g', 'Niu Coc Bals 250ml', 'HOG BioCur 5400 60t', 'SPF BC Col Tr 350ml', 'Br Snore Eze 20ml', 'Sp Mpl Syrp 23ml', 'NO Ber Ch Ch Bar 30g', 'Alch Unsc Spoo 225ml', 'Org Corn Chips 500g', 'NG Prunes Ptd 1kg', 'Nl Gut Relief 180g', 'Amaz Sup Greens 200g', 'Boody Tank Top Bl S', 'MFN Coll SilSp 100ml', 'CLProt Van 20g', 'BD Pal Bar B Ber 45g', 'Blo Green Tea 60c', 'Fus Astra 8 30 Tab', '2die4 Hazel 120g', 'VIT AllOne Doy 135g', 'Fus Wom Multi 60t', 'Bo W Sp Soc Wh 3-9', 'Marigold Purple 150g', 'BCR Axilla DP 75g', 'Jun Int Bod Lot 250m', 'Bo Bsuit Chalk 3-6m', 'Rescue Remedy 10ml', 'MGFC Moist 120g', 'Ozg Avo Dress 350ml', 'OT Berry Jellies', 'AO MPP RelSp 200ml', 'Bf Gf Porrij 1.1kg', 'KN95 Mask with valve', 'Mango Box 9 drawer n', 'Bo LSleevOne Ch 6-12', 'LE Act Buckinis 450g', 'M&P Mag Phos Sp 30ml', 'Aroma Flare Met Whit', 'Fus Energy Multi 60t', 'Fus Allergy 60 Tabs', 'BC LivProtect 60tabs', 'Aroma Mod Floral Pat', 'CHE IWT SW 320ml', 'Pow Cacao Gold 450g', 'BP Lemon 40l', 'THO Lir Cleanse 120c', 'BRG BK MF', 'Ton 4CH 120ml', 'Gr SuperFoods 120c', 'Pukka Tea Pepp & Lic', 'Sp Org Tamari 500ml', 'Fus Memory 30 Tab', 'OZG TG CS 500g', 'TP Mac Face Oil 30ml', 'BD Lemon & Macadamia', 'Nv Vit C 180 Tabs', 'Bal Glutamine 50c', 'MER Oiking Org 500ml', 'NV Melatnin 30c 130t', 'Sp BWheat Ramen 88g', 'Rapunzel Dark 2.5kg', 'Ellia Ascend Diffuse', 'MH Australian Mix', 'AMA RST Prot TT', 'CHE InBlk SS Bot 1lt', 'YP Chlorella 500t', 'Nv Chlorophyll 500ml', 'HoG Sleep Ease 60c', 'FUS Mag APLL 165g', 'Rescue Rem Sleep 20m', 'BP Ginger Honey 500g', 'Aroma Bloom P Pink', 'PR High St Pro 30g', 'Boody F Brief Bl S', 'OGN CrMQuinoa 125g', 'Bc MGest Enz 90c', 'SP smudge stik sm', 'Boody Cami Black S', 'Spry Gems SMint 40', 'MG Full Cream Mo 200', 'TN Colostrum 100g', 'Niu Coc Syrup 250ml', 'Omega Dble High Stre', 'GN Marine Mag 100g', 'Mor keto coff 14sach', 'Pukka Days Chrstmas', 'Bm Mega B 31 Tab', 'CH Cacao Chips 250g', 'Lotus Soy Prot 200g', 'Bm Magmin 100t', 'TP Aloe Gel 100g', 'Com TPaste 100g', 'NV Mag & Cramp 100C', 'Wheatbags Love Sleep', 'MG Day Cream 75g', 'LE Lem Car Choc 80g', 'OR Spelt Flr WM 1kg', 'Mel Molasses 600g', 'MH St Johns 500ml', 'Tp S Care Soap 125g', 'WWN V Prot ChocMintC', 'LE Gubinge 50g', 'MEL ChocHazSp 250g', 'OGN C Cr Crumb 300g', 'Com PropolisElx200ml', 'TPBC Banana Bread', 'TE Cordyceps 50g', 'Opt Oats Whey Va 3lb', 'DJA Veg Shiitake Jer', 'MG Udder Cr 120g', 'BOO Parop Bra Nude M', 'Mel Org App Cid Vin', 'NV Silica 30c 130t', 'Flat Out Bear Milk', 'Mel Or Sun Mayo 365g', 'NS Mild Sp Tem 300g', 'PO Garlic Granules', 'Endura Gel Raspberry', 'DrB Cast T Tree 59ml', 'Lotus Bwheat Kern500', 'Kolorex IntimateWash', 'Cheeki Tumbler Pink', 'NO Gr+Red Bar 45g', 'Neem Oil 50ml', 'NV Mg Com Pwd 150g', 'Bo T-Shirt Ro 6-12m', 'Eag Ubiquinol 150 30', 'Bm Valerian Forte 30', 'Vital Prot Ch 1kg', 'FUS Gu0 Billion 60vc', 'Fusion Meno Free 120', 'Bo Singlet Ch 6-12m', 'Fus Tien Gins 50c', 'GVC Empty 250 Spray', 'DFDU Vegan Mozzarell', 'HOG Ubiq 100mg 60c', 'Bc Deo Stick 100g', 'Boody 3/4 Leg Bl M', 'PF Orig Patty', 'Tri Lem Myrtle 10ml', 'PRA PFP IcedCof 1kg', 'NG Raw Delux 1kg', 'Lot Slip Elm Pwd 250', 'HLy Lem Myr Hon', 'Fus Kidney 60 Tabs', 'Smart Diet Cinnamon', 'Sataya Nag Champa 15', 'Castille Or Pump 500', 'HOG Vit B2 200mg 60', 'MH Cal Bone Com 240g', 'KF CR 25s 65g', 'Env Body & Hair S 1l', 'SJ T Paste Pine 75g', 'KF Detox 25s†65g', 'CHE IKB Dolp 400ml', 'Braggs AP Seas 180', 'Inner Health + DF 30', 'NG Almonds I/F 500g', 'Cheeki Food jar topa', 'Boody Bikini Bl SM', 'Boody Tank Top Bl M', 'CLO Coacao Soap 150g', 'Sp Juniper 11ml', 'Org BWheat Pasta Spi', 'Am Kom Ging 330ml', 'Nourish in 5 Amy Lee', 'Bon Henna GldBr 100g', 'Harmony Soap May Cha', 'Recue Remedy Pastill', 'Boody Bikini Bl LL', 'BOO Midi Brief Blk S', 'DoggyL ProteinCookie', 'HOG Vit B6 200mg 60t', 'MEL OMCT P Orig 300g', 'LE Salt Car Choc 30g', 'BOO Full Brief Wh Lg', 'Lifestream Spirulin', 'SF Haircare DPDD', 'Vital Prot Ch 500g', 'Bc ChondroPlex 120t', 'PA IceCream VanillaB', 'GO Chilli soup', 'CHE AI BP 600ml', 'AromaCo Lava Bracele', 'Ton 8N 120ml', 'Sol Festive Cake Mix', 'Incense Vanilla 30s', 'Mel Pumpkin Oil 250m', 'CHE IWT SB 220ml', '2die4 Pistachio 250g', 'Tri Nouris Oil 1 50m', 'MG Mudder Udder 50g', 'HOG Tyrosine 60t', 'Fus Pain + Infl 30t', 'Mel Flax Oil Org 500', 'Mel App Cid Vin 500m', 'Good Green Stuff 300', 'Bf GF Cran 350g', 'GM BWheat Puffs 125g', 'GF Mack EVOO 190g', 'HH Org Fr Eggs 700', 'ENV Vig Cleaner 1L', 'Ls Spirulina 500tab', 'PRA PPP Cocomlk 400g', 'CJ Blueberry 325g', 'Bc SB Flor 60c', \"LC Lion's Mane 120ml\", 'MP STS COMB E 125t', 'DrSup AntiOx Sup Ber', 'Th Valerian 60 Caps', 'MooGoo Soap Oatmeal', 'GF Uncontaminated Oa', 'CH Mag Ultra Citrus', 'DJA Cacao Coconut ch', 'Eco Tan outdoor spra', 'Bo Sh Cr Bra Wh ML', 'Te Fr Roast 10 Bag', 'Nv Prem Multi 120 Ta', 'PO Gotu Kola 25tb', '2die4 Pepitas 100g', 'Eco Min Conceal ligh', 'RS Blk Adder 50', 'NV Kali Mur 130t', 'HFA HOO 500ml', 'AO Magnesium 60ml', 'DJA Dried Pineapple', 'OZG TR CS 500g', 'Mel Maca Spread', 'MG Cover up 15 120', 'Prot Pizza Base 320g', 'GVC Oregano Mycl 30', 'Fus Cough Lung 30t', 'Banjo Bear Mint 15g', 'GVC Mag flakes 1kg', 'Trin Sugar Scrub 375', 'ML Nettle Rev 25tb', 'Fus Libido 30 tabs', 'MH Vanilla Pdr 50g', 'OR Chia Seeds 1kg', 'PK CH Gar Spice', 'Morlife††Senna†Klenz', 'BC UM Jun 120', 'ET emu oil 100c', 'LL EO Immune Bo10ml', 'PO Cardoman Pods', 'Org Chick Peas 400g', 'RG Pickled Onions', 'GF Salmon Brine 125g', 'Car Org Agave Dk 350', 'Lovingearth Nutty Mr', 'Org Pasta Sp Q 250g', 'PRA SG FM 300g', 'Bm Curcumin 30', 'MOR GK 150g', 'Ellia Diff Bloss G', 'Raw Carob Powder 200', 'PO Or Calming 25tb', 'PRA PPP Choc 1kg', 'CHE Ins TumLem 500ml', 'NS Blk WNut 100c', 'GN Gr Vit C 60c', 'Sp Rmary Org 11 ml', 'BB Mues Birch 450g', 'MOR CK Ch Drink 150g', 'MooGoo Scalp Cr 120g', 'OR Raw Aus Honey 500', 'CHE Clack SS Bot 1lt', 'ON 100% Whey Ext Cho', 'Ellia Diff Thrive gr', 'BM Oderless FO Mini', 'TGCC Sour Cream 160g', 'SP  Soba 100% buck', 'BD Pal Bar Lam 45g', 'BOB BBC PCLMT 350g', 'KF Ging Blnd 25s 65g', 'BOO Fugging Black XL', 'IH Eczema Shield 30c', 'Klean Kanteen 800ml', 'PR Retinol Crm 113g', 'GV Smart Shaker', 'BC Wom Ess 240', 'Sp Sweet Drms 11 ml', 'Uncontam Oats 500g', 'Love yr Muscles 150g', 'M&P Cr Thuja 20', 'Hp Spirulina 100g', 'ET Winter Skin 200ml', 'NO Collagen Van Bar', 'NV Triple Omega 150c', 'LWood Lem Juice 370m', 'Lot SlipperyElm125', 'Wel Skin Food 30ml', 'PB Bergamot 30ml', 'Power Cacao Nibs 250', 'Ki Hayfever Con 30t', 'Nv Vit E 500iu 100c', 'Env Rinse Aid 500ml', 'Boody VNeck T Blac L', 'Magic Mud toothpaste', 'Fus Cold Flu 100ml', 'CJ Red Raspberry 325', 'Kitz Mi Pizza Cr 100', 'Tri Rose in Joj 10ml', 'Harmony Soap Lime Le', 'Celestial Lemon Zing', 'NGS Maen Juice 500ml', 'EO Medjool 1kg', 'SJaws T Paste S', 'HH S Bitters 500ml', 'EVO FMist OutB 100ml', 'Flat Out Baby Latte', 'OR UW Flour 1kg', 'BB Mues Classic 450g', 'HNZ Manuka 5+ 500g', 'Mel Fish Oil + D 500', 'Aroma Elm Oak', 'HH Wormwood 50', 'Sp Rose2.5%11ml', 'Bo Bean+Boot Ch 3-6m', 'NG Lntl Blue 500g', 'Sp YlangYlangO11ml', 'Boody M Briefs Gr M', 'PO Org Tea 25 Cinnam', 'Boody M Briefs Gr L', 'M&P Comb T 125 Tabs', 'TP T Paste 110g', 'MP STS MAG Phos 250t', 'Bm Bio C 1000mg 62tb', 'BC UB Fact Junior 60', 'GevityBody Glue Burn', 'LE White Choc 80g', 'Lotus Bread Imp 250g', 'ALO A/V JuicePulp 1L', 'KWH Defor Kids 200ml', 'Bl Slip Elm 120c', 'Carob Easter Egg', 'Bm Vit E 250iu 50cap', 'SB5 AC CM 150ml', 'TUR TurmeriX 260g', 'BB Paleo Gran 400g', 'Yaki Nori Sheets', 'Lot Xanthan Gum 100g', 'Bm Gink Brahm 40t', 'Jun AO Firm Ser 50ml', 'THW RG & PNGG Set', 'NR Brewers Yea 450g', 'ESS Sielius Sage 60c', 'EN IBS Supp 30 Caps', 'KMax Ging Pear 500ml', 'Chlorella 500mg 200t', 'Bm Bio Ace Ex 150cap', 'Bm Multi 75tab', 'Am RAW Pal Pro V 1kg', 'Me Sheep Yog 500g G', 'Vital Greens 300g', 'SO Peppermint 59ml', 'PRA PPP Fr Van 1kg', 'GVC Hotel Mix 100g', 'Bm ZinvitC250 50t', 'Tho Liverplex 200ml', 'BN ear candles 1pair', 'Mel Org Tahini Uh 37', 'Wel Cal T Paste 75ml', 'Bc Migraine Care 60c', 'Alch Unsc Spoo 500ml', 'Tho Ech 4000 60t', 'WWN V Pro CocoR 900g', 'TWF cashews turm pep', 'Herbisaurus Vegan La', 'PRG Org PPBCPB 150g', 'CF Sorb + Glyc Soap', 'MGC Original', 'Mango box 6 drawer', 'DFDU Vegan Cheddar 2', 'Trinity Body Oil 100', 'Bl Fennel Seed 100g', 'Biologika CocSham500', 'Lifestream Ginger 60', 'Fus Liver Ton 120t', 'GF Tuna EVOO 195g', 'Ls Spirulina 20', 'EM Byron Sunrise', 'BOO Paop Bra White M', 'Green Calcium 100g', 'NG Prop 25ml', \"L'A Spet Fett 375g\", 'PB Eucalyptus 50ml', 'Mojo Act Kombucha Ra', 'Bm Nail Hair Sk 120t', 'DJA Potato Wedges SC', 'Bo T-Shirt Ch 6-12m', 'Bf Nat Cran 500g', 'EN M Zinc 40mg 95 ra', 'NS Hyd Bent 946ml', 'Perfect Sweet 500g', 'ZZ - NTC Tampons Reg', 'PB Relax 10ml', 'Smart Diet Cookies', 'Sp Van Bod But 240g', 'Fus Cystitis 60t', 'ON 100% Whey Dbl Cho', 'Mel MCT Oil 500ml', 'DJA PB Pretzels Salt', 'WWN W CVP 400g', 'FU Glucosamine Prem', 'OR Tahini Unh 375g', 'Te Fr Roast 312g', 'CE Lavender 118ml', 'Sp H Cr Jojoba 40ml', 'DrB Cast Lav 140g', 'Ton 6N 120ml', 'X50 Green Tea Ass 30', 'Epic Mints Pepp 180', 'PR True NAD 60c', 'GM Millet Puffs 175g', 'JC Travel Pack', 'H Mix Yeast 200ml', 'BP AuskaMGO 30+ 500g', 'Motion Potion 600g', 'Sp Carrot Seed 11ml', 'PO Or Oolong 25tb', 'Bo LSleevOne Ro 6-12', 'DrB Cast Cit Or 237m', 'Nv CoQ10 150mg 30c', 'Tri Ref Blend 10ml', 'DG eye shad dark cac', 'Tri Lemongrass 10ml', 'GF Salmon EVOO 125g', 'DV Creatine 500g', 'PB Patchouli 30ml', 'Pana S Cher+V 45g', 'TP LSSC RO 9ml', 'Nf Sil Pot Grab - Bl', 'Am RAW Prot Nat 500g', 'Vital Greens 600g', 'MH Ginger powder', 'MP Ress Bcurrant 40s', 'PFE Turm Paste 275g', 'GF Tuna EVOO 125g', 'Ng Mac Safron 60c', 'Fus ActiViral 60c', 'Rescue Remedy Spray', 'NIU CO Coco G 350ml', 'BP Aus 83+ (5+) 500g', 'Mango Box 6 drawer s', 'TAGC SNT CD 600g', 'GO Minestrone soup', 'CJ Black Currant 325', 'Fus Vitex 120t', 'Flordis Ellura', 'LU NSSPF30 100g', 'LE Lucuma 500g', 'PRA TF Prot CCC 400g', 'BOO ShapBra Nude L', 'ESS K2 menaQ7 120C', 'Niu BBQ Sauce 250ml', 'PB Lemongrass 10ml', 'Lot Oat Unstab 750g', 'ENV DWl L&L 1l', 'Bm Bio Magnes 100tab', 'Org Corn & Vegetable', 'Fus Kidney 120t', 'Sp Sanctuary 11ml', 'Fus H Sk Nails 90t', 'Imm Boost Kids 120g', 'ENV Buble Bath 500ml', '2die4 Mix Nuts 300g', 'LZ Mint Choc 85g', 'JC 100% NDLM 50ml', 'BOO Shop Bra Nude XL', 'macadamia milk 1L', 'Til GM Body Lotion', 'Nt Org Spelt Bread', 'Br Hay Fever Rel 20m', 'Body Crystal Pump', 'Jama Deo Vanilla', 'SO Vanilla essence', 'HTG Honey 500g', 'H Mix PMT 200ml', 'Sp Heart&Soul 11ml', 'Top  ZMA 100grams', 'Te Van Nut 10 Bag', 'BOO Parop Bra Nude S', 'Mh Vitanox 60t', 'MooGoo Mouth Wash', 'PO Turmeric 25TB', 'Pukka Tea Three Ging', \"L'A Spelt Penne 375g\", 'Hp Spirulina 500t', 'Grants Chlorophyll', 'DJA Sweet Potato Cri', 'Banana Joe Chips Swe', 'GVC Mixture Throat 2', 'M&P Comb 5 125 Tab', 'Golden Tumeric Elixi', 'Ng Lecithin 500g', 'LE Act Buckin 950g', 'YP Chlorella 250g', 'Trin Study Blend 10m', 'Aroma Bloom Wood Pea', 'Hh E Bright 50g', 'Am Raw Prot Cac 1kg', 'WN Fac/Sensitve 25pk', 'Top Nitro-Boost 250g', 'Core Org Ghee 225ml', 'LWood Bl Cherry 946m', 'TP MacBody Oil 125ml', 'Fus Memory 60 Tab', 'GVC Jewelry Pads X3', 'Boody F Brief Bl XL', 'H Mix Immune 200ml', 'LE Creking Choc 250g', 'Bm Pregnancy 60caps', 'Lknto Monkfruit Sw C', 'TP ASeptic Cr 100ml', 'Lot B Rice Flour 500', 'Fus H Sk Nail 30t', 'I Quit Sugar Life Bk', 'Icelandic spring wat', 'BOO Boyleg Black L', 'AO Magnesium 1L', 'ON Amino Energy Stra', 'Sp Neroli2.5%11ml', 'Happy Belly SCOBY', 'BOO Ac Tight Black S', 'NV EPP 35 B 60c', 'Sp Or Bals Vin 250ml', 'BC Zinc Drops 50 ml', 'Bc UltBio 60 60c', 'SS Tealight 9hr', 'Na Soap Wildberry', 'THO Uler Detox 300ml', 'WWN VC VP 400g', 'PB Jojoba 50ml', 'TN Taurine 250g', 'Bm CoQ10 150mg 30c', 'Soyco Jap Tofu 200g', 'Nir Stevia Choc 50ml', 'CG W Grass 200g', 'Ozg Bals Dress 350ml', 'PO Turmeric 300g', 'PB Patchouli 10ml', 'BOO Mii Brief Nude S', 'Fus Iron Adv 30t', 'CK Alond Bar 80g', 'Quick Loss Van 1kg', 'EB Cashews Salted', 'Fh Coll Mag 500ml', 'Trin Chamomile 10ml', 'PF Nut Roast 300g', 'Ng Currants 250g', 'Lknto Monkfruit Gold', 'HoG Child Calm 60t', 'Fus Cough Lung 200ml', 'Aroma Snooze Pink Pl', 'YumEarth OrgLicor Po', 'LC Reishi 120ml', 'DrB Hair Cr Lav 177m', 'Lot BasmatiRice 500g', 'PO Ginger', \"A'Kin Purely Comfort\", 'Fus Astra 8 120 T', 'Jama Deo Spice 50ml', 'Aroma Lily Gold Gr', 'Smart Diet Choc Chip', 'PO Org Green 25tb', 'TAGC Mar Coll 225g', 'Kin Formosan Grn 32', 'NatBee Soap 75g', 'PRA Creat Mon 300g', 'Bl Ginger 150g', 'Env Dishwash 5L', 'Pep Collagen Hy 500g', 'Lot Rice Cereal 250g', 'BB Mues Gran 400g', 'Fus Mag Adv 150g', 'Tri Petitgrain 10ml', 'CJ Mirabelle Plum', 'Bee Organic 200c', 'NL Mag Complete 250c'}\n"
     ]
    }
   ],
   "source": [
    "print(set(df['descr'].unique()))"
   ]
  },
  {
   "cell_type": "code",
   "execution_count": 9,
   "id": "fe913216",
   "metadata": {
    "scrolled": true
   },
   "outputs": [],
   "source": [
    "df['descr'] = df.descr.str.lower()"
   ]
  },
  {
   "cell_type": "code",
   "execution_count": 10,
   "id": "fd99525a",
   "metadata": {},
   "outputs": [
    {
     "data": {
      "text/plain": [
       "0          gvc pb peru balsam\n",
       "1            nv zinc comp 60t\n",
       "2            tres b plus 150t\n",
       "3        md goats yog (b) 500\n",
       "4        aroma bloom wood pea\n",
       "                 ...         \n",
       "65529      2die4 walnuts 300g\n",
       "65530       peanut butter 1kg\n",
       "65531    lot yeast shake 145g\n",
       "65532       o ap+ci pcake mix\n",
       "65533    on 100% whey ext cho\n",
       "Name: descr, Length: 65534, dtype: object"
      ]
     },
     "execution_count": 10,
     "metadata": {},
     "output_type": "execute_result"
    }
   ],
   "source": [
    "df['descr']"
   ]
  },
  {
   "cell_type": "code",
   "execution_count": 11,
   "id": "564e333c",
   "metadata": {},
   "outputs": [
    {
     "data": {
      "text/plain": [
       "sale_date      object\n",
       "sale_time      object\n",
       "clerkname      object\n",
       "qty           float64\n",
       "descr          object\n",
       "last_price    float64\n",
       "cost          float64\n",
       "pdiscount     float64\n",
       "gst           float64\n",
       "sellprice     float64\n",
       "grosssales    float64\n",
       "dtype: object"
      ]
     },
     "execution_count": 11,
     "metadata": {},
     "output_type": "execute_result"
    }
   ],
   "source": [
    "df.dtypes"
   ]
  },
  {
   "cell_type": "code",
   "execution_count": 12,
   "id": "38842093",
   "metadata": {},
   "outputs": [],
   "source": [
    "df.sale_date = pd.to_datetime(df['sale_date'], format=None)"
   ]
  },
  {
   "cell_type": "code",
   "execution_count": 13,
   "id": "a053be5e",
   "metadata": {},
   "outputs": [
    {
     "data": {
      "text/html": [
       "<div>\n",
       "<style scoped>\n",
       "    .dataframe tbody tr th:only-of-type {\n",
       "        vertical-align: middle;\n",
       "    }\n",
       "\n",
       "    .dataframe tbody tr th {\n",
       "        vertical-align: top;\n",
       "    }\n",
       "\n",
       "    .dataframe thead th {\n",
       "        text-align: right;\n",
       "    }\n",
       "</style>\n",
       "<table border=\"1\" class=\"dataframe\">\n",
       "  <thead>\n",
       "    <tr style=\"text-align: right;\">\n",
       "      <th></th>\n",
       "      <th>sale_date</th>\n",
       "      <th>sale_time</th>\n",
       "      <th>clerkname</th>\n",
       "      <th>qty</th>\n",
       "      <th>descr</th>\n",
       "      <th>last_price</th>\n",
       "      <th>cost</th>\n",
       "      <th>pdiscount</th>\n",
       "      <th>gst</th>\n",
       "      <th>sellprice</th>\n",
       "      <th>grosssales</th>\n",
       "    </tr>\n",
       "  </thead>\n",
       "  <tbody>\n",
       "    <tr>\n",
       "      <th>0</th>\n",
       "      <td>2020-01-01</td>\n",
       "      <td>09:35:38</td>\n",
       "      <td>Monina</td>\n",
       "      <td>1.0</td>\n",
       "      <td>gvc pb peru balsam</td>\n",
       "      <td>3.45</td>\n",
       "      <td>19.95</td>\n",
       "      <td>1.00</td>\n",
       "      <td>0.00</td>\n",
       "      <td>18.95</td>\n",
       "      <td>250.41</td>\n",
       "    </tr>\n",
       "    <tr>\n",
       "      <th>1</th>\n",
       "      <td>2020-01-01</td>\n",
       "      <td>09:35:38</td>\n",
       "      <td>Monina</td>\n",
       "      <td>1.0</td>\n",
       "      <td>nv zinc comp 60t</td>\n",
       "      <td>5.09</td>\n",
       "      <td>10.32</td>\n",
       "      <td>0.52</td>\n",
       "      <td>0.98</td>\n",
       "      <td>10.78</td>\n",
       "      <td>250.41</td>\n",
       "    </tr>\n",
       "    <tr>\n",
       "      <th>2</th>\n",
       "      <td>2020-01-01</td>\n",
       "      <td>09:35:38</td>\n",
       "      <td>Monina</td>\n",
       "      <td>1.0</td>\n",
       "      <td>tres b plus 150t</td>\n",
       "      <td>49.17</td>\n",
       "      <td>80.59</td>\n",
       "      <td>4.03</td>\n",
       "      <td>7.66</td>\n",
       "      <td>84.22</td>\n",
       "      <td>250.41</td>\n",
       "    </tr>\n",
       "    <tr>\n",
       "      <th>3</th>\n",
       "      <td>2020-01-01</td>\n",
       "      <td>09:35:38</td>\n",
       "      <td>Monina</td>\n",
       "      <td>1.0</td>\n",
       "      <td>md goats yog (b) 500</td>\n",
       "      <td>4.50</td>\n",
       "      <td>7.10</td>\n",
       "      <td>0.36</td>\n",
       "      <td>0.00</td>\n",
       "      <td>6.74</td>\n",
       "      <td>250.41</td>\n",
       "    </tr>\n",
       "    <tr>\n",
       "      <th>4</th>\n",
       "      <td>2020-01-01</td>\n",
       "      <td>09:35:39</td>\n",
       "      <td>Monina</td>\n",
       "      <td>1.0</td>\n",
       "      <td>aroma bloom wood pea</td>\n",
       "      <td>52.25</td>\n",
       "      <td>90.64</td>\n",
       "      <td>4.53</td>\n",
       "      <td>8.61</td>\n",
       "      <td>94.72</td>\n",
       "      <td>250.41</td>\n",
       "    </tr>\n",
       "  </tbody>\n",
       "</table>\n",
       "</div>"
      ],
      "text/plain": [
       "   sale_date sale_time clerkname  qty                 descr  last_price  \\\n",
       "0 2020-01-01  09:35:38    Monina  1.0    gvc pb peru balsam        3.45   \n",
       "1 2020-01-01  09:35:38    Monina  1.0      nv zinc comp 60t        5.09   \n",
       "2 2020-01-01  09:35:38    Monina  1.0      tres b plus 150t       49.17   \n",
       "3 2020-01-01  09:35:38    Monina  1.0  md goats yog (b) 500        4.50   \n",
       "4 2020-01-01  09:35:39    Monina  1.0  aroma bloom wood pea       52.25   \n",
       "\n",
       "    cost  pdiscount   gst  sellprice  grosssales  \n",
       "0  19.95       1.00  0.00      18.95      250.41  \n",
       "1  10.32       0.52  0.98      10.78      250.41  \n",
       "2  80.59       4.03  7.66      84.22      250.41  \n",
       "3   7.10       0.36  0.00       6.74      250.41  \n",
       "4  90.64       4.53  8.61      94.72      250.41  "
      ]
     },
     "execution_count": 13,
     "metadata": {},
     "output_type": "execute_result"
    }
   ],
   "source": [
    "df.head()"
   ]
  },
  {
   "cell_type": "code",
   "execution_count": 14,
   "id": "100c1991",
   "metadata": {},
   "outputs": [],
   "source": [
    "df['brand'] = df.descr.str.split(' ',1)\n",
    "    "
   ]
  },
  {
   "cell_type": "code",
   "execution_count": 15,
   "id": "1492b649",
   "metadata": {},
   "outputs": [
    {
     "data": {
      "text/plain": [
       "0          [gvc, pb peru balsam]\n",
       "1            [nv, zinc comp 60t]\n",
       "2            [tres, b plus 150t]\n",
       "3        [md, goats yog (b) 500]\n",
       "4        [aroma, bloom wood pea]\n",
       "                  ...           \n",
       "65529      [2die4, walnuts 300g]\n",
       "65530       [peanut, butter 1kg]\n",
       "65531    [lot, yeast shake 145g]\n",
       "65532       [o, ap+ci pcake mix]\n",
       "65533    [on, 100% whey ext cho]\n",
       "Name: brand, Length: 65534, dtype: object"
      ]
     },
     "execution_count": 15,
     "metadata": {},
     "output_type": "execute_result"
    }
   ],
   "source": [
    "df['brand']"
   ]
  },
  {
   "cell_type": "code",
   "execution_count": 16,
   "id": "7c8e0773",
   "metadata": {},
   "outputs": [
    {
     "data": {
      "text/html": [
       "<div>\n",
       "<style scoped>\n",
       "    .dataframe tbody tr th:only-of-type {\n",
       "        vertical-align: middle;\n",
       "    }\n",
       "\n",
       "    .dataframe tbody tr th {\n",
       "        vertical-align: top;\n",
       "    }\n",
       "\n",
       "    .dataframe thead th {\n",
       "        text-align: right;\n",
       "    }\n",
       "</style>\n",
       "<table border=\"1\" class=\"dataframe\">\n",
       "  <thead>\n",
       "    <tr style=\"text-align: right;\">\n",
       "      <th></th>\n",
       "      <th>sale_date</th>\n",
       "      <th>sale_time</th>\n",
       "      <th>clerkname</th>\n",
       "      <th>qty</th>\n",
       "      <th>descr</th>\n",
       "      <th>last_price</th>\n",
       "      <th>cost</th>\n",
       "      <th>pdiscount</th>\n",
       "      <th>gst</th>\n",
       "      <th>sellprice</th>\n",
       "      <th>grosssales</th>\n",
       "      <th>brand</th>\n",
       "    </tr>\n",
       "  </thead>\n",
       "  <tbody>\n",
       "    <tr>\n",
       "      <th>0</th>\n",
       "      <td>2020-01-01</td>\n",
       "      <td>09:35:38</td>\n",
       "      <td>Monina</td>\n",
       "      <td>1.0</td>\n",
       "      <td>gvc pb peru balsam</td>\n",
       "      <td>3.45</td>\n",
       "      <td>19.95</td>\n",
       "      <td>1.00</td>\n",
       "      <td>0.00</td>\n",
       "      <td>18.95</td>\n",
       "      <td>250.41</td>\n",
       "      <td>[gvc, pb peru balsam]</td>\n",
       "    </tr>\n",
       "    <tr>\n",
       "      <th>1</th>\n",
       "      <td>2020-01-01</td>\n",
       "      <td>09:35:38</td>\n",
       "      <td>Monina</td>\n",
       "      <td>1.0</td>\n",
       "      <td>nv zinc comp 60t</td>\n",
       "      <td>5.09</td>\n",
       "      <td>10.32</td>\n",
       "      <td>0.52</td>\n",
       "      <td>0.98</td>\n",
       "      <td>10.78</td>\n",
       "      <td>250.41</td>\n",
       "      <td>[nv, zinc comp 60t]</td>\n",
       "    </tr>\n",
       "    <tr>\n",
       "      <th>2</th>\n",
       "      <td>2020-01-01</td>\n",
       "      <td>09:35:38</td>\n",
       "      <td>Monina</td>\n",
       "      <td>1.0</td>\n",
       "      <td>tres b plus 150t</td>\n",
       "      <td>49.17</td>\n",
       "      <td>80.59</td>\n",
       "      <td>4.03</td>\n",
       "      <td>7.66</td>\n",
       "      <td>84.22</td>\n",
       "      <td>250.41</td>\n",
       "      <td>[tres, b plus 150t]</td>\n",
       "    </tr>\n",
       "    <tr>\n",
       "      <th>3</th>\n",
       "      <td>2020-01-01</td>\n",
       "      <td>09:35:38</td>\n",
       "      <td>Monina</td>\n",
       "      <td>1.0</td>\n",
       "      <td>md goats yog (b) 500</td>\n",
       "      <td>4.50</td>\n",
       "      <td>7.10</td>\n",
       "      <td>0.36</td>\n",
       "      <td>0.00</td>\n",
       "      <td>6.74</td>\n",
       "      <td>250.41</td>\n",
       "      <td>[md, goats yog (b) 500]</td>\n",
       "    </tr>\n",
       "    <tr>\n",
       "      <th>4</th>\n",
       "      <td>2020-01-01</td>\n",
       "      <td>09:35:39</td>\n",
       "      <td>Monina</td>\n",
       "      <td>1.0</td>\n",
       "      <td>aroma bloom wood pea</td>\n",
       "      <td>52.25</td>\n",
       "      <td>90.64</td>\n",
       "      <td>4.53</td>\n",
       "      <td>8.61</td>\n",
       "      <td>94.72</td>\n",
       "      <td>250.41</td>\n",
       "      <td>[aroma, bloom wood pea]</td>\n",
       "    </tr>\n",
       "  </tbody>\n",
       "</table>\n",
       "</div>"
      ],
      "text/plain": [
       "   sale_date sale_time clerkname  qty                 descr  last_price  \\\n",
       "0 2020-01-01  09:35:38    Monina  1.0    gvc pb peru balsam        3.45   \n",
       "1 2020-01-01  09:35:38    Monina  1.0      nv zinc comp 60t        5.09   \n",
       "2 2020-01-01  09:35:38    Monina  1.0      tres b plus 150t       49.17   \n",
       "3 2020-01-01  09:35:38    Monina  1.0  md goats yog (b) 500        4.50   \n",
       "4 2020-01-01  09:35:39    Monina  1.0  aroma bloom wood pea       52.25   \n",
       "\n",
       "    cost  pdiscount   gst  sellprice  grosssales                    brand  \n",
       "0  19.95       1.00  0.00      18.95      250.41    [gvc, pb peru balsam]  \n",
       "1  10.32       0.52  0.98      10.78      250.41      [nv, zinc comp 60t]  \n",
       "2  80.59       4.03  7.66      84.22      250.41      [tres, b plus 150t]  \n",
       "3   7.10       0.36  0.00       6.74      250.41  [md, goats yog (b) 500]  \n",
       "4  90.64       4.53  8.61      94.72      250.41  [aroma, bloom wood pea]  "
      ]
     },
     "execution_count": 16,
     "metadata": {},
     "output_type": "execute_result"
    }
   ],
   "source": [
    "df.head()"
   ]
  },
  {
   "cell_type": "code",
   "execution_count": 17,
   "id": "b54d6f93",
   "metadata": {},
   "outputs": [
    {
     "data": {
      "text/plain": [
       "[peanut, butter 1kg]       924\n",
       "[pep, collagen hy 500g]    671\n",
       "[bc, um night 240g]        423\n",
       "[sweet, nectar cake]       396\n",
       "[nt, org bwheat bread]     297\n",
       "                          ... \n",
       "[sc, nail groove is in]      1\n",
       "[eagle, sb forte 60c]        1\n",
       "[che, ai bmb 600ml]          1\n",
       "[ch, fibretone 200g]         1\n",
       "[lkw, c jo 946ml]            1\n",
       "Name: brand, Length: 4037, dtype: int64"
      ]
     },
     "execution_count": 17,
     "metadata": {},
     "output_type": "execute_result"
    }
   ],
   "source": [
    "df['brand'].value_counts()"
   ]
  },
  {
   "cell_type": "code",
   "execution_count": 18,
   "id": "6b427159",
   "metadata": {},
   "outputs": [
    {
     "data": {
      "text/plain": [
       "0           gvc\n",
       "1            nv\n",
       "2          tres\n",
       "3            md\n",
       "4         aroma\n",
       "          ...  \n",
       "65529     2die4\n",
       "65530    peanut\n",
       "65531       lot\n",
       "65532         o\n",
       "65533        on\n",
       "Name: brand2, Length: 65534, dtype: object"
      ]
     },
     "execution_count": 18,
     "metadata": {},
     "output_type": "execute_result"
    }
   ],
   "source": [
    "df['brand2'] = df.descr.str.partition(' ')[0]\n",
    "df['brand2']"
   ]
  },
  {
   "cell_type": "code",
   "execution_count": 19,
   "id": "079730f4",
   "metadata": {},
   "outputs": [
    {
     "data": {
      "text/plain": [
       "bc         2663\n",
       "ng         2316\n",
       "nv         2077\n",
       "fus        1670\n",
       "smart      1557\n",
       "           ... \n",
       "jungle        1\n",
       "biobeet       1\n",
       "chill         1\n",
       "lunch         1\n",
       "aromaco       1\n",
       "Name: brand2, Length: 667, dtype: int64"
      ]
     },
     "execution_count": 19,
     "metadata": {},
     "output_type": "execute_result"
    }
   ],
   "source": [
    "df['brand2'].value_counts()"
   ]
  },
  {
   "cell_type": "code",
   "execution_count": 20,
   "id": "72ec5f70",
   "metadata": {},
   "outputs": [
    {
     "name": "stdout",
     "output_type": "stream",
     "text": [
      "{'drsup', 'sos', 'brg', 'cobs', 'co', 'orgran', 'ol', 'topliss', 'hog', 'lotus', 'no', 'bt', 'yp', 'byron', 'ao', 'nn', 'kindervital', 'alch', 'tsb', 'b', 'fus', 'nr', 'ih', 'sol', 'trinity', 'kfibre', 'lunch', 'keto', 'sym', 'cry', 'slc', 'floradix', 'sw', 'sweet', 'turban', 'tilley', '2die4', 'crystal', 'love', 'alo', 'em', 'nc', 'dg', 'ivys', 'satya', 'es', 'eag', 'pk', 'rg', 'cracked', 'bal', 'ng', 'sweetlife', 'lz', 'ogo', 'th', 'beef', 'crystalised', 'ff', 'mer', 'amb', 'glace', 'gutsy', 'olive', 'marigold', 'lckl', 'av', 'thf', 'inner', 'chia', 'wwn', 'bnv', 'now', 'noble', 'wnderfoods', 'sataya', 'aloe', 'ki', 'pelvi', 'book', 'ama', 'se', 'bcr', 'koala', 'bn', 'gr', 'pompom', 'bob', 'h&b', 'til', 'np', 'mv', 'homo', 'tol', 'ess', 'hi', 'thw', 'ogn', 'hva', 'cj', 'or', 'kintra', 'll', 'koa', 'mg', 'lucas', 'weleda', 'wheatbags', 'white', 'eagle', 'botb', 'zeb', 'lacteeze', 'oplex', 'bp', 'two', 'wm', 'doggyl', 'jc', 'cheeki', 'nl', 'pimp', 'llesso', 'sfoglini', 'nat', 'tpbc', 'bon', 'biobeet', 'power', 'cn', 'perfect', 'chandan', 'oregano', 'luml', 'qc', 'tri-plex', 'fl', 'green', 'boody', 'morlife', 'fh', 'medimedium', 'yumearth', 'tropeaka', 'env', 'h', 'te', 'rw', 'kitz', 'pure', 'enc', 'vr', 'lu', 'db', '3', 'bbik', 'kmax', 'food', 'babushka', 'dextrose', 'hm', 'amphore', 'nfcips', 'am', 'ps', 'banjo', 'shirataki', 'bonvit', 'altereco', 'hs', 'boobie', 'deonat', 'wf', 'fo', 'rescue', 'immune', 'nrt', 'enviro', 'niulife', 'quick', 'bergamet', 'amaz', 'pro', 'ck', 'recue', 'flor', 'ju', 'fu', 'ev', 'dfdu', 'sf', 'j&b', 'pukka', 'jojoba', 'cotton', 'spatone', 'soyco', 'cl', 'psa', 'the', 'spry', 'pep', 'bbm', 'zero', 'nut', 'prt', 'ss', 'ppc', 'op', 'cf', 'magic', 'tres', 'endura', 'golden', 'natbee', 'ni', 'hfa', 'gvc', 'end', 'aroma', 'misc', 'crystalized', 'pl', 'little', 'clprot', 'ateronon', \"l'a\", 'uv', 'thmp', 'arborvitae', 'raw', 'sacred', 'md', 'en', 'gp', 'cook', 'cacao', 'bioc', 'sl', 'tulsi', 'jungle', 'wn', 'alkalife', 'gn', 'clo', 'ls', 'glufreedom', 'mor', 'anthogenol', 'mbc', 'orgrice', \"a'kin\", 'immunol', 'sel', 'pre', 'cellfood', 'prg', 'sd', 'cg', 'jade', 'pb', 'nt', 'hol', 'lc', 'lauria', 'bee-power', 'tiger', 'bc', 'cabot', 'swap', 'na', 'ber', 'absolutfruitz', 'org', 'mmcv', 'lovingearth', 'brr', 'm&m', 'salt', 'sj', 'abs', 'br', 'herbanica', 'we', 'zen', 'for', 'sjaws', 'ko', 'drb', 'milkadamia', 'flordis', 'naturebee', 'bm', 'sil', 'pno', 'pr', 'chlorella', 'ozg', 'sun', 'to', 'bio', 'mojo', 'kh', 'gpeople', 'muso', 'idlewilde', 'broccoli', 'htg', 'ton', 'hemp', 'prana', 'h/hemmes', 'enerc', 'medmedium', 'pana', 'deliver', 'natway', 'abn', 'activated', 'x50', 'vital', 'braggs', 'mandalas', 'lts', 'venerdi', 'jun', 'mfn', 'grants', 'fg', 'baby', 'nourish', 'tamari', 'mrm', 'h/h', 'piping', 'evo', 'rap', 'zz-opt', 'kwh', 'hab', 'herbal', 'hv', 'et', 'lw', 'tur', 'del', 'have', 'kit', 'eloa', 'mel', 'alchh', 'tem', 'flat', 'ns', 'vegesorb', 'sc', 't', 'happy', 'bergamale', 'castille', 'pizza/pasta', 'theracumin', 'peanuts', 'nb', 'fe', 'gallexier', 'qcamel', 'goli', 'livatone+tum', 'ot', 'nir', 'esk', 'incense', 'grahams', 'dja', 'deer', 'hp', 'squ', 'liberate', 'wg', 'arg', 'murray', 'chill', 'mdr', 'mgfc', 'pp', 'jam', 'super', 'hsf', 'pret', 'yaki', 'crm', 'ever', 'uvn', 'zz', 'pbc', 'inca', 'bass', 'core', 'brk', 'hg', 'uncontam', 'ml', 'actvtd', 'ae', 'bharath', 'gevitybody', 'korean', 'jama', 'anas', 'twf', 'eo', 'optimum', 'silicea', 'rosa', 'mp', 'easy', 'kf', 'hly', 'aromaco', 'eco', 'postage', 'm&p', 'sb5', 'ak', 'bioceuticals', 'gh', 'flo', 'ah', 'mmmcharcoalflosspepm', 'tp', 'pra', 'floravital', 'rawsome', 'b†pad†shap†cro', 'castile', 'be', 'ob', 'coyo', 'gf', 'greek', 'po', 'biologika', 'nourishing', 'go', 'sophie', 'jn', 'lf', 'lwood', 'cholesterol', 'springfields', 'cell', 'orthplx', 'bb', 'spf', 'koochikoo', 'trin', 'holle', 'herb', 'cc', 'rapunzel', 'hb', 'nes', 'gomacro', 'nac', 'he', 'roasted', 'prot', 'norsk', 'tr', 'bbbb', 'vegan', 'biogr', 'proper', 'niu', 'clv', 'eb', 'ellia', 'goatsmilk', 'omega', 'buggrroff', 'quepasa', 'four', 'gm', 'vego', 'my', 'roch', 'moogoo', 'barambah', 'vgo', 'lun', 'lkw', 'celestial', 'goodgreen', 'gra', 'saba', 'pill', 'pn', 'che', 'life', 'bach', 'lif', 'bo', 'af', 'amazonia', 'hnz', 'mad', 'tn', 'jim', 'tress', 'lknto', 'nirvana', 'cb', 'tri', 'hex', 'neem', 'i', 'rs', 'coco', 'ols', 'absorg', 'thom', 'k', 'tbg', 'ks', 'tgcc', 'body', 'east', 'bobsrm', 'vitawerx', 'mango', 'epic', 'naturis', 'ch', 'carob', 'gev', 'bragg', 'harmony', 'gv', 'colon', 'h2g', 'mm', 'ro', 'nd', 'paper', 'spiral', 'opt', 'max', 'par', 'o', 'ds', 'blo', 'nbyron', 'plv', 'blue', 'yum', 'llesoil', 'ph', 'agna', 'pc', 'mh', 'rwc', 'kn95', 'foleys', 'schar', 'vit', 'klean', 'me', 'b-active', 'ecotan', 'ntrton', 'zd', 'herbisaurus', 'clean', 'ell', 'tog', 'nv', 'top', 'spiced', 'ethique', 'ez', 'imm', 'insect', 'lewis', 'sugar', 'motion', 'fusion', 'hills', 'pf', 'natural', 'mgc', 'macadamia', 'pa', 'yogi', 'kolorex', 'tom', 'nfchips', 'good', 'organic', 'tagc', 'honey', 'nag', 'ftn', 'lifestream', 'bonsoy', 'moj', 'lakewood', 'shiritaki', 'udos', 'boulder', 'byronorg', 'eveco', 'walker', 'rhip', 'psnaps', 'alk', 'ngs', 'sp', 'icelandic', 'bundaburg', 'ce', 'banana', 'smart', 'ngr', 'one', 'qb', 'peanut', 'nutrisoy', 'whole', 'pow', 'le', 'lot', 'nux', 'quepas', 'morlife††senna†klenz', 'epbentoniteclay', 'so', 'bl', 'nutra', 'bf', 'bee', 'melrose', 'dr', 'pfe', 'car', 'vegolino', 'dv', 'tho', 'hh', 'ne', 'nf', 'psf', 'apricot', 'on', 'm', 'woodstck', 'boo', 'wel', 'dw', 'nz', 'kin', 'n-zimes', 'maca', 'com', 'bd', 'abc', 'temole'}\n"
     ]
    }
   ],
   "source": [
    "print(set(df['brand2'].unique()))"
   ]
  },
  {
   "cell_type": "code",
   "execution_count": 21,
   "id": "fbba17b8",
   "metadata": {
    "scrolled": true
   },
   "outputs": [
    {
     "data": {
      "text/html": [
       "<div>\n",
       "<style scoped>\n",
       "    .dataframe tbody tr th:only-of-type {\n",
       "        vertical-align: middle;\n",
       "    }\n",
       "\n",
       "    .dataframe tbody tr th {\n",
       "        vertical-align: top;\n",
       "    }\n",
       "\n",
       "    .dataframe thead th {\n",
       "        text-align: right;\n",
       "    }\n",
       "</style>\n",
       "<table border=\"1\" class=\"dataframe\">\n",
       "  <thead>\n",
       "    <tr style=\"text-align: right;\">\n",
       "      <th></th>\n",
       "      <th>sale_date</th>\n",
       "      <th>sale_time</th>\n",
       "      <th>clerkname</th>\n",
       "      <th>qty</th>\n",
       "      <th>descr</th>\n",
       "      <th>last_price</th>\n",
       "      <th>cost</th>\n",
       "      <th>pdiscount</th>\n",
       "      <th>gst</th>\n",
       "      <th>sellprice</th>\n",
       "      <th>grosssales</th>\n",
       "      <th>brand</th>\n",
       "      <th>brand2</th>\n",
       "    </tr>\n",
       "  </thead>\n",
       "  <tbody>\n",
       "    <tr>\n",
       "      <th>65529</th>\n",
       "      <td>2020-12-27</td>\n",
       "      <td>11:18:17</td>\n",
       "      <td>Milla</td>\n",
       "      <td>1.00</td>\n",
       "      <td>2die4 walnuts 300g</td>\n",
       "      <td>13.46</td>\n",
       "      <td>23.70</td>\n",
       "      <td>0.0</td>\n",
       "      <td>0.0</td>\n",
       "      <td>23.70</td>\n",
       "      <td>74.20</td>\n",
       "      <td>[2die4, walnuts 300g]</td>\n",
       "      <td>2die4</td>\n",
       "    </tr>\n",
       "    <tr>\n",
       "      <th>65530</th>\n",
       "      <td>2020-12-27</td>\n",
       "      <td>12:24:41</td>\n",
       "      <td>Milla</td>\n",
       "      <td>0.45</td>\n",
       "      <td>peanut butter 1kg</td>\n",
       "      <td>5.70</td>\n",
       "      <td>12.80</td>\n",
       "      <td>0.0</td>\n",
       "      <td>0.0</td>\n",
       "      <td>5.76</td>\n",
       "      <td>5.76</td>\n",
       "      <td>[peanut, butter 1kg]</td>\n",
       "      <td>peanut</td>\n",
       "    </tr>\n",
       "    <tr>\n",
       "      <th>65531</th>\n",
       "      <td>2020-12-27</td>\n",
       "      <td>12:56:55</td>\n",
       "      <td>Paul</td>\n",
       "      <td>1.00</td>\n",
       "      <td>lot yeast shake 145g</td>\n",
       "      <td>6.77</td>\n",
       "      <td>10.15</td>\n",
       "      <td>0.0</td>\n",
       "      <td>0.0</td>\n",
       "      <td>10.15</td>\n",
       "      <td>14.10</td>\n",
       "      <td>[lot, yeast shake 145g]</td>\n",
       "      <td>lot</td>\n",
       "    </tr>\n",
       "    <tr>\n",
       "      <th>65532</th>\n",
       "      <td>2020-12-27</td>\n",
       "      <td>12:56:55</td>\n",
       "      <td>Paul</td>\n",
       "      <td>1.00</td>\n",
       "      <td>o ap+ci pcake mix</td>\n",
       "      <td>2.32</td>\n",
       "      <td>3.95</td>\n",
       "      <td>0.0</td>\n",
       "      <td>0.0</td>\n",
       "      <td>3.95</td>\n",
       "      <td>14.10</td>\n",
       "      <td>[o, ap+ci pcake mix]</td>\n",
       "      <td>o</td>\n",
       "    </tr>\n",
       "    <tr>\n",
       "      <th>65533</th>\n",
       "      <td>2020-12-27</td>\n",
       "      <td>12:58:51</td>\n",
       "      <td>Paul</td>\n",
       "      <td>1.00</td>\n",
       "      <td>on 100% whey ext cho</td>\n",
       "      <td>25.25</td>\n",
       "      <td>53.00</td>\n",
       "      <td>0.0</td>\n",
       "      <td>5.3</td>\n",
       "      <td>58.30</td>\n",
       "      <td>53.00</td>\n",
       "      <td>[on, 100% whey ext cho]</td>\n",
       "      <td>on</td>\n",
       "    </tr>\n",
       "  </tbody>\n",
       "</table>\n",
       "</div>"
      ],
      "text/plain": [
       "       sale_date sale_time clerkname   qty                 descr  last_price  \\\n",
       "65529 2020-12-27  11:18:17     Milla  1.00    2die4 walnuts 300g       13.46   \n",
       "65530 2020-12-27  12:24:41     Milla  0.45     peanut butter 1kg        5.70   \n",
       "65531 2020-12-27  12:56:55      Paul  1.00  lot yeast shake 145g        6.77   \n",
       "65532 2020-12-27  12:56:55      Paul  1.00     o ap+ci pcake mix        2.32   \n",
       "65533 2020-12-27  12:58:51      Paul  1.00  on 100% whey ext cho       25.25   \n",
       "\n",
       "        cost  pdiscount  gst  sellprice  grosssales                    brand  \\\n",
       "65529  23.70        0.0  0.0      23.70       74.20    [2die4, walnuts 300g]   \n",
       "65530  12.80        0.0  0.0       5.76        5.76     [peanut, butter 1kg]   \n",
       "65531  10.15        0.0  0.0      10.15       14.10  [lot, yeast shake 145g]   \n",
       "65532   3.95        0.0  0.0       3.95       14.10     [o, ap+ci pcake mix]   \n",
       "65533  53.00        0.0  5.3      58.30       53.00  [on, 100% whey ext cho]   \n",
       "\n",
       "       brand2  \n",
       "65529   2die4  \n",
       "65530  peanut  \n",
       "65531     lot  \n",
       "65532       o  \n",
       "65533      on  "
      ]
     },
     "execution_count": 21,
     "metadata": {},
     "output_type": "execute_result"
    }
   ],
   "source": [
    "df.tail()"
   ]
  },
  {
   "cell_type": "code",
   "execution_count": 22,
   "id": "c1df167c",
   "metadata": {},
   "outputs": [],
   "source": [
    "df = df.drop(labels = ['brand'], axis=1)"
   ]
  },
  {
   "cell_type": "code",
   "execution_count": 23,
   "id": "a31a30d8",
   "metadata": {},
   "outputs": [
    {
     "data": {
      "text/html": [
       "<div>\n",
       "<style scoped>\n",
       "    .dataframe tbody tr th:only-of-type {\n",
       "        vertical-align: middle;\n",
       "    }\n",
       "\n",
       "    .dataframe tbody tr th {\n",
       "        vertical-align: top;\n",
       "    }\n",
       "\n",
       "    .dataframe thead th {\n",
       "        text-align: right;\n",
       "    }\n",
       "</style>\n",
       "<table border=\"1\" class=\"dataframe\">\n",
       "  <thead>\n",
       "    <tr style=\"text-align: right;\">\n",
       "      <th></th>\n",
       "      <th>sale_date</th>\n",
       "      <th>sale_time</th>\n",
       "      <th>clerkname</th>\n",
       "      <th>qty</th>\n",
       "      <th>descr</th>\n",
       "      <th>last_price</th>\n",
       "      <th>cost</th>\n",
       "      <th>pdiscount</th>\n",
       "      <th>gst</th>\n",
       "      <th>sellprice</th>\n",
       "      <th>grosssales</th>\n",
       "      <th>brand2</th>\n",
       "    </tr>\n",
       "  </thead>\n",
       "  <tbody>\n",
       "    <tr>\n",
       "      <th>65529</th>\n",
       "      <td>2020-12-27</td>\n",
       "      <td>11:18:17</td>\n",
       "      <td>Milla</td>\n",
       "      <td>1.00</td>\n",
       "      <td>2die4 walnuts 300g</td>\n",
       "      <td>13.46</td>\n",
       "      <td>23.70</td>\n",
       "      <td>0.0</td>\n",
       "      <td>0.0</td>\n",
       "      <td>23.70</td>\n",
       "      <td>74.20</td>\n",
       "      <td>2die4</td>\n",
       "    </tr>\n",
       "    <tr>\n",
       "      <th>65530</th>\n",
       "      <td>2020-12-27</td>\n",
       "      <td>12:24:41</td>\n",
       "      <td>Milla</td>\n",
       "      <td>0.45</td>\n",
       "      <td>peanut butter 1kg</td>\n",
       "      <td>5.70</td>\n",
       "      <td>12.80</td>\n",
       "      <td>0.0</td>\n",
       "      <td>0.0</td>\n",
       "      <td>5.76</td>\n",
       "      <td>5.76</td>\n",
       "      <td>peanut</td>\n",
       "    </tr>\n",
       "    <tr>\n",
       "      <th>65531</th>\n",
       "      <td>2020-12-27</td>\n",
       "      <td>12:56:55</td>\n",
       "      <td>Paul</td>\n",
       "      <td>1.00</td>\n",
       "      <td>lot yeast shake 145g</td>\n",
       "      <td>6.77</td>\n",
       "      <td>10.15</td>\n",
       "      <td>0.0</td>\n",
       "      <td>0.0</td>\n",
       "      <td>10.15</td>\n",
       "      <td>14.10</td>\n",
       "      <td>lot</td>\n",
       "    </tr>\n",
       "    <tr>\n",
       "      <th>65532</th>\n",
       "      <td>2020-12-27</td>\n",
       "      <td>12:56:55</td>\n",
       "      <td>Paul</td>\n",
       "      <td>1.00</td>\n",
       "      <td>o ap+ci pcake mix</td>\n",
       "      <td>2.32</td>\n",
       "      <td>3.95</td>\n",
       "      <td>0.0</td>\n",
       "      <td>0.0</td>\n",
       "      <td>3.95</td>\n",
       "      <td>14.10</td>\n",
       "      <td>o</td>\n",
       "    </tr>\n",
       "    <tr>\n",
       "      <th>65533</th>\n",
       "      <td>2020-12-27</td>\n",
       "      <td>12:58:51</td>\n",
       "      <td>Paul</td>\n",
       "      <td>1.00</td>\n",
       "      <td>on 100% whey ext cho</td>\n",
       "      <td>25.25</td>\n",
       "      <td>53.00</td>\n",
       "      <td>0.0</td>\n",
       "      <td>5.3</td>\n",
       "      <td>58.30</td>\n",
       "      <td>53.00</td>\n",
       "      <td>on</td>\n",
       "    </tr>\n",
       "  </tbody>\n",
       "</table>\n",
       "</div>"
      ],
      "text/plain": [
       "       sale_date sale_time clerkname   qty                 descr  last_price  \\\n",
       "65529 2020-12-27  11:18:17     Milla  1.00    2die4 walnuts 300g       13.46   \n",
       "65530 2020-12-27  12:24:41     Milla  0.45     peanut butter 1kg        5.70   \n",
       "65531 2020-12-27  12:56:55      Paul  1.00  lot yeast shake 145g        6.77   \n",
       "65532 2020-12-27  12:56:55      Paul  1.00     o ap+ci pcake mix        2.32   \n",
       "65533 2020-12-27  12:58:51      Paul  1.00  on 100% whey ext cho       25.25   \n",
       "\n",
       "        cost  pdiscount  gst  sellprice  grosssales  brand2  \n",
       "65529  23.70        0.0  0.0      23.70       74.20   2die4  \n",
       "65530  12.80        0.0  0.0       5.76        5.76  peanut  \n",
       "65531  10.15        0.0  0.0      10.15       14.10     lot  \n",
       "65532   3.95        0.0  0.0       3.95       14.10       o  \n",
       "65533  53.00        0.0  5.3      58.30       53.00      on  "
      ]
     },
     "execution_count": 23,
     "metadata": {},
     "output_type": "execute_result"
    }
   ],
   "source": [
    "df.tail()"
   ]
  },
  {
   "cell_type": "code",
   "execution_count": 24,
   "id": "537a9210",
   "metadata": {},
   "outputs": [
    {
     "data": {
      "text/plain": [
       "bc         2663\n",
       "ng         2316\n",
       "nv         2077\n",
       "fus        1670\n",
       "smart      1557\n",
       "           ... \n",
       "jungle        1\n",
       "biobeet       1\n",
       "chill         1\n",
       "lunch         1\n",
       "aromaco       1\n",
       "Name: brand2, Length: 667, dtype: int64"
      ]
     },
     "execution_count": 24,
     "metadata": {},
     "output_type": "execute_result"
    }
   ],
   "source": [
    "df['brand2'].value_counts()"
   ]
  },
  {
   "cell_type": "code",
   "execution_count": null,
   "id": "36badfd0",
   "metadata": {},
   "outputs": [],
   "source": [
    ";"
   ]
  },
  {
   "cell_type": "code",
   "execution_count": null,
   "id": "3d752f86",
   "metadata": {},
   "outputs": [],
   "source": []
  },
  {
   "cell_type": "code",
   "execution_count": null,
   "id": "11a5ccc1",
   "metadata": {},
   "outputs": [],
   "source": []
  },
  {
   "cell_type": "code",
   "execution_count": null,
   "id": "1eda29b3",
   "metadata": {},
   "outputs": [],
   "source": []
  },
  {
   "cell_type": "code",
   "execution_count": null,
   "id": "068c12c7",
   "metadata": {},
   "outputs": [],
   "source": []
  },
  {
   "cell_type": "code",
   "execution_count": null,
   "id": "2a31cfb2",
   "metadata": {},
   "outputs": [],
   "source": []
  },
  {
   "cell_type": "code",
   "execution_count": null,
   "id": "c1bb3e43",
   "metadata": {},
   "outputs": [],
   "source": []
  },
  {
   "cell_type": "code",
   "execution_count": null,
   "id": "f5edd9cd",
   "metadata": {},
   "outputs": [],
   "source": []
  },
  {
   "cell_type": "code",
   "execution_count": null,
   "id": "1906d66b",
   "metadata": {},
   "outputs": [],
   "source": []
  },
  {
   "cell_type": "code",
   "execution_count": null,
   "id": "e64701f1",
   "metadata": {},
   "outputs": [],
   "source": []
  },
  {
   "cell_type": "code",
   "execution_count": null,
   "id": "3e01c93d",
   "metadata": {},
   "outputs": [],
   "source": []
  },
  {
   "cell_type": "code",
   "execution_count": null,
   "id": "7d701403",
   "metadata": {},
   "outputs": [],
   "source": []
  },
  {
   "cell_type": "code",
   "execution_count": null,
   "id": "56511270",
   "metadata": {},
   "outputs": [],
   "source": []
  },
  {
   "cell_type": "code",
   "execution_count": null,
   "id": "d5e6620d",
   "metadata": {},
   "outputs": [],
   "source": []
  },
  {
   "cell_type": "code",
   "execution_count": null,
   "id": "684aac42",
   "metadata": {},
   "outputs": [],
   "source": []
  },
  {
   "cell_type": "code",
   "execution_count": null,
   "id": "b1f6a108",
   "metadata": {},
   "outputs": [],
   "source": []
  },
  {
   "cell_type": "code",
   "execution_count": null,
   "id": "f855aa41",
   "metadata": {},
   "outputs": [],
   "source": []
  },
  {
   "cell_type": "code",
   "execution_count": null,
   "id": "3fc7519e",
   "metadata": {},
   "outputs": [],
   "source": []
  },
  {
   "cell_type": "code",
   "execution_count": 25,
   "id": "c9c34613",
   "metadata": {},
   "outputs": [
    {
     "data": {
      "text/html": [
       "<div>\n",
       "<style scoped>\n",
       "    .dataframe tbody tr th:only-of-type {\n",
       "        vertical-align: middle;\n",
       "    }\n",
       "\n",
       "    .dataframe tbody tr th {\n",
       "        vertical-align: top;\n",
       "    }\n",
       "\n",
       "    .dataframe thead th {\n",
       "        text-align: right;\n",
       "    }\n",
       "</style>\n",
       "<table border=\"1\" class=\"dataframe\">\n",
       "  <thead>\n",
       "    <tr style=\"text-align: right;\">\n",
       "      <th></th>\n",
       "      <th>sale_date</th>\n",
       "      <th>sale_time</th>\n",
       "      <th>clerkname</th>\n",
       "      <th>qty</th>\n",
       "      <th>descr</th>\n",
       "      <th>last_price</th>\n",
       "      <th>cost</th>\n",
       "      <th>pdiscount</th>\n",
       "      <th>gst</th>\n",
       "      <th>sellprice</th>\n",
       "      <th>grosssales</th>\n",
       "    </tr>\n",
       "  </thead>\n",
       "  <tbody>\n",
       "    <tr>\n",
       "      <th>8</th>\n",
       "      <td>2020-01-01</td>\n",
       "      <td>10:18:34</td>\n",
       "      <td>Paul</td>\n",
       "      <td>1.0</td>\n",
       "      <td>bc ultbio 60 60c</td>\n",
       "      <td>56.95</td>\n",
       "      <td>96.45</td>\n",
       "      <td>0.00</td>\n",
       "      <td>9.65</td>\n",
       "      <td>106.10</td>\n",
       "      <td>96.45</td>\n",
       "    </tr>\n",
       "    <tr>\n",
       "      <th>60</th>\n",
       "      <td>2020-01-01</td>\n",
       "      <td>13:42:43</td>\n",
       "      <td>Paul</td>\n",
       "      <td>1.0</td>\n",
       "      <td>bc uc epa/dha+ 120c</td>\n",
       "      <td>28.80</td>\n",
       "      <td>48.77</td>\n",
       "      <td>2.44</td>\n",
       "      <td>4.63</td>\n",
       "      <td>50.97</td>\n",
       "      <td>48.77</td>\n",
       "    </tr>\n",
       "    <tr>\n",
       "      <th>78</th>\n",
       "      <td>2020-01-01</td>\n",
       "      <td>17:11:21</td>\n",
       "      <td>Monina</td>\n",
       "      <td>1.0</td>\n",
       "      <td>bc ultbio 60 60c</td>\n",
       "      <td>56.95</td>\n",
       "      <td>96.45</td>\n",
       "      <td>0.00</td>\n",
       "      <td>9.65</td>\n",
       "      <td>106.10</td>\n",
       "      <td>232.30</td>\n",
       "    </tr>\n",
       "    <tr>\n",
       "      <th>111</th>\n",
       "      <td>2020-01-02</td>\n",
       "      <td>10:37:20</td>\n",
       "      <td>Paul</td>\n",
       "      <td>1.0</td>\n",
       "      <td>bc mgest enz 180c</td>\n",
       "      <td>34.00</td>\n",
       "      <td>57.59</td>\n",
       "      <td>0.00</td>\n",
       "      <td>5.76</td>\n",
       "      <td>63.35</td>\n",
       "      <td>120.55</td>\n",
       "    </tr>\n",
       "    <tr>\n",
       "      <th>130</th>\n",
       "      <td>2020-01-02</td>\n",
       "      <td>11:19:29</td>\n",
       "      <td>Paul</td>\n",
       "      <td>1.0</td>\n",
       "      <td>bc zinc drops 50 ml</td>\n",
       "      <td>11.82</td>\n",
       "      <td>20.05</td>\n",
       "      <td>0.00</td>\n",
       "      <td>2.00</td>\n",
       "      <td>22.05</td>\n",
       "      <td>40.59</td>\n",
       "    </tr>\n",
       "    <tr>\n",
       "      <th>...</th>\n",
       "      <td>...</td>\n",
       "      <td>...</td>\n",
       "      <td>...</td>\n",
       "      <td>...</td>\n",
       "      <td>...</td>\n",
       "      <td>...</td>\n",
       "      <td>...</td>\n",
       "      <td>...</td>\n",
       "      <td>...</td>\n",
       "      <td>...</td>\n",
       "      <td>...</td>\n",
       "    </tr>\n",
       "    <tr>\n",
       "      <th>65380</th>\n",
       "      <td>2020-12-24</td>\n",
       "      <td>13:05:17</td>\n",
       "      <td>Diane</td>\n",
       "      <td>1.0</td>\n",
       "      <td>bc uc krill 60c</td>\n",
       "      <td>37.57</td>\n",
       "      <td>61.64</td>\n",
       "      <td>0.00</td>\n",
       "      <td>6.16</td>\n",
       "      <td>67.80</td>\n",
       "      <td>61.64</td>\n",
       "    </tr>\n",
       "    <tr>\n",
       "      <th>65381</th>\n",
       "      <td>2020-12-24</td>\n",
       "      <td>13:07:10</td>\n",
       "      <td>Diane</td>\n",
       "      <td>1.0</td>\n",
       "      <td>bc hickory barbecue</td>\n",
       "      <td>4.30</td>\n",
       "      <td>6.32</td>\n",
       "      <td>0.00</td>\n",
       "      <td>0.63</td>\n",
       "      <td>6.95</td>\n",
       "      <td>12.64</td>\n",
       "    </tr>\n",
       "    <tr>\n",
       "      <th>65382</th>\n",
       "      <td>2020-12-24</td>\n",
       "      <td>13:07:10</td>\n",
       "      <td>Diane</td>\n",
       "      <td>1.0</td>\n",
       "      <td>bc vinegar &amp; seasalt</td>\n",
       "      <td>4.30</td>\n",
       "      <td>6.32</td>\n",
       "      <td>0.00</td>\n",
       "      <td>0.63</td>\n",
       "      <td>6.95</td>\n",
       "      <td>12.64</td>\n",
       "    </tr>\n",
       "    <tr>\n",
       "      <th>65404</th>\n",
       "      <td>2020-12-24</td>\n",
       "      <td>14:19:24</td>\n",
       "      <td>Diane</td>\n",
       "      <td>1.0</td>\n",
       "      <td>bc glfac forte 120c</td>\n",
       "      <td>35.52</td>\n",
       "      <td>58.32</td>\n",
       "      <td>2.92</td>\n",
       "      <td>5.54</td>\n",
       "      <td>60.94</td>\n",
       "      <td>108.54</td>\n",
       "    </tr>\n",
       "    <tr>\n",
       "      <th>65469</th>\n",
       "      <td>2020-12-24</td>\n",
       "      <td>16:39:35</td>\n",
       "      <td>Diane</td>\n",
       "      <td>1.0</td>\n",
       "      <td>bc avooil cl seasalt</td>\n",
       "      <td>5.03</td>\n",
       "      <td>7.23</td>\n",
       "      <td>0.00</td>\n",
       "      <td>0.72</td>\n",
       "      <td>7.95</td>\n",
       "      <td>47.09</td>\n",
       "    </tr>\n",
       "  </tbody>\n",
       "</table>\n",
       "<p>2663 rows × 11 columns</p>\n",
       "</div>"
      ],
      "text/plain": [
       "       sale_date sale_time clerkname  qty                 descr  last_price  \\\n",
       "8     2020-01-01  10:18:34      Paul  1.0      bc ultbio 60 60c       56.95   \n",
       "60    2020-01-01  13:42:43      Paul  1.0   bc uc epa/dha+ 120c       28.80   \n",
       "78    2020-01-01  17:11:21    Monina  1.0      bc ultbio 60 60c       56.95   \n",
       "111   2020-01-02  10:37:20      Paul  1.0     bc mgest enz 180c       34.00   \n",
       "130   2020-01-02  11:19:29      Paul  1.0   bc zinc drops 50 ml       11.82   \n",
       "...          ...       ...       ...  ...                   ...         ...   \n",
       "65380 2020-12-24  13:05:17     Diane  1.0       bc uc krill 60c       37.57   \n",
       "65381 2020-12-24  13:07:10     Diane  1.0   bc hickory barbecue        4.30   \n",
       "65382 2020-12-24  13:07:10     Diane  1.0  bc vinegar & seasalt        4.30   \n",
       "65404 2020-12-24  14:19:24     Diane  1.0   bc glfac forte 120c       35.52   \n",
       "65469 2020-12-24  16:39:35     Diane  1.0  bc avooil cl seasalt        5.03   \n",
       "\n",
       "        cost  pdiscount   gst  sellprice  grosssales  \n",
       "8      96.45       0.00  9.65     106.10       96.45  \n",
       "60     48.77       2.44  4.63      50.97       48.77  \n",
       "78     96.45       0.00  9.65     106.10      232.30  \n",
       "111    57.59       0.00  5.76      63.35      120.55  \n",
       "130    20.05       0.00  2.00      22.05       40.59  \n",
       "...      ...        ...   ...        ...         ...  \n",
       "65380  61.64       0.00  6.16      67.80       61.64  \n",
       "65381   6.32       0.00  0.63       6.95       12.64  \n",
       "65382   6.32       0.00  0.63       6.95       12.64  \n",
       "65404  58.32       2.92  5.54      60.94      108.54  \n",
       "65469   7.23       0.00  0.72       7.95       47.09  \n",
       "\n",
       "[2663 rows x 11 columns]"
      ]
     },
     "execution_count": 25,
     "metadata": {},
     "output_type": "execute_result"
    }
   ],
   "source": [
    "bc = df.loc[df['brand2']==\"bc\"]\n",
    "bc = bc.drop(labels=['brand2'], axis=1)\n",
    "bc"
   ]
  },
  {
   "cell_type": "code",
   "execution_count": 26,
   "id": "3025cbac",
   "metadata": {},
   "outputs": [
    {
     "data": {
      "text/plain": [
       "bc um night 240g        423\n",
       "bc armaforce 60t        133\n",
       "bc ultbio 60 60c         71\n",
       "bc iron sus 30t          71\n",
       "bc armaforce 120t        61\n",
       "                       ... \n",
       "bc prodophlus 120 ca      1\n",
       "bc pea liq 50ml           1\n",
       "bc inflamzyme 90c         1\n",
       "bc eczema rel 60g         1\n",
       "bc avo salt pep           1\n",
       "Name: descr, Length: 107, dtype: int64"
      ]
     },
     "execution_count": 26,
     "metadata": {},
     "output_type": "execute_result"
    }
   ],
   "source": [
    "bc['descr'].value_counts()"
   ]
  },
  {
   "cell_type": "code",
   "execution_count": 27,
   "id": "b166d303",
   "metadata": {},
   "outputs": [
    {
     "name": "stdout",
     "output_type": "stream",
     "text": [
      "       sale_date sale_time clerkname  qty              descr  last_price  \\\n",
      "1513  2020-01-09  14:16:27     Kelly  6.0  bc ume cream 400g       21.61   \n",
      "32779 2020-06-23  14:43:03    Monina  6.0  bc ume cream 400g       21.61   \n",
      "53558 2020-10-18  09:16:44     Milla  8.0   bc um night 240g       23.28   \n",
      "\n",
      "        cost  pdiscount    gst  sellprice  grosssales  \n",
      "1513   36.59      21.95  19.76     217.36      219.55  \n",
      "32779  36.59      17.56  20.20     222.18      219.55  \n",
      "53558  43.09      17.24  32.75     360.24      417.77  \n"
     ]
    }
   ],
   "source": [
    "print(bc[bc['pdiscount']>15])"
   ]
  },
  {
   "cell_type": "code",
   "execution_count": 28,
   "id": "c32db0db",
   "metadata": {},
   "outputs": [
    {
     "data": {
      "text/html": [
       "<div>\n",
       "<style scoped>\n",
       "    .dataframe tbody tr th:only-of-type {\n",
       "        vertical-align: middle;\n",
       "    }\n",
       "\n",
       "    .dataframe tbody tr th {\n",
       "        vertical-align: top;\n",
       "    }\n",
       "\n",
       "    .dataframe thead th {\n",
       "        text-align: right;\n",
       "    }\n",
       "</style>\n",
       "<table border=\"1\" class=\"dataframe\">\n",
       "  <thead>\n",
       "    <tr style=\"text-align: right;\">\n",
       "      <th></th>\n",
       "      <th>sale_date</th>\n",
       "      <th>sale_time</th>\n",
       "      <th>clerkname</th>\n",
       "      <th>qty</th>\n",
       "      <th>descr</th>\n",
       "      <th>last_price</th>\n",
       "      <th>cost</th>\n",
       "      <th>pdiscount</th>\n",
       "      <th>gst</th>\n",
       "      <th>sellprice</th>\n",
       "      <th>grosssales</th>\n",
       "    </tr>\n",
       "  </thead>\n",
       "  <tbody>\n",
       "    <tr>\n",
       "      <th>65380</th>\n",
       "      <td>2020-12-24</td>\n",
       "      <td>13:05:17</td>\n",
       "      <td>Diane</td>\n",
       "      <td>1.0</td>\n",
       "      <td>bc uc krill 60c</td>\n",
       "      <td>37.57</td>\n",
       "      <td>61.64</td>\n",
       "      <td>0.00</td>\n",
       "      <td>6.16</td>\n",
       "      <td>67.80</td>\n",
       "      <td>61.64</td>\n",
       "    </tr>\n",
       "    <tr>\n",
       "      <th>65381</th>\n",
       "      <td>2020-12-24</td>\n",
       "      <td>13:07:10</td>\n",
       "      <td>Diane</td>\n",
       "      <td>1.0</td>\n",
       "      <td>bc hickory barbecue</td>\n",
       "      <td>4.30</td>\n",
       "      <td>6.32</td>\n",
       "      <td>0.00</td>\n",
       "      <td>0.63</td>\n",
       "      <td>6.95</td>\n",
       "      <td>12.64</td>\n",
       "    </tr>\n",
       "    <tr>\n",
       "      <th>65382</th>\n",
       "      <td>2020-12-24</td>\n",
       "      <td>13:07:10</td>\n",
       "      <td>Diane</td>\n",
       "      <td>1.0</td>\n",
       "      <td>bc vinegar &amp; seasalt</td>\n",
       "      <td>4.30</td>\n",
       "      <td>6.32</td>\n",
       "      <td>0.00</td>\n",
       "      <td>0.63</td>\n",
       "      <td>6.95</td>\n",
       "      <td>12.64</td>\n",
       "    </tr>\n",
       "    <tr>\n",
       "      <th>65404</th>\n",
       "      <td>2020-12-24</td>\n",
       "      <td>14:19:24</td>\n",
       "      <td>Diane</td>\n",
       "      <td>1.0</td>\n",
       "      <td>bc glfac forte 120c</td>\n",
       "      <td>35.52</td>\n",
       "      <td>58.32</td>\n",
       "      <td>2.92</td>\n",
       "      <td>5.54</td>\n",
       "      <td>60.94</td>\n",
       "      <td>108.54</td>\n",
       "    </tr>\n",
       "    <tr>\n",
       "      <th>65469</th>\n",
       "      <td>2020-12-24</td>\n",
       "      <td>16:39:35</td>\n",
       "      <td>Diane</td>\n",
       "      <td>1.0</td>\n",
       "      <td>bc avooil cl seasalt</td>\n",
       "      <td>5.03</td>\n",
       "      <td>7.23</td>\n",
       "      <td>0.00</td>\n",
       "      <td>0.72</td>\n",
       "      <td>7.95</td>\n",
       "      <td>47.09</td>\n",
       "    </tr>\n",
       "  </tbody>\n",
       "</table>\n",
       "</div>"
      ],
      "text/plain": [
       "       sale_date sale_time clerkname  qty                 descr  last_price  \\\n",
       "65380 2020-12-24  13:05:17     Diane  1.0       bc uc krill 60c       37.57   \n",
       "65381 2020-12-24  13:07:10     Diane  1.0   bc hickory barbecue        4.30   \n",
       "65382 2020-12-24  13:07:10     Diane  1.0  bc vinegar & seasalt        4.30   \n",
       "65404 2020-12-24  14:19:24     Diane  1.0   bc glfac forte 120c       35.52   \n",
       "65469 2020-12-24  16:39:35     Diane  1.0  bc avooil cl seasalt        5.03   \n",
       "\n",
       "        cost  pdiscount   gst  sellprice  grosssales  \n",
       "65380  61.64       0.00  6.16      67.80       61.64  \n",
       "65381   6.32       0.00  0.63       6.95       12.64  \n",
       "65382   6.32       0.00  0.63       6.95       12.64  \n",
       "65404  58.32       2.92  5.54      60.94      108.54  \n",
       "65469   7.23       0.00  0.72       7.95       47.09  "
      ]
     },
     "execution_count": 28,
     "metadata": {},
     "output_type": "execute_result"
    }
   ],
   "source": [
    "bc.tail()"
   ]
  },
  {
   "cell_type": "code",
   "execution_count": 29,
   "id": "a7c917dc",
   "metadata": {},
   "outputs": [
    {
     "data": {
      "text/plain": [
       "<AxesSubplot:xlabel='sale_date'>"
      ]
     },
     "execution_count": 29,
     "metadata": {},
     "output_type": "execute_result"
    },
    {
     "data": {
      "image/png": "[encoded data removed]",
      "text/plain": [
       "<Figure size 432x288 with 1 Axes>"
      ]
     },
     "metadata": {
      "image/png": {
       "height": 259,
       "width": 424
      },
      "needs_background": "light"
     },
     "output_type": "display_data"
    }
   ],
   "source": [
    "bc2 = bc.loc[(bc.descr == 'bc ume cream 400g')][['sale_date', 'qty']].copy()\n",
    "bc2 = bc2.loc[(bc2.sale_date >= '2020-01-01') & (bc2.sale_date <= '2020-12-24')]\n",
    "bc2.set_index('sale_date').qty.plot()"
   ]
  },
  {
   "cell_type": "code",
   "execution_count": 30,
   "id": "c0a701c1",
   "metadata": {},
   "outputs": [
    {
     "data": {
      "text/plain": [
       "<AxesSubplot:xlabel='sale_date'>"
      ]
     },
     "execution_count": 30,
     "metadata": {},
     "output_type": "execute_result"
    },
    {
     "data": {
      "image/png": "[encoded data removed]",
      "text/plain": [
       "<Figure size 432x288 with 1 Axes>"
      ]
     },
     "metadata": {
      "image/png": {
       "height": 259,
       "width": 414
      },
      "needs_background": "light"
     },
     "output_type": "display_data"
    }
   ],
   "source": [
    "df2 = df.loc[(df.brand2 == 'bc')][['sale_date', 'qty']].copy()\n",
    "df2 = df2.loc[(df2.sale_date >= '2020-01-01') & (df2.sale_date <= '2020-12-24')]\n",
    "df2.set_index('sale_date').qty.plot()"
   ]
  },
  {
   "cell_type": "code",
   "execution_count": 32,
   "id": "532d6a51",
   "metadata": {},
   "outputs": [
    {
     "data": {
      "text/html": [
       "<div>\n",
       "<style scoped>\n",
       "    .dataframe tbody tr th:only-of-type {\n",
       "        vertical-align: middle;\n",
       "    }\n",
       "\n",
       "    .dataframe tbody tr th {\n",
       "        vertical-align: top;\n",
       "    }\n",
       "\n",
       "    .dataframe thead th {\n",
       "        text-align: right;\n",
       "    }\n",
       "</style>\n",
       "<table border=\"1\" class=\"dataframe\">\n",
       "  <thead>\n",
       "    <tr style=\"text-align: right;\">\n",
       "      <th></th>\n",
       "      <th>sale_date</th>\n",
       "      <th>sale_time</th>\n",
       "      <th>clerkname</th>\n",
       "      <th>qty</th>\n",
       "      <th>descr</th>\n",
       "      <th>last_price</th>\n",
       "      <th>cost</th>\n",
       "      <th>pdiscount</th>\n",
       "      <th>gst</th>\n",
       "      <th>sellprice</th>\n",
       "      <th>grosssales</th>\n",
       "    </tr>\n",
       "  </thead>\n",
       "  <tbody>\n",
       "    <tr>\n",
       "      <th>1513</th>\n",
       "      <td>2020-01-09</td>\n",
       "      <td>14:16:27</td>\n",
       "      <td>Kelly</td>\n",
       "      <td>6.0</td>\n",
       "      <td>bc ume cream 400g</td>\n",
       "      <td>21.61</td>\n",
       "      <td>36.59</td>\n",
       "      <td>21.95</td>\n",
       "      <td>19.76</td>\n",
       "      <td>217.36</td>\n",
       "      <td>219.55</td>\n",
       "    </tr>\n",
       "    <tr>\n",
       "      <th>3077</th>\n",
       "      <td>2020-01-18</td>\n",
       "      <td>13:22:43</td>\n",
       "      <td>Lauren</td>\n",
       "      <td>1.0</td>\n",
       "      <td>bc ume cream 400g</td>\n",
       "      <td>21.61</td>\n",
       "      <td>34.58</td>\n",
       "      <td>0.00</td>\n",
       "      <td>3.46</td>\n",
       "      <td>38.04</td>\n",
       "      <td>45.34</td>\n",
       "    </tr>\n",
       "    <tr>\n",
       "      <th>10045</th>\n",
       "      <td>2020-02-28</td>\n",
       "      <td>13:29:31</td>\n",
       "      <td>Sandra</td>\n",
       "      <td>6.0</td>\n",
       "      <td>bc ume cream 400g</td>\n",
       "      <td>21.61</td>\n",
       "      <td>36.59</td>\n",
       "      <td>0.00</td>\n",
       "      <td>21.95</td>\n",
       "      <td>241.50</td>\n",
       "      <td>219.55</td>\n",
       "    </tr>\n",
       "    <tr>\n",
       "      <th>12854</th>\n",
       "      <td>2020-03-12</td>\n",
       "      <td>13:48:14</td>\n",
       "      <td>Paul</td>\n",
       "      <td>1.0</td>\n",
       "      <td>bc ume cream 400g</td>\n",
       "      <td>21.61</td>\n",
       "      <td>33.59</td>\n",
       "      <td>0.00</td>\n",
       "      <td>3.36</td>\n",
       "      <td>36.95</td>\n",
       "      <td>201.55</td>\n",
       "    </tr>\n",
       "    <tr>\n",
       "      <th>12855</th>\n",
       "      <td>2020-03-12</td>\n",
       "      <td>13:48:14</td>\n",
       "      <td>Paul</td>\n",
       "      <td>1.0</td>\n",
       "      <td>bc ume cream 400g</td>\n",
       "      <td>21.61</td>\n",
       "      <td>33.59</td>\n",
       "      <td>0.00</td>\n",
       "      <td>3.36</td>\n",
       "      <td>36.95</td>\n",
       "      <td>201.55</td>\n",
       "    </tr>\n",
       "    <tr>\n",
       "      <th>12856</th>\n",
       "      <td>2020-03-12</td>\n",
       "      <td>13:48:14</td>\n",
       "      <td>Paul</td>\n",
       "      <td>1.0</td>\n",
       "      <td>bc ume cream 400g</td>\n",
       "      <td>21.61</td>\n",
       "      <td>33.59</td>\n",
       "      <td>0.00</td>\n",
       "      <td>3.36</td>\n",
       "      <td>36.95</td>\n",
       "      <td>201.55</td>\n",
       "    </tr>\n",
       "    <tr>\n",
       "      <th>12857</th>\n",
       "      <td>2020-03-12</td>\n",
       "      <td>13:48:14</td>\n",
       "      <td>Paul</td>\n",
       "      <td>1.0</td>\n",
       "      <td>bc ume cream 400g</td>\n",
       "      <td>21.61</td>\n",
       "      <td>33.59</td>\n",
       "      <td>0.00</td>\n",
       "      <td>3.36</td>\n",
       "      <td>36.95</td>\n",
       "      <td>201.55</td>\n",
       "    </tr>\n",
       "    <tr>\n",
       "      <th>12858</th>\n",
       "      <td>2020-03-12</td>\n",
       "      <td>13:48:14</td>\n",
       "      <td>Paul</td>\n",
       "      <td>1.0</td>\n",
       "      <td>bc ume cream 400g</td>\n",
       "      <td>21.61</td>\n",
       "      <td>33.59</td>\n",
       "      <td>0.00</td>\n",
       "      <td>3.36</td>\n",
       "      <td>36.95</td>\n",
       "      <td>201.55</td>\n",
       "    </tr>\n",
       "    <tr>\n",
       "      <th>12859</th>\n",
       "      <td>2020-03-12</td>\n",
       "      <td>13:48:14</td>\n",
       "      <td>Paul</td>\n",
       "      <td>1.0</td>\n",
       "      <td>bc ume cream 400g</td>\n",
       "      <td>21.61</td>\n",
       "      <td>33.59</td>\n",
       "      <td>0.00</td>\n",
       "      <td>3.36</td>\n",
       "      <td>36.95</td>\n",
       "      <td>201.55</td>\n",
       "    </tr>\n",
       "    <tr>\n",
       "      <th>24408</th>\n",
       "      <td>2020-05-07</td>\n",
       "      <td>09:56:41</td>\n",
       "      <td>Paul</td>\n",
       "      <td>1.0</td>\n",
       "      <td>bc ume cream 400g</td>\n",
       "      <td>21.61</td>\n",
       "      <td>36.59</td>\n",
       "      <td>0.00</td>\n",
       "      <td>3.66</td>\n",
       "      <td>40.25</td>\n",
       "      <td>52.95</td>\n",
       "    </tr>\n",
       "    <tr>\n",
       "      <th>32779</th>\n",
       "      <td>2020-06-23</td>\n",
       "      <td>14:43:03</td>\n",
       "      <td>Monina</td>\n",
       "      <td>6.0</td>\n",
       "      <td>bc ume cream 400g</td>\n",
       "      <td>21.61</td>\n",
       "      <td>36.59</td>\n",
       "      <td>17.56</td>\n",
       "      <td>20.20</td>\n",
       "      <td>222.18</td>\n",
       "      <td>219.55</td>\n",
       "    </tr>\n",
       "    <tr>\n",
       "      <th>37868</th>\n",
       "      <td>2020-07-23</td>\n",
       "      <td>13:40:16</td>\n",
       "      <td>Lauren</td>\n",
       "      <td>6.0</td>\n",
       "      <td>bc ume cream 400g</td>\n",
       "      <td>21.61</td>\n",
       "      <td>36.59</td>\n",
       "      <td>0.00</td>\n",
       "      <td>21.95</td>\n",
       "      <td>241.50</td>\n",
       "      <td>219.55</td>\n",
       "    </tr>\n",
       "    <tr>\n",
       "      <th>51300</th>\n",
       "      <td>2020-10-06</td>\n",
       "      <td>14:07:31</td>\n",
       "      <td>Diane</td>\n",
       "      <td>1.0</td>\n",
       "      <td>bc ume cream 400g</td>\n",
       "      <td>22.12</td>\n",
       "      <td>34.31</td>\n",
       "      <td>0.00</td>\n",
       "      <td>3.43</td>\n",
       "      <td>37.74</td>\n",
       "      <td>49.00</td>\n",
       "    </tr>\n",
       "  </tbody>\n",
       "</table>\n",
       "</div>"
      ],
      "text/plain": [
       "       sale_date sale_time clerkname  qty              descr  last_price  \\\n",
       "1513  2020-01-09  14:16:27     Kelly  6.0  bc ume cream 400g       21.61   \n",
       "3077  2020-01-18  13:22:43    Lauren  1.0  bc ume cream 400g       21.61   \n",
       "10045 2020-02-28  13:29:31    Sandra  6.0  bc ume cream 400g       21.61   \n",
       "12854 2020-03-12  13:48:14      Paul  1.0  bc ume cream 400g       21.61   \n",
       "12855 2020-03-12  13:48:14      Paul  1.0  bc ume cream 400g       21.61   \n",
       "12856 2020-03-12  13:48:14      Paul  1.0  bc ume cream 400g       21.61   \n",
       "12857 2020-03-12  13:48:14      Paul  1.0  bc ume cream 400g       21.61   \n",
       "12858 2020-03-12  13:48:14      Paul  1.0  bc ume cream 400g       21.61   \n",
       "12859 2020-03-12  13:48:14      Paul  1.0  bc ume cream 400g       21.61   \n",
       "24408 2020-05-07  09:56:41      Paul  1.0  bc ume cream 400g       21.61   \n",
       "32779 2020-06-23  14:43:03    Monina  6.0  bc ume cream 400g       21.61   \n",
       "37868 2020-07-23  13:40:16    Lauren  6.0  bc ume cream 400g       21.61   \n",
       "51300 2020-10-06  14:07:31     Diane  1.0  bc ume cream 400g       22.12   \n",
       "\n",
       "        cost  pdiscount    gst  sellprice  grosssales  \n",
       "1513   36.59      21.95  19.76     217.36      219.55  \n",
       "3077   34.58       0.00   3.46      38.04       45.34  \n",
       "10045  36.59       0.00  21.95     241.50      219.55  \n",
       "12854  33.59       0.00   3.36      36.95      201.55  \n",
       "12855  33.59       0.00   3.36      36.95      201.55  \n",
       "12856  33.59       0.00   3.36      36.95      201.55  \n",
       "12857  33.59       0.00   3.36      36.95      201.55  \n",
       "12858  33.59       0.00   3.36      36.95      201.55  \n",
       "12859  33.59       0.00   3.36      36.95      201.55  \n",
       "24408  36.59       0.00   3.66      40.25       52.95  \n",
       "32779  36.59      17.56  20.20     222.18      219.55  \n",
       "37868  36.59       0.00  21.95     241.50      219.55  \n",
       "51300  34.31       0.00   3.43      37.74       49.00  "
      ]
     },
     "execution_count": 32,
     "metadata": {},
     "output_type": "execute_result"
    }
   ],
   "source": [
    "bc.loc[bc['descr']=='bc ume cream 400g']"
   ]
  },
  {
   "cell_type": "code",
   "execution_count": 33,
   "id": "5cd236e5",
   "metadata": {},
   "outputs": [],
   "source": [
    "ume_cream = []\n",
    "\n",
    "for q in df['descr']:\n",
    "    if q==\"bc ume cream 400g\":\n",
    "        ume_cream.append('1')\n",
    "    else:\n",
    "        ume_cream.append('0')\n"
   ]
  },
  {
   "cell_type": "code",
   "execution_count": 34,
   "id": "428248f7",
   "metadata": {},
   "outputs": [
    {
     "data": {
      "text/plain": [
       "0    65521\n",
       "1       13\n",
       "Name: ume_cream, dtype: int64"
      ]
     },
     "execution_count": 34,
     "metadata": {},
     "output_type": "execute_result"
    }
   ],
   "source": [
    "df['ume_cream'] = pd.DataFrame(ume_cream, columns = ['ume_cream'])\n",
    "df['ume_cream'].value_counts()"
   ]
  },
  {
   "cell_type": "code",
   "execution_count": 35,
   "id": "dddfb446",
   "metadata": {},
   "outputs": [
    {
     "data": {
      "text/html": [
       "<div>\n",
       "<style scoped>\n",
       "    .dataframe tbody tr th:only-of-type {\n",
       "        vertical-align: middle;\n",
       "    }\n",
       "\n",
       "    .dataframe tbody tr th {\n",
       "        vertical-align: top;\n",
       "    }\n",
       "\n",
       "    .dataframe thead th {\n",
       "        text-align: right;\n",
       "    }\n",
       "</style>\n",
       "<table border=\"1\" class=\"dataframe\">\n",
       "  <thead>\n",
       "    <tr style=\"text-align: right;\">\n",
       "      <th></th>\n",
       "      <th>sale_date</th>\n",
       "      <th>sale_time</th>\n",
       "      <th>clerkname</th>\n",
       "      <th>qty</th>\n",
       "      <th>descr</th>\n",
       "      <th>last_price</th>\n",
       "      <th>cost</th>\n",
       "      <th>pdiscount</th>\n",
       "      <th>gst</th>\n",
       "      <th>sellprice</th>\n",
       "      <th>grosssales</th>\n",
       "      <th>brand2</th>\n",
       "      <th>ume_cream</th>\n",
       "    </tr>\n",
       "  </thead>\n",
       "  <tbody>\n",
       "    <tr>\n",
       "      <th>0</th>\n",
       "      <td>2020-01-01</td>\n",
       "      <td>09:35:38</td>\n",
       "      <td>Monina</td>\n",
       "      <td>1.0</td>\n",
       "      <td>gvc pb peru balsam</td>\n",
       "      <td>3.45</td>\n",
       "      <td>19.95</td>\n",
       "      <td>1.00</td>\n",
       "      <td>0.00</td>\n",
       "      <td>18.95</td>\n",
       "      <td>250.41</td>\n",
       "      <td>gvc</td>\n",
       "      <td>0</td>\n",
       "    </tr>\n",
       "    <tr>\n",
       "      <th>1</th>\n",
       "      <td>2020-01-01</td>\n",
       "      <td>09:35:38</td>\n",
       "      <td>Monina</td>\n",
       "      <td>1.0</td>\n",
       "      <td>nv zinc comp 60t</td>\n",
       "      <td>5.09</td>\n",
       "      <td>10.32</td>\n",
       "      <td>0.52</td>\n",
       "      <td>0.98</td>\n",
       "      <td>10.78</td>\n",
       "      <td>250.41</td>\n",
       "      <td>nv</td>\n",
       "      <td>0</td>\n",
       "    </tr>\n",
       "    <tr>\n",
       "      <th>2</th>\n",
       "      <td>2020-01-01</td>\n",
       "      <td>09:35:38</td>\n",
       "      <td>Monina</td>\n",
       "      <td>1.0</td>\n",
       "      <td>tres b plus 150t</td>\n",
       "      <td>49.17</td>\n",
       "      <td>80.59</td>\n",
       "      <td>4.03</td>\n",
       "      <td>7.66</td>\n",
       "      <td>84.22</td>\n",
       "      <td>250.41</td>\n",
       "      <td>tres</td>\n",
       "      <td>0</td>\n",
       "    </tr>\n",
       "    <tr>\n",
       "      <th>3</th>\n",
       "      <td>2020-01-01</td>\n",
       "      <td>09:35:38</td>\n",
       "      <td>Monina</td>\n",
       "      <td>1.0</td>\n",
       "      <td>md goats yog (b) 500</td>\n",
       "      <td>4.50</td>\n",
       "      <td>7.10</td>\n",
       "      <td>0.36</td>\n",
       "      <td>0.00</td>\n",
       "      <td>6.74</td>\n",
       "      <td>250.41</td>\n",
       "      <td>md</td>\n",
       "      <td>0</td>\n",
       "    </tr>\n",
       "    <tr>\n",
       "      <th>4</th>\n",
       "      <td>2020-01-01</td>\n",
       "      <td>09:35:39</td>\n",
       "      <td>Monina</td>\n",
       "      <td>1.0</td>\n",
       "      <td>aroma bloom wood pea</td>\n",
       "      <td>52.25</td>\n",
       "      <td>90.64</td>\n",
       "      <td>4.53</td>\n",
       "      <td>8.61</td>\n",
       "      <td>94.72</td>\n",
       "      <td>250.41</td>\n",
       "      <td>aroma</td>\n",
       "      <td>0</td>\n",
       "    </tr>\n",
       "  </tbody>\n",
       "</table>\n",
       "</div>"
      ],
      "text/plain": [
       "   sale_date sale_time clerkname  qty                 descr  last_price  \\\n",
       "0 2020-01-01  09:35:38    Monina  1.0    gvc pb peru balsam        3.45   \n",
       "1 2020-01-01  09:35:38    Monina  1.0      nv zinc comp 60t        5.09   \n",
       "2 2020-01-01  09:35:38    Monina  1.0      tres b plus 150t       49.17   \n",
       "3 2020-01-01  09:35:38    Monina  1.0  md goats yog (b) 500        4.50   \n",
       "4 2020-01-01  09:35:39    Monina  1.0  aroma bloom wood pea       52.25   \n",
       "\n",
       "    cost  pdiscount   gst  sellprice  grosssales brand2 ume_cream  \n",
       "0  19.95       1.00  0.00      18.95      250.41    gvc         0  \n",
       "1  10.32       0.52  0.98      10.78      250.41     nv         0  \n",
       "2  80.59       4.03  7.66      84.22      250.41   tres         0  \n",
       "3   7.10       0.36  0.00       6.74      250.41     md         0  \n",
       "4  90.64       4.53  8.61      94.72      250.41  aroma         0  "
      ]
     },
     "execution_count": 35,
     "metadata": {},
     "output_type": "execute_result"
    }
   ],
   "source": [
    "df.head()"
   ]
  },
  {
   "cell_type": "code",
   "execution_count": 36,
   "id": "02a17c0e",
   "metadata": {},
   "outputs": [
    {
     "data": {
      "text/plain": [
       "0    65521\n",
       "1       13\n",
       "Name: ume_cream, dtype: int64"
      ]
     },
     "execution_count": 36,
     "metadata": {},
     "output_type": "execute_result"
    }
   ],
   "source": [
    "df.ume_cream.value_counts()"
   ]
  },
  {
   "cell_type": "code",
   "execution_count": 37,
   "id": "c67e5877",
   "metadata": {},
   "outputs": [
    {
     "data": {
      "text/plain": [
       "sale_date     datetime64[ns]\n",
       "sale_time             object\n",
       "clerkname             object\n",
       "qty                  float64\n",
       "descr                 object\n",
       "last_price           float64\n",
       "cost                 float64\n",
       "pdiscount            float64\n",
       "gst                  float64\n",
       "sellprice            float64\n",
       "grosssales           float64\n",
       "brand2                object\n",
       "ume_cream             object\n",
       "dtype: object"
      ]
     },
     "execution_count": 37,
     "metadata": {},
     "output_type": "execute_result"
    }
   ],
   "source": [
    "df.dtypes"
   ]
  },
  {
   "cell_type": "code",
   "execution_count": 38,
   "id": "da04b8fe",
   "metadata": {},
   "outputs": [],
   "source": [
    "df.ume_cream = df.ume_cream.astype(float)"
   ]
  },
  {
   "cell_type": "code",
   "execution_count": 39,
   "id": "f61df7d1",
   "metadata": {},
   "outputs": [
    {
     "data": {
      "text/plain": [
       "sale_date     datetime64[ns]\n",
       "sale_time             object\n",
       "clerkname             object\n",
       "qty                  float64\n",
       "descr                 object\n",
       "last_price           float64\n",
       "cost                 float64\n",
       "pdiscount            float64\n",
       "gst                  float64\n",
       "sellprice            float64\n",
       "grosssales           float64\n",
       "brand2                object\n",
       "ume_cream            float64\n",
       "dtype: object"
      ]
     },
     "execution_count": 39,
     "metadata": {},
     "output_type": "execute_result"
    }
   ],
   "source": [
    "df.dtypes"
   ]
  },
  {
   "cell_type": "code",
   "execution_count": 40,
   "id": "1daa2db1",
   "metadata": {},
   "outputs": [
    {
     "data": {
      "text/plain": [
       "<AxesSubplot:xlabel='sale_date'>"
      ]
     },
     "execution_count": 40,
     "metadata": {},
     "output_type": "execute_result"
    },
    {
     "data": {
      "image/png": "[encoded data removed]",
      "text/plain": [
       "<Figure size 432x288 with 1 Axes>"
      ]
     },
     "metadata": {
      "image/png": {
       "height": 259,
       "width": 424
      },
      "needs_background": "light"
     },
     "output_type": "display_data"
    }
   ],
   "source": [
    "df2 = df.loc[(df.descr == 'bc ume cream 400g')][['sale_date', 'ume_cream']].copy()\n",
    "df2 = df2.loc[(df2.sale_date >= '2020-01-01') & (df2.sale_date <= '2020-12-24')]\n",
    "df2.set_index('sale_date').ume_cream.plot()"
   ]
  },
  {
   "cell_type": "code",
   "execution_count": 41,
   "id": "5868d17c",
   "metadata": {},
   "outputs": [
    {
     "data": {
      "text/plain": [
       "3339.3500000000004"
      ]
     },
     "execution_count": 41,
     "metadata": {},
     "output_type": "execute_result"
    }
   ],
   "source": [
    "df['pdiscount'].sum()"
   ]
  },
  {
   "cell_type": "code",
   "execution_count": 42,
   "id": "ff3254d3",
   "metadata": {},
   "outputs": [
    {
     "data": {
      "text/html": [
       "<div>\n",
       "<style scoped>\n",
       "    .dataframe tbody tr th:only-of-type {\n",
       "        vertical-align: middle;\n",
       "    }\n",
       "\n",
       "    .dataframe tbody tr th {\n",
       "        vertical-align: top;\n",
       "    }\n",
       "\n",
       "    .dataframe thead th {\n",
       "        text-align: right;\n",
       "    }\n",
       "</style>\n",
       "<table border=\"1\" class=\"dataframe\">\n",
       "  <thead>\n",
       "    <tr style=\"text-align: right;\">\n",
       "      <th></th>\n",
       "      <th>sale_date</th>\n",
       "      <th>sale_time</th>\n",
       "      <th>clerkname</th>\n",
       "      <th>qty</th>\n",
       "      <th>descr</th>\n",
       "      <th>last_price</th>\n",
       "      <th>cost</th>\n",
       "      <th>pdiscount</th>\n",
       "      <th>gst</th>\n",
       "      <th>sellprice</th>\n",
       "      <th>grosssales</th>\n",
       "      <th>brand2</th>\n",
       "      <th>ume_cream</th>\n",
       "    </tr>\n",
       "  </thead>\n",
       "  <tbody>\n",
       "    <tr>\n",
       "      <th>0</th>\n",
       "      <td>2020-01-01</td>\n",
       "      <td>09:35:38</td>\n",
       "      <td>Monina</td>\n",
       "      <td>1.0</td>\n",
       "      <td>gvc pb peru balsam</td>\n",
       "      <td>3.45</td>\n",
       "      <td>19.95</td>\n",
       "      <td>1.00</td>\n",
       "      <td>0.00</td>\n",
       "      <td>18.95</td>\n",
       "      <td>250.41</td>\n",
       "      <td>gvc</td>\n",
       "      <td>0.0</td>\n",
       "    </tr>\n",
       "    <tr>\n",
       "      <th>1</th>\n",
       "      <td>2020-01-01</td>\n",
       "      <td>09:35:38</td>\n",
       "      <td>Monina</td>\n",
       "      <td>1.0</td>\n",
       "      <td>nv zinc comp 60t</td>\n",
       "      <td>5.09</td>\n",
       "      <td>10.32</td>\n",
       "      <td>0.52</td>\n",
       "      <td>0.98</td>\n",
       "      <td>10.78</td>\n",
       "      <td>250.41</td>\n",
       "      <td>nv</td>\n",
       "      <td>0.0</td>\n",
       "    </tr>\n",
       "    <tr>\n",
       "      <th>2</th>\n",
       "      <td>2020-01-01</td>\n",
       "      <td>09:35:38</td>\n",
       "      <td>Monina</td>\n",
       "      <td>1.0</td>\n",
       "      <td>tres b plus 150t</td>\n",
       "      <td>49.17</td>\n",
       "      <td>80.59</td>\n",
       "      <td>4.03</td>\n",
       "      <td>7.66</td>\n",
       "      <td>84.22</td>\n",
       "      <td>250.41</td>\n",
       "      <td>tres</td>\n",
       "      <td>0.0</td>\n",
       "    </tr>\n",
       "    <tr>\n",
       "      <th>3</th>\n",
       "      <td>2020-01-01</td>\n",
       "      <td>09:35:38</td>\n",
       "      <td>Monina</td>\n",
       "      <td>1.0</td>\n",
       "      <td>md goats yog (b) 500</td>\n",
       "      <td>4.50</td>\n",
       "      <td>7.10</td>\n",
       "      <td>0.36</td>\n",
       "      <td>0.00</td>\n",
       "      <td>6.74</td>\n",
       "      <td>250.41</td>\n",
       "      <td>md</td>\n",
       "      <td>0.0</td>\n",
       "    </tr>\n",
       "    <tr>\n",
       "      <th>4</th>\n",
       "      <td>2020-01-01</td>\n",
       "      <td>09:35:39</td>\n",
       "      <td>Monina</td>\n",
       "      <td>1.0</td>\n",
       "      <td>aroma bloom wood pea</td>\n",
       "      <td>52.25</td>\n",
       "      <td>90.64</td>\n",
       "      <td>4.53</td>\n",
       "      <td>8.61</td>\n",
       "      <td>94.72</td>\n",
       "      <td>250.41</td>\n",
       "      <td>aroma</td>\n",
       "      <td>0.0</td>\n",
       "    </tr>\n",
       "  </tbody>\n",
       "</table>\n",
       "</div>"
      ],
      "text/plain": [
       "   sale_date sale_time clerkname  qty                 descr  last_price  \\\n",
       "0 2020-01-01  09:35:38    Monina  1.0    gvc pb peru balsam        3.45   \n",
       "1 2020-01-01  09:35:38    Monina  1.0      nv zinc comp 60t        5.09   \n",
       "2 2020-01-01  09:35:38    Monina  1.0      tres b plus 150t       49.17   \n",
       "3 2020-01-01  09:35:38    Monina  1.0  md goats yog (b) 500        4.50   \n",
       "4 2020-01-01  09:35:39    Monina  1.0  aroma bloom wood pea       52.25   \n",
       "\n",
       "    cost  pdiscount   gst  sellprice  grosssales brand2  ume_cream  \n",
       "0  19.95       1.00  0.00      18.95      250.41    gvc        0.0  \n",
       "1  10.32       0.52  0.98      10.78      250.41     nv        0.0  \n",
       "2  80.59       4.03  7.66      84.22      250.41   tres        0.0  \n",
       "3   7.10       0.36  0.00       6.74      250.41     md        0.0  \n",
       "4  90.64       4.53  8.61      94.72      250.41  aroma        0.0  "
      ]
     },
     "execution_count": 42,
     "metadata": {},
     "output_type": "execute_result"
    }
   ],
   "source": [
    "df.head()"
   ]
  },
  {
   "cell_type": "code",
   "execution_count": 43,
   "id": "5a871db0",
   "metadata": {},
   "outputs": [
    {
     "data": {
      "text/plain": [
       "502586.80000000005"
      ]
     },
     "execution_count": 43,
     "metadata": {},
     "output_type": "execute_result"
    }
   ],
   "source": [
    "df['profit'] = df['sellprice']-df['gst']-df['pdiscount']-df['last_price']\n",
    "df['profit'].sum()"
   ]
  },
  {
   "cell_type": "code",
   "execution_count": 44,
   "id": "324aacf7",
   "metadata": {},
   "outputs": [
    {
     "data": {
      "text/plain": [
       "485013.62999999995"
      ]
     },
     "execution_count": 44,
     "metadata": {},
     "output_type": "execute_result"
    }
   ],
   "source": [
    "df['overhead'] = df['cost']-df['last_price']\n",
    "df['overhead'].sum()"
   ]
  },
  {
   "cell_type": "code",
   "execution_count": 45,
   "id": "5ce4f58e",
   "metadata": {},
   "outputs": [
    {
     "data": {
      "text/html": [
       "<div>\n",
       "<style scoped>\n",
       "    .dataframe tbody tr th:only-of-type {\n",
       "        vertical-align: middle;\n",
       "    }\n",
       "\n",
       "    .dataframe tbody tr th {\n",
       "        vertical-align: top;\n",
       "    }\n",
       "\n",
       "    .dataframe thead th {\n",
       "        text-align: right;\n",
       "    }\n",
       "</style>\n",
       "<table border=\"1\" class=\"dataframe\">\n",
       "  <thead>\n",
       "    <tr style=\"text-align: right;\">\n",
       "      <th></th>\n",
       "      <th>sale_date</th>\n",
       "      <th>sale_time</th>\n",
       "      <th>clerkname</th>\n",
       "      <th>qty</th>\n",
       "      <th>descr</th>\n",
       "      <th>last_price</th>\n",
       "      <th>cost</th>\n",
       "      <th>pdiscount</th>\n",
       "      <th>gst</th>\n",
       "      <th>sellprice</th>\n",
       "      <th>grosssales</th>\n",
       "      <th>brand2</th>\n",
       "      <th>ume_cream</th>\n",
       "      <th>profit</th>\n",
       "      <th>overhead</th>\n",
       "    </tr>\n",
       "  </thead>\n",
       "  <tbody>\n",
       "    <tr>\n",
       "      <th>0</th>\n",
       "      <td>2020-01-01</td>\n",
       "      <td>09:35:38</td>\n",
       "      <td>Monina</td>\n",
       "      <td>1.0</td>\n",
       "      <td>gvc pb peru balsam</td>\n",
       "      <td>3.45</td>\n",
       "      <td>19.95</td>\n",
       "      <td>1.00</td>\n",
       "      <td>0.00</td>\n",
       "      <td>18.95</td>\n",
       "      <td>250.41</td>\n",
       "      <td>gvc</td>\n",
       "      <td>0.0</td>\n",
       "      <td>14.50</td>\n",
       "      <td>16.50</td>\n",
       "    </tr>\n",
       "    <tr>\n",
       "      <th>1</th>\n",
       "      <td>2020-01-01</td>\n",
       "      <td>09:35:38</td>\n",
       "      <td>Monina</td>\n",
       "      <td>1.0</td>\n",
       "      <td>nv zinc comp 60t</td>\n",
       "      <td>5.09</td>\n",
       "      <td>10.32</td>\n",
       "      <td>0.52</td>\n",
       "      <td>0.98</td>\n",
       "      <td>10.78</td>\n",
       "      <td>250.41</td>\n",
       "      <td>nv</td>\n",
       "      <td>0.0</td>\n",
       "      <td>4.19</td>\n",
       "      <td>5.23</td>\n",
       "    </tr>\n",
       "    <tr>\n",
       "      <th>2</th>\n",
       "      <td>2020-01-01</td>\n",
       "      <td>09:35:38</td>\n",
       "      <td>Monina</td>\n",
       "      <td>1.0</td>\n",
       "      <td>tres b plus 150t</td>\n",
       "      <td>49.17</td>\n",
       "      <td>80.59</td>\n",
       "      <td>4.03</td>\n",
       "      <td>7.66</td>\n",
       "      <td>84.22</td>\n",
       "      <td>250.41</td>\n",
       "      <td>tres</td>\n",
       "      <td>0.0</td>\n",
       "      <td>23.36</td>\n",
       "      <td>31.42</td>\n",
       "    </tr>\n",
       "    <tr>\n",
       "      <th>3</th>\n",
       "      <td>2020-01-01</td>\n",
       "      <td>09:35:38</td>\n",
       "      <td>Monina</td>\n",
       "      <td>1.0</td>\n",
       "      <td>md goats yog (b) 500</td>\n",
       "      <td>4.50</td>\n",
       "      <td>7.10</td>\n",
       "      <td>0.36</td>\n",
       "      <td>0.00</td>\n",
       "      <td>6.74</td>\n",
       "      <td>250.41</td>\n",
       "      <td>md</td>\n",
       "      <td>0.0</td>\n",
       "      <td>1.88</td>\n",
       "      <td>2.60</td>\n",
       "    </tr>\n",
       "    <tr>\n",
       "      <th>4</th>\n",
       "      <td>2020-01-01</td>\n",
       "      <td>09:35:39</td>\n",
       "      <td>Monina</td>\n",
       "      <td>1.0</td>\n",
       "      <td>aroma bloom wood pea</td>\n",
       "      <td>52.25</td>\n",
       "      <td>90.64</td>\n",
       "      <td>4.53</td>\n",
       "      <td>8.61</td>\n",
       "      <td>94.72</td>\n",
       "      <td>250.41</td>\n",
       "      <td>aroma</td>\n",
       "      <td>0.0</td>\n",
       "      <td>29.33</td>\n",
       "      <td>38.39</td>\n",
       "    </tr>\n",
       "  </tbody>\n",
       "</table>\n",
       "</div>"
      ],
      "text/plain": [
       "   sale_date sale_time clerkname  qty                 descr  last_price  \\\n",
       "0 2020-01-01  09:35:38    Monina  1.0    gvc pb peru balsam        3.45   \n",
       "1 2020-01-01  09:35:38    Monina  1.0      nv zinc comp 60t        5.09   \n",
       "2 2020-01-01  09:35:38    Monina  1.0      tres b plus 150t       49.17   \n",
       "3 2020-01-01  09:35:38    Monina  1.0  md goats yog (b) 500        4.50   \n",
       "4 2020-01-01  09:35:39    Monina  1.0  aroma bloom wood pea       52.25   \n",
       "\n",
       "    cost  pdiscount   gst  sellprice  grosssales brand2  ume_cream  profit  \\\n",
       "0  19.95       1.00  0.00      18.95      250.41    gvc        0.0   14.50   \n",
       "1  10.32       0.52  0.98      10.78      250.41     nv        0.0    4.19   \n",
       "2  80.59       4.03  7.66      84.22      250.41   tres        0.0   23.36   \n",
       "3   7.10       0.36  0.00       6.74      250.41     md        0.0    1.88   \n",
       "4  90.64       4.53  8.61      94.72      250.41  aroma        0.0   29.33   \n",
       "\n",
       "   overhead  \n",
       "0     16.50  \n",
       "1      5.23  \n",
       "2     31.42  \n",
       "3      2.60  \n",
       "4     38.39  "
      ]
     },
     "execution_count": 45,
     "metadata": {},
     "output_type": "execute_result"
    }
   ],
   "source": [
    "df.head()"
   ]
  },
  {
   "cell_type": "code",
   "execution_count": 46,
   "id": "f926187c",
   "metadata": {},
   "outputs": [
    {
     "data": {
      "text/plain": [
       "9.75        1\n",
       "45.87       1\n",
       "32.40       1\n",
       "2.25        1\n",
       "32.74       1\n",
       "         ... \n",
       "0.41      388\n",
       "2.26      434\n",
       "2.98      523\n",
       "7.10      585\n",
       "2.00     2225\n",
       "Name: overhead, Length: 4237, dtype: int64"
      ]
     },
     "execution_count": 46,
     "metadata": {},
     "output_type": "execute_result"
    }
   ],
   "source": [
    "df.overhead.value_counts().sort_values()"
   ]
  },
  {
   "cell_type": "code",
   "execution_count": 52,
   "id": "a233b57a",
   "metadata": {},
   "outputs": [
    {
     "data": {
      "text/plain": [
       "17573.1700000001"
      ]
     },
     "execution_count": 52,
     "metadata": {},
     "output_type": "execute_result"
    }
   ],
   "source": [
    "df['profit'].sum() - df['overhead'].sum()"
   ]
  },
  {
   "cell_type": "code",
   "execution_count": 53,
   "id": "73adf8f6",
   "metadata": {},
   "outputs": [],
   "source": [
    "bioc = []\n",
    "\n",
    "for b in df['brand2']:\n",
    "    if b=='bc':\n",
    "        bioc.append('1')\n",
    "    else:\n",
    "        bioc.append('0')"
   ]
  },
  {
   "cell_type": "code",
   "execution_count": 54,
   "id": "1e0a76f6",
   "metadata": {},
   "outputs": [],
   "source": [
    "df['bioc'] = pd.DataFrame(bioc, columns=['bioc'])"
   ]
  },
  {
   "cell_type": "code",
   "execution_count": 55,
   "id": "e5f5eedf",
   "metadata": {},
   "outputs": [],
   "source": [
    "df.bioc = df.bioc.astype(float)"
   ]
  },
  {
   "cell_type": "code",
   "execution_count": 56,
   "id": "c45e5fd6",
   "metadata": {},
   "outputs": [
    {
     "data": {
      "text/plain": [
       "0.0    62871\n",
       "1.0     2663\n",
       "Name: bioc, dtype: int64"
      ]
     },
     "execution_count": 56,
     "metadata": {},
     "output_type": "execute_result"
    }
   ],
   "source": [
    "df.bioc.value_counts()"
   ]
  },
  {
   "cell_type": "code",
   "execution_count": 57,
   "id": "2c35c4c9",
   "metadata": {},
   "outputs": [
    {
     "data": {
      "text/plain": [
       "<AxesSubplot:xlabel='sale_date'>"
      ]
     },
     "execution_count": 57,
     "metadata": {},
     "output_type": "execute_result"
    },
    {
     "data": {
      "image/png": "[encoded data removed]",
      "text/plain": [
       "<Figure size 432x288 with 1 Axes>"
      ]
     },
     "metadata": {
      "image/png": {
       "height": 259,
       "width": 415
      },
      "needs_background": "light"
     },
     "output_type": "display_data"
    }
   ],
   "source": [
    "df3 = df.loc[(df.brand2 == 'bc')][['sale_date', 'bioc']].copy()\n",
    "df3 = df3.loc[(df3.sale_date >= '2020-01-01') & (df3.sale_date <= '2020-12-24')]\n",
    "df3.set_index('sale_date').bioc.plot()"
   ]
  },
  {
   "cell_type": "code",
   "execution_count": 58,
   "id": "767bf074",
   "metadata": {},
   "outputs": [
    {
     "data": {
      "text/plain": [
       "Index(['sale_date', 'sale_time', 'clerkname', 'qty', 'descr', 'last_price',\n",
       "       'cost', 'pdiscount', 'gst', 'sellprice', 'grosssales', 'brand2',\n",
       "       'ume_cream', 'profit', 'overhead', 'bioc'],\n",
       "      dtype='object')"
      ]
     },
     "execution_count": 58,
     "metadata": {},
     "output_type": "execute_result"
    }
   ],
   "source": [
    "df.columns"
   ]
  },
  {
   "cell_type": "code",
   "execution_count": 59,
   "id": "7aa616b3",
   "metadata": {},
   "outputs": [],
   "source": [
    "ts = df.drop(labels=['sale_time', 'clerkname', 'qty', 'descr', 'last_price',\n",
    "       'cost', 'pdiscount', 'gst', 'sellprice', 'grosssales', 'brand2',\n",
    "       'ume_cream', 'overhead', 'bioc'], axis=1)"
   ]
  },
  {
   "cell_type": "code",
   "execution_count": 60,
   "id": "4275c746",
   "metadata": {},
   "outputs": [
    {
     "ename": "IndentationError",
     "evalue": "unexpected indent (1490016132.py, line 3)",
     "output_type": "error",
     "traceback": [
      "\u001b[0;36m  Input \u001b[0;32mIn [60]\u001b[0;36m\u001b[0m\n\u001b[0;31m    plt.figure(figsize=(16,5), dpi=100)\u001b[0m\n\u001b[0m    ^\u001b[0m\n\u001b[0;31mIndentationError\u001b[0m\u001b[0;31m:\u001b[0m unexpected indent\n"
     ]
    }
   ],
   "source": [
    "x = ts['sale_date']\n",
    "y = ts['profit']\n",
    "    plt.figure(figsize=(16,5), dpi=100)\n",
    "    plt.plot(x, y, color='tab:red')\n",
    "    plt.gca().set(title=\"profit\", xlabel='sale_date', ylabel='profit')\n",
    "    plt.show()"
   ]
  },
  {
   "cell_type": "code",
   "execution_count": null,
   "id": "3f7a6fb1",
   "metadata": {},
   "outputs": [],
   "source": [
    "df4 = df.loc[(df.brand2 == 'bc')][['sale_date', 'bioc']].copy()\n",
    "df3 = df3.loc[(df3.sale_date >= '2020-01-01') & (df3.sale_date <= '2020-12-24')]\n",
    "df3.set_index('sale_date').bioc.plot()"
   ]
  }
 ],
 "metadata": {
  "kernelspec": {
   "display_name": "Python 3 (ipykernel)",
   "language": "python",
   "name": "python3"
  },
  "language_info": {
   "codemirror_mode": {
    "name": "ipython",
    "version": 3
   },
   "file_extension": ".py",
   "mimetype": "text/x-python",
   "name": "python",
   "nbconvert_exporter": "python",
   "pygments_lexer": "ipython3",
   "version": "3.8.13"
  }
 },
 "nbformat": 4,
 "nbformat_minor": 5
}
