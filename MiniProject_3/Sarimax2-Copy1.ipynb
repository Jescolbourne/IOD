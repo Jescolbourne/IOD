{
 "cells": [
  {
   "cell_type": "code",
   "execution_count": 1,
   "id": "ab8ab3f6",
   "metadata": {},
   "outputs": [],
   "source": [
    "#Importing required Libraries\n",
    "import pandas as pd\n",
    "import numpy as np\n",
    "import time\n",
    "from IPython.core.debugger import set_trace\n",
    "\n",
    "import matplotlib.pyplot as plt\n",
    "import seaborn as sns\n",
    "from pandas.plotting import register_matplotlib_converters\n",
    "register_matplotlib_converters()\n",
    "%matplotlib inline"
   ]
  },
  {
   "cell_type": "code",
   "execution_count": 5,
   "id": "3ff2aad8",
   "metadata": {},
   "outputs": [
    {
     "data": {
      "text/html": [
       "<div>\n",
       "<style scoped>\n",
       "    .dataframe tbody tr th:only-of-type {\n",
       "        vertical-align: middle;\n",
       "    }\n",
       "\n",
       "    .dataframe tbody tr th {\n",
       "        vertical-align: top;\n",
       "    }\n",
       "\n",
       "    .dataframe thead th {\n",
       "        text-align: right;\n",
       "    }\n",
       "</style>\n",
       "<table border=\"1\" class=\"dataframe\">\n",
       "  <thead>\n",
       "    <tr style=\"text-align: right;\">\n",
       "      <th></th>\n",
       "      <th>Date</th>\n",
       "      <th>Open</th>\n",
       "      <th>High</th>\n",
       "      <th>Low</th>\n",
       "      <th>Close</th>\n",
       "      <th>Adj Close</th>\n",
       "      <th>Volume</th>\n",
       "    </tr>\n",
       "  </thead>\n",
       "  <tbody>\n",
       "    <tr>\n",
       "      <th>0</th>\n",
       "      <td>1991-10-01</td>\n",
       "      <td>6.786620</td>\n",
       "      <td>6.786620</td>\n",
       "      <td>6.786620</td>\n",
       "      <td>6.786620</td>\n",
       "      <td>1.290987</td>\n",
       "      <td>0</td>\n",
       "    </tr>\n",
       "    <tr>\n",
       "      <th>1</th>\n",
       "      <td>1991-10-02</td>\n",
       "      <td>6.786620</td>\n",
       "      <td>6.786620</td>\n",
       "      <td>6.786620</td>\n",
       "      <td>6.786620</td>\n",
       "      <td>1.290987</td>\n",
       "      <td>0</td>\n",
       "    </tr>\n",
       "    <tr>\n",
       "      <th>2</th>\n",
       "      <td>1991-10-03</td>\n",
       "      <td>6.786620</td>\n",
       "      <td>6.786620</td>\n",
       "      <td>6.786620</td>\n",
       "      <td>6.786620</td>\n",
       "      <td>1.290987</td>\n",
       "      <td>0</td>\n",
       "    </tr>\n",
       "    <tr>\n",
       "      <th>3</th>\n",
       "      <td>1991-10-04</td>\n",
       "      <td>6.786620</td>\n",
       "      <td>6.786620</td>\n",
       "      <td>6.786620</td>\n",
       "      <td>6.786620</td>\n",
       "      <td>1.290987</td>\n",
       "      <td>0</td>\n",
       "    </tr>\n",
       "    <tr>\n",
       "      <th>4</th>\n",
       "      <td>1991-10-07</td>\n",
       "      <td>6.786620</td>\n",
       "      <td>6.786620</td>\n",
       "      <td>6.786620</td>\n",
       "      <td>6.786620</td>\n",
       "      <td>1.290987</td>\n",
       "      <td>0</td>\n",
       "    </tr>\n",
       "    <tr>\n",
       "      <th>...</th>\n",
       "      <td>...</td>\n",
       "      <td>...</td>\n",
       "      <td>...</td>\n",
       "      <td>...</td>\n",
       "      <td>...</td>\n",
       "      <td>...</td>\n",
       "      <td>...</td>\n",
       "    </tr>\n",
       "    <tr>\n",
       "      <th>7856</th>\n",
       "      <td>2022-09-29</td>\n",
       "      <td>93.830002</td>\n",
       "      <td>94.190002</td>\n",
       "      <td>93.120003</td>\n",
       "      <td>93.120003</td>\n",
       "      <td>93.120003</td>\n",
       "      <td>2094138</td>\n",
       "    </tr>\n",
       "    <tr>\n",
       "      <th>7857</th>\n",
       "      <td>2022-09-30</td>\n",
       "      <td>93.220001</td>\n",
       "      <td>93.230003</td>\n",
       "      <td>90.260002</td>\n",
       "      <td>90.699997</td>\n",
       "      <td>90.699997</td>\n",
       "      <td>3741428</td>\n",
       "    </tr>\n",
       "    <tr>\n",
       "      <th>7858</th>\n",
       "      <td>2022-10-03</td>\n",
       "      <td>91.150002</td>\n",
       "      <td>91.370003</td>\n",
       "      <td>89.660004</td>\n",
       "      <td>90.610001</td>\n",
       "      <td>90.610001</td>\n",
       "      <td>2038034</td>\n",
       "    </tr>\n",
       "    <tr>\n",
       "      <th>7859</th>\n",
       "      <td>2022-10-04</td>\n",
       "      <td>92.000000</td>\n",
       "      <td>94.870003</td>\n",
       "      <td>91.889999</td>\n",
       "      <td>94.790001</td>\n",
       "      <td>94.790001</td>\n",
       "      <td>3030551</td>\n",
       "    </tr>\n",
       "    <tr>\n",
       "      <th>7860</th>\n",
       "      <td>2022-10-05</td>\n",
       "      <td>95.989998</td>\n",
       "      <td>97.599998</td>\n",
       "      <td>95.790001</td>\n",
       "      <td>97.290001</td>\n",
       "      <td>97.290001</td>\n",
       "      <td>3840988</td>\n",
       "    </tr>\n",
       "  </tbody>\n",
       "</table>\n",
       "<p>7861 rows × 7 columns</p>\n",
       "</div>"
      ],
      "text/plain": [
       "           Date       Open       High        Low      Close  Adj Close  \\\n",
       "0    1991-10-01   6.786620   6.786620   6.786620   6.786620   1.290987   \n",
       "1    1991-10-02   6.786620   6.786620   6.786620   6.786620   1.290987   \n",
       "2    1991-10-03   6.786620   6.786620   6.786620   6.786620   1.290987   \n",
       "3    1991-10-04   6.786620   6.786620   6.786620   6.786620   1.290987   \n",
       "4    1991-10-07   6.786620   6.786620   6.786620   6.786620   1.290987   \n",
       "...         ...        ...        ...        ...        ...        ...   \n",
       "7856 2022-09-29  93.830002  94.190002  93.120003  93.120003  93.120003   \n",
       "7857 2022-09-30  93.220001  93.230003  90.260002  90.699997  90.699997   \n",
       "7858 2022-10-03  91.150002  91.370003  89.660004  90.610001  90.610001   \n",
       "7859 2022-10-04  92.000000  94.870003  91.889999  94.790001  94.790001   \n",
       "7860 2022-10-05  95.989998  97.599998  95.790001  97.290001  97.290001   \n",
       "\n",
       "       Volume  \n",
       "0           0  \n",
       "1           0  \n",
       "2           0  \n",
       "3           0  \n",
       "4           0  \n",
       "...       ...  \n",
       "7856  2094138  \n",
       "7857  3741428  \n",
       "7858  2038034  \n",
       "7859  3030551  \n",
       "7860  3840988  \n",
       "\n",
       "[7861 rows x 7 columns]"
      ]
     },
     "execution_count": 5,
     "metadata": {},
     "output_type": "execute_result"
    }
   ],
   "source": [
    "df = pd.read_excel('CBAmax.xls')\n",
    "df"
   ]
  },
  {
   "cell_type": "code",
   "execution_count": 6,
   "id": "d6f7c238",
   "metadata": {},
   "outputs": [],
   "source": [
    "df.columns = df.columns.str.lower()"
   ]
  },
  {
   "cell_type": "code",
   "execution_count": 7,
   "id": "c725c189",
   "metadata": {},
   "outputs": [
    {
     "data": {
      "text/html": [
       "<div>\n",
       "<style scoped>\n",
       "    .dataframe tbody tr th:only-of-type {\n",
       "        vertical-align: middle;\n",
       "    }\n",
       "\n",
       "    .dataframe tbody tr th {\n",
       "        vertical-align: top;\n",
       "    }\n",
       "\n",
       "    .dataframe thead th {\n",
       "        text-align: right;\n",
       "    }\n",
       "</style>\n",
       "<table border=\"1\" class=\"dataframe\">\n",
       "  <thead>\n",
       "    <tr style=\"text-align: right;\">\n",
       "      <th></th>\n",
       "      <th>date</th>\n",
       "      <th>open</th>\n",
       "      <th>high</th>\n",
       "      <th>low</th>\n",
       "      <th>close</th>\n",
       "      <th>adj close</th>\n",
       "      <th>volume</th>\n",
       "      <th>movement</th>\n",
       "    </tr>\n",
       "  </thead>\n",
       "  <tbody>\n",
       "    <tr>\n",
       "      <th>0</th>\n",
       "      <td>1991-10-01</td>\n",
       "      <td>6.786620</td>\n",
       "      <td>6.786620</td>\n",
       "      <td>6.786620</td>\n",
       "      <td>6.786620</td>\n",
       "      <td>1.290987</td>\n",
       "      <td>0</td>\n",
       "      <td>0.000000</td>\n",
       "    </tr>\n",
       "    <tr>\n",
       "      <th>1</th>\n",
       "      <td>1991-10-02</td>\n",
       "      <td>6.786620</td>\n",
       "      <td>6.786620</td>\n",
       "      <td>6.786620</td>\n",
       "      <td>6.786620</td>\n",
       "      <td>1.290987</td>\n",
       "      <td>0</td>\n",
       "      <td>0.000000</td>\n",
       "    </tr>\n",
       "    <tr>\n",
       "      <th>2</th>\n",
       "      <td>1991-10-03</td>\n",
       "      <td>6.786620</td>\n",
       "      <td>6.786620</td>\n",
       "      <td>6.786620</td>\n",
       "      <td>6.786620</td>\n",
       "      <td>1.290987</td>\n",
       "      <td>0</td>\n",
       "      <td>0.000000</td>\n",
       "    </tr>\n",
       "    <tr>\n",
       "      <th>3</th>\n",
       "      <td>1991-10-04</td>\n",
       "      <td>6.786620</td>\n",
       "      <td>6.786620</td>\n",
       "      <td>6.786620</td>\n",
       "      <td>6.786620</td>\n",
       "      <td>1.290987</td>\n",
       "      <td>0</td>\n",
       "      <td>0.000000</td>\n",
       "    </tr>\n",
       "    <tr>\n",
       "      <th>4</th>\n",
       "      <td>1991-10-07</td>\n",
       "      <td>6.786620</td>\n",
       "      <td>6.786620</td>\n",
       "      <td>6.786620</td>\n",
       "      <td>6.786620</td>\n",
       "      <td>1.290987</td>\n",
       "      <td>0</td>\n",
       "      <td>0.000000</td>\n",
       "    </tr>\n",
       "    <tr>\n",
       "      <th>...</th>\n",
       "      <td>...</td>\n",
       "      <td>...</td>\n",
       "      <td>...</td>\n",
       "      <td>...</td>\n",
       "      <td>...</td>\n",
       "      <td>...</td>\n",
       "      <td>...</td>\n",
       "      <td>...</td>\n",
       "    </tr>\n",
       "    <tr>\n",
       "      <th>7856</th>\n",
       "      <td>2022-09-29</td>\n",
       "      <td>93.830002</td>\n",
       "      <td>94.190002</td>\n",
       "      <td>93.120003</td>\n",
       "      <td>93.120003</td>\n",
       "      <td>93.120003</td>\n",
       "      <td>2094138</td>\n",
       "      <td>-0.709999</td>\n",
       "    </tr>\n",
       "    <tr>\n",
       "      <th>7857</th>\n",
       "      <td>2022-09-30</td>\n",
       "      <td>93.220001</td>\n",
       "      <td>93.230003</td>\n",
       "      <td>90.260002</td>\n",
       "      <td>90.699997</td>\n",
       "      <td>90.699997</td>\n",
       "      <td>3741428</td>\n",
       "      <td>-2.520004</td>\n",
       "    </tr>\n",
       "    <tr>\n",
       "      <th>7858</th>\n",
       "      <td>2022-10-03</td>\n",
       "      <td>91.150002</td>\n",
       "      <td>91.370003</td>\n",
       "      <td>89.660004</td>\n",
       "      <td>90.610001</td>\n",
       "      <td>90.610001</td>\n",
       "      <td>2038034</td>\n",
       "      <td>-0.540001</td>\n",
       "    </tr>\n",
       "    <tr>\n",
       "      <th>7859</th>\n",
       "      <td>2022-10-04</td>\n",
       "      <td>92.000000</td>\n",
       "      <td>94.870003</td>\n",
       "      <td>91.889999</td>\n",
       "      <td>94.790001</td>\n",
       "      <td>94.790001</td>\n",
       "      <td>3030551</td>\n",
       "      <td>2.790001</td>\n",
       "    </tr>\n",
       "    <tr>\n",
       "      <th>7860</th>\n",
       "      <td>2022-10-05</td>\n",
       "      <td>95.989998</td>\n",
       "      <td>97.599998</td>\n",
       "      <td>95.790001</td>\n",
       "      <td>97.290001</td>\n",
       "      <td>97.290001</td>\n",
       "      <td>3840988</td>\n",
       "      <td>1.300003</td>\n",
       "    </tr>\n",
       "  </tbody>\n",
       "</table>\n",
       "<p>7861 rows × 8 columns</p>\n",
       "</div>"
      ],
      "text/plain": [
       "           date       open       high        low      close  adj close  \\\n",
       "0    1991-10-01   6.786620   6.786620   6.786620   6.786620   1.290987   \n",
       "1    1991-10-02   6.786620   6.786620   6.786620   6.786620   1.290987   \n",
       "2    1991-10-03   6.786620   6.786620   6.786620   6.786620   1.290987   \n",
       "3    1991-10-04   6.786620   6.786620   6.786620   6.786620   1.290987   \n",
       "4    1991-10-07   6.786620   6.786620   6.786620   6.786620   1.290987   \n",
       "...         ...        ...        ...        ...        ...        ...   \n",
       "7856 2022-09-29  93.830002  94.190002  93.120003  93.120003  93.120003   \n",
       "7857 2022-09-30  93.220001  93.230003  90.260002  90.699997  90.699997   \n",
       "7858 2022-10-03  91.150002  91.370003  89.660004  90.610001  90.610001   \n",
       "7859 2022-10-04  92.000000  94.870003  91.889999  94.790001  94.790001   \n",
       "7860 2022-10-05  95.989998  97.599998  95.790001  97.290001  97.290001   \n",
       "\n",
       "       volume  movement  \n",
       "0           0  0.000000  \n",
       "1           0  0.000000  \n",
       "2           0  0.000000  \n",
       "3           0  0.000000  \n",
       "4           0  0.000000  \n",
       "...       ...       ...  \n",
       "7856  2094138 -0.709999  \n",
       "7857  3741428 -2.520004  \n",
       "7858  2038034 -0.540001  \n",
       "7859  3030551  2.790001  \n",
       "7860  3840988  1.300003  \n",
       "\n",
       "[7861 rows x 8 columns]"
      ]
     },
     "execution_count": 7,
     "metadata": {},
     "output_type": "execute_result"
    }
   ],
   "source": [
    "df['movement'] = (df['close']-df['open'])\n",
    "df"
   ]
  },
  {
   "cell_type": "code",
   "execution_count": 8,
   "id": "cbb8f0b8",
   "metadata": {},
   "outputs": [
    {
     "data": {
      "text/html": [
       "<div>\n",
       "<style scoped>\n",
       "    .dataframe tbody tr th:only-of-type {\n",
       "        vertical-align: middle;\n",
       "    }\n",
       "\n",
       "    .dataframe tbody tr th {\n",
       "        vertical-align: top;\n",
       "    }\n",
       "\n",
       "    .dataframe thead th {\n",
       "        text-align: right;\n",
       "    }\n",
       "</style>\n",
       "<table border=\"1\" class=\"dataframe\">\n",
       "  <thead>\n",
       "    <tr style=\"text-align: right;\">\n",
       "      <th></th>\n",
       "      <th>date</th>\n",
       "      <th>open</th>\n",
       "      <th>high</th>\n",
       "      <th>low</th>\n",
       "      <th>close</th>\n",
       "      <th>adj close</th>\n",
       "      <th>volume</th>\n",
       "      <th>movement</th>\n",
       "      <th>actual</th>\n",
       "    </tr>\n",
       "  </thead>\n",
       "  <tbody>\n",
       "    <tr>\n",
       "      <th>0</th>\n",
       "      <td>1991-10-01</td>\n",
       "      <td>6.78662</td>\n",
       "      <td>6.78662</td>\n",
       "      <td>6.78662</td>\n",
       "      <td>6.78662</td>\n",
       "      <td>1.290987</td>\n",
       "      <td>0</td>\n",
       "      <td>0.0</td>\n",
       "      <td>0.0</td>\n",
       "    </tr>\n",
       "    <tr>\n",
       "      <th>1</th>\n",
       "      <td>1991-10-02</td>\n",
       "      <td>6.78662</td>\n",
       "      <td>6.78662</td>\n",
       "      <td>6.78662</td>\n",
       "      <td>6.78662</td>\n",
       "      <td>1.290987</td>\n",
       "      <td>0</td>\n",
       "      <td>0.0</td>\n",
       "      <td>0.0</td>\n",
       "    </tr>\n",
       "    <tr>\n",
       "      <th>2</th>\n",
       "      <td>1991-10-03</td>\n",
       "      <td>6.78662</td>\n",
       "      <td>6.78662</td>\n",
       "      <td>6.78662</td>\n",
       "      <td>6.78662</td>\n",
       "      <td>1.290987</td>\n",
       "      <td>0</td>\n",
       "      <td>0.0</td>\n",
       "      <td>0.0</td>\n",
       "    </tr>\n",
       "  </tbody>\n",
       "</table>\n",
       "</div>"
      ],
      "text/plain": [
       "        date     open     high      low    close  adj close  volume  movement  \\\n",
       "0 1991-10-01  6.78662  6.78662  6.78662  6.78662   1.290987       0       0.0   \n",
       "1 1991-10-02  6.78662  6.78662  6.78662  6.78662   1.290987       0       0.0   \n",
       "2 1991-10-03  6.78662  6.78662  6.78662  6.78662   1.290987       0       0.0   \n",
       "\n",
       "   actual  \n",
       "0     0.0  \n",
       "1     0.0  \n",
       "2     0.0  "
      ]
     },
     "execution_count": 8,
     "metadata": {},
     "output_type": "execute_result"
    }
   ],
   "source": [
    "# preparing the dataset by shifting the mean by 1\n",
    "steps=-1\n",
    "dfpred= df.copy()\n",
    "dfpred['actual']=dfpred['movement'].shift(steps)\n",
    "dfpred.head(3)"
   ]
  },
  {
   "cell_type": "code",
   "execution_count": 9,
   "id": "e3496a2a",
   "metadata": {},
   "outputs": [
    {
     "data": {
      "text/html": [
       "<div>\n",
       "<style scoped>\n",
       "    .dataframe tbody tr th:only-of-type {\n",
       "        vertical-align: middle;\n",
       "    }\n",
       "\n",
       "    .dataframe tbody tr th {\n",
       "        vertical-align: top;\n",
       "    }\n",
       "\n",
       "    .dataframe thead th {\n",
       "        text-align: right;\n",
       "    }\n",
       "</style>\n",
       "<table border=\"1\" class=\"dataframe\">\n",
       "  <thead>\n",
       "    <tr style=\"text-align: right;\">\n",
       "      <th></th>\n",
       "      <th>date</th>\n",
       "      <th>open</th>\n",
       "      <th>high</th>\n",
       "      <th>low</th>\n",
       "      <th>close</th>\n",
       "      <th>adj close</th>\n",
       "      <th>volume</th>\n",
       "      <th>movement</th>\n",
       "      <th>actual</th>\n",
       "    </tr>\n",
       "  </thead>\n",
       "  <tbody>\n",
       "    <tr>\n",
       "      <th>7856</th>\n",
       "      <td>2022-09-29</td>\n",
       "      <td>93.830002</td>\n",
       "      <td>94.190002</td>\n",
       "      <td>93.120003</td>\n",
       "      <td>93.120003</td>\n",
       "      <td>93.120003</td>\n",
       "      <td>2094138</td>\n",
       "      <td>-0.709999</td>\n",
       "      <td>-2.520004</td>\n",
       "    </tr>\n",
       "    <tr>\n",
       "      <th>7857</th>\n",
       "      <td>2022-09-30</td>\n",
       "      <td>93.220001</td>\n",
       "      <td>93.230003</td>\n",
       "      <td>90.260002</td>\n",
       "      <td>90.699997</td>\n",
       "      <td>90.699997</td>\n",
       "      <td>3741428</td>\n",
       "      <td>-2.520004</td>\n",
       "      <td>-0.540001</td>\n",
       "    </tr>\n",
       "    <tr>\n",
       "      <th>7858</th>\n",
       "      <td>2022-10-03</td>\n",
       "      <td>91.150002</td>\n",
       "      <td>91.370003</td>\n",
       "      <td>89.660004</td>\n",
       "      <td>90.610001</td>\n",
       "      <td>90.610001</td>\n",
       "      <td>2038034</td>\n",
       "      <td>-0.540001</td>\n",
       "      <td>2.790001</td>\n",
       "    </tr>\n",
       "    <tr>\n",
       "      <th>7859</th>\n",
       "      <td>2022-10-04</td>\n",
       "      <td>92.000000</td>\n",
       "      <td>94.870003</td>\n",
       "      <td>91.889999</td>\n",
       "      <td>94.790001</td>\n",
       "      <td>94.790001</td>\n",
       "      <td>3030551</td>\n",
       "      <td>2.790001</td>\n",
       "      <td>1.300003</td>\n",
       "    </tr>\n",
       "    <tr>\n",
       "      <th>7860</th>\n",
       "      <td>2022-10-05</td>\n",
       "      <td>95.989998</td>\n",
       "      <td>97.599998</td>\n",
       "      <td>95.790001</td>\n",
       "      <td>97.290001</td>\n",
       "      <td>97.290001</td>\n",
       "      <td>3840988</td>\n",
       "      <td>1.300003</td>\n",
       "      <td>NaN</td>\n",
       "    </tr>\n",
       "  </tbody>\n",
       "</table>\n",
       "</div>"
      ],
      "text/plain": [
       "           date       open       high        low      close  adj close  \\\n",
       "7856 2022-09-29  93.830002  94.190002  93.120003  93.120003  93.120003   \n",
       "7857 2022-09-30  93.220001  93.230003  90.260002  90.699997  90.699997   \n",
       "7858 2022-10-03  91.150002  91.370003  89.660004  90.610001  90.610001   \n",
       "7859 2022-10-04  92.000000  94.870003  91.889999  94.790001  94.790001   \n",
       "7860 2022-10-05  95.989998  97.599998  95.790001  97.290001  97.290001   \n",
       "\n",
       "       volume  movement    actual  \n",
       "7856  2094138 -0.709999 -2.520004  \n",
       "7857  3741428 -2.520004 -0.540001  \n",
       "7858  2038034 -0.540001  2.790001  \n",
       "7859  3030551  2.790001  1.300003  \n",
       "7860  3840988  1.300003       NaN  "
      ]
     },
     "execution_count": 9,
     "metadata": {},
     "output_type": "execute_result"
    }
   ],
   "source": [
    "dfpred.tail()"
   ]
  },
  {
   "cell_type": "code",
   "execution_count": 10,
   "id": "994c7de2",
   "metadata": {},
   "outputs": [],
   "source": [
    "dfpred = dfpred.dropna()"
   ]
  },
  {
   "cell_type": "code",
   "execution_count": 11,
   "id": "02693b69",
   "metadata": {
    "scrolled": true
   },
   "outputs": [
    {
     "data": {
      "text/html": [
       "<div>\n",
       "<style scoped>\n",
       "    .dataframe tbody tr th:only-of-type {\n",
       "        vertical-align: middle;\n",
       "    }\n",
       "\n",
       "    .dataframe tbody tr th {\n",
       "        vertical-align: top;\n",
       "    }\n",
       "\n",
       "    .dataframe thead th {\n",
       "        text-align: right;\n",
       "    }\n",
       "</style>\n",
       "<table border=\"1\" class=\"dataframe\">\n",
       "  <thead>\n",
       "    <tr style=\"text-align: right;\">\n",
       "      <th></th>\n",
       "      <th>date</th>\n",
       "      <th>open</th>\n",
       "      <th>high</th>\n",
       "      <th>low</th>\n",
       "      <th>close</th>\n",
       "      <th>adj close</th>\n",
       "      <th>volume</th>\n",
       "      <th>movement</th>\n",
       "      <th>actual</th>\n",
       "    </tr>\n",
       "  </thead>\n",
       "  <tbody>\n",
       "    <tr>\n",
       "      <th>7855</th>\n",
       "      <td>2022-09-28</td>\n",
       "      <td>92.500000</td>\n",
       "      <td>93.000000</td>\n",
       "      <td>91.790001</td>\n",
       "      <td>92.540001</td>\n",
       "      <td>92.540001</td>\n",
       "      <td>2433767</td>\n",
       "      <td>0.040001</td>\n",
       "      <td>-0.709999</td>\n",
       "    </tr>\n",
       "    <tr>\n",
       "      <th>7856</th>\n",
       "      <td>2022-09-29</td>\n",
       "      <td>93.830002</td>\n",
       "      <td>94.190002</td>\n",
       "      <td>93.120003</td>\n",
       "      <td>93.120003</td>\n",
       "      <td>93.120003</td>\n",
       "      <td>2094138</td>\n",
       "      <td>-0.709999</td>\n",
       "      <td>-2.520004</td>\n",
       "    </tr>\n",
       "    <tr>\n",
       "      <th>7857</th>\n",
       "      <td>2022-09-30</td>\n",
       "      <td>93.220001</td>\n",
       "      <td>93.230003</td>\n",
       "      <td>90.260002</td>\n",
       "      <td>90.699997</td>\n",
       "      <td>90.699997</td>\n",
       "      <td>3741428</td>\n",
       "      <td>-2.520004</td>\n",
       "      <td>-0.540001</td>\n",
       "    </tr>\n",
       "    <tr>\n",
       "      <th>7858</th>\n",
       "      <td>2022-10-03</td>\n",
       "      <td>91.150002</td>\n",
       "      <td>91.370003</td>\n",
       "      <td>89.660004</td>\n",
       "      <td>90.610001</td>\n",
       "      <td>90.610001</td>\n",
       "      <td>2038034</td>\n",
       "      <td>-0.540001</td>\n",
       "      <td>2.790001</td>\n",
       "    </tr>\n",
       "    <tr>\n",
       "      <th>7859</th>\n",
       "      <td>2022-10-04</td>\n",
       "      <td>92.000000</td>\n",
       "      <td>94.870003</td>\n",
       "      <td>91.889999</td>\n",
       "      <td>94.790001</td>\n",
       "      <td>94.790001</td>\n",
       "      <td>3030551</td>\n",
       "      <td>2.790001</td>\n",
       "      <td>1.300003</td>\n",
       "    </tr>\n",
       "  </tbody>\n",
       "</table>\n",
       "</div>"
      ],
      "text/plain": [
       "           date       open       high        low      close  adj close  \\\n",
       "7855 2022-09-28  92.500000  93.000000  91.790001  92.540001  92.540001   \n",
       "7856 2022-09-29  93.830002  94.190002  93.120003  93.120003  93.120003   \n",
       "7857 2022-09-30  93.220001  93.230003  90.260002  90.699997  90.699997   \n",
       "7858 2022-10-03  91.150002  91.370003  89.660004  90.610001  90.610001   \n",
       "7859 2022-10-04  92.000000  94.870003  91.889999  94.790001  94.790001   \n",
       "\n",
       "       volume  movement    actual  \n",
       "7855  2433767  0.040001 -0.709999  \n",
       "7856  2094138 -0.709999 -2.520004  \n",
       "7857  3741428 -2.520004 -0.540001  \n",
       "7858  2038034 -0.540001  2.790001  \n",
       "7859  3030551  2.790001  1.300003  "
      ]
     },
     "execution_count": 11,
     "metadata": {},
     "output_type": "execute_result"
    }
   ],
   "source": [
    "dfpred.tail()"
   ]
  },
  {
   "cell_type": "code",
   "execution_count": 12,
   "id": "e9e36477",
   "metadata": {},
   "outputs": [],
   "source": [
    "dfpred = dfpred.set_index('date')\n",
    "dfpred.index = pd.to_datetime(dfpred.index)"
   ]
  },
  {
   "cell_type": "code",
   "execution_count": 13,
   "id": "2917459d",
   "metadata": {},
   "outputs": [
    {
     "data": {
      "image/png": "[encoded data removed]",
      "text/plain": [
       "<Figure size 1080x360 with 1 Axes>"
      ]
     },
     "metadata": {
      "needs_background": "light"
     },
     "output_type": "display_data"
    }
   ],
   "source": [
    "dfpred['movement'].plot(style='-',\n",
    "        figsize=(15, 5),\n",
    "        title='CBA stock price')\n",
    "plt.show()"
   ]
  },
  {
   "cell_type": "code",
   "execution_count": 14,
   "id": "30a9ba38",
   "metadata": {},
   "outputs": [
    {
     "data": {
      "text/plain": [
       "Int64Index([1, 2, 3, 4, 0, 1, 2, 3, 4, 0,\n",
       "            ...\n",
       "            1, 2, 4, 0, 1, 2, 3, 4, 0, 1],\n",
       "           dtype='int64', name='date', length=7860)"
      ]
     },
     "execution_count": 14,
     "metadata": {},
     "output_type": "execute_result"
    }
   ],
   "source": [
    "dfpred.index.dayofweek"
   ]
  },
  {
   "cell_type": "code",
   "execution_count": 15,
   "id": "bc71dc95",
   "metadata": {},
   "outputs": [],
   "source": [
    "def create_features(dfpred):\n",
    "    \"\"\"\n",
    "    Create time series features based on time series index.\n",
    "    \"\"\"\n",
    "    dfpred = dfpred.copy()\n",
    "    dfpred['dayofweek'] = dfpred.index.dayofweek\n",
    "    dfpred['quarter'] = dfpred.index.quarter\n",
    "    dfpred['month'] = dfpred.index.month\n",
    "    dfpred['year'] = dfpred.index.year\n",
    "    return dfpred\n",
    "\n",
    "dfpred = create_features(dfpred)"
   ]
  },
  {
   "cell_type": "code",
   "execution_count": 16,
   "id": "588d6cb7",
   "metadata": {},
   "outputs": [
    {
     "data": {
      "text/html": [
       "<div>\n",
       "<style scoped>\n",
       "    .dataframe tbody tr th:only-of-type {\n",
       "        vertical-align: middle;\n",
       "    }\n",
       "\n",
       "    .dataframe tbody tr th {\n",
       "        vertical-align: top;\n",
       "    }\n",
       "\n",
       "    .dataframe thead th {\n",
       "        text-align: right;\n",
       "    }\n",
       "</style>\n",
       "<table border=\"1\" class=\"dataframe\">\n",
       "  <thead>\n",
       "    <tr style=\"text-align: right;\">\n",
       "      <th></th>\n",
       "      <th>open</th>\n",
       "      <th>high</th>\n",
       "      <th>low</th>\n",
       "      <th>close</th>\n",
       "      <th>adj close</th>\n",
       "      <th>volume</th>\n",
       "      <th>movement</th>\n",
       "      <th>actual</th>\n",
       "      <th>dayofweek</th>\n",
       "      <th>quarter</th>\n",
       "      <th>month</th>\n",
       "      <th>year</th>\n",
       "    </tr>\n",
       "    <tr>\n",
       "      <th>date</th>\n",
       "      <th></th>\n",
       "      <th></th>\n",
       "      <th></th>\n",
       "      <th></th>\n",
       "      <th></th>\n",
       "      <th></th>\n",
       "      <th></th>\n",
       "      <th></th>\n",
       "      <th></th>\n",
       "      <th></th>\n",
       "      <th></th>\n",
       "      <th></th>\n",
       "    </tr>\n",
       "  </thead>\n",
       "  <tbody>\n",
       "    <tr>\n",
       "      <th>1991-10-01</th>\n",
       "      <td>6.786620</td>\n",
       "      <td>6.786620</td>\n",
       "      <td>6.786620</td>\n",
       "      <td>6.786620</td>\n",
       "      <td>1.290987</td>\n",
       "      <td>0</td>\n",
       "      <td>0.000000</td>\n",
       "      <td>0.000000</td>\n",
       "      <td>1</td>\n",
       "      <td>4</td>\n",
       "      <td>10</td>\n",
       "      <td>1991</td>\n",
       "    </tr>\n",
       "    <tr>\n",
       "      <th>1991-10-02</th>\n",
       "      <td>6.786620</td>\n",
       "      <td>6.786620</td>\n",
       "      <td>6.786620</td>\n",
       "      <td>6.786620</td>\n",
       "      <td>1.290987</td>\n",
       "      <td>0</td>\n",
       "      <td>0.000000</td>\n",
       "      <td>0.000000</td>\n",
       "      <td>2</td>\n",
       "      <td>4</td>\n",
       "      <td>10</td>\n",
       "      <td>1991</td>\n",
       "    </tr>\n",
       "    <tr>\n",
       "      <th>1991-10-03</th>\n",
       "      <td>6.786620</td>\n",
       "      <td>6.786620</td>\n",
       "      <td>6.786620</td>\n",
       "      <td>6.786620</td>\n",
       "      <td>1.290987</td>\n",
       "      <td>0</td>\n",
       "      <td>0.000000</td>\n",
       "      <td>0.000000</td>\n",
       "      <td>3</td>\n",
       "      <td>4</td>\n",
       "      <td>10</td>\n",
       "      <td>1991</td>\n",
       "    </tr>\n",
       "    <tr>\n",
       "      <th>1991-10-04</th>\n",
       "      <td>6.786620</td>\n",
       "      <td>6.786620</td>\n",
       "      <td>6.786620</td>\n",
       "      <td>6.786620</td>\n",
       "      <td>1.290987</td>\n",
       "      <td>0</td>\n",
       "      <td>0.000000</td>\n",
       "      <td>0.000000</td>\n",
       "      <td>4</td>\n",
       "      <td>4</td>\n",
       "      <td>10</td>\n",
       "      <td>1991</td>\n",
       "    </tr>\n",
       "    <tr>\n",
       "      <th>1991-10-07</th>\n",
       "      <td>6.786620</td>\n",
       "      <td>6.786620</td>\n",
       "      <td>6.786620</td>\n",
       "      <td>6.786620</td>\n",
       "      <td>1.290987</td>\n",
       "      <td>0</td>\n",
       "      <td>0.000000</td>\n",
       "      <td>0.000000</td>\n",
       "      <td>0</td>\n",
       "      <td>4</td>\n",
       "      <td>10</td>\n",
       "      <td>1991</td>\n",
       "    </tr>\n",
       "    <tr>\n",
       "      <th>...</th>\n",
       "      <td>...</td>\n",
       "      <td>...</td>\n",
       "      <td>...</td>\n",
       "      <td>...</td>\n",
       "      <td>...</td>\n",
       "      <td>...</td>\n",
       "      <td>...</td>\n",
       "      <td>...</td>\n",
       "      <td>...</td>\n",
       "      <td>...</td>\n",
       "      <td>...</td>\n",
       "      <td>...</td>\n",
       "    </tr>\n",
       "    <tr>\n",
       "      <th>2022-09-28</th>\n",
       "      <td>92.500000</td>\n",
       "      <td>93.000000</td>\n",
       "      <td>91.790001</td>\n",
       "      <td>92.540001</td>\n",
       "      <td>92.540001</td>\n",
       "      <td>2433767</td>\n",
       "      <td>0.040001</td>\n",
       "      <td>-0.709999</td>\n",
       "      <td>2</td>\n",
       "      <td>3</td>\n",
       "      <td>9</td>\n",
       "      <td>2022</td>\n",
       "    </tr>\n",
       "    <tr>\n",
       "      <th>2022-09-29</th>\n",
       "      <td>93.830002</td>\n",
       "      <td>94.190002</td>\n",
       "      <td>93.120003</td>\n",
       "      <td>93.120003</td>\n",
       "      <td>93.120003</td>\n",
       "      <td>2094138</td>\n",
       "      <td>-0.709999</td>\n",
       "      <td>-2.520004</td>\n",
       "      <td>3</td>\n",
       "      <td>3</td>\n",
       "      <td>9</td>\n",
       "      <td>2022</td>\n",
       "    </tr>\n",
       "    <tr>\n",
       "      <th>2022-09-30</th>\n",
       "      <td>93.220001</td>\n",
       "      <td>93.230003</td>\n",
       "      <td>90.260002</td>\n",
       "      <td>90.699997</td>\n",
       "      <td>90.699997</td>\n",
       "      <td>3741428</td>\n",
       "      <td>-2.520004</td>\n",
       "      <td>-0.540001</td>\n",
       "      <td>4</td>\n",
       "      <td>3</td>\n",
       "      <td>9</td>\n",
       "      <td>2022</td>\n",
       "    </tr>\n",
       "    <tr>\n",
       "      <th>2022-10-03</th>\n",
       "      <td>91.150002</td>\n",
       "      <td>91.370003</td>\n",
       "      <td>89.660004</td>\n",
       "      <td>90.610001</td>\n",
       "      <td>90.610001</td>\n",
       "      <td>2038034</td>\n",
       "      <td>-0.540001</td>\n",
       "      <td>2.790001</td>\n",
       "      <td>0</td>\n",
       "      <td>4</td>\n",
       "      <td>10</td>\n",
       "      <td>2022</td>\n",
       "    </tr>\n",
       "    <tr>\n",
       "      <th>2022-10-04</th>\n",
       "      <td>92.000000</td>\n",
       "      <td>94.870003</td>\n",
       "      <td>91.889999</td>\n",
       "      <td>94.790001</td>\n",
       "      <td>94.790001</td>\n",
       "      <td>3030551</td>\n",
       "      <td>2.790001</td>\n",
       "      <td>1.300003</td>\n",
       "      <td>1</td>\n",
       "      <td>4</td>\n",
       "      <td>10</td>\n",
       "      <td>2022</td>\n",
       "    </tr>\n",
       "  </tbody>\n",
       "</table>\n",
       "<p>7860 rows × 12 columns</p>\n",
       "</div>"
      ],
      "text/plain": [
       "                 open       high        low      close  adj close   volume  \\\n",
       "date                                                                         \n",
       "1991-10-01   6.786620   6.786620   6.786620   6.786620   1.290987        0   \n",
       "1991-10-02   6.786620   6.786620   6.786620   6.786620   1.290987        0   \n",
       "1991-10-03   6.786620   6.786620   6.786620   6.786620   1.290987        0   \n",
       "1991-10-04   6.786620   6.786620   6.786620   6.786620   1.290987        0   \n",
       "1991-10-07   6.786620   6.786620   6.786620   6.786620   1.290987        0   \n",
       "...               ...        ...        ...        ...        ...      ...   \n",
       "2022-09-28  92.500000  93.000000  91.790001  92.540001  92.540001  2433767   \n",
       "2022-09-29  93.830002  94.190002  93.120003  93.120003  93.120003  2094138   \n",
       "2022-09-30  93.220001  93.230003  90.260002  90.699997  90.699997  3741428   \n",
       "2022-10-03  91.150002  91.370003  89.660004  90.610001  90.610001  2038034   \n",
       "2022-10-04  92.000000  94.870003  91.889999  94.790001  94.790001  3030551   \n",
       "\n",
       "            movement    actual  dayofweek  quarter  month  year  \n",
       "date                                                             \n",
       "1991-10-01  0.000000  0.000000          1        4     10  1991  \n",
       "1991-10-02  0.000000  0.000000          2        4     10  1991  \n",
       "1991-10-03  0.000000  0.000000          3        4     10  1991  \n",
       "1991-10-04  0.000000  0.000000          4        4     10  1991  \n",
       "1991-10-07  0.000000  0.000000          0        4     10  1991  \n",
       "...              ...       ...        ...      ...    ...   ...  \n",
       "2022-09-28  0.040001 -0.709999          2        3      9  2022  \n",
       "2022-09-29 -0.709999 -2.520004          3        3      9  2022  \n",
       "2022-09-30 -2.520004 -0.540001          4        3      9  2022  \n",
       "2022-10-03 -0.540001  2.790001          0        4     10  2022  \n",
       "2022-10-04  2.790001  1.300003          1        4     10  2022  \n",
       "\n",
       "[7860 rows x 12 columns]"
      ]
     },
     "execution_count": 16,
     "metadata": {},
     "output_type": "execute_result"
    }
   ],
   "source": [
    "dfpred"
   ]
  },
  {
   "cell_type": "code",
   "execution_count": 19,
   "id": "935deb86",
   "metadata": {},
   "outputs": [
    {
     "data": {
      "image/png": "[encoded data removed]",
      "text/plain": [
       "<Figure size 720x576 with 1 Axes>"
      ]
     },
     "metadata": {
      "needs_background": "light"
     },
     "output_type": "display_data"
    }
   ],
   "source": [
    "fig, ax = plt.subplots(figsize=(10, 8))\n",
    "sns.boxplot(data=dfpred, x='dayofweek', y='actual')\n",
    "ax.set_title('Movement by day of week')\n",
    "plt.show()"
   ]
  },
  {
   "cell_type": "code",
   "execution_count": 20,
   "id": "e0f3f878",
   "metadata": {},
   "outputs": [
    {
     "data": {
      "image/png": "[encoded data removed]",
      "text/plain": [
       "<Figure size 720x576 with 1 Axes>"
      ]
     },
     "metadata": {
      "needs_background": "light"
     },
     "output_type": "display_data"
    }
   ],
   "source": [
    "fig, ax = plt.subplots(figsize=(10, 8))\n",
    "sns.boxplot(data=dfpred, x='quarter', y='close')\n",
    "ax.set_title('Movement by quarter')\n",
    "plt.show()"
   ]
  },
  {
   "cell_type": "code",
   "execution_count": 21,
   "id": "d912d359",
   "metadata": {},
   "outputs": [
    {
     "data": {
      "image/png": "[encoded data removed]",
      "text/plain": [
       "<Figure size 720x576 with 1 Axes>"
      ]
     },
     "metadata": {
      "needs_background": "light"
     },
     "output_type": "display_data"
    }
   ],
   "source": [
    "fig, ax = plt.subplots(figsize=(10, 8))\n",
    "sns.boxplot(data=dfpred, x='month', y='close')\n",
    "ax.set_title('Movement by month')\n",
    "plt.show()"
   ]
  },
  {
   "cell_type": "code",
   "execution_count": 22,
   "id": "8d619b84",
   "metadata": {},
   "outputs": [
    {
     "data": {
      "image/png": "[encoded data removed]",
      "text/plain": [
       "<Figure size 720x576 with 1 Axes>"
      ]
     },
     "metadata": {
      "needs_background": "light"
     },
     "output_type": "display_data"
    }
   ],
   "source": [
    "fig, ax = plt.subplots(figsize=(10, 8))\n",
    "sns.boxplot(data=dfpred, x='year', y='close')\n",
    "ax.set_title('Movement by year')\n",
    "plt.show()"
   ]
  },
  {
   "cell_type": "code",
   "execution_count": 23,
   "id": "e37668c2",
   "metadata": {},
   "outputs": [
    {
     "data": {
      "image/png": "[encoded data removed]",
      "text/plain": [
       "<Figure size 1080x360 with 1 Axes>"
      ]
     },
     "metadata": {
      "needs_background": "light"
     },
     "output_type": "display_data"
    }
   ],
   "source": [
    "dfpred['volume'].plot(style='-',\n",
    "        figsize=(15, 5),\n",
    "        title='CBA stock volume')\n",
    "plt.show()"
   ]
  },
  {
   "cell_type": "code",
   "execution_count": 24,
   "id": "70eb9ef1",
   "metadata": {},
   "outputs": [],
   "source": [
    "# normalizing input features\n",
    "from sklearn.preprocessing import MinMaxScaler\n",
    "sc_in = MinMaxScaler(feature_range=(0, 1))\n",
    "scaled_input = sc_in.fit_transform(dfpred[['low', 'high','open', 'close', 'volume', 'adj close', 'movement','dayofweek', 'quarter', 'month', 'year']])\n",
    "scaled_input =pd.DataFrame(scaled_input)\n",
    "X= scaled_input"
   ]
  },
  {
   "cell_type": "code",
   "execution_count": 25,
   "id": "db10853c",
   "metadata": {},
   "outputs": [
    {
     "data": {
      "text/html": [
       "<div>\n",
       "<style scoped>\n",
       "    .dataframe tbody tr th:only-of-type {\n",
       "        vertical-align: middle;\n",
       "    }\n",
       "\n",
       "    .dataframe tbody tr th {\n",
       "        vertical-align: top;\n",
       "    }\n",
       "\n",
       "    .dataframe thead th {\n",
       "        text-align: right;\n",
       "    }\n",
       "</style>\n",
       "<table border=\"1\" class=\"dataframe\">\n",
       "  <thead>\n",
       "    <tr style=\"text-align: right;\">\n",
       "      <th></th>\n",
       "      <th>0</th>\n",
       "      <th>1</th>\n",
       "      <th>2</th>\n",
       "      <th>3</th>\n",
       "      <th>4</th>\n",
       "      <th>5</th>\n",
       "      <th>6</th>\n",
       "      <th>7</th>\n",
       "      <th>8</th>\n",
       "      <th>9</th>\n",
       "      <th>10</th>\n",
       "    </tr>\n",
       "  </thead>\n",
       "  <tbody>\n",
       "    <tr>\n",
       "      <th>0</th>\n",
       "      <td>0.008906</td>\n",
       "      <td>0.008827</td>\n",
       "      <td>0.008843</td>\n",
       "      <td>0.008832</td>\n",
       "      <td>0.000000</td>\n",
       "      <td>0.001372</td>\n",
       "      <td>0.415066</td>\n",
       "      <td>0.25</td>\n",
       "      <td>1.000000</td>\n",
       "      <td>0.818182</td>\n",
       "      <td>0.0</td>\n",
       "    </tr>\n",
       "    <tr>\n",
       "      <th>1</th>\n",
       "      <td>0.008906</td>\n",
       "      <td>0.008827</td>\n",
       "      <td>0.008843</td>\n",
       "      <td>0.008832</td>\n",
       "      <td>0.000000</td>\n",
       "      <td>0.001372</td>\n",
       "      <td>0.415066</td>\n",
       "      <td>0.50</td>\n",
       "      <td>1.000000</td>\n",
       "      <td>0.818182</td>\n",
       "      <td>0.0</td>\n",
       "    </tr>\n",
       "    <tr>\n",
       "      <th>2</th>\n",
       "      <td>0.008906</td>\n",
       "      <td>0.008827</td>\n",
       "      <td>0.008843</td>\n",
       "      <td>0.008832</td>\n",
       "      <td>0.000000</td>\n",
       "      <td>0.001372</td>\n",
       "      <td>0.415066</td>\n",
       "      <td>0.75</td>\n",
       "      <td>1.000000</td>\n",
       "      <td>0.818182</td>\n",
       "      <td>0.0</td>\n",
       "    </tr>\n",
       "    <tr>\n",
       "      <th>3</th>\n",
       "      <td>0.008906</td>\n",
       "      <td>0.008827</td>\n",
       "      <td>0.008843</td>\n",
       "      <td>0.008832</td>\n",
       "      <td>0.000000</td>\n",
       "      <td>0.001372</td>\n",
       "      <td>0.415066</td>\n",
       "      <td>1.00</td>\n",
       "      <td>1.000000</td>\n",
       "      <td>0.818182</td>\n",
       "      <td>0.0</td>\n",
       "    </tr>\n",
       "    <tr>\n",
       "      <th>4</th>\n",
       "      <td>0.008906</td>\n",
       "      <td>0.008827</td>\n",
       "      <td>0.008843</td>\n",
       "      <td>0.008832</td>\n",
       "      <td>0.000000</td>\n",
       "      <td>0.001372</td>\n",
       "      <td>0.415066</td>\n",
       "      <td>0.00</td>\n",
       "      <td>1.000000</td>\n",
       "      <td>0.818182</td>\n",
       "      <td>0.0</td>\n",
       "    </tr>\n",
       "    <tr>\n",
       "      <th>...</th>\n",
       "      <td>...</td>\n",
       "      <td>...</td>\n",
       "      <td>...</td>\n",
       "      <td>...</td>\n",
       "      <td>...</td>\n",
       "      <td>...</td>\n",
       "      <td>...</td>\n",
       "      <td>...</td>\n",
       "      <td>...</td>\n",
       "      <td>...</td>\n",
       "      <td>...</td>\n",
       "    </tr>\n",
       "    <tr>\n",
       "      <th>7855</th>\n",
       "      <td>0.830955</td>\n",
       "      <td>0.835225</td>\n",
       "      <td>0.831948</td>\n",
       "      <td>0.831294</td>\n",
       "      <td>0.068340</td>\n",
       "      <td>0.870738</td>\n",
       "      <td>0.418021</td>\n",
       "      <td>0.50</td>\n",
       "      <td>0.666667</td>\n",
       "      <td>0.727273</td>\n",
       "      <td>1.0</td>\n",
       "    </tr>\n",
       "    <tr>\n",
       "      <th>7856</th>\n",
       "      <td>0.843817</td>\n",
       "      <td>0.846632</td>\n",
       "      <td>0.844720</td>\n",
       "      <td>0.836857</td>\n",
       "      <td>0.058803</td>\n",
       "      <td>0.876264</td>\n",
       "      <td>0.362629</td>\n",
       "      <td>0.75</td>\n",
       "      <td>0.666667</td>\n",
       "      <td>0.727273</td>\n",
       "      <td>1.0</td>\n",
       "    </tr>\n",
       "    <tr>\n",
       "      <th>7857</th>\n",
       "      <td>0.816159</td>\n",
       "      <td>0.837430</td>\n",
       "      <td>0.838862</td>\n",
       "      <td>0.813647</td>\n",
       "      <td>0.105059</td>\n",
       "      <td>0.853208</td>\n",
       "      <td>0.228951</td>\n",
       "      <td>1.00</td>\n",
       "      <td>0.666667</td>\n",
       "      <td>0.727273</td>\n",
       "      <td>1.0</td>\n",
       "    </tr>\n",
       "    <tr>\n",
       "      <th>7858</th>\n",
       "      <td>0.810356</td>\n",
       "      <td>0.819601</td>\n",
       "      <td>0.818984</td>\n",
       "      <td>0.812783</td>\n",
       "      <td>0.057228</td>\n",
       "      <td>0.852350</td>\n",
       "      <td>0.375185</td>\n",
       "      <td>0.00</td>\n",
       "      <td>1.000000</td>\n",
       "      <td>0.818182</td>\n",
       "      <td>1.0</td>\n",
       "    </tr>\n",
       "    <tr>\n",
       "      <th>7859</th>\n",
       "      <td>0.831922</td>\n",
       "      <td>0.853150</td>\n",
       "      <td>0.827146</td>\n",
       "      <td>0.852874</td>\n",
       "      <td>0.085098</td>\n",
       "      <td>0.892175</td>\n",
       "      <td>0.621123</td>\n",
       "      <td>0.25</td>\n",
       "      <td>1.000000</td>\n",
       "      <td>0.818182</td>\n",
       "      <td>1.0</td>\n",
       "    </tr>\n",
       "  </tbody>\n",
       "</table>\n",
       "<p>7860 rows × 11 columns</p>\n",
       "</div>"
      ],
      "text/plain": [
       "            0         1         2         3         4         5         6   \\\n",
       "0     0.008906  0.008827  0.008843  0.008832  0.000000  0.001372  0.415066   \n",
       "1     0.008906  0.008827  0.008843  0.008832  0.000000  0.001372  0.415066   \n",
       "2     0.008906  0.008827  0.008843  0.008832  0.000000  0.001372  0.415066   \n",
       "3     0.008906  0.008827  0.008843  0.008832  0.000000  0.001372  0.415066   \n",
       "4     0.008906  0.008827  0.008843  0.008832  0.000000  0.001372  0.415066   \n",
       "...        ...       ...       ...       ...       ...       ...       ...   \n",
       "7855  0.830955  0.835225  0.831948  0.831294  0.068340  0.870738  0.418021   \n",
       "7856  0.843817  0.846632  0.844720  0.836857  0.058803  0.876264  0.362629   \n",
       "7857  0.816159  0.837430  0.838862  0.813647  0.105059  0.853208  0.228951   \n",
       "7858  0.810356  0.819601  0.818984  0.812783  0.057228  0.852350  0.375185   \n",
       "7859  0.831922  0.853150  0.827146  0.852874  0.085098  0.892175  0.621123   \n",
       "\n",
       "        7         8         9    10  \n",
       "0     0.25  1.000000  0.818182  0.0  \n",
       "1     0.50  1.000000  0.818182  0.0  \n",
       "2     0.75  1.000000  0.818182  0.0  \n",
       "3     1.00  1.000000  0.818182  0.0  \n",
       "4     0.00  1.000000  0.818182  0.0  \n",
       "...    ...       ...       ...  ...  \n",
       "7855  0.50  0.666667  0.727273  1.0  \n",
       "7856  0.75  0.666667  0.727273  1.0  \n",
       "7857  1.00  0.666667  0.727273  1.0  \n",
       "7858  0.00  1.000000  0.818182  1.0  \n",
       "7859  0.25  1.000000  0.818182  1.0  \n",
       "\n",
       "[7860 rows x 11 columns]"
      ]
     },
     "execution_count": 25,
     "metadata": {},
     "output_type": "execute_result"
    }
   ],
   "source": [
    "X"
   ]
  },
  {
   "cell_type": "code",
   "execution_count": 26,
   "id": "9a429fde",
   "metadata": {},
   "outputs": [
    {
     "data": {
      "text/html": [
       "<div>\n",
       "<style scoped>\n",
       "    .dataframe tbody tr th:only-of-type {\n",
       "        vertical-align: middle;\n",
       "    }\n",
       "\n",
       "    .dataframe tbody tr th {\n",
       "        vertical-align: top;\n",
       "    }\n",
       "\n",
       "    .dataframe thead th {\n",
       "        text-align: right;\n",
       "    }\n",
       "</style>\n",
       "<table border=\"1\" class=\"dataframe\">\n",
       "  <thead>\n",
       "    <tr style=\"text-align: right;\">\n",
       "      <th></th>\n",
       "      <th>low</th>\n",
       "      <th>high</th>\n",
       "      <th>open</th>\n",
       "      <th>close</th>\n",
       "      <th>volume</th>\n",
       "      <th>adj close</th>\n",
       "      <th>movement</th>\n",
       "      <th>dayofweek</th>\n",
       "      <th>quarter</th>\n",
       "      <th>month</th>\n",
       "      <th>year</th>\n",
       "    </tr>\n",
       "    <tr>\n",
       "      <th>date</th>\n",
       "      <th></th>\n",
       "      <th></th>\n",
       "      <th></th>\n",
       "      <th></th>\n",
       "      <th></th>\n",
       "      <th></th>\n",
       "      <th></th>\n",
       "      <th></th>\n",
       "      <th></th>\n",
       "      <th></th>\n",
       "      <th></th>\n",
       "    </tr>\n",
       "  </thead>\n",
       "  <tbody>\n",
       "    <tr>\n",
       "      <th>2022-09-28</th>\n",
       "      <td>0.830955</td>\n",
       "      <td>0.835225</td>\n",
       "      <td>0.831948</td>\n",
       "      <td>0.831294</td>\n",
       "      <td>0.068340</td>\n",
       "      <td>0.870738</td>\n",
       "      <td>0.418021</td>\n",
       "      <td>0.50</td>\n",
       "      <td>0.666667</td>\n",
       "      <td>0.727273</td>\n",
       "      <td>1.0</td>\n",
       "    </tr>\n",
       "    <tr>\n",
       "      <th>2022-09-29</th>\n",
       "      <td>0.843817</td>\n",
       "      <td>0.846632</td>\n",
       "      <td>0.844720</td>\n",
       "      <td>0.836857</td>\n",
       "      <td>0.058803</td>\n",
       "      <td>0.876264</td>\n",
       "      <td>0.362629</td>\n",
       "      <td>0.75</td>\n",
       "      <td>0.666667</td>\n",
       "      <td>0.727273</td>\n",
       "      <td>1.0</td>\n",
       "    </tr>\n",
       "    <tr>\n",
       "      <th>2022-09-30</th>\n",
       "      <td>0.816159</td>\n",
       "      <td>0.837430</td>\n",
       "      <td>0.838862</td>\n",
       "      <td>0.813647</td>\n",
       "      <td>0.105059</td>\n",
       "      <td>0.853208</td>\n",
       "      <td>0.228951</td>\n",
       "      <td>1.00</td>\n",
       "      <td>0.666667</td>\n",
       "      <td>0.727273</td>\n",
       "      <td>1.0</td>\n",
       "    </tr>\n",
       "    <tr>\n",
       "      <th>2022-10-03</th>\n",
       "      <td>0.810356</td>\n",
       "      <td>0.819601</td>\n",
       "      <td>0.818984</td>\n",
       "      <td>0.812783</td>\n",
       "      <td>0.057228</td>\n",
       "      <td>0.852350</td>\n",
       "      <td>0.375185</td>\n",
       "      <td>0.00</td>\n",
       "      <td>1.000000</td>\n",
       "      <td>0.818182</td>\n",
       "      <td>1.0</td>\n",
       "    </tr>\n",
       "    <tr>\n",
       "      <th>2022-10-04</th>\n",
       "      <td>0.831922</td>\n",
       "      <td>0.853150</td>\n",
       "      <td>0.827146</td>\n",
       "      <td>0.852874</td>\n",
       "      <td>0.085098</td>\n",
       "      <td>0.892175</td>\n",
       "      <td>0.621123</td>\n",
       "      <td>0.25</td>\n",
       "      <td>1.000000</td>\n",
       "      <td>0.818182</td>\n",
       "      <td>1.0</td>\n",
       "    </tr>\n",
       "  </tbody>\n",
       "</table>\n",
       "</div>"
      ],
      "text/plain": [
       "                 low      high      open     close    volume  adj close  \\\n",
       "date                                                                      \n",
       "2022-09-28  0.830955  0.835225  0.831948  0.831294  0.068340   0.870738   \n",
       "2022-09-29  0.843817  0.846632  0.844720  0.836857  0.058803   0.876264   \n",
       "2022-09-30  0.816159  0.837430  0.838862  0.813647  0.105059   0.853208   \n",
       "2022-10-03  0.810356  0.819601  0.818984  0.812783  0.057228   0.852350   \n",
       "2022-10-04  0.831922  0.853150  0.827146  0.852874  0.085098   0.892175   \n",
       "\n",
       "            movement  dayofweek   quarter     month  year  \n",
       "date                                                       \n",
       "2022-09-28  0.418021       0.50  0.666667  0.727273   1.0  \n",
       "2022-09-29  0.362629       0.75  0.666667  0.727273   1.0  \n",
       "2022-09-30  0.228951       1.00  0.666667  0.727273   1.0  \n",
       "2022-10-03  0.375185       0.00  1.000000  0.818182   1.0  \n",
       "2022-10-04  0.621123       0.25  1.000000  0.818182   1.0  "
      ]
     },
     "execution_count": 26,
     "metadata": {},
     "output_type": "execute_result"
    }
   ],
   "source": [
    "X.rename(columns={0:'low', 1:'high',2:'open', 3:'close', 4:'volume', 5:'adj close', 6:'movement',7:'dayofweek', 8:'quarter', 9:'month', 10:'year'}, inplace=True)\n",
    "X = pd.DataFrame(X)\n",
    "X.index = dfpred.index\n",
    "X.tail(5)"
   ]
  },
  {
   "cell_type": "code",
   "execution_count": 27,
   "id": "c1231c53",
   "metadata": {},
   "outputs": [],
   "source": [
    "sc_out = MinMaxScaler(feature_range=(0, 1))\n",
    "scaler_output = sc_out.fit_transform(dfpred[['actual']])\n",
    "scaler_output =pd.DataFrame(scaler_output)\n",
    "y=scaler_output"
   ]
  },
  {
   "cell_type": "code",
   "execution_count": 28,
   "id": "c4c9946c",
   "metadata": {},
   "outputs": [
    {
     "data": {
      "text/html": [
       "<div>\n",
       "<style scoped>\n",
       "    .dataframe tbody tr th:only-of-type {\n",
       "        vertical-align: middle;\n",
       "    }\n",
       "\n",
       "    .dataframe tbody tr th {\n",
       "        vertical-align: top;\n",
       "    }\n",
       "\n",
       "    .dataframe thead th {\n",
       "        text-align: right;\n",
       "    }\n",
       "</style>\n",
       "<table border=\"1\" class=\"dataframe\">\n",
       "  <thead>\n",
       "    <tr style=\"text-align: right;\">\n",
       "      <th></th>\n",
       "      <th>0</th>\n",
       "    </tr>\n",
       "  </thead>\n",
       "  <tbody>\n",
       "    <tr>\n",
       "      <th>0</th>\n",
       "      <td>0.415066</td>\n",
       "    </tr>\n",
       "    <tr>\n",
       "      <th>1</th>\n",
       "      <td>0.415066</td>\n",
       "    </tr>\n",
       "    <tr>\n",
       "      <th>2</th>\n",
       "      <td>0.415066</td>\n",
       "    </tr>\n",
       "    <tr>\n",
       "      <th>3</th>\n",
       "      <td>0.415066</td>\n",
       "    </tr>\n",
       "    <tr>\n",
       "      <th>4</th>\n",
       "      <td>0.415066</td>\n",
       "    </tr>\n",
       "    <tr>\n",
       "      <th>...</th>\n",
       "      <td>...</td>\n",
       "    </tr>\n",
       "    <tr>\n",
       "      <th>7855</th>\n",
       "      <td>0.362629</td>\n",
       "    </tr>\n",
       "    <tr>\n",
       "      <th>7856</th>\n",
       "      <td>0.228951</td>\n",
       "    </tr>\n",
       "    <tr>\n",
       "      <th>7857</th>\n",
       "      <td>0.375185</td>\n",
       "    </tr>\n",
       "    <tr>\n",
       "      <th>7858</th>\n",
       "      <td>0.621123</td>\n",
       "    </tr>\n",
       "    <tr>\n",
       "      <th>7859</th>\n",
       "      <td>0.511079</td>\n",
       "    </tr>\n",
       "  </tbody>\n",
       "</table>\n",
       "<p>7860 rows × 1 columns</p>\n",
       "</div>"
      ],
      "text/plain": [
       "             0\n",
       "0     0.415066\n",
       "1     0.415066\n",
       "2     0.415066\n",
       "3     0.415066\n",
       "4     0.415066\n",
       "...        ...\n",
       "7855  0.362629\n",
       "7856  0.228951\n",
       "7857  0.375185\n",
       "7858  0.621123\n",
       "7859  0.511079\n",
       "\n",
       "[7860 rows x 1 columns]"
      ]
     },
     "execution_count": 28,
     "metadata": {},
     "output_type": "execute_result"
    }
   ],
   "source": [
    "y"
   ]
  },
  {
   "cell_type": "code",
   "execution_count": 29,
   "id": "90494323",
   "metadata": {},
   "outputs": [
    {
     "data": {
      "text/html": [
       "<div>\n",
       "<style scoped>\n",
       "    .dataframe tbody tr th:only-of-type {\n",
       "        vertical-align: middle;\n",
       "    }\n",
       "\n",
       "    .dataframe tbody tr th {\n",
       "        vertical-align: top;\n",
       "    }\n",
       "\n",
       "    .dataframe thead th {\n",
       "        text-align: right;\n",
       "    }\n",
       "</style>\n",
       "<table border=\"1\" class=\"dataframe\">\n",
       "  <thead>\n",
       "    <tr style=\"text-align: right;\">\n",
       "      <th></th>\n",
       "      <th>movement_next_day</th>\n",
       "    </tr>\n",
       "    <tr>\n",
       "      <th>date</th>\n",
       "      <th></th>\n",
       "    </tr>\n",
       "  </thead>\n",
       "  <tbody>\n",
       "    <tr>\n",
       "      <th>1991-10-01</th>\n",
       "      <td>0.415066</td>\n",
       "    </tr>\n",
       "    <tr>\n",
       "      <th>1991-10-02</th>\n",
       "      <td>0.415066</td>\n",
       "    </tr>\n",
       "  </tbody>\n",
       "</table>\n",
       "</div>"
      ],
      "text/plain": [
       "            movement_next_day\n",
       "date                         \n",
       "1991-10-01           0.415066\n",
       "1991-10-02           0.415066"
      ]
     },
     "execution_count": 29,
     "metadata": {},
     "output_type": "execute_result"
    }
   ],
   "source": [
    "y.rename(columns={0:'movement_next_day'}, inplace= True)\n",
    "y.index=dfpred.index\n",
    "y.head(2)"
   ]
  },
  {
   "cell_type": "code",
   "execution_count": 30,
   "id": "9372d044",
   "metadata": {},
   "outputs": [
    {
     "data": {
      "image/png": "[encoded data removed]",
      "text/plain": [
       "<Figure size 432x288 with 4 Axes>"
      ]
     },
     "metadata": {
      "needs_background": "light"
     },
     "output_type": "display_data"
    }
   ],
   "source": [
    "import statsmodels.api as sm\n",
    "sd=sm.tsa.seasonal_decompose(X['movement'],model='add',period=365);\n",
    "fig=sd.plot()\n",
    "fig.set_figheight(4)\n",
    "plt.show()"
   ]
  },
  {
   "cell_type": "code",
   "execution_count": 31,
   "id": "d663b689",
   "metadata": {},
   "outputs": [
    {
     "name": "stdout",
     "output_type": "stream",
     "text": [
      "1573\n"
     ]
    }
   ],
   "source": [
    "train_size=int(len(df) *0.80)\n",
    "test_size = int(len(df)) - train_size\n",
    "print(test_size)"
   ]
  },
  {
   "cell_type": "code",
   "execution_count": 32,
   "id": "51a7ff06",
   "metadata": {},
   "outputs": [],
   "source": [
    "train_X, train_y = X[:train_size], y[:train_size]\n",
    "test_X, test_y = X[train_size:], y[train_size:]"
   ]
  },
  {
   "cell_type": "code",
   "execution_count": 33,
   "id": "23eaee25",
   "metadata": {},
   "outputs": [
    {
     "data": {
      "text/plain": [
       "Index(['low', 'high', 'open', 'close', 'volume', 'adj close', 'movement',\n",
       "       'dayofweek', 'quarter', 'month', 'year'],\n",
       "      dtype='object')"
      ]
     },
     "execution_count": 33,
     "metadata": {},
     "output_type": "execute_result"
    }
   ],
   "source": [
    "test_X.columns"
   ]
  },
  {
   "cell_type": "code",
   "execution_count": 34,
   "id": "6e7d700b",
   "metadata": {},
   "outputs": [],
   "source": [
    "y_test=y['movement_next_day'][:train_size]"
   ]
  },
  {
   "cell_type": "code",
   "execution_count": 35,
   "id": "ae4dd942",
   "metadata": {},
   "outputs": [
    {
     "data": {
      "text/plain": [
       "pandas.core.series.Series"
      ]
     },
     "execution_count": 35,
     "metadata": {},
     "output_type": "execute_result"
    }
   ],
   "source": [
    "type(y_test)"
   ]
  },
  {
   "cell_type": "code",
   "execution_count": null,
   "id": "b7270ecd",
   "metadata": {},
   "outputs": [],
   "source": []
  },
  {
   "cell_type": "code",
   "execution_count": 36,
   "id": "dc292d7e",
   "metadata": {},
   "outputs": [],
   "source": [
    "from statsmodels.tsa.stattools import adfuller\n",
    "def test_adf(series, title=''):\n",
    "    dfout={}\n",
    "    dftest=sm.tsa.adfuller(series.dropna(), autolag='AIC', regression='ct')\n",
    "    for key,val in dftest[4].items():\n",
    "        dfout[f'critical value ({key})']=val\n",
    "    if dftest[1]<=0.05:\n",
    "        print(\"Strong evidence against Null Hypothesis\")\n",
    "        print(\"Reject Null Hypothesis - Data is  Stationary\")\n",
    "        print(\"Data is Stationary for\", title)\n",
    "    else:\n",
    "        print(\"Strong evidence for  Null Hypothesis\")\n",
    "        print(\"Accept Null Hypothesis - Data is not Stationary\")\n",
    "        print(\"Data is NOT Stationary for\", title)"
   ]
  },
  {
   "cell_type": "code",
   "execution_count": 37,
   "id": "beedf8f0",
   "metadata": {},
   "outputs": [
    {
     "name": "stdout",
     "output_type": "stream",
     "text": [
      "Strong evidence against Null Hypothesis\n",
      "Reject Null Hypothesis - Data is  Stationary\n",
      "Data is Stationary for CBA stock price\n"
     ]
    }
   ],
   "source": [
    "test_adf(y_test, \"CBA stock price\")"
   ]
  },
  {
   "cell_type": "code",
   "execution_count": 38,
   "id": "1357180a",
   "metadata": {},
   "outputs": [
    {
     "name": "stdout",
     "output_type": "stream",
     "text": [
      "Strong evidence against Null Hypothesis\n",
      "Reject Null Hypothesis - Data is  Stationary\n",
      "Data is Stationary for  CBA stock Price\n"
     ]
    }
   ],
   "source": [
    "test_adf(y_test.diff(), \" CBA stock Price\")"
   ]
  },
  {
   "cell_type": "code",
   "execution_count": 39,
   "id": "fea8c244",
   "metadata": {},
   "outputs": [
    {
     "name": "stderr",
     "output_type": "stream",
     "text": [
      "/Users/macbook/opt/anaconda3/envs/Deep/lib/python3.8/site-packages/statsmodels/graphics/tsaplots.py:348: FutureWarning: The default method 'yw' can produce PACF values outside of the [-1,1] interval. After 0.13, the default will change tounadjusted Yule-Walker ('ywm'). You can use this method now by setting method='ywm'.\n",
      "  warnings.warn(\n"
     ]
    },
    {
     "data": {
      "image/png": "[encoded data removed]",
      "text/plain": [
       "<Figure size 720x360 with 2 Axes>"
      ]
     },
     "metadata": {
      "needs_background": "light"
     },
     "output_type": "display_data"
    }
   ],
   "source": [
    "#Correlograms\n",
    "fig,ax= plt.subplots(2,1, figsize=(10,5))\n",
    "fig=sm.tsa.graphics.plot_acf(y_test, lags=30, ax=ax[0])\n",
    "fig=sm.tsa.graphics.plot_pacf(y_test, lags=30, ax=ax[1])\n",
    "plt.show()"
   ]
  },
  {
   "cell_type": "code",
   "execution_count": 40,
   "id": "7d9874d2",
   "metadata": {},
   "outputs": [
    {
     "name": "stdout",
     "output_type": "stream",
     "text": [
      "Performing stepwise search to minimize aic\n"
     ]
    },
    {
     "name": "stderr",
     "output_type": "stream",
     "text": [
      "/Users/macbook/opt/anaconda3/envs/Deep/lib/python3.8/site-packages/statsmodels/tsa/statespace/sarimax.py:1899: RuntimeWarning: invalid value encountered in reciprocal\n",
      "  return np.roots(self.polynomial_reduced_ar)**-1\n",
      "/Users/macbook/opt/anaconda3/envs/Deep/lib/python3.8/site-packages/statsmodels/tsa/statespace/sarimax.py:1906: RuntimeWarning: invalid value encountered in reciprocal\n",
      "  return np.roots(self.polynomial_reduced_ma)**-1\n"
     ]
    },
    {
     "name": "stdout",
     "output_type": "stream",
     "text": [
      " ARIMA(1,1,1)(0,0,0)[0] intercept   : AIC=-24715.720, Time=10.80 sec\n",
      " ARIMA(0,1,0)(0,0,0)[0] intercept   : AIC=-23621.581, Time=3.22 sec\n"
     ]
    },
    {
     "name": "stderr",
     "output_type": "stream",
     "text": [
      "/Users/macbook/opt/anaconda3/envs/Deep/lib/python3.8/site-packages/statsmodels/tsa/statespace/sarimax.py:1899: RuntimeWarning: invalid value encountered in reciprocal\n",
      "  return np.roots(self.polynomial_reduced_ar)**-1\n"
     ]
    },
    {
     "name": "stdout",
     "output_type": "stream",
     "text": [
      " ARIMA(1,1,0)(0,0,0)[0] intercept   : AIC=-23951.081, Time=9.97 sec\n"
     ]
    },
    {
     "name": "stderr",
     "output_type": "stream",
     "text": [
      "/Users/macbook/opt/anaconda3/envs/Deep/lib/python3.8/site-packages/statsmodels/tsa/statespace/sarimax.py:1906: RuntimeWarning: invalid value encountered in reciprocal\n",
      "  return np.roots(self.polynomial_reduced_ma)**-1\n"
     ]
    },
    {
     "name": "stdout",
     "output_type": "stream",
     "text": [
      " ARIMA(0,1,1)(0,0,0)[0] intercept   : AIC=-25165.748, Time=11.56 sec\n",
      " ARIMA(0,1,0)(0,0,0)[0]             : AIC=-23623.204, Time=4.08 sec\n",
      " ARIMA(0,1,2)(0,0,0)[0] intercept   : AIC=-25171.708, Time=11.03 sec\n"
     ]
    },
    {
     "name": "stderr",
     "output_type": "stream",
     "text": [
      "/Users/macbook/opt/anaconda3/envs/Deep/lib/python3.8/site-packages/statsmodels/tsa/statespace/sarimax.py:1899: RuntimeWarning: invalid value encountered in reciprocal\n",
      "  return np.roots(self.polynomial_reduced_ar)**-1\n"
     ]
    },
    {
     "name": "stdout",
     "output_type": "stream",
     "text": [
      " ARIMA(1,1,2)(0,0,0)[0] intercept   : AIC=-25142.426, Time=11.45 sec\n"
     ]
    },
    {
     "name": "stderr",
     "output_type": "stream",
     "text": [
      "/Users/macbook/opt/anaconda3/envs/Deep/lib/python3.8/site-packages/statsmodels/tsa/statespace/sarimax.py:1906: RuntimeWarning: invalid value encountered in reciprocal\n",
      "  return np.roots(self.polynomial_reduced_ma)**-1\n"
     ]
    },
    {
     "name": "stdout",
     "output_type": "stream",
     "text": [
      " ARIMA(0,1,3)(0,0,0)[0] intercept   : AIC=-25031.730, Time=13.43 sec\n"
     ]
    },
    {
     "name": "stderr",
     "output_type": "stream",
     "text": [
      "/Users/macbook/opt/anaconda3/envs/Deep/lib/python3.8/site-packages/statsmodels/tsa/statespace/sarimax.py:1899: RuntimeWarning: invalid value encountered in reciprocal\n",
      "  return np.roots(self.polynomial_reduced_ar)**-1\n"
     ]
    },
    {
     "name": "stdout",
     "output_type": "stream",
     "text": [
      " ARIMA(1,1,3)(0,0,0)[0] intercept   : AIC=-25096.176, Time=13.47 sec\n",
      " ARIMA(0,1,2)(0,0,0)[0]             : AIC=-25273.977, Time=12.08 sec\n"
     ]
    },
    {
     "name": "stderr",
     "output_type": "stream",
     "text": [
      "/Users/macbook/opt/anaconda3/envs/Deep/lib/python3.8/site-packages/statsmodels/tsa/statespace/sarimax.py:1906: RuntimeWarning: invalid value encountered in reciprocal\n",
      "  return np.roots(self.polynomial_reduced_ma)**-1\n"
     ]
    },
    {
     "name": "stdout",
     "output_type": "stream",
     "text": [
      " ARIMA(0,1,1)(0,0,0)[0]             : AIC=-25189.510, Time=10.32 sec\n"
     ]
    },
    {
     "name": "stderr",
     "output_type": "stream",
     "text": [
      "/Users/macbook/opt/anaconda3/envs/Deep/lib/python3.8/site-packages/statsmodels/tsa/statespace/sarimax.py:1899: RuntimeWarning: invalid value encountered in reciprocal\n",
      "  return np.roots(self.polynomial_reduced_ar)**-1\n"
     ]
    },
    {
     "name": "stdout",
     "output_type": "stream",
     "text": [
      " ARIMA(1,1,2)(0,0,0)[0]             : AIC=-25265.556, Time=13.36 sec\n"
     ]
    },
    {
     "name": "stderr",
     "output_type": "stream",
     "text": [
      "/Users/macbook/opt/anaconda3/envs/Deep/lib/python3.8/site-packages/statsmodels/tsa/statespace/sarimax.py:1906: RuntimeWarning: invalid value encountered in reciprocal\n",
      "  return np.roots(self.polynomial_reduced_ma)**-1\n"
     ]
    },
    {
     "name": "stdout",
     "output_type": "stream",
     "text": [
      " ARIMA(0,1,3)(0,0,0)[0]             : AIC=-25239.782, Time=12.18 sec\n"
     ]
    },
    {
     "name": "stderr",
     "output_type": "stream",
     "text": [
      "/Users/macbook/opt/anaconda3/envs/Deep/lib/python3.8/site-packages/statsmodels/tsa/statespace/sarimax.py:1899: RuntimeWarning: invalid value encountered in reciprocal\n",
      "  return np.roots(self.polynomial_reduced_ar)**-1\n",
      "/Users/macbook/opt/anaconda3/envs/Deep/lib/python3.8/site-packages/statsmodels/tsa/statespace/sarimax.py:1906: RuntimeWarning: invalid value encountered in reciprocal\n",
      "  return np.roots(self.polynomial_reduced_ma)**-1\n"
     ]
    },
    {
     "name": "stdout",
     "output_type": "stream",
     "text": [
      " ARIMA(1,1,1)(0,0,0)[0]             : AIC=-25144.857, Time=10.99 sec\n",
      " ARIMA(1,1,3)(0,0,0)[0]             : AIC=-25270.354, Time=13.47 sec\n",
      "\n",
      "Best model:  ARIMA(0,1,2)(0,0,0)[0]          \n",
      "Total fit time: 161.450 seconds\n"
     ]
    },
    {
     "name": "stderr",
     "output_type": "stream",
     "text": [
      "/Users/macbook/opt/anaconda3/envs/Deep/lib/python3.8/site-packages/statsmodels/tsa/statespace/sarimax.py:1899: RuntimeWarning: invalid value encountered in reciprocal\n",
      "  return np.roots(self.polynomial_reduced_ar)**-1\n",
      "/Users/macbook/opt/anaconda3/envs/Deep/lib/python3.8/site-packages/statsmodels/tsa/statespace/sarimax.py:1906: RuntimeWarning: invalid value encountered in reciprocal\n",
      "  return np.roots(self.polynomial_reduced_ma)**-1\n"
     ]
    }
   ],
   "source": [
    "from pmdarima.arima import auto_arima\n",
    "ar=auto_arima(train_y, \n",
    "                     exogenous= train_X,\n",
    "                     start_p=1,  start_q=1, \n",
    "                     max_p=7,  max_q=7, \n",
    "                     d=1, max_d=7,\n",
    "                     trace=True, \n",
    "                     error_action='ignore', \n",
    "                     suppress_warnings=True, \n",
    "                     stepwise=True)"
   ]
  },
  {
   "cell_type": "code",
   "execution_count": 41,
   "id": "0fe96e36",
   "metadata": {},
   "outputs": [
    {
     "data": {
      "text/html": [
       "<table class=\"simpletable\">\n",
       "<caption>SARIMAX Results</caption>\n",
       "<tr>\n",
       "  <th>Dep. Variable:</th>           <td>y</td>        <th>  No. Observations:  </th>    <td>6288</td>   \n",
       "</tr>\n",
       "<tr>\n",
       "  <th>Model:</th>           <td>SARIMAX(0, 1, 2)</td> <th>  Log Likelihood     </th>  <td>12650.989</td>\n",
       "</tr>\n",
       "<tr>\n",
       "  <th>Date:</th>            <td>Fri, 07 Oct 2022</td> <th>  AIC                </th> <td>-25273.977</td>\n",
       "</tr>\n",
       "<tr>\n",
       "  <th>Time:</th>                <td>20:49:42</td>     <th>  BIC                </th> <td>-25179.530</td>\n",
       "</tr>\n",
       "<tr>\n",
       "  <th>Sample:</th>                  <td>0</td>        <th>  HQIC               </th> <td>-25241.256</td>\n",
       "</tr>\n",
       "<tr>\n",
       "  <th></th>                      <td> - 6288</td>     <th>                     </th>      <td> </td>    \n",
       "</tr>\n",
       "<tr>\n",
       "  <th>Covariance Type:</th>        <td>opg</td>       <th>                     </th>      <td> </td>    \n",
       "</tr>\n",
       "</table>\n",
       "<table class=\"simpletable\">\n",
       "<tr>\n",
       "      <td></td>         <th>coef</th>     <th>std err</th>      <th>z</th>      <th>P>|z|</th>  <th>[0.025</th>    <th>0.975]</th>  \n",
       "</tr>\n",
       "<tr>\n",
       "  <th>low</th>       <td>   -0.1590</td> <td>    0.104</td> <td>   -1.523</td> <td> 0.128</td> <td>   -0.364</td> <td>    0.046</td>\n",
       "</tr>\n",
       "<tr>\n",
       "  <th>high</th>      <td>   -0.1300</td> <td>    0.100</td> <td>   -1.302</td> <td> 0.193</td> <td>   -0.326</td> <td>    0.066</td>\n",
       "</tr>\n",
       "<tr>\n",
       "  <th>open</th>      <td>    0.6458</td> <td>    0.089</td> <td>    7.252</td> <td> 0.000</td> <td>    0.471</td> <td>    0.820</td>\n",
       "</tr>\n",
       "<tr>\n",
       "  <th>close</th>     <td>    0.5544</td> <td>    0.090</td> <td>    6.186</td> <td> 0.000</td> <td>    0.379</td> <td>    0.730</td>\n",
       "</tr>\n",
       "<tr>\n",
       "  <th>volume</th>    <td>    0.0010</td> <td>    0.005</td> <td>    0.199</td> <td> 0.842</td> <td>   -0.009</td> <td>    0.011</td>\n",
       "</tr>\n",
       "<tr>\n",
       "  <th>adj close</th> <td>   -2.6377</td> <td>    0.196</td> <td>  -13.477</td> <td> 0.000</td> <td>   -3.021</td> <td>   -2.254</td>\n",
       "</tr>\n",
       "<tr>\n",
       "  <th>movement</th>  <td>   -0.6976</td> <td>    0.029</td> <td>  -23.710</td> <td> 0.000</td> <td>   -0.755</td> <td>   -0.640</td>\n",
       "</tr>\n",
       "<tr>\n",
       "  <th>dayofweek</th> <td>   -0.0015</td> <td>    0.001</td> <td>   -1.504</td> <td> 0.132</td> <td>   -0.004</td> <td>    0.000</td>\n",
       "</tr>\n",
       "<tr>\n",
       "  <th>quarter</th>   <td>    0.0059</td> <td>    0.009</td> <td>    0.647</td> <td> 0.518</td> <td>   -0.012</td> <td>    0.024</td>\n",
       "</tr>\n",
       "<tr>\n",
       "  <th>month</th>     <td>    0.0294</td> <td>    0.013</td> <td>    2.302</td> <td> 0.021</td> <td>    0.004</td> <td>    0.054</td>\n",
       "</tr>\n",
       "<tr>\n",
       "  <th>year</th>      <td>    0.8759</td> <td>    0.301</td> <td>    2.906</td> <td> 0.004</td> <td>    0.285</td> <td>    1.467</td>\n",
       "</tr>\n",
       "<tr>\n",
       "  <th>ma.L1</th>     <td>   -0.1787</td> <td>    0.030</td> <td>   -6.030</td> <td> 0.000</td> <td>   -0.237</td> <td>   -0.121</td>\n",
       "</tr>\n",
       "<tr>\n",
       "  <th>ma.L2</th>     <td>   -0.7220</td> <td>    0.029</td> <td>  -24.529</td> <td> 0.000</td> <td>   -0.780</td> <td>   -0.664</td>\n",
       "</tr>\n",
       "<tr>\n",
       "  <th>sigma2</th>    <td>    0.0010</td> <td> 8.45e-06</td> <td>  123.639</td> <td> 0.000</td> <td>    0.001</td> <td>    0.001</td>\n",
       "</tr>\n",
       "</table>\n",
       "<table class=\"simpletable\">\n",
       "<tr>\n",
       "  <th>Ljung-Box (L1) (Q):</th>     <td>0.08</td>  <th>  Jarque-Bera (JB):  </th> <td>17710.72</td>\n",
       "</tr>\n",
       "<tr>\n",
       "  <th>Prob(Q):</th>                <td>0.77</td>  <th>  Prob(JB):          </th>   <td>0.00</td>  \n",
       "</tr>\n",
       "<tr>\n",
       "  <th>Heteroskedasticity (H):</th> <td>63.20</td> <th>  Skew:              </th>   <td>-0.08</td> \n",
       "</tr>\n",
       "<tr>\n",
       "  <th>Prob(H) (two-sided):</th>    <td>0.00</td>  <th>  Kurtosis:          </th>   <td>11.22</td> \n",
       "</tr>\n",
       "</table><br/><br/>Warnings:<br/>[1] Covariance matrix calculated using the outer product of gradients (complex-step).<br/>[2] Covariance matrix is singular or near-singular, with condition number 5.18e+17. Standard errors may be unstable."
      ],
      "text/plain": [
       "<class 'statsmodels.iolib.summary.Summary'>\n",
       "\"\"\"\n",
       "                               SARIMAX Results                                \n",
       "==============================================================================\n",
       "Dep. Variable:                      y   No. Observations:                 6288\n",
       "Model:               SARIMAX(0, 1, 2)   Log Likelihood               12650.989\n",
       "Date:                Fri, 07 Oct 2022   AIC                         -25273.977\n",
       "Time:                        20:49:42   BIC                         -25179.530\n",
       "Sample:                             0   HQIC                        -25241.256\n",
       "                               - 6288                                         \n",
       "Covariance Type:                  opg                                         \n",
       "==============================================================================\n",
       "                 coef    std err          z      P>|z|      [0.025      0.975]\n",
       "------------------------------------------------------------------------------\n",
       "low           -0.1590      0.104     -1.523      0.128      -0.364       0.046\n",
       "high          -0.1300      0.100     -1.302      0.193      -0.326       0.066\n",
       "open           0.6458      0.089      7.252      0.000       0.471       0.820\n",
       "close          0.5544      0.090      6.186      0.000       0.379       0.730\n",
       "volume         0.0010      0.005      0.199      0.842      -0.009       0.011\n",
       "adj close     -2.6377      0.196    -13.477      0.000      -3.021      -2.254\n",
       "movement      -0.6976      0.029    -23.710      0.000      -0.755      -0.640\n",
       "dayofweek     -0.0015      0.001     -1.504      0.132      -0.004       0.000\n",
       "quarter        0.0059      0.009      0.647      0.518      -0.012       0.024\n",
       "month          0.0294      0.013      2.302      0.021       0.004       0.054\n",
       "year           0.8759      0.301      2.906      0.004       0.285       1.467\n",
       "ma.L1         -0.1787      0.030     -6.030      0.000      -0.237      -0.121\n",
       "ma.L2         -0.7220      0.029    -24.529      0.000      -0.780      -0.664\n",
       "sigma2         0.0010   8.45e-06    123.639      0.000       0.001       0.001\n",
       "===================================================================================\n",
       "Ljung-Box (L1) (Q):                   0.08   Jarque-Bera (JB):             17710.72\n",
       "Prob(Q):                              0.77   Prob(JB):                         0.00\n",
       "Heteroskedasticity (H):              63.20   Skew:                            -0.08\n",
       "Prob(H) (two-sided):                  0.00   Kurtosis:                        11.22\n",
       "===================================================================================\n",
       "\n",
       "Warnings:\n",
       "[1] Covariance matrix calculated using the outer product of gradients (complex-step).\n",
       "[2] Covariance matrix is singular or near-singular, with condition number 5.18e+17. Standard errors may be unstable.\n",
       "\"\"\""
      ]
     },
     "execution_count": 41,
     "metadata": {},
     "output_type": "execute_result"
    }
   ],
   "source": [
    "ar.summary()"
   ]
  },
  {
   "cell_type": "code",
   "execution_count": 42,
   "id": "561f7744",
   "metadata": {},
   "outputs": [
    {
     "name": "stderr",
     "output_type": "stream",
     "text": [
      "/Users/macbook/opt/anaconda3/envs/Deep/lib/python3.8/site-packages/statsmodels/tsa/base/tsa_model.py:471: ValueWarning: A date index has been provided, but it has no associated frequency information and so will be ignored when e.g. forecasting.\n",
      "  self._init_dates(dates, freq)\n",
      "/Users/macbook/opt/anaconda3/envs/Deep/lib/python3.8/site-packages/statsmodels/tsa/base/tsa_model.py:471: ValueWarning: A date index has been provided, but it has no associated frequency information and so will be ignored when e.g. forecasting.\n",
      "  self._init_dates(dates, freq)\n"
     ]
    }
   ],
   "source": [
    "from statsmodels.tsa.statespace.sarimax import SARIMAX\n",
    "model= SARIMAX(train_y, \n",
    "           exog=train_X,\n",
    "              order=(0,1,2),\n",
    "              enforce_invertibility=False, enforce_stationarity=False)"
   ]
  },
  {
   "cell_type": "code",
   "execution_count": 44,
   "id": "0fb6298a",
   "metadata": {},
   "outputs": [
    {
     "name": "stdout",
     "output_type": "stream",
     "text": [
      "RUNNING THE L-BFGS-B CODE\n",
      "\n",
      "           * * *\n",
      "\n",
      "Machine precision = 2.220D-16\n",
      " N =           14     M =           10\n",
      "\n",
      "At X0         0 variables are exactly at the bounds\n",
      "\n",
      "At iterate    0    f= -1.95215D+00    |proj g|=  1.06937D-01\n"
     ]
    },
    {
     "name": "stderr",
     "output_type": "stream",
     "text": [
      " This problem is unconstrained.\n"
     ]
    },
    {
     "name": "stdout",
     "output_type": "stream",
     "text": [
      "\n",
      "At iterate    5    f= -1.95433D+00    |proj g|=  5.94198D-01\n",
      "\n",
      "At iterate   10    f= -1.95949D+00    |proj g|=  7.31955D-01\n",
      "\n",
      "At iterate   15    f= -1.99296D+00    |proj g|=  9.62400D-01\n",
      "\n",
      "At iterate   20    f= -2.00650D+00    |proj g|=  5.49687D-01\n",
      "\n",
      "At iterate   25    f= -2.00883D+00    |proj g|=  5.92758D-02\n",
      "\n",
      "At iterate   30    f= -2.01004D+00    |proj g|=  9.38640D-02\n",
      "\n",
      "At iterate   35    f= -2.01013D+00    |proj g|=  1.00121D-01\n",
      "\n",
      "At iterate   40    f= -2.01026D+00    |proj g|=  7.59552D-02\n",
      "\n",
      "At iterate   45    f= -2.01031D+00    |proj g|=  9.64167D-03\n",
      "\n",
      "At iterate   50    f= -2.01032D+00    |proj g|=  4.40919D-02\n",
      "\n",
      "           * * *\n",
      "\n",
      "Tit   = total number of iterations\n",
      "Tnf   = total number of function evaluations\n",
      "Tnint = total number of segments explored during Cauchy searches\n",
      "Skip  = number of BFGS updates skipped\n",
      "Nact  = number of active bounds at final generalized Cauchy point\n",
      "Projg = norm of the final projected gradient\n",
      "F     = final function value\n",
      "\n",
      "           * * *\n",
      "\n",
      "   N    Tit     Tnf  Tnint  Skip  Nact     Projg        F\n",
      "   14     50     66      1     0     0   4.409D-02  -2.010D+00\n",
      "  F =  -2.0103216917676523     \n",
      "\n",
      "STOP: TOTAL NO. of ITERATIONS REACHED LIMIT                 \n"
     ]
    },
    {
     "name": "stderr",
     "output_type": "stream",
     "text": [
      "/Users/macbook/opt/anaconda3/envs/Deep/lib/python3.8/site-packages/statsmodels/base/model.py:604: ConvergenceWarning: Maximum Likelihood optimization failed to converge. Check mle_retvals\n",
      "  warnings.warn(\"Maximum Likelihood optimization failed to \"\n"
     ]
    },
    {
     "name": "stdout",
     "output_type": "stream",
     "text": [
      "1572\n"
     ]
    },
    {
     "name": "stderr",
     "output_type": "stream",
     "text": [
      "/Users/macbook/opt/anaconda3/envs/Deep/lib/python3.8/site-packages/statsmodels/tsa/base/tsa_model.py:834: ValueWarning: No supported index is available. Prediction results will be given with an integer index beginning at `start`.\n",
      "  return get_prediction_index(\n"
     ]
    }
   ],
   "source": [
    "results = model.fit()\n",
    "predictions= results.predict(start =train_size, end=train_size+test_size+(steps)-1,exog=test_X)\n",
    "print(len(predictions))"
   ]
  },
  {
   "cell_type": "code",
   "execution_count": 45,
   "id": "2de27680",
   "metadata": {},
   "outputs": [
    {
     "name": "stderr",
     "output_type": "stream",
     "text": [
      "/Users/macbook/opt/anaconda3/envs/Deep/lib/python3.8/site-packages/statsmodels/tsa/base/tsa_model.py:834: ValueWarning: No supported index is available. Prediction results will be given with an integer index beginning at `start`.\n",
      "  return get_prediction_index(\n"
     ]
    }
   ],
   "source": [
    "forecast_1= results.forecast(steps=test_size-1, exog=test_X)"
   ]
  },
  {
   "cell_type": "code",
   "execution_count": 46,
   "id": "5bd97454",
   "metadata": {},
   "outputs": [
    {
     "data": {
      "text/plain": [
       "6288    0.397927\n",
       "6289    0.375796\n",
       "6290    0.371229\n",
       "6291    0.362037\n",
       "6292    0.395552\n",
       "          ...   \n",
       "7855   -0.205535\n",
       "7856   -0.179226\n",
       "7857   -0.050356\n",
       "7858   -0.140749\n",
       "7859   -0.372495\n",
       "Name: predicted_mean, Length: 1572, dtype: float64"
      ]
     },
     "execution_count": 46,
     "metadata": {},
     "output_type": "execute_result"
    }
   ],
   "source": [
    "forecast_1"
   ]
  },
  {
   "cell_type": "code",
   "execution_count": 47,
   "id": "ffd0fc48",
   "metadata": {},
   "outputs": [],
   "source": [
    "act= pd.DataFrame(scaler_output.iloc[train_size:, 0])"
   ]
  },
  {
   "cell_type": "code",
   "execution_count": 48,
   "id": "82d8a4ce",
   "metadata": {},
   "outputs": [
    {
     "data": {
      "text/html": [
       "<div>\n",
       "<style scoped>\n",
       "    .dataframe tbody tr th:only-of-type {\n",
       "        vertical-align: middle;\n",
       "    }\n",
       "\n",
       "    .dataframe tbody tr th {\n",
       "        vertical-align: top;\n",
       "    }\n",
       "\n",
       "    .dataframe thead th {\n",
       "        text-align: right;\n",
       "    }\n",
       "</style>\n",
       "<table border=\"1\" class=\"dataframe\">\n",
       "  <thead>\n",
       "    <tr style=\"text-align: right;\">\n",
       "      <th></th>\n",
       "      <th>movement_next_day</th>\n",
       "    </tr>\n",
       "    <tr>\n",
       "      <th>date</th>\n",
       "      <th></th>\n",
       "    </tr>\n",
       "  </thead>\n",
       "  <tbody>\n",
       "    <tr>\n",
       "      <th>2016-07-21</th>\n",
       "      <td>0.426145</td>\n",
       "    </tr>\n",
       "    <tr>\n",
       "      <th>2016-07-22</th>\n",
       "      <td>0.427622</td>\n",
       "    </tr>\n",
       "    <tr>\n",
       "      <th>2016-07-25</th>\n",
       "      <td>0.436485</td>\n",
       "    </tr>\n",
       "    <tr>\n",
       "      <th>2016-07-26</th>\n",
       "      <td>0.386263</td>\n",
       "    </tr>\n",
       "    <tr>\n",
       "      <th>2016-07-27</th>\n",
       "      <td>0.402511</td>\n",
       "    </tr>\n",
       "  </tbody>\n",
       "</table>\n",
       "</div>"
      ],
      "text/plain": [
       "            movement_next_day\n",
       "date                         \n",
       "2016-07-21           0.426145\n",
       "2016-07-22           0.427622\n",
       "2016-07-25           0.436485\n",
       "2016-07-26           0.386263\n",
       "2016-07-27           0.402511"
      ]
     },
     "execution_count": 48,
     "metadata": {},
     "output_type": "execute_result"
    }
   ],
   "source": [
    "act.head()"
   ]
  },
  {
   "cell_type": "code",
   "execution_count": 51,
   "id": "41491676",
   "metadata": {},
   "outputs": [],
   "source": [
    "fc_cba= pd.DataFrame(forecast_1)\n",
    "fc_cba.reset_index(drop=True, inplace=True)\n",
    "fc_cba.index=test_X.index\n",
    "fc_cba['actual'] =scaler_output.iloc[train_size:, 0]\n",
    "fc_cba.rename(columns={0:'forecast'}, inplace= True)"
   ]
  },
  {
   "cell_type": "code",
   "execution_count": 52,
   "id": "99da3d45",
   "metadata": {},
   "outputs": [
    {
     "data": {
      "text/html": [
       "<div>\n",
       "<style scoped>\n",
       "    .dataframe tbody tr th:only-of-type {\n",
       "        vertical-align: middle;\n",
       "    }\n",
       "\n",
       "    .dataframe tbody tr th {\n",
       "        vertical-align: top;\n",
       "    }\n",
       "\n",
       "    .dataframe thead th {\n",
       "        text-align: right;\n",
       "    }\n",
       "</style>\n",
       "<table border=\"1\" class=\"dataframe\">\n",
       "  <thead>\n",
       "    <tr style=\"text-align: right;\">\n",
       "      <th></th>\n",
       "      <th>predicted_mean</th>\n",
       "      <th>actual</th>\n",
       "    </tr>\n",
       "    <tr>\n",
       "      <th>date</th>\n",
       "      <th></th>\n",
       "      <th></th>\n",
       "    </tr>\n",
       "  </thead>\n",
       "  <tbody>\n",
       "    <tr>\n",
       "      <th>2016-07-21</th>\n",
       "      <td>0.397927</td>\n",
       "      <td>0.426145</td>\n",
       "    </tr>\n",
       "    <tr>\n",
       "      <th>2016-07-22</th>\n",
       "      <td>0.375796</td>\n",
       "      <td>0.427622</td>\n",
       "    </tr>\n",
       "    <tr>\n",
       "      <th>2016-07-25</th>\n",
       "      <td>0.371229</td>\n",
       "      <td>0.436485</td>\n",
       "    </tr>\n",
       "    <tr>\n",
       "      <th>2016-07-26</th>\n",
       "      <td>0.362037</td>\n",
       "      <td>0.386263</td>\n",
       "    </tr>\n",
       "    <tr>\n",
       "      <th>2016-07-27</th>\n",
       "      <td>0.395552</td>\n",
       "      <td>0.402511</td>\n",
       "    </tr>\n",
       "  </tbody>\n",
       "</table>\n",
       "</div>"
      ],
      "text/plain": [
       "            predicted_mean    actual\n",
       "date                                \n",
       "2016-07-21        0.397927  0.426145\n",
       "2016-07-22        0.375796  0.427622\n",
       "2016-07-25        0.371229  0.436485\n",
       "2016-07-26        0.362037  0.386263\n",
       "2016-07-27        0.395552  0.402511"
      ]
     },
     "execution_count": 52,
     "metadata": {},
     "output_type": "execute_result"
    }
   ],
   "source": [
    "fc_cba.head()"
   ]
  },
  {
   "cell_type": "code",
   "execution_count": 53,
   "id": "d4ab535b",
   "metadata": {},
   "outputs": [],
   "source": [
    "fc_cba.columns = ['forecast', 'actual']"
   ]
  },
  {
   "cell_type": "code",
   "execution_count": 54,
   "id": "2362d279",
   "metadata": {},
   "outputs": [
    {
     "data": {
      "text/html": [
       "<div>\n",
       "<style scoped>\n",
       "    .dataframe tbody tr th:only-of-type {\n",
       "        vertical-align: middle;\n",
       "    }\n",
       "\n",
       "    .dataframe tbody tr th {\n",
       "        vertical-align: top;\n",
       "    }\n",
       "\n",
       "    .dataframe thead th {\n",
       "        text-align: right;\n",
       "    }\n",
       "</style>\n",
       "<table border=\"1\" class=\"dataframe\">\n",
       "  <thead>\n",
       "    <tr style=\"text-align: right;\">\n",
       "      <th></th>\n",
       "      <th>forecast</th>\n",
       "      <th>actual</th>\n",
       "    </tr>\n",
       "    <tr>\n",
       "      <th>date</th>\n",
       "      <th></th>\n",
       "      <th></th>\n",
       "    </tr>\n",
       "  </thead>\n",
       "  <tbody>\n",
       "    <tr>\n",
       "      <th>2016-07-21</th>\n",
       "      <td>0.397927</td>\n",
       "      <td>0.426145</td>\n",
       "    </tr>\n",
       "    <tr>\n",
       "      <th>2016-07-22</th>\n",
       "      <td>0.375796</td>\n",
       "      <td>0.427622</td>\n",
       "    </tr>\n",
       "    <tr>\n",
       "      <th>2016-07-25</th>\n",
       "      <td>0.371229</td>\n",
       "      <td>0.436485</td>\n",
       "    </tr>\n",
       "    <tr>\n",
       "      <th>2016-07-26</th>\n",
       "      <td>0.362037</td>\n",
       "      <td>0.386263</td>\n",
       "    </tr>\n",
       "    <tr>\n",
       "      <th>2016-07-27</th>\n",
       "      <td>0.395552</td>\n",
       "      <td>0.402511</td>\n",
       "    </tr>\n",
       "  </tbody>\n",
       "</table>\n",
       "</div>"
      ],
      "text/plain": [
       "            forecast    actual\n",
       "date                          \n",
       "2016-07-21  0.397927  0.426145\n",
       "2016-07-22  0.375796  0.427622\n",
       "2016-07-25  0.371229  0.436485\n",
       "2016-07-26  0.362037  0.386263\n",
       "2016-07-27  0.395552  0.402511"
      ]
     },
     "execution_count": 54,
     "metadata": {},
     "output_type": "execute_result"
    }
   ],
   "source": [
    "fc_cba.head()"
   ]
  },
  {
   "cell_type": "code",
   "execution_count": 55,
   "id": "8d054b0c",
   "metadata": {
    "scrolled": true
   },
   "outputs": [
    {
     "data": {
      "text/plain": [
       "<AxesSubplot:xlabel='date'>"
      ]
     },
     "execution_count": 55,
     "metadata": {},
     "output_type": "execute_result"
    },
    {
     "data": {
      "image/png": "[encoded data removed]",
      "text/plain": [
       "<Figure size 432x288 with 1 Axes>"
      ]
     },
     "metadata": {
      "needs_background": "light"
     },
     "output_type": "display_data"
    }
   ],
   "source": [
    "fc_cba['forecast'].plot(legend=True)\n",
    "fc_cba['actual'].plot(legend=True)"
   ]
  },
  {
   "cell_type": "code",
   "execution_count": 56,
   "id": "edd51144",
   "metadata": {},
   "outputs": [],
   "source": [
    "predictions=pd.DataFrame(predictions)\n",
    "predictions.reset_index(drop=True, inplace=True)\n",
    "predictions.index=test_X.index\n",
    "predictions['actual'] = act['movement_next_day']\n",
    "predictions.columns = ['pred', 'actual']"
   ]
  },
  {
   "cell_type": "code",
   "execution_count": 57,
   "id": "a5bbe740",
   "metadata": {},
   "outputs": [
    {
     "data": {
      "text/html": [
       "<div>\n",
       "<style scoped>\n",
       "    .dataframe tbody tr th:only-of-type {\n",
       "        vertical-align: middle;\n",
       "    }\n",
       "\n",
       "    .dataframe tbody tr th {\n",
       "        vertical-align: top;\n",
       "    }\n",
       "\n",
       "    .dataframe thead th {\n",
       "        text-align: right;\n",
       "    }\n",
       "</style>\n",
       "<table border=\"1\" class=\"dataframe\">\n",
       "  <thead>\n",
       "    <tr style=\"text-align: right;\">\n",
       "      <th></th>\n",
       "      <th>pred</th>\n",
       "      <th>actual</th>\n",
       "    </tr>\n",
       "    <tr>\n",
       "      <th>date</th>\n",
       "      <th></th>\n",
       "      <th></th>\n",
       "    </tr>\n",
       "  </thead>\n",
       "  <tbody>\n",
       "    <tr>\n",
       "      <th>2016-07-21</th>\n",
       "      <td>0.397927</td>\n",
       "      <td>0.426145</td>\n",
       "    </tr>\n",
       "    <tr>\n",
       "      <th>2016-07-22</th>\n",
       "      <td>0.375796</td>\n",
       "      <td>0.427622</td>\n",
       "    </tr>\n",
       "    <tr>\n",
       "      <th>2016-07-25</th>\n",
       "      <td>0.371229</td>\n",
       "      <td>0.436485</td>\n",
       "    </tr>\n",
       "    <tr>\n",
       "      <th>2016-07-26</th>\n",
       "      <td>0.362037</td>\n",
       "      <td>0.386263</td>\n",
       "    </tr>\n",
       "    <tr>\n",
       "      <th>2016-07-27</th>\n",
       "      <td>0.395552</td>\n",
       "      <td>0.402511</td>\n",
       "    </tr>\n",
       "    <tr>\n",
       "      <th>...</th>\n",
       "      <td>...</td>\n",
       "      <td>...</td>\n",
       "    </tr>\n",
       "    <tr>\n",
       "      <th>2022-09-28</th>\n",
       "      <td>-0.205535</td>\n",
       "      <td>0.362629</td>\n",
       "    </tr>\n",
       "    <tr>\n",
       "      <th>2022-09-29</th>\n",
       "      <td>-0.179226</td>\n",
       "      <td>0.228951</td>\n",
       "    </tr>\n",
       "    <tr>\n",
       "      <th>2022-09-30</th>\n",
       "      <td>-0.050356</td>\n",
       "      <td>0.375185</td>\n",
       "    </tr>\n",
       "    <tr>\n",
       "      <th>2022-10-03</th>\n",
       "      <td>-0.140749</td>\n",
       "      <td>0.621123</td>\n",
       "    </tr>\n",
       "    <tr>\n",
       "      <th>2022-10-04</th>\n",
       "      <td>-0.372495</td>\n",
       "      <td>0.511079</td>\n",
       "    </tr>\n",
       "  </tbody>\n",
       "</table>\n",
       "<p>1572 rows × 2 columns</p>\n",
       "</div>"
      ],
      "text/plain": [
       "                pred    actual\n",
       "date                          \n",
       "2016-07-21  0.397927  0.426145\n",
       "2016-07-22  0.375796  0.427622\n",
       "2016-07-25  0.371229  0.436485\n",
       "2016-07-26  0.362037  0.386263\n",
       "2016-07-27  0.395552  0.402511\n",
       "...              ...       ...\n",
       "2022-09-28 -0.205535  0.362629\n",
       "2022-09-29 -0.179226  0.228951\n",
       "2022-09-30 -0.050356  0.375185\n",
       "2022-10-03 -0.140749  0.621123\n",
       "2022-10-04 -0.372495  0.511079\n",
       "\n",
       "[1572 rows x 2 columns]"
      ]
     },
     "execution_count": 57,
     "metadata": {},
     "output_type": "execute_result"
    }
   ],
   "source": [
    "predictions"
   ]
  },
  {
   "cell_type": "code",
   "execution_count": 64,
   "id": "de5a9b48",
   "metadata": {},
   "outputs": [
    {
     "data": {
      "text/plain": [
       "<AxesSubplot:xlabel='date'>"
      ]
     },
     "execution_count": 64,
     "metadata": {},
     "output_type": "execute_result"
    },
    {
     "data": {
      "image/png": "[encoded data removed]",
      "text/plain": [
       "<Figure size 432x288 with 1 Axes>"
      ]
     },
     "metadata": {
      "needs_background": "light"
     },
     "output_type": "display_data"
    }
   ],
   "source": [
    "predictions['pred'].plot(legend=True)\n",
    "predictions['actual'].plot(legend=True)"
   ]
  },
  {
   "cell_type": "code",
   "execution_count": 59,
   "id": "d70f2044",
   "metadata": {},
   "outputs": [
    {
     "data": {
      "text/plain": [
       "0.37933405461309017"
      ]
     },
     "execution_count": 59,
     "metadata": {},
     "output_type": "execute_result"
    }
   ],
   "source": [
    "from statsmodels.tools.eval_measures import rmse\n",
    "error=rmse(predictions['pred'], predictions['actual'])\n",
    "error"
   ]
  },
  {
   "cell_type": "code",
   "execution_count": null,
   "id": "fd6a2c16",
   "metadata": {},
   "outputs": [],
   "source": []
  },
  {
   "cell_type": "code",
   "execution_count": null,
   "id": "6a4705b7",
   "metadata": {},
   "outputs": [],
   "source": []
  },
  {
   "cell_type": "code",
   "execution_count": null,
   "id": "a42e0ae4",
   "metadata": {},
   "outputs": [],
   "source": []
  },
  {
   "cell_type": "code",
   "execution_count": null,
   "id": "c9b2530c",
   "metadata": {},
   "outputs": [],
   "source": []
  },
  {
   "cell_type": "code",
   "execution_count": null,
   "id": "c26483c2",
   "metadata": {},
   "outputs": [],
   "source": []
  },
  {
   "cell_type": "code",
   "execution_count": null,
   "id": "bb043356",
   "metadata": {},
   "outputs": [],
   "source": []
  },
  {
   "cell_type": "code",
   "execution_count": null,
   "id": "1dbbfaa9",
   "metadata": {},
   "outputs": [],
   "source": []
  },
  {
   "cell_type": "code",
   "execution_count": null,
   "id": "6f152578",
   "metadata": {},
   "outputs": [],
   "source": []
  }
 ],
 "metadata": {
  "kernelspec": {
   "display_name": "Python 3 (ipykernel)",
   "language": "python",
   "name": "python3"
  },
  "language_info": {
   "codemirror_mode": {
    "name": "ipython",
    "version": 3
   },
   "file_extension": ".py",
   "mimetype": "text/x-python",
   "name": "python",
   "nbconvert_exporter": "python",
   "pygments_lexer": "ipython3",
   "version": "3.8.13"
  }
 },
 "nbformat": 4,
 "nbformat_minor": 5
}
