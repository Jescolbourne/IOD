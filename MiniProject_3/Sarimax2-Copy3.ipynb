{
 "cells": [
  {
   "cell_type": "code",
   "execution_count": 1,
   "id": "ab8ab3f6",
   "metadata": {},
   "outputs": [],
   "source": [
    "#Importing required Libraries\n",
    "import pandas as pd\n",
    "import numpy as np\n",
    "import time\n",
    "from IPython.core.debugger import set_trace\n",
    "\n",
    "import matplotlib.pyplot as plt\n",
    "import seaborn as sns\n",
    "from pandas.plotting import register_matplotlib_converters\n",
    "register_matplotlib_converters()\n",
    "%matplotlib inline"
   ]
  },
  {
   "cell_type": "code",
   "execution_count": 2,
   "id": "3ff2aad8",
   "metadata": {},
   "outputs": [
    {
     "data": {
      "text/html": [
       "<div>\n",
       "<style scoped>\n",
       "    .dataframe tbody tr th:only-of-type {\n",
       "        vertical-align: middle;\n",
       "    }\n",
       "\n",
       "    .dataframe tbody tr th {\n",
       "        vertical-align: top;\n",
       "    }\n",
       "\n",
       "    .dataframe thead th {\n",
       "        text-align: right;\n",
       "    }\n",
       "</style>\n",
       "<table border=\"1\" class=\"dataframe\">\n",
       "  <thead>\n",
       "    <tr style=\"text-align: right;\">\n",
       "      <th></th>\n",
       "      <th>Date</th>\n",
       "      <th>Open</th>\n",
       "      <th>High</th>\n",
       "      <th>Low</th>\n",
       "      <th>Close</th>\n",
       "      <th>Adj Close</th>\n",
       "      <th>Volume</th>\n",
       "    </tr>\n",
       "  </thead>\n",
       "  <tbody>\n",
       "    <tr>\n",
       "      <th>0</th>\n",
       "      <td>1991-10-01</td>\n",
       "      <td>6.786620</td>\n",
       "      <td>6.786620</td>\n",
       "      <td>6.786620</td>\n",
       "      <td>6.786620</td>\n",
       "      <td>1.290987</td>\n",
       "      <td>0</td>\n",
       "    </tr>\n",
       "    <tr>\n",
       "      <th>1</th>\n",
       "      <td>1991-10-02</td>\n",
       "      <td>6.786620</td>\n",
       "      <td>6.786620</td>\n",
       "      <td>6.786620</td>\n",
       "      <td>6.786620</td>\n",
       "      <td>1.290987</td>\n",
       "      <td>0</td>\n",
       "    </tr>\n",
       "    <tr>\n",
       "      <th>2</th>\n",
       "      <td>1991-10-03</td>\n",
       "      <td>6.786620</td>\n",
       "      <td>6.786620</td>\n",
       "      <td>6.786620</td>\n",
       "      <td>6.786620</td>\n",
       "      <td>1.290987</td>\n",
       "      <td>0</td>\n",
       "    </tr>\n",
       "    <tr>\n",
       "      <th>3</th>\n",
       "      <td>1991-10-04</td>\n",
       "      <td>6.786620</td>\n",
       "      <td>6.786620</td>\n",
       "      <td>6.786620</td>\n",
       "      <td>6.786620</td>\n",
       "      <td>1.290987</td>\n",
       "      <td>0</td>\n",
       "    </tr>\n",
       "    <tr>\n",
       "      <th>4</th>\n",
       "      <td>1991-10-07</td>\n",
       "      <td>6.786620</td>\n",
       "      <td>6.786620</td>\n",
       "      <td>6.786620</td>\n",
       "      <td>6.786620</td>\n",
       "      <td>1.290987</td>\n",
       "      <td>0</td>\n",
       "    </tr>\n",
       "    <tr>\n",
       "      <th>...</th>\n",
       "      <td>...</td>\n",
       "      <td>...</td>\n",
       "      <td>...</td>\n",
       "      <td>...</td>\n",
       "      <td>...</td>\n",
       "      <td>...</td>\n",
       "      <td>...</td>\n",
       "    </tr>\n",
       "    <tr>\n",
       "      <th>7856</th>\n",
       "      <td>2022-09-29</td>\n",
       "      <td>93.830002</td>\n",
       "      <td>94.190002</td>\n",
       "      <td>93.120003</td>\n",
       "      <td>93.120003</td>\n",
       "      <td>93.120003</td>\n",
       "      <td>2094138</td>\n",
       "    </tr>\n",
       "    <tr>\n",
       "      <th>7857</th>\n",
       "      <td>2022-09-30</td>\n",
       "      <td>93.220001</td>\n",
       "      <td>93.230003</td>\n",
       "      <td>90.260002</td>\n",
       "      <td>90.699997</td>\n",
       "      <td>90.699997</td>\n",
       "      <td>3741428</td>\n",
       "    </tr>\n",
       "    <tr>\n",
       "      <th>7858</th>\n",
       "      <td>2022-10-03</td>\n",
       "      <td>91.150002</td>\n",
       "      <td>91.370003</td>\n",
       "      <td>89.660004</td>\n",
       "      <td>90.610001</td>\n",
       "      <td>90.610001</td>\n",
       "      <td>2038034</td>\n",
       "    </tr>\n",
       "    <tr>\n",
       "      <th>7859</th>\n",
       "      <td>2022-10-04</td>\n",
       "      <td>92.000000</td>\n",
       "      <td>94.870003</td>\n",
       "      <td>91.889999</td>\n",
       "      <td>94.790001</td>\n",
       "      <td>94.790001</td>\n",
       "      <td>3030551</td>\n",
       "    </tr>\n",
       "    <tr>\n",
       "      <th>7860</th>\n",
       "      <td>2022-10-05</td>\n",
       "      <td>95.989998</td>\n",
       "      <td>97.599998</td>\n",
       "      <td>95.790001</td>\n",
       "      <td>97.290001</td>\n",
       "      <td>97.290001</td>\n",
       "      <td>3840988</td>\n",
       "    </tr>\n",
       "  </tbody>\n",
       "</table>\n",
       "<p>7861 rows × 7 columns</p>\n",
       "</div>"
      ],
      "text/plain": [
       "           Date       Open       High        Low      Close  Adj Close  \\\n",
       "0    1991-10-01   6.786620   6.786620   6.786620   6.786620   1.290987   \n",
       "1    1991-10-02   6.786620   6.786620   6.786620   6.786620   1.290987   \n",
       "2    1991-10-03   6.786620   6.786620   6.786620   6.786620   1.290987   \n",
       "3    1991-10-04   6.786620   6.786620   6.786620   6.786620   1.290987   \n",
       "4    1991-10-07   6.786620   6.786620   6.786620   6.786620   1.290987   \n",
       "...         ...        ...        ...        ...        ...        ...   \n",
       "7856 2022-09-29  93.830002  94.190002  93.120003  93.120003  93.120003   \n",
       "7857 2022-09-30  93.220001  93.230003  90.260002  90.699997  90.699997   \n",
       "7858 2022-10-03  91.150002  91.370003  89.660004  90.610001  90.610001   \n",
       "7859 2022-10-04  92.000000  94.870003  91.889999  94.790001  94.790001   \n",
       "7860 2022-10-05  95.989998  97.599998  95.790001  97.290001  97.290001   \n",
       "\n",
       "       Volume  \n",
       "0           0  \n",
       "1           0  \n",
       "2           0  \n",
       "3           0  \n",
       "4           0  \n",
       "...       ...  \n",
       "7856  2094138  \n",
       "7857  3741428  \n",
       "7858  2038034  \n",
       "7859  3030551  \n",
       "7860  3840988  \n",
       "\n",
       "[7861 rows x 7 columns]"
      ]
     },
     "execution_count": 2,
     "metadata": {},
     "output_type": "execute_result"
    }
   ],
   "source": [
    "df = pd.read_excel('CBAmax.xls')\n",
    "df"
   ]
  },
  {
   "cell_type": "code",
   "execution_count": 3,
   "id": "d6f7c238",
   "metadata": {},
   "outputs": [],
   "source": [
    "df.columns = df.columns.str.lower()"
   ]
  },
  {
   "cell_type": "code",
   "execution_count": 4,
   "id": "c725c189",
   "metadata": {},
   "outputs": [
    {
     "data": {
      "text/html": [
       "<div>\n",
       "<style scoped>\n",
       "    .dataframe tbody tr th:only-of-type {\n",
       "        vertical-align: middle;\n",
       "    }\n",
       "\n",
       "    .dataframe tbody tr th {\n",
       "        vertical-align: top;\n",
       "    }\n",
       "\n",
       "    .dataframe thead th {\n",
       "        text-align: right;\n",
       "    }\n",
       "</style>\n",
       "<table border=\"1\" class=\"dataframe\">\n",
       "  <thead>\n",
       "    <tr style=\"text-align: right;\">\n",
       "      <th></th>\n",
       "      <th>date</th>\n",
       "      <th>open</th>\n",
       "      <th>high</th>\n",
       "      <th>low</th>\n",
       "      <th>close</th>\n",
       "      <th>adj close</th>\n",
       "      <th>volume</th>\n",
       "      <th>mean</th>\n",
       "    </tr>\n",
       "  </thead>\n",
       "  <tbody>\n",
       "    <tr>\n",
       "      <th>0</th>\n",
       "      <td>1991-10-01</td>\n",
       "      <td>6.786620</td>\n",
       "      <td>6.786620</td>\n",
       "      <td>6.786620</td>\n",
       "      <td>6.786620</td>\n",
       "      <td>1.290987</td>\n",
       "      <td>0</td>\n",
       "      <td>6.786620</td>\n",
       "    </tr>\n",
       "    <tr>\n",
       "      <th>1</th>\n",
       "      <td>1991-10-02</td>\n",
       "      <td>6.786620</td>\n",
       "      <td>6.786620</td>\n",
       "      <td>6.786620</td>\n",
       "      <td>6.786620</td>\n",
       "      <td>1.290987</td>\n",
       "      <td>0</td>\n",
       "      <td>6.786620</td>\n",
       "    </tr>\n",
       "    <tr>\n",
       "      <th>2</th>\n",
       "      <td>1991-10-03</td>\n",
       "      <td>6.786620</td>\n",
       "      <td>6.786620</td>\n",
       "      <td>6.786620</td>\n",
       "      <td>6.786620</td>\n",
       "      <td>1.290987</td>\n",
       "      <td>0</td>\n",
       "      <td>6.786620</td>\n",
       "    </tr>\n",
       "    <tr>\n",
       "      <th>3</th>\n",
       "      <td>1991-10-04</td>\n",
       "      <td>6.786620</td>\n",
       "      <td>6.786620</td>\n",
       "      <td>6.786620</td>\n",
       "      <td>6.786620</td>\n",
       "      <td>1.290987</td>\n",
       "      <td>0</td>\n",
       "      <td>6.786620</td>\n",
       "    </tr>\n",
       "    <tr>\n",
       "      <th>4</th>\n",
       "      <td>1991-10-07</td>\n",
       "      <td>6.786620</td>\n",
       "      <td>6.786620</td>\n",
       "      <td>6.786620</td>\n",
       "      <td>6.786620</td>\n",
       "      <td>1.290987</td>\n",
       "      <td>0</td>\n",
       "      <td>6.786620</td>\n",
       "    </tr>\n",
       "    <tr>\n",
       "      <th>...</th>\n",
       "      <td>...</td>\n",
       "      <td>...</td>\n",
       "      <td>...</td>\n",
       "      <td>...</td>\n",
       "      <td>...</td>\n",
       "      <td>...</td>\n",
       "      <td>...</td>\n",
       "      <td>...</td>\n",
       "    </tr>\n",
       "    <tr>\n",
       "      <th>7856</th>\n",
       "      <td>2022-09-29</td>\n",
       "      <td>93.830002</td>\n",
       "      <td>94.190002</td>\n",
       "      <td>93.120003</td>\n",
       "      <td>93.120003</td>\n",
       "      <td>93.120003</td>\n",
       "      <td>2094138</td>\n",
       "      <td>93.655002</td>\n",
       "    </tr>\n",
       "    <tr>\n",
       "      <th>7857</th>\n",
       "      <td>2022-09-30</td>\n",
       "      <td>93.220001</td>\n",
       "      <td>93.230003</td>\n",
       "      <td>90.260002</td>\n",
       "      <td>90.699997</td>\n",
       "      <td>90.699997</td>\n",
       "      <td>3741428</td>\n",
       "      <td>91.745002</td>\n",
       "    </tr>\n",
       "    <tr>\n",
       "      <th>7858</th>\n",
       "      <td>2022-10-03</td>\n",
       "      <td>91.150002</td>\n",
       "      <td>91.370003</td>\n",
       "      <td>89.660004</td>\n",
       "      <td>90.610001</td>\n",
       "      <td>90.610001</td>\n",
       "      <td>2038034</td>\n",
       "      <td>90.515004</td>\n",
       "    </tr>\n",
       "    <tr>\n",
       "      <th>7859</th>\n",
       "      <td>2022-10-04</td>\n",
       "      <td>92.000000</td>\n",
       "      <td>94.870003</td>\n",
       "      <td>91.889999</td>\n",
       "      <td>94.790001</td>\n",
       "      <td>94.790001</td>\n",
       "      <td>3030551</td>\n",
       "      <td>93.380001</td>\n",
       "    </tr>\n",
       "    <tr>\n",
       "      <th>7860</th>\n",
       "      <td>2022-10-05</td>\n",
       "      <td>95.989998</td>\n",
       "      <td>97.599998</td>\n",
       "      <td>95.790001</td>\n",
       "      <td>97.290001</td>\n",
       "      <td>97.290001</td>\n",
       "      <td>3840988</td>\n",
       "      <td>96.694999</td>\n",
       "    </tr>\n",
       "  </tbody>\n",
       "</table>\n",
       "<p>7861 rows × 8 columns</p>\n",
       "</div>"
      ],
      "text/plain": [
       "           date       open       high        low      close  adj close  \\\n",
       "0    1991-10-01   6.786620   6.786620   6.786620   6.786620   1.290987   \n",
       "1    1991-10-02   6.786620   6.786620   6.786620   6.786620   1.290987   \n",
       "2    1991-10-03   6.786620   6.786620   6.786620   6.786620   1.290987   \n",
       "3    1991-10-04   6.786620   6.786620   6.786620   6.786620   1.290987   \n",
       "4    1991-10-07   6.786620   6.786620   6.786620   6.786620   1.290987   \n",
       "...         ...        ...        ...        ...        ...        ...   \n",
       "7856 2022-09-29  93.830002  94.190002  93.120003  93.120003  93.120003   \n",
       "7857 2022-09-30  93.220001  93.230003  90.260002  90.699997  90.699997   \n",
       "7858 2022-10-03  91.150002  91.370003  89.660004  90.610001  90.610001   \n",
       "7859 2022-10-04  92.000000  94.870003  91.889999  94.790001  94.790001   \n",
       "7860 2022-10-05  95.989998  97.599998  95.790001  97.290001  97.290001   \n",
       "\n",
       "       volume       mean  \n",
       "0           0   6.786620  \n",
       "1           0   6.786620  \n",
       "2           0   6.786620  \n",
       "3           0   6.786620  \n",
       "4           0   6.786620  \n",
       "...       ...        ...  \n",
       "7856  2094138  93.655002  \n",
       "7857  3741428  91.745002  \n",
       "7858  2038034  90.515004  \n",
       "7859  3030551  93.380001  \n",
       "7860  3840988  96.694999  \n",
       "\n",
       "[7861 rows x 8 columns]"
      ]
     },
     "execution_count": 4,
     "metadata": {},
     "output_type": "execute_result"
    }
   ],
   "source": [
    "df['mean'] = (df['low']+df['high'])/2\n",
    "df"
   ]
  },
  {
   "cell_type": "code",
   "execution_count": 5,
   "id": "cbb8f0b8",
   "metadata": {},
   "outputs": [
    {
     "data": {
      "text/html": [
       "<div>\n",
       "<style scoped>\n",
       "    .dataframe tbody tr th:only-of-type {\n",
       "        vertical-align: middle;\n",
       "    }\n",
       "\n",
       "    .dataframe tbody tr th {\n",
       "        vertical-align: top;\n",
       "    }\n",
       "\n",
       "    .dataframe thead th {\n",
       "        text-align: right;\n",
       "    }\n",
       "</style>\n",
       "<table border=\"1\" class=\"dataframe\">\n",
       "  <thead>\n",
       "    <tr style=\"text-align: right;\">\n",
       "      <th></th>\n",
       "      <th>date</th>\n",
       "      <th>open</th>\n",
       "      <th>high</th>\n",
       "      <th>low</th>\n",
       "      <th>close</th>\n",
       "      <th>adj close</th>\n",
       "      <th>volume</th>\n",
       "      <th>mean</th>\n",
       "      <th>actual</th>\n",
       "    </tr>\n",
       "  </thead>\n",
       "  <tbody>\n",
       "    <tr>\n",
       "      <th>0</th>\n",
       "      <td>1991-10-01</td>\n",
       "      <td>6.78662</td>\n",
       "      <td>6.78662</td>\n",
       "      <td>6.78662</td>\n",
       "      <td>6.78662</td>\n",
       "      <td>1.290987</td>\n",
       "      <td>0</td>\n",
       "      <td>6.78662</td>\n",
       "      <td>6.78662</td>\n",
       "    </tr>\n",
       "    <tr>\n",
       "      <th>1</th>\n",
       "      <td>1991-10-02</td>\n",
       "      <td>6.78662</td>\n",
       "      <td>6.78662</td>\n",
       "      <td>6.78662</td>\n",
       "      <td>6.78662</td>\n",
       "      <td>1.290987</td>\n",
       "      <td>0</td>\n",
       "      <td>6.78662</td>\n",
       "      <td>6.78662</td>\n",
       "    </tr>\n",
       "    <tr>\n",
       "      <th>2</th>\n",
       "      <td>1991-10-03</td>\n",
       "      <td>6.78662</td>\n",
       "      <td>6.78662</td>\n",
       "      <td>6.78662</td>\n",
       "      <td>6.78662</td>\n",
       "      <td>1.290987</td>\n",
       "      <td>0</td>\n",
       "      <td>6.78662</td>\n",
       "      <td>6.78662</td>\n",
       "    </tr>\n",
       "  </tbody>\n",
       "</table>\n",
       "</div>"
      ],
      "text/plain": [
       "        date     open     high      low    close  adj close  volume     mean  \\\n",
       "0 1991-10-01  6.78662  6.78662  6.78662  6.78662   1.290987       0  6.78662   \n",
       "1 1991-10-02  6.78662  6.78662  6.78662  6.78662   1.290987       0  6.78662   \n",
       "2 1991-10-03  6.78662  6.78662  6.78662  6.78662   1.290987       0  6.78662   \n",
       "\n",
       "    actual  \n",
       "0  6.78662  \n",
       "1  6.78662  \n",
       "2  6.78662  "
      ]
     },
     "execution_count": 5,
     "metadata": {},
     "output_type": "execute_result"
    }
   ],
   "source": [
    "# preparing the dataset by shifting the mean by 1\n",
    "steps=-1\n",
    "dfpred= df.copy()\n",
    "dfpred['actual']=dfpred['mean'].shift(steps)\n",
    "dfpred.head(3)"
   ]
  },
  {
   "cell_type": "code",
   "execution_count": 6,
   "id": "e3496a2a",
   "metadata": {},
   "outputs": [
    {
     "data": {
      "text/html": [
       "<div>\n",
       "<style scoped>\n",
       "    .dataframe tbody tr th:only-of-type {\n",
       "        vertical-align: middle;\n",
       "    }\n",
       "\n",
       "    .dataframe tbody tr th {\n",
       "        vertical-align: top;\n",
       "    }\n",
       "\n",
       "    .dataframe thead th {\n",
       "        text-align: right;\n",
       "    }\n",
       "</style>\n",
       "<table border=\"1\" class=\"dataframe\">\n",
       "  <thead>\n",
       "    <tr style=\"text-align: right;\">\n",
       "      <th></th>\n",
       "      <th>date</th>\n",
       "      <th>open</th>\n",
       "      <th>high</th>\n",
       "      <th>low</th>\n",
       "      <th>close</th>\n",
       "      <th>adj close</th>\n",
       "      <th>volume</th>\n",
       "      <th>mean</th>\n",
       "      <th>actual</th>\n",
       "    </tr>\n",
       "  </thead>\n",
       "  <tbody>\n",
       "    <tr>\n",
       "      <th>7856</th>\n",
       "      <td>2022-09-29</td>\n",
       "      <td>93.830002</td>\n",
       "      <td>94.190002</td>\n",
       "      <td>93.120003</td>\n",
       "      <td>93.120003</td>\n",
       "      <td>93.120003</td>\n",
       "      <td>2094138</td>\n",
       "      <td>93.655002</td>\n",
       "      <td>91.745002</td>\n",
       "    </tr>\n",
       "    <tr>\n",
       "      <th>7857</th>\n",
       "      <td>2022-09-30</td>\n",
       "      <td>93.220001</td>\n",
       "      <td>93.230003</td>\n",
       "      <td>90.260002</td>\n",
       "      <td>90.699997</td>\n",
       "      <td>90.699997</td>\n",
       "      <td>3741428</td>\n",
       "      <td>91.745002</td>\n",
       "      <td>90.515004</td>\n",
       "    </tr>\n",
       "    <tr>\n",
       "      <th>7858</th>\n",
       "      <td>2022-10-03</td>\n",
       "      <td>91.150002</td>\n",
       "      <td>91.370003</td>\n",
       "      <td>89.660004</td>\n",
       "      <td>90.610001</td>\n",
       "      <td>90.610001</td>\n",
       "      <td>2038034</td>\n",
       "      <td>90.515004</td>\n",
       "      <td>93.380001</td>\n",
       "    </tr>\n",
       "    <tr>\n",
       "      <th>7859</th>\n",
       "      <td>2022-10-04</td>\n",
       "      <td>92.000000</td>\n",
       "      <td>94.870003</td>\n",
       "      <td>91.889999</td>\n",
       "      <td>94.790001</td>\n",
       "      <td>94.790001</td>\n",
       "      <td>3030551</td>\n",
       "      <td>93.380001</td>\n",
       "      <td>96.694999</td>\n",
       "    </tr>\n",
       "    <tr>\n",
       "      <th>7860</th>\n",
       "      <td>2022-10-05</td>\n",
       "      <td>95.989998</td>\n",
       "      <td>97.599998</td>\n",
       "      <td>95.790001</td>\n",
       "      <td>97.290001</td>\n",
       "      <td>97.290001</td>\n",
       "      <td>3840988</td>\n",
       "      <td>96.694999</td>\n",
       "      <td>NaN</td>\n",
       "    </tr>\n",
       "  </tbody>\n",
       "</table>\n",
       "</div>"
      ],
      "text/plain": [
       "           date       open       high        low      close  adj close  \\\n",
       "7856 2022-09-29  93.830002  94.190002  93.120003  93.120003  93.120003   \n",
       "7857 2022-09-30  93.220001  93.230003  90.260002  90.699997  90.699997   \n",
       "7858 2022-10-03  91.150002  91.370003  89.660004  90.610001  90.610001   \n",
       "7859 2022-10-04  92.000000  94.870003  91.889999  94.790001  94.790001   \n",
       "7860 2022-10-05  95.989998  97.599998  95.790001  97.290001  97.290001   \n",
       "\n",
       "       volume       mean     actual  \n",
       "7856  2094138  93.655002  91.745002  \n",
       "7857  3741428  91.745002  90.515004  \n",
       "7858  2038034  90.515004  93.380001  \n",
       "7859  3030551  93.380001  96.694999  \n",
       "7860  3840988  96.694999        NaN  "
      ]
     },
     "execution_count": 6,
     "metadata": {},
     "output_type": "execute_result"
    }
   ],
   "source": [
    "dfpred.tail()"
   ]
  },
  {
   "cell_type": "code",
   "execution_count": 7,
   "id": "994c7de2",
   "metadata": {},
   "outputs": [],
   "source": [
    "dfpred = dfpred.dropna()"
   ]
  },
  {
   "cell_type": "code",
   "execution_count": 8,
   "id": "02693b69",
   "metadata": {
    "scrolled": true
   },
   "outputs": [
    {
     "data": {
      "text/html": [
       "<div>\n",
       "<style scoped>\n",
       "    .dataframe tbody tr th:only-of-type {\n",
       "        vertical-align: middle;\n",
       "    }\n",
       "\n",
       "    .dataframe tbody tr th {\n",
       "        vertical-align: top;\n",
       "    }\n",
       "\n",
       "    .dataframe thead th {\n",
       "        text-align: right;\n",
       "    }\n",
       "</style>\n",
       "<table border=\"1\" class=\"dataframe\">\n",
       "  <thead>\n",
       "    <tr style=\"text-align: right;\">\n",
       "      <th></th>\n",
       "      <th>date</th>\n",
       "      <th>open</th>\n",
       "      <th>high</th>\n",
       "      <th>low</th>\n",
       "      <th>close</th>\n",
       "      <th>adj close</th>\n",
       "      <th>volume</th>\n",
       "      <th>mean</th>\n",
       "      <th>actual</th>\n",
       "    </tr>\n",
       "  </thead>\n",
       "  <tbody>\n",
       "    <tr>\n",
       "      <th>7855</th>\n",
       "      <td>2022-09-28</td>\n",
       "      <td>92.500000</td>\n",
       "      <td>93.000000</td>\n",
       "      <td>91.790001</td>\n",
       "      <td>92.540001</td>\n",
       "      <td>92.540001</td>\n",
       "      <td>2433767</td>\n",
       "      <td>92.395001</td>\n",
       "      <td>93.655002</td>\n",
       "    </tr>\n",
       "    <tr>\n",
       "      <th>7856</th>\n",
       "      <td>2022-09-29</td>\n",
       "      <td>93.830002</td>\n",
       "      <td>94.190002</td>\n",
       "      <td>93.120003</td>\n",
       "      <td>93.120003</td>\n",
       "      <td>93.120003</td>\n",
       "      <td>2094138</td>\n",
       "      <td>93.655002</td>\n",
       "      <td>91.745002</td>\n",
       "    </tr>\n",
       "    <tr>\n",
       "      <th>7857</th>\n",
       "      <td>2022-09-30</td>\n",
       "      <td>93.220001</td>\n",
       "      <td>93.230003</td>\n",
       "      <td>90.260002</td>\n",
       "      <td>90.699997</td>\n",
       "      <td>90.699997</td>\n",
       "      <td>3741428</td>\n",
       "      <td>91.745002</td>\n",
       "      <td>90.515004</td>\n",
       "    </tr>\n",
       "    <tr>\n",
       "      <th>7858</th>\n",
       "      <td>2022-10-03</td>\n",
       "      <td>91.150002</td>\n",
       "      <td>91.370003</td>\n",
       "      <td>89.660004</td>\n",
       "      <td>90.610001</td>\n",
       "      <td>90.610001</td>\n",
       "      <td>2038034</td>\n",
       "      <td>90.515004</td>\n",
       "      <td>93.380001</td>\n",
       "    </tr>\n",
       "    <tr>\n",
       "      <th>7859</th>\n",
       "      <td>2022-10-04</td>\n",
       "      <td>92.000000</td>\n",
       "      <td>94.870003</td>\n",
       "      <td>91.889999</td>\n",
       "      <td>94.790001</td>\n",
       "      <td>94.790001</td>\n",
       "      <td>3030551</td>\n",
       "      <td>93.380001</td>\n",
       "      <td>96.694999</td>\n",
       "    </tr>\n",
       "  </tbody>\n",
       "</table>\n",
       "</div>"
      ],
      "text/plain": [
       "           date       open       high        low      close  adj close  \\\n",
       "7855 2022-09-28  92.500000  93.000000  91.790001  92.540001  92.540001   \n",
       "7856 2022-09-29  93.830002  94.190002  93.120003  93.120003  93.120003   \n",
       "7857 2022-09-30  93.220001  93.230003  90.260002  90.699997  90.699997   \n",
       "7858 2022-10-03  91.150002  91.370003  89.660004  90.610001  90.610001   \n",
       "7859 2022-10-04  92.000000  94.870003  91.889999  94.790001  94.790001   \n",
       "\n",
       "       volume       mean     actual  \n",
       "7855  2433767  92.395001  93.655002  \n",
       "7856  2094138  93.655002  91.745002  \n",
       "7857  3741428  91.745002  90.515004  \n",
       "7858  2038034  90.515004  93.380001  \n",
       "7859  3030551  93.380001  96.694999  "
      ]
     },
     "execution_count": 8,
     "metadata": {},
     "output_type": "execute_result"
    }
   ],
   "source": [
    "dfpred.tail()"
   ]
  },
  {
   "cell_type": "code",
   "execution_count": 9,
   "id": "e9e36477",
   "metadata": {},
   "outputs": [],
   "source": [
    "dfpred = dfpred.set_index('date')\n",
    "dfpred.index = pd.to_datetime(dfpred.index)"
   ]
  },
  {
   "cell_type": "code",
   "execution_count": 10,
   "id": "2917459d",
   "metadata": {},
   "outputs": [
    {
     "data": {
      "image/png": "[encoded data removed]",
      "text/plain": [
       "<Figure size 1080x360 with 1 Axes>"
      ]
     },
     "metadata": {
      "needs_background": "light"
     },
     "output_type": "display_data"
    }
   ],
   "source": [
    "dfpred['mean'].plot(style='-',\n",
    "        figsize=(15, 5),\n",
    "        title='CBA stock price')\n",
    "plt.show()"
   ]
  },
  {
   "cell_type": "code",
   "execution_count": 11,
   "id": "30a9ba38",
   "metadata": {},
   "outputs": [
    {
     "data": {
      "text/plain": [
       "Int64Index([1, 2, 3, 4, 0, 1, 2, 3, 4, 0,\n",
       "            ...\n",
       "            1, 2, 4, 0, 1, 2, 3, 4, 0, 1],\n",
       "           dtype='int64', name='date', length=7860)"
      ]
     },
     "execution_count": 11,
     "metadata": {},
     "output_type": "execute_result"
    }
   ],
   "source": [
    "dfpred.index.dayofweek"
   ]
  },
  {
   "cell_type": "code",
   "execution_count": 12,
   "id": "bc71dc95",
   "metadata": {},
   "outputs": [],
   "source": [
    "def create_features(dfpred):\n",
    "    \"\"\"\n",
    "    Create time series features based on time series index.\n",
    "    \"\"\"\n",
    "    dfpred = dfpred.copy()\n",
    "    dfpred['dayofweek'] = dfpred.index.dayofweek\n",
    "    dfpred['quarter'] = dfpred.index.quarter\n",
    "    dfpred['month'] = dfpred.index.month\n",
    "    dfpred['year'] = dfpred.index.year\n",
    "    return dfpred\n",
    "\n",
    "dfpred = create_features(dfpred)"
   ]
  },
  {
   "cell_type": "code",
   "execution_count": 13,
   "id": "588d6cb7",
   "metadata": {},
   "outputs": [
    {
     "data": {
      "text/html": [
       "<div>\n",
       "<style scoped>\n",
       "    .dataframe tbody tr th:only-of-type {\n",
       "        vertical-align: middle;\n",
       "    }\n",
       "\n",
       "    .dataframe tbody tr th {\n",
       "        vertical-align: top;\n",
       "    }\n",
       "\n",
       "    .dataframe thead th {\n",
       "        text-align: right;\n",
       "    }\n",
       "</style>\n",
       "<table border=\"1\" class=\"dataframe\">\n",
       "  <thead>\n",
       "    <tr style=\"text-align: right;\">\n",
       "      <th></th>\n",
       "      <th>open</th>\n",
       "      <th>high</th>\n",
       "      <th>low</th>\n",
       "      <th>close</th>\n",
       "      <th>adj close</th>\n",
       "      <th>volume</th>\n",
       "      <th>mean</th>\n",
       "      <th>actual</th>\n",
       "      <th>dayofweek</th>\n",
       "      <th>quarter</th>\n",
       "      <th>month</th>\n",
       "      <th>year</th>\n",
       "    </tr>\n",
       "    <tr>\n",
       "      <th>date</th>\n",
       "      <th></th>\n",
       "      <th></th>\n",
       "      <th></th>\n",
       "      <th></th>\n",
       "      <th></th>\n",
       "      <th></th>\n",
       "      <th></th>\n",
       "      <th></th>\n",
       "      <th></th>\n",
       "      <th></th>\n",
       "      <th></th>\n",
       "      <th></th>\n",
       "    </tr>\n",
       "  </thead>\n",
       "  <tbody>\n",
       "    <tr>\n",
       "      <th>1991-10-01</th>\n",
       "      <td>6.786620</td>\n",
       "      <td>6.786620</td>\n",
       "      <td>6.786620</td>\n",
       "      <td>6.786620</td>\n",
       "      <td>1.290987</td>\n",
       "      <td>0</td>\n",
       "      <td>6.786620</td>\n",
       "      <td>6.786620</td>\n",
       "      <td>1</td>\n",
       "      <td>4</td>\n",
       "      <td>10</td>\n",
       "      <td>1991</td>\n",
       "    </tr>\n",
       "    <tr>\n",
       "      <th>1991-10-02</th>\n",
       "      <td>6.786620</td>\n",
       "      <td>6.786620</td>\n",
       "      <td>6.786620</td>\n",
       "      <td>6.786620</td>\n",
       "      <td>1.290987</td>\n",
       "      <td>0</td>\n",
       "      <td>6.786620</td>\n",
       "      <td>6.786620</td>\n",
       "      <td>2</td>\n",
       "      <td>4</td>\n",
       "      <td>10</td>\n",
       "      <td>1991</td>\n",
       "    </tr>\n",
       "    <tr>\n",
       "      <th>1991-10-03</th>\n",
       "      <td>6.786620</td>\n",
       "      <td>6.786620</td>\n",
       "      <td>6.786620</td>\n",
       "      <td>6.786620</td>\n",
       "      <td>1.290987</td>\n",
       "      <td>0</td>\n",
       "      <td>6.786620</td>\n",
       "      <td>6.786620</td>\n",
       "      <td>3</td>\n",
       "      <td>4</td>\n",
       "      <td>10</td>\n",
       "      <td>1991</td>\n",
       "    </tr>\n",
       "    <tr>\n",
       "      <th>1991-10-04</th>\n",
       "      <td>6.786620</td>\n",
       "      <td>6.786620</td>\n",
       "      <td>6.786620</td>\n",
       "      <td>6.786620</td>\n",
       "      <td>1.290987</td>\n",
       "      <td>0</td>\n",
       "      <td>6.786620</td>\n",
       "      <td>6.786620</td>\n",
       "      <td>4</td>\n",
       "      <td>4</td>\n",
       "      <td>10</td>\n",
       "      <td>1991</td>\n",
       "    </tr>\n",
       "    <tr>\n",
       "      <th>1991-10-07</th>\n",
       "      <td>6.786620</td>\n",
       "      <td>6.786620</td>\n",
       "      <td>6.786620</td>\n",
       "      <td>6.786620</td>\n",
       "      <td>1.290987</td>\n",
       "      <td>0</td>\n",
       "      <td>6.786620</td>\n",
       "      <td>6.786620</td>\n",
       "      <td>0</td>\n",
       "      <td>4</td>\n",
       "      <td>10</td>\n",
       "      <td>1991</td>\n",
       "    </tr>\n",
       "    <tr>\n",
       "      <th>...</th>\n",
       "      <td>...</td>\n",
       "      <td>...</td>\n",
       "      <td>...</td>\n",
       "      <td>...</td>\n",
       "      <td>...</td>\n",
       "      <td>...</td>\n",
       "      <td>...</td>\n",
       "      <td>...</td>\n",
       "      <td>...</td>\n",
       "      <td>...</td>\n",
       "      <td>...</td>\n",
       "      <td>...</td>\n",
       "    </tr>\n",
       "    <tr>\n",
       "      <th>2022-09-28</th>\n",
       "      <td>92.500000</td>\n",
       "      <td>93.000000</td>\n",
       "      <td>91.790001</td>\n",
       "      <td>92.540001</td>\n",
       "      <td>92.540001</td>\n",
       "      <td>2433767</td>\n",
       "      <td>92.395001</td>\n",
       "      <td>93.655002</td>\n",
       "      <td>2</td>\n",
       "      <td>3</td>\n",
       "      <td>9</td>\n",
       "      <td>2022</td>\n",
       "    </tr>\n",
       "    <tr>\n",
       "      <th>2022-09-29</th>\n",
       "      <td>93.830002</td>\n",
       "      <td>94.190002</td>\n",
       "      <td>93.120003</td>\n",
       "      <td>93.120003</td>\n",
       "      <td>93.120003</td>\n",
       "      <td>2094138</td>\n",
       "      <td>93.655002</td>\n",
       "      <td>91.745002</td>\n",
       "      <td>3</td>\n",
       "      <td>3</td>\n",
       "      <td>9</td>\n",
       "      <td>2022</td>\n",
       "    </tr>\n",
       "    <tr>\n",
       "      <th>2022-09-30</th>\n",
       "      <td>93.220001</td>\n",
       "      <td>93.230003</td>\n",
       "      <td>90.260002</td>\n",
       "      <td>90.699997</td>\n",
       "      <td>90.699997</td>\n",
       "      <td>3741428</td>\n",
       "      <td>91.745002</td>\n",
       "      <td>90.515004</td>\n",
       "      <td>4</td>\n",
       "      <td>3</td>\n",
       "      <td>9</td>\n",
       "      <td>2022</td>\n",
       "    </tr>\n",
       "    <tr>\n",
       "      <th>2022-10-03</th>\n",
       "      <td>91.150002</td>\n",
       "      <td>91.370003</td>\n",
       "      <td>89.660004</td>\n",
       "      <td>90.610001</td>\n",
       "      <td>90.610001</td>\n",
       "      <td>2038034</td>\n",
       "      <td>90.515004</td>\n",
       "      <td>93.380001</td>\n",
       "      <td>0</td>\n",
       "      <td>4</td>\n",
       "      <td>10</td>\n",
       "      <td>2022</td>\n",
       "    </tr>\n",
       "    <tr>\n",
       "      <th>2022-10-04</th>\n",
       "      <td>92.000000</td>\n",
       "      <td>94.870003</td>\n",
       "      <td>91.889999</td>\n",
       "      <td>94.790001</td>\n",
       "      <td>94.790001</td>\n",
       "      <td>3030551</td>\n",
       "      <td>93.380001</td>\n",
       "      <td>96.694999</td>\n",
       "      <td>1</td>\n",
       "      <td>4</td>\n",
       "      <td>10</td>\n",
       "      <td>2022</td>\n",
       "    </tr>\n",
       "  </tbody>\n",
       "</table>\n",
       "<p>7860 rows × 12 columns</p>\n",
       "</div>"
      ],
      "text/plain": [
       "                 open       high        low      close  adj close   volume  \\\n",
       "date                                                                         \n",
       "1991-10-01   6.786620   6.786620   6.786620   6.786620   1.290987        0   \n",
       "1991-10-02   6.786620   6.786620   6.786620   6.786620   1.290987        0   \n",
       "1991-10-03   6.786620   6.786620   6.786620   6.786620   1.290987        0   \n",
       "1991-10-04   6.786620   6.786620   6.786620   6.786620   1.290987        0   \n",
       "1991-10-07   6.786620   6.786620   6.786620   6.786620   1.290987        0   \n",
       "...               ...        ...        ...        ...        ...      ...   \n",
       "2022-09-28  92.500000  93.000000  91.790001  92.540001  92.540001  2433767   \n",
       "2022-09-29  93.830002  94.190002  93.120003  93.120003  93.120003  2094138   \n",
       "2022-09-30  93.220001  93.230003  90.260002  90.699997  90.699997  3741428   \n",
       "2022-10-03  91.150002  91.370003  89.660004  90.610001  90.610001  2038034   \n",
       "2022-10-04  92.000000  94.870003  91.889999  94.790001  94.790001  3030551   \n",
       "\n",
       "                 mean     actual  dayofweek  quarter  month  year  \n",
       "date                                                               \n",
       "1991-10-01   6.786620   6.786620          1        4     10  1991  \n",
       "1991-10-02   6.786620   6.786620          2        4     10  1991  \n",
       "1991-10-03   6.786620   6.786620          3        4     10  1991  \n",
       "1991-10-04   6.786620   6.786620          4        4     10  1991  \n",
       "1991-10-07   6.786620   6.786620          0        4     10  1991  \n",
       "...               ...        ...        ...      ...    ...   ...  \n",
       "2022-09-28  92.395001  93.655002          2        3      9  2022  \n",
       "2022-09-29  93.655002  91.745002          3        3      9  2022  \n",
       "2022-09-30  91.745002  90.515004          4        3      9  2022  \n",
       "2022-10-03  90.515004  93.380001          0        4     10  2022  \n",
       "2022-10-04  93.380001  96.694999          1        4     10  2022  \n",
       "\n",
       "[7860 rows x 12 columns]"
      ]
     },
     "execution_count": 13,
     "metadata": {},
     "output_type": "execute_result"
    }
   ],
   "source": [
    "dfpred"
   ]
  },
  {
   "cell_type": "code",
   "execution_count": 14,
   "id": "935deb86",
   "metadata": {},
   "outputs": [
    {
     "data": {
      "image/png": "[encoded data removed]",
      "text/plain": [
       "<Figure size 720x576 with 1 Axes>"
      ]
     },
     "metadata": {
      "needs_background": "light"
     },
     "output_type": "display_data"
    }
   ],
   "source": [
    "fig, ax = plt.subplots(figsize=(10, 8))\n",
    "sns.boxplot(data=dfpred, x='dayofweek', y='actual')\n",
    "ax.set_title('Price by day of week')\n",
    "plt.show()"
   ]
  },
  {
   "cell_type": "code",
   "execution_count": 50,
   "id": "e0f3f878",
   "metadata": {},
   "outputs": [
    {
     "data": {
      "image/png": "[encoded data removed]",
      "text/plain": [
       "<Figure size 720x576 with 1 Axes>"
      ]
     },
     "metadata": {
      "needs_background": "light"
     },
     "output_type": "display_data"
    }
   ],
   "source": [
    "fig, ax = plt.subplots(figsize=(10, 8))\n",
    "sns.boxplot(data=dfpred, x='quarter', y='close')\n",
    "ax.set_title('Price by quarter')\n",
    "plt.savefig('Price by quarter')\n",
    "plt.show()"
   ]
  },
  {
   "cell_type": "code",
   "execution_count": 51,
   "id": "d912d359",
   "metadata": {},
   "outputs": [
    {
     "data": {
      "image/png": "[encoded data removed]",
      "text/plain": [
       "<Figure size 720x576 with 1 Axes>"
      ]
     },
     "metadata": {
      "needs_background": "light"
     },
     "output_type": "display_data"
    }
   ],
   "source": [
    "fig, ax = plt.subplots(figsize=(10, 8))\n",
    "sns.boxplot(data=dfpred, x='month', y='close')\n",
    "ax.set_title('Price by month')\n",
    "plt.savefig('Price by month')\n",
    "plt.show()"
   ]
  },
  {
   "cell_type": "code",
   "execution_count": 52,
   "id": "8d619b84",
   "metadata": {},
   "outputs": [
    {
     "data": {
      "image/png": "[encoded data removed]",
      "text/plain": [
       "<Figure size 720x576 with 1 Axes>"
      ]
     },
     "metadata": {
      "needs_background": "light"
     },
     "output_type": "display_data"
    }
   ],
   "source": [
    "fig, ax = plt.subplots(figsize=(10, 8))\n",
    "sns.boxplot(data=dfpred, x='year', y='close')\n",
    "ax.set_title('Price by year')\n",
    "plt.savefig('Price by year')\n",
    "plt.show()"
   ]
  },
  {
   "cell_type": "code",
   "execution_count": 18,
   "id": "e37668c2",
   "metadata": {},
   "outputs": [
    {
     "data": {
      "image/png": "[encoded data removed]",
      "text/plain": [
       "<Figure size 1080x360 with 1 Axes>"
      ]
     },
     "metadata": {
      "needs_background": "light"
     },
     "output_type": "display_data"
    }
   ],
   "source": [
    "dfpred['volume'].plot(style='-',\n",
    "        figsize=(15, 5),\n",
    "        title='CBA stock volume')\n",
    "plt.show()"
   ]
  },
  {
   "cell_type": "code",
   "execution_count": 19,
   "id": "70eb9ef1",
   "metadata": {},
   "outputs": [],
   "source": [
    "# normalizing input features\n",
    "from sklearn.preprocessing import MinMaxScaler\n",
    "sc_in = MinMaxScaler(feature_range=(0, 1))\n",
    "scaled_input = sc_in.fit_transform(dfpred[['low', 'high','open', 'close', 'volume', 'adj close', 'mean','dayofweek', 'quarter', 'month', 'year']])\n",
    "scaled_input =pd.DataFrame(scaled_input)\n",
    "X= scaled_input"
   ]
  },
  {
   "cell_type": "code",
   "execution_count": 20,
   "id": "db10853c",
   "metadata": {},
   "outputs": [
    {
     "data": {
      "text/html": [
       "<div>\n",
       "<style scoped>\n",
       "    .dataframe tbody tr th:only-of-type {\n",
       "        vertical-align: middle;\n",
       "    }\n",
       "\n",
       "    .dataframe tbody tr th {\n",
       "        vertical-align: top;\n",
       "    }\n",
       "\n",
       "    .dataframe thead th {\n",
       "        text-align: right;\n",
       "    }\n",
       "</style>\n",
       "<table border=\"1\" class=\"dataframe\">\n",
       "  <thead>\n",
       "    <tr style=\"text-align: right;\">\n",
       "      <th></th>\n",
       "      <th>0</th>\n",
       "      <th>1</th>\n",
       "      <th>2</th>\n",
       "      <th>3</th>\n",
       "      <th>4</th>\n",
       "      <th>5</th>\n",
       "      <th>6</th>\n",
       "      <th>7</th>\n",
       "      <th>8</th>\n",
       "      <th>9</th>\n",
       "      <th>10</th>\n",
       "    </tr>\n",
       "  </thead>\n",
       "  <tbody>\n",
       "    <tr>\n",
       "      <th>0</th>\n",
       "      <td>0.008906</td>\n",
       "      <td>0.008827</td>\n",
       "      <td>0.008843</td>\n",
       "      <td>0.008832</td>\n",
       "      <td>0.000000</td>\n",
       "      <td>0.001372</td>\n",
       "      <td>0.008866</td>\n",
       "      <td>0.25</td>\n",
       "      <td>1.000000</td>\n",
       "      <td>0.818182</td>\n",
       "      <td>0.0</td>\n",
       "    </tr>\n",
       "    <tr>\n",
       "      <th>1</th>\n",
       "      <td>0.008906</td>\n",
       "      <td>0.008827</td>\n",
       "      <td>0.008843</td>\n",
       "      <td>0.008832</td>\n",
       "      <td>0.000000</td>\n",
       "      <td>0.001372</td>\n",
       "      <td>0.008866</td>\n",
       "      <td>0.50</td>\n",
       "      <td>1.000000</td>\n",
       "      <td>0.818182</td>\n",
       "      <td>0.0</td>\n",
       "    </tr>\n",
       "    <tr>\n",
       "      <th>2</th>\n",
       "      <td>0.008906</td>\n",
       "      <td>0.008827</td>\n",
       "      <td>0.008843</td>\n",
       "      <td>0.008832</td>\n",
       "      <td>0.000000</td>\n",
       "      <td>0.001372</td>\n",
       "      <td>0.008866</td>\n",
       "      <td>0.75</td>\n",
       "      <td>1.000000</td>\n",
       "      <td>0.818182</td>\n",
       "      <td>0.0</td>\n",
       "    </tr>\n",
       "    <tr>\n",
       "      <th>3</th>\n",
       "      <td>0.008906</td>\n",
       "      <td>0.008827</td>\n",
       "      <td>0.008843</td>\n",
       "      <td>0.008832</td>\n",
       "      <td>0.000000</td>\n",
       "      <td>0.001372</td>\n",
       "      <td>0.008866</td>\n",
       "      <td>1.00</td>\n",
       "      <td>1.000000</td>\n",
       "      <td>0.818182</td>\n",
       "      <td>0.0</td>\n",
       "    </tr>\n",
       "    <tr>\n",
       "      <th>4</th>\n",
       "      <td>0.008906</td>\n",
       "      <td>0.008827</td>\n",
       "      <td>0.008843</td>\n",
       "      <td>0.008832</td>\n",
       "      <td>0.000000</td>\n",
       "      <td>0.001372</td>\n",
       "      <td>0.008866</td>\n",
       "      <td>0.00</td>\n",
       "      <td>1.000000</td>\n",
       "      <td>0.818182</td>\n",
       "      <td>0.0</td>\n",
       "    </tr>\n",
       "    <tr>\n",
       "      <th>...</th>\n",
       "      <td>...</td>\n",
       "      <td>...</td>\n",
       "      <td>...</td>\n",
       "      <td>...</td>\n",
       "      <td>...</td>\n",
       "      <td>...</td>\n",
       "      <td>...</td>\n",
       "      <td>...</td>\n",
       "      <td>...</td>\n",
       "      <td>...</td>\n",
       "      <td>...</td>\n",
       "    </tr>\n",
       "    <tr>\n",
       "      <th>7855</th>\n",
       "      <td>0.830955</td>\n",
       "      <td>0.835225</td>\n",
       "      <td>0.831948</td>\n",
       "      <td>0.831294</td>\n",
       "      <td>0.068340</td>\n",
       "      <td>0.870738</td>\n",
       "      <td>0.833100</td>\n",
       "      <td>0.50</td>\n",
       "      <td>0.666667</td>\n",
       "      <td>0.727273</td>\n",
       "      <td>1.0</td>\n",
       "    </tr>\n",
       "    <tr>\n",
       "      <th>7856</th>\n",
       "      <td>0.843817</td>\n",
       "      <td>0.846632</td>\n",
       "      <td>0.844720</td>\n",
       "      <td>0.836857</td>\n",
       "      <td>0.058803</td>\n",
       "      <td>0.876264</td>\n",
       "      <td>0.845231</td>\n",
       "      <td>0.75</td>\n",
       "      <td>0.666667</td>\n",
       "      <td>0.727273</td>\n",
       "      <td>1.0</td>\n",
       "    </tr>\n",
       "    <tr>\n",
       "      <th>7857</th>\n",
       "      <td>0.816159</td>\n",
       "      <td>0.837430</td>\n",
       "      <td>0.838862</td>\n",
       "      <td>0.813647</td>\n",
       "      <td>0.105059</td>\n",
       "      <td>0.853208</td>\n",
       "      <td>0.826841</td>\n",
       "      <td>1.00</td>\n",
       "      <td>0.666667</td>\n",
       "      <td>0.727273</td>\n",
       "      <td>1.0</td>\n",
       "    </tr>\n",
       "    <tr>\n",
       "      <th>7858</th>\n",
       "      <td>0.810356</td>\n",
       "      <td>0.819601</td>\n",
       "      <td>0.818984</td>\n",
       "      <td>0.812783</td>\n",
       "      <td>0.057228</td>\n",
       "      <td>0.852350</td>\n",
       "      <td>0.814999</td>\n",
       "      <td>0.00</td>\n",
       "      <td>1.000000</td>\n",
       "      <td>0.818182</td>\n",
       "      <td>1.0</td>\n",
       "    </tr>\n",
       "    <tr>\n",
       "      <th>7859</th>\n",
       "      <td>0.831922</td>\n",
       "      <td>0.853150</td>\n",
       "      <td>0.827146</td>\n",
       "      <td>0.852874</td>\n",
       "      <td>0.085098</td>\n",
       "      <td>0.892175</td>\n",
       "      <td>0.842583</td>\n",
       "      <td>0.25</td>\n",
       "      <td>1.000000</td>\n",
       "      <td>0.818182</td>\n",
       "      <td>1.0</td>\n",
       "    </tr>\n",
       "  </tbody>\n",
       "</table>\n",
       "<p>7860 rows × 11 columns</p>\n",
       "</div>"
      ],
      "text/plain": [
       "            0         1         2         3         4         5         6   \\\n",
       "0     0.008906  0.008827  0.008843  0.008832  0.000000  0.001372  0.008866   \n",
       "1     0.008906  0.008827  0.008843  0.008832  0.000000  0.001372  0.008866   \n",
       "2     0.008906  0.008827  0.008843  0.008832  0.000000  0.001372  0.008866   \n",
       "3     0.008906  0.008827  0.008843  0.008832  0.000000  0.001372  0.008866   \n",
       "4     0.008906  0.008827  0.008843  0.008832  0.000000  0.001372  0.008866   \n",
       "...        ...       ...       ...       ...       ...       ...       ...   \n",
       "7855  0.830955  0.835225  0.831948  0.831294  0.068340  0.870738  0.833100   \n",
       "7856  0.843817  0.846632  0.844720  0.836857  0.058803  0.876264  0.845231   \n",
       "7857  0.816159  0.837430  0.838862  0.813647  0.105059  0.853208  0.826841   \n",
       "7858  0.810356  0.819601  0.818984  0.812783  0.057228  0.852350  0.814999   \n",
       "7859  0.831922  0.853150  0.827146  0.852874  0.085098  0.892175  0.842583   \n",
       "\n",
       "        7         8         9    10  \n",
       "0     0.25  1.000000  0.818182  0.0  \n",
       "1     0.50  1.000000  0.818182  0.0  \n",
       "2     0.75  1.000000  0.818182  0.0  \n",
       "3     1.00  1.000000  0.818182  0.0  \n",
       "4     0.00  1.000000  0.818182  0.0  \n",
       "...    ...       ...       ...  ...  \n",
       "7855  0.50  0.666667  0.727273  1.0  \n",
       "7856  0.75  0.666667  0.727273  1.0  \n",
       "7857  1.00  0.666667  0.727273  1.0  \n",
       "7858  0.00  1.000000  0.818182  1.0  \n",
       "7859  0.25  1.000000  0.818182  1.0  \n",
       "\n",
       "[7860 rows x 11 columns]"
      ]
     },
     "execution_count": 20,
     "metadata": {},
     "output_type": "execute_result"
    }
   ],
   "source": [
    "X"
   ]
  },
  {
   "cell_type": "code",
   "execution_count": 21,
   "id": "9a429fde",
   "metadata": {},
   "outputs": [
    {
     "data": {
      "text/html": [
       "<div>\n",
       "<style scoped>\n",
       "    .dataframe tbody tr th:only-of-type {\n",
       "        vertical-align: middle;\n",
       "    }\n",
       "\n",
       "    .dataframe tbody tr th {\n",
       "        vertical-align: top;\n",
       "    }\n",
       "\n",
       "    .dataframe thead th {\n",
       "        text-align: right;\n",
       "    }\n",
       "</style>\n",
       "<table border=\"1\" class=\"dataframe\">\n",
       "  <thead>\n",
       "    <tr style=\"text-align: right;\">\n",
       "      <th></th>\n",
       "      <th>low</th>\n",
       "      <th>high</th>\n",
       "      <th>open</th>\n",
       "      <th>close</th>\n",
       "      <th>volume</th>\n",
       "      <th>adj close</th>\n",
       "      <th>mean</th>\n",
       "      <th>dayofweek</th>\n",
       "      <th>quarter</th>\n",
       "      <th>month</th>\n",
       "      <th>year</th>\n",
       "    </tr>\n",
       "    <tr>\n",
       "      <th>date</th>\n",
       "      <th></th>\n",
       "      <th></th>\n",
       "      <th></th>\n",
       "      <th></th>\n",
       "      <th></th>\n",
       "      <th></th>\n",
       "      <th></th>\n",
       "      <th></th>\n",
       "      <th></th>\n",
       "      <th></th>\n",
       "      <th></th>\n",
       "    </tr>\n",
       "  </thead>\n",
       "  <tbody>\n",
       "    <tr>\n",
       "      <th>2022-09-28</th>\n",
       "      <td>0.830955</td>\n",
       "      <td>0.835225</td>\n",
       "      <td>0.831948</td>\n",
       "      <td>0.831294</td>\n",
       "      <td>0.068340</td>\n",
       "      <td>0.870738</td>\n",
       "      <td>0.833100</td>\n",
       "      <td>0.50</td>\n",
       "      <td>0.666667</td>\n",
       "      <td>0.727273</td>\n",
       "      <td>1.0</td>\n",
       "    </tr>\n",
       "    <tr>\n",
       "      <th>2022-09-29</th>\n",
       "      <td>0.843817</td>\n",
       "      <td>0.846632</td>\n",
       "      <td>0.844720</td>\n",
       "      <td>0.836857</td>\n",
       "      <td>0.058803</td>\n",
       "      <td>0.876264</td>\n",
       "      <td>0.845231</td>\n",
       "      <td>0.75</td>\n",
       "      <td>0.666667</td>\n",
       "      <td>0.727273</td>\n",
       "      <td>1.0</td>\n",
       "    </tr>\n",
       "    <tr>\n",
       "      <th>2022-09-30</th>\n",
       "      <td>0.816159</td>\n",
       "      <td>0.837430</td>\n",
       "      <td>0.838862</td>\n",
       "      <td>0.813647</td>\n",
       "      <td>0.105059</td>\n",
       "      <td>0.853208</td>\n",
       "      <td>0.826841</td>\n",
       "      <td>1.00</td>\n",
       "      <td>0.666667</td>\n",
       "      <td>0.727273</td>\n",
       "      <td>1.0</td>\n",
       "    </tr>\n",
       "    <tr>\n",
       "      <th>2022-10-03</th>\n",
       "      <td>0.810356</td>\n",
       "      <td>0.819601</td>\n",
       "      <td>0.818984</td>\n",
       "      <td>0.812783</td>\n",
       "      <td>0.057228</td>\n",
       "      <td>0.852350</td>\n",
       "      <td>0.814999</td>\n",
       "      <td>0.00</td>\n",
       "      <td>1.000000</td>\n",
       "      <td>0.818182</td>\n",
       "      <td>1.0</td>\n",
       "    </tr>\n",
       "    <tr>\n",
       "      <th>2022-10-04</th>\n",
       "      <td>0.831922</td>\n",
       "      <td>0.853150</td>\n",
       "      <td>0.827146</td>\n",
       "      <td>0.852874</td>\n",
       "      <td>0.085098</td>\n",
       "      <td>0.892175</td>\n",
       "      <td>0.842583</td>\n",
       "      <td>0.25</td>\n",
       "      <td>1.000000</td>\n",
       "      <td>0.818182</td>\n",
       "      <td>1.0</td>\n",
       "    </tr>\n",
       "  </tbody>\n",
       "</table>\n",
       "</div>"
      ],
      "text/plain": [
       "                 low      high      open     close    volume  adj close  \\\n",
       "date                                                                      \n",
       "2022-09-28  0.830955  0.835225  0.831948  0.831294  0.068340   0.870738   \n",
       "2022-09-29  0.843817  0.846632  0.844720  0.836857  0.058803   0.876264   \n",
       "2022-09-30  0.816159  0.837430  0.838862  0.813647  0.105059   0.853208   \n",
       "2022-10-03  0.810356  0.819601  0.818984  0.812783  0.057228   0.852350   \n",
       "2022-10-04  0.831922  0.853150  0.827146  0.852874  0.085098   0.892175   \n",
       "\n",
       "                mean  dayofweek   quarter     month  year  \n",
       "date                                                       \n",
       "2022-09-28  0.833100       0.50  0.666667  0.727273   1.0  \n",
       "2022-09-29  0.845231       0.75  0.666667  0.727273   1.0  \n",
       "2022-09-30  0.826841       1.00  0.666667  0.727273   1.0  \n",
       "2022-10-03  0.814999       0.00  1.000000  0.818182   1.0  \n",
       "2022-10-04  0.842583       0.25  1.000000  0.818182   1.0  "
      ]
     },
     "execution_count": 21,
     "metadata": {},
     "output_type": "execute_result"
    }
   ],
   "source": [
    "X.rename(columns={0:'low', 1:'high',2:'open', 3:'close', 4:'volume', 5:'adj close', 6:'mean',7:'dayofweek', 8:'quarter', 9:'month', 10:'year'}, inplace=True)\n",
    "X = pd.DataFrame(X)\n",
    "X.index = dfpred.index\n",
    "X.tail(5)"
   ]
  },
  {
   "cell_type": "code",
   "execution_count": 22,
   "id": "c1231c53",
   "metadata": {},
   "outputs": [],
   "source": [
    "sc_out = MinMaxScaler(feature_range=(0, 1))\n",
    "scaler_output = sc_out.fit_transform(dfpred[['actual']])\n",
    "scaler_output =pd.DataFrame(scaler_output)\n",
    "y=scaler_output"
   ]
  },
  {
   "cell_type": "code",
   "execution_count": 23,
   "id": "c4c9946c",
   "metadata": {},
   "outputs": [
    {
     "data": {
      "text/html": [
       "<div>\n",
       "<style scoped>\n",
       "    .dataframe tbody tr th:only-of-type {\n",
       "        vertical-align: middle;\n",
       "    }\n",
       "\n",
       "    .dataframe tbody tr th {\n",
       "        vertical-align: top;\n",
       "    }\n",
       "\n",
       "    .dataframe thead th {\n",
       "        text-align: right;\n",
       "    }\n",
       "</style>\n",
       "<table border=\"1\" class=\"dataframe\">\n",
       "  <thead>\n",
       "    <tr style=\"text-align: right;\">\n",
       "      <th></th>\n",
       "      <th>0</th>\n",
       "    </tr>\n",
       "  </thead>\n",
       "  <tbody>\n",
       "    <tr>\n",
       "      <th>0</th>\n",
       "      <td>0.008866</td>\n",
       "    </tr>\n",
       "    <tr>\n",
       "      <th>1</th>\n",
       "      <td>0.008866</td>\n",
       "    </tr>\n",
       "    <tr>\n",
       "      <th>2</th>\n",
       "      <td>0.008866</td>\n",
       "    </tr>\n",
       "    <tr>\n",
       "      <th>3</th>\n",
       "      <td>0.008866</td>\n",
       "    </tr>\n",
       "    <tr>\n",
       "      <th>4</th>\n",
       "      <td>0.008866</td>\n",
       "    </tr>\n",
       "    <tr>\n",
       "      <th>...</th>\n",
       "      <td>...</td>\n",
       "    </tr>\n",
       "    <tr>\n",
       "      <th>7855</th>\n",
       "      <td>0.845231</td>\n",
       "    </tr>\n",
       "    <tr>\n",
       "      <th>7856</th>\n",
       "      <td>0.826841</td>\n",
       "    </tr>\n",
       "    <tr>\n",
       "      <th>7857</th>\n",
       "      <td>0.814999</td>\n",
       "    </tr>\n",
       "    <tr>\n",
       "      <th>7858</th>\n",
       "      <td>0.842583</td>\n",
       "    </tr>\n",
       "    <tr>\n",
       "      <th>7859</th>\n",
       "      <td>0.874500</td>\n",
       "    </tr>\n",
       "  </tbody>\n",
       "</table>\n",
       "<p>7860 rows × 1 columns</p>\n",
       "</div>"
      ],
      "text/plain": [
       "             0\n",
       "0     0.008866\n",
       "1     0.008866\n",
       "2     0.008866\n",
       "3     0.008866\n",
       "4     0.008866\n",
       "...        ...\n",
       "7855  0.845231\n",
       "7856  0.826841\n",
       "7857  0.814999\n",
       "7858  0.842583\n",
       "7859  0.874500\n",
       "\n",
       "[7860 rows x 1 columns]"
      ]
     },
     "execution_count": 23,
     "metadata": {},
     "output_type": "execute_result"
    }
   ],
   "source": [
    "y"
   ]
  },
  {
   "cell_type": "code",
   "execution_count": 24,
   "id": "90494323",
   "metadata": {},
   "outputs": [
    {
     "data": {
      "text/html": [
       "<div>\n",
       "<style scoped>\n",
       "    .dataframe tbody tr th:only-of-type {\n",
       "        vertical-align: middle;\n",
       "    }\n",
       "\n",
       "    .dataframe tbody tr th {\n",
       "        vertical-align: top;\n",
       "    }\n",
       "\n",
       "    .dataframe thead th {\n",
       "        text-align: right;\n",
       "    }\n",
       "</style>\n",
       "<table border=\"1\" class=\"dataframe\">\n",
       "  <thead>\n",
       "    <tr style=\"text-align: right;\">\n",
       "      <th></th>\n",
       "      <th>price_next_day</th>\n",
       "    </tr>\n",
       "    <tr>\n",
       "      <th>date</th>\n",
       "      <th></th>\n",
       "    </tr>\n",
       "  </thead>\n",
       "  <tbody>\n",
       "    <tr>\n",
       "      <th>1991-10-01</th>\n",
       "      <td>0.008866</td>\n",
       "    </tr>\n",
       "    <tr>\n",
       "      <th>1991-10-02</th>\n",
       "      <td>0.008866</td>\n",
       "    </tr>\n",
       "  </tbody>\n",
       "</table>\n",
       "</div>"
      ],
      "text/plain": [
       "            price_next_day\n",
       "date                      \n",
       "1991-10-01        0.008866\n",
       "1991-10-02        0.008866"
      ]
     },
     "execution_count": 24,
     "metadata": {},
     "output_type": "execute_result"
    }
   ],
   "source": [
    "y.rename(columns={0:'price_next_day'}, inplace= True)\n",
    "y.index=dfpred.index\n",
    "y.head(2)"
   ]
  },
  {
   "cell_type": "code",
   "execution_count": 53,
   "id": "9372d044",
   "metadata": {},
   "outputs": [
    {
     "data": {
      "image/png": "[encoded data removed]",
      "text/plain": [
       "<Figure size 432x288 with 4 Axes>"
      ]
     },
     "metadata": {
      "needs_background": "light"
     },
     "output_type": "display_data"
    }
   ],
   "source": [
    "import statsmodels.api as sm\n",
    "sd=sm.tsa.seasonal_decompose(X['mean'],model='add',period=365);\n",
    "fig=sd.plot()\n",
    "fig.set_figheight(4)\n",
    "plt.savefig('SeasonalDecompose')\n",
    "plt.show()"
   ]
  },
  {
   "cell_type": "code",
   "execution_count": 26,
   "id": "d663b689",
   "metadata": {},
   "outputs": [
    {
     "name": "stdout",
     "output_type": "stream",
     "text": [
      "1573\n"
     ]
    }
   ],
   "source": [
    "train_size=int(len(df) *0.80)\n",
    "test_size = int(len(df)) - train_size\n",
    "print(test_size)"
   ]
  },
  {
   "cell_type": "code",
   "execution_count": 27,
   "id": "51a7ff06",
   "metadata": {},
   "outputs": [],
   "source": [
    "train_X, train_y = X[:train_size], y[:train_size]\n",
    "test_X, test_y = X[train_size:], y[train_size:]"
   ]
  },
  {
   "cell_type": "code",
   "execution_count": 28,
   "id": "23eaee25",
   "metadata": {},
   "outputs": [
    {
     "data": {
      "text/plain": [
       "Index(['low', 'high', 'open', 'close', 'volume', 'adj close', 'mean',\n",
       "       'dayofweek', 'quarter', 'month', 'year'],\n",
       "      dtype='object')"
      ]
     },
     "execution_count": 28,
     "metadata": {},
     "output_type": "execute_result"
    }
   ],
   "source": [
    "test_X.columns"
   ]
  },
  {
   "cell_type": "code",
   "execution_count": 29,
   "id": "6e7d700b",
   "metadata": {},
   "outputs": [],
   "source": [
    "y_test=y['price_next_day'][:train_size]"
   ]
  },
  {
   "cell_type": "code",
   "execution_count": 30,
   "id": "ae4dd942",
   "metadata": {},
   "outputs": [
    {
     "data": {
      "text/plain": [
       "pandas.core.series.Series"
      ]
     },
     "execution_count": 30,
     "metadata": {},
     "output_type": "execute_result"
    }
   ],
   "source": [
    "type(y_test)"
   ]
  },
  {
   "cell_type": "code",
   "execution_count": null,
   "id": "b7270ecd",
   "metadata": {},
   "outputs": [],
   "source": []
  },
  {
   "cell_type": "code",
   "execution_count": 31,
   "id": "dc292d7e",
   "metadata": {},
   "outputs": [],
   "source": [
    "from statsmodels.tsa.stattools import adfuller\n",
    "def test_adf(series, title=''):\n",
    "    dfout={}\n",
    "    dftest=sm.tsa.adfuller(series.dropna(), autolag='AIC', regression='ct')\n",
    "    for key,val in dftest[4].items():\n",
    "        dfout[f'critical value ({key})']=val\n",
    "    if dftest[1]<=0.05:\n",
    "        print(\"Strong evidence against Null Hypothesis\")\n",
    "        print(\"Reject Null Hypothesis - Data is  Stationary\")\n",
    "        print(\"Data is Stationary for\", title)\n",
    "    else:\n",
    "        print(\"Strong evidence for  Null Hypothesis\")\n",
    "        print(\"Accept Null Hypothesis - Data is not Stationary\")\n",
    "        print(\"Data is NOT Stationary for\", title)"
   ]
  },
  {
   "cell_type": "code",
   "execution_count": 32,
   "id": "beedf8f0",
   "metadata": {},
   "outputs": [
    {
     "name": "stdout",
     "output_type": "stream",
     "text": [
      "Strong evidence for  Null Hypothesis\n",
      "Accept Null Hypothesis - Data is not Stationary\n",
      "Data is NOT Stationary for CBA stock price\n"
     ]
    }
   ],
   "source": [
    "test_adf(y_test, \"CBA stock price\")"
   ]
  },
  {
   "cell_type": "code",
   "execution_count": 33,
   "id": "1357180a",
   "metadata": {},
   "outputs": [
    {
     "name": "stdout",
     "output_type": "stream",
     "text": [
      "Strong evidence against Null Hypothesis\n",
      "Reject Null Hypothesis - Data is  Stationary\n",
      "Data is Stationary for  CBA stock Price\n"
     ]
    }
   ],
   "source": [
    "test_adf(y_test.diff(), \" CBA stock Price\")"
   ]
  },
  {
   "cell_type": "code",
   "execution_count": 34,
   "id": "fea8c244",
   "metadata": {},
   "outputs": [
    {
     "name": "stderr",
     "output_type": "stream",
     "text": [
      "/Users/macbook/opt/anaconda3/envs/Deep/lib/python3.8/site-packages/statsmodels/graphics/tsaplots.py:348: FutureWarning: The default method 'yw' can produce PACF values outside of the [-1,1] interval. After 0.13, the default will change tounadjusted Yule-Walker ('ywm'). You can use this method now by setting method='ywm'.\n",
      "  warnings.warn(\n"
     ]
    },
    {
     "data": {
      "image/png": "[encoded data removed]",
      "text/plain": [
       "<Figure size 720x360 with 2 Axes>"
      ]
     },
     "metadata": {
      "needs_background": "light"
     },
     "output_type": "display_data"
    }
   ],
   "source": [
    "#Correlograms\n",
    "fig,ax= plt.subplots(2,1, figsize=(10,5))\n",
    "fig=sm.tsa.graphics.plot_acf(y_test, lags=30, ax=ax[0])\n",
    "fig=sm.tsa.graphics.plot_pacf(y_test, lags=30, ax=ax[1])\n",
    "plt.show()"
   ]
  },
  {
   "cell_type": "code",
   "execution_count": 35,
   "id": "7d9874d2",
   "metadata": {},
   "outputs": [
    {
     "name": "stdout",
     "output_type": "stream",
     "text": [
      "Performing stepwise search to minimize aic\n"
     ]
    },
    {
     "name": "stderr",
     "output_type": "stream",
     "text": [
      "/Users/macbook/opt/anaconda3/envs/Deep/lib/python3.8/site-packages/statsmodels/tsa/statespace/sarimax.py:1899: RuntimeWarning: invalid value encountered in reciprocal\n",
      "  return np.roots(self.polynomial_reduced_ar)**-1\n",
      "/Users/macbook/opt/anaconda3/envs/Deep/lib/python3.8/site-packages/statsmodels/tsa/statespace/sarimax.py:1906: RuntimeWarning: invalid value encountered in reciprocal\n",
      "  return np.roots(self.polynomial_reduced_ma)**-1\n"
     ]
    },
    {
     "name": "stdout",
     "output_type": "stream",
     "text": [
      " ARIMA(1,1,1)(0,0,0)[0] intercept   : AIC=-51046.488, Time=8.22 sec\n",
      " ARIMA(0,1,0)(0,0,0)[0] intercept   : AIC=-50986.639, Time=2.37 sec\n"
     ]
    },
    {
     "name": "stderr",
     "output_type": "stream",
     "text": [
      "/Users/macbook/opt/anaconda3/envs/Deep/lib/python3.8/site-packages/statsmodels/tsa/statespace/sarimax.py:1899: RuntimeWarning: invalid value encountered in reciprocal\n",
      "  return np.roots(self.polynomial_reduced_ar)**-1\n"
     ]
    },
    {
     "name": "stdout",
     "output_type": "stream",
     "text": [
      " ARIMA(1,1,0)(0,0,0)[0] intercept   : AIC=-51012.369, Time=3.07 sec\n"
     ]
    },
    {
     "name": "stderr",
     "output_type": "stream",
     "text": [
      "/Users/macbook/opt/anaconda3/envs/Deep/lib/python3.8/site-packages/statsmodels/tsa/statespace/sarimax.py:1906: RuntimeWarning: invalid value encountered in reciprocal\n",
      "  return np.roots(self.polynomial_reduced_ma)**-1\n"
     ]
    },
    {
     "name": "stdout",
     "output_type": "stream",
     "text": [
      " ARIMA(0,1,1)(0,0,0)[0] intercept   : AIC=-51009.738, Time=3.49 sec\n",
      " ARIMA(0,1,0)(0,0,0)[0]             : AIC=-50987.354, Time=5.72 sec\n"
     ]
    },
    {
     "name": "stderr",
     "output_type": "stream",
     "text": [
      "/Users/macbook/opt/anaconda3/envs/Deep/lib/python3.8/site-packages/statsmodels/tsa/statespace/sarimax.py:1906: RuntimeWarning: invalid value encountered in reciprocal\n",
      "  return np.roots(self.polynomial_reduced_ma)**-1\n"
     ]
    },
    {
     "name": "stdout",
     "output_type": "stream",
     "text": [
      " ARIMA(2,1,1)(0,0,0)[0] intercept   : AIC=-51092.074, Time=12.81 sec\n",
      " ARIMA(2,1,0)(0,0,0)[0] intercept   : AIC=-51026.348, Time=3.20 sec\n"
     ]
    },
    {
     "name": "stderr",
     "output_type": "stream",
     "text": [
      "/Users/macbook/opt/anaconda3/envs/Deep/lib/python3.8/site-packages/statsmodels/tsa/statespace/sarimax.py:1906: RuntimeWarning: invalid value encountered in reciprocal\n",
      "  return np.roots(self.polynomial_reduced_ma)**-1\n"
     ]
    },
    {
     "name": "stdout",
     "output_type": "stream",
     "text": [
      " ARIMA(3,1,1)(0,0,0)[0] intercept   : AIC=-51023.080, Time=4.35 sec\n",
      " ARIMA(2,1,2)(0,0,0)[0] intercept   : AIC=-51212.265, Time=13.42 sec\n"
     ]
    },
    {
     "name": "stderr",
     "output_type": "stream",
     "text": [
      "/Users/macbook/opt/anaconda3/envs/Deep/lib/python3.8/site-packages/statsmodels/tsa/statespace/sarimax.py:1899: RuntimeWarning: invalid value encountered in reciprocal\n",
      "  return np.roots(self.polynomial_reduced_ar)**-1\n"
     ]
    },
    {
     "name": "stdout",
     "output_type": "stream",
     "text": [
      " ARIMA(1,1,2)(0,0,0)[0] intercept   : AIC=-51209.589, Time=12.99 sec\n",
      " ARIMA(3,1,2)(0,0,0)[0] intercept   : AIC=-50976.634, Time=5.38 sec\n"
     ]
    },
    {
     "name": "stderr",
     "output_type": "stream",
     "text": [
      "/Users/macbook/opt/anaconda3/envs/Deep/lib/python3.8/site-packages/statsmodels/tsa/statespace/sarimax.py:1906: RuntimeWarning: invalid value encountered in reciprocal\n",
      "  return np.roots(self.polynomial_reduced_ma)**-1\n"
     ]
    },
    {
     "name": "stdout",
     "output_type": "stream",
     "text": [
      " ARIMA(2,1,3)(0,0,0)[0] intercept   : AIC=-51021.998, Time=5.76 sec\n"
     ]
    },
    {
     "name": "stderr",
     "output_type": "stream",
     "text": [
      "/Users/macbook/opt/anaconda3/envs/Deep/lib/python3.8/site-packages/statsmodels/tsa/statespace/sarimax.py:1899: RuntimeWarning: invalid value encountered in reciprocal\n",
      "  return np.roots(self.polynomial_reduced_ar)**-1\n"
     ]
    },
    {
     "name": "stdout",
     "output_type": "stream",
     "text": [
      " ARIMA(1,1,3)(0,0,0)[0] intercept   : AIC=-51212.776, Time=14.62 sec\n",
      " ARIMA(0,1,3)(0,0,0)[0] intercept   : AIC=-51024.077, Time=5.98 sec\n"
     ]
    },
    {
     "name": "stderr",
     "output_type": "stream",
     "text": [
      "/Users/macbook/opt/anaconda3/envs/Deep/lib/python3.8/site-packages/statsmodels/tsa/statespace/sarimax.py:1899: RuntimeWarning: invalid value encountered in reciprocal\n",
      "  return np.roots(self.polynomial_reduced_ar)**-1\n"
     ]
    },
    {
     "name": "stdout",
     "output_type": "stream",
     "text": [
      " ARIMA(1,1,4)(0,0,0)[0] intercept   : AIC=-51180.727, Time=15.50 sec\n",
      " ARIMA(0,1,2)(0,0,0)[0] intercept   : AIC=-51025.121, Time=4.41 sec\n",
      " ARIMA(0,1,4)(0,0,0)[0] intercept   : AIC=-51022.452, Time=5.66 sec\n",
      " ARIMA(2,1,4)(0,0,0)[0] intercept   : AIC=-51212.781, Time=15.79 sec\n",
      " ARIMA(3,1,4)(0,0,0)[0] intercept   : AIC=-51155.805, Time=16.69 sec\n",
      " ARIMA(2,1,5)(0,0,0)[0] intercept   : AIC=-51197.780, Time=20.16 sec\n"
     ]
    },
    {
     "name": "stderr",
     "output_type": "stream",
     "text": [
      "/Users/macbook/opt/anaconda3/envs/Deep/lib/python3.8/site-packages/statsmodels/tsa/statespace/sarimax.py:1899: RuntimeWarning: invalid value encountered in reciprocal\n",
      "  return np.roots(self.polynomial_reduced_ar)**-1\n"
     ]
    },
    {
     "name": "stdout",
     "output_type": "stream",
     "text": [
      " ARIMA(1,1,5)(0,0,0)[0] intercept   : AIC=-51027.710, Time=14.22 sec\n",
      " ARIMA(3,1,3)(0,0,0)[0] intercept   : AIC=-51098.157, Time=17.41 sec\n",
      " ARIMA(3,1,5)(0,0,0)[0] intercept   : AIC=-51027.332, Time=7.48 sec\n",
      " ARIMA(2,1,4)(0,0,0)[0]             : AIC=-51021.107, Time=6.15 sec\n",
      "\n",
      "Best model:  ARIMA(2,1,4)(0,0,0)[0] intercept\n",
      "Total fit time: 224.887 seconds\n"
     ]
    }
   ],
   "source": [
    "from pmdarima.arima import auto_arima\n",
    "ar=auto_arima(train_y, \n",
    "                     exogenous= train_X,\n",
    "                     start_p=1,  start_q=1, \n",
    "                     max_p=7,  max_q=7, \n",
    "                     d=1, max_d=7,\n",
    "                     trace=True, \n",
    "                     error_action='ignore', \n",
    "                     suppress_warnings=True, \n",
    "                     stepwise=True)"
   ]
  },
  {
   "cell_type": "code",
   "execution_count": 36,
   "id": "0fe96e36",
   "metadata": {},
   "outputs": [
    {
     "data": {
      "text/html": [
       "<table class=\"simpletable\">\n",
       "<caption>SARIMAX Results</caption>\n",
       "<tr>\n",
       "  <th>Dep. Variable:</th>           <td>y</td>        <th>  No. Observations:  </th>    <td>6288</td>   \n",
       "</tr>\n",
       "<tr>\n",
       "  <th>Model:</th>           <td>SARIMAX(2, 1, 4)</td> <th>  Log Likelihood     </th>  <td>25625.390</td>\n",
       "</tr>\n",
       "<tr>\n",
       "  <th>Date:</th>            <td>Fri, 07 Oct 2022</td> <th>  AIC                </th> <td>-51212.781</td>\n",
       "</tr>\n",
       "<tr>\n",
       "  <th>Time:</th>                <td>21:03:18</td>     <th>  BIC                </th> <td>-51084.602</td>\n",
       "</tr>\n",
       "<tr>\n",
       "  <th>Sample:</th>                  <td>0</td>        <th>  HQIC               </th> <td>-51168.373</td>\n",
       "</tr>\n",
       "<tr>\n",
       "  <th></th>                      <td> - 6288</td>     <th>                     </th>      <td> </td>    \n",
       "</tr>\n",
       "<tr>\n",
       "  <th>Covariance Type:</th>        <td>opg</td>       <th>                     </th>      <td> </td>    \n",
       "</tr>\n",
       "</table>\n",
       "<table class=\"simpletable\">\n",
       "<tr>\n",
       "      <td></td>         <th>coef</th>     <th>std err</th>      <th>z</th>      <th>P>|z|</th>  <th>[0.025</th>    <th>0.975]</th>  \n",
       "</tr>\n",
       "<tr>\n",
       "  <th>intercept</th> <td> 1.301e-05</td> <td> 4.92e-05</td> <td>    0.265</td> <td> 0.791</td> <td>-8.33e-05</td> <td>    0.000</td>\n",
       "</tr>\n",
       "<tr>\n",
       "  <th>low</th>       <td>   -0.0193</td> <td>    0.013</td> <td>   -1.449</td> <td> 0.147</td> <td>   -0.045</td> <td>    0.007</td>\n",
       "</tr>\n",
       "<tr>\n",
       "  <th>high</th>      <td>    0.0348</td> <td>    0.015</td> <td>    2.371</td> <td> 0.018</td> <td>    0.006</td> <td>    0.064</td>\n",
       "</tr>\n",
       "<tr>\n",
       "  <th>open</th>      <td>   -0.1952</td> <td>    0.015</td> <td>  -13.195</td> <td> 0.000</td> <td>   -0.224</td> <td>   -0.166</td>\n",
       "</tr>\n",
       "<tr>\n",
       "  <th>close</th>     <td>    0.5924</td> <td>    0.027</td> <td>   21.724</td> <td> 0.000</td> <td>    0.539</td> <td>    0.646</td>\n",
       "</tr>\n",
       "<tr>\n",
       "  <th>volume</th>    <td>   -0.0004</td> <td>    0.001</td> <td>   -0.480</td> <td> 0.631</td> <td>   -0.002</td> <td>    0.001</td>\n",
       "</tr>\n",
       "<tr>\n",
       "  <th>adj close</th> <td>    0.3721</td> <td>    0.038</td> <td>    9.816</td> <td> 0.000</td> <td>    0.298</td> <td>    0.446</td>\n",
       "</tr>\n",
       "<tr>\n",
       "  <th>mean</th>      <td>    0.0079</td> <td>    0.010</td> <td>    0.827</td> <td> 0.408</td> <td>   -0.011</td> <td>    0.027</td>\n",
       "</tr>\n",
       "<tr>\n",
       "  <th>dayofweek</th> <td>   -0.0002</td> <td>    0.000</td> <td>   -1.259</td> <td> 0.208</td> <td>   -0.000</td> <td> 8.59e-05</td>\n",
       "</tr>\n",
       "<tr>\n",
       "  <th>quarter</th>   <td>    0.0023</td> <td>    0.002</td> <td>    1.427</td> <td> 0.153</td> <td>   -0.001</td> <td>    0.005</td>\n",
       "</tr>\n",
       "<tr>\n",
       "  <th>month</th>     <td>    0.0032</td> <td>    0.003</td> <td>    0.987</td> <td> 0.324</td> <td>   -0.003</td> <td>    0.009</td>\n",
       "</tr>\n",
       "<tr>\n",
       "  <th>year</th>      <td>    0.1527</td> <td>    0.092</td> <td>    1.665</td> <td> 0.096</td> <td>   -0.027</td> <td>    0.332</td>\n",
       "</tr>\n",
       "<tr>\n",
       "  <th>ar.L1</th>     <td>   -0.5628</td> <td>    0.740</td> <td>   -0.760</td> <td> 0.447</td> <td>   -2.013</td> <td>    0.888</td>\n",
       "</tr>\n",
       "<tr>\n",
       "  <th>ar.L2</th>     <td>   -0.0223</td> <td>    0.173</td> <td>   -0.128</td> <td> 0.898</td> <td>   -0.362</td> <td>    0.317</td>\n",
       "</tr>\n",
       "<tr>\n",
       "  <th>ma.L1</th>     <td>    0.0579</td> <td>    0.740</td> <td>    0.078</td> <td> 0.938</td> <td>   -1.393</td> <td>    1.509</td>\n",
       "</tr>\n",
       "<tr>\n",
       "  <th>ma.L2</th>     <td>   -0.2936</td> <td>    0.505</td> <td>   -0.582</td> <td> 0.561</td> <td>   -1.283</td> <td>    0.696</td>\n",
       "</tr>\n",
       "<tr>\n",
       "  <th>ma.L3</th>     <td>    0.0316</td> <td>    0.072</td> <td>    0.436</td> <td> 0.663</td> <td>   -0.110</td> <td>    0.174</td>\n",
       "</tr>\n",
       "<tr>\n",
       "  <th>ma.L4</th>     <td>    0.0417</td> <td>    0.046</td> <td>    0.897</td> <td> 0.370</td> <td>   -0.049</td> <td>    0.133</td>\n",
       "</tr>\n",
       "<tr>\n",
       "  <th>sigma2</th>    <td> 1.684e-05</td> <td> 1.37e-07</td> <td>  122.920</td> <td> 0.000</td> <td> 1.66e-05</td> <td> 1.71e-05</td>\n",
       "</tr>\n",
       "</table>\n",
       "<table class=\"simpletable\">\n",
       "<tr>\n",
       "  <th>Ljung-Box (L1) (Q):</th>     <td>34.13</td> <th>  Jarque-Bera (JB):  </th> <td>21153.57</td>\n",
       "</tr>\n",
       "<tr>\n",
       "  <th>Prob(Q):</th>                <td>0.00</td>  <th>  Prob(JB):          </th>   <td>0.00</td>  \n",
       "</tr>\n",
       "<tr>\n",
       "  <th>Heteroskedasticity (H):</th> <td>14.06</td> <th>  Skew:              </th>   <td>-0.37</td> \n",
       "</tr>\n",
       "<tr>\n",
       "  <th>Prob(H) (two-sided):</th>    <td>0.00</td>  <th>  Kurtosis:          </th>   <td>11.96</td> \n",
       "</tr>\n",
       "</table><br/><br/>Warnings:<br/>[1] Covariance matrix calculated using the outer product of gradients (complex-step).<br/>[2] Covariance matrix is singular or near-singular, with condition number 8.09e+18. Standard errors may be unstable."
      ],
      "text/plain": [
       "<class 'statsmodels.iolib.summary.Summary'>\n",
       "\"\"\"\n",
       "                               SARIMAX Results                                \n",
       "==============================================================================\n",
       "Dep. Variable:                      y   No. Observations:                 6288\n",
       "Model:               SARIMAX(2, 1, 4)   Log Likelihood               25625.390\n",
       "Date:                Fri, 07 Oct 2022   AIC                         -51212.781\n",
       "Time:                        21:03:18   BIC                         -51084.602\n",
       "Sample:                             0   HQIC                        -51168.373\n",
       "                               - 6288                                         \n",
       "Covariance Type:                  opg                                         \n",
       "==============================================================================\n",
       "                 coef    std err          z      P>|z|      [0.025      0.975]\n",
       "------------------------------------------------------------------------------\n",
       "intercept   1.301e-05   4.92e-05      0.265      0.791   -8.33e-05       0.000\n",
       "low           -0.0193      0.013     -1.449      0.147      -0.045       0.007\n",
       "high           0.0348      0.015      2.371      0.018       0.006       0.064\n",
       "open          -0.1952      0.015    -13.195      0.000      -0.224      -0.166\n",
       "close          0.5924      0.027     21.724      0.000       0.539       0.646\n",
       "volume        -0.0004      0.001     -0.480      0.631      -0.002       0.001\n",
       "adj close      0.3721      0.038      9.816      0.000       0.298       0.446\n",
       "mean           0.0079      0.010      0.827      0.408      -0.011       0.027\n",
       "dayofweek     -0.0002      0.000     -1.259      0.208      -0.000    8.59e-05\n",
       "quarter        0.0023      0.002      1.427      0.153      -0.001       0.005\n",
       "month          0.0032      0.003      0.987      0.324      -0.003       0.009\n",
       "year           0.1527      0.092      1.665      0.096      -0.027       0.332\n",
       "ar.L1         -0.5628      0.740     -0.760      0.447      -2.013       0.888\n",
       "ar.L2         -0.0223      0.173     -0.128      0.898      -0.362       0.317\n",
       "ma.L1          0.0579      0.740      0.078      0.938      -1.393       1.509\n",
       "ma.L2         -0.2936      0.505     -0.582      0.561      -1.283       0.696\n",
       "ma.L3          0.0316      0.072      0.436      0.663      -0.110       0.174\n",
       "ma.L4          0.0417      0.046      0.897      0.370      -0.049       0.133\n",
       "sigma2      1.684e-05   1.37e-07    122.920      0.000    1.66e-05    1.71e-05\n",
       "===================================================================================\n",
       "Ljung-Box (L1) (Q):                  34.13   Jarque-Bera (JB):             21153.57\n",
       "Prob(Q):                              0.00   Prob(JB):                         0.00\n",
       "Heteroskedasticity (H):              14.06   Skew:                            -0.37\n",
       "Prob(H) (two-sided):                  0.00   Kurtosis:                        11.96\n",
       "===================================================================================\n",
       "\n",
       "Warnings:\n",
       "[1] Covariance matrix calculated using the outer product of gradients (complex-step).\n",
       "[2] Covariance matrix is singular or near-singular, with condition number 8.09e+18. Standard errors may be unstable.\n",
       "\"\"\""
      ]
     },
     "execution_count": 36,
     "metadata": {},
     "output_type": "execute_result"
    }
   ],
   "source": [
    "ar.summary()"
   ]
  },
  {
   "cell_type": "code",
   "execution_count": 37,
   "id": "561f7744",
   "metadata": {},
   "outputs": [
    {
     "name": "stderr",
     "output_type": "stream",
     "text": [
      "/Users/macbook/opt/anaconda3/envs/Deep/lib/python3.8/site-packages/statsmodels/tsa/base/tsa_model.py:471: ValueWarning: A date index has been provided, but it has no associated frequency information and so will be ignored when e.g. forecasting.\n",
      "  self._init_dates(dates, freq)\n",
      "/Users/macbook/opt/anaconda3/envs/Deep/lib/python3.8/site-packages/statsmodels/tsa/base/tsa_model.py:471: ValueWarning: A date index has been provided, but it has no associated frequency information and so will be ignored when e.g. forecasting.\n",
      "  self._init_dates(dates, freq)\n"
     ]
    }
   ],
   "source": [
    "from statsmodels.tsa.statespace.sarimax import SARIMAX\n",
    "model= SARIMAX(train_y, \n",
    "           exog=train_X,\n",
    "              order=(2,1,4),\n",
    "              enforce_invertibility=False, enforce_stationarity=False)"
   ]
  },
  {
   "cell_type": "code",
   "execution_count": 38,
   "id": "0fb6298a",
   "metadata": {},
   "outputs": [
    {
     "name": "stderr",
     "output_type": "stream",
     "text": [
      " This problem is unconstrained.\n"
     ]
    },
    {
     "name": "stdout",
     "output_type": "stream",
     "text": [
      "RUNNING THE L-BFGS-B CODE\n",
      "\n",
      "           * * *\n",
      "\n",
      "Machine precision = 2.220D-16\n",
      " N =           18     M =           10\n",
      "\n",
      "At X0         0 variables are exactly at the bounds\n",
      "\n",
      "At iterate    0    f= -4.05625D+00    |proj g|=  9.82823D-01\n"
     ]
    },
    {
     "name": "stderr",
     "output_type": "stream",
     "text": [
      "\n",
      " Warning:  more than 10 function and gradient\n",
      "   evaluations in the last line search.  Termination\n",
      "   may possibly be caused by a bad search direction.\n"
     ]
    },
    {
     "name": "stdout",
     "output_type": "stream",
     "text": [
      "\n",
      "           * * *\n",
      "\n",
      "Tit   = total number of iterations\n",
      "Tnf   = total number of function evaluations\n",
      "Tnint = total number of segments explored during Cauchy searches\n",
      "Skip  = number of BFGS updates skipped\n",
      "Nact  = number of active bounds at final generalized Cauchy point\n",
      "Projg = norm of the final projected gradient\n",
      "F     = final function value\n",
      "\n",
      "           * * *\n",
      "\n",
      "   N    Tit     Tnf  Tnint  Skip  Nact     Projg        F\n",
      "   18      2     21      1     0     0   1.236D-01  -4.056D+00\n",
      "  F =  -4.0562548544421650     \n",
      "\n",
      "CONVERGENCE: REL_REDUCTION_OF_F_<=_FACTR*EPSMCH             \n",
      "1572\n"
     ]
    },
    {
     "name": "stderr",
     "output_type": "stream",
     "text": [
      "/Users/macbook/opt/anaconda3/envs/Deep/lib/python3.8/site-packages/statsmodels/tsa/base/tsa_model.py:834: ValueWarning: No supported index is available. Prediction results will be given with an integer index beginning at `start`.\n",
      "  return get_prediction_index(\n"
     ]
    }
   ],
   "source": [
    "results = model.fit()\n",
    "predictions= results.predict(start =train_size, end=train_size+test_size+(steps)-1,exog=test_X)\n",
    "print(len(predictions))"
   ]
  },
  {
   "cell_type": "code",
   "execution_count": 39,
   "id": "2de27680",
   "metadata": {},
   "outputs": [
    {
     "name": "stderr",
     "output_type": "stream",
     "text": [
      "/Users/macbook/opt/anaconda3/envs/Deep/lib/python3.8/site-packages/statsmodels/tsa/base/tsa_model.py:834: ValueWarning: No supported index is available. Prediction results will be given with an integer index beginning at `start`.\n",
      "  return get_prediction_index(\n"
     ]
    }
   ],
   "source": [
    "forecast_1= results.forecast(steps=test_size-1, exog=test_X)"
   ]
  },
  {
   "cell_type": "code",
   "execution_count": 40,
   "id": "ffd0fc48",
   "metadata": {},
   "outputs": [],
   "source": [
    "act= pd.DataFrame(scaler_output.iloc[train_size:, 0])"
   ]
  },
  {
   "cell_type": "code",
   "execution_count": 41,
   "id": "82d8a4ce",
   "metadata": {},
   "outputs": [
    {
     "data": {
      "text/html": [
       "<div>\n",
       "<style scoped>\n",
       "    .dataframe tbody tr th:only-of-type {\n",
       "        vertical-align: middle;\n",
       "    }\n",
       "\n",
       "    .dataframe tbody tr th {\n",
       "        vertical-align: top;\n",
       "    }\n",
       "\n",
       "    .dataframe thead th {\n",
       "        text-align: right;\n",
       "    }\n",
       "</style>\n",
       "<table border=\"1\" class=\"dataframe\">\n",
       "  <thead>\n",
       "    <tr style=\"text-align: right;\">\n",
       "      <th></th>\n",
       "      <th>price_next_day</th>\n",
       "    </tr>\n",
       "    <tr>\n",
       "      <th>date</th>\n",
       "      <th></th>\n",
       "    </tr>\n",
       "  </thead>\n",
       "  <tbody>\n",
       "    <tr>\n",
       "      <th>2016-07-21</th>\n",
       "      <td>0.683770</td>\n",
       "    </tr>\n",
       "    <tr>\n",
       "      <th>2016-07-22</th>\n",
       "      <td>0.691087</td>\n",
       "    </tr>\n",
       "    <tr>\n",
       "      <th>2016-07-25</th>\n",
       "      <td>0.690461</td>\n",
       "    </tr>\n",
       "    <tr>\n",
       "      <th>2016-07-26</th>\n",
       "      <td>0.693591</td>\n",
       "    </tr>\n",
       "    <tr>\n",
       "      <th>2016-07-27</th>\n",
       "      <td>0.693494</td>\n",
       "    </tr>\n",
       "  </tbody>\n",
       "</table>\n",
       "</div>"
      ],
      "text/plain": [
       "            price_next_day\n",
       "date                      \n",
       "2016-07-21        0.683770\n",
       "2016-07-22        0.691087\n",
       "2016-07-25        0.690461\n",
       "2016-07-26        0.693591\n",
       "2016-07-27        0.693494"
      ]
     },
     "execution_count": 41,
     "metadata": {},
     "output_type": "execute_result"
    }
   ],
   "source": [
    "act.head()"
   ]
  },
  {
   "cell_type": "code",
   "execution_count": 42,
   "id": "41491676",
   "metadata": {},
   "outputs": [],
   "source": [
    "fc_cba= pd.DataFrame(forecast_1)\n",
    "fc_cba.reset_index(drop=True, inplace=True)\n",
    "fc_cba.index=test_X.index\n",
    "fc_cba['actual'] =scaler_output.iloc[train_size:, 0]\n",
    "fc_cba.rename(columns={0:'forecast'}, inplace= True)"
   ]
  },
  {
   "cell_type": "code",
   "execution_count": 43,
   "id": "99da3d45",
   "metadata": {},
   "outputs": [
    {
     "data": {
      "text/html": [
       "<div>\n",
       "<style scoped>\n",
       "    .dataframe tbody tr th:only-of-type {\n",
       "        vertical-align: middle;\n",
       "    }\n",
       "\n",
       "    .dataframe tbody tr th {\n",
       "        vertical-align: top;\n",
       "    }\n",
       "\n",
       "    .dataframe thead th {\n",
       "        text-align: right;\n",
       "    }\n",
       "</style>\n",
       "<table border=\"1\" class=\"dataframe\">\n",
       "  <thead>\n",
       "    <tr style=\"text-align: right;\">\n",
       "      <th></th>\n",
       "      <th>predicted_mean</th>\n",
       "      <th>actual</th>\n",
       "    </tr>\n",
       "    <tr>\n",
       "      <th>date</th>\n",
       "      <th></th>\n",
       "      <th></th>\n",
       "    </tr>\n",
       "  </thead>\n",
       "  <tbody>\n",
       "    <tr>\n",
       "      <th>2016-07-21</th>\n",
       "      <td>0.684961</td>\n",
       "      <td>0.683770</td>\n",
       "    </tr>\n",
       "    <tr>\n",
       "      <th>2016-07-22</th>\n",
       "      <td>0.686572</td>\n",
       "      <td>0.691087</td>\n",
       "    </tr>\n",
       "    <tr>\n",
       "      <th>2016-07-25</th>\n",
       "      <td>0.686946</td>\n",
       "      <td>0.690461</td>\n",
       "    </tr>\n",
       "    <tr>\n",
       "      <th>2016-07-26</th>\n",
       "      <td>0.689187</td>\n",
       "      <td>0.693591</td>\n",
       "    </tr>\n",
       "    <tr>\n",
       "      <th>2016-07-27</th>\n",
       "      <td>0.687717</td>\n",
       "      <td>0.693494</td>\n",
       "    </tr>\n",
       "  </tbody>\n",
       "</table>\n",
       "</div>"
      ],
      "text/plain": [
       "            predicted_mean    actual\n",
       "date                                \n",
       "2016-07-21        0.684961  0.683770\n",
       "2016-07-22        0.686572  0.691087\n",
       "2016-07-25        0.686946  0.690461\n",
       "2016-07-26        0.689187  0.693591\n",
       "2016-07-27        0.687717  0.693494"
      ]
     },
     "execution_count": 43,
     "metadata": {},
     "output_type": "execute_result"
    }
   ],
   "source": [
    "fc_cba.head()"
   ]
  },
  {
   "cell_type": "code",
   "execution_count": 44,
   "id": "d4ab535b",
   "metadata": {},
   "outputs": [],
   "source": [
    "fc_cba.columns = ['forecast', 'actual']"
   ]
  },
  {
   "cell_type": "code",
   "execution_count": 45,
   "id": "2362d279",
   "metadata": {},
   "outputs": [
    {
     "data": {
      "text/html": [
       "<div>\n",
       "<style scoped>\n",
       "    .dataframe tbody tr th:only-of-type {\n",
       "        vertical-align: middle;\n",
       "    }\n",
       "\n",
       "    .dataframe tbody tr th {\n",
       "        vertical-align: top;\n",
       "    }\n",
       "\n",
       "    .dataframe thead th {\n",
       "        text-align: right;\n",
       "    }\n",
       "</style>\n",
       "<table border=\"1\" class=\"dataframe\">\n",
       "  <thead>\n",
       "    <tr style=\"text-align: right;\">\n",
       "      <th></th>\n",
       "      <th>forecast</th>\n",
       "      <th>actual</th>\n",
       "    </tr>\n",
       "    <tr>\n",
       "      <th>date</th>\n",
       "      <th></th>\n",
       "      <th></th>\n",
       "    </tr>\n",
       "  </thead>\n",
       "  <tbody>\n",
       "    <tr>\n",
       "      <th>2016-07-21</th>\n",
       "      <td>0.684961</td>\n",
       "      <td>0.683770</td>\n",
       "    </tr>\n",
       "    <tr>\n",
       "      <th>2016-07-22</th>\n",
       "      <td>0.686572</td>\n",
       "      <td>0.691087</td>\n",
       "    </tr>\n",
       "    <tr>\n",
       "      <th>2016-07-25</th>\n",
       "      <td>0.686946</td>\n",
       "      <td>0.690461</td>\n",
       "    </tr>\n",
       "    <tr>\n",
       "      <th>2016-07-26</th>\n",
       "      <td>0.689187</td>\n",
       "      <td>0.693591</td>\n",
       "    </tr>\n",
       "    <tr>\n",
       "      <th>2016-07-27</th>\n",
       "      <td>0.687717</td>\n",
       "      <td>0.693494</td>\n",
       "    </tr>\n",
       "  </tbody>\n",
       "</table>\n",
       "</div>"
      ],
      "text/plain": [
       "            forecast    actual\n",
       "date                          \n",
       "2016-07-21  0.684961  0.683770\n",
       "2016-07-22  0.686572  0.691087\n",
       "2016-07-25  0.686946  0.690461\n",
       "2016-07-26  0.689187  0.693591\n",
       "2016-07-27  0.687717  0.693494"
      ]
     },
     "execution_count": 45,
     "metadata": {},
     "output_type": "execute_result"
    }
   ],
   "source": [
    "fc_cba.head()"
   ]
  },
  {
   "cell_type": "code",
   "execution_count": 55,
   "id": "8d054b0c",
   "metadata": {
    "scrolled": true
   },
   "outputs": [
    {
     "data": {
      "image/png": "[encoded data removed]",
      "text/plain": [
       "<Figure size 432x288 with 1 Axes>"
      ]
     },
     "metadata": {
      "needs_background": "light"
     },
     "output_type": "display_data"
    }
   ],
   "source": [
    "fc_cba['forecast'].plot(legend=True)\n",
    "fc_cba['actual'].plot(legend=True)\n",
    "plt.savefig('PriceResults')"
   ]
  },
  {
   "cell_type": "code",
   "execution_count": 54,
   "id": "edd51144",
   "metadata": {},
   "outputs": [
    {
     "data": {
      "text/plain": [
       "<Figure size 432x288 with 0 Axes>"
      ]
     },
     "metadata": {},
     "output_type": "display_data"
    }
   ],
   "source": [
    "predictions=pd.DataFrame(predictions)\n",
    "predictions.reset_index(drop=True, inplace=True)\n",
    "predictions.index=test_X.index\n",
    "predictions['actual'] = act['price_next_day']\n",
    "predictions.columns = ['pred', 'actual']\n"
   ]
  },
  {
   "cell_type": "code",
   "execution_count": 56,
   "id": "a5bbe740",
   "metadata": {},
   "outputs": [
    {
     "data": {
      "text/html": [
       "<div>\n",
       "<style scoped>\n",
       "    .dataframe tbody tr th:only-of-type {\n",
       "        vertical-align: middle;\n",
       "    }\n",
       "\n",
       "    .dataframe tbody tr th {\n",
       "        vertical-align: top;\n",
       "    }\n",
       "\n",
       "    .dataframe thead th {\n",
       "        text-align: right;\n",
       "    }\n",
       "</style>\n",
       "<table border=\"1\" class=\"dataframe\">\n",
       "  <thead>\n",
       "    <tr style=\"text-align: right;\">\n",
       "      <th></th>\n",
       "      <th>pred</th>\n",
       "      <th>actual</th>\n",
       "    </tr>\n",
       "    <tr>\n",
       "      <th>date</th>\n",
       "      <th></th>\n",
       "      <th></th>\n",
       "    </tr>\n",
       "  </thead>\n",
       "  <tbody>\n",
       "    <tr>\n",
       "      <th>2016-07-21</th>\n",
       "      <td>0.684961</td>\n",
       "      <td>0.683770</td>\n",
       "    </tr>\n",
       "    <tr>\n",
       "      <th>2016-07-22</th>\n",
       "      <td>0.686572</td>\n",
       "      <td>0.691087</td>\n",
       "    </tr>\n",
       "    <tr>\n",
       "      <th>2016-07-25</th>\n",
       "      <td>0.686946</td>\n",
       "      <td>0.690461</td>\n",
       "    </tr>\n",
       "    <tr>\n",
       "      <th>2016-07-26</th>\n",
       "      <td>0.689187</td>\n",
       "      <td>0.693591</td>\n",
       "    </tr>\n",
       "    <tr>\n",
       "      <th>2016-07-27</th>\n",
       "      <td>0.687717</td>\n",
       "      <td>0.693494</td>\n",
       "    </tr>\n",
       "    <tr>\n",
       "      <th>...</th>\n",
       "      <td>...</td>\n",
       "      <td>...</td>\n",
       "    </tr>\n",
       "    <tr>\n",
       "      <th>2022-09-28</th>\n",
       "      <td>0.812163</td>\n",
       "      <td>0.845231</td>\n",
       "    </tr>\n",
       "    <tr>\n",
       "      <th>2022-09-29</th>\n",
       "      <td>0.811893</td>\n",
       "      <td>0.826841</td>\n",
       "    </tr>\n",
       "    <tr>\n",
       "      <th>2022-09-30</th>\n",
       "      <td>0.802460</td>\n",
       "      <td>0.814999</td>\n",
       "    </tr>\n",
       "    <tr>\n",
       "      <th>2022-10-03</th>\n",
       "      <td>0.807064</td>\n",
       "      <td>0.842583</td>\n",
       "    </tr>\n",
       "    <tr>\n",
       "      <th>2022-10-04</th>\n",
       "      <td>0.825109</td>\n",
       "      <td>0.874500</td>\n",
       "    </tr>\n",
       "  </tbody>\n",
       "</table>\n",
       "<p>1572 rows × 2 columns</p>\n",
       "</div>"
      ],
      "text/plain": [
       "                pred    actual\n",
       "date                          \n",
       "2016-07-21  0.684961  0.683770\n",
       "2016-07-22  0.686572  0.691087\n",
       "2016-07-25  0.686946  0.690461\n",
       "2016-07-26  0.689187  0.693591\n",
       "2016-07-27  0.687717  0.693494\n",
       "...              ...       ...\n",
       "2022-09-28  0.812163  0.845231\n",
       "2022-09-29  0.811893  0.826841\n",
       "2022-09-30  0.802460  0.814999\n",
       "2022-10-03  0.807064  0.842583\n",
       "2022-10-04  0.825109  0.874500\n",
       "\n",
       "[1572 rows x 2 columns]"
      ]
     },
     "execution_count": 56,
     "metadata": {},
     "output_type": "execute_result"
    }
   ],
   "source": [
    "predictions"
   ]
  },
  {
   "cell_type": "code",
   "execution_count": 57,
   "id": "d70f2044",
   "metadata": {},
   "outputs": [
    {
     "data": {
      "text/plain": [
       "0.06995453294507777"
      ]
     },
     "execution_count": 57,
     "metadata": {},
     "output_type": "execute_result"
    }
   ],
   "source": [
    "from statsmodels.tools.eval_measures import rmse\n",
    "error=rmse(predictions['pred'], predictions['actual'])\n",
    "error"
   ]
  },
  {
   "cell_type": "code",
   "execution_count": null,
   "id": "fd6a2c16",
   "metadata": {},
   "outputs": [],
   "source": []
  },
  {
   "cell_type": "code",
   "execution_count": null,
   "id": "6a4705b7",
   "metadata": {},
   "outputs": [],
   "source": []
  },
  {
   "cell_type": "code",
   "execution_count": null,
   "id": "a42e0ae4",
   "metadata": {},
   "outputs": [],
   "source": []
  },
  {
   "cell_type": "code",
   "execution_count": null,
   "id": "c9b2530c",
   "metadata": {},
   "outputs": [],
   "source": []
  },
  {
   "cell_type": "code",
   "execution_count": null,
   "id": "c26483c2",
   "metadata": {},
   "outputs": [],
   "source": []
  },
  {
   "cell_type": "code",
   "execution_count": null,
   "id": "bb043356",
   "metadata": {},
   "outputs": [],
   "source": []
  },
  {
   "cell_type": "code",
   "execution_count": null,
   "id": "1dbbfaa9",
   "metadata": {},
   "outputs": [],
   "source": []
  },
  {
   "cell_type": "code",
   "execution_count": null,
   "id": "6f152578",
   "metadata": {},
   "outputs": [],
   "source": []
  }
 ],
 "metadata": {
  "kernelspec": {
   "display_name": "Python 3 (ipykernel)",
   "language": "python",
   "name": "python3"
  },
  "language_info": {
   "codemirror_mode": {
    "name": "ipython",
    "version": 3
   },
   "file_extension": ".py",
   "mimetype": "text/x-python",
   "name": "python",
   "nbconvert_exporter": "python",
   "pygments_lexer": "ipython3",
   "version": "3.8.13"
  }
 },
 "nbformat": 4,
 "nbformat_minor": 5
}
