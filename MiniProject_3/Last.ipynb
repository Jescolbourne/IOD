{
 "cells": [
  {
   "cell_type": "code",
   "execution_count": 110,
   "id": "7023ee89",
   "metadata": {},
   "outputs": [],
   "source": [
    "import numpy as np # linear algebra\n",
    "import pandas as pd # data processing, CSV file I/O (e.g. pd.read_csv)\n",
    "import os\n",
    "from subprocess import check_output\n",
    "import seaborn as sns\n",
    "import matplotlib.pyplot as plt\n",
    "import warnings\n",
    "from pandas.plotting import lag_plot\n",
    "from pandas import datetime\n",
    "from statsmodels.tsa.arima_model import ARIMA\n",
    "from sklearn import preprocessing\n",
    "from sklearn.preprocessing import StandardScaler\n",
    "from sklearn.preprocessing import MinMaxScaler\n",
    "from statsmodels.tools.eval_measures import rmse\n",
    "from sklearn.metrics import mean_squared_error\n",
    "from sklearn.metrics import r2_score, median_absolute_error, mean_absolute_error\n",
    "from sklearn.metrics import median_absolute_error, mean_squared_error, mean_squared_log_error\n",
    "\n",
    "from scipy.optimize import minimize\n",
    "import statsmodels.tsa.api as smt\n",
    "import statsmodels.api as sm\n",
    "\n",
    "from tqdm import tqdm_notebook\n",
    "\n",
    "from itertools import product\n",
    "warnings.filterwarnings('ignore')"
   ]
  },
  {
   "cell_type": "code",
   "execution_count": 2,
   "id": "acec620a",
   "metadata": {},
   "outputs": [],
   "source": [
    "cba = pd.read_excel('CBAmax.xls')"
   ]
  },
  {
   "cell_type": "code",
   "execution_count": 3,
   "id": "1c08d094",
   "metadata": {},
   "outputs": [
    {
     "data": {
      "text/html": [
       "<div>\n",
       "<style scoped>\n",
       "    .dataframe tbody tr th:only-of-type {\n",
       "        vertical-align: middle;\n",
       "    }\n",
       "\n",
       "    .dataframe tbody tr th {\n",
       "        vertical-align: top;\n",
       "    }\n",
       "\n",
       "    .dataframe thead th {\n",
       "        text-align: right;\n",
       "    }\n",
       "</style>\n",
       "<table border=\"1\" class=\"dataframe\">\n",
       "  <thead>\n",
       "    <tr style=\"text-align: right;\">\n",
       "      <th></th>\n",
       "      <th>Date</th>\n",
       "      <th>Open</th>\n",
       "      <th>High</th>\n",
       "      <th>Low</th>\n",
       "      <th>Close</th>\n",
       "      <th>Adj Close</th>\n",
       "      <th>Volume</th>\n",
       "    </tr>\n",
       "  </thead>\n",
       "  <tbody>\n",
       "    <tr>\n",
       "      <th>0</th>\n",
       "      <td>1991-10-01</td>\n",
       "      <td>6.78662</td>\n",
       "      <td>6.78662</td>\n",
       "      <td>6.78662</td>\n",
       "      <td>6.78662</td>\n",
       "      <td>1.290987</td>\n",
       "      <td>0</td>\n",
       "    </tr>\n",
       "    <tr>\n",
       "      <th>1</th>\n",
       "      <td>1991-10-02</td>\n",
       "      <td>6.78662</td>\n",
       "      <td>6.78662</td>\n",
       "      <td>6.78662</td>\n",
       "      <td>6.78662</td>\n",
       "      <td>1.290987</td>\n",
       "      <td>0</td>\n",
       "    </tr>\n",
       "    <tr>\n",
       "      <th>2</th>\n",
       "      <td>1991-10-03</td>\n",
       "      <td>6.78662</td>\n",
       "      <td>6.78662</td>\n",
       "      <td>6.78662</td>\n",
       "      <td>6.78662</td>\n",
       "      <td>1.290987</td>\n",
       "      <td>0</td>\n",
       "    </tr>\n",
       "    <tr>\n",
       "      <th>3</th>\n",
       "      <td>1991-10-04</td>\n",
       "      <td>6.78662</td>\n",
       "      <td>6.78662</td>\n",
       "      <td>6.78662</td>\n",
       "      <td>6.78662</td>\n",
       "      <td>1.290987</td>\n",
       "      <td>0</td>\n",
       "    </tr>\n",
       "    <tr>\n",
       "      <th>4</th>\n",
       "      <td>1991-10-07</td>\n",
       "      <td>6.78662</td>\n",
       "      <td>6.78662</td>\n",
       "      <td>6.78662</td>\n",
       "      <td>6.78662</td>\n",
       "      <td>1.290987</td>\n",
       "      <td>0</td>\n",
       "    </tr>\n",
       "  </tbody>\n",
       "</table>\n",
       "</div>"
      ],
      "text/plain": [
       "        Date     Open     High      Low    Close  Adj Close  Volume\n",
       "0 1991-10-01  6.78662  6.78662  6.78662  6.78662   1.290987       0\n",
       "1 1991-10-02  6.78662  6.78662  6.78662  6.78662   1.290987       0\n",
       "2 1991-10-03  6.78662  6.78662  6.78662  6.78662   1.290987       0\n",
       "3 1991-10-04  6.78662  6.78662  6.78662  6.78662   1.290987       0\n",
       "4 1991-10-07  6.78662  6.78662  6.78662  6.78662   1.290987       0"
      ]
     },
     "execution_count": 3,
     "metadata": {},
     "output_type": "execute_result"
    }
   ],
   "source": [
    "cba.head()"
   ]
  },
  {
   "cell_type": "code",
   "execution_count": 4,
   "id": "1054c552",
   "metadata": {},
   "outputs": [
    {
     "data": {
      "text/html": [
       "<div>\n",
       "<style scoped>\n",
       "    .dataframe tbody tr th:only-of-type {\n",
       "        vertical-align: middle;\n",
       "    }\n",
       "\n",
       "    .dataframe tbody tr th {\n",
       "        vertical-align: top;\n",
       "    }\n",
       "\n",
       "    .dataframe thead th {\n",
       "        text-align: right;\n",
       "    }\n",
       "</style>\n",
       "<table border=\"1\" class=\"dataframe\">\n",
       "  <thead>\n",
       "    <tr style=\"text-align: right;\">\n",
       "      <th></th>\n",
       "      <th>Date</th>\n",
       "      <th>Open</th>\n",
       "      <th>High</th>\n",
       "      <th>Low</th>\n",
       "      <th>Close</th>\n",
       "      <th>Adj Close</th>\n",
       "      <th>Volume</th>\n",
       "    </tr>\n",
       "  </thead>\n",
       "  <tbody>\n",
       "    <tr>\n",
       "      <th>7856</th>\n",
       "      <td>2022-09-29</td>\n",
       "      <td>93.830002</td>\n",
       "      <td>94.190002</td>\n",
       "      <td>93.120003</td>\n",
       "      <td>93.120003</td>\n",
       "      <td>93.120003</td>\n",
       "      <td>2094138</td>\n",
       "    </tr>\n",
       "    <tr>\n",
       "      <th>7857</th>\n",
       "      <td>2022-09-30</td>\n",
       "      <td>93.220001</td>\n",
       "      <td>93.230003</td>\n",
       "      <td>90.260002</td>\n",
       "      <td>90.699997</td>\n",
       "      <td>90.699997</td>\n",
       "      <td>3741428</td>\n",
       "    </tr>\n",
       "    <tr>\n",
       "      <th>7858</th>\n",
       "      <td>2022-10-03</td>\n",
       "      <td>91.150002</td>\n",
       "      <td>91.370003</td>\n",
       "      <td>89.660004</td>\n",
       "      <td>90.610001</td>\n",
       "      <td>90.610001</td>\n",
       "      <td>2038034</td>\n",
       "    </tr>\n",
       "    <tr>\n",
       "      <th>7859</th>\n",
       "      <td>2022-10-04</td>\n",
       "      <td>92.000000</td>\n",
       "      <td>94.870003</td>\n",
       "      <td>91.889999</td>\n",
       "      <td>94.790001</td>\n",
       "      <td>94.790001</td>\n",
       "      <td>3030551</td>\n",
       "    </tr>\n",
       "    <tr>\n",
       "      <th>7860</th>\n",
       "      <td>2022-10-05</td>\n",
       "      <td>95.989998</td>\n",
       "      <td>97.599998</td>\n",
       "      <td>95.790001</td>\n",
       "      <td>97.290001</td>\n",
       "      <td>97.290001</td>\n",
       "      <td>3840988</td>\n",
       "    </tr>\n",
       "  </tbody>\n",
       "</table>\n",
       "</div>"
      ],
      "text/plain": [
       "           Date       Open       High        Low      Close  Adj Close  \\\n",
       "7856 2022-09-29  93.830002  94.190002  93.120003  93.120003  93.120003   \n",
       "7857 2022-09-30  93.220001  93.230003  90.260002  90.699997  90.699997   \n",
       "7858 2022-10-03  91.150002  91.370003  89.660004  90.610001  90.610001   \n",
       "7859 2022-10-04  92.000000  94.870003  91.889999  94.790001  94.790001   \n",
       "7860 2022-10-05  95.989998  97.599998  95.790001  97.290001  97.290001   \n",
       "\n",
       "       Volume  \n",
       "7856  2094138  \n",
       "7857  3741428  \n",
       "7858  2038034  \n",
       "7859  3030551  \n",
       "7860  3840988  "
      ]
     },
     "execution_count": 4,
     "metadata": {},
     "output_type": "execute_result"
    }
   ],
   "source": [
    "cba.tail()"
   ]
  },
  {
   "cell_type": "code",
   "execution_count": 5,
   "id": "8b73a569",
   "metadata": {},
   "outputs": [],
   "source": [
    "cba.columns = cba.columns.str.lower()"
   ]
  },
  {
   "cell_type": "code",
   "execution_count": 6,
   "id": "aaa7d0f1",
   "metadata": {},
   "outputs": [],
   "source": [
    "cba['movement'] = cba['close']-cba['open']"
   ]
  },
  {
   "cell_type": "code",
   "execution_count": 7,
   "id": "723bfbc1",
   "metadata": {},
   "outputs": [
    {
     "data": {
      "text/html": [
       "<div>\n",
       "<style scoped>\n",
       "    .dataframe tbody tr th:only-of-type {\n",
       "        vertical-align: middle;\n",
       "    }\n",
       "\n",
       "    .dataframe tbody tr th {\n",
       "        vertical-align: top;\n",
       "    }\n",
       "\n",
       "    .dataframe thead th {\n",
       "        text-align: right;\n",
       "    }\n",
       "</style>\n",
       "<table border=\"1\" class=\"dataframe\">\n",
       "  <thead>\n",
       "    <tr style=\"text-align: right;\">\n",
       "      <th></th>\n",
       "      <th>date</th>\n",
       "      <th>open</th>\n",
       "      <th>high</th>\n",
       "      <th>low</th>\n",
       "      <th>close</th>\n",
       "      <th>adj close</th>\n",
       "      <th>volume</th>\n",
       "      <th>movement</th>\n",
       "    </tr>\n",
       "  </thead>\n",
       "  <tbody>\n",
       "    <tr>\n",
       "      <th>0</th>\n",
       "      <td>1991-10-01</td>\n",
       "      <td>6.78662</td>\n",
       "      <td>6.78662</td>\n",
       "      <td>6.78662</td>\n",
       "      <td>6.78662</td>\n",
       "      <td>1.290987</td>\n",
       "      <td>0</td>\n",
       "      <td>0.0</td>\n",
       "    </tr>\n",
       "    <tr>\n",
       "      <th>1</th>\n",
       "      <td>1991-10-02</td>\n",
       "      <td>6.78662</td>\n",
       "      <td>6.78662</td>\n",
       "      <td>6.78662</td>\n",
       "      <td>6.78662</td>\n",
       "      <td>1.290987</td>\n",
       "      <td>0</td>\n",
       "      <td>0.0</td>\n",
       "    </tr>\n",
       "    <tr>\n",
       "      <th>2</th>\n",
       "      <td>1991-10-03</td>\n",
       "      <td>6.78662</td>\n",
       "      <td>6.78662</td>\n",
       "      <td>6.78662</td>\n",
       "      <td>6.78662</td>\n",
       "      <td>1.290987</td>\n",
       "      <td>0</td>\n",
       "      <td>0.0</td>\n",
       "    </tr>\n",
       "    <tr>\n",
       "      <th>3</th>\n",
       "      <td>1991-10-04</td>\n",
       "      <td>6.78662</td>\n",
       "      <td>6.78662</td>\n",
       "      <td>6.78662</td>\n",
       "      <td>6.78662</td>\n",
       "      <td>1.290987</td>\n",
       "      <td>0</td>\n",
       "      <td>0.0</td>\n",
       "    </tr>\n",
       "    <tr>\n",
       "      <th>4</th>\n",
       "      <td>1991-10-07</td>\n",
       "      <td>6.78662</td>\n",
       "      <td>6.78662</td>\n",
       "      <td>6.78662</td>\n",
       "      <td>6.78662</td>\n",
       "      <td>1.290987</td>\n",
       "      <td>0</td>\n",
       "      <td>0.0</td>\n",
       "    </tr>\n",
       "  </tbody>\n",
       "</table>\n",
       "</div>"
      ],
      "text/plain": [
       "        date     open     high      low    close  adj close  volume  movement\n",
       "0 1991-10-01  6.78662  6.78662  6.78662  6.78662   1.290987       0       0.0\n",
       "1 1991-10-02  6.78662  6.78662  6.78662  6.78662   1.290987       0       0.0\n",
       "2 1991-10-03  6.78662  6.78662  6.78662  6.78662   1.290987       0       0.0\n",
       "3 1991-10-04  6.78662  6.78662  6.78662  6.78662   1.290987       0       0.0\n",
       "4 1991-10-07  6.78662  6.78662  6.78662  6.78662   1.290987       0       0.0"
      ]
     },
     "execution_count": 7,
     "metadata": {},
     "output_type": "execute_result"
    }
   ],
   "source": [
    "cba.head()"
   ]
  },
  {
   "cell_type": "code",
   "execution_count": 168,
   "id": "b19ba7cd",
   "metadata": {},
   "outputs": [
    {
     "data": {
      "text/plain": [
       "(7861, 8)"
      ]
     },
     "execution_count": 168,
     "metadata": {},
     "output_type": "execute_result"
    }
   ],
   "source": [
    "cba.shape"
   ]
  },
  {
   "cell_type": "code",
   "execution_count": 111,
   "id": "171e620e",
   "metadata": {},
   "outputs": [
    {
     "data": {
      "text/plain": [
       "<Figure size 720x576 with 0 Axes>"
      ]
     },
     "metadata": {},
     "output_type": "display_data"
    },
    {
     "data": {
      "image/png": "[encoded data removed]",
      "text/plain": [
       "<Figure size 360x360 with 1 Axes>"
      ]
     },
     "metadata": {
      "needs_background": "light"
     },
     "output_type": "display_data"
    }
   ],
   "source": [
    "plt.figure(figsize=(10,8))\n",
    "sns.lmplot(x='volume', y='movement', data=cba);\n",
    "plt.savefig('cbamovement')\n",
    "plt.show()"
   ]
  },
  {
   "cell_type": "code",
   "execution_count": 115,
   "id": "638e2ee4",
   "metadata": {},
   "outputs": [
    {
     "data": {
      "text/plain": [
       "<AxesSubplot:>"
      ]
     },
     "execution_count": 115,
     "metadata": {},
     "output_type": "execute_result"
    },
    {
     "data": {
      "image/png": "[encoded data removed]",
      "text/plain": [
       "<Figure size 432x288 with 1 Axes>"
      ]
     },
     "metadata": {
      "needs_background": "light"
     },
     "output_type": "display_data"
    }
   ],
   "source": [
    "cba['volume'].hist()"
   ]
  },
  {
   "cell_type": "code",
   "execution_count": 116,
   "id": "ca7e4200",
   "metadata": {},
   "outputs": [
    {
     "data": {
      "text/plain": [
       "<AxesSubplot:>"
      ]
     },
     "execution_count": 116,
     "metadata": {},
     "output_type": "execute_result"
    },
    {
     "data": {
      "image/png": "[encoded data removed]",
      "text/plain": [
       "<Figure size 432x288 with 1 Axes>"
      ]
     },
     "metadata": {
      "needs_background": "light"
     },
     "output_type": "display_data"
    }
   ],
   "source": [
    "cba['movement'].hist()"
   ]
  },
  {
   "cell_type": "code",
   "execution_count": 118,
   "id": "16f64db0",
   "metadata": {},
   "outputs": [
    {
     "data": {
      "image/png": "[encoded data removed]",
      "text/plain": [
       "<Figure size 1080x360 with 1 Axes>"
      ]
     },
     "metadata": {
      "needs_background": "light"
     },
     "output_type": "display_data"
    }
   ],
   "source": [
    "cba['movement'].plot(style='-', figsize=(15, 5))\n",
    "plt.ylabel('Price movement')\n",
    "plt.xlabel('Liftime movement')\n",
    "plt.savefig('LifetimeMovement')\n",
    "plt.show()"
   ]
  },
  {
   "cell_type": "code",
   "execution_count": 119,
   "id": "b2aaae2f",
   "metadata": {},
   "outputs": [
    {
     "data": {
      "image/png": "[encoded data removed]",
      "text/plain": [
       "<Figure size 1080x360 with 1 Axes>"
      ]
     },
     "metadata": {
      "needs_background": "light"
     },
     "output_type": "display_data"
    }
   ],
   "source": [
    "cba['volume'].plot(style='-', figsize=(15, 5))\n",
    "plt.ylabel('Volume')\n",
    "plt.xlabel('Liftime volume')\n",
    "plt.savefig('LifetimeVolume')\n",
    "plt.show()"
   ]
  },
  {
   "cell_type": "code",
   "execution_count": 120,
   "id": "f564d4b5",
   "metadata": {},
   "outputs": [
    {
     "data": {
      "image/png": "[encoded data removed]",
      "text/plain": [
       "<Figure size 1080x360 with 1 Axes>"
      ]
     },
     "metadata": {
      "needs_background": "light"
     },
     "output_type": "display_data"
    }
   ],
   "source": [
    "cba['close'].plot(style='-', figsize=(15, 5))\n",
    "plt.ylabel('Closing value')\n",
    "plt.xlabel('Closing value over its lifetime')\n",
    "plt.savefig('Closing price')\n",
    "plt.show()\n",
    "plt.show()"
   ]
  },
  {
   "cell_type": "code",
   "execution_count": 14,
   "id": "894e6abd",
   "metadata": {},
   "outputs": [],
   "source": [
    "import datetime\n",
    "\n",
    "def str_to_datetime(s):\n",
    "  split = s.split('-')\n",
    "  year, month, day = int(split[0]), int(split[1]), int(split[2])\n",
    "  return datetime.datetime(year=year, month=month, day=day)"
   ]
  },
  {
   "cell_type": "code",
   "execution_count": 15,
   "id": "b72b2866",
   "metadata": {},
   "outputs": [
    {
     "data": {
      "text/plain": [
       "datetime.datetime(2017, 9, 21, 0, 0)"
      ]
     },
     "execution_count": 15,
     "metadata": {},
     "output_type": "execute_result"
    }
   ],
   "source": [
    "datetime_object = str_to_datetime('2017-09-21')\n",
    "datetime_object"
   ]
  },
  {
   "cell_type": "code",
   "execution_count": 16,
   "id": "70372cff",
   "metadata": {},
   "outputs": [],
   "source": [
    "cba_mm = cba.drop(labels = ['open', 'high', 'low', 'close', 'adj close', 'volume'], axis=1)"
   ]
  },
  {
   "cell_type": "code",
   "execution_count": 17,
   "id": "416f89c0",
   "metadata": {},
   "outputs": [
    {
     "data": {
      "text/html": [
       "<div>\n",
       "<style scoped>\n",
       "    .dataframe tbody tr th:only-of-type {\n",
       "        vertical-align: middle;\n",
       "    }\n",
       "\n",
       "    .dataframe tbody tr th {\n",
       "        vertical-align: top;\n",
       "    }\n",
       "\n",
       "    .dataframe thead th {\n",
       "        text-align: right;\n",
       "    }\n",
       "</style>\n",
       "<table border=\"1\" class=\"dataframe\">\n",
       "  <thead>\n",
       "    <tr style=\"text-align: right;\">\n",
       "      <th></th>\n",
       "      <th>date</th>\n",
       "      <th>movement</th>\n",
       "    </tr>\n",
       "  </thead>\n",
       "  <tbody>\n",
       "    <tr>\n",
       "      <th>0</th>\n",
       "      <td>1991-10-01</td>\n",
       "      <td>0.000000</td>\n",
       "    </tr>\n",
       "    <tr>\n",
       "      <th>1</th>\n",
       "      <td>1991-10-02</td>\n",
       "      <td>0.000000</td>\n",
       "    </tr>\n",
       "    <tr>\n",
       "      <th>2</th>\n",
       "      <td>1991-10-03</td>\n",
       "      <td>0.000000</td>\n",
       "    </tr>\n",
       "    <tr>\n",
       "      <th>3</th>\n",
       "      <td>1991-10-04</td>\n",
       "      <td>0.000000</td>\n",
       "    </tr>\n",
       "    <tr>\n",
       "      <th>4</th>\n",
       "      <td>1991-10-07</td>\n",
       "      <td>0.000000</td>\n",
       "    </tr>\n",
       "    <tr>\n",
       "      <th>...</th>\n",
       "      <td>...</td>\n",
       "      <td>...</td>\n",
       "    </tr>\n",
       "    <tr>\n",
       "      <th>7856</th>\n",
       "      <td>2022-09-29</td>\n",
       "      <td>-0.709999</td>\n",
       "    </tr>\n",
       "    <tr>\n",
       "      <th>7857</th>\n",
       "      <td>2022-09-30</td>\n",
       "      <td>-2.520004</td>\n",
       "    </tr>\n",
       "    <tr>\n",
       "      <th>7858</th>\n",
       "      <td>2022-10-03</td>\n",
       "      <td>-0.540001</td>\n",
       "    </tr>\n",
       "    <tr>\n",
       "      <th>7859</th>\n",
       "      <td>2022-10-04</td>\n",
       "      <td>2.790001</td>\n",
       "    </tr>\n",
       "    <tr>\n",
       "      <th>7860</th>\n",
       "      <td>2022-10-05</td>\n",
       "      <td>1.300003</td>\n",
       "    </tr>\n",
       "  </tbody>\n",
       "</table>\n",
       "<p>7861 rows × 2 columns</p>\n",
       "</div>"
      ],
      "text/plain": [
       "           date  movement\n",
       "0    1991-10-01  0.000000\n",
       "1    1991-10-02  0.000000\n",
       "2    1991-10-03  0.000000\n",
       "3    1991-10-04  0.000000\n",
       "4    1991-10-07  0.000000\n",
       "...         ...       ...\n",
       "7856 2022-09-29 -0.709999\n",
       "7857 2022-09-30 -2.520004\n",
       "7858 2022-10-03 -0.540001\n",
       "7859 2022-10-04  2.790001\n",
       "7860 2022-10-05  1.300003\n",
       "\n",
       "[7861 rows x 2 columns]"
      ]
     },
     "execution_count": 17,
     "metadata": {},
     "output_type": "execute_result"
    }
   ],
   "source": [
    "cba_mm"
   ]
  },
  {
   "cell_type": "code",
   "execution_count": 18,
   "id": "f281e7bd",
   "metadata": {},
   "outputs": [],
   "source": [
    "cba_mm.index = cba_mm.pop('date')"
   ]
  },
  {
   "cell_type": "code",
   "execution_count": 19,
   "id": "40adc0d2",
   "metadata": {},
   "outputs": [
    {
     "data": {
      "text/html": [
       "<div>\n",
       "<style scoped>\n",
       "    .dataframe tbody tr th:only-of-type {\n",
       "        vertical-align: middle;\n",
       "    }\n",
       "\n",
       "    .dataframe tbody tr th {\n",
       "        vertical-align: top;\n",
       "    }\n",
       "\n",
       "    .dataframe thead th {\n",
       "        text-align: right;\n",
       "    }\n",
       "</style>\n",
       "<table border=\"1\" class=\"dataframe\">\n",
       "  <thead>\n",
       "    <tr style=\"text-align: right;\">\n",
       "      <th></th>\n",
       "      <th>movement</th>\n",
       "    </tr>\n",
       "    <tr>\n",
       "      <th>date</th>\n",
       "      <th></th>\n",
       "    </tr>\n",
       "  </thead>\n",
       "  <tbody>\n",
       "    <tr>\n",
       "      <th>1991-10-01</th>\n",
       "      <td>0.000000</td>\n",
       "    </tr>\n",
       "    <tr>\n",
       "      <th>1991-10-02</th>\n",
       "      <td>0.000000</td>\n",
       "    </tr>\n",
       "    <tr>\n",
       "      <th>1991-10-03</th>\n",
       "      <td>0.000000</td>\n",
       "    </tr>\n",
       "    <tr>\n",
       "      <th>1991-10-04</th>\n",
       "      <td>0.000000</td>\n",
       "    </tr>\n",
       "    <tr>\n",
       "      <th>1991-10-07</th>\n",
       "      <td>0.000000</td>\n",
       "    </tr>\n",
       "    <tr>\n",
       "      <th>...</th>\n",
       "      <td>...</td>\n",
       "    </tr>\n",
       "    <tr>\n",
       "      <th>2022-09-29</th>\n",
       "      <td>-0.709999</td>\n",
       "    </tr>\n",
       "    <tr>\n",
       "      <th>2022-09-30</th>\n",
       "      <td>-2.520004</td>\n",
       "    </tr>\n",
       "    <tr>\n",
       "      <th>2022-10-03</th>\n",
       "      <td>-0.540001</td>\n",
       "    </tr>\n",
       "    <tr>\n",
       "      <th>2022-10-04</th>\n",
       "      <td>2.790001</td>\n",
       "    </tr>\n",
       "    <tr>\n",
       "      <th>2022-10-05</th>\n",
       "      <td>1.300003</td>\n",
       "    </tr>\n",
       "  </tbody>\n",
       "</table>\n",
       "<p>7861 rows × 1 columns</p>\n",
       "</div>"
      ],
      "text/plain": [
       "            movement\n",
       "date                \n",
       "1991-10-01  0.000000\n",
       "1991-10-02  0.000000\n",
       "1991-10-03  0.000000\n",
       "1991-10-04  0.000000\n",
       "1991-10-07  0.000000\n",
       "...              ...\n",
       "2022-09-29 -0.709999\n",
       "2022-09-30 -2.520004\n",
       "2022-10-03 -0.540001\n",
       "2022-10-04  2.790001\n",
       "2022-10-05  1.300003\n",
       "\n",
       "[7861 rows x 1 columns]"
      ]
     },
     "execution_count": 19,
     "metadata": {},
     "output_type": "execute_result"
    }
   ],
   "source": [
    "cba_mm"
   ]
  },
  {
   "cell_type": "code",
   "execution_count": null,
   "id": "5337df9a",
   "metadata": {},
   "outputs": [],
   "source": [
    "def create_features(cba_mm):\n",
    "    \"\"\"\n",
    "    Create time series features based on time series index.\n",
    "    \"\"\"\n",
    "    cba_mm['dayofweek'] = cba_mm.index.dayofweek\n",
    "    cba_mm['quarter'] = cba_mm.index.quarter\n",
    "    cba_mm['month'] = cba_mm.index.month\n",
    "    cba_mm['year'] = cba_mm.index.year\n",
    "    return cba_mm\n"
   ]
  },
  {
   "cell_type": "code",
   "execution_count": null,
   "id": "db13fb9b",
   "metadata": {},
   "outputs": [],
   "source": [
    "cba_mm = create_features(cba_mm)"
   ]
  },
  {
   "cell_type": "code",
   "execution_count": null,
   "id": "64bdaa82",
   "metadata": {},
   "outputs": [],
   "source": []
  },
  {
   "cell_type": "code",
   "execution_count": 23,
   "id": "b32ec41b",
   "metadata": {},
   "outputs": [
    {
     "data": {
      "text/html": [
       "<div>\n",
       "<style scoped>\n",
       "    .dataframe tbody tr th:only-of-type {\n",
       "        vertical-align: middle;\n",
       "    }\n",
       "\n",
       "    .dataframe tbody tr th {\n",
       "        vertical-align: top;\n",
       "    }\n",
       "\n",
       "    .dataframe thead th {\n",
       "        text-align: right;\n",
       "    }\n",
       "</style>\n",
       "<table border=\"1\" class=\"dataframe\">\n",
       "  <thead>\n",
       "    <tr style=\"text-align: right;\">\n",
       "      <th></th>\n",
       "      <th>movement</th>\n",
       "      <th>dayofweek</th>\n",
       "      <th>quarter</th>\n",
       "      <th>month</th>\n",
       "      <th>year</th>\n",
       "    </tr>\n",
       "    <tr>\n",
       "      <th>date</th>\n",
       "      <th></th>\n",
       "      <th></th>\n",
       "      <th></th>\n",
       "      <th></th>\n",
       "      <th></th>\n",
       "    </tr>\n",
       "  </thead>\n",
       "  <tbody>\n",
       "    <tr>\n",
       "      <th>1991-10-01</th>\n",
       "      <td>0.000000</td>\n",
       "      <td>1</td>\n",
       "      <td>4</td>\n",
       "      <td>10</td>\n",
       "      <td>1991</td>\n",
       "    </tr>\n",
       "    <tr>\n",
       "      <th>1991-10-02</th>\n",
       "      <td>0.000000</td>\n",
       "      <td>2</td>\n",
       "      <td>4</td>\n",
       "      <td>10</td>\n",
       "      <td>1991</td>\n",
       "    </tr>\n",
       "    <tr>\n",
       "      <th>1991-10-03</th>\n",
       "      <td>0.000000</td>\n",
       "      <td>3</td>\n",
       "      <td>4</td>\n",
       "      <td>10</td>\n",
       "      <td>1991</td>\n",
       "    </tr>\n",
       "    <tr>\n",
       "      <th>1991-10-04</th>\n",
       "      <td>0.000000</td>\n",
       "      <td>4</td>\n",
       "      <td>4</td>\n",
       "      <td>10</td>\n",
       "      <td>1991</td>\n",
       "    </tr>\n",
       "    <tr>\n",
       "      <th>1991-10-07</th>\n",
       "      <td>0.000000</td>\n",
       "      <td>0</td>\n",
       "      <td>4</td>\n",
       "      <td>10</td>\n",
       "      <td>1991</td>\n",
       "    </tr>\n",
       "    <tr>\n",
       "      <th>...</th>\n",
       "      <td>...</td>\n",
       "      <td>...</td>\n",
       "      <td>...</td>\n",
       "      <td>...</td>\n",
       "      <td>...</td>\n",
       "    </tr>\n",
       "    <tr>\n",
       "      <th>2022-09-29</th>\n",
       "      <td>-0.709999</td>\n",
       "      <td>3</td>\n",
       "      <td>3</td>\n",
       "      <td>9</td>\n",
       "      <td>2022</td>\n",
       "    </tr>\n",
       "    <tr>\n",
       "      <th>2022-09-30</th>\n",
       "      <td>-2.520004</td>\n",
       "      <td>4</td>\n",
       "      <td>3</td>\n",
       "      <td>9</td>\n",
       "      <td>2022</td>\n",
       "    </tr>\n",
       "    <tr>\n",
       "      <th>2022-10-03</th>\n",
       "      <td>-0.540001</td>\n",
       "      <td>0</td>\n",
       "      <td>4</td>\n",
       "      <td>10</td>\n",
       "      <td>2022</td>\n",
       "    </tr>\n",
       "    <tr>\n",
       "      <th>2022-10-04</th>\n",
       "      <td>2.790001</td>\n",
       "      <td>1</td>\n",
       "      <td>4</td>\n",
       "      <td>10</td>\n",
       "      <td>2022</td>\n",
       "    </tr>\n",
       "    <tr>\n",
       "      <th>2022-10-05</th>\n",
       "      <td>1.300003</td>\n",
       "      <td>2</td>\n",
       "      <td>4</td>\n",
       "      <td>10</td>\n",
       "      <td>2022</td>\n",
       "    </tr>\n",
       "  </tbody>\n",
       "</table>\n",
       "<p>7861 rows × 5 columns</p>\n",
       "</div>"
      ],
      "text/plain": [
       "            movement  dayofweek  quarter  month  year\n",
       "date                                                 \n",
       "1991-10-01  0.000000          1        4     10  1991\n",
       "1991-10-02  0.000000          2        4     10  1991\n",
       "1991-10-03  0.000000          3        4     10  1991\n",
       "1991-10-04  0.000000          4        4     10  1991\n",
       "1991-10-07  0.000000          0        4     10  1991\n",
       "...              ...        ...      ...    ...   ...\n",
       "2022-09-29 -0.709999          3        3      9  2022\n",
       "2022-09-30 -2.520004          4        3      9  2022\n",
       "2022-10-03 -0.540001          0        4     10  2022\n",
       "2022-10-04  2.790001          1        4     10  2022\n",
       "2022-10-05  1.300003          2        4     10  2022\n",
       "\n",
       "[7861 rows x 5 columns]"
      ]
     },
     "execution_count": 23,
     "metadata": {},
     "output_type": "execute_result"
    }
   ],
   "source": [
    "cba_mm"
   ]
  },
  {
   "cell_type": "code",
   "execution_count": 169,
   "id": "4acf80cd",
   "metadata": {},
   "outputs": [
    {
     "data": {
      "image/png": "[encoded data removed]",
      "text/plain": [
       "<Figure size 720x576 with 1 Axes>"
      ]
     },
     "metadata": {
      "needs_background": "light"
     },
     "output_type": "display_data"
    }
   ],
   "source": [
    "fig, ax = plt.subplots(figsize=(10, 8))\n",
    "sns.boxplot(data=cba_mm, x='dayofweek', y='movement')\n",
    "ax.set_title('Movement by day of week')\n",
    "plt.savefig('Movement by day of week')\n",
    "plt.show()"
   ]
  },
  {
   "cell_type": "code",
   "execution_count": 123,
   "id": "015810f0",
   "metadata": {},
   "outputs": [
    {
     "data": {
      "image/png": "[encoded data removed]",
      "text/plain": [
       "<Figure size 720x576 with 1 Axes>"
      ]
     },
     "metadata": {
      "needs_background": "light"
     },
     "output_type": "display_data"
    }
   ],
   "source": [
    "fig, ax = plt.subplots(figsize=(10, 8))\n",
    "sns.boxplot(data=cba_mm, x='month', y='movement')\n",
    "ax.set_title('Movement by month')\n",
    "plt.savefig('Movement by month')\n",
    "plt.show()"
   ]
  },
  {
   "cell_type": "code",
   "execution_count": 124,
   "id": "04186d45",
   "metadata": {},
   "outputs": [
    {
     "data": {
      "image/png": "[encoded data removed]",
      "text/plain": [
       "<Figure size 720x576 with 1 Axes>"
      ]
     },
     "metadata": {
      "needs_background": "light"
     },
     "output_type": "display_data"
    }
   ],
   "source": [
    "fig, ax = plt.subplots(figsize=(10, 8))\n",
    "sns.boxplot(data=cba_mm, x='quarter', y='movement')\n",
    "ax.set_title('Movement by quarter')\n",
    "plt.savefig('Movement by quarter')\n",
    "plt.show()"
   ]
  },
  {
   "cell_type": "code",
   "execution_count": 125,
   "id": "86f17fe6",
   "metadata": {},
   "outputs": [
    {
     "data": {
      "image/png": "[encoded data removed]",
      "text/plain": [
       "<Figure size 720x576 with 1 Axes>"
      ]
     },
     "metadata": {
      "needs_background": "light"
     },
     "output_type": "display_data"
    }
   ],
   "source": [
    "fig, ax = plt.subplots(figsize=(10, 8))\n",
    "sns.boxplot(data=cba_mm, x='year', y='movement')\n",
    "ax.set_title('Movement by year')\n",
    "plt.savefig('Movement by year')\n",
    "plt.show()"
   ]
  },
  {
   "cell_type": "markdown",
   "id": "94421ae5",
   "metadata": {},
   "source": [
    "### Converting data to Supervised learning problem"
   ]
  },
  {
   "cell_type": "code",
   "execution_count": 128,
   "id": "42d531a2",
   "metadata": {},
   "outputs": [],
   "source": [
    "def df_to_windowed_df(dataframe, first_date_str, last_date_str, n=3): #3days before target day\n",
    "  first_date = str_to_datetime(first_date_str)\n",
    "  last_date  = str_to_datetime(last_date_str)\n",
    "\n",
    "  target_date = first_date\n",
    "  \n",
    "  dates = []\n",
    "  X, Y = [], []\n",
    "\n",
    "  last_time = False\n",
    "  while True:\n",
    "    df_subset = dataframe.loc[:target_date].tail(n+1)\n",
    "    \n",
    "    if len(df_subset) != n+1:\n",
    "      print(f'Error: Window of size {n} is too large for date {target_date}')\n",
    "      return\n",
    "\n",
    "    values = df_subset['movement'].to_numpy()\n",
    "    x, y = values[:-1], values[-1]\n",
    "\n",
    "    dates.append(target_date)\n",
    "    X.append(x)\n",
    "    Y.append(y)\n",
    "\n",
    "    next_week = dataframe.loc[target_date:target_date+datetime.timedelta(days=7)]\n",
    "    next_datetime_str = str(next_week.head(2).tail(1).index.values[0])\n",
    "    next_date_str = next_datetime_str.split('T')[0]\n",
    "    year_month_day = next_date_str.split('-')\n",
    "    year, month, day = year_month_day\n",
    "    next_date = datetime.datetime(day=int(day), month=int(month), year=int(year))\n",
    "    \n",
    "    if last_time:\n",
    "      break\n",
    "    \n",
    "    target_date = next_date\n",
    "\n",
    "    if target_date == last_date:\n",
    "      last_time = True\n",
    "    \n",
    "  ret_df = pd.DataFrame({})\n",
    "  ret_df['Target Date'] = dates\n",
    "  \n",
    "  X = np.array(X)\n",
    "  for i in range(0, n):\n",
    "    X[:, i]\n",
    "    ret_df[f'Target-{n-i}'] = X[:, i]\n",
    "  \n",
    "  ret_df['Target'] = Y\n",
    "\n",
    "  return ret_df"
   ]
  },
  {
   "cell_type": "code",
   "execution_count": 129,
   "id": "eae05cf5",
   "metadata": {},
   "outputs": [
    {
     "ename": "AttributeError",
     "evalue": "type object 'datetime.datetime' has no attribute 'datetime'",
     "output_type": "error",
     "traceback": [
      "\u001b[0;31m---------------------------------------------------------------------------\u001b[0m",
      "\u001b[0;31mAttributeError\u001b[0m                            Traceback (most recent call last)",
      "Input \u001b[0;32mIn [129]\u001b[0m, in \u001b[0;36m<cell line: 2>\u001b[0;34m()\u001b[0m\n\u001b[1;32m      1\u001b[0m \u001b[38;5;66;03m# Start day second time around \u001b[39;00m\n\u001b[0;32m----> 2\u001b[0m windowed_df \u001b[38;5;241m=\u001b[39m \u001b[43mdf_to_windowed_df\u001b[49m\u001b[43m(\u001b[49m\u001b[43mcba_mm\u001b[49m\u001b[43m,\u001b[49m\u001b[43m \u001b[49m\n\u001b[1;32m      3\u001b[0m \u001b[43m                                \u001b[49m\u001b[38;5;124;43m'\u001b[39;49m\u001b[38;5;124;43m1991-10-04\u001b[39;49m\u001b[38;5;124;43m'\u001b[39;49m\u001b[43m,\u001b[49m\u001b[43m \u001b[49m\n\u001b[1;32m      4\u001b[0m \u001b[43m                                \u001b[49m\u001b[38;5;124;43m'\u001b[39;49m\u001b[38;5;124;43m2022-10-05\u001b[39;49m\u001b[38;5;124;43m'\u001b[39;49m\u001b[43m,\u001b[49m\u001b[43m \u001b[49m\n\u001b[1;32m      5\u001b[0m \u001b[43m                                \u001b[49m\u001b[43mn\u001b[49m\u001b[38;5;241;43m=\u001b[39;49m\u001b[38;5;241;43m3\u001b[39;49m\u001b[43m)\u001b[49m\n\u001b[1;32m      6\u001b[0m windowed_df\n",
      "Input \u001b[0;32mIn [128]\u001b[0m, in \u001b[0;36mdf_to_windowed_df\u001b[0;34m(dataframe, first_date_str, last_date_str, n)\u001b[0m\n\u001b[1;32m      1\u001b[0m \u001b[38;5;28;01mdef\u001b[39;00m \u001b[38;5;21mdf_to_windowed_df\u001b[39m(dataframe, first_date_str, last_date_str, n\u001b[38;5;241m=\u001b[39m\u001b[38;5;241m3\u001b[39m): \u001b[38;5;66;03m#3days before target day\u001b[39;00m\n\u001b[0;32m----> 2\u001b[0m   first_date \u001b[38;5;241m=\u001b[39m \u001b[43mstr_to_datetime\u001b[49m\u001b[43m(\u001b[49m\u001b[43mfirst_date_str\u001b[49m\u001b[43m)\u001b[49m\n\u001b[1;32m      3\u001b[0m   last_date  \u001b[38;5;241m=\u001b[39m str_to_datetime(last_date_str)\n\u001b[1;32m      5\u001b[0m   target_date \u001b[38;5;241m=\u001b[39m first_date\n",
      "Input \u001b[0;32mIn [14]\u001b[0m, in \u001b[0;36mstr_to_datetime\u001b[0;34m(s)\u001b[0m\n\u001b[1;32m      4\u001b[0m split \u001b[38;5;241m=\u001b[39m s\u001b[38;5;241m.\u001b[39msplit(\u001b[38;5;124m'\u001b[39m\u001b[38;5;124m-\u001b[39m\u001b[38;5;124m'\u001b[39m)\n\u001b[1;32m      5\u001b[0m year, month, day \u001b[38;5;241m=\u001b[39m \u001b[38;5;28mint\u001b[39m(split[\u001b[38;5;241m0\u001b[39m]), \u001b[38;5;28mint\u001b[39m(split[\u001b[38;5;241m1\u001b[39m]), \u001b[38;5;28mint\u001b[39m(split[\u001b[38;5;241m2\u001b[39m])\n\u001b[0;32m----> 6\u001b[0m \u001b[38;5;28;01mreturn\u001b[39;00m \u001b[43mdatetime\u001b[49m\u001b[38;5;241;43m.\u001b[39;49m\u001b[43mdatetime\u001b[49m(year\u001b[38;5;241m=\u001b[39myear, month\u001b[38;5;241m=\u001b[39mmonth, day\u001b[38;5;241m=\u001b[39mday)\n",
      "\u001b[0;31mAttributeError\u001b[0m: type object 'datetime.datetime' has no attribute 'datetime'"
     ]
    }
   ],
   "source": [
    "# Start day second time around \n",
    "windowed_df = df_to_windowed_df(cba_mm, \n",
    "                                '1991-10-04', \n",
    "                                '2022-10-05', \n",
    "                                n=3)\n",
    "windowed_df"
   ]
  },
  {
   "cell_type": "markdown",
   "id": "6d8b7b07",
   "metadata": {},
   "source": [
    "### Convert data to numpy array"
   ]
  },
  {
   "cell_type": "code",
   "execution_count": 130,
   "id": "82086f15",
   "metadata": {},
   "outputs": [
    {
     "data": {
      "text/plain": [
       "((7858,), (7858, 3, 1), (7858,))"
      ]
     },
     "execution_count": 130,
     "metadata": {},
     "output_type": "execute_result"
    }
   ],
   "source": [
    "def windowed_df_to_date_X_y(windowed_dataframe):\n",
    "  df_as_np = windowed_dataframe.to_numpy()\n",
    "\n",
    "  dates = df_as_np[:, 0]\n",
    "\n",
    "  middle_matrix = df_as_np[:, 1:-1]\n",
    "  X = middle_matrix.reshape((len(dates), middle_matrix.shape[1], 1)) # Using 1 for Univariate forecasting\n",
    "\n",
    "  Y = df_as_np[:, -1]\n",
    "\n",
    "  return dates, X.astype(np.float32), Y.astype(np.float32)\n",
    "\n",
    "dates, X, y = windowed_df_to_date_X_y(windowed_df)\n",
    "\n",
    "dates.shape, X.shape, y.shape"
   ]
  },
  {
   "cell_type": "markdown",
   "id": "df5988d1",
   "metadata": {},
   "source": [
    "### Split data into Train and Test"
   ]
  },
  {
   "cell_type": "code",
   "execution_count": 131,
   "id": "c9036c6e",
   "metadata": {},
   "outputs": [
    {
     "data": {
      "image/png": "[encoded data removed]",
      "text/plain": [
       "<Figure size 432x288 with 1 Axes>"
      ]
     },
     "metadata": {
      "needs_background": "light"
     },
     "output_type": "display_data"
    }
   ],
   "source": [
    "q_80 = int(len(dates) * .8)\n",
    "q_90 = int(len(dates) * .9)\n",
    "\n",
    "dates_train, X_train, y_train = dates[:q_80], X[:q_80], y[:q_80]\n",
    "\n",
    "dates_val, X_val, y_val = dates[q_80:q_90], X[q_80:q_90], y[q_80:q_90]\n",
    "dates_test, X_test, y_test = dates[q_90:], X[q_90:], y[q_90:]\n",
    "\n",
    "plt.plot(dates_train, y_train)\n",
    "plt.plot(dates_val, y_val)\n",
    "plt.plot(dates_test, y_test)\n",
    "\n",
    "plt.legend(['Train', 'Validation', 'Test'])\n",
    "plt.savefig('Dataset split')"
   ]
  },
  {
   "cell_type": "code",
   "execution_count": 33,
   "id": "56d74074",
   "metadata": {},
   "outputs": [
    {
     "name": "stderr",
     "output_type": "stream",
     "text": [
      "2022-10-07 16:28:49.246633: I tensorflow/core/platform/cpu_feature_guard.cc:151] This TensorFlow binary is optimized with oneAPI Deep Neural Network Library (oneDNN) to use the following CPU instructions in performance-critical operations:  SSE4.1 SSE4.2 AVX AVX2 FMA\n",
      "To enable them in other operations, rebuild TensorFlow with the appropriate compiler flags.\n"
     ]
    },
    {
     "name": "stdout",
     "output_type": "stream",
     "text": [
      "Epoch 1/100\n",
      "197/197 [==============================] - 2s 5ms/step - loss: 0.1902 - mean_absolute_error: 0.2584 - val_loss: 0.3538 - val_mean_absolute_error: 0.4678\n",
      "Epoch 2/100\n",
      "197/197 [==============================] - 1s 3ms/step - loss: 0.1899 - mean_absolute_error: 0.2564 - val_loss: 0.3534 - val_mean_absolute_error: 0.4674\n",
      "Epoch 3/100\n",
      "197/197 [==============================] - 1s 4ms/step - loss: 0.1897 - mean_absolute_error: 0.2581 - val_loss: 0.3544 - val_mean_absolute_error: 0.4686\n",
      "Epoch 4/100\n",
      "197/197 [==============================] - 1s 4ms/step - loss: 0.1898 - mean_absolute_error: 0.2561 - val_loss: 0.3532 - val_mean_absolute_error: 0.4677\n",
      "Epoch 5/100\n",
      "197/197 [==============================] - 1s 3ms/step - loss: 0.1897 - mean_absolute_error: 0.2562 - val_loss: 0.3534 - val_mean_absolute_error: 0.4679\n",
      "Epoch 6/100\n",
      "197/197 [==============================] - 1s 3ms/step - loss: 0.1897 - mean_absolute_error: 0.2568 - val_loss: 0.3529 - val_mean_absolute_error: 0.4675\n",
      "Epoch 7/100\n",
      "197/197 [==============================] - 1s 4ms/step - loss: 0.1895 - mean_absolute_error: 0.2558 - val_loss: 0.3534 - val_mean_absolute_error: 0.4679\n",
      "Epoch 8/100\n",
      "197/197 [==============================] - 1s 3ms/step - loss: 0.1892 - mean_absolute_error: 0.2565 - val_loss: 0.3528 - val_mean_absolute_error: 0.4676\n",
      "Epoch 9/100\n",
      "197/197 [==============================] - 1s 3ms/step - loss: 0.1891 - mean_absolute_error: 0.2554 - val_loss: 0.3529 - val_mean_absolute_error: 0.4680\n",
      "Epoch 10/100\n",
      "197/197 [==============================] - 1s 4ms/step - loss: 0.1890 - mean_absolute_error: 0.2568 - val_loss: 0.3521 - val_mean_absolute_error: 0.4674\n",
      "Epoch 11/100\n",
      "197/197 [==============================] - 1s 4ms/step - loss: 0.1889 - mean_absolute_error: 0.2575 - val_loss: 0.3525 - val_mean_absolute_error: 0.4672\n",
      "Epoch 12/100\n",
      "197/197 [==============================] - 1s 4ms/step - loss: 0.1881 - mean_absolute_error: 0.2557 - val_loss: 0.3538 - val_mean_absolute_error: 0.4693\n",
      "Epoch 13/100\n",
      "197/197 [==============================] - 1s 3ms/step - loss: 0.1876 - mean_absolute_error: 0.2547 - val_loss: 0.3525 - val_mean_absolute_error: 0.4679\n",
      "Epoch 14/100\n",
      "197/197 [==============================] - 1s 3ms/step - loss: 0.1877 - mean_absolute_error: 0.2556 - val_loss: 0.3527 - val_mean_absolute_error: 0.4682\n",
      "Epoch 15/100\n",
      "197/197 [==============================] - 1s 3ms/step - loss: 0.1875 - mean_absolute_error: 0.2553 - val_loss: 0.3528 - val_mean_absolute_error: 0.4682\n",
      "Epoch 16/100\n",
      "197/197 [==============================] - 1s 3ms/step - loss: 0.1868 - mean_absolute_error: 0.2563 - val_loss: 0.3519 - val_mean_absolute_error: 0.4677\n",
      "Epoch 17/100\n",
      "197/197 [==============================] - 1s 3ms/step - loss: 0.1863 - mean_absolute_error: 0.2555 - val_loss: 0.3518 - val_mean_absolute_error: 0.4672\n",
      "Epoch 18/100\n",
      "197/197 [==============================] - 1s 3ms/step - loss: 0.1864 - mean_absolute_error: 0.2546 - val_loss: 0.3522 - val_mean_absolute_error: 0.4677\n",
      "Epoch 19/100\n",
      "197/197 [==============================] - 1s 3ms/step - loss: 0.1859 - mean_absolute_error: 0.2553 - val_loss: 0.3516 - val_mean_absolute_error: 0.4679\n",
      "Epoch 20/100\n",
      "197/197 [==============================] - 1s 3ms/step - loss: 0.1856 - mean_absolute_error: 0.2554 - val_loss: 0.3556 - val_mean_absolute_error: 0.4708\n",
      "Epoch 21/100\n",
      "197/197 [==============================] - 1s 3ms/step - loss: 0.1852 - mean_absolute_error: 0.2538 - val_loss: 0.3526 - val_mean_absolute_error: 0.4689\n",
      "Epoch 22/100\n",
      "197/197 [==============================] - 1s 3ms/step - loss: 0.1853 - mean_absolute_error: 0.2546 - val_loss: 0.3539 - val_mean_absolute_error: 0.4705\n",
      "Epoch 23/100\n",
      "197/197 [==============================] - 1s 3ms/step - loss: 0.1856 - mean_absolute_error: 0.2539 - val_loss: 0.3535 - val_mean_absolute_error: 0.4694\n",
      "Epoch 24/100\n",
      "197/197 [==============================] - 1s 3ms/step - loss: 0.1848 - mean_absolute_error: 0.2548 - val_loss: 0.3531 - val_mean_absolute_error: 0.4683\n",
      "Epoch 25/100\n",
      "197/197 [==============================] - 1s 3ms/step - loss: 0.1847 - mean_absolute_error: 0.2543 - val_loss: 0.3527 - val_mean_absolute_error: 0.4693\n",
      "Epoch 26/100\n",
      "197/197 [==============================] - 1s 3ms/step - loss: 0.1844 - mean_absolute_error: 0.2549 - val_loss: 0.3522 - val_mean_absolute_error: 0.4683\n",
      "Epoch 27/100\n",
      "197/197 [==============================] - 1s 3ms/step - loss: 0.1840 - mean_absolute_error: 0.2545 - val_loss: 0.3530 - val_mean_absolute_error: 0.4693\n",
      "Epoch 28/100\n",
      "197/197 [==============================] - 1s 3ms/step - loss: 0.1838 - mean_absolute_error: 0.2543 - val_loss: 0.3537 - val_mean_absolute_error: 0.4691\n",
      "Epoch 29/100\n",
      "197/197 [==============================] - 1s 4ms/step - loss: 0.1841 - mean_absolute_error: 0.2545 - val_loss: 0.3523 - val_mean_absolute_error: 0.4683\n",
      "Epoch 30/100\n",
      "197/197 [==============================] - 1s 3ms/step - loss: 0.1838 - mean_absolute_error: 0.2543 - val_loss: 0.3541 - val_mean_absolute_error: 0.4699\n",
      "Epoch 31/100\n",
      "197/197 [==============================] - 1s 4ms/step - loss: 0.1838 - mean_absolute_error: 0.2542 - val_loss: 0.3546 - val_mean_absolute_error: 0.4707\n",
      "Epoch 32/100\n",
      "197/197 [==============================] - 1s 3ms/step - loss: 0.1834 - mean_absolute_error: 0.2539 - val_loss: 0.3524 - val_mean_absolute_error: 0.4677\n",
      "Epoch 33/100\n",
      "197/197 [==============================] - 1s 3ms/step - loss: 0.1830 - mean_absolute_error: 0.2538 - val_loss: 0.3543 - val_mean_absolute_error: 0.4705\n",
      "Epoch 34/100\n",
      "197/197 [==============================] - 1s 3ms/step - loss: 0.1831 - mean_absolute_error: 0.2540 - val_loss: 0.3542 - val_mean_absolute_error: 0.4702\n",
      "Epoch 35/100\n",
      "197/197 [==============================] - 1s 3ms/step - loss: 0.1829 - mean_absolute_error: 0.2538 - val_loss: 0.3525 - val_mean_absolute_error: 0.4680\n",
      "Epoch 36/100\n",
      "197/197 [==============================] - 1s 3ms/step - loss: 0.1829 - mean_absolute_error: 0.2541 - val_loss: 0.3558 - val_mean_absolute_error: 0.4701\n",
      "Epoch 37/100\n",
      "197/197 [==============================] - 1s 3ms/step - loss: 0.1830 - mean_absolute_error: 0.2542 - val_loss: 0.3538 - val_mean_absolute_error: 0.4700\n",
      "Epoch 38/100\n",
      "197/197 [==============================] - 1s 3ms/step - loss: 0.1826 - mean_absolute_error: 0.2538 - val_loss: 0.3544 - val_mean_absolute_error: 0.4693\n",
      "Epoch 39/100\n",
      "197/197 [==============================] - 1s 3ms/step - loss: 0.1825 - mean_absolute_error: 0.2540 - val_loss: 0.3525 - val_mean_absolute_error: 0.4682\n",
      "Epoch 40/100\n",
      "197/197 [==============================] - 1s 4ms/step - loss: 0.1825 - mean_absolute_error: 0.2535 - val_loss: 0.3540 - val_mean_absolute_error: 0.4701\n",
      "Epoch 41/100\n",
      "197/197 [==============================] - 1s 4ms/step - loss: 0.1824 - mean_absolute_error: 0.2546 - val_loss: 0.3530 - val_mean_absolute_error: 0.4693\n",
      "Epoch 42/100\n",
      "197/197 [==============================] - 1s 3ms/step - loss: 0.1818 - mean_absolute_error: 0.2538 - val_loss: 0.3545 - val_mean_absolute_error: 0.4699\n",
      "Epoch 43/100\n",
      "197/197 [==============================] - 1s 3ms/step - loss: 0.1822 - mean_absolute_error: 0.2527 - val_loss: 0.3546 - val_mean_absolute_error: 0.4702\n",
      "Epoch 44/100\n",
      "197/197 [==============================] - 1s 4ms/step - loss: 0.1817 - mean_absolute_error: 0.2551 - val_loss: 0.3536 - val_mean_absolute_error: 0.4687\n",
      "Epoch 45/100\n",
      "197/197 [==============================] - 1s 4ms/step - loss: 0.1815 - mean_absolute_error: 0.2537 - val_loss: 0.3524 - val_mean_absolute_error: 0.4671\n",
      "Epoch 46/100\n",
      "197/197 [==============================] - 1s 3ms/step - loss: 0.1810 - mean_absolute_error: 0.2527 - val_loss: 0.3543 - val_mean_absolute_error: 0.4701\n",
      "Epoch 47/100\n",
      "197/197 [==============================] - 1s 3ms/step - loss: 0.1812 - mean_absolute_error: 0.2535 - val_loss: 0.3545 - val_mean_absolute_error: 0.4702\n",
      "Epoch 48/100\n",
      "197/197 [==============================] - 1s 3ms/step - loss: 0.1809 - mean_absolute_error: 0.2536 - val_loss: 0.3535 - val_mean_absolute_error: 0.4684\n",
      "Epoch 49/100\n",
      "197/197 [==============================] - 1s 3ms/step - loss: 0.1815 - mean_absolute_error: 0.2533 - val_loss: 0.3551 - val_mean_absolute_error: 0.4699\n",
      "Epoch 50/100\n"
     ]
    },
    {
     "name": "stdout",
     "output_type": "stream",
     "text": [
      "197/197 [==============================] - 1s 3ms/step - loss: 0.1806 - mean_absolute_error: 0.2529 - val_loss: 0.3558 - val_mean_absolute_error: 0.4714\n",
      "Epoch 51/100\n",
      "197/197 [==============================] - 1s 3ms/step - loss: 0.1802 - mean_absolute_error: 0.2525 - val_loss: 0.3578 - val_mean_absolute_error: 0.4714\n",
      "Epoch 52/100\n",
      "197/197 [==============================] - 1s 3ms/step - loss: 0.1799 - mean_absolute_error: 0.2542 - val_loss: 0.3532 - val_mean_absolute_error: 0.4683\n",
      "Epoch 53/100\n",
      "197/197 [==============================] - 1s 3ms/step - loss: 0.1797 - mean_absolute_error: 0.2537 - val_loss: 0.3554 - val_mean_absolute_error: 0.4705\n",
      "Epoch 54/100\n",
      "197/197 [==============================] - 1s 3ms/step - loss: 0.1798 - mean_absolute_error: 0.2532 - val_loss: 0.3576 - val_mean_absolute_error: 0.4710\n",
      "Epoch 55/100\n",
      "197/197 [==============================] - 1s 3ms/step - loss: 0.1792 - mean_absolute_error: 0.2533 - val_loss: 0.3570 - val_mean_absolute_error: 0.4701\n",
      "Epoch 56/100\n",
      "197/197 [==============================] - 1s 3ms/step - loss: 0.1791 - mean_absolute_error: 0.2529 - val_loss: 0.3603 - val_mean_absolute_error: 0.4722\n",
      "Epoch 57/100\n",
      "197/197 [==============================] - 1s 3ms/step - loss: 0.1787 - mean_absolute_error: 0.2538 - val_loss: 0.3617 - val_mean_absolute_error: 0.4737\n",
      "Epoch 58/100\n",
      "197/197 [==============================] - 1s 3ms/step - loss: 0.1787 - mean_absolute_error: 0.2533 - val_loss: 0.3583 - val_mean_absolute_error: 0.4711\n",
      "Epoch 59/100\n",
      "197/197 [==============================] - 1s 3ms/step - loss: 0.1783 - mean_absolute_error: 0.2524 - val_loss: 0.3586 - val_mean_absolute_error: 0.4716\n",
      "Epoch 60/100\n",
      "197/197 [==============================] - 1s 4ms/step - loss: 0.1785 - mean_absolute_error: 0.2535 - val_loss: 0.3587 - val_mean_absolute_error: 0.4714\n",
      "Epoch 61/100\n",
      "197/197 [==============================] - 1s 3ms/step - loss: 0.1776 - mean_absolute_error: 0.2525 - val_loss: 0.3596 - val_mean_absolute_error: 0.4720\n",
      "Epoch 62/100\n",
      "197/197 [==============================] - 1s 3ms/step - loss: 0.1778 - mean_absolute_error: 0.2531 - val_loss: 0.3603 - val_mean_absolute_error: 0.4729\n",
      "Epoch 63/100\n",
      "197/197 [==============================] - 1s 3ms/step - loss: 0.1772 - mean_absolute_error: 0.2524 - val_loss: 0.3576 - val_mean_absolute_error: 0.4708\n",
      "Epoch 64/100\n",
      "197/197 [==============================] - 1s 3ms/step - loss: 0.1775 - mean_absolute_error: 0.2531 - val_loss: 0.3603 - val_mean_absolute_error: 0.4720\n",
      "Epoch 65/100\n",
      "197/197 [==============================] - 1s 3ms/step - loss: 0.1768 - mean_absolute_error: 0.2516 - val_loss: 0.3570 - val_mean_absolute_error: 0.4707\n",
      "Epoch 66/100\n",
      "197/197 [==============================] - 1s 3ms/step - loss: 0.1763 - mean_absolute_error: 0.2513 - val_loss: 0.3669 - val_mean_absolute_error: 0.4761\n",
      "Epoch 67/100\n",
      "197/197 [==============================] - 1s 3ms/step - loss: 0.1759 - mean_absolute_error: 0.2515 - val_loss: 0.3616 - val_mean_absolute_error: 0.4730\n",
      "Epoch 68/100\n",
      "197/197 [==============================] - 1s 3ms/step - loss: 0.1757 - mean_absolute_error: 0.2515 - val_loss: 0.3627 - val_mean_absolute_error: 0.4740\n",
      "Epoch 69/100\n",
      "197/197 [==============================] - 1s 3ms/step - loss: 0.1753 - mean_absolute_error: 0.2514 - val_loss: 0.3581 - val_mean_absolute_error: 0.4705\n",
      "Epoch 70/100\n",
      "197/197 [==============================] - 1s 4ms/step - loss: 0.1758 - mean_absolute_error: 0.2517 - val_loss: 0.3605 - val_mean_absolute_error: 0.4722\n",
      "Epoch 71/100\n",
      "197/197 [==============================] - 1s 3ms/step - loss: 0.1756 - mean_absolute_error: 0.2511 - val_loss: 0.3631 - val_mean_absolute_error: 0.4745\n",
      "Epoch 72/100\n",
      "197/197 [==============================] - 1s 3ms/step - loss: 0.1752 - mean_absolute_error: 0.2517 - val_loss: 0.3611 - val_mean_absolute_error: 0.4727\n",
      "Epoch 73/100\n",
      "197/197 [==============================] - 1s 3ms/step - loss: 0.1746 - mean_absolute_error: 0.2520 - val_loss: 0.3613 - val_mean_absolute_error: 0.4731\n",
      "Epoch 74/100\n",
      "197/197 [==============================] - 1s 3ms/step - loss: 0.1751 - mean_absolute_error: 0.2519 - val_loss: 0.3620 - val_mean_absolute_error: 0.4733\n",
      "Epoch 75/100\n",
      "197/197 [==============================] - 1s 3ms/step - loss: 0.1749 - mean_absolute_error: 0.2512 - val_loss: 0.3644 - val_mean_absolute_error: 0.4745\n",
      "Epoch 76/100\n",
      "197/197 [==============================] - 1s 3ms/step - loss: 0.1737 - mean_absolute_error: 0.2501 - val_loss: 0.3613 - val_mean_absolute_error: 0.4735\n",
      "Epoch 77/100\n",
      "197/197 [==============================] - 1s 3ms/step - loss: 0.1744 - mean_absolute_error: 0.2505 - val_loss: 0.3632 - val_mean_absolute_error: 0.4745\n",
      "Epoch 78/100\n",
      "197/197 [==============================] - 1s 3ms/step - loss: 0.1736 - mean_absolute_error: 0.2514 - val_loss: 0.3622 - val_mean_absolute_error: 0.4738\n",
      "Epoch 79/100\n",
      "197/197 [==============================] - 1s 3ms/step - loss: 0.1738 - mean_absolute_error: 0.2513 - val_loss: 0.3586 - val_mean_absolute_error: 0.4722\n",
      "Epoch 80/100\n",
      "197/197 [==============================] - 1s 3ms/step - loss: 0.1739 - mean_absolute_error: 0.2508 - val_loss: 0.3632 - val_mean_absolute_error: 0.4743\n",
      "Epoch 81/100\n",
      "197/197 [==============================] - 1s 3ms/step - loss: 0.1731 - mean_absolute_error: 0.2506 - val_loss: 0.3636 - val_mean_absolute_error: 0.4744\n",
      "Epoch 82/100\n",
      "197/197 [==============================] - 1s 3ms/step - loss: 0.1737 - mean_absolute_error: 0.2499 - val_loss: 0.3684 - val_mean_absolute_error: 0.4776\n",
      "Epoch 83/100\n",
      "197/197 [==============================] - 1s 3ms/step - loss: 0.1730 - mean_absolute_error: 0.2506 - val_loss: 0.3683 - val_mean_absolute_error: 0.4774\n",
      "Epoch 84/100\n",
      "197/197 [==============================] - 1s 3ms/step - loss: 0.1724 - mean_absolute_error: 0.2493 - val_loss: 0.3668 - val_mean_absolute_error: 0.4764\n",
      "Epoch 85/100\n",
      "197/197 [==============================] - 1s 3ms/step - loss: 0.1719 - mean_absolute_error: 0.2503 - val_loss: 0.3660 - val_mean_absolute_error: 0.4749\n",
      "Epoch 86/100\n",
      "197/197 [==============================] - 1s 3ms/step - loss: 0.1721 - mean_absolute_error: 0.2499 - val_loss: 0.3679 - val_mean_absolute_error: 0.4771\n",
      "Epoch 87/100\n",
      "197/197 [==============================] - 1s 3ms/step - loss: 0.1715 - mean_absolute_error: 0.2485 - val_loss: 0.3637 - val_mean_absolute_error: 0.4764\n",
      "Epoch 88/100\n",
      "197/197 [==============================] - 1s 3ms/step - loss: 0.1718 - mean_absolute_error: 0.2489 - val_loss: 0.3628 - val_mean_absolute_error: 0.4749\n",
      "Epoch 89/100\n",
      "197/197 [==============================] - 1s 3ms/step - loss: 0.1710 - mean_absolute_error: 0.2491 - val_loss: 0.3611 - val_mean_absolute_error: 0.4730\n",
      "Epoch 90/100\n",
      "197/197 [==============================] - 1s 3ms/step - loss: 0.1710 - mean_absolute_error: 0.2486 - val_loss: 0.3631 - val_mean_absolute_error: 0.4753\n",
      "Epoch 91/100\n",
      "197/197 [==============================] - 1s 3ms/step - loss: 0.1713 - mean_absolute_error: 0.2486 - val_loss: 0.3696 - val_mean_absolute_error: 0.4788\n",
      "Epoch 92/100\n",
      "197/197 [==============================] - 1s 3ms/step - loss: 0.1710 - mean_absolute_error: 0.2485 - val_loss: 0.3645 - val_mean_absolute_error: 0.4745\n",
      "Epoch 93/100\n",
      "197/197 [==============================] - 1s 3ms/step - loss: 0.1706 - mean_absolute_error: 0.2490 - val_loss: 0.3643 - val_mean_absolute_error: 0.4749\n",
      "Epoch 94/100\n",
      "197/197 [==============================] - 1s 4ms/step - loss: 0.1708 - mean_absolute_error: 0.2489 - val_loss: 0.3616 - val_mean_absolute_error: 0.4730\n",
      "Epoch 95/100\n",
      "197/197 [==============================] - 1s 4ms/step - loss: 0.1700 - mean_absolute_error: 0.2478 - val_loss: 0.3637 - val_mean_absolute_error: 0.4753\n",
      "Epoch 96/100\n",
      "197/197 [==============================] - 1s 3ms/step - loss: 0.1702 - mean_absolute_error: 0.2484 - val_loss: 0.3684 - val_mean_absolute_error: 0.4767\n",
      "Epoch 97/100\n",
      "197/197 [==============================] - 1s 3ms/step - loss: 0.1700 - mean_absolute_error: 0.2488 - val_loss: 0.3695 - val_mean_absolute_error: 0.4782\n",
      "Epoch 98/100\n",
      "197/197 [==============================] - 1s 3ms/step - loss: 0.1689 - mean_absolute_error: 0.2463 - val_loss: 0.3638 - val_mean_absolute_error: 0.4755\n",
      "Epoch 99/100\n"
     ]
    },
    {
     "name": "stdout",
     "output_type": "stream",
     "text": [
      "197/197 [==============================] - 1s 4ms/step - loss: 0.1692 - mean_absolute_error: 0.2479 - val_loss: 0.3631 - val_mean_absolute_error: 0.4742\n",
      "Epoch 100/100\n",
      "197/197 [==============================] - 1s 4ms/step - loss: 0.1690 - mean_absolute_error: 0.2471 - val_loss: 0.3611 - val_mean_absolute_error: 0.4742\n"
     ]
    },
    {
     "data": {
      "text/plain": [
       "<keras.callbacks.History at 0x7fbe8c187d00>"
      ]
     },
     "execution_count": 33,
     "metadata": {},
     "output_type": "execute_result"
    }
   ],
   "source": [
    "from tensorflow.keras.models import Sequential\n",
    "from tensorflow.keras.optimizers import Adam\n",
    "from tensorflow.keras import layers\n",
    "\n",
    "model = Sequential([layers.Input((3, 1)),\n",
    "                    layers.LSTM(64),\n",
    "                    layers.Dense(32, activation='relu'),\n",
    "                    layers.Dense(32, activation='relu'),\n",
    "                    layers.Dense(1)])\n",
    "\n",
    "model.compile(loss='mse', \n",
    "              optimizer=Adam(learning_rate=0.001),\n",
    "              metrics=['mean_absolute_error'])\n",
    "\n",
    "model.fit(X_train, y_train, validation_data=(X_val, y_val), epochs=100)"
   ]
  },
  {
   "cell_type": "code",
   "execution_count": 134,
   "id": "9497a27b",
   "metadata": {},
   "outputs": [
    {
     "data": {
      "image/png": "[encoded data removed]",
      "text/plain": [
       "<Figure size 432x288 with 1 Axes>"
      ]
     },
     "metadata": {
      "needs_background": "light"
     },
     "output_type": "display_data"
    }
   ],
   "source": [
    "train_predictions = model.predict(X_train).flatten()\n",
    "\n",
    "plt.plot(dates_train, train_predictions)\n",
    "plt.plot(dates_train, y_train)\n",
    "plt.legend(['Training Predictions', 'Training Observations'])\n",
    "plt.savefig('Training&Prediction')"
   ]
  },
  {
   "cell_type": "code",
   "execution_count": 137,
   "id": "2ec01bfc",
   "metadata": {},
   "outputs": [
    {
     "data": {
      "image/png": "[encoded data removed]",
      "text/plain": [
       "<Figure size 432x288 with 1 Axes>"
      ]
     },
     "metadata": {
      "needs_background": "light"
     },
     "output_type": "display_data"
    }
   ],
   "source": [
    "val_predictions = model.predict(X_val).flatten()\n",
    "\n",
    "plt.plot(dates_val, val_predictions)\n",
    "plt.plot(dates_val, y_val)\n",
    "plt.legend(['Validation Predictions', 'Validation Observations'])\n",
    "plt.savefig('Val&Prediction')"
   ]
  },
  {
   "cell_type": "code",
   "execution_count": 139,
   "id": "2dbc285d",
   "metadata": {},
   "outputs": [
    {
     "data": {
      "image/png": "[encoded data removed]",
      "text/plain": [
       "<Figure size 432x288 with 1 Axes>"
      ]
     },
     "metadata": {
      "needs_background": "light"
     },
     "output_type": "display_data"
    }
   ],
   "source": [
    "test_predictions = model.predict(X_test).flatten()\n",
    "\n",
    "plt.plot(dates_test, test_predictions)\n",
    "plt.plot(dates_test, y_test)\n",
    "plt.legend(['Testing Predictions', 'Testing Observations'])\n",
    "plt.savefig('Test&Prediction')"
   ]
  },
  {
   "cell_type": "code",
   "execution_count": 142,
   "id": "3c30ee92",
   "metadata": {},
   "outputs": [
    {
     "data": {
      "image/png": "[encoded data removed]",
      "text/plain": [
       "<Figure size 432x288 with 1 Axes>"
      ]
     },
     "metadata": {
      "needs_background": "light"
     },
     "output_type": "display_data"
    }
   ],
   "source": [
    "plt.plot(dates_train, train_predictions)\n",
    "plt.plot(dates_train, y_train)\n",
    "plt.plot(dates_val, val_predictions)\n",
    "plt.plot(dates_val, y_val)\n",
    "plt.plot(dates_test, test_predictions)\n",
    "plt.plot(dates_test, y_test)\n",
    "plt.legend(['Training Predictions', \n",
    "            'Training Observations',\n",
    "            'Validation Predictions', \n",
    "            'Validation Observations',\n",
    "            'Testing Predictions', \n",
    "            'Testing Observations'])\n",
    "plt.savefig('Predictions')"
   ]
  },
  {
   "cell_type": "code",
   "execution_count": 143,
   "id": "105f2b44",
   "metadata": {},
   "outputs": [
    {
     "data": {
      "text/plain": [
       "0.84616804"
      ]
     },
     "execution_count": 143,
     "metadata": {},
     "output_type": "execute_result"
    }
   ],
   "source": [
    "rms=np.sqrt(np.mean(np.power((val_predictions),2)))\n",
    "rms"
   ]
  },
  {
   "cell_type": "code",
   "execution_count": 178,
   "id": "e0d1ce7e",
   "metadata": {},
   "outputs": [
    {
     "data": {
      "text/plain": [
       "1.8068826"
      ]
     },
     "execution_count": 178,
     "metadata": {},
     "output_type": "execute_result"
    }
   ],
   "source": [
    "error = rmse(test_predictions,y_test)\n",
    "error"
   ]
  },
  {
   "cell_type": "code",
   "execution_count": 145,
   "id": "b2f29a34",
   "metadata": {},
   "outputs": [
    {
     "data": {
      "text/plain": [
       "-0.005725458"
      ]
     },
     "execution_count": 145,
     "metadata": {},
     "output_type": "execute_result"
    }
   ],
   "source": [
    "y_test.mean()"
   ]
  },
  {
   "cell_type": "code",
   "execution_count": 179,
   "id": "40bb0f55",
   "metadata": {},
   "outputs": [
    {
     "data": {
      "text/plain": [
       "0.95723003"
      ]
     },
     "execution_count": 179,
     "metadata": {},
     "output_type": "execute_result"
    }
   ],
   "source": [
    "test_predictions.mean()"
   ]
  },
  {
   "cell_type": "code",
   "execution_count": 180,
   "id": "c3938b77",
   "metadata": {},
   "outputs": [
    {
     "data": {
      "text/plain": [
       "-168.18838303365175"
      ]
     },
     "execution_count": 180,
     "metadata": {},
     "output_type": "execute_result"
    }
   ],
   "source": [
    "(((test_predictions.mean()*100)/y_test.mean())/100)-1"
   ]
  },
  {
   "cell_type": "markdown",
   "id": "c9a33484",
   "metadata": {},
   "source": [
    "### Recursive prediction using training data to predict val and test dates"
   ]
  },
  {
   "cell_type": "code",
   "execution_count": 148,
   "id": "3f042037",
   "metadata": {},
   "outputs": [],
   "source": [
    "from copy import deepcopy\n",
    "\n",
    "recursive_predictions = []\n",
    "recursive_dates = np.concatenate([dates_val, dates_test])\n",
    "\n",
    "for target_date in recursive_dates:\n",
    "  last_window = deepcopy(X_train[-1])\n",
    "  next_prediction = model.predict(np.array([last_window])).flatten()\n",
    "  recursive_predictions.append(next_prediction)\n",
    "  last_window[-1] = next_prediction"
   ]
  },
  {
   "cell_type": "code",
   "execution_count": 151,
   "id": "3e2673ca",
   "metadata": {
    "scrolled": false
   },
   "outputs": [
    {
     "data": {
      "image/png": "[encoded data removed]",
      "text/plain": [
       "<Figure size 432x288 with 1 Axes>"
      ]
     },
     "metadata": {
      "needs_background": "light"
     },
     "output_type": "display_data"
    }
   ],
   "source": [
    "plt.plot(dates_train, train_predictions)\n",
    "plt.plot(dates_train, y_train)\n",
    "plt.plot(dates_val, val_predictions)\n",
    "plt.plot(dates_val, y_val)\n",
    "plt.plot(dates_test, test_predictions)\n",
    "plt.plot(dates_test, y_test)\n",
    "plt.plot(recursive_dates, recursive_predictions)\n",
    "plt.legend(['Training Predictions', \n",
    "            'Training Observations',\n",
    "            'Validation Predictions', \n",
    "            'Validation Observations',\n",
    "            'Testing Predictions', \n",
    "            'Testing Observations',\n",
    "            'Recursive Predictions'])\n",
    "plt.savefig('PredictionAll')"
   ]
  },
  {
   "cell_type": "code",
   "execution_count": 152,
   "id": "87cd9439",
   "metadata": {},
   "outputs": [
    {
     "data": {
      "text/plain": [
       "0.9470097"
      ]
     },
     "execution_count": 152,
     "metadata": {},
     "output_type": "execute_result"
    }
   ],
   "source": [
    "rms_recursive=np.sqrt(np.mean(np.power((recursive_predictions),2)))\n",
    "rms_recursive"
   ]
  },
  {
   "cell_type": "code",
   "execution_count": null,
   "id": "3fba9e6e",
   "metadata": {},
   "outputs": [],
   "source": []
  },
  {
   "cell_type": "markdown",
   "id": "9563ba7d",
   "metadata": {},
   "source": [
    "### Predicting Closing value"
   ]
  },
  {
   "cell_type": "code",
   "execution_count": null,
   "id": "a834a91d",
   "metadata": {},
   "outputs": [],
   "source": []
  },
  {
   "cell_type": "code",
   "execution_count": 42,
   "id": "180eb1c4",
   "metadata": {},
   "outputs": [
    {
     "data": {
      "text/html": [
       "<div>\n",
       "<style scoped>\n",
       "    .dataframe tbody tr th:only-of-type {\n",
       "        vertical-align: middle;\n",
       "    }\n",
       "\n",
       "    .dataframe tbody tr th {\n",
       "        vertical-align: top;\n",
       "    }\n",
       "\n",
       "    .dataframe thead th {\n",
       "        text-align: right;\n",
       "    }\n",
       "</style>\n",
       "<table border=\"1\" class=\"dataframe\">\n",
       "  <thead>\n",
       "    <tr style=\"text-align: right;\">\n",
       "      <th></th>\n",
       "      <th>date</th>\n",
       "      <th>open</th>\n",
       "      <th>high</th>\n",
       "      <th>low</th>\n",
       "      <th>close</th>\n",
       "      <th>adj close</th>\n",
       "      <th>volume</th>\n",
       "      <th>movement</th>\n",
       "    </tr>\n",
       "  </thead>\n",
       "  <tbody>\n",
       "    <tr>\n",
       "      <th>0</th>\n",
       "      <td>1991-10-01</td>\n",
       "      <td>6.786620</td>\n",
       "      <td>6.786620</td>\n",
       "      <td>6.786620</td>\n",
       "      <td>6.786620</td>\n",
       "      <td>1.290987</td>\n",
       "      <td>0</td>\n",
       "      <td>0.000000</td>\n",
       "    </tr>\n",
       "    <tr>\n",
       "      <th>1</th>\n",
       "      <td>1991-10-02</td>\n",
       "      <td>6.786620</td>\n",
       "      <td>6.786620</td>\n",
       "      <td>6.786620</td>\n",
       "      <td>6.786620</td>\n",
       "      <td>1.290987</td>\n",
       "      <td>0</td>\n",
       "      <td>0.000000</td>\n",
       "    </tr>\n",
       "    <tr>\n",
       "      <th>2</th>\n",
       "      <td>1991-10-03</td>\n",
       "      <td>6.786620</td>\n",
       "      <td>6.786620</td>\n",
       "      <td>6.786620</td>\n",
       "      <td>6.786620</td>\n",
       "      <td>1.290987</td>\n",
       "      <td>0</td>\n",
       "      <td>0.000000</td>\n",
       "    </tr>\n",
       "    <tr>\n",
       "      <th>3</th>\n",
       "      <td>1991-10-04</td>\n",
       "      <td>6.786620</td>\n",
       "      <td>6.786620</td>\n",
       "      <td>6.786620</td>\n",
       "      <td>6.786620</td>\n",
       "      <td>1.290987</td>\n",
       "      <td>0</td>\n",
       "      <td>0.000000</td>\n",
       "    </tr>\n",
       "    <tr>\n",
       "      <th>4</th>\n",
       "      <td>1991-10-07</td>\n",
       "      <td>6.786620</td>\n",
       "      <td>6.786620</td>\n",
       "      <td>6.786620</td>\n",
       "      <td>6.786620</td>\n",
       "      <td>1.290987</td>\n",
       "      <td>0</td>\n",
       "      <td>0.000000</td>\n",
       "    </tr>\n",
       "    <tr>\n",
       "      <th>...</th>\n",
       "      <td>...</td>\n",
       "      <td>...</td>\n",
       "      <td>...</td>\n",
       "      <td>...</td>\n",
       "      <td>...</td>\n",
       "      <td>...</td>\n",
       "      <td>...</td>\n",
       "      <td>...</td>\n",
       "    </tr>\n",
       "    <tr>\n",
       "      <th>7856</th>\n",
       "      <td>2022-09-29</td>\n",
       "      <td>93.830002</td>\n",
       "      <td>94.190002</td>\n",
       "      <td>93.120003</td>\n",
       "      <td>93.120003</td>\n",
       "      <td>93.120003</td>\n",
       "      <td>2094138</td>\n",
       "      <td>-0.709999</td>\n",
       "    </tr>\n",
       "    <tr>\n",
       "      <th>7857</th>\n",
       "      <td>2022-09-30</td>\n",
       "      <td>93.220001</td>\n",
       "      <td>93.230003</td>\n",
       "      <td>90.260002</td>\n",
       "      <td>90.699997</td>\n",
       "      <td>90.699997</td>\n",
       "      <td>3741428</td>\n",
       "      <td>-2.520004</td>\n",
       "    </tr>\n",
       "    <tr>\n",
       "      <th>7858</th>\n",
       "      <td>2022-10-03</td>\n",
       "      <td>91.150002</td>\n",
       "      <td>91.370003</td>\n",
       "      <td>89.660004</td>\n",
       "      <td>90.610001</td>\n",
       "      <td>90.610001</td>\n",
       "      <td>2038034</td>\n",
       "      <td>-0.540001</td>\n",
       "    </tr>\n",
       "    <tr>\n",
       "      <th>7859</th>\n",
       "      <td>2022-10-04</td>\n",
       "      <td>92.000000</td>\n",
       "      <td>94.870003</td>\n",
       "      <td>91.889999</td>\n",
       "      <td>94.790001</td>\n",
       "      <td>94.790001</td>\n",
       "      <td>3030551</td>\n",
       "      <td>2.790001</td>\n",
       "    </tr>\n",
       "    <tr>\n",
       "      <th>7860</th>\n",
       "      <td>2022-10-05</td>\n",
       "      <td>95.989998</td>\n",
       "      <td>97.599998</td>\n",
       "      <td>95.790001</td>\n",
       "      <td>97.290001</td>\n",
       "      <td>97.290001</td>\n",
       "      <td>3840988</td>\n",
       "      <td>1.300003</td>\n",
       "    </tr>\n",
       "  </tbody>\n",
       "</table>\n",
       "<p>7861 rows × 8 columns</p>\n",
       "</div>"
      ],
      "text/plain": [
       "           date       open       high        low      close  adj close  \\\n",
       "0    1991-10-01   6.786620   6.786620   6.786620   6.786620   1.290987   \n",
       "1    1991-10-02   6.786620   6.786620   6.786620   6.786620   1.290987   \n",
       "2    1991-10-03   6.786620   6.786620   6.786620   6.786620   1.290987   \n",
       "3    1991-10-04   6.786620   6.786620   6.786620   6.786620   1.290987   \n",
       "4    1991-10-07   6.786620   6.786620   6.786620   6.786620   1.290987   \n",
       "...         ...        ...        ...        ...        ...        ...   \n",
       "7856 2022-09-29  93.830002  94.190002  93.120003  93.120003  93.120003   \n",
       "7857 2022-09-30  93.220001  93.230003  90.260002  90.699997  90.699997   \n",
       "7858 2022-10-03  91.150002  91.370003  89.660004  90.610001  90.610001   \n",
       "7859 2022-10-04  92.000000  94.870003  91.889999  94.790001  94.790001   \n",
       "7860 2022-10-05  95.989998  97.599998  95.790001  97.290001  97.290001   \n",
       "\n",
       "       volume  movement  \n",
       "0           0  0.000000  \n",
       "1           0  0.000000  \n",
       "2           0  0.000000  \n",
       "3           0  0.000000  \n",
       "4           0  0.000000  \n",
       "...       ...       ...  \n",
       "7856  2094138 -0.709999  \n",
       "7857  3741428 -2.520004  \n",
       "7858  2038034 -0.540001  \n",
       "7859  3030551  2.790001  \n",
       "7860  3840988  1.300003  \n",
       "\n",
       "[7861 rows x 8 columns]"
      ]
     },
     "execution_count": 42,
     "metadata": {},
     "output_type": "execute_result"
    }
   ],
   "source": [
    "cba"
   ]
  },
  {
   "cell_type": "code",
   "execution_count": 45,
   "id": "ae97f630",
   "metadata": {},
   "outputs": [],
   "source": [
    "cbac = cba.copy()"
   ]
  },
  {
   "cell_type": "code",
   "execution_count": 46,
   "id": "7bc8a3a4",
   "metadata": {},
   "outputs": [],
   "source": [
    "cbac = cbac.drop(labels = ['open', 'high', 'low', 'movement', 'adj close', 'volume'], axis=1)"
   ]
  },
  {
   "cell_type": "code",
   "execution_count": 47,
   "id": "f645cd70",
   "metadata": {},
   "outputs": [
    {
     "data": {
      "text/html": [
       "<div>\n",
       "<style scoped>\n",
       "    .dataframe tbody tr th:only-of-type {\n",
       "        vertical-align: middle;\n",
       "    }\n",
       "\n",
       "    .dataframe tbody tr th {\n",
       "        vertical-align: top;\n",
       "    }\n",
       "\n",
       "    .dataframe thead th {\n",
       "        text-align: right;\n",
       "    }\n",
       "</style>\n",
       "<table border=\"1\" class=\"dataframe\">\n",
       "  <thead>\n",
       "    <tr style=\"text-align: right;\">\n",
       "      <th></th>\n",
       "      <th>date</th>\n",
       "      <th>close</th>\n",
       "    </tr>\n",
       "  </thead>\n",
       "  <tbody>\n",
       "    <tr>\n",
       "      <th>0</th>\n",
       "      <td>1991-10-01</td>\n",
       "      <td>6.786620</td>\n",
       "    </tr>\n",
       "    <tr>\n",
       "      <th>1</th>\n",
       "      <td>1991-10-02</td>\n",
       "      <td>6.786620</td>\n",
       "    </tr>\n",
       "    <tr>\n",
       "      <th>2</th>\n",
       "      <td>1991-10-03</td>\n",
       "      <td>6.786620</td>\n",
       "    </tr>\n",
       "    <tr>\n",
       "      <th>3</th>\n",
       "      <td>1991-10-04</td>\n",
       "      <td>6.786620</td>\n",
       "    </tr>\n",
       "    <tr>\n",
       "      <th>4</th>\n",
       "      <td>1991-10-07</td>\n",
       "      <td>6.786620</td>\n",
       "    </tr>\n",
       "    <tr>\n",
       "      <th>...</th>\n",
       "      <td>...</td>\n",
       "      <td>...</td>\n",
       "    </tr>\n",
       "    <tr>\n",
       "      <th>7856</th>\n",
       "      <td>2022-09-29</td>\n",
       "      <td>93.120003</td>\n",
       "    </tr>\n",
       "    <tr>\n",
       "      <th>7857</th>\n",
       "      <td>2022-09-30</td>\n",
       "      <td>90.699997</td>\n",
       "    </tr>\n",
       "    <tr>\n",
       "      <th>7858</th>\n",
       "      <td>2022-10-03</td>\n",
       "      <td>90.610001</td>\n",
       "    </tr>\n",
       "    <tr>\n",
       "      <th>7859</th>\n",
       "      <td>2022-10-04</td>\n",
       "      <td>94.790001</td>\n",
       "    </tr>\n",
       "    <tr>\n",
       "      <th>7860</th>\n",
       "      <td>2022-10-05</td>\n",
       "      <td>97.290001</td>\n",
       "    </tr>\n",
       "  </tbody>\n",
       "</table>\n",
       "<p>7861 rows × 2 columns</p>\n",
       "</div>"
      ],
      "text/plain": [
       "           date      close\n",
       "0    1991-10-01   6.786620\n",
       "1    1991-10-02   6.786620\n",
       "2    1991-10-03   6.786620\n",
       "3    1991-10-04   6.786620\n",
       "4    1991-10-07   6.786620\n",
       "...         ...        ...\n",
       "7856 2022-09-29  93.120003\n",
       "7857 2022-09-30  90.699997\n",
       "7858 2022-10-03  90.610001\n",
       "7859 2022-10-04  94.790001\n",
       "7860 2022-10-05  97.290001\n",
       "\n",
       "[7861 rows x 2 columns]"
      ]
     },
     "execution_count": 47,
     "metadata": {},
     "output_type": "execute_result"
    }
   ],
   "source": [
    "cbac"
   ]
  },
  {
   "cell_type": "code",
   "execution_count": 48,
   "id": "e946c4ff",
   "metadata": {},
   "outputs": [],
   "source": [
    "cbac.index = cbac.pop('date')"
   ]
  },
  {
   "cell_type": "code",
   "execution_count": 49,
   "id": "cf6301c5",
   "metadata": {
    "scrolled": true
   },
   "outputs": [
    {
     "data": {
      "text/html": [
       "<div>\n",
       "<style scoped>\n",
       "    .dataframe tbody tr th:only-of-type {\n",
       "        vertical-align: middle;\n",
       "    }\n",
       "\n",
       "    .dataframe tbody tr th {\n",
       "        vertical-align: top;\n",
       "    }\n",
       "\n",
       "    .dataframe thead th {\n",
       "        text-align: right;\n",
       "    }\n",
       "</style>\n",
       "<table border=\"1\" class=\"dataframe\">\n",
       "  <thead>\n",
       "    <tr style=\"text-align: right;\">\n",
       "      <th></th>\n",
       "      <th>close</th>\n",
       "    </tr>\n",
       "    <tr>\n",
       "      <th>date</th>\n",
       "      <th></th>\n",
       "    </tr>\n",
       "  </thead>\n",
       "  <tbody>\n",
       "    <tr>\n",
       "      <th>1991-10-01</th>\n",
       "      <td>6.786620</td>\n",
       "    </tr>\n",
       "    <tr>\n",
       "      <th>1991-10-02</th>\n",
       "      <td>6.786620</td>\n",
       "    </tr>\n",
       "    <tr>\n",
       "      <th>1991-10-03</th>\n",
       "      <td>6.786620</td>\n",
       "    </tr>\n",
       "    <tr>\n",
       "      <th>1991-10-04</th>\n",
       "      <td>6.786620</td>\n",
       "    </tr>\n",
       "    <tr>\n",
       "      <th>1991-10-07</th>\n",
       "      <td>6.786620</td>\n",
       "    </tr>\n",
       "    <tr>\n",
       "      <th>...</th>\n",
       "      <td>...</td>\n",
       "    </tr>\n",
       "    <tr>\n",
       "      <th>2022-09-29</th>\n",
       "      <td>93.120003</td>\n",
       "    </tr>\n",
       "    <tr>\n",
       "      <th>2022-09-30</th>\n",
       "      <td>90.699997</td>\n",
       "    </tr>\n",
       "    <tr>\n",
       "      <th>2022-10-03</th>\n",
       "      <td>90.610001</td>\n",
       "    </tr>\n",
       "    <tr>\n",
       "      <th>2022-10-04</th>\n",
       "      <td>94.790001</td>\n",
       "    </tr>\n",
       "    <tr>\n",
       "      <th>2022-10-05</th>\n",
       "      <td>97.290001</td>\n",
       "    </tr>\n",
       "  </tbody>\n",
       "</table>\n",
       "<p>7861 rows × 1 columns</p>\n",
       "</div>"
      ],
      "text/plain": [
       "                close\n",
       "date                 \n",
       "1991-10-01   6.786620\n",
       "1991-10-02   6.786620\n",
       "1991-10-03   6.786620\n",
       "1991-10-04   6.786620\n",
       "1991-10-07   6.786620\n",
       "...               ...\n",
       "2022-09-29  93.120003\n",
       "2022-09-30  90.699997\n",
       "2022-10-03  90.610001\n",
       "2022-10-04  94.790001\n",
       "2022-10-05  97.290001\n",
       "\n",
       "[7861 rows x 1 columns]"
      ]
     },
     "execution_count": 49,
     "metadata": {},
     "output_type": "execute_result"
    }
   ],
   "source": [
    "cbac"
   ]
  },
  {
   "cell_type": "code",
   "execution_count": null,
   "id": "e4a9a25d",
   "metadata": {},
   "outputs": [],
   "source": []
  },
  {
   "cell_type": "code",
   "execution_count": 52,
   "id": "39a6c493",
   "metadata": {},
   "outputs": [],
   "source": [
    "def create_features(cbac):\n",
    "    \"\"\"\n",
    "    Create time series features based on time series index.\n",
    "    \"\"\"\n",
    "    cbac['dayofweek'] = cbac.index.dayofweek\n",
    "    cbac['quarter'] = cbac.index.quarter\n",
    "    cbac['month'] = cbac.index.month\n",
    "    cbac['year'] = cbac.index.year\n",
    "    return cbac\n"
   ]
  },
  {
   "cell_type": "code",
   "execution_count": 53,
   "id": "13fe1ee2",
   "metadata": {},
   "outputs": [],
   "source": [
    "cbac = create_features(cbac)"
   ]
  },
  {
   "cell_type": "code",
   "execution_count": 54,
   "id": "5dbcf86a",
   "metadata": {},
   "outputs": [
    {
     "data": {
      "text/html": [
       "<div>\n",
       "<style scoped>\n",
       "    .dataframe tbody tr th:only-of-type {\n",
       "        vertical-align: middle;\n",
       "    }\n",
       "\n",
       "    .dataframe tbody tr th {\n",
       "        vertical-align: top;\n",
       "    }\n",
       "\n",
       "    .dataframe thead th {\n",
       "        text-align: right;\n",
       "    }\n",
       "</style>\n",
       "<table border=\"1\" class=\"dataframe\">\n",
       "  <thead>\n",
       "    <tr style=\"text-align: right;\">\n",
       "      <th></th>\n",
       "      <th>close</th>\n",
       "      <th>dayofweek</th>\n",
       "      <th>quarter</th>\n",
       "      <th>month</th>\n",
       "      <th>year</th>\n",
       "    </tr>\n",
       "    <tr>\n",
       "      <th>date</th>\n",
       "      <th></th>\n",
       "      <th></th>\n",
       "      <th></th>\n",
       "      <th></th>\n",
       "      <th></th>\n",
       "    </tr>\n",
       "  </thead>\n",
       "  <tbody>\n",
       "    <tr>\n",
       "      <th>1991-10-01</th>\n",
       "      <td>6.786620</td>\n",
       "      <td>1</td>\n",
       "      <td>4</td>\n",
       "      <td>10</td>\n",
       "      <td>1991</td>\n",
       "    </tr>\n",
       "    <tr>\n",
       "      <th>1991-10-02</th>\n",
       "      <td>6.786620</td>\n",
       "      <td>2</td>\n",
       "      <td>4</td>\n",
       "      <td>10</td>\n",
       "      <td>1991</td>\n",
       "    </tr>\n",
       "    <tr>\n",
       "      <th>1991-10-03</th>\n",
       "      <td>6.786620</td>\n",
       "      <td>3</td>\n",
       "      <td>4</td>\n",
       "      <td>10</td>\n",
       "      <td>1991</td>\n",
       "    </tr>\n",
       "    <tr>\n",
       "      <th>1991-10-04</th>\n",
       "      <td>6.786620</td>\n",
       "      <td>4</td>\n",
       "      <td>4</td>\n",
       "      <td>10</td>\n",
       "      <td>1991</td>\n",
       "    </tr>\n",
       "    <tr>\n",
       "      <th>1991-10-07</th>\n",
       "      <td>6.786620</td>\n",
       "      <td>0</td>\n",
       "      <td>4</td>\n",
       "      <td>10</td>\n",
       "      <td>1991</td>\n",
       "    </tr>\n",
       "    <tr>\n",
       "      <th>...</th>\n",
       "      <td>...</td>\n",
       "      <td>...</td>\n",
       "      <td>...</td>\n",
       "      <td>...</td>\n",
       "      <td>...</td>\n",
       "    </tr>\n",
       "    <tr>\n",
       "      <th>2022-09-29</th>\n",
       "      <td>93.120003</td>\n",
       "      <td>3</td>\n",
       "      <td>3</td>\n",
       "      <td>9</td>\n",
       "      <td>2022</td>\n",
       "    </tr>\n",
       "    <tr>\n",
       "      <th>2022-09-30</th>\n",
       "      <td>90.699997</td>\n",
       "      <td>4</td>\n",
       "      <td>3</td>\n",
       "      <td>9</td>\n",
       "      <td>2022</td>\n",
       "    </tr>\n",
       "    <tr>\n",
       "      <th>2022-10-03</th>\n",
       "      <td>90.610001</td>\n",
       "      <td>0</td>\n",
       "      <td>4</td>\n",
       "      <td>10</td>\n",
       "      <td>2022</td>\n",
       "    </tr>\n",
       "    <tr>\n",
       "      <th>2022-10-04</th>\n",
       "      <td>94.790001</td>\n",
       "      <td>1</td>\n",
       "      <td>4</td>\n",
       "      <td>10</td>\n",
       "      <td>2022</td>\n",
       "    </tr>\n",
       "    <tr>\n",
       "      <th>2022-10-05</th>\n",
       "      <td>97.290001</td>\n",
       "      <td>2</td>\n",
       "      <td>4</td>\n",
       "      <td>10</td>\n",
       "      <td>2022</td>\n",
       "    </tr>\n",
       "  </tbody>\n",
       "</table>\n",
       "<p>7861 rows × 5 columns</p>\n",
       "</div>"
      ],
      "text/plain": [
       "                close  dayofweek  quarter  month  year\n",
       "date                                                  \n",
       "1991-10-01   6.786620          1        4     10  1991\n",
       "1991-10-02   6.786620          2        4     10  1991\n",
       "1991-10-03   6.786620          3        4     10  1991\n",
       "1991-10-04   6.786620          4        4     10  1991\n",
       "1991-10-07   6.786620          0        4     10  1991\n",
       "...               ...        ...      ...    ...   ...\n",
       "2022-09-29  93.120003          3        3      9  2022\n",
       "2022-09-30  90.699997          4        3      9  2022\n",
       "2022-10-03  90.610001          0        4     10  2022\n",
       "2022-10-04  94.790001          1        4     10  2022\n",
       "2022-10-05  97.290001          2        4     10  2022\n",
       "\n",
       "[7861 rows x 5 columns]"
      ]
     },
     "execution_count": 54,
     "metadata": {},
     "output_type": "execute_result"
    }
   ],
   "source": [
    "cbac"
   ]
  },
  {
   "cell_type": "code",
   "execution_count": 153,
   "id": "04bdda18",
   "metadata": {},
   "outputs": [
    {
     "data": {
      "image/png": "[encoded data removed]",
      "text/plain": [
       "<Figure size 720x576 with 1 Axes>"
      ]
     },
     "metadata": {
      "needs_background": "light"
     },
     "output_type": "display_data"
    }
   ],
   "source": [
    "fig, ax = plt.subplots(figsize=(10, 8))\n",
    "sns.boxplot(data=cbac, x='dayofweek', y='close')\n",
    "ax.set_title('Price by day of week')\n",
    "plt.savefig('CloseByDayOfWeek')\n",
    "plt.show()"
   ]
  },
  {
   "cell_type": "code",
   "execution_count": 154,
   "id": "609c2bd5",
   "metadata": {},
   "outputs": [
    {
     "data": {
      "image/png": "[encoded data removed]",
      "text/plain": [
       "<Figure size 720x576 with 1 Axes>"
      ]
     },
     "metadata": {
      "needs_background": "light"
     },
     "output_type": "display_data"
    }
   ],
   "source": [
    "fig, ax = plt.subplots(figsize=(10, 8))\n",
    "sns.boxplot(data=cbac, x='month', y='close')\n",
    "ax.set_title('Price by month')\n",
    "plt.savefig('CloseByMonth')\n",
    "plt.show()"
   ]
  },
  {
   "cell_type": "code",
   "execution_count": 155,
   "id": "a9c4f7f4",
   "metadata": {},
   "outputs": [
    {
     "data": {
      "image/png": "[encoded data removed]",
      "text/plain": [
       "<Figure size 720x576 with 1 Axes>"
      ]
     },
     "metadata": {
      "needs_background": "light"
     },
     "output_type": "display_data"
    }
   ],
   "source": [
    "fig, ax = plt.subplots(figsize=(10, 8))\n",
    "sns.boxplot(data=cbac, x='quarter', y='close')\n",
    "ax.set_title('Price by quarter')\n",
    "plt.savefig('CloseByQuarter')\n",
    "plt.show()"
   ]
  },
  {
   "cell_type": "code",
   "execution_count": 156,
   "id": "7fbb18d8",
   "metadata": {},
   "outputs": [
    {
     "data": {
      "image/png": "[encoded data removed]",
      "text/plain": [
       "<Figure size 720x576 with 1 Axes>"
      ]
     },
     "metadata": {
      "needs_background": "light"
     },
     "output_type": "display_data"
    }
   ],
   "source": [
    "fig, ax = plt.subplots(figsize=(10, 8))\n",
    "sns.boxplot(data=cbac, x='year', y='close')\n",
    "ax.set_title('Price by year')\n",
    "plt.savefig('CloseByYear')\n",
    "plt.show()"
   ]
  },
  {
   "cell_type": "markdown",
   "id": "e896c6fa",
   "metadata": {},
   "source": [
    "### Converting data to Supervised learning problem"
   ]
  },
  {
   "cell_type": "code",
   "execution_count": 61,
   "id": "1c9c03fc",
   "metadata": {},
   "outputs": [],
   "source": [
    "def df_to_windowed_df(dataframe, first_date_str, last_date_str, n=3): #3days before target day\n",
    "  first_date = str_to_datetime(first_date_str)\n",
    "  last_date  = str_to_datetime(last_date_str)\n",
    "\n",
    "  target_date = first_date\n",
    "  \n",
    "  dates = []\n",
    "  X, Y = [], []\n",
    "\n",
    "  last_time = False\n",
    "  while True:\n",
    "    df_subset = dataframe.loc[:target_date].tail(n+1)\n",
    "    \n",
    "    if len(df_subset) != n+1:\n",
    "      print(f'Error: Window of size {n} is too large for date {target_date}')\n",
    "      return\n",
    "\n",
    "    values = df_subset['close'].to_numpy()\n",
    "    x, y = values[:-1], values[-1]\n",
    "\n",
    "    dates.append(target_date)\n",
    "    X.append(x)\n",
    "    Y.append(y)\n",
    "\n",
    "    next_week = dataframe.loc[target_date:target_date+datetime.timedelta(days=7)]\n",
    "    next_datetime_str = str(next_week.head(2).tail(1).index.values[0])\n",
    "    next_date_str = next_datetime_str.split('T')[0]\n",
    "    year_month_day = next_date_str.split('-')\n",
    "    year, month, day = year_month_day\n",
    "    next_date = datetime.datetime(day=int(day), month=int(month), year=int(year))\n",
    "    \n",
    "    if last_time:\n",
    "      break\n",
    "    \n",
    "    target_date = next_date\n",
    "\n",
    "    if target_date == last_date:\n",
    "      last_time = True\n",
    "    \n",
    "  ret_df = pd.DataFrame({})\n",
    "  ret_df['Target Date'] = dates\n",
    "  \n",
    "  X = np.array(X)\n",
    "  for i in range(0, n):\n",
    "    X[:, i]\n",
    "    ret_df[f'Target-{n-i}'] = X[:, i]\n",
    "  \n",
    "  ret_df['Target'] = Y\n",
    "\n",
    "  return ret_df"
   ]
  },
  {
   "cell_type": "code",
   "execution_count": null,
   "id": "ed1499d6",
   "metadata": {},
   "outputs": [],
   "source": []
  },
  {
   "cell_type": "code",
   "execution_count": null,
   "id": "deb2c516",
   "metadata": {},
   "outputs": [],
   "source": []
  },
  {
   "cell_type": "code",
   "execution_count": null,
   "id": "a87347e6",
   "metadata": {},
   "outputs": [],
   "source": []
  },
  {
   "cell_type": "code",
   "execution_count": 62,
   "id": "416a213a",
   "metadata": {},
   "outputs": [
    {
     "data": {
      "text/html": [
       "<div>\n",
       "<style scoped>\n",
       "    .dataframe tbody tr th:only-of-type {\n",
       "        vertical-align: middle;\n",
       "    }\n",
       "\n",
       "    .dataframe tbody tr th {\n",
       "        vertical-align: top;\n",
       "    }\n",
       "\n",
       "    .dataframe thead th {\n",
       "        text-align: right;\n",
       "    }\n",
       "</style>\n",
       "<table border=\"1\" class=\"dataframe\">\n",
       "  <thead>\n",
       "    <tr style=\"text-align: right;\">\n",
       "      <th></th>\n",
       "      <th>Target Date</th>\n",
       "      <th>Target-3</th>\n",
       "      <th>Target-2</th>\n",
       "      <th>Target-1</th>\n",
       "      <th>Target</th>\n",
       "    </tr>\n",
       "  </thead>\n",
       "  <tbody>\n",
       "    <tr>\n",
       "      <th>0</th>\n",
       "      <td>1991-10-04</td>\n",
       "      <td>6.786620</td>\n",
       "      <td>6.786620</td>\n",
       "      <td>6.786620</td>\n",
       "      <td>6.786620</td>\n",
       "    </tr>\n",
       "    <tr>\n",
       "      <th>1</th>\n",
       "      <td>1991-10-07</td>\n",
       "      <td>6.786620</td>\n",
       "      <td>6.786620</td>\n",
       "      <td>6.786620</td>\n",
       "      <td>6.786620</td>\n",
       "    </tr>\n",
       "    <tr>\n",
       "      <th>2</th>\n",
       "      <td>1991-10-08</td>\n",
       "      <td>6.786620</td>\n",
       "      <td>6.786620</td>\n",
       "      <td>6.786620</td>\n",
       "      <td>6.786620</td>\n",
       "    </tr>\n",
       "    <tr>\n",
       "      <th>3</th>\n",
       "      <td>1991-10-09</td>\n",
       "      <td>6.786620</td>\n",
       "      <td>6.786620</td>\n",
       "      <td>6.786620</td>\n",
       "      <td>6.786620</td>\n",
       "    </tr>\n",
       "    <tr>\n",
       "      <th>4</th>\n",
       "      <td>1991-10-10</td>\n",
       "      <td>6.786620</td>\n",
       "      <td>6.786620</td>\n",
       "      <td>6.786620</td>\n",
       "      <td>6.786620</td>\n",
       "    </tr>\n",
       "    <tr>\n",
       "      <th>...</th>\n",
       "      <td>...</td>\n",
       "      <td>...</td>\n",
       "      <td>...</td>\n",
       "      <td>...</td>\n",
       "      <td>...</td>\n",
       "    </tr>\n",
       "    <tr>\n",
       "      <th>7853</th>\n",
       "      <td>2022-09-29</td>\n",
       "      <td>93.610001</td>\n",
       "      <td>93.430000</td>\n",
       "      <td>92.540001</td>\n",
       "      <td>93.120003</td>\n",
       "    </tr>\n",
       "    <tr>\n",
       "      <th>7854</th>\n",
       "      <td>2022-09-30</td>\n",
       "      <td>93.430000</td>\n",
       "      <td>92.540001</td>\n",
       "      <td>93.120003</td>\n",
       "      <td>90.699997</td>\n",
       "    </tr>\n",
       "    <tr>\n",
       "      <th>7855</th>\n",
       "      <td>2022-10-03</td>\n",
       "      <td>92.540001</td>\n",
       "      <td>93.120003</td>\n",
       "      <td>90.699997</td>\n",
       "      <td>90.610001</td>\n",
       "    </tr>\n",
       "    <tr>\n",
       "      <th>7856</th>\n",
       "      <td>2022-10-04</td>\n",
       "      <td>93.120003</td>\n",
       "      <td>90.699997</td>\n",
       "      <td>90.610001</td>\n",
       "      <td>94.790001</td>\n",
       "    </tr>\n",
       "    <tr>\n",
       "      <th>7857</th>\n",
       "      <td>2022-10-05</td>\n",
       "      <td>90.699997</td>\n",
       "      <td>90.610001</td>\n",
       "      <td>94.790001</td>\n",
       "      <td>97.290001</td>\n",
       "    </tr>\n",
       "  </tbody>\n",
       "</table>\n",
       "<p>7858 rows × 5 columns</p>\n",
       "</div>"
      ],
      "text/plain": [
       "     Target Date   Target-3   Target-2   Target-1     Target\n",
       "0     1991-10-04   6.786620   6.786620   6.786620   6.786620\n",
       "1     1991-10-07   6.786620   6.786620   6.786620   6.786620\n",
       "2     1991-10-08   6.786620   6.786620   6.786620   6.786620\n",
       "3     1991-10-09   6.786620   6.786620   6.786620   6.786620\n",
       "4     1991-10-10   6.786620   6.786620   6.786620   6.786620\n",
       "...          ...        ...        ...        ...        ...\n",
       "7853  2022-09-29  93.610001  93.430000  92.540001  93.120003\n",
       "7854  2022-09-30  93.430000  92.540001  93.120003  90.699997\n",
       "7855  2022-10-03  92.540001  93.120003  90.699997  90.610001\n",
       "7856  2022-10-04  93.120003  90.699997  90.610001  94.790001\n",
       "7857  2022-10-05  90.699997  90.610001  94.790001  97.290001\n",
       "\n",
       "[7858 rows x 5 columns]"
      ]
     },
     "execution_count": 62,
     "metadata": {},
     "output_type": "execute_result"
    }
   ],
   "source": [
    "# Start day second time around \n",
    "windowed_dfc = df_to_windowed_df(cbac, \n",
    "                                '1991-10-04', \n",
    "                                '2022-10-05', \n",
    "                                n=3)\n",
    "windowed_dfc"
   ]
  },
  {
   "cell_type": "markdown",
   "id": "11f2ae5c",
   "metadata": {},
   "source": [
    "### Convert data to numpy array"
   ]
  },
  {
   "cell_type": "code",
   "execution_count": 65,
   "id": "76c24901",
   "metadata": {},
   "outputs": [
    {
     "data": {
      "text/plain": [
       "((7858,), (7858, 3, 1), (7858,))"
      ]
     },
     "execution_count": 65,
     "metadata": {},
     "output_type": "execute_result"
    }
   ],
   "source": [
    "def windowed_dfc_to_date_X_y(windowed_dataframe):\n",
    "  df_as_np = windowed_dataframe.to_numpy()\n",
    "\n",
    "  datesc = df_as_np[:, 0]\n",
    "\n",
    "  middle_matrix = df_as_np[:, 1:-1]\n",
    "  Xc = middle_matrix.reshape((len(dates), middle_matrix.shape[1], 1)) # Using 1 for Univariate forecasting\n",
    "\n",
    "  Yc = df_as_np[:, -1]\n",
    "\n",
    "  return datesc, Xc.astype(np.float32), Yc.astype(np.float32)\n",
    "\n",
    "datesc, Xc, yc = windowed_dfc_to_date_X_y(windowed_dfc)\n",
    "\n",
    "datesc.shape, Xc.shape, yc.shape"
   ]
  },
  {
   "cell_type": "markdown",
   "id": "13e66f4a",
   "metadata": {},
   "source": [
    "### Split data into Train and Test"
   ]
  },
  {
   "cell_type": "code",
   "execution_count": 157,
   "id": "e8d0fee5",
   "metadata": {},
   "outputs": [
    {
     "data": {
      "image/png": "[encoded data removed]",
      "text/plain": [
       "<Figure size 432x288 with 1 Axes>"
      ]
     },
     "metadata": {
      "needs_background": "light"
     },
     "output_type": "display_data"
    }
   ],
   "source": [
    "q_80 = int(len(datesc) * .8)\n",
    "q_90 = int(len(datesc) * .9)\n",
    "\n",
    "datesc_train, Xc_train, yc_train = datesc[:q_80], Xc[:q_80], yc[:q_80]\n",
    "\n",
    "datesc_val, Xc_val, yc_val = datesc[q_80:q_90], Xc[q_80:q_90], yc[q_80:q_90]\n",
    "datesc_test, Xc_test, yc_test = datesc[q_90:], Xc[q_90:], yc[q_90:]\n",
    "\n",
    "plt.plot(datesc_train, yc_train)\n",
    "plt.plot(datesc_val, yc_val)\n",
    "plt.plot(datesc_test, yc_test)\n",
    "\n",
    "plt.legend(['Train', 'Validation', 'Test'])\n",
    "plt.savefig('DataSplitClose')"
   ]
  },
  {
   "cell_type": "code",
   "execution_count": 172,
   "id": "5781c0f8",
   "metadata": {},
   "outputs": [
    {
     "name": "stdout",
     "output_type": "stream",
     "text": [
      "6286\n",
      "786\n",
      "786\n"
     ]
    }
   ],
   "source": [
    "print(len(datesc_train))\n",
    "print(len(datesc_val))\n",
    "print(len(datesc_test))"
   ]
  },
  {
   "cell_type": "code",
   "execution_count": 67,
   "id": "a3670875",
   "metadata": {},
   "outputs": [
    {
     "name": "stdout",
     "output_type": "stream",
     "text": [
      "Epoch 1/100\n",
      "197/197 [==============================] - 3s 5ms/step - loss: 713.4640 - mean_absolute_error: 16.6130 - val_loss: 1.5519 - val_mean_absolute_error: 0.9943\n",
      "Epoch 2/100\n",
      "197/197 [==============================] - 1s 3ms/step - loss: 0.6693 - mean_absolute_error: 0.4586 - val_loss: 0.7053 - val_mean_absolute_error: 0.6374\n",
      "Epoch 3/100\n",
      "197/197 [==============================] - 1s 3ms/step - loss: 0.4842 - mean_absolute_error: 0.4456 - val_loss: 1.0412 - val_mean_absolute_error: 0.8022\n",
      "Epoch 4/100\n",
      "197/197 [==============================] - 1s 3ms/step - loss: 0.4468 - mean_absolute_error: 0.4418 - val_loss: 0.6439 - val_mean_absolute_error: 0.6101\n",
      "Epoch 5/100\n",
      "197/197 [==============================] - 1s 3ms/step - loss: 0.3934 - mean_absolute_error: 0.4053 - val_loss: 1.0584 - val_mean_absolute_error: 0.8059\n",
      "Epoch 6/100\n",
      "197/197 [==============================] - 1s 3ms/step - loss: 0.4548 - mean_absolute_error: 0.4499 - val_loss: 0.7464 - val_mean_absolute_error: 0.6559\n",
      "Epoch 7/100\n",
      "197/197 [==============================] - 1s 3ms/step - loss: 0.4318 - mean_absolute_error: 0.4330 - val_loss: 0.6807 - val_mean_absolute_error: 0.6213\n",
      "Epoch 8/100\n",
      "197/197 [==============================] - 1s 3ms/step - loss: 0.3987 - mean_absolute_error: 0.4102 - val_loss: 0.6474 - val_mean_absolute_error: 0.6121\n",
      "Epoch 9/100\n",
      "197/197 [==============================] - 1s 3ms/step - loss: 0.3817 - mean_absolute_error: 0.3998 - val_loss: 0.6363 - val_mean_absolute_error: 0.6028\n",
      "Epoch 10/100\n",
      "197/197 [==============================] - 1s 3ms/step - loss: 0.4067 - mean_absolute_error: 0.4277 - val_loss: 0.7239 - val_mean_absolute_error: 0.6551\n",
      "Epoch 11/100\n",
      "197/197 [==============================] - 1s 3ms/step - loss: 0.4197 - mean_absolute_error: 0.4385 - val_loss: 0.9090 - val_mean_absolute_error: 0.7541\n",
      "Epoch 12/100\n",
      "197/197 [==============================] - 1s 3ms/step - loss: 0.3700 - mean_absolute_error: 0.3998 - val_loss: 0.6625 - val_mean_absolute_error: 0.6214\n",
      "Epoch 13/100\n",
      "197/197 [==============================] - 1s 3ms/step - loss: 0.4024 - mean_absolute_error: 0.4252 - val_loss: 1.1168 - val_mean_absolute_error: 0.8555\n",
      "Epoch 14/100\n",
      "197/197 [==============================] - 1s 3ms/step - loss: 0.3977 - mean_absolute_error: 0.4160 - val_loss: 0.9348 - val_mean_absolute_error: 0.7708\n",
      "Epoch 15/100\n",
      "197/197 [==============================] - 1s 4ms/step - loss: 0.4181 - mean_absolute_error: 0.4360 - val_loss: 1.5985 - val_mean_absolute_error: 1.0501\n",
      "Epoch 16/100\n",
      "197/197 [==============================] - 1s 4ms/step - loss: 0.4306 - mean_absolute_error: 0.4433 - val_loss: 1.0245 - val_mean_absolute_error: 0.7907\n",
      "Epoch 17/100\n",
      "197/197 [==============================] - 1s 3ms/step - loss: 0.4015 - mean_absolute_error: 0.4276 - val_loss: 1.1949 - val_mean_absolute_error: 0.8985\n",
      "Epoch 18/100\n",
      "197/197 [==============================] - 1s 3ms/step - loss: 0.4036 - mean_absolute_error: 0.4277 - val_loss: 0.9070 - val_mean_absolute_error: 0.7359\n",
      "Epoch 19/100\n",
      "197/197 [==============================] - 1s 3ms/step - loss: 0.4183 - mean_absolute_error: 0.4325 - val_loss: 0.8157 - val_mean_absolute_error: 0.6977\n",
      "Epoch 20/100\n",
      "197/197 [==============================] - 1s 3ms/step - loss: 0.4394 - mean_absolute_error: 0.4563 - val_loss: 0.7157 - val_mean_absolute_error: 0.6478\n",
      "Epoch 21/100\n",
      "197/197 [==============================] - 1s 4ms/step - loss: 0.3953 - mean_absolute_error: 0.4243 - val_loss: 0.7027 - val_mean_absolute_error: 0.6420\n",
      "Epoch 22/100\n",
      "197/197 [==============================] - 1s 4ms/step - loss: 0.3998 - mean_absolute_error: 0.4147 - val_loss: 0.7321 - val_mean_absolute_error: 0.6681\n",
      "Epoch 23/100\n",
      "197/197 [==============================] - 1s 4ms/step - loss: 0.3795 - mean_absolute_error: 0.4065 - val_loss: 0.6486 - val_mean_absolute_error: 0.6047\n",
      "Epoch 24/100\n",
      "197/197 [==============================] - 1s 3ms/step - loss: 0.3839 - mean_absolute_error: 0.4142 - val_loss: 1.0012 - val_mean_absolute_error: 0.8027\n",
      "Epoch 25/100\n",
      "197/197 [==============================] - 1s 3ms/step - loss: 0.4104 - mean_absolute_error: 0.4312 - val_loss: 1.5814 - val_mean_absolute_error: 1.0388\n",
      "Epoch 26/100\n",
      "197/197 [==============================] - 1s 3ms/step - loss: 0.4751 - mean_absolute_error: 0.4572 - val_loss: 0.6894 - val_mean_absolute_error: 0.6283\n",
      "Epoch 27/100\n",
      "197/197 [==============================] - 1s 3ms/step - loss: 0.4124 - mean_absolute_error: 0.4303 - val_loss: 0.6398 - val_mean_absolute_error: 0.6066\n",
      "Epoch 28/100\n",
      "197/197 [==============================] - 1s 3ms/step - loss: 0.3896 - mean_absolute_error: 0.4176 - val_loss: 0.7282 - val_mean_absolute_error: 0.6655\n",
      "Epoch 29/100\n",
      "197/197 [==============================] - 1s 3ms/step - loss: 0.4071 - mean_absolute_error: 0.4285 - val_loss: 0.6299 - val_mean_absolute_error: 0.6069\n",
      "Epoch 30/100\n",
      "197/197 [==============================] - 1s 4ms/step - loss: 0.4277 - mean_absolute_error: 0.4446 - val_loss: 1.1192 - val_mean_absolute_error: 0.8428\n",
      "Epoch 31/100\n",
      "197/197 [==============================] - 1s 3ms/step - loss: 0.3933 - mean_absolute_error: 0.4122 - val_loss: 0.6386 - val_mean_absolute_error: 0.6053\n",
      "Epoch 32/100\n",
      "197/197 [==============================] - 1s 3ms/step - loss: 0.3863 - mean_absolute_error: 0.4190 - val_loss: 0.6258 - val_mean_absolute_error: 0.5991\n",
      "Epoch 33/100\n",
      "197/197 [==============================] - 1s 3ms/step - loss: 0.4033 - mean_absolute_error: 0.4334 - val_loss: 0.6469 - val_mean_absolute_error: 0.6123\n",
      "Epoch 34/100\n",
      "197/197 [==============================] - 1s 3ms/step - loss: 0.4319 - mean_absolute_error: 0.4457 - val_loss: 0.9657 - val_mean_absolute_error: 0.7676\n",
      "Epoch 35/100\n",
      "197/197 [==============================] - 1s 3ms/step - loss: 0.4153 - mean_absolute_error: 0.4300 - val_loss: 0.7128 - val_mean_absolute_error: 0.6581\n",
      "Epoch 36/100\n",
      "197/197 [==============================] - 1s 3ms/step - loss: 0.4708 - mean_absolute_error: 0.4724 - val_loss: 1.2341 - val_mean_absolute_error: 0.9146\n",
      "Epoch 37/100\n",
      "197/197 [==============================] - 1s 3ms/step - loss: 0.3909 - mean_absolute_error: 0.4144 - val_loss: 0.6898 - val_mean_absolute_error: 0.6275\n",
      "Epoch 38/100\n",
      "197/197 [==============================] - 1s 3ms/step - loss: 0.4226 - mean_absolute_error: 0.4329 - val_loss: 0.7461 - val_mean_absolute_error: 0.6646\n",
      "Epoch 39/100\n",
      "197/197 [==============================] - 1s 3ms/step - loss: 0.3967 - mean_absolute_error: 0.4149 - val_loss: 0.8398 - val_mean_absolute_error: 0.7281\n",
      "Epoch 40/100\n",
      "197/197 [==============================] - 1s 4ms/step - loss: 0.3852 - mean_absolute_error: 0.4114 - val_loss: 0.7134 - val_mean_absolute_error: 0.6479\n",
      "Epoch 41/100\n",
      "197/197 [==============================] - 1s 3ms/step - loss: 0.4177 - mean_absolute_error: 0.4321 - val_loss: 0.7171 - val_mean_absolute_error: 0.6608\n",
      "Epoch 42/100\n",
      "197/197 [==============================] - 1s 4ms/step - loss: 0.3803 - mean_absolute_error: 0.4100 - val_loss: 0.6426 - val_mean_absolute_error: 0.6044\n",
      "Epoch 43/100\n",
      "197/197 [==============================] - 1s 3ms/step - loss: 0.4105 - mean_absolute_error: 0.4411 - val_loss: 0.6131 - val_mean_absolute_error: 0.5931\n",
      "Epoch 44/100\n",
      "197/197 [==============================] - 1s 3ms/step - loss: 0.3910 - mean_absolute_error: 0.4105 - val_loss: 0.7177 - val_mean_absolute_error: 0.6618\n",
      "Epoch 45/100\n",
      "197/197 [==============================] - 1s 4ms/step - loss: 0.4011 - mean_absolute_error: 0.4298 - val_loss: 0.9895 - val_mean_absolute_error: 0.7760\n",
      "Epoch 46/100\n",
      "197/197 [==============================] - 1s 4ms/step - loss: 0.3762 - mean_absolute_error: 0.3985 - val_loss: 0.6700 - val_mean_absolute_error: 0.6290\n",
      "Epoch 47/100\n",
      "197/197 [==============================] - 1s 4ms/step - loss: 0.4166 - mean_absolute_error: 0.4340 - val_loss: 0.7902 - val_mean_absolute_error: 0.6707\n",
      "Epoch 48/100\n",
      "197/197 [==============================] - 1s 4ms/step - loss: 0.3977 - mean_absolute_error: 0.4134 - val_loss: 0.6397 - val_mean_absolute_error: 0.6084\n",
      "Epoch 49/100\n",
      "197/197 [==============================] - 1s 3ms/step - loss: 0.4258 - mean_absolute_error: 0.4360 - val_loss: 0.8735 - val_mean_absolute_error: 0.7228\n",
      "Epoch 50/100\n"
     ]
    },
    {
     "name": "stdout",
     "output_type": "stream",
     "text": [
      "197/197 [==============================] - 1s 3ms/step - loss: 0.3641 - mean_absolute_error: 0.4005 - val_loss: 0.6292 - val_mean_absolute_error: 0.6068\n",
      "Epoch 51/100\n",
      "197/197 [==============================] - 1s 3ms/step - loss: 0.4391 - mean_absolute_error: 0.4471 - val_loss: 0.6295 - val_mean_absolute_error: 0.5955\n",
      "Epoch 52/100\n",
      "197/197 [==============================] - 1s 3ms/step - loss: 0.3946 - mean_absolute_error: 0.4147 - val_loss: 0.9911 - val_mean_absolute_error: 0.7756\n",
      "Epoch 53/100\n",
      "197/197 [==============================] - 1s 3ms/step - loss: 0.4230 - mean_absolute_error: 0.4440 - val_loss: 0.6480 - val_mean_absolute_error: 0.6202\n",
      "Epoch 54/100\n",
      "197/197 [==============================] - 1s 3ms/step - loss: 0.4137 - mean_absolute_error: 0.4200 - val_loss: 1.3011 - val_mean_absolute_error: 0.9304\n",
      "Epoch 55/100\n",
      "197/197 [==============================] - 1s 3ms/step - loss: 0.4483 - mean_absolute_error: 0.4606 - val_loss: 0.6855 - val_mean_absolute_error: 0.6372\n",
      "Epoch 56/100\n",
      "197/197 [==============================] - 1s 3ms/step - loss: 0.3760 - mean_absolute_error: 0.4019 - val_loss: 0.8615 - val_mean_absolute_error: 0.7113\n",
      "Epoch 57/100\n",
      "197/197 [==============================] - 1s 3ms/step - loss: 0.3741 - mean_absolute_error: 0.4055 - val_loss: 0.8584 - val_mean_absolute_error: 0.7107\n",
      "Epoch 58/100\n",
      "197/197 [==============================] - 1s 4ms/step - loss: 0.4076 - mean_absolute_error: 0.4238 - val_loss: 0.7014 - val_mean_absolute_error: 0.6282\n",
      "Epoch 59/100\n",
      "197/197 [==============================] - 1s 4ms/step - loss: 0.3845 - mean_absolute_error: 0.4116 - val_loss: 2.8259 - val_mean_absolute_error: 1.5034\n",
      "Epoch 60/100\n",
      "197/197 [==============================] - 1s 4ms/step - loss: 0.4219 - mean_absolute_error: 0.4349 - val_loss: 0.6413 - val_mean_absolute_error: 0.6159\n",
      "Epoch 61/100\n",
      "197/197 [==============================] - 1s 4ms/step - loss: 0.4368 - mean_absolute_error: 0.4495 - val_loss: 2.4030 - val_mean_absolute_error: 1.3866\n",
      "Epoch 62/100\n",
      "197/197 [==============================] - 1s 3ms/step - loss: 0.3964 - mean_absolute_error: 0.4190 - val_loss: 0.8617 - val_mean_absolute_error: 0.7074\n",
      "Epoch 63/100\n",
      "197/197 [==============================] - 1s 3ms/step - loss: 0.3679 - mean_absolute_error: 0.3965 - val_loss: 0.9649 - val_mean_absolute_error: 0.7618\n",
      "Epoch 64/100\n",
      "197/197 [==============================] - 1s 3ms/step - loss: 0.4099 - mean_absolute_error: 0.4340 - val_loss: 0.7422 - val_mean_absolute_error: 0.6621\n",
      "Epoch 65/100\n",
      "197/197 [==============================] - 1s 3ms/step - loss: 0.3840 - mean_absolute_error: 0.4073 - val_loss: 0.8809 - val_mean_absolute_error: 0.7523\n",
      "Epoch 66/100\n",
      "197/197 [==============================] - 1s 3ms/step - loss: 0.3524 - mean_absolute_error: 0.3809 - val_loss: 0.6658 - val_mean_absolute_error: 0.6165\n",
      "Epoch 67/100\n",
      "197/197 [==============================] - 1s 4ms/step - loss: 0.3669 - mean_absolute_error: 0.3967 - val_loss: 0.6186 - val_mean_absolute_error: 0.5942\n",
      "Epoch 68/100\n",
      "197/197 [==============================] - 1s 4ms/step - loss: 0.4013 - mean_absolute_error: 0.4262 - val_loss: 0.8819 - val_mean_absolute_error: 0.7475\n",
      "Epoch 69/100\n",
      "197/197 [==============================] - 1s 4ms/step - loss: 0.4242 - mean_absolute_error: 0.4357 - val_loss: 1.5864 - val_mean_absolute_error: 1.0564\n",
      "Epoch 70/100\n",
      "197/197 [==============================] - 1s 4ms/step - loss: 0.3803 - mean_absolute_error: 0.4077 - val_loss: 1.1889 - val_mean_absolute_error: 0.8987\n",
      "Epoch 71/100\n",
      "197/197 [==============================] - 1s 3ms/step - loss: 0.4042 - mean_absolute_error: 0.4255 - val_loss: 0.6398 - val_mean_absolute_error: 0.6129\n",
      "Epoch 72/100\n",
      "197/197 [==============================] - 1s 3ms/step - loss: 0.3938 - mean_absolute_error: 0.4144 - val_loss: 0.6357 - val_mean_absolute_error: 0.5989\n",
      "Epoch 73/100\n",
      "197/197 [==============================] - 1s 3ms/step - loss: 0.3929 - mean_absolute_error: 0.4103 - val_loss: 0.6296 - val_mean_absolute_error: 0.5986\n",
      "Epoch 74/100\n",
      "197/197 [==============================] - 1s 3ms/step - loss: 0.3712 - mean_absolute_error: 0.3937 - val_loss: 1.0659 - val_mean_absolute_error: 0.8423\n",
      "Epoch 75/100\n",
      "197/197 [==============================] - 1s 3ms/step - loss: 0.4106 - mean_absolute_error: 0.4215 - val_loss: 0.7861 - val_mean_absolute_error: 0.6778\n",
      "Epoch 76/100\n",
      "197/197 [==============================] - 1s 3ms/step - loss: 0.3874 - mean_absolute_error: 0.4080 - val_loss: 0.6770 - val_mean_absolute_error: 0.6279\n",
      "Epoch 77/100\n",
      "197/197 [==============================] - 1s 3ms/step - loss: 0.3592 - mean_absolute_error: 0.3885 - val_loss: 0.9370 - val_mean_absolute_error: 0.7525\n",
      "Epoch 78/100\n",
      "197/197 [==============================] - 1s 3ms/step - loss: 0.3883 - mean_absolute_error: 0.4112 - val_loss: 0.6554 - val_mean_absolute_error: 0.6068\n",
      "Epoch 79/100\n",
      "197/197 [==============================] - 1s 3ms/step - loss: 0.4132 - mean_absolute_error: 0.4268 - val_loss: 0.8540 - val_mean_absolute_error: 0.7296\n",
      "Epoch 80/100\n",
      "197/197 [==============================] - 1s 3ms/step - loss: 0.4007 - mean_absolute_error: 0.4269 - val_loss: 0.7697 - val_mean_absolute_error: 0.6916\n",
      "Epoch 81/100\n",
      "197/197 [==============================] - 1s 3ms/step - loss: 0.3783 - mean_absolute_error: 0.4053 - val_loss: 0.7947 - val_mean_absolute_error: 0.6810\n",
      "Epoch 82/100\n",
      "197/197 [==============================] - 1s 3ms/step - loss: 0.4339 - mean_absolute_error: 0.4490 - val_loss: 1.3396 - val_mean_absolute_error: 0.9697\n",
      "Epoch 83/100\n",
      "197/197 [==============================] - 1s 3ms/step - loss: 0.4311 - mean_absolute_error: 0.4392 - val_loss: 0.6153 - val_mean_absolute_error: 0.5960\n",
      "Epoch 84/100\n",
      "197/197 [==============================] - 1s 3ms/step - loss: 0.3884 - mean_absolute_error: 0.4126 - val_loss: 0.6931 - val_mean_absolute_error: 0.6419\n",
      "Epoch 85/100\n",
      "197/197 [==============================] - 1s 3ms/step - loss: 0.3709 - mean_absolute_error: 0.3988 - val_loss: 1.2261 - val_mean_absolute_error: 0.9181\n",
      "Epoch 86/100\n",
      "197/197 [==============================] - 1s 3ms/step - loss: 0.3909 - mean_absolute_error: 0.4121 - val_loss: 0.6125 - val_mean_absolute_error: 0.5902\n",
      "Epoch 87/100\n",
      "197/197 [==============================] - 1s 3ms/step - loss: 0.3903 - mean_absolute_error: 0.4129 - val_loss: 0.9340 - val_mean_absolute_error: 0.7544\n",
      "Epoch 88/100\n",
      "197/197 [==============================] - 1s 3ms/step - loss: 0.4035 - mean_absolute_error: 0.4183 - val_loss: 0.7395 - val_mean_absolute_error: 0.6578\n",
      "Epoch 89/100\n",
      "197/197 [==============================] - 1s 4ms/step - loss: 0.3628 - mean_absolute_error: 0.3971 - val_loss: 1.0386 - val_mean_absolute_error: 0.8312\n",
      "Epoch 90/100\n",
      "197/197 [==============================] - 1s 3ms/step - loss: 0.3912 - mean_absolute_error: 0.4081 - val_loss: 1.1297 - val_mean_absolute_error: 0.8738\n",
      "Epoch 91/100\n",
      "197/197 [==============================] - 1s 4ms/step - loss: 0.3703 - mean_absolute_error: 0.3974 - val_loss: 0.6232 - val_mean_absolute_error: 0.5984\n",
      "Epoch 92/100\n",
      "197/197 [==============================] - 1s 4ms/step - loss: 0.3869 - mean_absolute_error: 0.4110 - val_loss: 0.6426 - val_mean_absolute_error: 0.6154\n",
      "Epoch 93/100\n",
      "197/197 [==============================] - 1s 3ms/step - loss: 0.3814 - mean_absolute_error: 0.4023 - val_loss: 0.6203 - val_mean_absolute_error: 0.5929\n",
      "Epoch 94/100\n",
      "197/197 [==============================] - 1s 3ms/step - loss: 0.3599 - mean_absolute_error: 0.3849 - val_loss: 0.7176 - val_mean_absolute_error: 0.6388\n",
      "Epoch 95/100\n",
      "197/197 [==============================] - 1s 3ms/step - loss: 0.3957 - mean_absolute_error: 0.4254 - val_loss: 0.9754 - val_mean_absolute_error: 0.7697\n",
      "Epoch 96/100\n",
      "197/197 [==============================] - 1s 3ms/step - loss: 0.3848 - mean_absolute_error: 0.4003 - val_loss: 0.7663 - val_mean_absolute_error: 0.6804\n",
      "Epoch 97/100\n",
      "197/197 [==============================] - 1s 3ms/step - loss: 0.3724 - mean_absolute_error: 0.3999 - val_loss: 0.6902 - val_mean_absolute_error: 0.6208\n",
      "Epoch 98/100\n",
      "197/197 [==============================] - 1s 3ms/step - loss: 0.3796 - mean_absolute_error: 0.4045 - val_loss: 0.6331 - val_mean_absolute_error: 0.6061\n",
      "Epoch 99/100\n"
     ]
    },
    {
     "name": "stdout",
     "output_type": "stream",
     "text": [
      "197/197 [==============================] - 1s 3ms/step - loss: 0.3666 - mean_absolute_error: 0.3983 - val_loss: 0.8459 - val_mean_absolute_error: 0.7301\n",
      "Epoch 100/100\n",
      "197/197 [==============================] - 1s 3ms/step - loss: 0.3613 - mean_absolute_error: 0.3914 - val_loss: 0.7160 - val_mean_absolute_error: 0.6594\n"
     ]
    },
    {
     "data": {
      "text/plain": [
       "<keras.callbacks.History at 0x7fbe933f8490>"
      ]
     },
     "execution_count": 67,
     "metadata": {},
     "output_type": "execute_result"
    }
   ],
   "source": [
    "model = Sequential([layers.Input((3, 1)),\n",
    "                    layers.LSTM(64),\n",
    "                    layers.Dense(32, activation='relu'),\n",
    "                    layers.Dense(32, activation='relu'),\n",
    "                    layers.Dense(1)])\n",
    "\n",
    "model.compile(loss='mse', \n",
    "              optimizer=Adam(learning_rate=0.001),\n",
    "              metrics=['mean_absolute_error'])\n",
    "\n",
    "model.fit(Xc_train, yc_train, validation_data=(Xc_val, yc_val), epochs=100)"
   ]
  },
  {
   "cell_type": "code",
   "execution_count": 159,
   "id": "b6537ade",
   "metadata": {},
   "outputs": [
    {
     "data": {
      "image/png": "[encoded data removed]",
      "text/plain": [
       "<Figure size 432x288 with 1 Axes>"
      ]
     },
     "metadata": {
      "needs_background": "light"
     },
     "output_type": "display_data"
    }
   ],
   "source": [
    "trainc_predictions = model.predict(Xc_train).flatten()\n",
    "\n",
    "plt.plot(datesc_train, trainc_predictions)\n",
    "plt.plot(datesc_train, yc_train)\n",
    "plt.legend(['Training Predictions', 'Training Observations'])\n",
    "plt.savefig('Train&PredictionClose')"
   ]
  },
  {
   "cell_type": "code",
   "execution_count": 160,
   "id": "9139e587",
   "metadata": {},
   "outputs": [
    {
     "data": {
      "image/png": "[encoded data removed]",
      "text/plain": [
       "<Figure size 432x288 with 1 Axes>"
      ]
     },
     "metadata": {
      "needs_background": "light"
     },
     "output_type": "display_data"
    }
   ],
   "source": [
    "valc_predictions = model.predict(Xc_val).flatten()\n",
    "\n",
    "plt.plot(datesc_val, valc_predictions)\n",
    "plt.plot(datesc_val, yc_val)\n",
    "plt.legend(['Validation Predictions', 'Validation Observations'])\n",
    "plt.savefig('Val&PredictionClose')"
   ]
  },
  {
   "cell_type": "code",
   "execution_count": 161,
   "id": "6c90dec9",
   "metadata": {
    "scrolled": true
   },
   "outputs": [
    {
     "data": {
      "image/png": "[encoded data removed]",
      "text/plain": [
       "<Figure size 432x288 with 1 Axes>"
      ]
     },
     "metadata": {
      "needs_background": "light"
     },
     "output_type": "display_data"
    }
   ],
   "source": [
    "testc_predictions = model.predict(Xc_test).flatten()\n",
    "\n",
    "plt.plot(datesc_test, testc_predictions)\n",
    "plt.plot(datesc_test, yc_test)\n",
    "plt.legend(['Testing Predictions', 'Testing Observations'])\n",
    "plt.savefig('Test&PredictionClose')"
   ]
  },
  {
   "cell_type": "code",
   "execution_count": 177,
   "id": "b75d4b70",
   "metadata": {},
   "outputs": [
    {
     "data": {
      "image/png": "[encoded data removed]",
      "text/plain": [
       "<Figure size 432x288 with 1 Axes>"
      ]
     },
     "metadata": {
      "needs_background": "light"
     },
     "output_type": "display_data"
    }
   ],
   "source": [
    "plt.plot(datesc_train, trainc_predictions)\n",
    "plt.plot(datesc_train, yc_train)\n",
    "plt.plot(datesc_val, valc_predictions)\n",
    "plt.plot(datesc_val, yc_val)\n",
    "plt.plot(datesc_test, testc_predictions)\n",
    "plt.plot(datesc_test, yc_test)\n",
    "plt.legend(['Training Predictions', \n",
    "            'Training Observations',\n",
    "            'Validation Predictions', \n",
    "            'Validation Observations',\n",
    "            'Testing Predictions', \n",
    "            'Testing Observations'])\n",
    "plt.savefig('PredictionsClose')"
   ]
  },
  {
   "cell_type": "code",
   "execution_count": 176,
   "id": "19ec92e0",
   "metadata": {},
   "outputs": [
    {
     "data": {
      "text/plain": [
       "<matplotlib.legend.Legend at 0x7fbe95fcfe80>"
      ]
     },
     "execution_count": 176,
     "metadata": {},
     "output_type": "execute_result"
    },
    {
     "data": {
      "image/png": "[encoded data removed]",
      "text/plain": [
       "<Figure size 432x288 with 1 Axes>"
      ]
     },
     "metadata": {
      "needs_background": "light"
     },
     "output_type": "display_data"
    }
   ],
   "source": [
    "#plt.plot(datesc_train, trainc_predictions)\n",
    "#plt.plot(datesc_train, yc_train)\n",
    "plt.plot(datesc_val, valc_predictions)\n",
    "plt.plot(datesc_val, yc_val)\n",
    "plt.plot(datesc_test, testc_predictions)\n",
    "plt.plot(datesc_test, yc_test)\n",
    "plt.legend([#'Training Predictions', \n",
    "            #'Training Observations',\n",
    "            'Validation Predictions', \n",
    "            'Validation Observations',\n",
    "            'Testing Predictions', \n",
    "            'Testing Observations'])\n",
    "#plt.savefig('PredictionsClose')"
   ]
  },
  {
   "cell_type": "code",
   "execution_count": 163,
   "id": "079f7667",
   "metadata": {},
   "outputs": [
    {
     "data": {
      "text/plain": [
       "76.459045"
      ]
     },
     "execution_count": 163,
     "metadata": {},
     "output_type": "execute_result"
    }
   ],
   "source": [
    "rms=np.sqrt(np.mean(np.power((valc_predictions),2)))\n",
    "rms"
   ]
  },
  {
   "cell_type": "code",
   "execution_count": 173,
   "id": "216e091d",
   "metadata": {},
   "outputs": [
    {
     "data": {
      "text/plain": [
       "3.4819007"
      ]
     },
     "execution_count": 173,
     "metadata": {},
     "output_type": "execute_result"
    }
   ],
   "source": [
    "rmse_c = rmse(testc_predictions, yc_test)\n",
    "rmse_c"
   ]
  },
  {
   "cell_type": "code",
   "execution_count": 102,
   "id": "dc3f49de",
   "metadata": {},
   "outputs": [
    {
     "data": {
      "text/plain": [
       "87.06204"
      ]
     },
     "execution_count": 102,
     "metadata": {},
     "output_type": "execute_result"
    }
   ],
   "source": [
    "yc_test.mean()"
   ]
  },
  {
   "cell_type": "code",
   "execution_count": 174,
   "id": "d93c53f2",
   "metadata": {},
   "outputs": [
    {
     "data": {
      "text/plain": [
       "84.97674"
      ]
     },
     "execution_count": 174,
     "metadata": {},
     "output_type": "execute_result"
    }
   ],
   "source": [
    "testc_predictions.mean()"
   ]
  },
  {
   "cell_type": "code",
   "execution_count": 107,
   "id": "817c4259",
   "metadata": {},
   "outputs": [
    {
     "data": {
      "text/plain": [
       "-0.12339813638927266"
      ]
     },
     "execution_count": 107,
     "metadata": {},
     "output_type": "execute_result"
    }
   ],
   "source": [
    "(((valc_predictions.mean()*100)/yc_test.mean())/100)-1"
   ]
  },
  {
   "cell_type": "code",
   "execution_count": null,
   "id": "6aefd53b",
   "metadata": {},
   "outputs": [],
   "source": []
  },
  {
   "cell_type": "markdown",
   "id": "8cee8d55",
   "metadata": {},
   "source": [
    "### Recursive prediction using training data to predict val and test dates"
   ]
  },
  {
   "cell_type": "code",
   "execution_count": 74,
   "id": "5a3a2af7",
   "metadata": {},
   "outputs": [],
   "source": [
    "recursivec_predictions = []\n",
    "recursivec_dates = np.concatenate([datesc_val, datesc_test])\n",
    "\n",
    "for target_date in recursivec_dates:\n",
    "  last_windowc = deepcopy(Xc_train[-1])\n",
    "  next_predictionc = model.predict(np.array([last_windowc])).flatten()\n",
    "  recursivec_predictions.append(next_predictionc)\n",
    "  last_windowc[-1] = next_predictionc"
   ]
  },
  {
   "cell_type": "code",
   "execution_count": 165,
   "id": "684b084e",
   "metadata": {
    "scrolled": false
   },
   "outputs": [
    {
     "data": {
      "image/png": "[encoded data removed]",
      "text/plain": [
       "<Figure size 432x288 with 1 Axes>"
      ]
     },
     "metadata": {
      "needs_background": "light"
     },
     "output_type": "display_data"
    }
   ],
   "source": [
    "plt.plot(datesc_train, trainc_predictions)\n",
    "plt.plot(datesc_train, yc_train)\n",
    "plt.plot(datesc_val, valc_predictions)\n",
    "plt.plot(datesc_val, yc_val)\n",
    "plt.plot(datesc_test, testc_predictions)\n",
    "plt.plot(datesc_test, yc_test)\n",
    "plt.plot(recursivec_dates, recursivec_predictions)\n",
    "plt.legend(['Training Predictions', \n",
    "            'Training Observations',\n",
    "            'Validation Predictions', \n",
    "            'Validation Observations',\n",
    "            'Testing Predictions', \n",
    "            'Testing Observations',\n",
    "            'Recursive Predictions'])\n",
    "plt.savefig('PredictionCloseRecursive')"
   ]
  },
  {
   "cell_type": "code",
   "execution_count": 166,
   "id": "abc0991e",
   "metadata": {},
   "outputs": [
    {
     "data": {
      "text/plain": [
       "76.60035"
      ]
     },
     "execution_count": 166,
     "metadata": {},
     "output_type": "execute_result"
    }
   ],
   "source": [
    "rms_recursive=np.sqrt(np.mean(np.power((recursivec_predictions),2)))\n",
    "rms_recursive"
   ]
  },
  {
   "cell_type": "code",
   "execution_count": 167,
   "id": "fc43c8f1",
   "metadata": {},
   "outputs": [
    {
     "data": {
      "text/plain": [
       "0.84615034"
      ]
     },
     "execution_count": 167,
     "metadata": {},
     "output_type": "execute_result"
    }
   ],
   "source": [
    "error = rmse(valc_predictions,yc_val)\n",
    "error"
   ]
  },
  {
   "cell_type": "code",
   "execution_count": null,
   "id": "d3caea23",
   "metadata": {},
   "outputs": [],
   "source": []
  },
  {
   "cell_type": "code",
   "execution_count": null,
   "id": "bddf233c",
   "metadata": {},
   "outputs": [],
   "source": []
  },
  {
   "cell_type": "code",
   "execution_count": null,
   "id": "58e3c6cf",
   "metadata": {},
   "outputs": [],
   "source": []
  },
  {
   "cell_type": "code",
   "execution_count": null,
   "id": "8395fe49",
   "metadata": {},
   "outputs": [],
   "source": []
  },
  {
   "cell_type": "code",
   "execution_count": null,
   "id": "7291c04b",
   "metadata": {},
   "outputs": [],
   "source": []
  },
  {
   "cell_type": "code",
   "execution_count": null,
   "id": "f5819671",
   "metadata": {},
   "outputs": [],
   "source": []
  },
  {
   "cell_type": "code",
   "execution_count": null,
   "id": "de90ead8",
   "metadata": {},
   "outputs": [],
   "source": []
  },
  {
   "cell_type": "code",
   "execution_count": null,
   "id": "2a6e145f",
   "metadata": {},
   "outputs": [],
   "source": []
  },
  {
   "cell_type": "code",
   "execution_count": null,
   "id": "13fd361e",
   "metadata": {},
   "outputs": [],
   "source": []
  },
  {
   "cell_type": "code",
   "execution_count": null,
   "id": "973ff006",
   "metadata": {},
   "outputs": [],
   "source": []
  },
  {
   "cell_type": "code",
   "execution_count": null,
   "id": "7b79f29d",
   "metadata": {},
   "outputs": [],
   "source": []
  },
  {
   "cell_type": "code",
   "execution_count": null,
   "id": "c09795cd",
   "metadata": {},
   "outputs": [],
   "source": []
  },
  {
   "cell_type": "code",
   "execution_count": null,
   "id": "a4113785",
   "metadata": {},
   "outputs": [],
   "source": []
  },
  {
   "cell_type": "code",
   "execution_count": null,
   "id": "dbcd0641",
   "metadata": {},
   "outputs": [],
   "source": []
  },
  {
   "cell_type": "code",
   "execution_count": null,
   "id": "00f4dc61",
   "metadata": {},
   "outputs": [],
   "source": []
  },
  {
   "cell_type": "code",
   "execution_count": null,
   "id": "16fdbc58",
   "metadata": {},
   "outputs": [],
   "source": []
  },
  {
   "cell_type": "code",
   "execution_count": null,
   "id": "12ab2e69",
   "metadata": {},
   "outputs": [],
   "source": []
  },
  {
   "cell_type": "code",
   "execution_count": null,
   "id": "0ed0a15e",
   "metadata": {},
   "outputs": [],
   "source": []
  },
  {
   "cell_type": "code",
   "execution_count": null,
   "id": "827546f0",
   "metadata": {},
   "outputs": [],
   "source": []
  },
  {
   "cell_type": "code",
   "execution_count": null,
   "id": "b5abb545",
   "metadata": {},
   "outputs": [],
   "source": []
  },
  {
   "cell_type": "code",
   "execution_count": null,
   "id": "045ca5ab",
   "metadata": {},
   "outputs": [],
   "source": []
  },
  {
   "cell_type": "code",
   "execution_count": null,
   "id": "0f81c2be",
   "metadata": {},
   "outputs": [],
   "source": []
  },
  {
   "cell_type": "code",
   "execution_count": null,
   "id": "24b61ea6",
   "metadata": {},
   "outputs": [],
   "source": []
  },
  {
   "cell_type": "code",
   "execution_count": null,
   "id": "c28827b8",
   "metadata": {},
   "outputs": [],
   "source": []
  }
 ],
 "metadata": {
  "kernelspec": {
   "display_name": "Python 3 (ipykernel)",
   "language": "python",
   "name": "python3"
  },
  "language_info": {
   "codemirror_mode": {
    "name": "ipython",
    "version": 3
   },
   "file_extension": ".py",
   "mimetype": "text/x-python",
   "name": "python",
   "nbconvert_exporter": "python",
   "pygments_lexer": "ipython3",
   "version": "3.8.13"
  }
 },
 "nbformat": 4,
 "nbformat_minor": 5
}
