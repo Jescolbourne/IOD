{
 "cells": [
  {
   "cell_type": "code",
   "execution_count": 1,
   "id": "0b0ca1f4",
   "metadata": {},
   "outputs": [],
   "source": [
    "import numpy as np\n",
    "import pandas as pd\n",
    "import math\n",
    "from scipy import stats\n",
    "import seaborn as sns\n",
    "from matplotlib import pyplot as plt\n",
    "import matplotlib.pylab as pylab\n",
    "import datetime\n",
    "\n",
    "plt.style.use('fivethirtyeight')\n",
    "\n",
    "from warnings import filterwarnings\n",
    "filterwarnings(\"ignore\")\n",
    "\n",
    "%matplotlib inline\n",
    "%config InlineBackend.figure_format = 'retina'"
   ]
  },
  {
   "cell_type": "code",
   "execution_count": 2,
   "id": "4922b0d0",
   "metadata": {},
   "outputs": [],
   "source": [
    "df = pd.read_csv('PRODUCTSALES1.csv')"
   ]
  },
  {
   "cell_type": "code",
   "execution_count": 3,
   "id": "6a0e1eaf",
   "metadata": {},
   "outputs": [
    {
     "data": {
      "text/html": [
       "<div>\n",
       "<style scoped>\n",
       "    .dataframe tbody tr th:only-of-type {\n",
       "        vertical-align: middle;\n",
       "    }\n",
       "\n",
       "    .dataframe tbody tr th {\n",
       "        vertical-align: top;\n",
       "    }\n",
       "\n",
       "    .dataframe thead th {\n",
       "        text-align: right;\n",
       "    }\n",
       "</style>\n",
       "<table border=\"1\" class=\"dataframe\">\n",
       "  <thead>\n",
       "    <tr style=\"text-align: right;\">\n",
       "      <th></th>\n",
       "      <th>sale_date</th>\n",
       "      <th>sale_time</th>\n",
       "      <th>transpos</th>\n",
       "      <th>clerkname</th>\n",
       "      <th>main_id</th>\n",
       "      <th>plu</th>\n",
       "      <th>dissno</th>\n",
       "      <th>qty</th>\n",
       "      <th>descr</th>\n",
       "      <th>last_price</th>\n",
       "      <th>...</th>\n",
       "      <th>pdiscount</th>\n",
       "      <th>gst</th>\n",
       "      <th>sellprice</th>\n",
       "      <th>grosssales</th>\n",
       "      <th>tdiscount</th>\n",
       "      <th>rounding</th>\n",
       "      <th>salesamm2</th>\n",
       "      <th>tendered</th>\n",
       "      <th>change</th>\n",
       "      <th>ref</th>\n",
       "    </tr>\n",
       "  </thead>\n",
       "  <tbody>\n",
       "    <tr>\n",
       "      <th>0</th>\n",
       "      <td>01-Jan-20</td>\n",
       "      <td>09:35:38</td>\n",
       "      <td>1.001040e+15</td>\n",
       "      <td>Monina</td>\n",
       "      <td>704438508410</td>\n",
       "      <td>16535</td>\n",
       "      <td>4</td>\n",
       "      <td>1.0</td>\n",
       "      <td>GVC PB Peru Balsam</td>\n",
       "      <td>3.45</td>\n",
       "      <td>...</td>\n",
       "      <td>1.00</td>\n",
       "      <td>0.00</td>\n",
       "      <td>18.95</td>\n",
       "      <td>250.41</td>\n",
       "      <td>12.53</td>\n",
       "      <td>0.0</td>\n",
       "      <td>259.11</td>\n",
       "      <td>259.11</td>\n",
       "      <td>0.0</td>\n",
       "      <td>NaN</td>\n",
       "    </tr>\n",
       "    <tr>\n",
       "      <th>1</th>\n",
       "      <td>01-Jan-20</td>\n",
       "      <td>09:35:38</td>\n",
       "      <td>1.001040e+15</td>\n",
       "      <td>Monina</td>\n",
       "      <td>9329785000588</td>\n",
       "      <td>4689</td>\n",
       "      <td>1</td>\n",
       "      <td>1.0</td>\n",
       "      <td>Nv Zinc Comp 60t</td>\n",
       "      <td>5.09</td>\n",
       "      <td>...</td>\n",
       "      <td>0.52</td>\n",
       "      <td>0.98</td>\n",
       "      <td>10.78</td>\n",
       "      <td>250.41</td>\n",
       "      <td>12.53</td>\n",
       "      <td>0.0</td>\n",
       "      <td>259.11</td>\n",
       "      <td>259.11</td>\n",
       "      <td>0.0</td>\n",
       "      <td>NaN</td>\n",
       "    </tr>\n",
       "    <tr>\n",
       "      <th>2</th>\n",
       "      <td>01-Jan-20</td>\n",
       "      <td>09:35:38</td>\n",
       "      <td>1.001040e+15</td>\n",
       "      <td>Monina</td>\n",
       "      <td>9332510002016</td>\n",
       "      <td>1024</td>\n",
       "      <td>1</td>\n",
       "      <td>1.0</td>\n",
       "      <td>Tres B Plus 150t</td>\n",
       "      <td>49.17</td>\n",
       "      <td>...</td>\n",
       "      <td>4.03</td>\n",
       "      <td>7.66</td>\n",
       "      <td>84.22</td>\n",
       "      <td>250.41</td>\n",
       "      <td>12.53</td>\n",
       "      <td>0.0</td>\n",
       "      <td>259.11</td>\n",
       "      <td>259.11</td>\n",
       "      <td>0.0</td>\n",
       "      <td>NaN</td>\n",
       "    </tr>\n",
       "    <tr>\n",
       "      <th>3</th>\n",
       "      <td>01-Jan-20</td>\n",
       "      <td>09:35:38</td>\n",
       "      <td>1.001040e+15</td>\n",
       "      <td>Monina</td>\n",
       "      <td>9317320405004</td>\n",
       "      <td>17550</td>\n",
       "      <td>7</td>\n",
       "      <td>1.0</td>\n",
       "      <td>MD Goats Yog (B) 500</td>\n",
       "      <td>4.50</td>\n",
       "      <td>...</td>\n",
       "      <td>0.36</td>\n",
       "      <td>0.00</td>\n",
       "      <td>6.74</td>\n",
       "      <td>250.41</td>\n",
       "      <td>12.53</td>\n",
       "      <td>0.0</td>\n",
       "      <td>259.11</td>\n",
       "      <td>259.11</td>\n",
       "      <td>0.0</td>\n",
       "      <td>NaN</td>\n",
       "    </tr>\n",
       "    <tr>\n",
       "      <th>4</th>\n",
       "      <td>01-Jan-20</td>\n",
       "      <td>09:35:39</td>\n",
       "      <td>1.001040e+15</td>\n",
       "      <td>Monina</td>\n",
       "      <td>797776496792</td>\n",
       "      <td>16640</td>\n",
       "      <td>5</td>\n",
       "      <td>1.0</td>\n",
       "      <td>Aroma Bloom Wood Pea</td>\n",
       "      <td>52.25</td>\n",
       "      <td>...</td>\n",
       "      <td>4.53</td>\n",
       "      <td>8.61</td>\n",
       "      <td>94.72</td>\n",
       "      <td>250.41</td>\n",
       "      <td>12.53</td>\n",
       "      <td>0.0</td>\n",
       "      <td>259.11</td>\n",
       "      <td>259.11</td>\n",
       "      <td>0.0</td>\n",
       "      <td>NaN</td>\n",
       "    </tr>\n",
       "  </tbody>\n",
       "</table>\n",
       "<p>5 rows × 21 columns</p>\n",
       "</div>"
      ],
      "text/plain": [
       "   sale_date sale_time      transpos clerkname        main_id    plu  dissno  \\\n",
       "0  01-Jan-20  09:35:38  1.001040e+15    Monina   704438508410  16535       4   \n",
       "1  01-Jan-20  09:35:38  1.001040e+15    Monina  9329785000588   4689       1   \n",
       "2  01-Jan-20  09:35:38  1.001040e+15    Monina  9332510002016   1024       1   \n",
       "3  01-Jan-20  09:35:38  1.001040e+15    Monina  9317320405004  17550       7   \n",
       "4  01-Jan-20  09:35:39  1.001040e+15    Monina   797776496792  16640       5   \n",
       "\n",
       "   qty                 descr  last_price  ...  pdiscount   gst  sellprice  \\\n",
       "0  1.0    GVC PB Peru Balsam        3.45  ...       1.00  0.00      18.95   \n",
       "1  1.0      Nv Zinc Comp 60t        5.09  ...       0.52  0.98      10.78   \n",
       "2  1.0      Tres B Plus 150t       49.17  ...       4.03  7.66      84.22   \n",
       "3  1.0  MD Goats Yog (B) 500        4.50  ...       0.36  0.00       6.74   \n",
       "4  1.0  Aroma Bloom Wood Pea       52.25  ...       4.53  8.61      94.72   \n",
       "\n",
       "   grosssales  tdiscount  rounding  salesamm2  tendered  change  ref  \n",
       "0      250.41      12.53       0.0     259.11    259.11     0.0  NaN  \n",
       "1      250.41      12.53       0.0     259.11    259.11     0.0  NaN  \n",
       "2      250.41      12.53       0.0     259.11    259.11     0.0  NaN  \n",
       "3      250.41      12.53       0.0     259.11    259.11     0.0  NaN  \n",
       "4      250.41      12.53       0.0     259.11    259.11     0.0  NaN  \n",
       "\n",
       "[5 rows x 21 columns]"
      ]
     },
     "execution_count": 3,
     "metadata": {},
     "output_type": "execute_result"
    }
   ],
   "source": [
    "df.head()"
   ]
  },
  {
   "cell_type": "code",
   "execution_count": 4,
   "id": "87215063",
   "metadata": {},
   "outputs": [
    {
     "data": {
      "text/plain": [
       "(65534, 21)"
      ]
     },
     "execution_count": 4,
     "metadata": {},
     "output_type": "execute_result"
    }
   ],
   "source": [
    "df.shape"
   ]
  },
  {
   "cell_type": "code",
   "execution_count": 5,
   "id": "05a6adb6",
   "metadata": {},
   "outputs": [
    {
     "data": {
      "text/plain": [
       "sale_date         0\n",
       "sale_time         0\n",
       "transpos          0\n",
       "clerkname         0\n",
       "main_id           0\n",
       "plu               0\n",
       "dissno            0\n",
       "qty               0\n",
       "descr             0\n",
       "last_price        0\n",
       "cost              0\n",
       "pdiscount         0\n",
       "gst               0\n",
       "sellprice         0\n",
       "grosssales        0\n",
       "tdiscount         0\n",
       "rounding          0\n",
       "salesamm2         0\n",
       "tendered          0\n",
       "change            0\n",
       "ref           65532\n",
       "dtype: int64"
      ]
     },
     "execution_count": 5,
     "metadata": {},
     "output_type": "execute_result"
    }
   ],
   "source": [
    "df.isnull().sum()"
   ]
  },
  {
   "cell_type": "code",
   "execution_count": 6,
   "id": "46434852",
   "metadata": {},
   "outputs": [],
   "source": [
    "df = df.drop(labels = ['ref', 'transpos', 'main_id', 'plu', 'dissno', 'tdiscount', 'rounding', 'salesamm2', 'tendered', 'change'], axis=1)"
   ]
  },
  {
   "cell_type": "code",
   "execution_count": 7,
   "id": "a6df578e",
   "metadata": {},
   "outputs": [
    {
     "data": {
      "text/html": [
       "<div>\n",
       "<style scoped>\n",
       "    .dataframe tbody tr th:only-of-type {\n",
       "        vertical-align: middle;\n",
       "    }\n",
       "\n",
       "    .dataframe tbody tr th {\n",
       "        vertical-align: top;\n",
       "    }\n",
       "\n",
       "    .dataframe thead th {\n",
       "        text-align: right;\n",
       "    }\n",
       "</style>\n",
       "<table border=\"1\" class=\"dataframe\">\n",
       "  <thead>\n",
       "    <tr style=\"text-align: right;\">\n",
       "      <th></th>\n",
       "      <th>sale_date</th>\n",
       "      <th>sale_time</th>\n",
       "      <th>clerkname</th>\n",
       "      <th>qty</th>\n",
       "      <th>descr</th>\n",
       "      <th>last_price</th>\n",
       "      <th>cost</th>\n",
       "      <th>pdiscount</th>\n",
       "      <th>gst</th>\n",
       "      <th>sellprice</th>\n",
       "      <th>grosssales</th>\n",
       "    </tr>\n",
       "  </thead>\n",
       "  <tbody>\n",
       "    <tr>\n",
       "      <th>0</th>\n",
       "      <td>01-Jan-20</td>\n",
       "      <td>09:35:38</td>\n",
       "      <td>Monina</td>\n",
       "      <td>1.0</td>\n",
       "      <td>GVC PB Peru Balsam</td>\n",
       "      <td>3.45</td>\n",
       "      <td>19.95</td>\n",
       "      <td>1.00</td>\n",
       "      <td>0.00</td>\n",
       "      <td>18.95</td>\n",
       "      <td>250.41</td>\n",
       "    </tr>\n",
       "    <tr>\n",
       "      <th>1</th>\n",
       "      <td>01-Jan-20</td>\n",
       "      <td>09:35:38</td>\n",
       "      <td>Monina</td>\n",
       "      <td>1.0</td>\n",
       "      <td>Nv Zinc Comp 60t</td>\n",
       "      <td>5.09</td>\n",
       "      <td>10.32</td>\n",
       "      <td>0.52</td>\n",
       "      <td>0.98</td>\n",
       "      <td>10.78</td>\n",
       "      <td>250.41</td>\n",
       "    </tr>\n",
       "    <tr>\n",
       "      <th>2</th>\n",
       "      <td>01-Jan-20</td>\n",
       "      <td>09:35:38</td>\n",
       "      <td>Monina</td>\n",
       "      <td>1.0</td>\n",
       "      <td>Tres B Plus 150t</td>\n",
       "      <td>49.17</td>\n",
       "      <td>80.59</td>\n",
       "      <td>4.03</td>\n",
       "      <td>7.66</td>\n",
       "      <td>84.22</td>\n",
       "      <td>250.41</td>\n",
       "    </tr>\n",
       "    <tr>\n",
       "      <th>3</th>\n",
       "      <td>01-Jan-20</td>\n",
       "      <td>09:35:38</td>\n",
       "      <td>Monina</td>\n",
       "      <td>1.0</td>\n",
       "      <td>MD Goats Yog (B) 500</td>\n",
       "      <td>4.50</td>\n",
       "      <td>7.10</td>\n",
       "      <td>0.36</td>\n",
       "      <td>0.00</td>\n",
       "      <td>6.74</td>\n",
       "      <td>250.41</td>\n",
       "    </tr>\n",
       "    <tr>\n",
       "      <th>4</th>\n",
       "      <td>01-Jan-20</td>\n",
       "      <td>09:35:39</td>\n",
       "      <td>Monina</td>\n",
       "      <td>1.0</td>\n",
       "      <td>Aroma Bloom Wood Pea</td>\n",
       "      <td>52.25</td>\n",
       "      <td>90.64</td>\n",
       "      <td>4.53</td>\n",
       "      <td>8.61</td>\n",
       "      <td>94.72</td>\n",
       "      <td>250.41</td>\n",
       "    </tr>\n",
       "  </tbody>\n",
       "</table>\n",
       "</div>"
      ],
      "text/plain": [
       "   sale_date sale_time clerkname  qty                 descr  last_price  \\\n",
       "0  01-Jan-20  09:35:38    Monina  1.0    GVC PB Peru Balsam        3.45   \n",
       "1  01-Jan-20  09:35:38    Monina  1.0      Nv Zinc Comp 60t        5.09   \n",
       "2  01-Jan-20  09:35:38    Monina  1.0      Tres B Plus 150t       49.17   \n",
       "3  01-Jan-20  09:35:38    Monina  1.0  MD Goats Yog (B) 500        4.50   \n",
       "4  01-Jan-20  09:35:39    Monina  1.0  Aroma Bloom Wood Pea       52.25   \n",
       "\n",
       "    cost  pdiscount   gst  sellprice  grosssales  \n",
       "0  19.95       1.00  0.00      18.95      250.41  \n",
       "1  10.32       0.52  0.98      10.78      250.41  \n",
       "2  80.59       4.03  7.66      84.22      250.41  \n",
       "3   7.10       0.36  0.00       6.74      250.41  \n",
       "4  90.64       4.53  8.61      94.72      250.41  "
      ]
     },
     "execution_count": 7,
     "metadata": {},
     "output_type": "execute_result"
    }
   ],
   "source": [
    "df.head()"
   ]
  },
  {
   "cell_type": "code",
   "execution_count": 8,
   "id": "1f5bae0e",
   "metadata": {},
   "outputs": [
    {
     "name": "stdout",
     "output_type": "stream",
     "text": [
      "{'BP UMF5+ MHoney250g', 'Boody Crop Leg Bla L', 'NG Msl Prm Tst 750g', 'DG Eye Shadow Summer', 'PF Nut Roast 300g', 'PNO Mars Root 75g', 'GVC Empty Bottle 10m', 'Coyo Yog Van 300', 'THO HePwdr Choc 450g', 'Bc UC EPA/DHA+ 240c', 'NR Plnt Prot Ch 1kg', 'NFChips Peri Peri', 'End Van 1440g', 'B Cond Coconut 16oz', 'Del Tealight Mademoi', 'Tilley Bath BombLemo', 'PB Eucalyptus 50ml', 'GVC Peaz Bites 110g', '2die4 Pecans 300g', 'Wel Alm Face Cr 30ml', 'Pow Cacao Gold 450g', 'Eco Tan Hand Sanitiz', 'LU NDM 100g', 'Max Health WPI 4kg', 'DFDU Vegan Cheddar s', 'UVN Sport 30+ 125g', 'Bm Cold Combat', 'J&B Melatonin 3mg100', 'TON PeBlond 6R 120ml', 'Agna IS Smudge Stick', 'Incense Gardenia', 'Castile Orig Pump 50', 'PO Caraway Seed', 'Lot Sunflw Kern 250g', 'Sp Plum Vinegar 250m', 'NR Alm Chia Spr 240g', 'PP Almond Oil 250ml', 'TE Chaga Mushr 50g', 'N-Zimes 90t', 'PB Clove Bud 10 ml', 'Spiral Olv Oil X/V 5', 'TP Acne ctrl kit', 'BB Kakadu LuxSCan185', 'MER MCPro Plus 500ml', 'Eco Tan Nat Sunscree', 'DrB H Soap Smint 355', 'MD Goats Yog (B) 500', 'Tulsi Incense Dragon', 'DG V Lipstik Maca Nu', 'ALO AV San 125ml', 'B-Active 31s', 'Gev Better Belly BBQ', 'NS Gymnema 60 Caps', 'MMMCharcoalFlosspepm', 'PO Org Green 25tb', 'Sp Jojoba Cream 240g', 'JC Abs Serum 30ml', 'LL Es Oil Wnter Resc', 'Top Nutr NAC 250g', 'Et Bliss Face Cleans', 'Bc Intestamine 300g', 'AO PRO Mag Spr 125ml', 'M&P Mag Phos 12', 'PB Hand Sani 100ml', 'Gr Xyl Mint TPaste', 'RHip Vital 250c', 'NL LivPlus Boldo 60C', 'ARG 6.Blonde Natura', 'HOG CoQ10 30C', 'HOG ParaStrike 60t', 'PRA PPP Fre Van 400g', 'NB Pumpkin300g', 'NG Rye Rolled 500g', 'Bo Pullon Sky 12-18m', 'Clean Lean Protein C', 'Bm Digest Aid 60t', 'H Mix Liver 200ml', 'NR Linseed meal 400g', 'Fus Cold Flu 30 Tab', 'Bal Nat Ul Rp Ch750', 'Glace Mixed Peel 150', 'Sweet Nectar Oat cru', 'Bm Odrles FshOil 400', 'Castile Lav. Pump 50', 'CHE SS CB Pink 750ml', 'MooGoo Lip Cow Lick', 'BOO Mii Brief Blk XL', 'Nat F&N Loaf 680g', 'Br Calm 500ml', 'Bo Pullon Rose 12-18', 'Eco Body Wash 500ml', 'NR Xylitol 500g', 'BB Mues Birch 900g', 'BOO Parop Bra Blk XL', 'CHE ASWBS 750ml', 'CHE AI BMB 600ml', 'Sp Citronella 11ml', 'WEL Geing Milk 100ml', 'Jun Body Exfol 100g', 'Wel Pom Day Cr', 'NB Beetroot300', 'Nt Org BWheat Bread', 'M Org Spirulina 200t', 'PO Cinnamon', 'AF PeachGood 100g', 'Niulife MCT+PowPowdr', 'CHE IKB Shrk 400ml', 'OGN CrMQuinoa 125g', 'OR Besan Flour 500g', 'JC Foam Cleanse 125m', 'Fus H Sk Nails 60t', 'Vegesorb 100g', 'Sp Geranium 11ml', 'GVC Empty bottle 31.', 'M&P Nat Mur 125 Tabs', 'Hills Honey 1kg', 'Biologika CocSham500', 'PL Sprout Bread Spel', 'Nir Stevia Van 50ml', 'NC Polybac 8 30 Caps', 'LC Cordyceps 120ml', 'Perfect Sweet 500g', 'Blo Horsechestnut 90', 'Wel Citrus Deo 100ml', 'CF Sorb + Glyc Soap', \"HOG StMary'sThis 60t\", 'Immunol 30 Caps', 'HOG Vit D3 120c', 'Ak Unsc BodyWash 500', 'ZEN Spts Spray 125ml', 'En Fish Oil M 170ml', 'NG Figs Org 250g', 'Te Van Nut 312g', 'HLy Lem Myr Hon', 'Boody Boyleg Bl ML', 'DrB Cast Cit Or 140g', 'Ch Bottle Buddha 1L', 'Morlife††Senna†Klenz', 'Nt Org WM Spelt Brea', 'Lauria Almond Horseh', 'GH Turmeric 500ml', 'EM Byron Bliss', 'Am Kom Ging 330ml', 'Lotus Bwheat Kern500', 'NL Zinc 120c', 'LUN Cynthia Model 2', 'Pukka Tea Pepp & Lic', 'BOO Ful Brief Nude S', 'EN Mood Re-neu', 'NG Almonds Slice 150', 'Sym Dand Tea 250gm', 'Fus Astra 8 100ml', 'DrB Hair Cr Lav 177m', 'ENC SEDMB 12sac', 'OR WW Flour 1kg', 'ARG 7.Blonde Natural', 'Bm Omega Daily 200c', 'Nv Prem Multi 120 Ta', 'BM Omega Double 90c', 'MOR BB KC 200g', 'Vital Prot 500g', 'NE Ban Flour 454g', 'Fl Legalon 60c', 'Jun Oil Bal Lot 125m', 'TR Nourish Face Crea', 'PR Child Pro 50g', 'PLV Gr SupKraut 680g', 'DJA Sweet Potato Cri', 'Sp Sandalwood Au5ml', 'WWN GANFBC 180g', 'NR Unpro StBran 375g', 'Car Org Agave Dk 350', 'Bm Selemite B 100 Ta', 'PO Or Chai Spice25tb', 'Bc Ubiquinol 150 60c', 'Bon Date Sprd 375', 'MG SPF 40 200g', 'Bl Linden Flower 50g', 'M&P Comb N 125 Tabs', '3 seed SB 184g', 'Venerdi Paleo Bread', 'OT Choc Ginger', 'Tp S Care Soap 125g', 'Tulsi Inc healing', 'H Mix Yeast 500ml', 'DrSup Cranberries', 'Gutsy Kraut Smoked G', 'EM Desert Rose', 'Opt Pre WO BB L 3', 'PR Potassium 99mg', 'OP Pre workout Straw', 'Glace Peaches 250g', 'Lotus SR Flour Or 1k', 'Coyo Yoghurt Nat 300', 'CF Rose + Glyc Soap', 'Bl Ginger 150g', 'HOG Ubiq 100mg 60c', 'Ng Walnuts 1kg', 'NS Dong Quai 100c', 'BC Classic Sea Salt', 'MEL HS F Oil 200ml', 'Bc CardioChol 60t', 'Mel Ses Oil 500', 'BM SupKids MChew', 'OT Van Marshmallows', 'Bc Intestamine 150g', 'Ton 6TF 120ml', 'Amb Dry Sham Blonde', 'ND Rose water 250', 'DrB Hand San 59ml', 'Bm Bio C 125g', 'M&P Comb 12 Spr 30ml', 'Bm Bio C Chew 50t', 'Bm ZinvitC250 50t', 'NR Whein Isolate 1KG', 'NG Chic Peas 500', 'Rapunzel Dark 2.5kg', 'Fus Revital 8 50Tabs', 'DV Ac L-Carn 150g', 'NV Melatnin 30c 130t', 'Lot Oatbran Org 400g', 'NG Brly Rolled 500g', 'BD Choc Orange', 'PO Chilli Flakes', 'LZ Dark Choc 85g', 'OZG BBQ Sa 350ml', 'CH Mag Ultra C 200g', 'Lot Millet Puff 175g', 'PO Crk Blk Pepper', 'BOO Midi Brief Blk S', 'Sweet Nectar Goodnes', 'Castile Orig Refill', 'GM Face Cream 100ml', 'Fus Mag Adv 150g', 'Bo LSleevOne Ros New', 'Misc', 'Eco Face Water 100ml', 'Pukka Tea Three Fenn', 'AO PRO SL TGA 125ml', 'NV Kali Phos 130t', 'NB Trav Friend 30ml', 'Aroma Flare Met Whit', 'NG Ses Seads 250g', 'Trin Chamomile 10ml', 'Flat Out Baby Choc', 'Pelvi Leakproof Bl S', 'Env Rinse Aid 500ml', 'Oregano Oil 30 Caps', 'Fus Wom Bal 30 Tabs', 'Boody Boxers Gr XL', 'Wel Nappy Cream 75ml', 'Magic Mud toothpaste', 'HOG Child Fish 60c', 'Bc D3 240c', 'RS TPaste Kids 75gm', 'LE Act Buckinis 450g', 'Lotus Buck Fl 500g', 'PO Org Peppmint 25tb', 'PLV KC SKraut 680g', 'Nv Flax Seed Oil 150', 'Ivys Bracelet Variou', 'TP Aloe Gel 100g', 'NO Sup Gr + Red 1kg', 'CJ Red Raspberry 325', 'Jama Deo Vanilla Ros', 'Tri-Plex 50ml', 'FUS Gu0 Billion 60vc', 'Vital Greens 120g', 'Fus Meno Free 60 Tab', 'LE CM Choc 30g', 'Sacred Cow Ghee 270g', 'Jun Oil P Tone 125ml', 'EN Bone Build 180g', 'Mh Boswellia 60t', 'NO Collagen bar salt', 'Sp Cypress 11ml', 'Mel Fish Oil + D 500', 'Wel Cal T Paste 75ml', 'LL EO Immune Bo10ml', 'ALO Alecov-Imm 500ml', 'Boody M Briefs Gr M', 'Env Disinfectant 1L', 'Love Argan Oil 30ml', 'Eco Min Blush Dreamt', 'GVC Mask 3ply', 'Gra Calen Cream 120g', 'NR Plnt Prot Van 1kg', '2die4 Brazil 120g', 'Bon DLion Bags 32', 'Fus Liver Ton 30 Tab', 'Boody G-Str Nu SM', 'Soyco Jap Tofu 200g', 'Eloa Aloe mango 500', 'Boody Hip Bik Bl ML', 'Jun Teen Mist 125ml', 'Boody M Box Gr M', 'HOG B Complete 120t', 'Mango Box 4 drawer n', 'NR Almond Spr 240g', 'PRA PPP Van 3kg', 'Hh PassFlwr T Bag 30', 'BOTB MushrmPwd Blend', 'Mel App Cid Vin 2l', 'ET Extreme Exfoliant', 'THO Maat Relief 25ml', 'MH WPI+WPC Van 375g', 'Fus Cold Flu 60 Tabs', 'DrB Cast Unsc 946ml', 'TE Maitake mus 50g', 'Lot Wild Rice Or 125', 'Bl Chamomile 40g', 'Cheeki Mug Orange', 'CHE IKB Turt 400ml', 'Icelandic elderflowe', 'Imm Boost Kids 120g', 'Maca Power 200 Grams', 'GF Salmon EVOO 190g', 'LE Lem Car Choc 30g', 'SD Drk Choc CherCoco', 'Organic Spark Coco W', 'Bc UM Energy 240g', 'Pana Eighty 45g', 'OP Pre Workout blueb', 'CHE IB CC 1.9l', 'NR Festive Cake Mix', 'GF TradBulk Oats 2kg', 'Fus Constipation 60t', 'Et Lavender Body was', 'Jama Deo Paste Peper', 'SS Tealight 9hr', 'PRA PPP Choc 3kg', 'MEL CashCocoSp 250g', 'Deonat Roll On 65 Ml', 'Br Nervat Calm 60t', 'Grants AV Cr Deo', 'Mel Tahini 375g', 'NGS Rot Care Conc 1l', 'NG Ban Sun Dry  250g', 'Lauria Florentine Bi', 'Power Cacao Nibs 250', 'Smart Diet Marshmell', 'Sp Rose2.5%11ml', 'M&P Nat Sulph 125', 'DrB H Soap LGr 355ml', 'Nf Sil Pot Grab - Bl', 'Pow Cacao Butter 250', 'PRA PPP Choc 1kg', 'En UTS 90 Tabs', 'LE Cashew Mylk 80g', 'Lot SlipperyElm125', 'Boody 3/4 Leg Bl M', 'Sp Van Bod But 240g', 'Sp Goddess 11ml', 'AbsOrg SweetCorn350g', 'Jn Int Moist L 125ml', 'Aroma Bloom Wood Pea', 'VIT AllOne Doy 330g', 'DG Kabuki brush', 'CHE Ink SS Bot 400ml', 'LL Aroma Swell', 'Bo W Sp Soc Wh 3-9', 'Whole Hazelnut Choc', 'Ozg Avo Dress 350ml', 'Abs Org Pineapl 350g', 'Hh Dand T Bags 30', 'PF Pure mash', 'TP ASeptic Cr 100ml', 'Sp Van Body Oil 150m', 'LE Cr Mylk Ch 80g', 'Pr Melatonin 90t', 'NO Velvet Latte 90g', 'Book Heal your gut', 'M&P Kali Sulph 125t', 'HOG RaspLeaf 60t', 'Flat Out Baby Milk', 'CHE IKB Dolp 400ml', 'Nl Gut Relief 180g', 'HOG Vit C 120t', 'Eco Min Flawless San', 'NL Mag Complete 250c', '2die4 Cashews 120g', 'HoG Sleep Ease 60c', 'PP Safflower oil', 'Wel SeaBuck Hand Cr', 'BCR Axilla DP BB 75g', 'Bf Tst Apr 1.5kg', 'Ols Salt Raw 250g', 'PRA PPP S/Car 1Kg', 'NS Dandelion 100c', 'PRA TF Prot CCC 400g', 'OB RHip Tea 20 Bags', 'Bf Gran Map Van 450g', 'Bm Executive B 62tab', 'LIF Naal Vitamin 90C', 'M&P Ferr Phos 125 Tb', 'M&P Mag Phos Sp 30ml', 'Deliver 3km', 'MG Full Cream Mo 200', 'Fus Detox 30t', 'GN Marine Mag 120c', 'Boody Crew T White L', 'AO MPP RelSp 200ml', 'Mel Almond 500ml', 'One Scoop Ice Cream', 'Boody Full Leg Bl M', 'Bal Nat Ult Van 750g', 'HOG Resverat Ad 60c', 'Maca Power 500g', 'BT Orange Bloss 250g', 'Lotus Moringa Powder', 'KIN Macha Green 25tb', 'MG Night Cream 75', 'ZZ - Gen Tec Gltmne', 'Sp Or Br R Vin 250ml', 'CJ Golden Peach 325g', 'ET HandSanitiz EL150', 'CHE IT RP 500ml', 'BM Oderless FO Mini', 'Amb Org Raw Honey 1k', 'H2G Org Roasted seaw', 'Aroma Swirl Denim Bl', 'Bo Bean+Boot Ro 3-6m', 'Bm PCIP 170 Tabs', 'NO Chick Bone Broth', 'NV Prem Liv Supp 60t', 'BOO Ac Tight Black M', 'BB Mues Gran 400g', 'OR Coc Milk 400ml', 'Fus Menopause 60t', 'Mel Or Sun Mayo 365g', 'LIF Nal Calcium 120C', 'MG Lip Balm SPF', 'Ellia Diff Bloss G', 'Bo T-Shirt Ro 3-6m', 'PRA PPP SS 400g', 'H Mix Echinacea 200m', 'CoYo Ice Cream V+NM', 'PRA PPP Van 1kg', 'NO ChixBroth Origina', 'Org BWheat Pasta Spi', 'TOL Oil Pendant', 'Alkalife Water 1.5L', 'Fus Sleep 30 Tabs', 'Niulife MCT Oil 500m', 'Bal Liq Carn 300ml', 'Fus Astra 8 200ml', 'BC Urinary care 30', 'Livatone+Tum 240c', 'PB 50ml Spray bottle', '2die4 Cashews 300g', 'DrB Cast Cit Or 59ml', 'Tom Org Panty Liner', 'HV Stress 100 tabs', 'PB Jojoba 200ml', 'Bragg Ap Cid V 473', 'PO Gotu Kola 25tb', 'Pana Mint 45g', 'HSF Salt Lamp M 3-5k', 'Smart Diet Banana Br', 'GN Marine Mag 100g', 'Aroma Dream WoodLook', 'MP STS COMB H 125t', 'TP Anti Fungal Sol', 'NR Him Salt Cr 500g', 'LIF Ess Berries 100g', 'Eagle Vit E  60 c', 'Korean Nori Snack', 'Hh St J Wort 50g', 'BD Pal Bar Lam 45g', 'HE Baby Prob 60g', 'PF Lo Carb mash', 'GP Supergreens Colla', 'MG Ecz Psor Cr *New*', 'ARG 7.30 MG Blonde', 'M&P Cr Arnica 20g', 'BNV DaBlend Fine 1kg', 'NatWay Choline 500mg', 'Tri Clove 10ml', 'WEL EPBody Oil 100ml', 'LWood Lem Juice 370m', 'Bf Nat Apricot 1.5kg', 'HNZ Manuka 5+ 1kg', 'Ls Spirulina 500tab', 'JC Hohoba and Mist', 'Top BCAA + Adv 500g', 'Eag GlucoSupport 120', 'SS Beetroot 80g', 'Jun R Face Ex 100g', 'OGN Crbread TBW 125g', 'Ng Oats Org 1kg', 'HOG Garc 8300+ C 60t', 'NR Euc Raw Honey 1kg', 'Bm Valerian Forte 60', 'M Org Spirulina 250g', 'GVC Washing Soda 1.1', 'Kit Car Spray', 'OT Dk Ch Maca 150g', 'Pukka Tea Blackcurre', 'Tress B Plus 50t', 'CHE CC Coral 240ml', 'PB Grapefruit 10ml', 'PB Lemongrass 10ml', 'NR Him Salt Fn 500g', 'LL Swish Navy', 'Motion Potion 600g', 'NV Prem Mag Comp 50T', 'NV VFlxSd 1000 200c', 'Rescue Rem Sleep 20m', 'Bm Mega B 31 Tab', 'LLEsOil Sniffles10ml', 'NR Sav Yst Flk 250g', 'Food Matters Detox', 'Pep Beef Gel 500g', 'Ng Almonds 1kg', 'Fusion Hair Tonic 30', 'BOO LSck Top Black S', 'Eagle Tr B 150tabs', 'Love yr Muscles 150g', 'LL EOil Mditatio10ml', 'Me Sheep Yog 1kg B', 'M&P Comb Q 125 Tabs', 'CF Rasp + Marsh Soap', '2Die4 Hemp Mint ch', 'RS T Paste Nat 110g', 'Bf Pow Porrij 1.3kg', 'Bo PullShort Ro 6-12', 'BB Paleo Gran 400g', 'Wel Childs Tooth Gel', 'Org R&C An Pst 200g', 'PO Chilli Powder', 'Bc Iodine Drops 50ml', 'BOO Mi Brief Nude XL', 'NL Milk Th 17000 120', 'PRA PPP Fr Van 1kg', 'KS Millet Noodles', 'Mh Schisandra 500ml', 'NV Sleep Formula 90t', 'CC HW Lemon 300ml', 'NS Tofu Spicy 200g', 'MH P2- Detox 160g', 'MooGoo Scalp Cr 120g', 'EN CoQ10 6x 150 60c', 'ET Hempitan water', 'Fus Detox 60t', 'Ng Chry Juice 500ml', 'MH Gotu Kola 500ml', 'BM Multivit 50+ 90c', 'OB PMint Tea 20', 'PRA L-Glutamine 300g', 'Et Sweet & Spic sham', 'BC UM Night 240g', 'Sp Jasmine2.5%in Jo', 'Sp Spirit Woman 11ml', 'Eag GlucoSupport 60', 'Bo M Sp Soc Wh 6-11', 'Bl Str/Sleep Tea 20', 'Boody VNeck T Wh Lge', 'DrB Cast Euc 140g', 'YP Chlorella 120g', 'Noble Jerky BBQ Vega', 'Omega Dble High Stre', 'BT Tongue Cleaner', 'Tulsi Rose Cones 10p', 'DG Moisturiser Ligh', 'DG Lip Gloss Pacific', 'JC 100st Jojoba 30ml', 'MG MSM sooth moist', 'LL Aroma Elise', 'Zen Ki 30t', 'Fus Str B Mul Adv 60', 'Wel Rose Deo 100ml', 'PLV Native Herbs580g', 'SB5 ES AC 120t', 'MediMedium A William', 'HOG Child Imm 60t', 'IH Eczema Shield120', 'NG Dates 500g', 'Fus Curcumin 30c', 'THF Cashew kimchi', 'BOO Meirt Li Marle L', 'Roch Ginger NoSugar', 'AMA RST Prot TT', 'LWood Pomegr C 370', 'LL EssOil ChCalm 15m', 'Flat Out Bear Choc', 'Ton 8N 120ml', 'Am RAW Vit C 120g', 'DG Lip Gloss Sun Sho', 'HOG Stress-Ease 60t', 'KIN Tulden Blend 50g', 'DrB Cast Rose 946ml', 'Sp P Sauce Arrab 375', 'PH Atlantic DF 25g', 'CB Choc Hazel Bar', 'NL Glut Fd Conc 300g', 'NL Mag Comp 100c', 'TP C Sore Cr 10g', 'Am RAW Slim Van 500g', 'Bc Ult Pot-C 500g', 'EvEco Prod Bag 8pak', 'Bf GF Apr 350g', 'Tr Lean Prot Van', 'Shiritaki Rice', 'Zen Ki 60t', 'Book Diabetes Type 2', 'Inner Health Plus 90', 'Jun Sens Cl Lot 125m', 'Pure Bliss Rosem 10', 'GN BarleyGrass 200g', 'Nl G L Mussel 90c', 'Inner Health + DF 90', 'Natural rubber sooth', 'Have you got guts', 'NG Triticale Rld 500', 'Bo LSleevOnes Ch 3-6', 'CHE IKB Orca 400ml', 'Aroma Joy White Base', 'GM Millet Puffs 175g', 'Nf Slot Turn Grey', 'Bl Chol Bal 200g', 'Mg How Now 120g', 'EM Sup Hemp oil 250', 'Bon Henna DB 100g', 'Ng Almonds Tam 150g', 'CC Things Choco 99g', 'DrB Cast Euc 946ml', 'PSF CO Maca Pow 250g', 'Byron Bay Beef Broth', 'Hh Sage 30 Tea Bags', 'CHE Clr SS Bottle 1l', 'Fusion Hair Tonic 60', 'M&P Cr Arnica 100g', 'Niulife Coconut Shel', 'ON 100% Whey Bannana', 'NG Fig Org 500g', 'Bo Pullon Rose 6-12m', 'BOO ARBT Black XL', 'PNO Lic Root 100g', 'Fus Magne Adv60t', 'EVO FMist Gard 100ml', 'NV Mag&Cramp Bark200', 'Mel Cashew Spread', 'Hh Epilobium 100g', 'DrB Castile S&J 946m', 'Bragg Vin Honey 473', 'TP Acne F Wash 150ml', 'PF Soup Beetroot', 'Perfect Sweet 225g', 'HOG Berber Imm 30t', 'DrB H Soap Unsc 355m', 'Bm Bio C Chew 200t', 'Chill Out 62s', 'Ellia Diff Balance G', 'Bm Magmin 100t', 'Ton 7R 120ml', 'BOO Boyleg Black L', 'NV Triple Omega 150c', 'Fus H Sk Nail 30t', 'NV Olive Leaf 6k 60c', 'Trinity Body Oil 200', 'NL Ester C 60t', 'MP STS COMB L 125t', 'macadamia milk 945ml', 'Neem Oil 20ml', 'Am RAW Slim Cac 1kg', 'Bo Pullon Ch 6-12m', 'Co Sh Cr Bra Bl ML', 'Ozg Tom+Bas Sce 500g', 'KWH Baby Balm 50g', 'Tilley Bath Bomb Van', 'Raw Med Reishi 50g', 'Fus Probiotic 90c', 'Sp Love 11ml', 'Dr P Bamboo Toothbru', 'NG Macad Roast 150g', 'Bm Vit E 1000iu 30c', 'Thom Org Mag 120 t', 'Nf Pasta Spn Sil Yel', 'Tres B Plus 150t', 'Zen Liniment 50ml', 'Boody Cami Nude S', 'THW MQu Soap GS', 'EM Sup Hemp Prot 500', 'NS To Tem Burg 200g', 'DB 5-HTP 180c', 'Bon Henna G Red 100g', 'ALO AV Man Honey 1l', 'DJA PB Pretzels Salt', 'MG SPF40 120g', 'Spry Gum Cinn 100', 'Power Maca Blend 250', 'Bon PruneAll Spd 375', 'ARG 4.02 RC Chestnut', 'ET Tan Applicator', 'Sweet Nectar Cups', 'MFN Coll SilSp 100ml', 'NG Cranberries 250g', 'YP Chlorella 200t', 'HNZ Manuka 5+ 500g', 'BC Hickory Barbecue', 'CH Metabocel 90t', 'TE Almond Chips SC', 'Eco Tan Eye Compost', 'Lw Blueberry 946ml', 'NL Kyor Extract 120c', 'LL EssOil Snooze15ml', 'HOG Clear Skin 60Tab', 'NG Prop 25ml', 'PRA Phy Fire Pro400g', 'Bl Sleep Sound 30t', 'Arborvitae Cognitive', 'Bc UBiotic IBS 30c', 'TON Heat Pillow PS', 'GoMacro Macrobar Ban', 'PR Potassium iod', 'Eco Min Perfect L Be', 'Cacao Beans 125g', 'Hh Liver Herbs 50g*', 'Ozg Bals Dress 350ml', 'AH Or HR Vin 350ml', 'Tri Tangerine 10ml', 'Lot Quin Flakes 300g', 'BCR Axilla DP 75g', 'Good Green Stuff 1kg', 'Mel Org Tahini Uh 37', 'KWH Kids Cough 200m', 'Ng Apricots 250', 'OGN C Cr Crumb 300g', 'PPC HWer Henna 250ml', 'LL EsOil Courage10ml', 'Super Grass 200g', 'Ng Pepitas 250g', 'EM Byron Sunrise', 'Tulsi Cone Tower Var', 'LWood Cranberry 370m', 'Tri Rose Ger 10ml', 'CG Barley 200g', 'Flordis Premular 30', 'Boody 3/4 Scoop Bl M', 'Hex 14 Incenc', 'Tom Org Night Pad', 'PB Pennyroyal 10ml', 'ARG 4. Brown Natural', 'PR T1000 100c', 'Mango box 6 drawer', 'Pukka Tea Love', 'WEL WRal Lotion 30ml', 'TE Turkey Tail 50g', 'Lot Rice Cereal 250g', 'Lotus Almd Meal 125g', 'Sp Bliss 11ml', 'Alch Avo Cal Con 500', 'Holle Inf For 2 600g', '2die4 Mix Nuts 300g', 'Nv Vit C 180 Tabs', 'SD Rose & Pistachio', 'OGN Crispbread C125g', 'OZG Tom Sau 350ml', 'PO Rosemary', 'Env Body & Hair 5l', 'Sp Org Tom Pst 300g', 'TP W Hazel 100ml', 'Bc U ME FB 360g', 'Ns Astragalas 100c', 'Pow Cacao Beans 250g', 'PO All Spice', 'GN Mnt OS 520mg 60c', 'JC Travel Pack', 'KH De-Stuff Rub 28g', 'ELL GAD + Ess Oils', 'Neem Oil 50ml', 'GM Kelp Noodles 454g', 'WM Eco Wash Pad', 'FH Hair Tonic 120c', 'WEL SF SkFood Glow', 'VEGO Choc Spread', 'Roch Papaya Leaf 60c', 'PO Brahmi 25tb', 'BOO Woow Hid Blk 3-9', 'Nt Org Spelt Bread', 'Cl App Cid Vin 946ml', 'Ls Aloe Juice 1.25l', 'PK CH Gar Spice', 'DoggyL CalmingCookie', 'Boody Tank Top Bl M', 'LL Drift White', 'Grants Bamboo Toothb', 'Ng Cherry J 1L', 'NR PVT MM 400g', 'ALO AV Imm Rec 1l', 'FG Vegan Salsa', 'Fus Energy Multi 60t', 'NS Tem Burg 200g', 'Am RAW Prot Va 1kg', \"HH Laxative Tea 30's\", 'NG Prunes 250g', 'Car Org Honey 500g', 'EZ Bth Cr Relax 900g', 'HOG Ginkgo 6000 60c', 'NV Mg Com Pwd 150g', 'CJ Strawberry 325g', 'PA Macadamia White', 'Paper Bag', 'OR Maple Syrup 250ml', 'PB Turmeric 10ml', 'Pure Bliss Menthol', 'X50 GrnTea Mango 30', 'Niu Coc Syrup 250ml', 'Org Outbak V 175g', 'Bm CoQ10 150mg 30c', 'NV Mag & Cramp 100C', 'RG Pickled Onions', 'Mel Molasses 600g', 'Enviro Bottle 1l', 'NRT CayChilli 500ml', 'Tho Ech 4000 60t', 'TN inositol 250g', 'Bm Proseren 120 Caps', 'TP Foot Spray 50ml', 'NO Chix BBMisoRamen', 'Cheeki ins tumbler p', 'PO Garlic Granules', 'PB Wild Oregano 30ml', 'Melrose EssReds 120g', 'ON Amino Energy Oran', 'Herb Party Sausage R', 'DV WPI 4kg', 'Fusion Cardio Tonic', 'LE Coconut Oil 450ml', 'THO Lir Cleanse 120c', 'TBG Grain Brown Rice', 'Alch Jojo Cond 500ml', 'Baby Wipes', 'CF Kinder + Soap', 'QuePasa OrgSalsa Med', 'Lotus Agar Agar 75g', \"NV Infant's Probioti\", 'LL EssOil Lvndr 15ml', 'Jun Teen Clnse 125ml', 'Bc NuroSAMe Plus 60t', 'BOO BTS CSS 6-12', 'Jun Calm Mask 100g', 'BB Drink Bottle 2.2L', 'BD Lemon & Macadamia', 'YP Chlorella 100t', 'Bass Dry Skin Brush', 'EN Magnesium 60t', 'Tr Pump Protein Van', 'NO B Broth Herb 100g', 'SL C/Gum 30p Spear', 'Bc Antiox Ex 60c', 'CH Calcium Comp 120t', 'OR Raw Aus Honey 500', 'CHE IWT PC 220ml', 'DV WPI 400 Grams', 'Top Nitro-Boost 250g', 'Lot Xanthan Gum 100g', 'Ozg Caesar Dr 350ml', 'Env Body&Hair 1l', '2die4 Almonds 120g', 'RO Coc Oil 330ml', 'Trin Cinnamon 10ml', 'Weleda Skin Food Lip', 'BB LychBlckT SCandle', 'Sp Tamari 250ml', 'Crystalised Ginger', 'LZ Dk Ck Coco 85g', 'GF Tuna Brine 125g', 'Ntrton Cre Poly b 75', 'Mel Pumpkin Oil 250m', 'Wheatbags Love Blue', 'Salt Lamp 1.5kg', 'Aroma Bloom P White', 'HOG Thy Supp 60t', 'Bo LSleevOne Ch 6-12', 'Sp May Chang 11ml', 'OR Cocnut Flour 400g', 'BB Mues Classic 900g', 'Ns Meadowsweet 100c', 'We Arn Mass Oil 100m', 'Fusion Green Tea 90t', 'HOG ChromMax 120c', 'Ton 5R 120ml', 'DrB Cast T Tree 946m', 'GVC PB Peru Balsam', 'Opt Pre WO WMel 300g', '2die4 Hazel 300g', 'DV L-Glutamine 500g', 'Bc Mega B Q10 120c', 'KF Ging Blnd 25s 65g', 'NG Lntl  Red 500', 'TN Pecans 150g', 'MooGoo Tail Swat 200', 'Mel Cond Base 1litre', 'SO Vanilla essence', 'BB Mues Paleo 425g', 'Little Oak Goat Mlk1', 'macadamia milk 1L', 'Jim Liquid Ccnut Oil', 'ML Cocnut oil Ex Vir', 'BB LimeCoco SoyCandl', 'SPF BS Oily 350ml', 'Whole Earth Baked Be', 'HOG Brahmi 6000 60 T', 'Alch LeaveIn Con 150', 'NG PinenutKnl 150g', 'BOB BBC OIHG 350g', 'Trinity Spice 10ml', 'WEL BTP Oral 60g', 'PR Cinnamon 200c', 'BOO Mew Cut Blk 6-11', 'Lotus Bourg Fine 375', 'Org Vege Rice Pasta', 'TP TT Shampoo', 'Bc Zinc Sust 120t', 'Mel WNut+Cash S 250g', 'Braggs ACV Book', 'JC Pgment Oil 30ml', 'Pukka Tea Night time', 'Eco Min Conceal ligh', 'Tri Clay 1 White 45', 'BNV 10a Natural 500g', 'PA Ice Cream TP', 'CG Org Ol Oil 2l', 'Fus Stress 60t', 'Klean Kanteen 532ml', 'ALO Aloe Gel 100g', 'Ellia Diff Gathther', 'GP Ginger Chews 56g', 'TP Mac Face Oil 30ml', 'Zen Harmony 60 Tabs', 'BC womans ess 120c', 'HH Bile Flow TBags', 'Br B+C R Nose 100ml', 'Mel Mass Oil Dis 1L', 'Gr Superfoods 500g', 'ET Hempitan Water140', 'OB LemSooth Tea 20', 'Ateronon XY', 'Ess Nut K2 60c', 'FUS Mag APLL 165g', 'Jam Deo Herb 50ml', 'Sp Tamari S/r 500ml', 'DG Min found dark mi', 'CHE IWT SG 320ml', 'NA Rubber sooth rd', 'Salt Lamp DW Elephan', 'Tp Soap - 3 Pack', 'Org Ck Mx Vn 375g', 'MooGoo MSM Cr 120g', 'Sp YlangYlangO11ml', 'Celestial Lemon Zing', 'Fus Skin Tonic 60c', 'BOO ShapCropBraBlS', 'M&P Kali Phos 125 Ta', 'Bl Sage 75 Grams', 'Am Kom M Gr 330ml', 'HOG Lys + Olive 100t', 'Epic Mints Pepp 180', 'Til GM Hand cream', 'Ns Horsetail 100t', 'Pukka Tea Relax', 'BioC K2 Caps 60c', 'NL Brahmi+Ginkgo 100', 'PS TigerNut Flk', 'Broccoli Powder', 'Pep Tea Organic Matc', 'ARG 9.0N VLB Nat', 'Flat Out Bear Milk', 'Tropeaka Matcha Tea', 'Bon Henna Clear 100g', 'ARG 3.0N Dark Brown', 'Fl Femular 30t', 'TAGC Mar Coll 225g', 'CHE Clack SS Bot 1lt', 'PO Cumin Seed Whole', 'Bo Sh Cr Bra Nu SM', 'NG Pist Kern 150g', 'Sun Warrior Van 375g', 'PRA PPB CB 60g', 'Th Org Zinc 180t', 'ARG 6.50 RR Natural', 'Niu Cr Coco 500g', 'Pl Spr Bread Ezekiel', 'Boody 3/4 Scoop Wh L', 'CHE CM Pink 350ml', 'Bo Sh Cr Bra Bl SM', 'Bal Nat Plnt Pr Ch1k', 'EN Fish Oil 120c', 'MooGoo Acne Cl Cr 75', 'Wel Sage Deo 100ml', 'AO Mag Pro PR 200ml', 'AM Festve Fizz 1L', 'HFA AG HS 800g', 'Fus Blood Sugar 60t', 'GVC Maple Syrup 250', 'JC Night Cream 50ml', 'Tr Boost Red', 'Bm Ech Ace+zinc 30tb', 'MG Ecz Ps Cr *Orig*', 'HOG Ch Probio15B 50g', 'Fus Multivitamin 90t', 'DrB H Soap Unsc 710m', 'SJaws T Paste S', 'LIF BarGrass 240vc', 'GF Anzac Bisc 240g', 'Tulsi Ess Rose Cones', 'Lot Yeast Flake 200g', 'Nv Mega B 60t', 'Power Cacao Nibs 125', 'NG Msli Birch  750', 'QCamel Camel milk 1L', 'BOO Fu Brief White S', 'PRA A LCarn 150g', 'Golden Tumeric Elixi', 'Noble Jerky Original', 'Super Grass 600g', 'Lauria Choc Shortbre', 'BOO Mii Brief Nude S', 'CF Mandarin Soap', 'M&P CrComfrey 20g', 'Harmony Soap Lav Pat', 'SPF BS Col Tr 350ml', 'NE Gr Ban Starch 400', 'SF Haircare DPDD', 'Esk FNut But Sm 450g', 'CHE SS ThMxTeal 1.6L', 'RG Crushed Garlic', 'NB Sweet Pot300', 'AMA LemManSpray 20ml', 'Lf Food Graph 475ml', 'HOG Breast F Sup 60', 'Boody Crop Leg Bl Me', 'GO Lentil Soup', 'Honey Leatherwood 1k', 'Nut Olive Leaf 500ml', 'Lot Yeast Flake 500g', 'Aroma Elm Oak', 'BOO Ac Tight Black S', 'BOO Midi Brief Blk M', 'Av Vit C Cream', 'GRA Kiste Bberry 75g', 'AV Herbamar DNS 125g', 'Th St J Wort 60c', 'NV Prem Mag 100t', 'BRG Seasoning Herb', 'THO AshComplexNgt 60', 'BP UMF Honey NZ 250g', 'Incense Gift Fruity', 'DJA Crispy Brocolli', 'Bm Vit A 150 Tabs', 'ESS Sielius Sage 60c', 'CE Chamomile 66ml', 'NV Arnica 30c 130t', 'Pana Coc+Goji 45g', 'Jungle Balm 50ml', 'FU Gutbiotic SB+ 60', 'NR Almond Meal 500g', 'Fus Gluc Adv Rep 60c', 'NG Almonds Sliv 150g', 'Melrose EsGreens120g', 'WWN W CVP 400g', 'Th Celery 5000 60c', 'Hh Beta-Lax 30 Bags', 'Two Scoops Ice Cream', 'HH Org Fr Eggs 700', 'NO CollgenBuild 450g', 'Mel Veg Glyc 200ml', 'Ng Lecithin 500g', 'BioBeet Tumeric Rene', 'PLV Dill SKraut 680g', 'Bon Guarana 100 G', 'M&P Calc Phos 125t', 'I Quit Sugar Life Bk', 'SOS Rehyd C/nut 10PK', 'HOG St J Wort 60', 'DV Creatine 500g', 'MooGoo Scalp Cr 200g', 'OZG Bolg Pas S 500g', 'Tri Candle CMV Tin', 'WWN PCPW 250g', 'Mojo Act Kombucha Ra', 'Smart Diet Peanut bu', 'BOO Menglet White XL', 'NV Prem ProBiotic 60', 'Banjo Bear Coconut', 'NS Mild Sp Tem 300g', 'Spry Gems SMint 40', 'HOG Digest-Zyme 60c', 'TN Taurine 250g', 'Salt Lamp Cord', 'MOR BG WMM 200g', 'SLC ANB Cream 250ml', 'Ns Artichoke 90c', 'Sweet Nectar Cake', 'Pukka Tea Wild Apple', 'PA Choc SaltedCa 80g', 'Ton 10N 120ml', 'Sp Frankince 5ml', 'NG Raisins 250g', 'ZZ - Sp Tamari Org 2', 'OR Chia Seeds 1kg', 'Ton 7N 120ml', 'ABC Mag Bath Fl 1kg', 'GVC Rattan bundle', 'PO Turmeric', 'Boody M Box Bl S', 'Trin Preg Oil 200', 'Bf Gf Porrij 1.1kg', 'ON Amino Energy Grap', 'Eco Min Perfect Beig', 'Te Van Nut 10 Bag', 'Easy pH Test + Book', 'NI Night Cream 110ml', 'MMCV Vegan Mayo 235g', 'Pukka Tea Lemongrass', 'PRA PPP Ban Sp 400g', 'KF LL Sleepy Org 40g', 'Pukka Tea Ch,Va&Man', 'DJA Breen Bean crisp', 'Bc CQ10 Ex 150 30c', 'Boody 3/4 Scoop T M', 'THO Uler Detox 300ml', 'HOG Vit B2 200mg 60', 'Fus Wom Multi 60t', 'Crystalized Ginger1k', 'Bm M-Vision 150 Tabs', 'Cry Deod Uns 118ml', 'NES Marine Coll 280g', 'Boody Bikini Bl ML', 'Bf Nat Cran 1.5kg', 'PB sugar Scrub', 'Fus Cystitis 30t', 'ORG PrBread Mix 450g', 'Fusion MenoHeatRe120', 'Bl S Elm Pdr 125g', 'Mel Olive 500ml', 'HNZ Manuka 10+ 250g', 'Bm PrAct 50+ 100c', 'OT Butter SALT 250g', 'Spiral Org Pld Tom', 'Lucas Paw Paw 75g', 'Melrose EPO Org 200m', \"TE Lion's Mane 50g\", 'X50 GrnTea Tropic 30', 'Olive Ext Nat 200ml', 'NV St Johns Wort60VC', 'Bc Mushroom 7 90 Tab', 'PNO Ladys Mantle 25g', 'TP T Paste 110g', 'Am Kom M Gr 375ml', 'HNZ Manuka 20+ 250g', 'HOG Child Multi 60t', 'Cheeki Tumbler ocean', 'NV Methyl B12 100t', 'Harmony Soap Pepperm', 'Fus Wom Multi 90t', 'ES Ear Cand bamb 1pa', 'Tropeaka PB Prot Bar', 'Endura Gel Grape', 'TP T Tree Oil 10ml', 'BB Paleo Gran 450g', 'Sp Shoyu Org 25', 'H Mix Sleep 200ml', 'Flor Essence 500ml', 'QB Solid Pillar 15cm', 'EPBentoniteClay 250g', 'TP Lavder Spray 140g', 'Wel Preg Oil 100ml', 'CHE SSe Silver 1.6lt', 'OR Spelt Flr UB 1kg', 'Raw C 1 L', 'HOG Pr55 Billion 30c', 'Sp Camomile GBlueOr', 'MOR BG Ju Mang 200g', 'Amphore Coco Kefir', 'CoYo Ice Cream Choc', 'Bl Juniper 100g', 'PO Turmeric 25TB', 'Silicea Twin Pack', 'PO Passionflower 25', 'NIU Coco NCAS 250ml', 'TOG Rose Water 100ml', 'AO Roll On 60ml', 'FTN Paleo BFast 800g', 'NV Str + Anx 60t', 'Mel Almond Spread', 'FOR GF Mue spr 350g', 'TN Premium Ch 3kg', 'Bal Nat Whey C 2.8kg', 'NO Joint Colla 450', 'Boody Boyleg Nu ML', 'M&P Comb P 125 Tabs', 'Sp Lime 11ml', 'Kfibre 100g', '2Die4 Act Org Muesli', 'Eco Min Perfect N Sa', 'Cell Food 30ml', 'GF Mack EVOO 125g', 'Trin Sugar Scrub 375', 'Bm Mens Multi 50 Tab', 'CC Thins Slt Car 99g', 'Organic Prunes 250g', 'Alch Lgrass Spoo 500', 'MH Australian Mix', 'SB5 Clear Skin SB', 'DrB HB Lot Lav 237ml', 'Fusion Mens Multi 60', 'Herbal Wellbeing Paq', 'SP Org Wholegrain Mu', 'Sym Dand Tea 100gm', 'PLV S Beetroot Herbs', 'Nl Gar+C HR+Hist 100', 'Tri Preg Oil 100ml', 'Sp Coc Bod But 240g', 'PO Ginger', 'HS Seaweed Teriyaki', 'BM Olive Leaf 200ml', 'DrB Cast Lav 59ml', 'BC Selnm Drops', 'Eco C Body Milk 500m', 'Alch Jojo Cond 225ml', 'Jade Facial Massager', 'GF Salmon EVOO 120g', 'Bc ChondroPlex 120t', 'Boody Cami Black S', 'Sp Sanctuary 11ml', 'Aroma Snooze Pink Pl', 'HOG Slip Elm 60c', 'Tulsi Ess Jasmine', 'SPF Oi Cert Org 30ml', 'Bo T-Shirt Sk 12-18m', 'Pret Micel E 50 Ml', 'Flat Out Bear Rosie', 'H/H Sting Net T Bag', 'Ch Ins SS 1L', 'Ellia Ascend Diffuse', 'Org Corn & Vegetable', 'Bm Echinacea 50ml', 'Tri Patchouli 10ml', 'DW Salt Lmp Sphere6', 'Te Fr Roast 312g', 'TR Rose Hip 30ml', 'HOG Prob SB 30vc', 'Tulsi Inc Egypt 20', 'Floradix 500ml', 'FU Glucosamine Prem', 'Boody Bikini Nu SM', 'Perfect Sweet 2kg', 'PO Fennel', 'Green Calcium 250g', 'HM Herbed sea salt', 'TGCC Sour Cream 160g', 'Kit Sleep Spray', 'PO Cayenne Pepper', \"Org Buckwheat O's\", 'PH Or Rice Malt 1kg', 'NS Lemon Balm 60c', 'GN Wheatgrass 200g', 'Icelandic sparkling', 'ON 100% Whey Dbl Cho', 'Flat Out BabyLeopard', 'NL Ester C 120 Tabs', 'ARG 8.Blonde Natural', 'BOO Fugging Black XL', 'Jun V Rose H Cr 50ml', 'PRA PFP DrkChoc 1kg', 'WWN StrawMint I+G150', 'GVC Amber Neklace', 'Env Bathr Clean 750m', 'Fus Stress 120t', 'GN Wheatgrass 120c', 'PP Insta Coffee 160g', 'OR Cinnamon powder', 'Lot Oat Steel 500g', 'Am RAW Prot Nat 1kg', 'Et Frizz Wrangler', 'Boody Tank Top Wh S', 'Bo T-Shirt Sky 3-6m', 'Sophie Non Drip Cup', 'Am Raw Prot Cac 1kg', 'Sp Calm Kids 11ml', 'the GF Orig Mac 200g', 'Lot Trad Oats 1kg', 'Bo Sh Cr Bra Nu ML', 'Turban Laksa Paste', 'Sp Org lemon 11', 'BC Wom Ess 240', 'EN Fish Oil 60 Caps', 'COYO Salted Caramel', 'LL EsOil Breathe10ml', 'Bm Zinvit 100t', 'Ber Org Honey 1kg', 'Fus Cystitis 60t', 'Aroma Move White Gre', 'Hh Dand Root 100g', 'LZ chili sup 71% 85g', 'SF pasta sauce fungi', 'DRB To40g Peppermint', 'NN Ultimate Omega', 'Fus Gluc Adv Rep 100', 'Fl Calc + Mag 250ml', 'DoggyL HipJointCoat', 'Nag Champa 10g Box', 'Weleda Skin Food 75g', 'CLProt Choc 500g', 'Bf GF Cran 350g', 'Top Inulin 500g', 'Niu BBQ Sauce 250ml', 'Env Body & Hair S 1l', 'Organic Seaweed 4g', 'PO Energy 25tb', 'Pow Cacao Powder 1kg', 'Bon DLion Med 150g', 'CJ Royal Fig 325g', 'Bl Yerba Tea 125g', 'THO Hedr unflav 450g', 'Moogoo Lip Blm Honey', 'PP Keto ButerBomb2', 'MDr RapLift Mask 40m', 'Aloe Vera Aloe Jelly', 'DG Moisturiser Mediu', 'Pukka Lean Matcha te', 'Zero Fettuccine 350g', 'Salt Lamp 8 to 10kg', 'NO ChixBBroth GrdenH', 'AMA Raw Collagen Glo', 'HOG Ult Silic Cmp 60', 'End Low Carb LL 128g', 'Tom Org Ult Thin Pad', 'Lw Prune Juice 946ml', 'GF Salmon Brine 125g', 'Raw Carob Powder 200', 'NL Probiotica DH 60t', 'BOO BLB Nude L', 'Trinity Vanilla 10ml', 'Pukka Tea Detox', 'AF Peach 20g', 'MH St Johns 500ml', 'NI Coco Teriyaki 250', 'Organic Van Coco Mil', 'Zero Konjac Noodles', 'PO Paprika', 'TGCC BBQ 160g', 'Ak SWood BWash 500ml', 'Chia Co Black 500g', 'Jun Teen Lot 50ml', 'PB Aloe Gel 250g', 'Jama Deo Frag Free', 'Boody 3/4 Scoop Wh S', 'Herbisaurus Vegan La', 'CHE CM Topaz 350ml', 'PR Biotin 10k 90c', 'Mad Millie Ginger Be', 'ZD Chocolate 475ml', 'TP Foot Pdr 100g', 'Mel Shampoo Base 1lt', 'Turban Butter Chicke', 'LE Hazel Choc 80g', 'AO Magnesium 60ml', 'NG Mango Aus 100g', 'PR GABA 750 100c', 'M&P Kali Mur 125 Tab', 'Glace Pears 200g', 'CHE CC Pista 310ml', 'SPF Auojoba Oil 11ml', 'Bo LSleevOnes Ch 0-3', 'LL Ess OIl Relax10ml', 'Jun Pure Rej Oil 30m', 'Eloa Aloe drink orig', 'SW bakingbuttons Cho', 'BOO Meinglet White M', 'PO Or JasmineG 25tb', 'NG Crackerjack 425g', 'Alchh Rice ShPoo 225', 'DrSup Blueberry Blis', 'Bo MWrap x 2 Rose', 'Oplex Zymin 200ml', 'Dr Red Spearole 150', 'Tr Protein Choco Bar', 'Aroma Rose', 'Bc Theracurmin 60c', 'GVC Goji Org Ber 300', 'M&P Comb R 125 Tabs', 'Bo W ED Soc Bl 3-9', 'Grants Crys Deo 100g', 'Bm Vit E Cream 50g', 'HFA HP Choc 420g', 'Bl Kelp 750mg 75 Ta', 'Body Crystal Pump', 'Aroma Breeze Col Chg', 'Bo MWrap x 2 Chalk', 'Tulsi Ess Cin twist', 'X50 Broc Ch Salt 60g', 'Am RAW Pal Pro V 1kg', 'BC PEA Liq 50ml', 'Env AllPurpClean 750', 'Jama Deo Spice 50ml', 'RS Blk Adder 50', 'PR VitC 1000 250', \"Bc Men's Ess 240t\", 'Salt Lamp 2 to 3kg', 'Smart Diet Rasperry', 'Sp Lem Euc 11ml', '2die4 Hazel 120g', 'Nv Flax Seed Oil 300', 'BOO Shop Bra Nude XL', 'HOG Omega3 Conc 100c', 'NV Kali Mur 130t', 'HOG Calcium K2 90t', 'Am RAW Sug Crave 50m', 'End Perf Orange 800g', 'Moj Org Kom Ras 330m', 'Jun Ren Clay Msk 100', 'Env F Load Laund 1L', 'Lot Pepitals Org 500', 'Bl Dand Root Raw 125', 'IH Ecz Shield FF 30c', 'Cheeki GoVita Black', 'WWN PPC HC 850g', 'HH Prostalobium 30 B', 'Kindervital 250ml', 'CC HW Lavender 300ml', 'NZ KGS Van Car', 'LLEsOil Positvty10ml', 'Smart Diet Cookies', \"Zero 'Rice' 350g\", 'Br Paw Paw 75g', 'Boody Crew T White M', 'Power Chia 250g', 'Hp Spirulina 500t', 'LE Creking Choc 250g', 'ALO A/V Juice Nat 1L', 'LL Ess OIl Joy 10ml', 'BugGrrOff Ins Repel', 'NV Mag Cmpl Pdr 300', 'Nv Chromium 200t', 'MooGoo Blem Cl Mo 75', 'FUS Garcinia 60', 'Pukka Tea Cleanse', 'Bal Nat Whey Va 750g', 'LE 85% Dark Choc 80g', 'Mel App Conc 360', 'JC Lip Balm', 'SPF Hyfused Oil 50ml', 'GVC Neckl Gem assort', 'Mel WorcestSauce 250', 'BRR Chns Sleep 100ml', 'Pukka Tulsi Clarity', 'Herbal Wellbeing Str', 'Eagle Potasi 60 Tabs', 'LZ Carob bud mint', 'BB Mues Birch 450g', 'Piping Rock Vitamin', 'BOB BBC OTGBP 350g', 'NV Vitex1000OAD60VC', 'Mh Vitanox 60t', 'Bragg Healthy Lifest', 'NS Rhodiola 60c', 'Pro Grass Fed unf', 'Wheatbags Love Sleep', 'EnerC Orange 12s 100', 'NR Slippery Elm 250', 'EM Lw AussSalt 240g', 'PR VMax Male 120c', 'UVN Sport Lip 30+ 5g', 'End Perf Rasp 800g', 'TP Headache Rollon', 'LE Darking Choc 250g', 'Sp EucalypOrg11ml', 'NG Alm Tam 500g', 'AMA GrCompress 500ml', 'DrB Cast Cit Or 946m', 'CoYo Ice Cream Vanil', 'Wel SeaBuckthor', 'Harmony Soap Rose Ge', 'PB Lemon Myrtle 10ml', 'NR Almond Meal 250g', 'WEL Luxe Show Set', \"NS P D'Arco 100c\", 'OZG RJ CS 500g', 'Aroma Mod Hot Pink', 'Fus Liver Ton 120t', 'CJ Blackberry 325g', 'PRT Kids Gum MV 60s', 'Am Smooth Coc 4x100g', 'PO Or Green 50tb', 'Bc UB Pregnancy 60c', 'MMCV Vegan Basil Pes', 'DrB Cast Pepp 946ml', 'Bee-Power 480g', 'Cheeki Food jar topa', 'ALO Alr-Digest 500ml', 'SPF BC Col Tr 350ml', 'Th Valerian 60 Caps', 'EN Magnesium 120', 'TWF cashews turm pep', 'GVC Handmade Bag', 'MH L-Arginine 200g', 'KIN Licorice Tea 50g', 'LE H Choc Butter 175', 'HoG Mem+Conc 60t', 'Inner Health EczSh60', 'RS TPaste Smok 100g', 'GVC Mixtures 50ml', 'Bc MGest Enz 180c', 'Boody M Boxers Bl L', 'Bioceuticals MTHF 60', 'PO Cinnamon 250g', 'GVC Mag flakes 2kg', 'Actvtd Almond Milk', 'Env Floor Care 1L', 'Bm S79 84 Tabs', 'JC Face Exfol 80ml', 'Abs Org Italia Pesto', 'Tulsi Incence myrrh', 'Rap White Choc 190g', 'Natural Roah Grass F', 'Motion Potion 250g', 'Fus Milk Thistle 50c', 'Fus ActiViral 30c', 'Bo PullShort Sk 3-6m', 'M&P Cr Thuja 100g', 'HH Wormwood 50', 'KOA HS Tea 20tb', 'Pukka Tea Green Coll', 'TEM Caul Puffs KP', 'NV Nat Mur 130t', 'Love Inc Love Potion', 'Pukka Tea Womankind', 'EVO FMist OutB 100ml', 'ET Winter Skin 200ml', 'NIU CB CR 35g', 'CH Tyrosine 125g', 'Trin Study Blend 10m', 'Bon Sweet Slice 150g', 'Sp CedarwoodO11ml', 'Fus Allergy 30t', 'ND Medjool 1kg', 'Bo Socks Ch/Ro 6-12m', 'OR Coc Sugar 250g', 'Rescue Remedy 10ml', 'Bm Lyprinol 100c', 'ARG 5. Copper Blonde', 'NS Withania 100caps', 'Org Brow Mix Ch 400g', 'GM Multi Puffs 125g', 'PO Or Nettle 25tb', 'MH WPI WPC Ch 375', 'JUN SEye Cr 15ml', 'ET Cac Tan Mou 125m', 'NG Goji Berries 400g', 'Bo PullShort Ro 3-6m', 'B Shampoo coconut 16', 'TP TTManHon ClayMask', \"BB Tea 30's\", 'NGS Maen Juice 500ml', 'Trin Harmony Blend', 'Tri Ref Blend 10ml', 'ARG 5.30 GB Chestnut', 'OB Chamomile Tea 50', 'NL Prost Comp 100c', 'Org Pasta Sp Q 250g', 'NZ KGS Choc', 'ALO Alng-Clean 500ml', 'Dr B Cast Almond 237', 'ENV Dish Wash 500ml', 'CH Livatone Shot 30', 'NO Golden Latte 90g', 'LE Dark Choc 80g', 'BM VitC Effer 10s', 'LKW Juate Pure 946ml', 'GF Sardines EVOO 125', 'Flat Out Bear Latte', 'ARG 5.63 RC Brown', 'MP STS COMB E 125t', 'Nv CoQ10 150mg 120c', 'CHE IWT SB 220ml', 'PRG Org PPBU 150g', 'ENV DWl L&L 1l', 'WEL Pom B Wash 200ml', 'Bc UM P5P 60t', 'BB Mues Paleo 500g', 'SJ TP Orange 75g', 'Nv Vit E 500iu 200c', 'BRK Nuty Granola 1kg', 'Trinity Body Oil 125', 'Br Teeth Rel 100', 'Jun Sen Rej Oil 30ml', 'Alch Ylang Spoo 500m', 'DJA Shitake Gar&Chi', 'DrB Cast Almond 59ml', 'DJA Dried Pineapple', 'ON Amino Energy Rasp', 'BC Alpha EFA 60c', 'CLProt Straw 1kg', 'Good Green Stuff 300', 'OR CO Raw Honey 1kg', 'GN Gr Vit C 60c', 'Bc UltBiotic 45 60c', 'Naturis Org Lt Rye', 'Sp BWheat Ramen 88g', 'Ak Lav Body Wash 500', 'Prana ProtBar MultiP', 'Br Hay Fever Rel 20m', 'Et Damage Contr', \"EN Cholestrienol 30'\", 'M&P Cr Thuja 20', 'CHE Ins TumLem 500ml', 'Bc UC EPA/DHA+ 120c', 'Boody G-Str Bl ML', 'Bioc Vitex 60c', 'Livatone+Tum 120c', 'Aroma Flare Wood Gra', 'MER GGangerine 355ml', 'MG Ant Age SPF15 75g', 'CJ Black Currant 325', 'HOG B12 1000mcg 75t', 'PC pimp salad cashew', 'HOG Wom Multi 60T', 'MedMedium LifeChFood', 'Flat Out Baby Honey', 'NV Mag Phos 30c 130t', 'PR ACV 84c', 'Nv CoQ10 150mg 60c', 'Sp Peppermint 11ml', 'Weleda Skin Food Bod', 'Power Chia 500g', 'NG Licorice Pieces', 'AH Flaxseed Wraps', 'Ivys Ladies Fashion', 'HOG Tyrosine 60t', 'GO Minestrone soup', 'OGN DinosaurWFC175g', 'Luml Org SwChili Sau', 'BOO WonkSock Blk 3-9', 'GV SB Black 700ml', 'Pow Cacao Powder 500', 'DS Cherry Bombs 125g', 'ZZ - ABC Bod Lot 250', 'Lot QuinoaRedOrg 500', 'Mer GM Blk 1Kg', 'Inner Health + DF 30', 'PR Liq Biotin 10k 59', 'Bo LSleevOnes Ch New', 'Bo M Bus Soc Bl 6-11', 'NV Super Greens 150G', 'MG Eye Ser 3 Vit 25m', 'CLProt Cap 20g', 'SE Celtic Salt C 650', 'Nl Gar+C HR+Hist 50c', 'Bl Rasp Tea 60g', 'Flat Out Baby Bluey', 'SO Peppermint 59ml', 'Bo LSleevOnes Ro 3-6', 'NV Ult SB 5 Bill 60c', 'PO Or Chamomile 50tb', 'NByron Veg Mayo 435g', 'PRA Creat Mon 300g', 'Floradix 250ml', 'Hab Shifa Black seed', 'Ber Org Honey 500g', 'Chia Co Black 1kg', 'TP Nurture Oil 60ml', 'Lotus Semolina 500g', 'Spiced Basmati Rice', 'NV Vitamin C 60t', 'NO Ac Ber Blend 200g', 'End Gel Citrus', 'Bo W Low H Soc N 3-9', 'HOG Bulg Trib 60t', 'OT Wht Choc Rasp', 'CH Coloidal Minerals', 'HE Withania 500ml', 'LW Cranb Org 946ml', 'Fus Astra 8 30 Tab', 'Am RAW Pro Cac 500g', 'BOO Full Brief Wh Lg', 'HH S Bitters 500ml', 'Lauria GF Choc Hores', 'Lacteeze 120 Tabs', 'DrB Cast Unsc 237ml', 'Hp Spirulina 200t', 'DrB Castile Alm 946m', 'Liberate GF Crumpets', 'Mel Fish Oil 500', 'LE Boobook eggs', 'BP Aus 83+ (5+) 500g', 'PR True NAD 60c', 'EVO FMist Rain 100ml', 'OR Spelt Flr WM 1kg', 'Deonat Spray 125ml', 'HFA HOO 500ml', 'Sp Aniseed 11ml', 'Vitawerx White Choco', 'LL Dune Marble', 'Pukka Feel New tea b', 'Koala Tea berryful', 'Jun M Rich Hy Cr 50m', 'EN Digest Plus 90t', 'Bm Omega Brain 60c', 'Jun N Cr Clnse 125ml', 'Tho Lecithin 200c', 'DrB Lip Balm Or Ging', 'End Perf LL 800g', 'Pow Cacao Gold 225g', 'Bm Magmin 50t', 'TE Sandalwood 40s', 'Tri Geranium 10ml', 'EAG VeDigestaid 90vc', 'Spry Gum PMint 100', 'PO Or Detox 25tb', 'NL Joimula Caps 200c', 'SPF BS Dry 350ml', 'WWN CMIG SB 30x150g', 'Niu Coc Vinegar 250m', 'M&P mag Phos Cr', 'OB SlimmTee 20', 'PFE Turm Paste 275g', 'TP Peprmint Oil 25mL', 'Pow Goj Snack Bl 150', 'TP Maclean Oil 125ml', 'EVER ECO S/S bent', 'CHE CC Topaz 310ml', 'NV Glucosamine 180t', 'HVA Liquivita 500ml', 'Tulsi Mango Box 3 dr', 'EB Cashews Salted', 'CHE Clo SS Bottle 1l', 'Smart Diet Bar Latte', '2die4 Pepitas 100g', 'BF GF Gr Cac Coc 350', 'BOO Full Brief Nud M', 'MG Anti Age Cr 75g', 'CHE  Insulated Class', 'Glace R Cherry 150g', 'Tulsi Amber necklace', 'Now Inositol 500mg 1', 'GM Spelt Puff 175g', 'OT Butter UNSALT 250', 'GP Gin Gins Cand 84g', 'THO Hemp Seeds 450g', '2die4 Mix Nuts 120g', 'Bf Macad Oil 250ml', 'Hp Spirulina 1kg', 'NG Sultanas Org 500g', 'H Mix Immune 500ml', 'Quick Loss Van 1kg', 'Satya Nag Champa 10g', 'Wel Pom Hnd Crm', 'HFA HP Van 420g', 'DV WPC 1.5kg', 'ARG Hyditioner 500ml', 'Fus Wom Bal 120t', 'Br Paw Paw 25g', 'Bc Quercetain 60t', 'NN Arctic Cod Liver', 'Ch Bottle Leaf 1L', 'HoG Eld Ech Ol 100ml', \"A'Kin Purely Comfort\", 'NS R Clover 100c', 'SPF BS Normal 350ml', 'Fus Kidney 60 Tabs', 'HOG LiverToniAF200ml', 'AF Pear 20g', 'Fus Memory 60 Tab', 'Fus Kidney 120t', 'Aroma Snooze Blue pl', 'ZEB Diat Earth 250g', 'Boody Bikini Bl LL', 'White Magic Veg Brus', 'MH Roasted Peanuts', 'Salt Lamp DW Fire B', 'Fus Sleep 60 Tabs', 'Temole Avocado chips', 'Boody Full Leg Bl S', 'DV WPC 400g', 'WWN VC VP 400g', 'TP TTree Oil 25ml', 'DrB HB Lot Pat 237ml', 'WWN V SCP 400g', 'PRG Org PPBO 150g', 'DFDU Vegan Mozzarell', 'Aroma Bloom Lime', 'HOG Bulg Trib 120t', 'Organic Coconut Milk', 'NR Lecithin Gran 400', 'LE Mint Dark Ch 80g', 'Tho Bilberry 60c', 'PRA PPP CocoMylk 1kg', 'GF Salmon EVOO 125g', 'Jun Clm Rose Mst 125', 'NA Grain Free GF', 'NS Hyd Bent 946ml', 'Glace Gr Cherry 150g', 'LE Car Choc 80g', 'HOG Glucoplex 60c', 'Trin Makeup Rem 100m', 'Bo Bean+Boot Ch 3-6m', 'Piping Rock Nac 600m', 'Eloa Lychee 500ml', 'Bo Bsuit Chalk Newbo', 'NO Coc Biot Bar 45g', 'Nt Rice Loaf (GF)', 'NG Sunflower bul 500', 'NV Selen 150 mcg 60c', 'RW Blue tortilla chi', 'BP A ManMGO 263+250g', \"BC Men's Ess 120t\", 'MG Milk Shampoo 1L', 'Ton 3N 120ml', 'PLV SK SmkdChil 635g', 'PO Or StJWort 25tb', 'Lot Rice Bran450', 'Fus Magnes Adv 120t', 'PRA PPB CL 60g', 'DrB Cast Pepp 237ml', 'Eco Min Kabuki Brush', 'Nv Zinc Comp 60t', 'PLV Cash Cheese 300g', 'Ton 4CH 120ml', 'Br Sleep&Insom Rel', 'Bm Bio Ace Ex 150cap', 'Bm Bilberry Eye 30', 'Peanut Butter 1kg', 'Fus Turmeric 90 Tab', 'Tri Lemon 50ml', 'Grants Chlorophyll', 'H Mix Skin 200ml', 'Turban Nasi Goreng p', 'Springfields Rosehip', 'Wheatbags Love Pink', 'PRA PPP Cocomlk 400g', 'MEL OMCT PCwM 300g', 'Aroma Lily Blue', 'Sol Festive Cake Mix', 'Walker Wellbeing Kri', 'Boody Tank Top Bl S', 'Bm Lyp-Sine 100t', 'Cheeki Tumbler Pink', 'Bo Pullon Sky 6-12m', 'Fus Pain + Infl 30t', 'Vr Castor Oil 250ml', 'GO Chilli soup', 'NS Slip Elm 100c', 'Bioc Ult Pot Ch C', \"NG B'wheat rostd 500\", 'Piping Rock 5HTP 100', 'Sp H Cr Maca 40ml', 'DrB Cast Pepp 140g', 'BBik Oat&Van 300g', 'BD Wild Apricot Bar', 'M&P Comb K 125 Tabs', 'WWN V SCP 1kg', 'PR Lions Mane 120c', 'Milkadamia Latte da', 'K Plain Flour Org 5k', 'Mel Rolled Flax 350g', 'WWN VASK 360g', 'NG Prop Anis 200g', 'Jun Sen Moist Lot 50', 'KF Fenn Fus 25s 65g', 'THO AshComplexDay 60', 'JC Ho-Ho-Ba Kissmas', 'NV Prem Mag 200t', 'Pure Bliss Camphor', 'Bc UME Cream 400g', 'Byron Bay Chick Brot', 'En Fish Oil FP 170ml', 'Castile Rsmry Pump 5', 'Proper Crisps C Pepp', 'Nourishing Bubs', 'Fus Fish Oil 120c', 'Lotus Bread Imp 250g', 'Pukka Three Chamomil', 'CLProt Straw 500g', 'Prot Pancake Mix 300', 'Life Cykel Turkey Ta', 'Eco P Salt Scr 250ml', 'GVC 180ml Conical Bo', 'BP Aus14+ (15+) 250g', 'WWN LTIG SB 30s 150g', 'Dextrose Mono 2kg', 'Aloe Vera Aloe Spray', 'Smart Diet Cinnamon', 'DrB Cast G Tea 140g', 'SLC AC BU 100g', 'LE Salt Car Choc 30g', 'DG V LipShine Pink', 'Sp Shiro Miso 400g', 'MG Day Cream 75g', 'Bm Multi 180 tab', 'PO Or Lemgras 25tb', 'Bm Curcumin 30', 'GPeople Juice 147ml', 'Tri Clay 2 Pink 45g', 'NL Ester C 250g', 'Fus Menopause 30 Tab', 'KF CR 25s 65g', 'DrB Cast Unsc 59ml', 'Green Calcium 60c', 'Bf GF Cran 1kg', 'LE BucknBerry Bar', 'Life Ext Boron 3mg 1', 'LE Lem Car Choc 80g', 'ML Nettle Rev 25tb', 'PR Chlorophyl 200c', 'Bm Women Vital 100t', 'NR Sunflower Kern 1k', 'Smart Diet Coconut', 'Sp Carrot Seed 11ml', 'OR BW Flour 500g', 'Bf Nat Apr 500g', 'Bm I-Folic 150 Tabs', 'Tulsi Chandrika Soap', 'SC Liver Clnse Diet', 'Aroma Swirl Pink Swi', 'M&P Silica 125t', 'Fus Constipation 30t', 'PO Org Engl Breakf25', 'LE SCaramel Swayzee', 'BOO LSck Top Black L', 'Pure Bliss Ylang 10', 'DV WPC 4Kg', 'NFChips Salt pepper', 'DJA Sugar snap peas', 'O Ap+Ci PCake Mix', 'Tulsi Amber Necklace', 'Tr Pump Prot choc', 'Lauria Crunchy Seed', 'Ls Aloe Vera 60caps', 'Lot Quinoa Flour 500', 'TP Lav Oil 100% 50ml', 'HOG Probiotic SB 60c', 'Sp TeaTree Org 11ml', 'Par Olives Kalamata', 'DrB Sh Gel Smint 207', 'PO Oregano', 'Na Soap Wildberry', 'Sfoglini Rigatoni', 'PRA PPB VC 60g', 'BOO Meinglet White L', 'NS Hawthorn 100 Caps', 'DrB Cast Rose 59ml', 'BC Eczema Rel 60g', 'PLV Kraut Garden her', 'Boody Boyleg Bl SM', 'Jim Coc Wraps 6pk', 'Fus Cold Flu 100ml', 'CF Swiss Herb Soap', 'FUS Vit C 1000 Ad 60', 'NG Prunes Ptd 1kg', 'BioGr Curcumin 60g', 'Walker Wellbeing Ubi', 'Bc MSM 1000 120c', 'Ever Eco Bento Box L', 'Norsk NorwSalmon100g', 'PO Or Ginger 25tb', \"L'A Or Spelt Lin 375\", 'OrgRice Pasta Spiral', 'PR Pomegranate 250mg', 'BM SK Imune Gum 60c', 'Pow Goldenber 225g', 'Ateronon 30 Caps', 'Fus Turmeric 60 Tabs', 'Mojo Act Kombucha Gi', 'Eloa Aloe peach', 'Mango Box 9 drawer n', 'Organic SC Coco Milk', 'Naturis Corn Bread', 'M&P Nat Phos Spr 30m', 'TO Salted Butter', 'PRA PF PH 1kg', 'BC Ubiquinol 300mg30', 'SweetLife Sugar Free', 'NR Wheat Germ 650g', 'Gr Superfoods 450g', 'Bm Women Multi 90t', 'Woodstck DillPickles', 'Sp Org Tamari 500ml', 'Alch Unsc Cond 225ml', 'TP TT Face Cream 65g', 'Org Ck Mx Chc 375g', 'OT Berry Jellies', 'MG Cream Cond 1l', 'Happy Go Paleo', 'PLV French Onion Cas', 'Tulsi Inc strawb', 'T burner Lotus', 'NIU CB Salt Car 35g', 'SP  Soba 100% buck', 'Hills Honey 500g', 'Bf Nat Cran 500g', 'Kintra Turmeric Gold', 'Bm Cod LO 1000mg 80', 'CHE ASWBT 1l', 'Fe Instant Yeast 500', 'BM Womans Vital 100t', 'NFCips Sweet Chilli', 'LE Rasp Choc 80g', 'WnderFoods Inulin500', 'NL Gluc 1500 Adv 180', 'SC Thyroid Book', 'RG Vegetable Pasta S', 'Kitz Her Duls Sp Cr', 'Lot Slip Elm Pwd 250', 'SF Haircare DPN', 'Nat Good Pollen 250g', 'Tri Lemongrass 10ml', 'Fus Sinusitis 60 Cap', 'Eagle Joint ease 150', 'NO Sup Gr + Red 300g', 'NIU CB Esp Latte 35g', 'Nv Lysine 100 Tabs', 'Bm Hr Gar + C 90t', 'Fl Remotiv 60t', 'PB Jojoba 100ml', 'Na Soap Lavender', 'Bc SB Flor 60c', 'Holle Onf For 3 600g', 'Wel Baby Sh&B/W 200m', 'Wel Salt T Paste 75m', 'Mel MCT Oil 500ml', 'X50 Tea Marine Colla', 'Oregano Oil 25ml', 'NG Lntl Blue 500g', 'Bc BabyBiotic 0+ 60g', 'Amb Org Honey 500g', 'CC APS Lemon 500ml', 'BC Lipo Methyl B12', 'Mg Soothing Moist', 'NS Turmeric 34k 30c', 'MGC Original', 'HNZ Manuka 15+ 250g', 'Sp Mind Power 11ml', 'BBM Cacao & Coco 400', 'HOG Nia 100mg ER 60t', 'Grants T/paste Green', 'PO Org White 25tb', 'CLO Pasley Soap 150g', 'DV WPI 1.5kg', 'BCR Axilla DP 75g (S', 'Pana Sticks MintChoc', 'PB Shea Butter 100g', 'SPF BC Dry 350ml', 'Org Chick Peas 400g', 'Niulife Coconut Endu', 'Ton 5D 120ml', 'CG Org Ol Oil 500ml', 'NV Beauty Colla 155g', 'LE Almonds in Choc', 'BB PersianPear SCand', 'DoggyL ProteinCookie', 'Na Soap Coconut', 'PA IceCream VanillaB', 'Bm Bio C 1000mg 31t', 'Silicea T Paste 50ml', 'PSnaps BBQ 50g', 'Murray Pink Salt 250', 'PO Or Calming 25tb', 'BB Mues Classic 450g', 'AO Magnesium 1L', 'DrB H Soap Lav 355ml', 'Bach Rescue 20ml', 'EN IBS Supp 90 Caps', 'Bon Dand Fine 175g', 'WWN VC VP 1kg', 'BOO Fu Brief Nude XL', 'Silicea Capsules 30', 'TP MacBody Oil 125ml', 'OB Fennel Tea 50 Bag', 'BER AMHoney Loz 30pk', 'EN Candex 30 Caps', 'GN Mnt OS 520mg 180c', 'Sp Miso Soup Red', 'SL C/Gum 30p  Cinna', 'Prot Pizza Base 320g', 'Pn Papaya 25g', 'Tri Nouris Oil 1 50m', \"L'A Spet Fett 375g\", 'MOR GK 150g', 'Herbanica Femulate', 'UVN Baby 30+ 50g', 'Weleda Shaving Cream', 'Bm Nail Hair Sk 120t', 'Smart Diet Choc Chip', 'PR Pygeum 120c', 'JUN Vit C Nt Ser', 'Bl H-A-Lax 90 Caps', 'NG Brazil Nuts 250g', 'Biologika BugAnother', 'BD Banana Bread HndB', 'Boody VNeck T Blac L', 'OR Tumeric 250g', 'PO Turmeric 300g', 'Me Sheep Yog 500g B', 'HNZ Manuka 5+ 250g', 'Bo Socks Ch/Sky 0-3m', '2die4 Walnuts 300g', 'MGFC Moist 120g', 'Bo LSleevOnes Sk 0-3', 'Silicea 500ml', 'Prot Muffin Mix 340g', 'Floravital 500ml', 'WWN VAFP 360g', 'Tri Lemon 10ml', 'DrB H Soap LGr 710ml', 'MG SPF40 Tinted 50', 'CK Coconut bar 80g', 'SPF Vetiver 11ml', 'BRR Rery Cough 200ml', 'BC AvoOil Cl SeaSalt', 'M&P Comb T 125 Tabs', 'CHE Clo SS Bot 750ml', 'HOG Silica Hair Sol', 'Bon Psyllium 1kg', 'Idlewilde Eggs 700g', 'PO Or Ginkgo 25tb', 'BOO Paop Bra Nude XL', 'End Low Carb TP 128g', 'BB RaspbryVan SCadle', 'PB Lavender Aust 10m', 'OGO Amar/Rice Spagh', 'Sp LavenderOrg30ml', 'KF LL Eng Org 50g', 'Sp Tamari S/r 2', 'Bon Henna Gold 100g', 'Jun Calm Wash 250ml', 'Pow Org Chia 200g', 'NG Figs Org 1kg', 'Udos Oil 500ml', 'PNO Bloss Herb 25tb', 'EnerC Lemon Lime Vit', 'X50 GT Lemon Ginger', 'AO Trail Mix 250g', 'Blo Green Tea 60c', 'BC DHA Om 60', 'Bal Nat Mass Ch 1.5k', 'NG LSA 500g', \"Org MG O's Quin 300g\", 'Ls Bowel Biot 4', 'Mel Org App Cid Vin', 'Vital Prot Van 500g', 'SJ T Paste Pine 75g', 'Bo Bsuit Chalk 0-3m', 'BC Zinc Drops 50 ml', 'LE Act Buckin 950g', 'PR  L-Tryptophan 60c', 'Orthplx Lymp + 60 T', 'WWN V Pro CocoR 900g', 'HOG B Complete 60t', 'Boody Boyleg Wh SM', 'Aroma Snooze White P', 'ORG Multi Crisp Chia', 'GM BWheat Puffs 125g', 'Bc Ultra Pot C 200g', 'LE Dark Choc 30g', 'PO Or Wintime 25tb', 'CellFood OxygnGl60ml', \"Bon Gel Cap '00' 100\", 'DrB Cast Almond 140g', 'PO Marjoram', 'CF Blueberry Soap', 'Me Sheep Yog 1kg G', 'NR Oat Bran 400g', 'GP Syrup 237ml', 'GF Uncontaminated Oa', 'Fus Cough Lung 100ml', 'DJA Coconut Mango', 'OB PeppMint Tea 50', 'NV Curcumin 120c', 'KF Detox 25s†65g', 'Chia Co White 150g', 'Noble Jerky Hickory', 'BP Raw Honey 1kg', 'PO Nutmeg', 'H&B Coconut 16oz', 'CHE Inn SS Bot 600ml', \"Bm Men's Multi 90t\", 'NL Super B 60 Caps', 'ENV Buble Bath 500ml', 'Mh Oats Seed 500ml', 'GN Veg Omega 90c', 'Schar GF Delishios', 'Lotus Carob Pdr 250g', 'Tri Rosemary 10ml', 'Sp Myrrh 11ml', 'NG Cashews Raw 1kg', 'NL Grape Seed 120c', 'Boody Crew T Black S', 'Nut Ferm Tumeric 500', 'BC Avo Salt Pep', 'EN IBS Supp 30 Caps', 'NV Fish Oil OL 200c', 'Bonsoy ALMOND Milk 1', 'Incense Gift Aromaco', 'BIO UltraBi 500 7s', 'BC AdvaCal Forte 90', 'Lotus Mung Beans 500', 'Bm Vit E 500iu 150c', 'Lknto Monkfruit Sw C', 'Boody Full Leg Bl L', 'Mel Cod Liver 500ml', 'Bm Mega B 75t', 'PO Or Rhip&Hsc 25tb', 'Hills Honey Comb 450', 'Goli ACV Apple cider', 'Boody Crew T White S', 'Yaki Nori Sheets', 'M&P Comb 5 Spr 30ml', 'Pukka Motherkind', 'Lifestream Spirulin', 'Pow Cacao Powder 250', 'Org Corn Chips 500g', 'Pow Nori Flakes 40g', \"NG Grande' Mix 1kg\", 'PB Smudge stick sm', 'Herbal Mixture 500ml', 'WWN VAPP 360g', 'Lot Rye Flour Org 1k', 'MG Bubbly Wash 1L', 'CF Jojo BMilk Soap', 'Aroma Lily Gold Gr', 'GVC Mixture Throat 2', 'DrB Cast S & J 237ml', 'Max Health WPC 4kg', 'Am RAW Greens 300g', 'Chandan 8 Sticks', 'Env Hair Cond 1L', 'Sp Patchouli 11ml', 'NG Walnuts 250g', 'KN95 Mask with valve', 'Optimum BCAA 345g', 'MG Mudder Udder 50g', 'NG Raw Delux 1kg', 'Fus Mag Adv 300g', 'Wf Stevia 25g', 'DJA Cacao Coconut ch', 'PF Orig Patty', 'Ls Spirulina 200caps', 'DG eye shad dark cac', 'Boody Cami Black L', 'BD Pal Bar B Ber 45g', 'FL Pearl Barley 350g', 'Br Arnica Spray', 'Mel Apricot Oil 500m', 'NO Collagen Van Bar', 'Incense Vanilla 30s', 'OR Coc Oil 1L', 'DG Blush Pink La', 'LE Maqui 150g', 'Br Arnica 60t', 'CJ Mirabelle Plum', 'HOG CoQ10 150 M 60c', 'NG H Nut Meal 150g', 'MooGoo Rosehip 20ml', 'Cheeki Silver 750ml', 'Org SR Flour GF 500g', 'Pure Life 6 Seed bre', 'PB Lemon CO 10ml', 'M&P Cr Hamamelis 20g', 'N-Zimes 180t', 'Fus Green Tea 60t', 'PB Frankincense 10ml', 'Bc Deo Stick 100g', 'WEL Baeam Bath 200ml', 'NS Act Charcoal 100c', 'NG Apricots Org 500g', 'NL Kyoic Extract 60c', 'DrB Cast Rose 140g', 'OT Dark Choc Almonds', 'HOG EPO 1000mg 200c', '2die4 Almonds 300g', 'Nirvana Stevia 250t', 'Pure Bliss Pine', 'LE Camu Camu 150g', 'CHE ICB Pink 600ml', 'Th Kelp 1400 60Tabs', 'NS Cas Sag 100 Caps', 'BonSoy Soy Milk 1L', 'Bc CQ10 Ex 150 60c', 'Lewis Yog Frogs Van', 'HNZ Manuka 10+ 500g', 'Tilley Soaps Various', 'NP Honey Cornflakes', 'BP Ginger&Lemon 40l', 'IH Eczema Shield 30c', 'Springfields Thyme', 'EAG Defence Sup 60T', 'ET Purple face mask', 'Happy Belly SCOBY', 'Gra Shamp 250ml', 'PR Boswellia 120c', '2die4 Brazil 300g', 'HSF Salt Lamp M 2-3k', 'Bo LSleevOne Ro 6-12', 'OGN Crbread RT 125g', 'HFA OHHS 250g', '2die4 Tam Alm 120g', 'H Mix Immune 200ml', 'Pret DHEA 90 Tabs', 'NG Aronia 1L', 'THO Hemp Oil 200ml', 'Boody Tank Top Bl L', 'MH Mung beans 500g', 'NO B Broth Orig 100g', 'SS Incence Holder Wo', 'PBC PrBread Mix 660g', 'Boody Cami Wh M', 'H/hemmes Tea Infuser', 'NL GluM JFood Un 1kg', 'BC Menoplus-8PN 60t', 'FF Blk Rice Quin 125', 'NS Erythritol 500g', 'SB5 AC ABCM 150ml', 'PP Keto ButerBomb250', 'NV D3 1000iu 200c', 'Banana Joe Chips Sal', 'M&P Sleep Spray 25ml', 'Eco Min Masc Choc', 'Sp Clary Sage 11ml', 'Bf Tst Cran 1.5kg', 'NO Ber Ch Ch Bar 30g', 'Bm Cpmp 84 Tab', 'COBS Popcorn SweetSa', 'Bl Fennel Seed 100g', 'Ng Kefir 5 Sach', 'Pro Grass Fed Choc', 'Boody Cami Black M', 'Bon Prune Juice 750m', 'Org BWheat PCake Mix', 'WEL Skin Food Indul', 'Fusion CoQ10 150 30', 'HOG BurnX 60T', 'PF Mushr soup', 'Eco Sonya Glory Oil', 'BD Pal Bar Cac M 45g', 'PRA PPP Choc 400G', 'KS Br Rice nood', 'Bm Gluc+Fish Oil 90c', 'Lot Yeast Shake 145g', 'EN Imm Def 60', 'Bo MWraps x 2 Sky', 'Sp Clove Bud 11 Ml', 'Jama Refill Spice', 'Top Premium Van 1kg', 'Trinity Body Oil 100', 'JC Jojoba+Rhip 30ml', '2die4 Sun Seeds 200g', 'WWN GN FBC 180g', 'Hh Liquorice Tb', 'ALO A/V Juice+Her 1L', 'GO Pea soup', 'GF ProtPatty Mex200g', 'NL Joimula Caps 100c', 'DrB Cast Euc 237ml', 'Jama Deo Bergamot', 'Venerdi Keto Bread', 'KWH DeStuff Kid 100m', 'Fus Allergy 60 Tabs', 'DJA Crispy Beetroot', 'CJ Black Cherry 325g', 'Orgran No Egg 200 Gr', 'Sp Cinnamon 11ml', 'Bc Lipoec 400 60c', 'THO Skir & Nails 90c', 'Til GM Body wash', 'BOO Parop Bra Nude S', 'Bonvit Guarana 200g', 'Mel Balsamic Vin 250', 'Bc Lact + SB 60c', 'Tri Jasmine Joj 10ml', 'NG Msli Goj Frt Nut', 'Greek Oregano flakes', 'BM Troat Loz 24t', 'GF Tuna EVOO 125g', 'NP EK Gorilla Munch', 'Am RAW Pre-Pro 120g', 'HOG L-Glutamine 120c', 'BE IV M+ Chew 30t', 'Lot Rice Fl Whit 500', 'Pure Life multiseed', 'Sp Mois Re B Lot 240', 'Sp Tamari Org 250', 'SC LemMrt hand soap', 'KF Mnt Burst 25s 50g', 'Bc InNatal 120c', 'HOG Collagen 180g', '2die4 Tam Alm 300g', 'Bal Nat Whey V 1.5kg', 'Pukka English Breakf', 'MEL ChocHazSp 250g', 'Tri Lem Myrtle 10ml', 'OR Cacao pwdr Org', 'Amaz Sup Greens 200g', 'Bm Lutein-Vision Ad', 'Sp Neroli2.5%11ml', 'NL CoQMax 150mg 60c', 'MP STS MAG Phos 250t', 'Vegan Soft Candy', 'GF Sardines EVOO 277', 'HOG Glucosamine Max', 'Amb Org Honey 1kg', 'SW ProteinBerry 500', 'Amb Or Raw Honey 500', 'Goatsmilk Co Lv Soap', 'PB Wintergreen 10ml', 'Icelandic spring wat', 'Mg Milk Wash 1L', 'PR Monolaurin 90', 'OGO Quin BR Am Spagh', 'EO Medjool 1kg', 'Par Olives Green', 'HOG Zinc + C 100g', 'BC Armaforce DN', 'Bc MGest Enz 90c', 'PO Fenugreek', 'Boobie Brekkie Apple', 'Bo T-Shirt Ch 6-12m', 'M&P Comb 12 250t', 'AromaCo Lava Bracele', 'MOR CK Ch Drink 150g', 'Coco Coast Coconut W', 'Theracumin Tripple 6', 'H Mix Sleep 500ml', 'LL Ess OIl Sleep 10m', 'CHE InBlk SS Bot 1lt', 'FH Coll Silver 500ml', 'ON Amino Energy Wate', 'SD Bar Caramel hon', 'DrB Lip Balm Naked', 'Sp Rmary Org 11 ml', 'PRT Kids Gum VCZ 60s', 'Tri Cedarwood 10ml', 'H Mix Digest 200ml', 'Bon Henna GldBr 100g', 'DrSup AntiOx Sup Ber', 'Arborvitae Health We', 'Fus Energy Multi 90t', 'WWN V ProChoMalt Ble', 'Flat Out Baby Rosie', 'Nat Good Bit Mel 100', 'JC Facial Clean 125m', 'PR High St Pro 30g', 'CK Alond Bar 80g', 'NAC PrGr pH TS x 100', 'Cheeki Cup Ocean', 'NV Act Charcoal 60c', 'LKW C JO 946ml', 'TP LSSC RO 9ml', 'KWH Defor Kids 200ml', 'Pompom PancakeMx235g', 'Smart Diet Strawberr', 'PNO Goldenrod 50g', 'Sp My House11ml', 'NO B Broth HeartyMus', '2die4 Pistachio 250g', 'FUS Cuumin Adv 90SGC', 'Bl Slip Elm 120c', 'CLProt Choc 1kg', 'Incense Jasmine', 'Fh Coll Mag 500ml', 'OGN Es FibCbread128g', 'GH Milk Thistle 500', 'Fus Cold Flu 200ml', 'Bc InflamZyme 90c', 'Bm Macu Vis Plus 60t', 'Kin Formosan Blk 32', 'Fusion CoQ10 150 60', 'Boody Bikini Wh ML', 'CLProt Van 500g', 'Flat Out Baby Latte', 'TPBC Veg Pankaes', 'Bm Gink Brahm 40t', 'Fus ActiViral 60c', 'TP Tea Heal Balm 30g', 'LE Buckinis Car 400g', 'Orgran Falafel Mix 2', 'NG Sesame Seeds 1kg', 'BC LivProtect 60tabs', 'BergaMet Mega+O 60t', 'Ton 4N 120ml', 'BD Protein Peanut', 'Sp S Wom Bod But 240', 'LE Banoffee Bang Bar', 'HOG Parastrike 84t', 'Salt Lamp 3 to 5kg', 'TPBC Banana Bread', 'FOR GF PG spr 400g', 'Lot Tapioca Fl 500g', 'Jun Oil Bal Clns 125', 'BC Vitamin E 60c', 'Ozg Sw Chilli Sauce', 'MH Vanilla Pdr 50g', 'WEL Almond Cls Ltn', 'Abs Org GarPeas 350g', 'HFA OHHS 1kg', 'HOG Mag Forte 60t', 'DG Moisturiser Med d', 'Bl Detox Tea 20', 'M Org Spirulina 500g', 'PO Or Spearmin 25tb', 'PS Wakame Flakes 50g', 'Am RAW Prot Nat 500g', 'Bragg Ap Cid V 3.78l', 'Eco Min Concealer Me', 'Hg Gout Rel 60c', 'Vital Prot 1kg', 'Eagle Vitamin D3 50M', 'Lf Food Orange 475ml', 'Mel ABC Spread', 'BB Mues Al F Pr 450g', 'Raw C 330ml', 'TEM Caul Puffs SS', 'YP Chlorella 250g', 'BB Berg Lemgras SCan', 'Saba Hand Sanitiser', 'PB Vitamin E 50ml', 'THW RG & PNGG Set', 'THO Mad Relief 200ml', 'NIU CO Coco G 350ml', 'MG Milk Wash 500ml', 'PL Sprout Bread Rye', 'Fus Gluc Adv Rep 120', 'Lot Linseed Bro 500g', 'Ton 4M 120ml', 'EN Mega Mag 200g', 'EN Immune Def 30', 'MooGoo MSM Cr 75g', 'NV Nat Aloe V Ju 1L', 'Bo Bsuit Chalk 3-6m', 'Bm Bio Zinc 168tab', 'Tr Lean Prot SC', 'LC Mag Mane Pwd 100g', 'HOG Ech 2000+ 200ml', 'Proper Crisps Kumara', 'ABC R Hip Pdr 500g', 'Car Org Agave 350g', 'Jun Rose Hy Mist 125', 'PRG OrgPl MRC 700g', 'Bal Nat Whey Ch 750g', 'LL EO HeadSoothe10ml', 'Ju NailVar Various', 'HOG B1 100mg 100t', 'Ellia Diff Thrive wh', 'Bm Vit E 250iu 50cap', 'PO Dand Leaf 25tb', \"Castile P'mint Pump\", 'ET Glorious Xmas pk', 'TE Cordyceps 50g', 'AbsOrg Th Raisins250', 'Tamari Almonds 1kg', 'Barambah CottageChiz', 'Carob Easter Egg', 'GN N Ast DS 12mg 60c', 'Fus Ginkgo 6000 60t', 'CoYo Yog Nat 500g', 'MP Ress Bcurrant 40s', 'VIT AllOne Doy 135g', 'CLO Coc/H', 'EM Fm Friendly 240g', 'BC Pepzin Pro 60c', 'Fus Probiotic 30c', 'Fusion Meno Free 120', 'Lot Brewers Yst 500g', 'SD Bar Salted carame', 'Sp SweetOrangO11ml', 'ET Invis Tan 150ml', 'Inner Health 90g', 'Vital Prot Ch 1kg', 'BOTB BBCwML MR', 'HOG Mag Cit 60c', 'BRK GF Granola 800g', 'Gr H Mouthwash', 'Lot Rice Flakes 500g', 'LL EssOil Frank 15ml', 'MG Udder Cr 120g', 'Pr Throat Clear Orig', 'Bon Psyllium 200g', 'Eco Tan Super Exfoli', 'OR Cacao Pwd Raw200g', 'H Mix PMT 200ml', 'CLO Lemon Burst soap', 'Boody M Briefs Gr L', 'Fusion Mum to be 60t', 'Crm of Mshrm Sp 400g', 'Bf Tst Apricot 500g', 'PB Bergamot 30ml', 'Fus Kids Probio 100g', 'Bm Ech Forte 150tab', 'PO Coriander Leaf', 'ORG ICMP 200g', 'Bm Hr Gar + C 50t', 'BC UM Jun 120', 'HOG Crn 70000 HS 70t', 'Spry Gum SMint 100', 'GM Rice Puffs 175g', 'BBM Almond hemp 400', 'SC Raw Juices Book', 'GoodGreen Stuff 750g', 'Tri Clary Sage 10ml', 'HOG Sinus Ease 60t', 'CH Mag Comp 200t', 'Boody Bikini Nu LL', 'Bc D3 Drops 20ml', 'Honey Leatherwood 50', 'Tri Rose in Joj 10ml', 'LE Cacao 1kg', 'Incense box Brass in', 'BD Lamington HndBake', 'Org Rice Cr All Purp', 'Jun Wakame seaweed 5', 'Bc Adrenoplex 60 Cap', 'Bl H-A-Lax 200g', 'BOO Midi Brief Blk L', 'Bass Hair Brush', 'Lot Spelt Wht Fl 1Kg', 'HOG Ginkgo 6000 120c', 'Pana Orange', 'Org Primavera', 'PNO Lemon Balm 20g', 'Naturis Rce N Sul Gf', 'Na Soap Strawb', 'Tri Ylang Ylang 10ml', 'OT Choc Licorice', 'Mel Apricot Oil 200', 'Tulsi Tea Sleep', 'NG Sunrise Muesli 1k', 'Eag Ech Roy 60t', 'ENV Dish Wash 1L', 'GVC Mag flakes 1kg', 'TP Aloe Gel 30g', 'EVO Frag ROOut 12ml', 'MG Cover up 15 120', 'Bc Iron Sus 30t', 'Ton 1N 120ml', 'BOO ShapCropBraBlM', 'Tho Astraforte 200ml', 'Top Shaker', 'DV Dextrose 1kg', 'M&P K Phos 30ml', 'Top BCAA 500g', 'Niu Coc Clarity 500m', 'HOG Brom Forte 60c', 'Gm Amaranth P 200g', 'Sweet Nectar Balls', 'GVC Epsom Salts 1kg', 'Boody M Box Gr S', 'SW Prot Nat 375g', 'JC Day Cream 50ml', 'Morlife Antiox Colla', 'Bon Henna Burg 100g', 'Bon Psyllium Or 500g', \"L'A Org Fett 375g\", 'DrB Cast Lav 946ml', 'PRA PPP S/Car 400g', 'Bc D3+K2 50ml', 'HTG Honey 500g', 'Bm REME-D 60 Caps', 'BOO Parop Bra Nude M', 'Braggs Seasoning 946', 'HP Spirulina 450g', 'Lotus Freekeh Cracke', 'Flat Out Bear Bluey', 'End Low Carb GB 128g', 'Org Selfies 150g', 'LE HNut Mylk Ch 30g', 'CG W Grass 200g', 'Bm Vit D3 60 Caps', 'Spry Gems Berry 40', 'ON 100% Whey Vanilla', 'Pr Throat Clear H L', 'Nutrisoy Tofu 350g', 'Boody Boyleg Wh ML', 'Cholesterol Book', 'Tho Brew Yeast 100t', 'NV Prem ProBiotic 30', 'OGO Quin Rice Penne', 'NO ChikBBroth HomeMu', 'BP UMF5+ MHoney 500g', 'NG Muesli Prem  750g', 'Boody Cami White S', 'CC APS Laven 500ml', 'Aroma Bloom Charcoal', 'CF Loofah Scr Soap', 'Boulder JalapeÒo Che', 'Bal Glutamine 50c', 'PO Maple Syrup 250ml', 'Boody Tank Top Wh M', 'TE Schizandra 50g', 'Bc Paracea Forte 60c', 'Ess Ear candles 4pai', 'Nutra NatGelatin250g', 'PR Immune Pro 30g', 'MG Moothpaste 100g', 'NV EPP 35 B 30c', 'NL Bub + Candle', 'Niu C Amino Sce 250m', 'Braggs AP Seas 180', 'CHE ICBP 600ml', 'End Drink Bottle Sm', 'Et Heali Kiwi Sh', 'BM Lut Def 60t', 'Lot Linseed Meal 450', 'WWN W CVP 1kg', 'PO Cardoman Pods', 'Fus Libido 30 tabs', 'Boody Full Brief Bl', 'IH Travel Bug 20caps', 'PF Leekie soup', 'Eloa AV Passion', 'Trin Cream Cleanser', 'BF GF Porrij 400g', 'PB Relax 10ml', 'CH LivaTon Shot 60', 'Aroma Seed', 'DoggyL Probio Cookie', 'NS Bl CHosh 100c', 'ALO A/V JuicePulp 1L', 'JC Disc Jojo Xmas Pk', 'PO Parsley', 'WEL Aly Lotion 200ml', 'Pukka Tea Elderberry', 'Activated Charcoal', 'Bal Nat Whey Ch 1.5k', 'Nourish in 5 Amy Lee', 'Incense Gift Exotic', 'Fus Tien Gins 50c', 'Endura Gel Raspberry', 'PB Breathe 10ml', 'Lotus Or Besan Fl500', 'Nir Stevia Choc 50ml', 'NS Feverfew 100c', 'AlterEco GrFed MlkRC', 'EcoTan Raf HandCream', 'Banjo Bear Vegan bar', 'NR Brewers Yea 450g', 'Ever Eco Bento snack', 'Alch Unsc Spoo 500ml', 'Alk Pow Water 1.5l', 'DrB Cast G Tea 59ml', 'Bo M Wk Soc Bl 6-11', 'Mel Macad 250ml', 'Perfect Sweet 1kg', 'Deonat Stik Deo 100g', 'Bl Peppermint 80g', 'EN Fish Oil Kids 90m', 'EB Cashews Chilli', 'Sataya Nag Champa 15', 'Fus Str B Mul Adv 30', 'Trin HairScalp Oil50', 'Mv Coffee Esp 250g', 'Lunch Box Rev Book', 'CF Sandalwood Soap', 'Eco Tan outdoor spra', 'Shirataki Noodle', 'PR Black Elder 180', 'PB Sleep EZY', 'Marigold Purple 150g', 'PRA SG Mint 200g', 'Bal Nat Whey V 2.8kg', 'Nir Stevia Car 50ml', 'Niu Coc Flour 500g', 'Boody F Brief Bl M', 'Mad Millie Vegan Che', 'HOG MR LL 300g', 'HoG Act B12 75 Tabs', 'DrB Cast T Tree 237m', 'Vital Greens 1kg', 'JC 100% NCOJ 200ml', 'En Ginseng 5 60c', 'BD Pal Bar Ban 45g', 'Kolorex IntimateWash', 'Lotus Cornflour', 'NL Cran 50000 100c', 'LL EsOil StressRel10', 'HOG Probio55Bill 60C', 'JC Youth Potion 50ml', 'Sp TeaTreeLavend Or', 'Env LaundryPwd 1kg', 'GF Tuna EVOO 195g', 'Tri Sage 10ml', 'CLProt Cap 500g', 'Nirvana Stevia 100t', 'EVO Hand CrBch 50ml', 'HNZ Manuka 22+ 250g', 'BP Or Raw Honey 500g', 'M&M Bone Broth Natur', 'HOG Chrom Max 60c', 'ORG Ve Easy Egg 250g', 'Pre Probiotic45B', 'Ls Aloe Juice 500ml', 'Bl Vit D3 1000iu 200', 'Pana Choc Straw 45g', 'NGR Raisin seeded 1k', 'Bc Pharma Mag 120t', 'BB BasilMandarn SCan', 'BergaMet Pro + 60t', 'Fus Vitex 120t', 'GF Mack EVOO 190g', 'Tulsi Nag white sage', 'THO Naiq Calcium 60c', 'CL Prot Nat 500g', 'Lucas Paw Paw 25g', 'Bon Henna Br 100g', 'Jun Nurtur Oil 100ml', 'THO MTOAD 42000m 60c', 'Ozg Butt Chick 500g', 'Ton 5N 120ml', 'DrB Cast Unsc 140g', 'Sp Bush Scnt 1 ml', 'Boody Bikini Wh SM', 'Bioc CalmB 30c', 'BOO LSck Top Black M', 'Vegesorb 1kg', 'Bf GF Apr 1kg', 'Tri Frankincense 10m', 'Br Arnica Cream 100g', 'Env Dish Wash 1kg', 'Lotus Spelt WM Fl 1k', 'Mojo Act Ging 450ml', 'CF Vanilla Bean Soap', 'Top  ZMA 100grams', 'Chandan 20 (Hex)', 'Nirvana Stevia 50ml', 'Bm M-Vision 90t', 'Lot Rapadura Org 375', 'Rescue Remedy Spray', 'Lifestream Ginger 60', 'JC Ult Night Cr 50ml', 'Ls Aloe 120 Caps', 'OB Rosehip Tea 50', 'PB Jojoba 50ml', 'BBik GF CocoDate300g', 'ZZ-Opt Pre WO BB L 3', 'DJA Potato Wedges SC', 'PB French Lav 10ml', 'DrB Cast Lav 140g', 'ENV Vig Cleaner 1L', 'Mel Avocado Oil 250m', 'LLEssO SenstvCh 15ml', 'HOG Ubiq 150mg 60c', 'Herbanica Vasguard', 'Pukka Tea LemGingm', '2die4 Sun Seeds 300g', 'Eco Min Flawless Oli', 'NO Beauty skin 450', 'Sp LemongrOrg 11ml', 'PO Or E Breakf 50tb', 'Ellia Diff Blos Blu', 'Banana Joe Chips Swe', 'Sym Dand Tea 500g', 'CJ Four Fruits 325g', 'Pukka Tea Turmeric G', 'PO Cor Seed Whole', 'MER Oiking Org 500ml', 'GVC Oregano Mycl 30', 'Olive Ext Pepp 500ml', 'EN M Zinc 40mg 95 ra', 'Trinity Relax Blend', 'SS Incence Resin', 'End Perf LL 2kg', 'Bm Ech Ace+zinc 60tb', 'Boody Boxers Bl XL', 'DG V Lipstick Guava', 'TN AO Seedy Mix', 'Weleda Skin Food Lig', 'Drb HandSan Peppermi', 'CF GFruit+ Lime Soap', 'Yaki Nori Sheets 10', 'Banjo Bear Mint 15g', 'CG Barley Grass 200t', 'LE Gubinge 50g', 'CF Ban + Coco Soap', 'Flo Calc Mag 500ml', 'BP Lemon 40l', 'CHE IWT RB 320ml', 'Amazonia Acai 145g', 'NO B Broth Tur 100g', 'Incense Lily', 'Bc B12 50m', 'Bl Horsetail 50 Gram', 'AMA RP PP Ch 500g', 'Bo Socks Ch/Ro 12-24', 'TP T/T Conditioner', 'PPC HWoo Henna 250ml', 'WG Cruad Mix + Yeast', 'Glace Pineapple 150', 'NES Grdrolysate 450g', 'Hp Spirulina 100g', 'MH Ginger powder', 'BNV Blh Chic Ins 70g', 'ARG 10ght Blonde Nat', 'Pukka Tea Wonder Ber', 'BC Sharp White Chedd', 'Tilley Bath Bomb Lav', 'CF App + Avo Soap', 'CE Pomegranate 118ml', 'OP 100% Whey Va 2.2', 'BOO ShapCropBraBlL', 'ABN Royal Jelly 1000', 'PO Org Earl Grey25tb', 'Bee Organic 200c', 'Organic Choc Coco Mi', 'BC Adva Forte 180', 'HOG CultureCh500ml', 'Castille Or Pump 500', 'SOS Rehyd Mango 10PK', 'Bm Bio Magnes 50tab', 'Korean Seaweed seaso', 'YP Chlorella 500t', 'HOG BioCur 5400 60t', 'Ng Superbeet 500ml', 'Lakewood Pinapl 946', 'Mel Asc Acid 125g', 'Lotus Soy Prot 200g', 'Boody F Brief Bl S', 'Tulsi Sweet Rose Tea', 'AE Sea Salt', 'NG Wild Yam 100g', 'Boody 3/4 Scoop Bl L', 'Sp Bergamot 11ml', 'TUR TurmeriX 120c', 'Easy Keto by P Evans', 'Herbisaurus Morrocan', 'PR Hard Max 60c', 'Vital Greens 300g', 'MG Conditioner 500ml', 'GVC Jewelry Pads X3', 'En Fish Oil FP 280ml', 'BD Apple Pie', 'Sp H Cr Jojoba 40ml', 'Sp Heart&Soul 11ml', 'Lotus Org Wh Qui 600', 'Anas Barb 200c', 'TR Lean Protein choc', 'Fus Cough Lung 30t', 'Kit Clean Air', 'Postage 500gm', 'Eco Tan Super Fruit', 'NV Silica 30c 130t', 'Naturebee 400c + 2 s', 'Et Bow Wow Wow', 'LE R Cash Myl Ch 30g', 'Mad Millie Gin Kit', 'WWN PlPC BIC 850g', 'NG Almonds Bl 150g', 'NG Lntl Brw 500g', 'SW Rice Prot Nat750g', 'Eagle Beta AC 180tab', 'Eco Bod Wash 375ml', 'GN Veg Omega 30c', 'DrB Cast Pepp 59ml', 'Tulsi Ess Lavender', 'LC Reishi 120ml', 'JC Firming Eye Balm', 'IH PL Dble Strengt60', 'Fus Cough Lung 60t', 'DrSup Wild Blueberry', 'Orgran Pln Flr 500g', 'Vegesorb 250 Grams', 'LE Buck Nt Seed 400', 'Bm Vit E 500iu 50c', 'Core Org Ghee 225ml', 'East Bali Cashews Gr', 'DG Blush Golden Deli', 'Alk Pow Water 600ml', 'Nv Vit C 120t', 'PN Hny&Cin PB', 'NO Lunar Latte 90g', 'BAL 100% WhVa 2.4kg', 'Lknto Monkfruit Gold', 'CH Cacao Chips 250g', 'Me Sheep Yog 500g G', 'CoYo Ice Cream Nat', 'Org Blueberries 500g', 'HOG Collagen 30c', 'BOO Ack Sil Thread L', 'M&P Comb 5 125 Tab', 'Koochikoo Org Lolli', 'Lot Wheat Grm Rw 500', 'NV Mar Calc + 120c', 'SW Rice Prot Nat 1kg', 'WWN V ICP 1kg', 'DV L-Arginine 200g', 'LL EssOil Elevate 15', 'DrB H Soap Smin 710m', 'ESS K2 menaQ7 120C', 'KOA DT Tea 20tb', 'Cook Islands Noni Ju', 'Moogoo Shea Sorbet 5', 'Ls Aloe Juice 2l', 'X50 Broc Ch BBQ 60g', 'NL Magrte Daily 100c', 'Boody 3/4 Leg Bl S', 'Bc RestoraCalm 60c', 'GVC Blu 7day Pillbox', 'Pukka Days Chrstmas', 'ON 100% Whey Ext Cho', 'DrB Lip Balm Lem Lim', 'OR Coc Cream 400ml', 'Boody M Box Bl M', 'Chia Co White 500g', 'PO Clove', 'CK Bar 80g', 'OR Coc Chips 200g', 'SP Blk Ses Ck 75g', 'Boody Hip Bik Bl SM', 'CHE Iny SS Bot 600ml', 'WEL WREye Cream 10ml', 'BRG BK MF', 'Lauria Amaretti Coll', 'OGO Amar/Rice Penne', 'SD Bar Apricot Cocon', 'TP CB SL 7ml', 'DV WPI+WPC Van 375g', 'NL Silicaplex 100 Ca', 'BC MFactors 60', 'Wel Nursing Tea 20 B', 'HOG Vit B5 60c', 'Ko Seaweec OOil', 'BC GlFac Forte 120c', 'Trin Sugar Scrub 500', 'Mel Vit C+bio 100g', 'BC Vinegar & SeaSalt', 'PLV Kefir 375ml', 'NV Nat AloeVJu 500ml', 'Bm T Cal Mag+D3 60', 'LE Caramel Choc 30g', 'Lot Guar Gum Org 75g', 'Turban Korma Paste', 'Muso Kuzu 100g', 'HOG Vit B6 200mg 60t', 'Bm Executive B 28tab', 'Kin Formosan Grn 32', 'CF GoatMilk Yog Soap', 'Hog Olive Leaf 500ml', 'BC Silica Liq 500ml', 'ZZ - NTC Tampons Reg', 'Pow Goldenber 125g', 'DG Mascara Night Fal', 'Fus Astra 8 120 T', 'PNO Dand Root 100g', 'Lauria GF shortbread', '2die4 Pistachio 100g', 'PO Org Chamomile25tb', 'NR Soother Large', 'Tri Basil 10ml', 'PRA SG FM 300g', 'LE Mesquite 500g', 'Eco Min Masc Midnigh', 'LE SD Deluxe Mix 120', 'Opt Pre WO GApp 300g', 'Lotus Bi Soda 500g', 'Am RAW Pal Pro V 500', 'Ng Pecans 150g', 'Top Premium Choc 1kg', 'HOG Mag Forte 120t', 'M&P Comb D 250 Tabs', 'Mh Throat Spray 25ml', 'KOA Te Hemp Seed Tea', 'OL 1 A Day 60c', 'Am RAW Prot Va 500g', 'Pukka Tea Vanilla Ch', 'ORG VGMP 200g', 'Harmony Soap Unscent', 'Keto Nat CrispyCauli', 'Eagle SB Forte 60c', 'Vital Prot Ch 500g', 'Tulsi Incence Opium', 'PB Peppermint 10ml', 'Lot B Rice Flour 500', 'ZEB St Act CC 75g', 'NIU MCT+PPNBBCO 350g', 'Bm Bio C 1000mg 62tb', 'Ever Eco Bento boxXL', 'Br Sleep 20ml', 'Sp Rejuvenate11ml', 'Recue Remedy Pastill', 'HS Seaweed salt', 'CLProt Nat 20g', 'TP Macd Lip Balm 30g', 'Bo Jers Wrap Rose 1s', 'Bc APlex Clear 500g', 'GVC Roller Bottle 10', 'Gr SuperFoods 120c', 'BB ButterCrmVan SCan', 'Wel Skin Food 30ml', 'CLV PD 72% San 100ml', 'M&P Comb J 125 Tabs', 'Fus Menopause 120t', 'WEL Why Lotion 200ml', 'GF Salmon Brine 120', 'CHE Inh SS Bot 400ml', 'Smart Diet Vanilla', 'BOO ShapBra Nude L', 'Bal Pl Prot Ch 500g', 'NG Macadamia 150g', 'CH Fibretone 200g', 'EN Mega Zinc 60t', 'Sc Nail Groove Is In', 'TEM NC Avoc Chips', 'EAG Tresos Natal 90t', 'SWAP The O.G', 'CK Mint Bar 80g', 'Tulsi Ess Lem Grass', 'Lot Wheat Br Un 300g', 'Org Rice & Corn Past', 'Jun Calm Serum 100ml', 'Klean Kanteen 800ml', 'QB 8hr Tealight Ref', 'NV GutSup Comp 150g', 'Banjo Bear 15g', 'NR LSQ 400g', 'PRG Org PPBCPB 150g', 'T Sandalwood cone 20', 'OR Tahini Unh 375g', 'LE Cacao Butter 500g', 'Boody Bikini Bl XL', 'HOG Vit B3 60t', 'NO Berry YUM 30g', 'PR Niacinamide 200c', 'Castile Rsmry Ref 50', 'Ls Spirulina 20', 'Fus Sinusitis 30 Cap', 'Pukka Earl Grey', 'CHE IWT SW 220ml', 'Sp Or Bals Vin 250ml', 'Mel Flax Aust 200ml', 'PO Org Tea 25 Cinnam', 'OZG TR CS 500g', 'Bo Sh Cr Bra Wh ML', 'Fus Memory 30 Tab', 'Wheatbags L Waratah', 'Del Tealight Jap Mim', 'CE Lavender 118ml', 'Nf Slot Spatul Green', 'PB Orange 10ml', 'CHE AS WBS 1lt', 'Gallexier 250ml', 'CoYo Yog Van 500g', 'NIU OV CMPCGDF 200g', 'Green Calcium 100g', 'HOG Biotin 60t', 'Trin Deo Paste 60g', 'Grahams Soap 100', 'PB Vegi Capsules 150', 'Sp Juniper 11ml', 'GevityBody Glue Burn', 'WM Shopping bag', 'CHE AS WBO 750ml', 'Bm Sust Rel C 200t', 'ALO Al 20 shots 50ml', 'Mh With Comp 60t', 'NT Coll Silver 500ml', 'DrB Cast G Tea 946ml', 'GVC Hotel Mix 100g', 'HH KBM 30 T bag', 'CLProt Straw 20g', 'Bo Socks Ch/Sk 6-21m', 'Bl Nettle Tea 40g', 'Natural Rubber sooth', 'Sp Mirin 250ml', 'CE Lavender 66ml', 'AO Mag Bath Fl 800g', 'BE IV F+Liquid 30s', 'Fus Calc Adv 60t', '2die4 Walnuts 120g', 'SIL Si One a Day 30c', 'Bm PPMP 170 Tabs', 'Bm Pregnancy 60caps', 'NS Gotu Kola 100c', 'Rescue Rem Sleep 10m', 'Go Vita Jute Bag', 'PO Garam Masala', 'Mel Maca Spread', 'DrB Cast T Tree 140g', 'Boody Bikini Nude XL', 'Or  Lasagne 200g', 'Mh Echinacea Bl 500m', 'Tri Hand Cream 100mL', 'WEL Birch CellSet', 'RS TPaste BS 100g', 'HOG WMPGS 12000 90t', 'Dr Zoo Moogoo Dog Sh', 'CJ Blueberry 325g', 'WEL PoBody Oil 100ml', 'Bc ProbioZyme 45c', 'Eco Min Flawles LgtT', 'Bl Cel & Jun 70c', 'NV Pr Calc Comp 200t', 'My Magic Mud Oral Ri', 'Am Kom Ging 1L', 'Pana Stcks SaltCarx3', 'CHE AI BT 600ml', 'Am Smooth Ener 4x100', 'NR Brown linseed 500', 'NG Chip Ccnt 150g', 'LL Swish Turq', 'Amazonia Pitaya smoo', 'BM Super CoQ10 300', 'Spiral Org Dcd Tom', 'Fu Calc Adv 120t', 'Mel Flax Oil Org 200', 'Jun Cam Face Ex 100g', 'DrB Cast G Tea 237ml', '2die4 Pecans 120g', 'PO Aniseed', 'Sp SoW B Wash 500ml', \"LC Lion's Mane 120ml\", 'PR Retinol Crm 113g', 'Babushka Kefir 500g', 'ENV Laund+PSoak 2kg', 'Smart Diet Mango Cre', 'DV Carbs 1.5kg', 'Sp MRoom Ramen 88g', 'Bo Socks Ch/Sk 12-24', 'Aroma Bloom P Pink', 'Pana S Cher+V 45g', 'BNV Psium Husks 500g', 'MG Skin Milk Udd 200', 'Sp Grlc/Bsl Sugo g/f', 'EM The Original 240g', 'Bc Migraine Care 60c', \"Pret Mag Ort 60's\", 'Pro Grass Fed Van', 'Ton 6N 120ml', 'Sp Ezi Breathe11ml', 'NS Marshmallow 100c', 'Bl Fenugreek 250', 'Fus Wom Bal 60 Tabs', 'NV Sleep Formula 60t', 'Uncontam Oats 500g', 'PRA PFP IcedCof 1kg', 'K Sorghum flour wht', 'X50 Green Tea Ass 30', 'MER MCro Rapid 500ml', 'LZ Carob Buds Orange', 'WWN V Prot ChocMintC', 'SS Smudge Large', 'KMax Ging Pear 500ml', 'Org R&C Penne 250g', 'Lotus Arrowroot 250g', 'Sp Mandarin 11ml', 'Coyo Yog Mango 500g', 'WWN PPC CM 850g', 'PB Jojobo 500ml', 'Bc Glutathione 60c', 'Cabot Fatty Liver Bk', 'Four Leaf Br Rice 1k', 'Lot Linseed Gold 500', 'Pizza/Pasta Sauce', 'KF L&G M Hon 25s 65g', 'NV EPP 35 B 60c', 'BBBB Chicken 1L', 'Rosa Scarless Healer', 'Prot Bread Mix 330g', 'HOG Ult Sil Cmp 30', 'M&P Cr Comfrey 100g', 'DrB Cast Rose 237ml', 'Fus Probiotic 8 60 C', 'GVC Organic Matcha', 'LWood Bl Cherry 946m', 'Eco Tan Super Citrus', 'LU NSSPF30 100g', 'MBC Raw Milk 1.5L', 'Boody VNeck T Bla Me', 'BRK PCP SS 70g', 'Mel Coconut Oil 900g', 'Org Muffin Mix Choco', 'Spry Gems Cinn 40', 'Bragg Ap Cid Vin 946', 'Bf GF Cran 500g', 'CJ Select Pear 325g', 'Mel App Cid Vin 500m', 'Mandalas', 'Tri Foaming Cleanser', 'HOG Child Calc 60t', 'Bo Singlet Ch 6-12m', 'BC UB Fact Junior 60', 'Peanuts Roasted 1kg', 'Bc Liposomal C 100ml', 'MH Cal Bone Com 240g', 'Bl Dand Leaf 50g', 'MEL AFS Oil 500ml', 'MooGoo Deodorant 60m', 'Tri Petitgrain 10ml', 'LE White Choc 80g', 'Zero Lasagne 350g', 'BD Prot Cookie', 'M&M Bone Broth Curry', 'NS Plain Tempeh 300g', 'TN Colostrum 100g', 'WG CMCM +CF 475g', 'MP Heram Nettle 100g', 'PB Bergamot 10ml', 'Bm Bio C 1000mg 150t', 'Niu Coc Bals 250ml', 'Hemp Milk 750ml', 'Opt Pre WO FP 300g', 'PO Or Licorice 25tb', 'H&B Coconut 250ml', 'CHE Coffee Lime240', 'Bm Multi 75tab', 'VGO CV PP 1.12kg', 'Wel Nipple Care 36ml', 'Aroma Gem Amythest', 'KMax Pom 500ml', 'Mh S Palm 500ml', 'Herbisaurus SauRoll', 'Fus Dermaheal 50g', 'BP NZ Man Hon Bl 500', 'NS Xylitol Birch 500', 'OR Pepitas 1kg', 'MooGoo Mouth Wash', \"LCKL Lion's Maine La\", 'Wel Pom Bod Lot 200m', 'MRM Org Moringa 240g', 'GN N Ast DS 12mg 20c', 'SB5 AC Moist 50ml', 'End Low Carb Coc128g', 'JC Baby Oil 100ml', 'HOG Child Cold 100ml', 'GVC Bl Turtle bean', 'PRA PPP Fr Van 3kg', 'BBBB Beef 1L', 'KOA NW Tea 20tb', 'Nv Curcumin 60 Caps', 'OB Nat Green Tea 20', 'Boody F Brief Bl XL', 'PL Date And Wal', 'PO Espresso Caps Med', 'LL Swish Black', 'GV Smart Shaker', 'OZG TG CS 500g', 'BB Mues G Free 700g', 'Fl Iberogast 100ml', 'PRG OPPP V 450g', 'HOG FolicAcid C 60t', 'QC Life Change cook', 'LE Cream Mylk Ch 30g', 'Boody 3/4 Scoop Bl S', 'Nat Spelt Hot X Buns', 'Ng Goji Juice 1L', 'JC Hyd Mist 100ml', 'Ng Apricots Org 250g', 'EZ Bth Cr Pure 900g', 'Vego Whole Hazelnut', 'Sp Tamari 500ml', 'Tr Shea Butter 150g', 'NL VC1200mg Ch 150t', 'AE Crisp Mint', 'Trin RHip Oil 50ml', 'Eco Tan Glory Oil100', 'Crystal Essence 118m', 'EM Splendedevour', 'Max Health WPI 1.5kg', 'SE Celtic Salt F 650', 'Lot Millet Hull 500g', 'M&M Bone Broth Lemon', 'Am Kom Mint Gr 1L', 'OR Rolled Oats 1kg', 'PRA PPP Van 400G', 'Sp Tamari Cr 65g', 'MooGoo Oil Cln C 100', 'Chlorella 500mg 500t', 'GVC Pillbox Multicol', 'Alch Ylang Spoo 225m', 'Mel OrgTahini H 375g', 'ON 100% Whey French', 'FU Brfeed 60t', 'PR Child Imm Pro 50g', 'Mel Sod Ascorb 125g', 'Amazonia Acai 280g', 'Bc SB FlAct 30c', 'Sp Mpl Syrp 23ml', 'BOO Ack Sil Thread S', 'Olive Leaf 1L', 'NL Meno Life 60c', 'BOO Baop Bra Black L', 'Pow SwCacNib 100g', 'Ozg Mayonaise 500g', 'HNZ Manuka 18+ 250g', 'RS T Paste Lem 100g', 'Alch Unsc Spoo 225ml', 'Eag Ubiquinol 150 30', 'SP Org Arrabbiata', 'Blue Dinosaur Prot S', 'PO Basil', 'NG Almonds I/F 500g', 'HOG AcetylLCarn60v/c', 'Pana Chocolate Chai', 'OR Tahini Hull 375g', 'GN Gr Vit C 100g', 'GVC Epsom Salts 3kg', 'Naturebee 200c + 1 S', 'BC ArmaPreg 60', 'BBik OranOatCin 300g', 'M&P CrCalendula 20g', 'BobsRM GFPncakeMx623', 'Klean Kanteen 355ml', 'NG Del Mix Roast 1kg', 'Marigold Green 150g', 'BOB GFBBCL 350g', 'Fus Energy 60 Tabs', 'MEL AlmChaiSp 250g', 'MooGoo Lip Balm Str', 'NG Bitter Melon 365c', 'JC 100% NDLM 50ml', 'Ellia Diff Thrive gr', 'Cotton Buds x200', 'Eag ImmunoAdapt 90t', 'Harmony Soap Tea Tre', 'TN L Carnitine 100g', 'Bl Osteoblast 100t', \"NG B'wheat Raw 500\", 'Fus Curcumin 60c', 'BC Folinic Acid 120c', 'Fus Zinc Adv 30 Tabs', 'Jun Rev Eye Cr 15ml', 'BOB BBC PCLMT 350g', 'Murray Pink Salt 150', 'Fus Libido 60 Tab', 'MooGoo Soap Oatmeal', 'HOG Mushroom 5 60t', 'Boody M Briefs Bl L', 'Bc UC Krill 60c', 'TN Premium Va 3kg', 'Bc Prodophlus 120 ca', 'CJ Apricot 325g', 'Ton 6C 120ml', 'NS Liquorice 100c', 'Env Delicate Wash 1L', 'LE Coffee kaPow Bar', 'OB Lemon Soother 50', 'BB Mues Al F Pr 900g', 'PO Cumin Seed Ground', 'Alch Rmary Spoo 500m', 'PA Salted Caramel Wh', 'HOG Omega 369 200c', 'Bc BabyBiotic 0+ 100', 'Spatone 14', 'Bm Bio Zinc 84tab', 'Arborvitae Arthritis', 'TP T Tree Oil 50ml', 'GluFreedom PizzaBase', 'Bl Dand Roast 100g', 'Sel Epsom Salts 1kg', 'BOO ShapBra Bk L', 'Jama Tonka Bean', 'Green Calcium 240c', 'Boody G-Str Nu ML', 'PB Pregnancy oil 100', 'M&P Cr Calendula 100', 'Spatone 28', 'Aroma Lily Pink', 'NG Alm Tam 1K', 'Olive Leaf Spray 20m', 'TE Almond chips BBQ', 'HOG Bulg Trib 30t', 'Env Fabric Cond 1L', 'Harmony Soap Lemon M', 'Sp Ginger 11ml', 'MEL OMCT P Orig 300g', 'Jc Blemish Serum 50m', 'Eco Min Bronzer Exot', 'Hi Va Liquivita 500', 'Bm Bio Magnes 100tab', 'THO Slppry Elm 120t', 'Te Fr Roast 10 Bag', 'GVC Dextrose 1kg', 'PB Patchouli 30ml', 'Bm Lyp-sine 30tab', 'Tri Lime 10ml', 'NS Golden Seal 100c', 'No Co Bi Bar Gin 45g', 'Bc Acetyl L-Carn 90c', 'BF Pow Porrij 450g', 'Bo T-Shirt Ch 12-18m', 'TON Pe Red 5FR 120ml', 'Cracked Candy Cinnam', 'PF Thai Patty', 'Lotus Ba Pwd GF 125g', 'BOO FuBrief White XL', 'NG Msl W/Y free 750', 'Bo Socks Ch/Sk 3-6m', 'NS Blk WNut 100c', 'MM Sourdough Kit', 'HB Ramen Noodles 270', 'Ng Mac Safron 60c', 'Com PropolisElx200ml', 'JC 100% NCOJ 100ml', 'PO Or Bedtime 25tb', 'NL Org Mag 120t', 'Smart Diet Apple Pie', 'Ozg Tik Massala 500g', 'H Mix Stress 200ml', 'BOO Mert Li Marle XL', 'PF Potat Spin Mash', 'Salt Lamp Globe', 'ABC Manuka Candy 60c', 'THO OA Kava 3800 30t', 'ARG 5.02 Warm Coffee', 'Boody Bikini Bl SM', 'NV Milk Thistle 60VC', 'Sataya Nag Champa 40', 'Env Fruit+Veg W 500m', 'Lf Food Green 475ml', 'EV Raw Organic Rose', 'LL Ess OilProtection', 'KMax Ging Lime 500ml', 'Roch LemLimGg 725ml', 'LS Col Min 500ml', 'Bm Gink 6000 Teb 30t', 'PNO Su 3 Greens 300g', 'HOG St J Wor 30t', 'FTN Ch Cake Mix 400g', 'NP EK KoalaCrisp 325', 'PB Refresh 10ml', 'Topliss in the kitch', 'Flordis Ellura', 'Pukka Tea Herbal Col', 'Ethique St Clements', 'Ki Hayfever Con 30t', 'Core Ghee 500ml', 'PH Or Rice Malt 500g', 'SD Peanut Choc Caram', 'Inca Inchi Prot 400g', 'NV Pr Calc Comp 100t', 'Pep Collagen Hy 500g', 'H2G Chick Peas Org 5', 'Glace Ginger 250 g', 'Bm Odrles FshOil 200', 'HoG Eld Ech Ol 200ml', 'Castile Lav. Refill', 'Trinity Witch Hazel', 'PSnaps Origano thyme', 'Br Snore Eze 20ml', 'Eloa AV Lime', 'MV Coffee Beans', 'Bc U M Eze 360g', 'RWC 3 Seed beet crk', 'Bm Pc 73 84t', 'Opt Oats Whey Va 3lb', 'Banana Joe Chips BBQ', 'CH Syn X Pdr 1k', 'CHE IWT SW 320ml', 'Chia Co White 1kg', 'X50 GrnTea Passion', 'NIU CO Coco FS 250ml', 'Sp Cham Rom 2.5%', 'Bal N Plant Pr V 1kg', 'Spry Gum Fruit 10', 'OR Apple CiderV500ml', 'NR ABC Spread 240g', 'Nv Mega B 120t', 'NG Cashew Raw 500g', \"L'A Spelt Penne 375g\", 'BD Protein Choc', 'CH Mag Ultra Citrus', 'HOG Quercetin 60c', 'East Bali Chasews Po', 'HOG Macu-Guard 90c', 'CC Things Lemon 99g', 'Ns Saw Palm 100c', 'Bc Ultra MEase 180g', 'ON 100% Whey Cookies', 'HOG Selen Max 60c', 'Jun Teen Exfol 100g', 'Immune Boost Kids 60', 'TP Anti Druff 250ml', 'Yum Earth Org Licori', 'Amazonia Jackfruit O', 'Roch Ginger 725ml', 'Nv CoQ10 150mg 30c', 'LE Mint Dk Choc 30g', 'Pill Cutter', 'BC Liquid Iron 200ml', 'MP Mot Potion 150g', 'Sp Grapefrut 11ml', 'PO Curry', 'Nutra Org Biotic Who', 'Bm B6 240mg S/r 42tb', 'KOA Turm Tea 20tb', 'Hh Prostalobium 120c', 'AF Mandarin good 100', 'WEL IrDay Cream 30ml', 'Pimp My Salad Hemp 1', 'NL Super Cal 120t', 'Ns Ginger 100 Caps', 'Lotus Fibre Clense', 'H Mix Olive 200ml', 'Foleys Org raw Sauer', 'CLProt Nat 1kg', 'ML Dan Detox 25', 'TP Cala Ointment 50g', 'WEL Cal Nap CC 30ml', 'Bo Bean+Boot Sk 0-3m', 'Jun Int Bod Lot 250m', 'BM Garlic 3k 60t', 'CN CK9 CD 50mg 56t', 'HOG Preg+ 123 60t', 'FU Pain Relief Gel', 'BAL 100WNARCC 750g', 'Sp Sweet Drms 11 ml', 'Pana Ganache Maple', 'Nux Vomica 200c', 'LZ Mint Choc 85g', 'NG Almond Meal 150g', 'BLO VQIK LT 50ml', 'NL GL Cho MSM18', 'OR Pepitas 500g', 'M & P Cal Sulph 125', 'Bal Nat Mass Va 1.5k', 'Bo Sh Cr Bra Wh SM', 'Nv C + Hesp 200g', 'Pukka Tea Three Ging', 'DrB H Soap Lav 710ml', 'KOA Turmeric 20tb', 'Moogoo Demodectic Ro', 'LE Paleo Prot 320g', 'MOR Inin Powder 150g', 'LE Buckinis Ch 400g', 'Pow SwCacNib 200g', 'AO Magnesium 250ml', 'Tri Marjoram 10ml', 'PB Peppermint 30ml', 'QuePas Or Salsa Mild', 'Vego Alomd Bliss Whi', 'DG V Lipstick Chia s', 'AMA RAW Paleo 500g', 'Aroma Flare Met Grey', 'PO Peppercorn Black', 'Fus Pain + Infl 60t', 'Bal Carnitine 60 Cap', 'Fus Glucosamine 60t', 'EnerC Raspberry Vit', 'Et Sweet Orang BWash', 'PB Clove Bud 30ml', 'GVC Mjool Dates 160', 'NO Sup Gr + Red 180c', 'Yogi Green Tea Blueb', 'EN Lysine 30 Tabs', 'Bm MP 65 170t', 'DrB H Rinse Cit 237m', 'PO Or FemBal 25tb', 'AH Org BuckwheatWrap', 'NR Wheoncentrate 1KG', 'BB Mues Gl Free 350', 'Trin Ult AntOx Ser30', 'CE Pomegranate 66ml', 'ARG 5. Brown Natural', 'Jun Int H Cream 50ml', 'Bo T-Shirt Ro 6-12m', 'NR Sunflower Ker 500', 'Bc Lipo Glut 50ml', 'Fus Multivitamin 60t', '2Die4 Hemp Sa Map', 'Zen Matcha Gr Tea 60', 'VIT Gr 1.1kg Doy Bag', 'THO MaRel Kids 200ml', 'Lot BasmatiRice 500g', 'EN UTS 180t', 'MBC Raw Milk 750ml', 'Te Hazelnut 10 Bag', 'Ivys Ladies Fasion', 'H Mix Anxiety 200ml', 'Pukka TSelection Box', 'MG Bubbly Wash 500ml', 'Lotus Banana chips', 'TUR TurmeriX 260g', 'EVER ECO B/straw', 'Eag Beta AC Pdr 200g', 'YumEarth OrgLicor Po', 'Eco Deodorant 60ml', 'Top  ZMA 250g', 'DrB Cast T Tree 59ml', 'PL Spr Brd Date Waln', 'Am Smooth Pure 4x100', 'HP Spirulina 225g', 'LE NAC N-Acetyl-L-Cy', 'NR PG FM 350g', 'NG Sultanas 500 g', 'Pow Dulse Fl 40g', 'HOG Activ B Comp 60C', 'BB Bone broth Be Pdr', 'Lot MilletFlakes 375', 'Pukka Tea Revitalise', 'SQU 10 Hand San 75ml', 'BD Pal Bar Mac L 45g', 'Kitz Mi Pizza Cr 100', 'Anthogenol 100c', 'Insect Repellent', 'Inner Health Kid 120', 'Til GM Body Lotion', 'Lot WheatBran Org300', 'NS Sage 100c', 'Niu Sw Chilli 250ml', 'KF Sleepy 25s 50g', 'Rawsome vegan baking', 'PO Or Rooibos 25tb', 'BC Ult Mus P5P 120t', 'Am RAW Slim Van 1kg', 'Lovingearth Nutty Mr', 'Am RAW Greens 120g', 'Gr Superfoods 250c', 'OB Chamomile Tea 20', 'MOR Ale Coconut 300g', 'Fus Iron Adv 30t', 'Spiral Org Shiitake', 'Sp Serenity 11ml', 'LE Lucuma 500g', 'CL Prot Matcha 500g', 'Abs Org Beetroot Sl', 'CLO Coacao Soap 150g', 'Fus Cough Lung 200ml', 'NV Fish Oil OL 400c', 'DrB Cast S & J 59ml', 'Aroma Mod Floral Pat', 'THW LM NG Gift Set', 'Cry deod uns 66ml', 'BOO Ac Tight Black L', 'Fus Zinc Adv 60t', 'Bm Vit D3 200 Caps', 'Sp Sage 11ml', 'Grants T/paste Blue', 'EM Sup Hemp Seeds', 'Zen Her Liniment 100', 'NatBee 60 (1 month)', 'Th Gink 6000 60c', 'Tom Org Tooshies', 'BOO Fu Brief White M', 'Lot Quinoa Puff 180g', 'Nv Vit E 500iu 100c', 'Bc ArmaForce 60t', 'Sp Vitality 11ml', 'LS Barley Grass 250', 'BonSoy SOY Milk 1L', 'TN Taurine 100g', 'BOO Ack Sil Thread M', 'FUS Guiotic SB+ 30vc', 'Ols Salt Fine 250g', 'ON Amino Energy Pine', 'M&P Comb D 125 Tabs', 'Env H Duty Clean 750', 'Sp Lavender 11ml', 'LL 15 Day Weight Los', 'Bee-Power Honey Pops', 'MooGoo Milk Shampoo', 'PO Elderflower 25tb', 'BOO Paop Bra White M', 'WEL Bay Lotion 200ml', 'KF LL DC Org 60g', 'En Fish Oil M 280ml', 'Bundaburg Syrup 1kg', 'Love Tamunu Oil 30ml', 'MG Prot Shot 50ml', 'Vital Prot Van 1kg', 'Lewis YogFrogs Sbery', 'DV WPI+WPC Choc 375g', 'Com TPaste 100g', 'SB5 ACSPM 100g', 'THO Co Oil Plus 100c', 'Lot Popcorn Org 500g', 'Hh Hawthorn 30 TB', 'GVC PB HairWell100m', 'LWood Pomegr J 946', 'DG Found fair sunris', 'BergaMALE 60 tablets', 'Eag Ech Roy 90t', 'Fus Liver Ton 60 Tab', 'Alch Lgrass Spoo 225', 'Jama Deo Vanilla', 'Chia Co Black 150g', 'SPF BC Oily 350ml', 'NS Tasty Temp 300g', 'DrB Cast Ch Bl 946ml', 'Sugar Free Golden Oa', 'Ateronon Male Fertil', 'Colon Cleanse 125g', 'Max Health WPC 1.5kg', 'JC Ultimate Duo', 'Flat Out Koala Lge', 'Sp Genmai Miso', 'Br Calm Spray 20ml', 'EN Immune Fighter 30', 'JC jojo Gl Box 85ml', 'roasted seaweed Teri', 'Bee-Power 1 Kg', 'HTG Nut Milk Bag', 'Te Car Nut 10 Bag', 'Bal Bet Alanine 150g', 'TE Reishi Mush 50g', 'Bm Magmin 250t', 'Ng Goji Juice 500ml', 'ARG Hy Shampoo 500ml', 'Bc Adrenoplex 120ca', 'NV Triple Omega 250c', 'Bl Herb-A-Lax 100g', 'Bc InNatal + Iron 90', 'TP TT + Av Spra', 'BF GF Bircher 400g', 'Bm Epo+fish Oil 100c', 'CLV PD 72% San 500ml', 'NIU CB VanBean 35g', 'EZ Bth Cr Detox 900g', 'OR Des Coc 200g', 'DrB HB Lot Or 237ml', 'PLV Kraut Cucumber 6', 'TE Astragalus 50g', 'Bal Pl Prot Va 500g', 'GN Gr Vit C 120c', 'Pana IceCream DbleCh', 'Bl Rosehip 200g', 'Sp Blk Pepper 11ml', 'Bm EPO 1000mg  190c', 'BRK PCW SS 70g', 'Bm Valerian Forte 30', 'BC Armaforce Junior', 'MooGoo Soap Goats', 'LE Almond Crunch 80g', 'OGN It Bit Brs 175g', 'H/h S/bitrs 120 Vg.c', 'PB Patchouli 10ml', 'MG MoothPaste W Fluo', 'Mad Millie Kombucha', 'DJA Veg Shiitake Jer', 'TP Acne Gel 25g', \"Castile P'mint Ref.\", 'Apricot Kernels 500g', 'Beef Bone Broth Gard', 'AMA RP PP Va 500g', 'PP PC Flour Mix 340g', 'OR chia seeds 500g', 'PO Or Ginseng25tb', 'Tri Citronella 10ml', 'Tri Clove 50ml', 'CLProt Van 20g', 'ET emu oil 100c', 'Jam Deo L Myrt 50ml', 'Olive Ext Pepp 200ml', 'LE Camu Camu 50g', 'PNO Yarrow 50g', 'TAGC SNT CD 600g', 'CHE AI BP 600ml', 'Orgran Macaroni', 'MG Eye Ser Vit C 20m', 'Bc Gluc Fact Frte 60', 'Deer Daisy Card', 'NO C-Berry Bl 200g', 'BOO Meirt Li Marle M', 'EVER ECOnut milk bag', 'Homo Arnica 200c 10g', 'NO SupGree+Reds 150g', 'Tiger Balm Red 18g', 'Bc Iodine Ft Spr 50m', 'ET Emu Oil 100ml', 'Olive Ext Nat 500ml', 'DFDU Vegan Cheddar 2', 'OGO Quin Rice Spagh', 'Lotus Couscous Whole', 'NO Gr+Red Bar 45g', 'Thmp Salmon Oil 300', 'LE Salt Car Choc 80g', 'ON Amino Energy Stra', 'NL Liver Guard+ 100c', 'Boody M Box Gr L', 'Glace Pears 250g', 'WN Fac/Sensitve 25pk', 'LE Org Cacao Pdr 500', 'PR Daily Pro 15 30vc', 'Gr TPaste Cinnamon', 'Mor keto coff 14sach', 'Boody G-Str Bl SM', 'Harmony Soap Lime Le', 'Pow Cacao Crunch100g', 'M&P Comb 12 125 Tabs', \"Fus Kids'Astra8 200m\", 'GVC Empty 250 Spray', 'Nv Chlorophyll 500ml', 'Bm Travel Calm 45tab', 'Boody Cami Nude M', 'NR LSA 400g', 'Tho Liverplex 200ml', 'Evo FMist Beach100ml', 'Glace Apricots 250g', 'DrB H Soap Pmin 710m', 'Harmony Soap May Cha', 'Lot Instant Oats 500', 'GVC Jewelry Car Diff', 'LE Turk Delight bar', 'BC UltraClean 85 60', 'Salt Lamp 5 to 7kg', 'PO Or Echinacea25tb', 'ABN Colostrum 400g', 'BC Echinamide Burst', 'HOG Echin 4000 60t', 'Mel Flax Oil Org 500', 'Bo Pullon Ch 12-18m', 'LE Buck Ber Cac 400g', 'BOO Ful Brief Nude L', 'Inner Health Plus 30', 'Bm Folate 90 Tab', 'H Mix Liver 500ml', 'SS Smudge Small', 'Org Black Beans 400', 'PR 5 HTP 200mg 90c', 'CLProt Van 1kg', 'Core Org Ghee 250ml', 'NE GF Ban Flour 2', 'Boody M Briefs Bl M', 'UV Nat 30+ 50g', 'M&P Nat Phos 125t', 'MOR BW ZCP 200g', 'SW Rice Prot Van 750', 'H Mix Yeast 200ml', 'SP smudge stik sm', 'Br B+C Cough 100ml', 'BP AuskaMGO 30+ 500g', 'Am Kom Ging 375ml', 'RS Rasp Tea 25 Bags', 'PO Or Oolong 25tb', 'HOG Alp Lip 60c', 'Bc UltBio 60 60c', 'Lotus Gluten flour 5', 'So Sun - Bonbon', 'Chlorella 500mg 200t', 'Tulsi Insence', 'Eloa Pomeg', 'Fo Jalapeno kraut', 'PLV Bush Curry 580g', 'Lot Org JasRice 500g', 'Bharath Dashan 12c', 'SB5 AC CM 150ml', 'Bc UME Cream 100g', 'Bc ArmaForce 120t', 'Herbal Mixture 200ml', 'Me Goat Ch Olive 320', 'GVC Blk Sesame 300g', 'EVER ECO S/Steel', 'LL Dune wht', 'NatBee Soap 75g', 'Ng Currants 250g', 'Bo Jers Wrap Chlk 1s', 'NR LSA 1kg', 'Bragg Coco Amino Sea', 'Wel Arnica Crm 36ml', 'Vegolino Pralines', 'Icelandic still wate', 'B†Pad†Shap†Cro Nud L', 'Power Org Chia 950g', 'Nv Iron 24mg 30t', 'TE Almond chips Salt', 'M&P Calc Fluor 125 T', 'OT MilkChoc RockyRoa', 'HS Black seed 200g', 'NV Children Pro 50g', 'Jun AO Firm Ser 50ml', 'Fus Gluc Adv Rep 50', 'NV SAMe 30c 130t', 'PO Yerba Mate 25tb', 'NS Fenugreek 100 Cap', 'OGO Quin BR Am Penne', 'Bf Mac Oil L&C 250ml', 'Bc ThyroPlex 120t', 'Lot SlipperingElm125', 'Pukka Tea Supreme Ma', 'LE Coc Sugar 500g', 'BP Ginger Honey 500g', 'SPF BC Normal 350ml', 'Tom Org Tampons Reg', 'Bf Power Food 330g', 'ARG 1.0N Blk Natural', 'NV Olive Leaf 6k 120', 'Hh E Bright 50g', 'Boody Tank Top Wh L', 'Bergamet Sport 60t', 'Mango Box 6 drawer s', 'BP Honey Comb 350g', 'RS T Paste Prop 100g', 'DJA ShiitakeMushroom', 'Ng Delux Mix 250g', 'M Org Spirulina 500t', 'BOO Mii Brief Nude M', 'Trin RHip Oil 25ml', 'Fus Green Tea 30t', 'Vital Greens 600g', 'Fus Astra 8 60 Tab', 'Env Dishwash 5L', 'HOL Kombuc ginger', 'PLV Sea SKraut 680g', 'BN ear candles 1pair', 'BC Olive Oil Salt', 'HoG Child Calm 60t', 'Lts Org Pot Stch 1kg', 'LUN Clear Model 1', 'Nut Ferm Cranb 500ml', 'Lot Spel Fl Roll 250', 'Bl Calendula 50g', 'Boody Bikini Nu ML', 'Lotus Cit Pect 100g', 'Cheeki Mug Chocolate', 'Ton 2N 120m', 'DrB Cast Cit Or 237m', 'CK Coconut bear', 'Lot Oat Unstab 750g', 'Bon Dand Med 1kg', 'Alch Rice Shpoo 500m', 'Barambah Milk 2L', 'TSB ZechMag OS 125ml', 'NO Beef BB MisoRamen', 'ByronOrg Bucha Ginge', 'Fus H Sk Nails 90t', 'Jojoba Ultimate Day', 'CHE IKB Peng 400ml', 'Fus Probiotic 60c', 'Bl Herb-A-Lax 200c', 'NV Xylitol sticks 40', 'OR UW Flour 1kg', 'Alch Rmary Spoo 225m', 'MooGoo Soap BMilk', 'Absolutfruitz Banana', 'PB Castor Oil 50ml', 'ZEB St Act CC 300g', 'BOO Mii Brief Nude L', 'NT Coll Silver 1l', '2die4 Pepitas 250g', 'WWN LTPW 250g', 'NG Almond Meal 1kg', 'Ton 4RR 120ml', 'Moogoo Bmboo Toothbr', 'Boody 3/4 Leg Bl L', 'Mel Cast Ref Or 500m', 'PSA Colostrum 200g', 'Trin Vitamin E 50ml', 'NL Super Calcium 250', 'OR Shred Coc 200g', 'CJ Or + Ging 325g', 'LL 5 Day Detox', 'Mel Calc Asc 125g'}\n"
     ]
    }
   ],
   "source": [
    "print(set(df['descr'].unique()))"
   ]
  },
  {
   "cell_type": "code",
   "execution_count": 9,
   "id": "fe913216",
   "metadata": {
    "scrolled": true
   },
   "outputs": [],
   "source": [
    "df['descr'] = df.descr.str.lower()"
   ]
  },
  {
   "cell_type": "code",
   "execution_count": 10,
   "id": "fd99525a",
   "metadata": {},
   "outputs": [
    {
     "data": {
      "text/plain": [
       "0          gvc pb peru balsam\n",
       "1            nv zinc comp 60t\n",
       "2            tres b plus 150t\n",
       "3        md goats yog (b) 500\n",
       "4        aroma bloom wood pea\n",
       "                 ...         \n",
       "65529      2die4 walnuts 300g\n",
       "65530       peanut butter 1kg\n",
       "65531    lot yeast shake 145g\n",
       "65532       o ap+ci pcake mix\n",
       "65533    on 100% whey ext cho\n",
       "Name: descr, Length: 65534, dtype: object"
      ]
     },
     "execution_count": 10,
     "metadata": {},
     "output_type": "execute_result"
    }
   ],
   "source": [
    "df['descr']"
   ]
  },
  {
   "cell_type": "code",
   "execution_count": 11,
   "id": "564e333c",
   "metadata": {},
   "outputs": [
    {
     "data": {
      "text/plain": [
       "sale_date      object\n",
       "sale_time      object\n",
       "clerkname      object\n",
       "qty           float64\n",
       "descr          object\n",
       "last_price    float64\n",
       "cost          float64\n",
       "pdiscount     float64\n",
       "gst           float64\n",
       "sellprice     float64\n",
       "grosssales    float64\n",
       "dtype: object"
      ]
     },
     "execution_count": 11,
     "metadata": {},
     "output_type": "execute_result"
    }
   ],
   "source": [
    "df.dtypes"
   ]
  },
  {
   "cell_type": "code",
   "execution_count": 12,
   "id": "38842093",
   "metadata": {},
   "outputs": [],
   "source": [
    "df.sale_date = pd.to_datetime(df['sale_date'], format=None)"
   ]
  },
  {
   "cell_type": "code",
   "execution_count": 13,
   "id": "a053be5e",
   "metadata": {},
   "outputs": [
    {
     "data": {
      "text/html": [
       "<div>\n",
       "<style scoped>\n",
       "    .dataframe tbody tr th:only-of-type {\n",
       "        vertical-align: middle;\n",
       "    }\n",
       "\n",
       "    .dataframe tbody tr th {\n",
       "        vertical-align: top;\n",
       "    }\n",
       "\n",
       "    .dataframe thead th {\n",
       "        text-align: right;\n",
       "    }\n",
       "</style>\n",
       "<table border=\"1\" class=\"dataframe\">\n",
       "  <thead>\n",
       "    <tr style=\"text-align: right;\">\n",
       "      <th></th>\n",
       "      <th>sale_date</th>\n",
       "      <th>sale_time</th>\n",
       "      <th>clerkname</th>\n",
       "      <th>qty</th>\n",
       "      <th>descr</th>\n",
       "      <th>last_price</th>\n",
       "      <th>cost</th>\n",
       "      <th>pdiscount</th>\n",
       "      <th>gst</th>\n",
       "      <th>sellprice</th>\n",
       "      <th>grosssales</th>\n",
       "    </tr>\n",
       "  </thead>\n",
       "  <tbody>\n",
       "    <tr>\n",
       "      <th>0</th>\n",
       "      <td>2020-01-01</td>\n",
       "      <td>09:35:38</td>\n",
       "      <td>Monina</td>\n",
       "      <td>1.0</td>\n",
       "      <td>gvc pb peru balsam</td>\n",
       "      <td>3.45</td>\n",
       "      <td>19.95</td>\n",
       "      <td>1.00</td>\n",
       "      <td>0.00</td>\n",
       "      <td>18.95</td>\n",
       "      <td>250.41</td>\n",
       "    </tr>\n",
       "    <tr>\n",
       "      <th>1</th>\n",
       "      <td>2020-01-01</td>\n",
       "      <td>09:35:38</td>\n",
       "      <td>Monina</td>\n",
       "      <td>1.0</td>\n",
       "      <td>nv zinc comp 60t</td>\n",
       "      <td>5.09</td>\n",
       "      <td>10.32</td>\n",
       "      <td>0.52</td>\n",
       "      <td>0.98</td>\n",
       "      <td>10.78</td>\n",
       "      <td>250.41</td>\n",
       "    </tr>\n",
       "    <tr>\n",
       "      <th>2</th>\n",
       "      <td>2020-01-01</td>\n",
       "      <td>09:35:38</td>\n",
       "      <td>Monina</td>\n",
       "      <td>1.0</td>\n",
       "      <td>tres b plus 150t</td>\n",
       "      <td>49.17</td>\n",
       "      <td>80.59</td>\n",
       "      <td>4.03</td>\n",
       "      <td>7.66</td>\n",
       "      <td>84.22</td>\n",
       "      <td>250.41</td>\n",
       "    </tr>\n",
       "    <tr>\n",
       "      <th>3</th>\n",
       "      <td>2020-01-01</td>\n",
       "      <td>09:35:38</td>\n",
       "      <td>Monina</td>\n",
       "      <td>1.0</td>\n",
       "      <td>md goats yog (b) 500</td>\n",
       "      <td>4.50</td>\n",
       "      <td>7.10</td>\n",
       "      <td>0.36</td>\n",
       "      <td>0.00</td>\n",
       "      <td>6.74</td>\n",
       "      <td>250.41</td>\n",
       "    </tr>\n",
       "    <tr>\n",
       "      <th>4</th>\n",
       "      <td>2020-01-01</td>\n",
       "      <td>09:35:39</td>\n",
       "      <td>Monina</td>\n",
       "      <td>1.0</td>\n",
       "      <td>aroma bloom wood pea</td>\n",
       "      <td>52.25</td>\n",
       "      <td>90.64</td>\n",
       "      <td>4.53</td>\n",
       "      <td>8.61</td>\n",
       "      <td>94.72</td>\n",
       "      <td>250.41</td>\n",
       "    </tr>\n",
       "  </tbody>\n",
       "</table>\n",
       "</div>"
      ],
      "text/plain": [
       "   sale_date sale_time clerkname  qty                 descr  last_price  \\\n",
       "0 2020-01-01  09:35:38    Monina  1.0    gvc pb peru balsam        3.45   \n",
       "1 2020-01-01  09:35:38    Monina  1.0      nv zinc comp 60t        5.09   \n",
       "2 2020-01-01  09:35:38    Monina  1.0      tres b plus 150t       49.17   \n",
       "3 2020-01-01  09:35:38    Monina  1.0  md goats yog (b) 500        4.50   \n",
       "4 2020-01-01  09:35:39    Monina  1.0  aroma bloom wood pea       52.25   \n",
       "\n",
       "    cost  pdiscount   gst  sellprice  grosssales  \n",
       "0  19.95       1.00  0.00      18.95      250.41  \n",
       "1  10.32       0.52  0.98      10.78      250.41  \n",
       "2  80.59       4.03  7.66      84.22      250.41  \n",
       "3   7.10       0.36  0.00       6.74      250.41  \n",
       "4  90.64       4.53  8.61      94.72      250.41  "
      ]
     },
     "execution_count": 13,
     "metadata": {},
     "output_type": "execute_result"
    }
   ],
   "source": [
    "df.head()"
   ]
  },
  {
   "cell_type": "code",
   "execution_count": 14,
   "id": "100c1991",
   "metadata": {},
   "outputs": [],
   "source": [
    "df['brand'] = df.descr.str.split(' ',1)\n",
    "    "
   ]
  },
  {
   "cell_type": "code",
   "execution_count": 15,
   "id": "1492b649",
   "metadata": {},
   "outputs": [
    {
     "data": {
      "text/plain": [
       "0          [gvc, pb peru balsam]\n",
       "1            [nv, zinc comp 60t]\n",
       "2            [tres, b plus 150t]\n",
       "3        [md, goats yog (b) 500]\n",
       "4        [aroma, bloom wood pea]\n",
       "                  ...           \n",
       "65529      [2die4, walnuts 300g]\n",
       "65530       [peanut, butter 1kg]\n",
       "65531    [lot, yeast shake 145g]\n",
       "65532       [o, ap+ci pcake mix]\n",
       "65533    [on, 100% whey ext cho]\n",
       "Name: brand, Length: 65534, dtype: object"
      ]
     },
     "execution_count": 15,
     "metadata": {},
     "output_type": "execute_result"
    }
   ],
   "source": [
    "df['brand']"
   ]
  },
  {
   "cell_type": "code",
   "execution_count": 16,
   "id": "7c8e0773",
   "metadata": {},
   "outputs": [
    {
     "data": {
      "text/html": [
       "<div>\n",
       "<style scoped>\n",
       "    .dataframe tbody tr th:only-of-type {\n",
       "        vertical-align: middle;\n",
       "    }\n",
       "\n",
       "    .dataframe tbody tr th {\n",
       "        vertical-align: top;\n",
       "    }\n",
       "\n",
       "    .dataframe thead th {\n",
       "        text-align: right;\n",
       "    }\n",
       "</style>\n",
       "<table border=\"1\" class=\"dataframe\">\n",
       "  <thead>\n",
       "    <tr style=\"text-align: right;\">\n",
       "      <th></th>\n",
       "      <th>sale_date</th>\n",
       "      <th>sale_time</th>\n",
       "      <th>clerkname</th>\n",
       "      <th>qty</th>\n",
       "      <th>descr</th>\n",
       "      <th>last_price</th>\n",
       "      <th>cost</th>\n",
       "      <th>pdiscount</th>\n",
       "      <th>gst</th>\n",
       "      <th>sellprice</th>\n",
       "      <th>grosssales</th>\n",
       "      <th>brand</th>\n",
       "    </tr>\n",
       "  </thead>\n",
       "  <tbody>\n",
       "    <tr>\n",
       "      <th>0</th>\n",
       "      <td>2020-01-01</td>\n",
       "      <td>09:35:38</td>\n",
       "      <td>Monina</td>\n",
       "      <td>1.0</td>\n",
       "      <td>gvc pb peru balsam</td>\n",
       "      <td>3.45</td>\n",
       "      <td>19.95</td>\n",
       "      <td>1.00</td>\n",
       "      <td>0.00</td>\n",
       "      <td>18.95</td>\n",
       "      <td>250.41</td>\n",
       "      <td>[gvc, pb peru balsam]</td>\n",
       "    </tr>\n",
       "    <tr>\n",
       "      <th>1</th>\n",
       "      <td>2020-01-01</td>\n",
       "      <td>09:35:38</td>\n",
       "      <td>Monina</td>\n",
       "      <td>1.0</td>\n",
       "      <td>nv zinc comp 60t</td>\n",
       "      <td>5.09</td>\n",
       "      <td>10.32</td>\n",
       "      <td>0.52</td>\n",
       "      <td>0.98</td>\n",
       "      <td>10.78</td>\n",
       "      <td>250.41</td>\n",
       "      <td>[nv, zinc comp 60t]</td>\n",
       "    </tr>\n",
       "    <tr>\n",
       "      <th>2</th>\n",
       "      <td>2020-01-01</td>\n",
       "      <td>09:35:38</td>\n",
       "      <td>Monina</td>\n",
       "      <td>1.0</td>\n",
       "      <td>tres b plus 150t</td>\n",
       "      <td>49.17</td>\n",
       "      <td>80.59</td>\n",
       "      <td>4.03</td>\n",
       "      <td>7.66</td>\n",
       "      <td>84.22</td>\n",
       "      <td>250.41</td>\n",
       "      <td>[tres, b plus 150t]</td>\n",
       "    </tr>\n",
       "    <tr>\n",
       "      <th>3</th>\n",
       "      <td>2020-01-01</td>\n",
       "      <td>09:35:38</td>\n",
       "      <td>Monina</td>\n",
       "      <td>1.0</td>\n",
       "      <td>md goats yog (b) 500</td>\n",
       "      <td>4.50</td>\n",
       "      <td>7.10</td>\n",
       "      <td>0.36</td>\n",
       "      <td>0.00</td>\n",
       "      <td>6.74</td>\n",
       "      <td>250.41</td>\n",
       "      <td>[md, goats yog (b) 500]</td>\n",
       "    </tr>\n",
       "    <tr>\n",
       "      <th>4</th>\n",
       "      <td>2020-01-01</td>\n",
       "      <td>09:35:39</td>\n",
       "      <td>Monina</td>\n",
       "      <td>1.0</td>\n",
       "      <td>aroma bloom wood pea</td>\n",
       "      <td>52.25</td>\n",
       "      <td>90.64</td>\n",
       "      <td>4.53</td>\n",
       "      <td>8.61</td>\n",
       "      <td>94.72</td>\n",
       "      <td>250.41</td>\n",
       "      <td>[aroma, bloom wood pea]</td>\n",
       "    </tr>\n",
       "  </tbody>\n",
       "</table>\n",
       "</div>"
      ],
      "text/plain": [
       "   sale_date sale_time clerkname  qty                 descr  last_price  \\\n",
       "0 2020-01-01  09:35:38    Monina  1.0    gvc pb peru balsam        3.45   \n",
       "1 2020-01-01  09:35:38    Monina  1.0      nv zinc comp 60t        5.09   \n",
       "2 2020-01-01  09:35:38    Monina  1.0      tres b plus 150t       49.17   \n",
       "3 2020-01-01  09:35:38    Monina  1.0  md goats yog (b) 500        4.50   \n",
       "4 2020-01-01  09:35:39    Monina  1.0  aroma bloom wood pea       52.25   \n",
       "\n",
       "    cost  pdiscount   gst  sellprice  grosssales                    brand  \n",
       "0  19.95       1.00  0.00      18.95      250.41    [gvc, pb peru balsam]  \n",
       "1  10.32       0.52  0.98      10.78      250.41      [nv, zinc comp 60t]  \n",
       "2  80.59       4.03  7.66      84.22      250.41      [tres, b plus 150t]  \n",
       "3   7.10       0.36  0.00       6.74      250.41  [md, goats yog (b) 500]  \n",
       "4  90.64       4.53  8.61      94.72      250.41  [aroma, bloom wood pea]  "
      ]
     },
     "execution_count": 16,
     "metadata": {},
     "output_type": "execute_result"
    }
   ],
   "source": [
    "df.head()"
   ]
  },
  {
   "cell_type": "code",
   "execution_count": 17,
   "id": "b54d6f93",
   "metadata": {},
   "outputs": [
    {
     "data": {
      "text/plain": [
       "[peanut, butter 1kg]       924\n",
       "[pep, collagen hy 500g]    671\n",
       "[bc, um night 240g]        423\n",
       "[sweet, nectar cake]       396\n",
       "[nt, org bwheat bread]     297\n",
       "                          ... \n",
       "[sc, nail groove is in]      1\n",
       "[eagle, sb forte 60c]        1\n",
       "[che, ai bmb 600ml]          1\n",
       "[ch, fibretone 200g]         1\n",
       "[lkw, c jo 946ml]            1\n",
       "Name: brand, Length: 4037, dtype: int64"
      ]
     },
     "execution_count": 17,
     "metadata": {},
     "output_type": "execute_result"
    }
   ],
   "source": [
    "df['brand'].value_counts()"
   ]
  },
  {
   "cell_type": "code",
   "execution_count": 18,
   "id": "6b427159",
   "metadata": {},
   "outputs": [
    {
     "data": {
      "text/plain": [
       "0           gvc\n",
       "1            nv\n",
       "2          tres\n",
       "3            md\n",
       "4         aroma\n",
       "          ...  \n",
       "65529     2die4\n",
       "65530    peanut\n",
       "65531       lot\n",
       "65532         o\n",
       "65533        on\n",
       "Name: brand2, Length: 65534, dtype: object"
      ]
     },
     "execution_count": 18,
     "metadata": {},
     "output_type": "execute_result"
    }
   ],
   "source": [
    "df['brand2'] = df.descr.str.partition(' ')[0]\n",
    "df['brand2']"
   ]
  },
  {
   "cell_type": "code",
   "execution_count": 19,
   "id": "079730f4",
   "metadata": {},
   "outputs": [
    {
     "data": {
      "text/plain": [
       "bc         2663\n",
       "ng         2316\n",
       "nv         2077\n",
       "fus        1670\n",
       "smart      1557\n",
       "           ... \n",
       "jungle        1\n",
       "biobeet       1\n",
       "chill         1\n",
       "lunch         1\n",
       "aromaco       1\n",
       "Name: brand2, Length: 667, dtype: int64"
      ]
     },
     "execution_count": 19,
     "metadata": {},
     "output_type": "execute_result"
    }
   ],
   "source": [
    "df['brand2'].value_counts()"
   ]
  },
  {
   "cell_type": "code",
   "execution_count": 20,
   "id": "72ec5f70",
   "metadata": {},
   "outputs": [
    {
     "name": "stdout",
     "output_type": "stream",
     "text": [
      "{'lz', 'quepasa', 'rosa', 'flat', 'ps', 'htg', 'ateronon', 'mg', 'flo', 'saba', 'pukka', 'nt', 'paper', 'aromaco', 'gomacro', 'tgcc', 'ftn', 'agna', 'hs', 'idlewilde', 'herbal', 'uv', 'icelandic', 'tulsi', 'ls', 'arg', 'he', 'sweetlife', 'nes', 'ell', 'naturis', 'pr', 'coyo', 'tilley', 'keto', 'mojo', 'activated', 'uvn', 'kh', 'alo', 'mdr', 'en', 'glufreedom', 'hemp', 'ce', 'hsf', 'ogn', 'chlorella', 'opt', 'lauria', 'kitz', 'anthogenol', 'body', 'greek', 'tsb', 'h&b', 'pp', 'now', 'alkalife', 'nr', 'pimp', 'ez', 'golden', 'we', 'amphore', 'cholesterol', 'twf', '3', 'boo', 'jc', 'bon', 'o', 'so', 'melrose', 'cobs', 'te', 'nir', 'anas', 'ob', 'pompom', 'love', 'immunol', 'nl', 'til', 'core', 'fe', 'wg', 'holle', 'cheeki', 'h2g', 'castile', 'gr', 'deliver', 'lf', 'alk', 'rap', 'arborvitae', 'enc', 'bbik', 'tbg', 'cracked', 'nac', 'gev', 'tur', 'sl', 'mmcv', 'lc', 'ki', 'mp', '2die4', 'endura', 'j&b', 'glace', 'peanuts', 'pre', 'tog', 'bioceuticals', 'bergamet', 'pure', 'shiritaki', 'prt', 'nc', 'cry', 'blue', 'vegesorb', 'whole', 'sym', 'pn', 'naturebee', 'alchh', 'super', 'ks', 'nourishing', 'jama', 'hab', 'recue', 'bragg', 'llesso', 'have', 'wm', 'eco', 'silicea', 'barambah', 'lckl', 'boobie', 'food', 'pret', 'cotton', 'lknto', 'psa', 'ng', 'ak', 'spiral', 'nrt', 'eo', 'mandalas', 'mgc', 'n-zimes', 'proper', 'prg', 'ju', 'hog', 'ol', 'b', 'mm', 'crystal', 'llesoil', 'tom', 'ni', 'nn', 'fo', 'pa', 'mv', 'md', 'pf', 'bergamale', 'br', 'buggrroff', 'bl', 'ton', 'yogi', 'gv', 'tem', 'crystalized', 'luml', 'hex', 'ev', 'liberate', 'sfoglini', 'sb5', 'pk', 'x50', 'temole', 'nutrisoy', 'herbisaurus', 'noble', 'jungle', 'turban', 'spatone', 'pana', 'hp', 'rw', 'optimum', 'gp', 'the', 'cabot', 'pb', 'floravital', 'beef', 'prana', 'tpbc', 'clean', 'satya', 'doggyl', 'soyco', 'orgran', 'bf', 'niulife', 'mer', 'ns', 'rescue', 'sophie', 'absorg', 'b-active', 'fu', 'lts', 'prot', 'par', 'top', 'th', 'peanut', 'trinity', 'sjaws', 'amaz', 'abc', 'nirvana', 'fl', 'amb', 'magic', 'pl', 'ess', 'cook', 'fus', 'ph', 'jojoba', 'trin', 'lifestream', 'cell', 'lkw', 'mor', 'piping', 'nux', 'herbanica', 'b†pad†shap†cro', 'shirataki', 'spry', 'cf', 'to', 'aroma', 'rawsome', 'klean', 'actvtd', 'chandan', 'oplex', 'env', 'esk', 'goodgreen', 'bundaburg', 'swap', 'h', 'blo', 'hol', 'ch', 'org', 'lotus', 'brk', 'tho', 'mrm', 'op', 'jun', 'misc', 'ethique', 'bio', 'mad', 'dja', 'biogr', 'be', 'four', 'zero', 'sacred', 'kwh', 'deer', 'brg', 'bm', 'gutsy', 'yum', 'nfchips', 'gra', 'honey', 'jim', 'cc', 'drb', 'dextrose', 'vgo', 'thf', 'book', 'ck', 'hm', 'organic', 'olive', 'mango', 'eb', 'gn', 'ppc', 'et', 'chia', 'jade', 'bbbb', 'roch', 'castille', 'green', 'bobsrm', 'sol', \"l'a\", 'yp', 'bn', 'tp', 'lif', 'norsk', 'lovingearth', 'dfdu', 'byronorg', 'm', 'mgfc', 'dv', 'bob', 'se', 'epic', 'jn', 'af', 'ogo', 'clo', 'macadamia', 'cellfood', 'koala', 'wheatbags', 'sj', 'bd', 'max', 'imm', 'hnz', 'co', 'power', 'ngs', 'grahams', 'thmp', 'goatsmilk', 'ols', 'bp', 'ko', 'ozg', 'uncontam', 'smart', 'ml', 'cb', 'sc', 'thw', 'sataya', 'ah', 'end', 'nz', 'clv', 'vr', 'lunch', 'sp', 'white', 'll', 'medmedium', 'vitawerx', 'for', 'inca', 'nbyron', 'springfields', 'mh', 'tiger', 'banjo', 'biologika', 'kin', 'pbc', 'squ', 'kmax', 'east', 'zd', 'che', 'yumearth', 'quick', 'tamari', 'fg', 'harmony', 'moogoo', 'gevitybody', 'ih', 'bo', 'zen', 'vit', 'le', 'gm', 'happy', 'abs', 'kit', 'lakewood', 'slc', 'qcamel', 'morlife††senna†klenz', 'muso', 'dg', 'tres', 'morlife', 'spiced', 'bt', 'boody', 'immune', 'thom', 'celestial', 'hfa', 'del', 'bee-power', 'sw', 'colon', 'orthplx', 'm&p', 'hills', 'amazonia', 'np', 'orgrice', 'cl', 't', 'vital', 'nourish', 'ff', 'nat', 'nut', 'ao', 'lw', 'sugar', 'ellia', 'enviro', 'sd', 'qc', 'moj', 'mel', 'maca', 'pro', 'go', 'my', 'pfe', 'hly', 'ss', 'absolutfruitz', 'ngr', 'weleda', 'bbm', \"a'kin\", 'floradix', 'enerc', 'sf', 'mbc', 'bonvit', 'gallexier', 'grants', 'altereco', 'venerdi', 'bonsoy', 'alch', 'inner', 'ber', 'kfibre', 'sel', 'fh', 'gf', 'vegolino', 'bnv', 'korean', 'k', 'schar', 'biobeet', 'pelvi', 'walker', 'gvc', 'perfect', 'em', 'rg', 'gh', 'me', 'es', 'wwn', 'plv', 'tr', 'hg', 'niu', 'or', 'cj', 'tri-plex', 'pno', 'ds', 'flor', 'botb', 'hh', 'wn', 'brr', 'byron', 'bal', 'rwc', 'crm', 'neem', 'little', 'pra', 'no', 'roasted', 'ne', 'wel', 'easy', 'herb', 'insect', 'salt', 'nutra', 'sun', 'wf', 'nf', 'hi', 'aloe', 'bharath', 'koochikoo', 'bc', 'zz', 'natway', 'hv', 'natural', 'cn', 'babushka', 'sweet', 'dw', 'lewis', 'psf', 'natbee', 'mfn', 'lot', 'ot', 'omega', 'ntrton', 'carob', 'av', 'incense', 'vego', 'mmmcharcoalflosspepm', 'postage', 'nd', 'sil', 'nv', 'bioc', 'kintra', 'livatone+tum', 'rhip', 'po', 'pep', 'baby', 'koa', 'homo', 'ae', 'gpeople', 'cacao', 'yaki', 'braggs', 'hb', 'kf', 'pill', 'am', 'zz-opt', 'com', 'epbentoniteclay', 'bass', 'banana', 'kn95', 'psnaps', 'tn', 'oregano', 'bb', 'pizza/pasta', 'topliss', 'tress', 'na', 'bcr', 'on', 'abn', 'broccoli', 'theracumin', 'jam', 'one', 'ever', 'ro', 'tropeaka', 'h/h', 'pc', 'kindervital', 'lwood', 'm&m', 'nb', 'bee', 'lun', 'i', 'coco', 'medimedium', 'eloa', 'drsup', 'flordis', 'rs', 'car', 'quepas', 'good', 'goli', 'rapunzel', 'hva', 'murray', 'milkadamia', 'vegan', 'qb', 'lucas', 'dr', 'crystalised', 'tagc', 'nag', 'lu', 'tol', 'pow', 'marigold', 'foleys', 'deonat', 'eveco', 'cg', 'ecotan', 'raw', 'chill', 'evo', 'spf', 'udos', 'ivys', 'bach', 'ama', 'kolorex', 'wnderfoods', 'zeb', 'eag', 'two', 'life', 'apricot', 'clprot', 'eagle', 'db', 'fusion', 'h/hemmes', 'sos', 'lacteeze', 'woodstck', 'nfcips', 'motion', 'tri', 'boulder'}\n"
     ]
    }
   ],
   "source": [
    "print(set(df['brand2'].unique()))"
   ]
  },
  {
   "cell_type": "code",
   "execution_count": 21,
   "id": "fbba17b8",
   "metadata": {
    "scrolled": true
   },
   "outputs": [
    {
     "data": {
      "text/html": [
       "<div>\n",
       "<style scoped>\n",
       "    .dataframe tbody tr th:only-of-type {\n",
       "        vertical-align: middle;\n",
       "    }\n",
       "\n",
       "    .dataframe tbody tr th {\n",
       "        vertical-align: top;\n",
       "    }\n",
       "\n",
       "    .dataframe thead th {\n",
       "        text-align: right;\n",
       "    }\n",
       "</style>\n",
       "<table border=\"1\" class=\"dataframe\">\n",
       "  <thead>\n",
       "    <tr style=\"text-align: right;\">\n",
       "      <th></th>\n",
       "      <th>sale_date</th>\n",
       "      <th>sale_time</th>\n",
       "      <th>clerkname</th>\n",
       "      <th>qty</th>\n",
       "      <th>descr</th>\n",
       "      <th>last_price</th>\n",
       "      <th>cost</th>\n",
       "      <th>pdiscount</th>\n",
       "      <th>gst</th>\n",
       "      <th>sellprice</th>\n",
       "      <th>grosssales</th>\n",
       "      <th>brand</th>\n",
       "      <th>brand2</th>\n",
       "    </tr>\n",
       "  </thead>\n",
       "  <tbody>\n",
       "    <tr>\n",
       "      <th>65529</th>\n",
       "      <td>2020-12-27</td>\n",
       "      <td>11:18:17</td>\n",
       "      <td>Milla</td>\n",
       "      <td>1.00</td>\n",
       "      <td>2die4 walnuts 300g</td>\n",
       "      <td>13.46</td>\n",
       "      <td>23.70</td>\n",
       "      <td>0.0</td>\n",
       "      <td>0.0</td>\n",
       "      <td>23.70</td>\n",
       "      <td>74.20</td>\n",
       "      <td>[2die4, walnuts 300g]</td>\n",
       "      <td>2die4</td>\n",
       "    </tr>\n",
       "    <tr>\n",
       "      <th>65530</th>\n",
       "      <td>2020-12-27</td>\n",
       "      <td>12:24:41</td>\n",
       "      <td>Milla</td>\n",
       "      <td>0.45</td>\n",
       "      <td>peanut butter 1kg</td>\n",
       "      <td>5.70</td>\n",
       "      <td>12.80</td>\n",
       "      <td>0.0</td>\n",
       "      <td>0.0</td>\n",
       "      <td>5.76</td>\n",
       "      <td>5.76</td>\n",
       "      <td>[peanut, butter 1kg]</td>\n",
       "      <td>peanut</td>\n",
       "    </tr>\n",
       "    <tr>\n",
       "      <th>65531</th>\n",
       "      <td>2020-12-27</td>\n",
       "      <td>12:56:55</td>\n",
       "      <td>Paul</td>\n",
       "      <td>1.00</td>\n",
       "      <td>lot yeast shake 145g</td>\n",
       "      <td>6.77</td>\n",
       "      <td>10.15</td>\n",
       "      <td>0.0</td>\n",
       "      <td>0.0</td>\n",
       "      <td>10.15</td>\n",
       "      <td>14.10</td>\n",
       "      <td>[lot, yeast shake 145g]</td>\n",
       "      <td>lot</td>\n",
       "    </tr>\n",
       "    <tr>\n",
       "      <th>65532</th>\n",
       "      <td>2020-12-27</td>\n",
       "      <td>12:56:55</td>\n",
       "      <td>Paul</td>\n",
       "      <td>1.00</td>\n",
       "      <td>o ap+ci pcake mix</td>\n",
       "      <td>2.32</td>\n",
       "      <td>3.95</td>\n",
       "      <td>0.0</td>\n",
       "      <td>0.0</td>\n",
       "      <td>3.95</td>\n",
       "      <td>14.10</td>\n",
       "      <td>[o, ap+ci pcake mix]</td>\n",
       "      <td>o</td>\n",
       "    </tr>\n",
       "    <tr>\n",
       "      <th>65533</th>\n",
       "      <td>2020-12-27</td>\n",
       "      <td>12:58:51</td>\n",
       "      <td>Paul</td>\n",
       "      <td>1.00</td>\n",
       "      <td>on 100% whey ext cho</td>\n",
       "      <td>25.25</td>\n",
       "      <td>53.00</td>\n",
       "      <td>0.0</td>\n",
       "      <td>5.3</td>\n",
       "      <td>58.30</td>\n",
       "      <td>53.00</td>\n",
       "      <td>[on, 100% whey ext cho]</td>\n",
       "      <td>on</td>\n",
       "    </tr>\n",
       "  </tbody>\n",
       "</table>\n",
       "</div>"
      ],
      "text/plain": [
       "       sale_date sale_time clerkname   qty                 descr  last_price  \\\n",
       "65529 2020-12-27  11:18:17     Milla  1.00    2die4 walnuts 300g       13.46   \n",
       "65530 2020-12-27  12:24:41     Milla  0.45     peanut butter 1kg        5.70   \n",
       "65531 2020-12-27  12:56:55      Paul  1.00  lot yeast shake 145g        6.77   \n",
       "65532 2020-12-27  12:56:55      Paul  1.00     o ap+ci pcake mix        2.32   \n",
       "65533 2020-12-27  12:58:51      Paul  1.00  on 100% whey ext cho       25.25   \n",
       "\n",
       "        cost  pdiscount  gst  sellprice  grosssales                    brand  \\\n",
       "65529  23.70        0.0  0.0      23.70       74.20    [2die4, walnuts 300g]   \n",
       "65530  12.80        0.0  0.0       5.76        5.76     [peanut, butter 1kg]   \n",
       "65531  10.15        0.0  0.0      10.15       14.10  [lot, yeast shake 145g]   \n",
       "65532   3.95        0.0  0.0       3.95       14.10     [o, ap+ci pcake mix]   \n",
       "65533  53.00        0.0  5.3      58.30       53.00  [on, 100% whey ext cho]   \n",
       "\n",
       "       brand2  \n",
       "65529   2die4  \n",
       "65530  peanut  \n",
       "65531     lot  \n",
       "65532       o  \n",
       "65533      on  "
      ]
     },
     "execution_count": 21,
     "metadata": {},
     "output_type": "execute_result"
    }
   ],
   "source": [
    "df.tail()"
   ]
  },
  {
   "cell_type": "code",
   "execution_count": 22,
   "id": "c1df167c",
   "metadata": {},
   "outputs": [],
   "source": [
    "df = df.drop(labels = ['brand'], axis=1)"
   ]
  },
  {
   "cell_type": "code",
   "execution_count": 23,
   "id": "a31a30d8",
   "metadata": {},
   "outputs": [
    {
     "data": {
      "text/html": [
       "<div>\n",
       "<style scoped>\n",
       "    .dataframe tbody tr th:only-of-type {\n",
       "        vertical-align: middle;\n",
       "    }\n",
       "\n",
       "    .dataframe tbody tr th {\n",
       "        vertical-align: top;\n",
       "    }\n",
       "\n",
       "    .dataframe thead th {\n",
       "        text-align: right;\n",
       "    }\n",
       "</style>\n",
       "<table border=\"1\" class=\"dataframe\">\n",
       "  <thead>\n",
       "    <tr style=\"text-align: right;\">\n",
       "      <th></th>\n",
       "      <th>sale_date</th>\n",
       "      <th>sale_time</th>\n",
       "      <th>clerkname</th>\n",
       "      <th>qty</th>\n",
       "      <th>descr</th>\n",
       "      <th>last_price</th>\n",
       "      <th>cost</th>\n",
       "      <th>pdiscount</th>\n",
       "      <th>gst</th>\n",
       "      <th>sellprice</th>\n",
       "      <th>grosssales</th>\n",
       "      <th>brand2</th>\n",
       "    </tr>\n",
       "  </thead>\n",
       "  <tbody>\n",
       "    <tr>\n",
       "      <th>65529</th>\n",
       "      <td>2020-12-27</td>\n",
       "      <td>11:18:17</td>\n",
       "      <td>Milla</td>\n",
       "      <td>1.00</td>\n",
       "      <td>2die4 walnuts 300g</td>\n",
       "      <td>13.46</td>\n",
       "      <td>23.70</td>\n",
       "      <td>0.0</td>\n",
       "      <td>0.0</td>\n",
       "      <td>23.70</td>\n",
       "      <td>74.20</td>\n",
       "      <td>2die4</td>\n",
       "    </tr>\n",
       "    <tr>\n",
       "      <th>65530</th>\n",
       "      <td>2020-12-27</td>\n",
       "      <td>12:24:41</td>\n",
       "      <td>Milla</td>\n",
       "      <td>0.45</td>\n",
       "      <td>peanut butter 1kg</td>\n",
       "      <td>5.70</td>\n",
       "      <td>12.80</td>\n",
       "      <td>0.0</td>\n",
       "      <td>0.0</td>\n",
       "      <td>5.76</td>\n",
       "      <td>5.76</td>\n",
       "      <td>peanut</td>\n",
       "    </tr>\n",
       "    <tr>\n",
       "      <th>65531</th>\n",
       "      <td>2020-12-27</td>\n",
       "      <td>12:56:55</td>\n",
       "      <td>Paul</td>\n",
       "      <td>1.00</td>\n",
       "      <td>lot yeast shake 145g</td>\n",
       "      <td>6.77</td>\n",
       "      <td>10.15</td>\n",
       "      <td>0.0</td>\n",
       "      <td>0.0</td>\n",
       "      <td>10.15</td>\n",
       "      <td>14.10</td>\n",
       "      <td>lot</td>\n",
       "    </tr>\n",
       "    <tr>\n",
       "      <th>65532</th>\n",
       "      <td>2020-12-27</td>\n",
       "      <td>12:56:55</td>\n",
       "      <td>Paul</td>\n",
       "      <td>1.00</td>\n",
       "      <td>o ap+ci pcake mix</td>\n",
       "      <td>2.32</td>\n",
       "      <td>3.95</td>\n",
       "      <td>0.0</td>\n",
       "      <td>0.0</td>\n",
       "      <td>3.95</td>\n",
       "      <td>14.10</td>\n",
       "      <td>o</td>\n",
       "    </tr>\n",
       "    <tr>\n",
       "      <th>65533</th>\n",
       "      <td>2020-12-27</td>\n",
       "      <td>12:58:51</td>\n",
       "      <td>Paul</td>\n",
       "      <td>1.00</td>\n",
       "      <td>on 100% whey ext cho</td>\n",
       "      <td>25.25</td>\n",
       "      <td>53.00</td>\n",
       "      <td>0.0</td>\n",
       "      <td>5.3</td>\n",
       "      <td>58.30</td>\n",
       "      <td>53.00</td>\n",
       "      <td>on</td>\n",
       "    </tr>\n",
       "  </tbody>\n",
       "</table>\n",
       "</div>"
      ],
      "text/plain": [
       "       sale_date sale_time clerkname   qty                 descr  last_price  \\\n",
       "65529 2020-12-27  11:18:17     Milla  1.00    2die4 walnuts 300g       13.46   \n",
       "65530 2020-12-27  12:24:41     Milla  0.45     peanut butter 1kg        5.70   \n",
       "65531 2020-12-27  12:56:55      Paul  1.00  lot yeast shake 145g        6.77   \n",
       "65532 2020-12-27  12:56:55      Paul  1.00     o ap+ci pcake mix        2.32   \n",
       "65533 2020-12-27  12:58:51      Paul  1.00  on 100% whey ext cho       25.25   \n",
       "\n",
       "        cost  pdiscount  gst  sellprice  grosssales  brand2  \n",
       "65529  23.70        0.0  0.0      23.70       74.20   2die4  \n",
       "65530  12.80        0.0  0.0       5.76        5.76  peanut  \n",
       "65531  10.15        0.0  0.0      10.15       14.10     lot  \n",
       "65532   3.95        0.0  0.0       3.95       14.10       o  \n",
       "65533  53.00        0.0  5.3      58.30       53.00      on  "
      ]
     },
     "execution_count": 23,
     "metadata": {},
     "output_type": "execute_result"
    }
   ],
   "source": [
    "df.tail()"
   ]
  },
  {
   "cell_type": "code",
   "execution_count": 24,
   "id": "537a9210",
   "metadata": {},
   "outputs": [
    {
     "data": {
      "text/plain": [
       "bc         2663\n",
       "ng         2316\n",
       "nv         2077\n",
       "fus        1670\n",
       "smart      1557\n",
       "           ... \n",
       "jungle        1\n",
       "biobeet       1\n",
       "chill         1\n",
       "lunch         1\n",
       "aromaco       1\n",
       "Name: brand2, Length: 667, dtype: int64"
      ]
     },
     "execution_count": 24,
     "metadata": {},
     "output_type": "execute_result"
    }
   ],
   "source": [
    "df['brand2'].value_counts()"
   ]
  },
  {
   "cell_type": "code",
   "execution_count": 25,
   "id": "c9c34613",
   "metadata": {},
   "outputs": [
    {
     "data": {
      "text/html": [
       "<div>\n",
       "<style scoped>\n",
       "    .dataframe tbody tr th:only-of-type {\n",
       "        vertical-align: middle;\n",
       "    }\n",
       "\n",
       "    .dataframe tbody tr th {\n",
       "        vertical-align: top;\n",
       "    }\n",
       "\n",
       "    .dataframe thead th {\n",
       "        text-align: right;\n",
       "    }\n",
       "</style>\n",
       "<table border=\"1\" class=\"dataframe\">\n",
       "  <thead>\n",
       "    <tr style=\"text-align: right;\">\n",
       "      <th></th>\n",
       "      <th>sale_date</th>\n",
       "      <th>sale_time</th>\n",
       "      <th>clerkname</th>\n",
       "      <th>qty</th>\n",
       "      <th>descr</th>\n",
       "      <th>last_price</th>\n",
       "      <th>cost</th>\n",
       "      <th>pdiscount</th>\n",
       "      <th>gst</th>\n",
       "      <th>sellprice</th>\n",
       "      <th>grosssales</th>\n",
       "    </tr>\n",
       "  </thead>\n",
       "  <tbody>\n",
       "    <tr>\n",
       "      <th>8</th>\n",
       "      <td>2020-01-01</td>\n",
       "      <td>10:18:34</td>\n",
       "      <td>Paul</td>\n",
       "      <td>1.0</td>\n",
       "      <td>bc ultbio 60 60c</td>\n",
       "      <td>56.95</td>\n",
       "      <td>96.45</td>\n",
       "      <td>0.00</td>\n",
       "      <td>9.65</td>\n",
       "      <td>106.10</td>\n",
       "      <td>96.45</td>\n",
       "    </tr>\n",
       "    <tr>\n",
       "      <th>60</th>\n",
       "      <td>2020-01-01</td>\n",
       "      <td>13:42:43</td>\n",
       "      <td>Paul</td>\n",
       "      <td>1.0</td>\n",
       "      <td>bc uc epa/dha+ 120c</td>\n",
       "      <td>28.80</td>\n",
       "      <td>48.77</td>\n",
       "      <td>2.44</td>\n",
       "      <td>4.63</td>\n",
       "      <td>50.97</td>\n",
       "      <td>48.77</td>\n",
       "    </tr>\n",
       "    <tr>\n",
       "      <th>78</th>\n",
       "      <td>2020-01-01</td>\n",
       "      <td>17:11:21</td>\n",
       "      <td>Monina</td>\n",
       "      <td>1.0</td>\n",
       "      <td>bc ultbio 60 60c</td>\n",
       "      <td>56.95</td>\n",
       "      <td>96.45</td>\n",
       "      <td>0.00</td>\n",
       "      <td>9.65</td>\n",
       "      <td>106.10</td>\n",
       "      <td>232.30</td>\n",
       "    </tr>\n",
       "    <tr>\n",
       "      <th>111</th>\n",
       "      <td>2020-01-02</td>\n",
       "      <td>10:37:20</td>\n",
       "      <td>Paul</td>\n",
       "      <td>1.0</td>\n",
       "      <td>bc mgest enz 180c</td>\n",
       "      <td>34.00</td>\n",
       "      <td>57.59</td>\n",
       "      <td>0.00</td>\n",
       "      <td>5.76</td>\n",
       "      <td>63.35</td>\n",
       "      <td>120.55</td>\n",
       "    </tr>\n",
       "    <tr>\n",
       "      <th>130</th>\n",
       "      <td>2020-01-02</td>\n",
       "      <td>11:19:29</td>\n",
       "      <td>Paul</td>\n",
       "      <td>1.0</td>\n",
       "      <td>bc zinc drops 50 ml</td>\n",
       "      <td>11.82</td>\n",
       "      <td>20.05</td>\n",
       "      <td>0.00</td>\n",
       "      <td>2.00</td>\n",
       "      <td>22.05</td>\n",
       "      <td>40.59</td>\n",
       "    </tr>\n",
       "    <tr>\n",
       "      <th>...</th>\n",
       "      <td>...</td>\n",
       "      <td>...</td>\n",
       "      <td>...</td>\n",
       "      <td>...</td>\n",
       "      <td>...</td>\n",
       "      <td>...</td>\n",
       "      <td>...</td>\n",
       "      <td>...</td>\n",
       "      <td>...</td>\n",
       "      <td>...</td>\n",
       "      <td>...</td>\n",
       "    </tr>\n",
       "    <tr>\n",
       "      <th>65380</th>\n",
       "      <td>2020-12-24</td>\n",
       "      <td>13:05:17</td>\n",
       "      <td>Diane</td>\n",
       "      <td>1.0</td>\n",
       "      <td>bc uc krill 60c</td>\n",
       "      <td>37.57</td>\n",
       "      <td>61.64</td>\n",
       "      <td>0.00</td>\n",
       "      <td>6.16</td>\n",
       "      <td>67.80</td>\n",
       "      <td>61.64</td>\n",
       "    </tr>\n",
       "    <tr>\n",
       "      <th>65381</th>\n",
       "      <td>2020-12-24</td>\n",
       "      <td>13:07:10</td>\n",
       "      <td>Diane</td>\n",
       "      <td>1.0</td>\n",
       "      <td>bc hickory barbecue</td>\n",
       "      <td>4.30</td>\n",
       "      <td>6.32</td>\n",
       "      <td>0.00</td>\n",
       "      <td>0.63</td>\n",
       "      <td>6.95</td>\n",
       "      <td>12.64</td>\n",
       "    </tr>\n",
       "    <tr>\n",
       "      <th>65382</th>\n",
       "      <td>2020-12-24</td>\n",
       "      <td>13:07:10</td>\n",
       "      <td>Diane</td>\n",
       "      <td>1.0</td>\n",
       "      <td>bc vinegar &amp; seasalt</td>\n",
       "      <td>4.30</td>\n",
       "      <td>6.32</td>\n",
       "      <td>0.00</td>\n",
       "      <td>0.63</td>\n",
       "      <td>6.95</td>\n",
       "      <td>12.64</td>\n",
       "    </tr>\n",
       "    <tr>\n",
       "      <th>65404</th>\n",
       "      <td>2020-12-24</td>\n",
       "      <td>14:19:24</td>\n",
       "      <td>Diane</td>\n",
       "      <td>1.0</td>\n",
       "      <td>bc glfac forte 120c</td>\n",
       "      <td>35.52</td>\n",
       "      <td>58.32</td>\n",
       "      <td>2.92</td>\n",
       "      <td>5.54</td>\n",
       "      <td>60.94</td>\n",
       "      <td>108.54</td>\n",
       "    </tr>\n",
       "    <tr>\n",
       "      <th>65469</th>\n",
       "      <td>2020-12-24</td>\n",
       "      <td>16:39:35</td>\n",
       "      <td>Diane</td>\n",
       "      <td>1.0</td>\n",
       "      <td>bc avooil cl seasalt</td>\n",
       "      <td>5.03</td>\n",
       "      <td>7.23</td>\n",
       "      <td>0.00</td>\n",
       "      <td>0.72</td>\n",
       "      <td>7.95</td>\n",
       "      <td>47.09</td>\n",
       "    </tr>\n",
       "  </tbody>\n",
       "</table>\n",
       "<p>2663 rows × 11 columns</p>\n",
       "</div>"
      ],
      "text/plain": [
       "       sale_date sale_time clerkname  qty                 descr  last_price  \\\n",
       "8     2020-01-01  10:18:34      Paul  1.0      bc ultbio 60 60c       56.95   \n",
       "60    2020-01-01  13:42:43      Paul  1.0   bc uc epa/dha+ 120c       28.80   \n",
       "78    2020-01-01  17:11:21    Monina  1.0      bc ultbio 60 60c       56.95   \n",
       "111   2020-01-02  10:37:20      Paul  1.0     bc mgest enz 180c       34.00   \n",
       "130   2020-01-02  11:19:29      Paul  1.0   bc zinc drops 50 ml       11.82   \n",
       "...          ...       ...       ...  ...                   ...         ...   \n",
       "65380 2020-12-24  13:05:17     Diane  1.0       bc uc krill 60c       37.57   \n",
       "65381 2020-12-24  13:07:10     Diane  1.0   bc hickory barbecue        4.30   \n",
       "65382 2020-12-24  13:07:10     Diane  1.0  bc vinegar & seasalt        4.30   \n",
       "65404 2020-12-24  14:19:24     Diane  1.0   bc glfac forte 120c       35.52   \n",
       "65469 2020-12-24  16:39:35     Diane  1.0  bc avooil cl seasalt        5.03   \n",
       "\n",
       "        cost  pdiscount   gst  sellprice  grosssales  \n",
       "8      96.45       0.00  9.65     106.10       96.45  \n",
       "60     48.77       2.44  4.63      50.97       48.77  \n",
       "78     96.45       0.00  9.65     106.10      232.30  \n",
       "111    57.59       0.00  5.76      63.35      120.55  \n",
       "130    20.05       0.00  2.00      22.05       40.59  \n",
       "...      ...        ...   ...        ...         ...  \n",
       "65380  61.64       0.00  6.16      67.80       61.64  \n",
       "65381   6.32       0.00  0.63       6.95       12.64  \n",
       "65382   6.32       0.00  0.63       6.95       12.64  \n",
       "65404  58.32       2.92  5.54      60.94      108.54  \n",
       "65469   7.23       0.00  0.72       7.95       47.09  \n",
       "\n",
       "[2663 rows x 11 columns]"
      ]
     },
     "execution_count": 25,
     "metadata": {},
     "output_type": "execute_result"
    }
   ],
   "source": [
    "bc = df.loc[df['brand2']==\"bc\"]\n",
    "bc = bc.drop(labels=['brand2'], axis=1)\n",
    "bc"
   ]
  },
  {
   "cell_type": "code",
   "execution_count": 26,
   "id": "3025cbac",
   "metadata": {},
   "outputs": [
    {
     "data": {
      "text/plain": [
       "bc um night 240g        423\n",
       "bc armaforce 60t        133\n",
       "bc ultbio 60 60c         71\n",
       "bc iron sus 30t          71\n",
       "bc armaforce 120t        61\n",
       "                       ... \n",
       "bc prodophlus 120 ca      1\n",
       "bc pea liq 50ml           1\n",
       "bc inflamzyme 90c         1\n",
       "bc eczema rel 60g         1\n",
       "bc avo salt pep           1\n",
       "Name: descr, Length: 107, dtype: int64"
      ]
     },
     "execution_count": 26,
     "metadata": {},
     "output_type": "execute_result"
    }
   ],
   "source": [
    "bc['descr'].value_counts()"
   ]
  },
  {
   "cell_type": "code",
   "execution_count": 27,
   "id": "b166d303",
   "metadata": {},
   "outputs": [
    {
     "name": "stdout",
     "output_type": "stream",
     "text": [
      "       sale_date sale_time clerkname  qty              descr  last_price  \\\n",
      "1513  2020-01-09  14:16:27     Kelly  6.0  bc ume cream 400g       21.61   \n",
      "32779 2020-06-23  14:43:03    Monina  6.0  bc ume cream 400g       21.61   \n",
      "53558 2020-10-18  09:16:44     Milla  8.0   bc um night 240g       23.28   \n",
      "\n",
      "        cost  pdiscount    gst  sellprice  grosssales  \n",
      "1513   36.59      21.95  19.76     217.36      219.55  \n",
      "32779  36.59      17.56  20.20     222.18      219.55  \n",
      "53558  43.09      17.24  32.75     360.24      417.77  \n"
     ]
    }
   ],
   "source": [
    "print(bc[bc['pdiscount']>15])"
   ]
  },
  {
   "cell_type": "code",
   "execution_count": 28,
   "id": "c32db0db",
   "metadata": {},
   "outputs": [
    {
     "data": {
      "text/html": [
       "<div>\n",
       "<style scoped>\n",
       "    .dataframe tbody tr th:only-of-type {\n",
       "        vertical-align: middle;\n",
       "    }\n",
       "\n",
       "    .dataframe tbody tr th {\n",
       "        vertical-align: top;\n",
       "    }\n",
       "\n",
       "    .dataframe thead th {\n",
       "        text-align: right;\n",
       "    }\n",
       "</style>\n",
       "<table border=\"1\" class=\"dataframe\">\n",
       "  <thead>\n",
       "    <tr style=\"text-align: right;\">\n",
       "      <th></th>\n",
       "      <th>sale_date</th>\n",
       "      <th>sale_time</th>\n",
       "      <th>clerkname</th>\n",
       "      <th>qty</th>\n",
       "      <th>descr</th>\n",
       "      <th>last_price</th>\n",
       "      <th>cost</th>\n",
       "      <th>pdiscount</th>\n",
       "      <th>gst</th>\n",
       "      <th>sellprice</th>\n",
       "      <th>grosssales</th>\n",
       "    </tr>\n",
       "  </thead>\n",
       "  <tbody>\n",
       "    <tr>\n",
       "      <th>65380</th>\n",
       "      <td>2020-12-24</td>\n",
       "      <td>13:05:17</td>\n",
       "      <td>Diane</td>\n",
       "      <td>1.0</td>\n",
       "      <td>bc uc krill 60c</td>\n",
       "      <td>37.57</td>\n",
       "      <td>61.64</td>\n",
       "      <td>0.00</td>\n",
       "      <td>6.16</td>\n",
       "      <td>67.80</td>\n",
       "      <td>61.64</td>\n",
       "    </tr>\n",
       "    <tr>\n",
       "      <th>65381</th>\n",
       "      <td>2020-12-24</td>\n",
       "      <td>13:07:10</td>\n",
       "      <td>Diane</td>\n",
       "      <td>1.0</td>\n",
       "      <td>bc hickory barbecue</td>\n",
       "      <td>4.30</td>\n",
       "      <td>6.32</td>\n",
       "      <td>0.00</td>\n",
       "      <td>0.63</td>\n",
       "      <td>6.95</td>\n",
       "      <td>12.64</td>\n",
       "    </tr>\n",
       "    <tr>\n",
       "      <th>65382</th>\n",
       "      <td>2020-12-24</td>\n",
       "      <td>13:07:10</td>\n",
       "      <td>Diane</td>\n",
       "      <td>1.0</td>\n",
       "      <td>bc vinegar &amp; seasalt</td>\n",
       "      <td>4.30</td>\n",
       "      <td>6.32</td>\n",
       "      <td>0.00</td>\n",
       "      <td>0.63</td>\n",
       "      <td>6.95</td>\n",
       "      <td>12.64</td>\n",
       "    </tr>\n",
       "    <tr>\n",
       "      <th>65404</th>\n",
       "      <td>2020-12-24</td>\n",
       "      <td>14:19:24</td>\n",
       "      <td>Diane</td>\n",
       "      <td>1.0</td>\n",
       "      <td>bc glfac forte 120c</td>\n",
       "      <td>35.52</td>\n",
       "      <td>58.32</td>\n",
       "      <td>2.92</td>\n",
       "      <td>5.54</td>\n",
       "      <td>60.94</td>\n",
       "      <td>108.54</td>\n",
       "    </tr>\n",
       "    <tr>\n",
       "      <th>65469</th>\n",
       "      <td>2020-12-24</td>\n",
       "      <td>16:39:35</td>\n",
       "      <td>Diane</td>\n",
       "      <td>1.0</td>\n",
       "      <td>bc avooil cl seasalt</td>\n",
       "      <td>5.03</td>\n",
       "      <td>7.23</td>\n",
       "      <td>0.00</td>\n",
       "      <td>0.72</td>\n",
       "      <td>7.95</td>\n",
       "      <td>47.09</td>\n",
       "    </tr>\n",
       "  </tbody>\n",
       "</table>\n",
       "</div>"
      ],
      "text/plain": [
       "       sale_date sale_time clerkname  qty                 descr  last_price  \\\n",
       "65380 2020-12-24  13:05:17     Diane  1.0       bc uc krill 60c       37.57   \n",
       "65381 2020-12-24  13:07:10     Diane  1.0   bc hickory barbecue        4.30   \n",
       "65382 2020-12-24  13:07:10     Diane  1.0  bc vinegar & seasalt        4.30   \n",
       "65404 2020-12-24  14:19:24     Diane  1.0   bc glfac forte 120c       35.52   \n",
       "65469 2020-12-24  16:39:35     Diane  1.0  bc avooil cl seasalt        5.03   \n",
       "\n",
       "        cost  pdiscount   gst  sellprice  grosssales  \n",
       "65380  61.64       0.00  6.16      67.80       61.64  \n",
       "65381   6.32       0.00  0.63       6.95       12.64  \n",
       "65382   6.32       0.00  0.63       6.95       12.64  \n",
       "65404  58.32       2.92  5.54      60.94      108.54  \n",
       "65469   7.23       0.00  0.72       7.95       47.09  "
      ]
     },
     "execution_count": 28,
     "metadata": {},
     "output_type": "execute_result"
    }
   ],
   "source": [
    "bc.tail()"
   ]
  },
  {
   "cell_type": "code",
   "execution_count": 29,
   "id": "a7c917dc",
   "metadata": {},
   "outputs": [
    {
     "data": {
      "text/plain": [
       "<AxesSubplot:xlabel='sale_date'>"
      ]
     },
     "execution_count": 29,
     "metadata": {},
     "output_type": "execute_result"
    },
    {
     "data": {
      "image/png": "[encoded data removed]",
      "text/plain": [
       "<Figure size 432x288 with 1 Axes>"
      ]
     },
     "metadata": {
      "image/png": {
       "height": 259,
       "width": 424
      },
      "needs_background": "light"
     },
     "output_type": "display_data"
    }
   ],
   "source": [
    "bc2 = bc.loc[(bc.descr == 'bc ume cream 400g')][['sale_date', 'qty']].copy()\n",
    "bc2 = bc2.loc[(bc2.sale_date >= '2020-01-01') & (bc2.sale_date <= '2020-12-24')]\n",
    "bc2.set_index('sale_date').qty.plot()"
   ]
  },
  {
   "cell_type": "code",
   "execution_count": 30,
   "id": "c0a701c1",
   "metadata": {},
   "outputs": [
    {
     "data": {
      "text/plain": [
       "<AxesSubplot:xlabel='sale_date'>"
      ]
     },
     "execution_count": 30,
     "metadata": {},
     "output_type": "execute_result"
    },
    {
     "data": {
      "image/png": "[encoded data removed]",
      "text/plain": [
       "<Figure size 432x288 with 1 Axes>"
      ]
     },
     "metadata": {
      "image/png": {
       "height": 259,
       "width": 414
      },
      "needs_background": "light"
     },
     "output_type": "display_data"
    }
   ],
   "source": [
    "df2 = df.loc[(df.brand2 == 'bc')][['sale_date', 'qty']].copy()\n",
    "df2 = df2.loc[(df2.sale_date >= '2020-01-01') & (df2.sale_date <= '2020-12-24')]\n",
    "df2.set_index('sale_date').qty.plot()"
   ]
  },
  {
   "cell_type": "code",
   "execution_count": 32,
   "id": "532d6a51",
   "metadata": {},
   "outputs": [
    {
     "data": {
      "text/html": [
       "<div>\n",
       "<style scoped>\n",
       "    .dataframe tbody tr th:only-of-type {\n",
       "        vertical-align: middle;\n",
       "    }\n",
       "\n",
       "    .dataframe tbody tr th {\n",
       "        vertical-align: top;\n",
       "    }\n",
       "\n",
       "    .dataframe thead th {\n",
       "        text-align: right;\n",
       "    }\n",
       "</style>\n",
       "<table border=\"1\" class=\"dataframe\">\n",
       "  <thead>\n",
       "    <tr style=\"text-align: right;\">\n",
       "      <th></th>\n",
       "      <th>sale_date</th>\n",
       "      <th>sale_time</th>\n",
       "      <th>clerkname</th>\n",
       "      <th>qty</th>\n",
       "      <th>descr</th>\n",
       "      <th>last_price</th>\n",
       "      <th>cost</th>\n",
       "      <th>pdiscount</th>\n",
       "      <th>gst</th>\n",
       "      <th>sellprice</th>\n",
       "      <th>grosssales</th>\n",
       "    </tr>\n",
       "  </thead>\n",
       "  <tbody>\n",
       "    <tr>\n",
       "      <th>1513</th>\n",
       "      <td>2020-01-09</td>\n",
       "      <td>14:16:27</td>\n",
       "      <td>Kelly</td>\n",
       "      <td>6.0</td>\n",
       "      <td>bc ume cream 400g</td>\n",
       "      <td>21.61</td>\n",
       "      <td>36.59</td>\n",
       "      <td>21.95</td>\n",
       "      <td>19.76</td>\n",
       "      <td>217.36</td>\n",
       "      <td>219.55</td>\n",
       "    </tr>\n",
       "    <tr>\n",
       "      <th>3077</th>\n",
       "      <td>2020-01-18</td>\n",
       "      <td>13:22:43</td>\n",
       "      <td>Lauren</td>\n",
       "      <td>1.0</td>\n",
       "      <td>bc ume cream 400g</td>\n",
       "      <td>21.61</td>\n",
       "      <td>34.58</td>\n",
       "      <td>0.00</td>\n",
       "      <td>3.46</td>\n",
       "      <td>38.04</td>\n",
       "      <td>45.34</td>\n",
       "    </tr>\n",
       "    <tr>\n",
       "      <th>10045</th>\n",
       "      <td>2020-02-28</td>\n",
       "      <td>13:29:31</td>\n",
       "      <td>Sandra</td>\n",
       "      <td>6.0</td>\n",
       "      <td>bc ume cream 400g</td>\n",
       "      <td>21.61</td>\n",
       "      <td>36.59</td>\n",
       "      <td>0.00</td>\n",
       "      <td>21.95</td>\n",
       "      <td>241.50</td>\n",
       "      <td>219.55</td>\n",
       "    </tr>\n",
       "    <tr>\n",
       "      <th>12854</th>\n",
       "      <td>2020-03-12</td>\n",
       "      <td>13:48:14</td>\n",
       "      <td>Paul</td>\n",
       "      <td>1.0</td>\n",
       "      <td>bc ume cream 400g</td>\n",
       "      <td>21.61</td>\n",
       "      <td>33.59</td>\n",
       "      <td>0.00</td>\n",
       "      <td>3.36</td>\n",
       "      <td>36.95</td>\n",
       "      <td>201.55</td>\n",
       "    </tr>\n",
       "    <tr>\n",
       "      <th>12855</th>\n",
       "      <td>2020-03-12</td>\n",
       "      <td>13:48:14</td>\n",
       "      <td>Paul</td>\n",
       "      <td>1.0</td>\n",
       "      <td>bc ume cream 400g</td>\n",
       "      <td>21.61</td>\n",
       "      <td>33.59</td>\n",
       "      <td>0.00</td>\n",
       "      <td>3.36</td>\n",
       "      <td>36.95</td>\n",
       "      <td>201.55</td>\n",
       "    </tr>\n",
       "    <tr>\n",
       "      <th>12856</th>\n",
       "      <td>2020-03-12</td>\n",
       "      <td>13:48:14</td>\n",
       "      <td>Paul</td>\n",
       "      <td>1.0</td>\n",
       "      <td>bc ume cream 400g</td>\n",
       "      <td>21.61</td>\n",
       "      <td>33.59</td>\n",
       "      <td>0.00</td>\n",
       "      <td>3.36</td>\n",
       "      <td>36.95</td>\n",
       "      <td>201.55</td>\n",
       "    </tr>\n",
       "    <tr>\n",
       "      <th>12857</th>\n",
       "      <td>2020-03-12</td>\n",
       "      <td>13:48:14</td>\n",
       "      <td>Paul</td>\n",
       "      <td>1.0</td>\n",
       "      <td>bc ume cream 400g</td>\n",
       "      <td>21.61</td>\n",
       "      <td>33.59</td>\n",
       "      <td>0.00</td>\n",
       "      <td>3.36</td>\n",
       "      <td>36.95</td>\n",
       "      <td>201.55</td>\n",
       "    </tr>\n",
       "    <tr>\n",
       "      <th>12858</th>\n",
       "      <td>2020-03-12</td>\n",
       "      <td>13:48:14</td>\n",
       "      <td>Paul</td>\n",
       "      <td>1.0</td>\n",
       "      <td>bc ume cream 400g</td>\n",
       "      <td>21.61</td>\n",
       "      <td>33.59</td>\n",
       "      <td>0.00</td>\n",
       "      <td>3.36</td>\n",
       "      <td>36.95</td>\n",
       "      <td>201.55</td>\n",
       "    </tr>\n",
       "    <tr>\n",
       "      <th>12859</th>\n",
       "      <td>2020-03-12</td>\n",
       "      <td>13:48:14</td>\n",
       "      <td>Paul</td>\n",
       "      <td>1.0</td>\n",
       "      <td>bc ume cream 400g</td>\n",
       "      <td>21.61</td>\n",
       "      <td>33.59</td>\n",
       "      <td>0.00</td>\n",
       "      <td>3.36</td>\n",
       "      <td>36.95</td>\n",
       "      <td>201.55</td>\n",
       "    </tr>\n",
       "    <tr>\n",
       "      <th>24408</th>\n",
       "      <td>2020-05-07</td>\n",
       "      <td>09:56:41</td>\n",
       "      <td>Paul</td>\n",
       "      <td>1.0</td>\n",
       "      <td>bc ume cream 400g</td>\n",
       "      <td>21.61</td>\n",
       "      <td>36.59</td>\n",
       "      <td>0.00</td>\n",
       "      <td>3.66</td>\n",
       "      <td>40.25</td>\n",
       "      <td>52.95</td>\n",
       "    </tr>\n",
       "    <tr>\n",
       "      <th>32779</th>\n",
       "      <td>2020-06-23</td>\n",
       "      <td>14:43:03</td>\n",
       "      <td>Monina</td>\n",
       "      <td>6.0</td>\n",
       "      <td>bc ume cream 400g</td>\n",
       "      <td>21.61</td>\n",
       "      <td>36.59</td>\n",
       "      <td>17.56</td>\n",
       "      <td>20.20</td>\n",
       "      <td>222.18</td>\n",
       "      <td>219.55</td>\n",
       "    </tr>\n",
       "    <tr>\n",
       "      <th>37868</th>\n",
       "      <td>2020-07-23</td>\n",
       "      <td>13:40:16</td>\n",
       "      <td>Lauren</td>\n",
       "      <td>6.0</td>\n",
       "      <td>bc ume cream 400g</td>\n",
       "      <td>21.61</td>\n",
       "      <td>36.59</td>\n",
       "      <td>0.00</td>\n",
       "      <td>21.95</td>\n",
       "      <td>241.50</td>\n",
       "      <td>219.55</td>\n",
       "    </tr>\n",
       "    <tr>\n",
       "      <th>51300</th>\n",
       "      <td>2020-10-06</td>\n",
       "      <td>14:07:31</td>\n",
       "      <td>Diane</td>\n",
       "      <td>1.0</td>\n",
       "      <td>bc ume cream 400g</td>\n",
       "      <td>22.12</td>\n",
       "      <td>34.31</td>\n",
       "      <td>0.00</td>\n",
       "      <td>3.43</td>\n",
       "      <td>37.74</td>\n",
       "      <td>49.00</td>\n",
       "    </tr>\n",
       "  </tbody>\n",
       "</table>\n",
       "</div>"
      ],
      "text/plain": [
       "       sale_date sale_time clerkname  qty              descr  last_price  \\\n",
       "1513  2020-01-09  14:16:27     Kelly  6.0  bc ume cream 400g       21.61   \n",
       "3077  2020-01-18  13:22:43    Lauren  1.0  bc ume cream 400g       21.61   \n",
       "10045 2020-02-28  13:29:31    Sandra  6.0  bc ume cream 400g       21.61   \n",
       "12854 2020-03-12  13:48:14      Paul  1.0  bc ume cream 400g       21.61   \n",
       "12855 2020-03-12  13:48:14      Paul  1.0  bc ume cream 400g       21.61   \n",
       "12856 2020-03-12  13:48:14      Paul  1.0  bc ume cream 400g       21.61   \n",
       "12857 2020-03-12  13:48:14      Paul  1.0  bc ume cream 400g       21.61   \n",
       "12858 2020-03-12  13:48:14      Paul  1.0  bc ume cream 400g       21.61   \n",
       "12859 2020-03-12  13:48:14      Paul  1.0  bc ume cream 400g       21.61   \n",
       "24408 2020-05-07  09:56:41      Paul  1.0  bc ume cream 400g       21.61   \n",
       "32779 2020-06-23  14:43:03    Monina  6.0  bc ume cream 400g       21.61   \n",
       "37868 2020-07-23  13:40:16    Lauren  6.0  bc ume cream 400g       21.61   \n",
       "51300 2020-10-06  14:07:31     Diane  1.0  bc ume cream 400g       22.12   \n",
       "\n",
       "        cost  pdiscount    gst  sellprice  grosssales  \n",
       "1513   36.59      21.95  19.76     217.36      219.55  \n",
       "3077   34.58       0.00   3.46      38.04       45.34  \n",
       "10045  36.59       0.00  21.95     241.50      219.55  \n",
       "12854  33.59       0.00   3.36      36.95      201.55  \n",
       "12855  33.59       0.00   3.36      36.95      201.55  \n",
       "12856  33.59       0.00   3.36      36.95      201.55  \n",
       "12857  33.59       0.00   3.36      36.95      201.55  \n",
       "12858  33.59       0.00   3.36      36.95      201.55  \n",
       "12859  33.59       0.00   3.36      36.95      201.55  \n",
       "24408  36.59       0.00   3.66      40.25       52.95  \n",
       "32779  36.59      17.56  20.20     222.18      219.55  \n",
       "37868  36.59       0.00  21.95     241.50      219.55  \n",
       "51300  34.31       0.00   3.43      37.74       49.00  "
      ]
     },
     "execution_count": 32,
     "metadata": {},
     "output_type": "execute_result"
    }
   ],
   "source": [
    "bc.loc[bc['descr']=='bc ume cream 400g']"
   ]
  },
  {
   "cell_type": "code",
   "execution_count": 33,
   "id": "5cd236e5",
   "metadata": {},
   "outputs": [],
   "source": [
    "ume_cream = []\n",
    "\n",
    "for q in df['descr']:\n",
    "    if q==\"bc ume cream 400g\":\n",
    "        ume_cream.append('1')\n",
    "    else:\n",
    "        ume_cream.append('0')\n"
   ]
  },
  {
   "cell_type": "code",
   "execution_count": 34,
   "id": "428248f7",
   "metadata": {},
   "outputs": [
    {
     "data": {
      "text/plain": [
       "0    65521\n",
       "1       13\n",
       "Name: ume_cream, dtype: int64"
      ]
     },
     "execution_count": 34,
     "metadata": {},
     "output_type": "execute_result"
    }
   ],
   "source": [
    "df['ume_cream'] = pd.DataFrame(ume_cream, columns = ['ume_cream'])\n",
    "df['ume_cream'].value_counts()"
   ]
  },
  {
   "cell_type": "code",
   "execution_count": 35,
   "id": "dddfb446",
   "metadata": {},
   "outputs": [
    {
     "data": {
      "text/html": [
       "<div>\n",
       "<style scoped>\n",
       "    .dataframe tbody tr th:only-of-type {\n",
       "        vertical-align: middle;\n",
       "    }\n",
       "\n",
       "    .dataframe tbody tr th {\n",
       "        vertical-align: top;\n",
       "    }\n",
       "\n",
       "    .dataframe thead th {\n",
       "        text-align: right;\n",
       "    }\n",
       "</style>\n",
       "<table border=\"1\" class=\"dataframe\">\n",
       "  <thead>\n",
       "    <tr style=\"text-align: right;\">\n",
       "      <th></th>\n",
       "      <th>sale_date</th>\n",
       "      <th>sale_time</th>\n",
       "      <th>clerkname</th>\n",
       "      <th>qty</th>\n",
       "      <th>descr</th>\n",
       "      <th>last_price</th>\n",
       "      <th>cost</th>\n",
       "      <th>pdiscount</th>\n",
       "      <th>gst</th>\n",
       "      <th>sellprice</th>\n",
       "      <th>grosssales</th>\n",
       "      <th>brand2</th>\n",
       "      <th>ume_cream</th>\n",
       "    </tr>\n",
       "  </thead>\n",
       "  <tbody>\n",
       "    <tr>\n",
       "      <th>0</th>\n",
       "      <td>2020-01-01</td>\n",
       "      <td>09:35:38</td>\n",
       "      <td>Monina</td>\n",
       "      <td>1.0</td>\n",
       "      <td>gvc pb peru balsam</td>\n",
       "      <td>3.45</td>\n",
       "      <td>19.95</td>\n",
       "      <td>1.00</td>\n",
       "      <td>0.00</td>\n",
       "      <td>18.95</td>\n",
       "      <td>250.41</td>\n",
       "      <td>gvc</td>\n",
       "      <td>0</td>\n",
       "    </tr>\n",
       "    <tr>\n",
       "      <th>1</th>\n",
       "      <td>2020-01-01</td>\n",
       "      <td>09:35:38</td>\n",
       "      <td>Monina</td>\n",
       "      <td>1.0</td>\n",
       "      <td>nv zinc comp 60t</td>\n",
       "      <td>5.09</td>\n",
       "      <td>10.32</td>\n",
       "      <td>0.52</td>\n",
       "      <td>0.98</td>\n",
       "      <td>10.78</td>\n",
       "      <td>250.41</td>\n",
       "      <td>nv</td>\n",
       "      <td>0</td>\n",
       "    </tr>\n",
       "    <tr>\n",
       "      <th>2</th>\n",
       "      <td>2020-01-01</td>\n",
       "      <td>09:35:38</td>\n",
       "      <td>Monina</td>\n",
       "      <td>1.0</td>\n",
       "      <td>tres b plus 150t</td>\n",
       "      <td>49.17</td>\n",
       "      <td>80.59</td>\n",
       "      <td>4.03</td>\n",
       "      <td>7.66</td>\n",
       "      <td>84.22</td>\n",
       "      <td>250.41</td>\n",
       "      <td>tres</td>\n",
       "      <td>0</td>\n",
       "    </tr>\n",
       "    <tr>\n",
       "      <th>3</th>\n",
       "      <td>2020-01-01</td>\n",
       "      <td>09:35:38</td>\n",
       "      <td>Monina</td>\n",
       "      <td>1.0</td>\n",
       "      <td>md goats yog (b) 500</td>\n",
       "      <td>4.50</td>\n",
       "      <td>7.10</td>\n",
       "      <td>0.36</td>\n",
       "      <td>0.00</td>\n",
       "      <td>6.74</td>\n",
       "      <td>250.41</td>\n",
       "      <td>md</td>\n",
       "      <td>0</td>\n",
       "    </tr>\n",
       "    <tr>\n",
       "      <th>4</th>\n",
       "      <td>2020-01-01</td>\n",
       "      <td>09:35:39</td>\n",
       "      <td>Monina</td>\n",
       "      <td>1.0</td>\n",
       "      <td>aroma bloom wood pea</td>\n",
       "      <td>52.25</td>\n",
       "      <td>90.64</td>\n",
       "      <td>4.53</td>\n",
       "      <td>8.61</td>\n",
       "      <td>94.72</td>\n",
       "      <td>250.41</td>\n",
       "      <td>aroma</td>\n",
       "      <td>0</td>\n",
       "    </tr>\n",
       "  </tbody>\n",
       "</table>\n",
       "</div>"
      ],
      "text/plain": [
       "   sale_date sale_time clerkname  qty                 descr  last_price  \\\n",
       "0 2020-01-01  09:35:38    Monina  1.0    gvc pb peru balsam        3.45   \n",
       "1 2020-01-01  09:35:38    Monina  1.0      nv zinc comp 60t        5.09   \n",
       "2 2020-01-01  09:35:38    Monina  1.0      tres b plus 150t       49.17   \n",
       "3 2020-01-01  09:35:38    Monina  1.0  md goats yog (b) 500        4.50   \n",
       "4 2020-01-01  09:35:39    Monina  1.0  aroma bloom wood pea       52.25   \n",
       "\n",
       "    cost  pdiscount   gst  sellprice  grosssales brand2 ume_cream  \n",
       "0  19.95       1.00  0.00      18.95      250.41    gvc         0  \n",
       "1  10.32       0.52  0.98      10.78      250.41     nv         0  \n",
       "2  80.59       4.03  7.66      84.22      250.41   tres         0  \n",
       "3   7.10       0.36  0.00       6.74      250.41     md         0  \n",
       "4  90.64       4.53  8.61      94.72      250.41  aroma         0  "
      ]
     },
     "execution_count": 35,
     "metadata": {},
     "output_type": "execute_result"
    }
   ],
   "source": [
    "df.head()"
   ]
  },
  {
   "cell_type": "code",
   "execution_count": 36,
   "id": "02a17c0e",
   "metadata": {},
   "outputs": [
    {
     "data": {
      "text/plain": [
       "0    65521\n",
       "1       13\n",
       "Name: ume_cream, dtype: int64"
      ]
     },
     "execution_count": 36,
     "metadata": {},
     "output_type": "execute_result"
    }
   ],
   "source": [
    "df.ume_cream.value_counts()"
   ]
  },
  {
   "cell_type": "code",
   "execution_count": 37,
   "id": "c67e5877",
   "metadata": {},
   "outputs": [
    {
     "data": {
      "text/plain": [
       "sale_date     datetime64[ns]\n",
       "sale_time             object\n",
       "clerkname             object\n",
       "qty                  float64\n",
       "descr                 object\n",
       "last_price           float64\n",
       "cost                 float64\n",
       "pdiscount            float64\n",
       "gst                  float64\n",
       "sellprice            float64\n",
       "grosssales           float64\n",
       "brand2                object\n",
       "ume_cream             object\n",
       "dtype: object"
      ]
     },
     "execution_count": 37,
     "metadata": {},
     "output_type": "execute_result"
    }
   ],
   "source": [
    "df.dtypes"
   ]
  },
  {
   "cell_type": "code",
   "execution_count": 38,
   "id": "da04b8fe",
   "metadata": {},
   "outputs": [],
   "source": [
    "df.ume_cream = df.ume_cream.astype(float)"
   ]
  },
  {
   "cell_type": "code",
   "execution_count": 39,
   "id": "f61df7d1",
   "metadata": {},
   "outputs": [
    {
     "data": {
      "text/plain": [
       "sale_date     datetime64[ns]\n",
       "sale_time             object\n",
       "clerkname             object\n",
       "qty                  float64\n",
       "descr                 object\n",
       "last_price           float64\n",
       "cost                 float64\n",
       "pdiscount            float64\n",
       "gst                  float64\n",
       "sellprice            float64\n",
       "grosssales           float64\n",
       "brand2                object\n",
       "ume_cream            float64\n",
       "dtype: object"
      ]
     },
     "execution_count": 39,
     "metadata": {},
     "output_type": "execute_result"
    }
   ],
   "source": [
    "df.dtypes"
   ]
  },
  {
   "cell_type": "code",
   "execution_count": 40,
   "id": "1daa2db1",
   "metadata": {},
   "outputs": [
    {
     "data": {
      "text/plain": [
       "<AxesSubplot:xlabel='sale_date'>"
      ]
     },
     "execution_count": 40,
     "metadata": {},
     "output_type": "execute_result"
    },
    {
     "data": {
      "image/png": "[encoded data removed]",
      "text/plain": [
       "<Figure size 432x288 with 1 Axes>"
      ]
     },
     "metadata": {
      "image/png": {
       "height": 259,
       "width": 424
      },
      "needs_background": "light"
     },
     "output_type": "display_data"
    }
   ],
   "source": [
    "df2 = df.loc[(df.descr == 'bc ume cream 400g')][['sale_date', 'ume_cream']].copy()\n",
    "df2 = df2.loc[(df2.sale_date >= '2020-01-01') & (df2.sale_date <= '2020-12-24')]\n",
    "df2.set_index('sale_date').ume_cream.plot()"
   ]
  },
  {
   "cell_type": "code",
   "execution_count": 41,
   "id": "5868d17c",
   "metadata": {},
   "outputs": [
    {
     "data": {
      "text/plain": [
       "3339.3500000000004"
      ]
     },
     "execution_count": 41,
     "metadata": {},
     "output_type": "execute_result"
    }
   ],
   "source": [
    "df['pdiscount'].sum()"
   ]
  },
  {
   "cell_type": "code",
   "execution_count": 42,
   "id": "ff3254d3",
   "metadata": {},
   "outputs": [
    {
     "data": {
      "text/html": [
       "<div>\n",
       "<style scoped>\n",
       "    .dataframe tbody tr th:only-of-type {\n",
       "        vertical-align: middle;\n",
       "    }\n",
       "\n",
       "    .dataframe tbody tr th {\n",
       "        vertical-align: top;\n",
       "    }\n",
       "\n",
       "    .dataframe thead th {\n",
       "        text-align: right;\n",
       "    }\n",
       "</style>\n",
       "<table border=\"1\" class=\"dataframe\">\n",
       "  <thead>\n",
       "    <tr style=\"text-align: right;\">\n",
       "      <th></th>\n",
       "      <th>sale_date</th>\n",
       "      <th>sale_time</th>\n",
       "      <th>clerkname</th>\n",
       "      <th>qty</th>\n",
       "      <th>descr</th>\n",
       "      <th>last_price</th>\n",
       "      <th>cost</th>\n",
       "      <th>pdiscount</th>\n",
       "      <th>gst</th>\n",
       "      <th>sellprice</th>\n",
       "      <th>grosssales</th>\n",
       "      <th>brand2</th>\n",
       "      <th>ume_cream</th>\n",
       "    </tr>\n",
       "  </thead>\n",
       "  <tbody>\n",
       "    <tr>\n",
       "      <th>0</th>\n",
       "      <td>2020-01-01</td>\n",
       "      <td>09:35:38</td>\n",
       "      <td>Monina</td>\n",
       "      <td>1.0</td>\n",
       "      <td>gvc pb peru balsam</td>\n",
       "      <td>3.45</td>\n",
       "      <td>19.95</td>\n",
       "      <td>1.00</td>\n",
       "      <td>0.00</td>\n",
       "      <td>18.95</td>\n",
       "      <td>250.41</td>\n",
       "      <td>gvc</td>\n",
       "      <td>0.0</td>\n",
       "    </tr>\n",
       "    <tr>\n",
       "      <th>1</th>\n",
       "      <td>2020-01-01</td>\n",
       "      <td>09:35:38</td>\n",
       "      <td>Monina</td>\n",
       "      <td>1.0</td>\n",
       "      <td>nv zinc comp 60t</td>\n",
       "      <td>5.09</td>\n",
       "      <td>10.32</td>\n",
       "      <td>0.52</td>\n",
       "      <td>0.98</td>\n",
       "      <td>10.78</td>\n",
       "      <td>250.41</td>\n",
       "      <td>nv</td>\n",
       "      <td>0.0</td>\n",
       "    </tr>\n",
       "    <tr>\n",
       "      <th>2</th>\n",
       "      <td>2020-01-01</td>\n",
       "      <td>09:35:38</td>\n",
       "      <td>Monina</td>\n",
       "      <td>1.0</td>\n",
       "      <td>tres b plus 150t</td>\n",
       "      <td>49.17</td>\n",
       "      <td>80.59</td>\n",
       "      <td>4.03</td>\n",
       "      <td>7.66</td>\n",
       "      <td>84.22</td>\n",
       "      <td>250.41</td>\n",
       "      <td>tres</td>\n",
       "      <td>0.0</td>\n",
       "    </tr>\n",
       "    <tr>\n",
       "      <th>3</th>\n",
       "      <td>2020-01-01</td>\n",
       "      <td>09:35:38</td>\n",
       "      <td>Monina</td>\n",
       "      <td>1.0</td>\n",
       "      <td>md goats yog (b) 500</td>\n",
       "      <td>4.50</td>\n",
       "      <td>7.10</td>\n",
       "      <td>0.36</td>\n",
       "      <td>0.00</td>\n",
       "      <td>6.74</td>\n",
       "      <td>250.41</td>\n",
       "      <td>md</td>\n",
       "      <td>0.0</td>\n",
       "    </tr>\n",
       "    <tr>\n",
       "      <th>4</th>\n",
       "      <td>2020-01-01</td>\n",
       "      <td>09:35:39</td>\n",
       "      <td>Monina</td>\n",
       "      <td>1.0</td>\n",
       "      <td>aroma bloom wood pea</td>\n",
       "      <td>52.25</td>\n",
       "      <td>90.64</td>\n",
       "      <td>4.53</td>\n",
       "      <td>8.61</td>\n",
       "      <td>94.72</td>\n",
       "      <td>250.41</td>\n",
       "      <td>aroma</td>\n",
       "      <td>0.0</td>\n",
       "    </tr>\n",
       "  </tbody>\n",
       "</table>\n",
       "</div>"
      ],
      "text/plain": [
       "   sale_date sale_time clerkname  qty                 descr  last_price  \\\n",
       "0 2020-01-01  09:35:38    Monina  1.0    gvc pb peru balsam        3.45   \n",
       "1 2020-01-01  09:35:38    Monina  1.0      nv zinc comp 60t        5.09   \n",
       "2 2020-01-01  09:35:38    Monina  1.0      tres b plus 150t       49.17   \n",
       "3 2020-01-01  09:35:38    Monina  1.0  md goats yog (b) 500        4.50   \n",
       "4 2020-01-01  09:35:39    Monina  1.0  aroma bloom wood pea       52.25   \n",
       "\n",
       "    cost  pdiscount   gst  sellprice  grosssales brand2  ume_cream  \n",
       "0  19.95       1.00  0.00      18.95      250.41    gvc        0.0  \n",
       "1  10.32       0.52  0.98      10.78      250.41     nv        0.0  \n",
       "2  80.59       4.03  7.66      84.22      250.41   tres        0.0  \n",
       "3   7.10       0.36  0.00       6.74      250.41     md        0.0  \n",
       "4  90.64       4.53  8.61      94.72      250.41  aroma        0.0  "
      ]
     },
     "execution_count": 42,
     "metadata": {},
     "output_type": "execute_result"
    }
   ],
   "source": [
    "df.head()"
   ]
  },
  {
   "cell_type": "code",
   "execution_count": 43,
   "id": "5a871db0",
   "metadata": {},
   "outputs": [
    {
     "data": {
      "text/plain": [
       "502586.80000000005"
      ]
     },
     "execution_count": 43,
     "metadata": {},
     "output_type": "execute_result"
    }
   ],
   "source": [
    "df['profit'] = df['sellprice']-df['gst']-df['pdiscount']-df['last_price']\n",
    "df['profit'].sum()"
   ]
  },
  {
   "cell_type": "code",
   "execution_count": 44,
   "id": "324aacf7",
   "metadata": {},
   "outputs": [
    {
     "data": {
      "text/plain": [
       "485013.62999999995"
      ]
     },
     "execution_count": 44,
     "metadata": {},
     "output_type": "execute_result"
    }
   ],
   "source": [
    "df['overhead'] = df['cost']-df['last_price']\n",
    "df['overhead'].sum()"
   ]
  },
  {
   "cell_type": "code",
   "execution_count": 45,
   "id": "5ce4f58e",
   "metadata": {},
   "outputs": [
    {
     "data": {
      "text/html": [
       "<div>\n",
       "<style scoped>\n",
       "    .dataframe tbody tr th:only-of-type {\n",
       "        vertical-align: middle;\n",
       "    }\n",
       "\n",
       "    .dataframe tbody tr th {\n",
       "        vertical-align: top;\n",
       "    }\n",
       "\n",
       "    .dataframe thead th {\n",
       "        text-align: right;\n",
       "    }\n",
       "</style>\n",
       "<table border=\"1\" class=\"dataframe\">\n",
       "  <thead>\n",
       "    <tr style=\"text-align: right;\">\n",
       "      <th></th>\n",
       "      <th>sale_date</th>\n",
       "      <th>sale_time</th>\n",
       "      <th>clerkname</th>\n",
       "      <th>qty</th>\n",
       "      <th>descr</th>\n",
       "      <th>last_price</th>\n",
       "      <th>cost</th>\n",
       "      <th>pdiscount</th>\n",
       "      <th>gst</th>\n",
       "      <th>sellprice</th>\n",
       "      <th>grosssales</th>\n",
       "      <th>brand2</th>\n",
       "      <th>ume_cream</th>\n",
       "      <th>profit</th>\n",
       "      <th>overhead</th>\n",
       "    </tr>\n",
       "  </thead>\n",
       "  <tbody>\n",
       "    <tr>\n",
       "      <th>0</th>\n",
       "      <td>2020-01-01</td>\n",
       "      <td>09:35:38</td>\n",
       "      <td>Monina</td>\n",
       "      <td>1.0</td>\n",
       "      <td>gvc pb peru balsam</td>\n",
       "      <td>3.45</td>\n",
       "      <td>19.95</td>\n",
       "      <td>1.00</td>\n",
       "      <td>0.00</td>\n",
       "      <td>18.95</td>\n",
       "      <td>250.41</td>\n",
       "      <td>gvc</td>\n",
       "      <td>0.0</td>\n",
       "      <td>14.50</td>\n",
       "      <td>16.50</td>\n",
       "    </tr>\n",
       "    <tr>\n",
       "      <th>1</th>\n",
       "      <td>2020-01-01</td>\n",
       "      <td>09:35:38</td>\n",
       "      <td>Monina</td>\n",
       "      <td>1.0</td>\n",
       "      <td>nv zinc comp 60t</td>\n",
       "      <td>5.09</td>\n",
       "      <td>10.32</td>\n",
       "      <td>0.52</td>\n",
       "      <td>0.98</td>\n",
       "      <td>10.78</td>\n",
       "      <td>250.41</td>\n",
       "      <td>nv</td>\n",
       "      <td>0.0</td>\n",
       "      <td>4.19</td>\n",
       "      <td>5.23</td>\n",
       "    </tr>\n",
       "    <tr>\n",
       "      <th>2</th>\n",
       "      <td>2020-01-01</td>\n",
       "      <td>09:35:38</td>\n",
       "      <td>Monina</td>\n",
       "      <td>1.0</td>\n",
       "      <td>tres b plus 150t</td>\n",
       "      <td>49.17</td>\n",
       "      <td>80.59</td>\n",
       "      <td>4.03</td>\n",
       "      <td>7.66</td>\n",
       "      <td>84.22</td>\n",
       "      <td>250.41</td>\n",
       "      <td>tres</td>\n",
       "      <td>0.0</td>\n",
       "      <td>23.36</td>\n",
       "      <td>31.42</td>\n",
       "    </tr>\n",
       "    <tr>\n",
       "      <th>3</th>\n",
       "      <td>2020-01-01</td>\n",
       "      <td>09:35:38</td>\n",
       "      <td>Monina</td>\n",
       "      <td>1.0</td>\n",
       "      <td>md goats yog (b) 500</td>\n",
       "      <td>4.50</td>\n",
       "      <td>7.10</td>\n",
       "      <td>0.36</td>\n",
       "      <td>0.00</td>\n",
       "      <td>6.74</td>\n",
       "      <td>250.41</td>\n",
       "      <td>md</td>\n",
       "      <td>0.0</td>\n",
       "      <td>1.88</td>\n",
       "      <td>2.60</td>\n",
       "    </tr>\n",
       "    <tr>\n",
       "      <th>4</th>\n",
       "      <td>2020-01-01</td>\n",
       "      <td>09:35:39</td>\n",
       "      <td>Monina</td>\n",
       "      <td>1.0</td>\n",
       "      <td>aroma bloom wood pea</td>\n",
       "      <td>52.25</td>\n",
       "      <td>90.64</td>\n",
       "      <td>4.53</td>\n",
       "      <td>8.61</td>\n",
       "      <td>94.72</td>\n",
       "      <td>250.41</td>\n",
       "      <td>aroma</td>\n",
       "      <td>0.0</td>\n",
       "      <td>29.33</td>\n",
       "      <td>38.39</td>\n",
       "    </tr>\n",
       "  </tbody>\n",
       "</table>\n",
       "</div>"
      ],
      "text/plain": [
       "   sale_date sale_time clerkname  qty                 descr  last_price  \\\n",
       "0 2020-01-01  09:35:38    Monina  1.0    gvc pb peru balsam        3.45   \n",
       "1 2020-01-01  09:35:38    Monina  1.0      nv zinc comp 60t        5.09   \n",
       "2 2020-01-01  09:35:38    Monina  1.0      tres b plus 150t       49.17   \n",
       "3 2020-01-01  09:35:38    Monina  1.0  md goats yog (b) 500        4.50   \n",
       "4 2020-01-01  09:35:39    Monina  1.0  aroma bloom wood pea       52.25   \n",
       "\n",
       "    cost  pdiscount   gst  sellprice  grosssales brand2  ume_cream  profit  \\\n",
       "0  19.95       1.00  0.00      18.95      250.41    gvc        0.0   14.50   \n",
       "1  10.32       0.52  0.98      10.78      250.41     nv        0.0    4.19   \n",
       "2  80.59       4.03  7.66      84.22      250.41   tres        0.0   23.36   \n",
       "3   7.10       0.36  0.00       6.74      250.41     md        0.0    1.88   \n",
       "4  90.64       4.53  8.61      94.72      250.41  aroma        0.0   29.33   \n",
       "\n",
       "   overhead  \n",
       "0     16.50  \n",
       "1      5.23  \n",
       "2     31.42  \n",
       "3      2.60  \n",
       "4     38.39  "
      ]
     },
     "execution_count": 45,
     "metadata": {},
     "output_type": "execute_result"
    }
   ],
   "source": [
    "df.head()"
   ]
  },
  {
   "cell_type": "code",
   "execution_count": 46,
   "id": "f926187c",
   "metadata": {},
   "outputs": [
    {
     "data": {
      "text/plain": [
       "9.75        1\n",
       "45.87       1\n",
       "32.40       1\n",
       "2.25        1\n",
       "32.74       1\n",
       "         ... \n",
       "0.41      388\n",
       "2.26      434\n",
       "2.98      523\n",
       "7.10      585\n",
       "2.00     2225\n",
       "Name: overhead, Length: 4237, dtype: int64"
      ]
     },
     "execution_count": 46,
     "metadata": {},
     "output_type": "execute_result"
    }
   ],
   "source": [
    "df.overhead.value_counts().sort_values()"
   ]
  },
  {
   "cell_type": "code",
   "execution_count": 52,
   "id": "a233b57a",
   "metadata": {},
   "outputs": [
    {
     "data": {
      "text/plain": [
       "17573.1700000001"
      ]
     },
     "execution_count": 52,
     "metadata": {},
     "output_type": "execute_result"
    }
   ],
   "source": [
    "df['profit'].sum() - df['overhead'].sum()"
   ]
  },
  {
   "cell_type": "code",
   "execution_count": 53,
   "id": "73adf8f6",
   "metadata": {},
   "outputs": [],
   "source": [
    "bioc = []\n",
    "\n",
    "for b in df['brand2']:\n",
    "    if b=='bc':\n",
    "        bioc.append('1')\n",
    "    else:\n",
    "        bioc.append('0')"
   ]
  },
  {
   "cell_type": "code",
   "execution_count": 54,
   "id": "1e0a76f6",
   "metadata": {},
   "outputs": [],
   "source": [
    "df['bioc'] = pd.DataFrame(bioc, columns=['bioc'])"
   ]
  },
  {
   "cell_type": "code",
   "execution_count": 55,
   "id": "e5f5eedf",
   "metadata": {},
   "outputs": [],
   "source": [
    "df.bioc = df.bioc.astype(float)"
   ]
  },
  {
   "cell_type": "code",
   "execution_count": 56,
   "id": "c45e5fd6",
   "metadata": {},
   "outputs": [
    {
     "data": {
      "text/plain": [
       "0.0    62871\n",
       "1.0     2663\n",
       "Name: bioc, dtype: int64"
      ]
     },
     "execution_count": 56,
     "metadata": {},
     "output_type": "execute_result"
    }
   ],
   "source": [
    "df.bioc.value_counts()"
   ]
  },
  {
   "cell_type": "code",
   "execution_count": 57,
   "id": "2c35c4c9",
   "metadata": {},
   "outputs": [
    {
     "data": {
      "text/plain": [
       "<AxesSubplot:xlabel='sale_date'>"
      ]
     },
     "execution_count": 57,
     "metadata": {},
     "output_type": "execute_result"
    },
    {
     "data": {
      "image/png": "[encoded data removed]",
      "text/plain": [
       "<Figure size 432x288 with 1 Axes>"
      ]
     },
     "metadata": {
      "image/png": {
       "height": 259,
       "width": 415
      },
      "needs_background": "light"
     },
     "output_type": "display_data"
    }
   ],
   "source": [
    "df3 = df.loc[(df.brand2 == 'bc')][['sale_date', 'bioc']].copy()\n",
    "df3 = df3.loc[(df3.sale_date >= '2020-01-01') & (df3.sale_date <= '2020-12-24')]\n",
    "df3.set_index('sale_date').bioc.plot()"
   ]
  },
  {
   "cell_type": "code",
   "execution_count": 58,
   "id": "767bf074",
   "metadata": {},
   "outputs": [
    {
     "data": {
      "text/plain": [
       "Index(['sale_date', 'sale_time', 'clerkname', 'qty', 'descr', 'last_price',\n",
       "       'cost', 'pdiscount', 'gst', 'sellprice', 'grosssales', 'brand2',\n",
       "       'ume_cream', 'profit', 'overhead', 'bioc'],\n",
       "      dtype='object')"
      ]
     },
     "execution_count": 58,
     "metadata": {},
     "output_type": "execute_result"
    }
   ],
   "source": [
    "df.columns"
   ]
  },
  {
   "cell_type": "code",
   "execution_count": 59,
   "id": "7aa616b3",
   "metadata": {},
   "outputs": [],
   "source": [
    "ts = df.drop(labels=['sale_time', 'clerkname', 'qty', 'descr', 'last_price',\n",
    "       'cost', 'pdiscount', 'gst', 'sellprice', 'grosssales', 'brand2',\n",
    "       'ume_cream', 'overhead', 'bioc'], axis=1)"
   ]
  },
  {
   "cell_type": "code",
   "execution_count": 60,
   "id": "4275c746",
   "metadata": {},
   "outputs": [
    {
     "ename": "IndentationError",
     "evalue": "unexpected indent (1490016132.py, line 3)",
     "output_type": "error",
     "traceback": [
      "\u001b[0;36m  Input \u001b[0;32mIn [60]\u001b[0;36m\u001b[0m\n\u001b[0;31m    plt.figure(figsize=(16,5), dpi=100)\u001b[0m\n\u001b[0m    ^\u001b[0m\n\u001b[0;31mIndentationError\u001b[0m\u001b[0;31m:\u001b[0m unexpected indent\n"
     ]
    }
   ],
   "source": [
    "x = ts['sale_date']\n",
    "y = ts['profit']\n",
    "    plt.figure(figsize=(16,5), dpi=100)\n",
    "    plt.plot(x, y, color='tab:red')\n",
    "    plt.gca().set(title=\"profit\", xlabel='sale_date', ylabel='profit')\n",
    "    plt.show()"
   ]
  },
  {
   "cell_type": "code",
   "execution_count": null,
   "id": "3f7a6fb1",
   "metadata": {},
   "outputs": [],
   "source": [
    "df4 = df.loc[(df.brand2 == 'bc')][['sale_date', 'bioc']].copy()\n",
    "df3 = df3.loc[(df3.sale_date >= '2020-01-01') & (df3.sale_date <= '2020-12-24')]\n",
    "df3.set_index('sale_date').bioc.plot()"
   ]
  }
 ],
 "metadata": {
  "kernelspec": {
   "display_name": "Python 3 (ipykernel)",
   "language": "python",
   "name": "python3"
  },
  "language_info": {
   "codemirror_mode": {
    "name": "ipython",
    "version": 3
   },
   "file_extension": ".py",
   "mimetype": "text/x-python",
   "name": "python",
   "nbconvert_exporter": "python",
   "pygments_lexer": "ipython3",
   "version": "3.8.13"
  }
 },
 "nbformat": 4,
 "nbformat_minor": 5
}
