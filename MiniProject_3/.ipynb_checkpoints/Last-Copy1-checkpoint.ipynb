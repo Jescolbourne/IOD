{
 "cells": [
  {
   "cell_type": "code",
   "execution_count": 37,
   "id": "7023ee89",
   "metadata": {},
   "outputs": [],
   "source": [
    "import numpy as np # linear algebra\n",
    "import pandas as pd # data processing, CSV file I/O (e.g. pd.read_csv)\n",
    "import os\n",
    "from subprocess import check_output\n",
    "import seaborn as sns\n",
    "import matplotlib.pyplot as plt\n",
    "import warnings\n",
    "from pandas.plotting import lag_plot\n",
    "from pandas import datetime\n",
    "from statsmodels.tsa.arima_model import ARIMA\n",
    "from sklearn import preprocessing\n",
    "from sklearn.preprocessing import StandardScaler\n",
    "from sklearn.preprocessing import MinMaxScaler\n",
    "from sklearn.metrics import mean_squared_error\n",
    "from sklearn.metrics import r2_score, median_absolute_error, mean_absolute_error\n",
    "from sklearn.metrics import median_absolute_error, mean_squared_error, mean_squared_log_error\n",
    "\n",
    "from scipy.optimize import minimize\n",
    "import statsmodels.tsa.api as smt\n",
    "import statsmodels.api as sm\n",
    "\n",
    "from tqdm import tqdm_notebook\n",
    "\n",
    "from itertools import product\n",
    "warnings.filterwarnings('ignore')"
   ]
  },
  {
   "cell_type": "code",
   "execution_count": 3,
   "id": "acec620a",
   "metadata": {},
   "outputs": [],
   "source": [
    "cba = pd.read_excel('CBAmax.xls')"
   ]
  },
  {
   "cell_type": "code",
   "execution_count": 4,
   "id": "1c08d094",
   "metadata": {},
   "outputs": [
    {
     "data": {
      "text/html": [
       "<div>\n",
       "<style scoped>\n",
       "    .dataframe tbody tr th:only-of-type {\n",
       "        vertical-align: middle;\n",
       "    }\n",
       "\n",
       "    .dataframe tbody tr th {\n",
       "        vertical-align: top;\n",
       "    }\n",
       "\n",
       "    .dataframe thead th {\n",
       "        text-align: right;\n",
       "    }\n",
       "</style>\n",
       "<table border=\"1\" class=\"dataframe\">\n",
       "  <thead>\n",
       "    <tr style=\"text-align: right;\">\n",
       "      <th></th>\n",
       "      <th>Date</th>\n",
       "      <th>Open</th>\n",
       "      <th>High</th>\n",
       "      <th>Low</th>\n",
       "      <th>Close</th>\n",
       "      <th>Adj Close</th>\n",
       "      <th>Volume</th>\n",
       "    </tr>\n",
       "  </thead>\n",
       "  <tbody>\n",
       "    <tr>\n",
       "      <th>0</th>\n",
       "      <td>1991-10-01</td>\n",
       "      <td>6.78662</td>\n",
       "      <td>6.78662</td>\n",
       "      <td>6.78662</td>\n",
       "      <td>6.78662</td>\n",
       "      <td>1.290987</td>\n",
       "      <td>0</td>\n",
       "    </tr>\n",
       "    <tr>\n",
       "      <th>1</th>\n",
       "      <td>1991-10-02</td>\n",
       "      <td>6.78662</td>\n",
       "      <td>6.78662</td>\n",
       "      <td>6.78662</td>\n",
       "      <td>6.78662</td>\n",
       "      <td>1.290987</td>\n",
       "      <td>0</td>\n",
       "    </tr>\n",
       "    <tr>\n",
       "      <th>2</th>\n",
       "      <td>1991-10-03</td>\n",
       "      <td>6.78662</td>\n",
       "      <td>6.78662</td>\n",
       "      <td>6.78662</td>\n",
       "      <td>6.78662</td>\n",
       "      <td>1.290987</td>\n",
       "      <td>0</td>\n",
       "    </tr>\n",
       "    <tr>\n",
       "      <th>3</th>\n",
       "      <td>1991-10-04</td>\n",
       "      <td>6.78662</td>\n",
       "      <td>6.78662</td>\n",
       "      <td>6.78662</td>\n",
       "      <td>6.78662</td>\n",
       "      <td>1.290987</td>\n",
       "      <td>0</td>\n",
       "    </tr>\n",
       "    <tr>\n",
       "      <th>4</th>\n",
       "      <td>1991-10-07</td>\n",
       "      <td>6.78662</td>\n",
       "      <td>6.78662</td>\n",
       "      <td>6.78662</td>\n",
       "      <td>6.78662</td>\n",
       "      <td>1.290987</td>\n",
       "      <td>0</td>\n",
       "    </tr>\n",
       "  </tbody>\n",
       "</table>\n",
       "</div>"
      ],
      "text/plain": [
       "        Date     Open     High      Low    Close  Adj Close  Volume\n",
       "0 1991-10-01  6.78662  6.78662  6.78662  6.78662   1.290987       0\n",
       "1 1991-10-02  6.78662  6.78662  6.78662  6.78662   1.290987       0\n",
       "2 1991-10-03  6.78662  6.78662  6.78662  6.78662   1.290987       0\n",
       "3 1991-10-04  6.78662  6.78662  6.78662  6.78662   1.290987       0\n",
       "4 1991-10-07  6.78662  6.78662  6.78662  6.78662   1.290987       0"
      ]
     },
     "execution_count": 4,
     "metadata": {},
     "output_type": "execute_result"
    }
   ],
   "source": [
    "cba.head()"
   ]
  },
  {
   "cell_type": "code",
   "execution_count": 5,
   "id": "1054c552",
   "metadata": {},
   "outputs": [
    {
     "data": {
      "text/html": [
       "<div>\n",
       "<style scoped>\n",
       "    .dataframe tbody tr th:only-of-type {\n",
       "        vertical-align: middle;\n",
       "    }\n",
       "\n",
       "    .dataframe tbody tr th {\n",
       "        vertical-align: top;\n",
       "    }\n",
       "\n",
       "    .dataframe thead th {\n",
       "        text-align: right;\n",
       "    }\n",
       "</style>\n",
       "<table border=\"1\" class=\"dataframe\">\n",
       "  <thead>\n",
       "    <tr style=\"text-align: right;\">\n",
       "      <th></th>\n",
       "      <th>Date</th>\n",
       "      <th>Open</th>\n",
       "      <th>High</th>\n",
       "      <th>Low</th>\n",
       "      <th>Close</th>\n",
       "      <th>Adj Close</th>\n",
       "      <th>Volume</th>\n",
       "    </tr>\n",
       "  </thead>\n",
       "  <tbody>\n",
       "    <tr>\n",
       "      <th>7856</th>\n",
       "      <td>2022-09-29</td>\n",
       "      <td>93.830002</td>\n",
       "      <td>94.190002</td>\n",
       "      <td>93.120003</td>\n",
       "      <td>93.120003</td>\n",
       "      <td>93.120003</td>\n",
       "      <td>2094138</td>\n",
       "    </tr>\n",
       "    <tr>\n",
       "      <th>7857</th>\n",
       "      <td>2022-09-30</td>\n",
       "      <td>93.220001</td>\n",
       "      <td>93.230003</td>\n",
       "      <td>90.260002</td>\n",
       "      <td>90.699997</td>\n",
       "      <td>90.699997</td>\n",
       "      <td>3741428</td>\n",
       "    </tr>\n",
       "    <tr>\n",
       "      <th>7858</th>\n",
       "      <td>2022-10-03</td>\n",
       "      <td>91.150002</td>\n",
       "      <td>91.370003</td>\n",
       "      <td>89.660004</td>\n",
       "      <td>90.610001</td>\n",
       "      <td>90.610001</td>\n",
       "      <td>2038034</td>\n",
       "    </tr>\n",
       "    <tr>\n",
       "      <th>7859</th>\n",
       "      <td>2022-10-04</td>\n",
       "      <td>92.000000</td>\n",
       "      <td>94.870003</td>\n",
       "      <td>91.889999</td>\n",
       "      <td>94.790001</td>\n",
       "      <td>94.790001</td>\n",
       "      <td>3030551</td>\n",
       "    </tr>\n",
       "    <tr>\n",
       "      <th>7860</th>\n",
       "      <td>2022-10-05</td>\n",
       "      <td>95.989998</td>\n",
       "      <td>97.599998</td>\n",
       "      <td>95.790001</td>\n",
       "      <td>97.290001</td>\n",
       "      <td>97.290001</td>\n",
       "      <td>3840988</td>\n",
       "    </tr>\n",
       "  </tbody>\n",
       "</table>\n",
       "</div>"
      ],
      "text/plain": [
       "           Date       Open       High        Low      Close  Adj Close  \\\n",
       "7856 2022-09-29  93.830002  94.190002  93.120003  93.120003  93.120003   \n",
       "7857 2022-09-30  93.220001  93.230003  90.260002  90.699997  90.699997   \n",
       "7858 2022-10-03  91.150002  91.370003  89.660004  90.610001  90.610001   \n",
       "7859 2022-10-04  92.000000  94.870003  91.889999  94.790001  94.790001   \n",
       "7860 2022-10-05  95.989998  97.599998  95.790001  97.290001  97.290001   \n",
       "\n",
       "       Volume  \n",
       "7856  2094138  \n",
       "7857  3741428  \n",
       "7858  2038034  \n",
       "7859  3030551  \n",
       "7860  3840988  "
      ]
     },
     "execution_count": 5,
     "metadata": {},
     "output_type": "execute_result"
    }
   ],
   "source": [
    "cba.tail()"
   ]
  },
  {
   "cell_type": "code",
   "execution_count": 6,
   "id": "8b73a569",
   "metadata": {},
   "outputs": [],
   "source": [
    "cba.columns = cba.columns.str.lower()"
   ]
  },
  {
   "cell_type": "code",
   "execution_count": 7,
   "id": "aaa7d0f1",
   "metadata": {},
   "outputs": [],
   "source": [
    "cba['movement'] = cba['close']-cba['open']"
   ]
  },
  {
   "cell_type": "code",
   "execution_count": 8,
   "id": "723bfbc1",
   "metadata": {},
   "outputs": [
    {
     "data": {
      "text/html": [
       "<div>\n",
       "<style scoped>\n",
       "    .dataframe tbody tr th:only-of-type {\n",
       "        vertical-align: middle;\n",
       "    }\n",
       "\n",
       "    .dataframe tbody tr th {\n",
       "        vertical-align: top;\n",
       "    }\n",
       "\n",
       "    .dataframe thead th {\n",
       "        text-align: right;\n",
       "    }\n",
       "</style>\n",
       "<table border=\"1\" class=\"dataframe\">\n",
       "  <thead>\n",
       "    <tr style=\"text-align: right;\">\n",
       "      <th></th>\n",
       "      <th>date</th>\n",
       "      <th>open</th>\n",
       "      <th>high</th>\n",
       "      <th>low</th>\n",
       "      <th>close</th>\n",
       "      <th>adj close</th>\n",
       "      <th>volume</th>\n",
       "      <th>movement</th>\n",
       "    </tr>\n",
       "  </thead>\n",
       "  <tbody>\n",
       "    <tr>\n",
       "      <th>0</th>\n",
       "      <td>1991-10-01</td>\n",
       "      <td>6.78662</td>\n",
       "      <td>6.78662</td>\n",
       "      <td>6.78662</td>\n",
       "      <td>6.78662</td>\n",
       "      <td>1.290987</td>\n",
       "      <td>0</td>\n",
       "      <td>0.0</td>\n",
       "    </tr>\n",
       "    <tr>\n",
       "      <th>1</th>\n",
       "      <td>1991-10-02</td>\n",
       "      <td>6.78662</td>\n",
       "      <td>6.78662</td>\n",
       "      <td>6.78662</td>\n",
       "      <td>6.78662</td>\n",
       "      <td>1.290987</td>\n",
       "      <td>0</td>\n",
       "      <td>0.0</td>\n",
       "    </tr>\n",
       "    <tr>\n",
       "      <th>2</th>\n",
       "      <td>1991-10-03</td>\n",
       "      <td>6.78662</td>\n",
       "      <td>6.78662</td>\n",
       "      <td>6.78662</td>\n",
       "      <td>6.78662</td>\n",
       "      <td>1.290987</td>\n",
       "      <td>0</td>\n",
       "      <td>0.0</td>\n",
       "    </tr>\n",
       "    <tr>\n",
       "      <th>3</th>\n",
       "      <td>1991-10-04</td>\n",
       "      <td>6.78662</td>\n",
       "      <td>6.78662</td>\n",
       "      <td>6.78662</td>\n",
       "      <td>6.78662</td>\n",
       "      <td>1.290987</td>\n",
       "      <td>0</td>\n",
       "      <td>0.0</td>\n",
       "    </tr>\n",
       "    <tr>\n",
       "      <th>4</th>\n",
       "      <td>1991-10-07</td>\n",
       "      <td>6.78662</td>\n",
       "      <td>6.78662</td>\n",
       "      <td>6.78662</td>\n",
       "      <td>6.78662</td>\n",
       "      <td>1.290987</td>\n",
       "      <td>0</td>\n",
       "      <td>0.0</td>\n",
       "    </tr>\n",
       "  </tbody>\n",
       "</table>\n",
       "</div>"
      ],
      "text/plain": [
       "        date     open     high      low    close  adj close  volume  movement\n",
       "0 1991-10-01  6.78662  6.78662  6.78662  6.78662   1.290987       0       0.0\n",
       "1 1991-10-02  6.78662  6.78662  6.78662  6.78662   1.290987       0       0.0\n",
       "2 1991-10-03  6.78662  6.78662  6.78662  6.78662   1.290987       0       0.0\n",
       "3 1991-10-04  6.78662  6.78662  6.78662  6.78662   1.290987       0       0.0\n",
       "4 1991-10-07  6.78662  6.78662  6.78662  6.78662   1.290987       0       0.0"
      ]
     },
     "execution_count": 8,
     "metadata": {},
     "output_type": "execute_result"
    }
   ],
   "source": [
    "cba.head()"
   ]
  },
  {
   "cell_type": "code",
   "execution_count": 9,
   "id": "171e620e",
   "metadata": {},
   "outputs": [
    {
     "data": {
      "text/plain": [
       "<Figure size 720x576 with 0 Axes>"
      ]
     },
     "metadata": {},
     "output_type": "display_data"
    },
    {
     "data": {
      "image/png": "[encoded data removed]",
      "text/plain": [
       "<Figure size 360x360 with 1 Axes>"
      ]
     },
     "metadata": {
      "needs_background": "light"
     },
     "output_type": "display_data"
    }
   ],
   "source": [
    "plt.figure(figsize=(10,8))\n",
    "sns.lmplot(x='volume', y='movement', data=cba);\n",
    "plt.show()"
   ]
  },
  {
   "cell_type": "code",
   "execution_count": 10,
   "id": "638e2ee4",
   "metadata": {},
   "outputs": [
    {
     "data": {
      "text/plain": [
       "<AxesSubplot:>"
      ]
     },
     "execution_count": 10,
     "metadata": {},
     "output_type": "execute_result"
    },
    {
     "data": {
      "image/png": "[encoded data removed]",
      "text/plain": [
       "<Figure size 432x288 with 1 Axes>"
      ]
     },
     "metadata": {
      "needs_background": "light"
     },
     "output_type": "display_data"
    }
   ],
   "source": [
    "cba['volume'].hist()"
   ]
  },
  {
   "cell_type": "code",
   "execution_count": 11,
   "id": "ca7e4200",
   "metadata": {},
   "outputs": [
    {
     "data": {
      "text/plain": [
       "<AxesSubplot:>"
      ]
     },
     "execution_count": 11,
     "metadata": {},
     "output_type": "execute_result"
    },
    {
     "data": {
      "image/png": "[encoded data removed]",
      "text/plain": [
       "<Figure size 432x288 with 1 Axes>"
      ]
     },
     "metadata": {
      "needs_background": "light"
     },
     "output_type": "display_data"
    }
   ],
   "source": [
    "cba['movement'].hist()"
   ]
  },
  {
   "cell_type": "code",
   "execution_count": 12,
   "id": "16f64db0",
   "metadata": {},
   "outputs": [
    {
     "data": {
      "image/png": "[encoded data removed]",
      "text/plain": [
       "<Figure size 1080x360 with 1 Axes>"
      ]
     },
     "metadata": {
      "needs_background": "light"
     },
     "output_type": "display_data"
    }
   ],
   "source": [
    "cba['movement'].plot(style='-', figsize=(15, 5))\n",
    "plt.show()"
   ]
  },
  {
   "cell_type": "code",
   "execution_count": 13,
   "id": "b2aaae2f",
   "metadata": {},
   "outputs": [
    {
     "data": {
      "image/png": "[encoded data removed]",
      "text/plain": [
       "<Figure size 1080x360 with 1 Axes>"
      ]
     },
     "metadata": {
      "needs_background": "light"
     },
     "output_type": "display_data"
    }
   ],
   "source": [
    "cba['volume'].plot(style='-', figsize=(15, 5))\n",
    "plt.show()"
   ]
  },
  {
   "cell_type": "code",
   "execution_count": 14,
   "id": "f564d4b5",
   "metadata": {
    "scrolled": true
   },
   "outputs": [
    {
     "data": {
      "image/png": "[encoded data removed]",
      "text/plain": [
       "<Figure size 1080x360 with 1 Axes>"
      ]
     },
     "metadata": {
      "needs_background": "light"
     },
     "output_type": "display_data"
    }
   ],
   "source": [
    "cba['close'].plot(style='-', figsize=(15, 5))\n",
    "plt.show()"
   ]
  },
  {
   "cell_type": "code",
   "execution_count": 15,
   "id": "5f35de53",
   "metadata": {},
   "outputs": [],
   "source": [
    "scaler = MinMaxScaler(feature_range=(0,1))"
   ]
  },
  {
   "cell_type": "code",
   "execution_count": 17,
   "id": "b21dd807",
   "metadata": {},
   "outputs": [
    {
     "data": {
      "text/html": [
       "<div>\n",
       "<style scoped>\n",
       "    .dataframe tbody tr th:only-of-type {\n",
       "        vertical-align: middle;\n",
       "    }\n",
       "\n",
       "    .dataframe tbody tr th {\n",
       "        vertical-align: top;\n",
       "    }\n",
       "\n",
       "    .dataframe thead th {\n",
       "        text-align: right;\n",
       "    }\n",
       "</style>\n",
       "<table border=\"1\" class=\"dataframe\">\n",
       "  <thead>\n",
       "    <tr style=\"text-align: right;\">\n",
       "      <th></th>\n",
       "      <th>date</th>\n",
       "      <th>open</th>\n",
       "      <th>high</th>\n",
       "      <th>low</th>\n",
       "      <th>close</th>\n",
       "      <th>adj close</th>\n",
       "      <th>volume</th>\n",
       "      <th>movement</th>\n",
       "    </tr>\n",
       "  </thead>\n",
       "  <tbody>\n",
       "    <tr>\n",
       "      <th>0</th>\n",
       "      <td>1991-10-01</td>\n",
       "      <td>6.786620</td>\n",
       "      <td>6.786620</td>\n",
       "      <td>6.786620</td>\n",
       "      <td>6.786620</td>\n",
       "      <td>1.290987</td>\n",
       "      <td>0</td>\n",
       "      <td>0.000000</td>\n",
       "    </tr>\n",
       "    <tr>\n",
       "      <th>1</th>\n",
       "      <td>1991-10-02</td>\n",
       "      <td>6.786620</td>\n",
       "      <td>6.786620</td>\n",
       "      <td>6.786620</td>\n",
       "      <td>6.786620</td>\n",
       "      <td>1.290987</td>\n",
       "      <td>0</td>\n",
       "      <td>0.000000</td>\n",
       "    </tr>\n",
       "    <tr>\n",
       "      <th>2</th>\n",
       "      <td>1991-10-03</td>\n",
       "      <td>6.786620</td>\n",
       "      <td>6.786620</td>\n",
       "      <td>6.786620</td>\n",
       "      <td>6.786620</td>\n",
       "      <td>1.290987</td>\n",
       "      <td>0</td>\n",
       "      <td>0.000000</td>\n",
       "    </tr>\n",
       "    <tr>\n",
       "      <th>3</th>\n",
       "      <td>1991-10-04</td>\n",
       "      <td>6.786620</td>\n",
       "      <td>6.786620</td>\n",
       "      <td>6.786620</td>\n",
       "      <td>6.786620</td>\n",
       "      <td>1.290987</td>\n",
       "      <td>0</td>\n",
       "      <td>0.000000</td>\n",
       "    </tr>\n",
       "    <tr>\n",
       "      <th>4</th>\n",
       "      <td>1991-10-07</td>\n",
       "      <td>6.786620</td>\n",
       "      <td>6.786620</td>\n",
       "      <td>6.786620</td>\n",
       "      <td>6.786620</td>\n",
       "      <td>1.290987</td>\n",
       "      <td>0</td>\n",
       "      <td>0.000000</td>\n",
       "    </tr>\n",
       "    <tr>\n",
       "      <th>...</th>\n",
       "      <td>...</td>\n",
       "      <td>...</td>\n",
       "      <td>...</td>\n",
       "      <td>...</td>\n",
       "      <td>...</td>\n",
       "      <td>...</td>\n",
       "      <td>...</td>\n",
       "      <td>...</td>\n",
       "    </tr>\n",
       "    <tr>\n",
       "      <th>7856</th>\n",
       "      <td>2022-09-29</td>\n",
       "      <td>93.830002</td>\n",
       "      <td>94.190002</td>\n",
       "      <td>93.120003</td>\n",
       "      <td>93.120003</td>\n",
       "      <td>93.120003</td>\n",
       "      <td>2094138</td>\n",
       "      <td>-0.709999</td>\n",
       "    </tr>\n",
       "    <tr>\n",
       "      <th>7857</th>\n",
       "      <td>2022-09-30</td>\n",
       "      <td>93.220001</td>\n",
       "      <td>93.230003</td>\n",
       "      <td>90.260002</td>\n",
       "      <td>90.699997</td>\n",
       "      <td>90.699997</td>\n",
       "      <td>3741428</td>\n",
       "      <td>-2.520004</td>\n",
       "    </tr>\n",
       "    <tr>\n",
       "      <th>7858</th>\n",
       "      <td>2022-10-03</td>\n",
       "      <td>91.150002</td>\n",
       "      <td>91.370003</td>\n",
       "      <td>89.660004</td>\n",
       "      <td>90.610001</td>\n",
       "      <td>90.610001</td>\n",
       "      <td>2038034</td>\n",
       "      <td>-0.540001</td>\n",
       "    </tr>\n",
       "    <tr>\n",
       "      <th>7859</th>\n",
       "      <td>2022-10-04</td>\n",
       "      <td>92.000000</td>\n",
       "      <td>94.870003</td>\n",
       "      <td>91.889999</td>\n",
       "      <td>94.790001</td>\n",
       "      <td>94.790001</td>\n",
       "      <td>3030551</td>\n",
       "      <td>2.790001</td>\n",
       "    </tr>\n",
       "    <tr>\n",
       "      <th>7860</th>\n",
       "      <td>2022-10-05</td>\n",
       "      <td>95.989998</td>\n",
       "      <td>97.599998</td>\n",
       "      <td>95.790001</td>\n",
       "      <td>97.290001</td>\n",
       "      <td>97.290001</td>\n",
       "      <td>3840988</td>\n",
       "      <td>1.300003</td>\n",
       "    </tr>\n",
       "  </tbody>\n",
       "</table>\n",
       "<p>7861 rows × 8 columns</p>\n",
       "</div>"
      ],
      "text/plain": [
       "           date       open       high        low      close  adj close  \\\n",
       "0    1991-10-01   6.786620   6.786620   6.786620   6.786620   1.290987   \n",
       "1    1991-10-02   6.786620   6.786620   6.786620   6.786620   1.290987   \n",
       "2    1991-10-03   6.786620   6.786620   6.786620   6.786620   1.290987   \n",
       "3    1991-10-04   6.786620   6.786620   6.786620   6.786620   1.290987   \n",
       "4    1991-10-07   6.786620   6.786620   6.786620   6.786620   1.290987   \n",
       "...         ...        ...        ...        ...        ...        ...   \n",
       "7856 2022-09-29  93.830002  94.190002  93.120003  93.120003  93.120003   \n",
       "7857 2022-09-30  93.220001  93.230003  90.260002  90.699997  90.699997   \n",
       "7858 2022-10-03  91.150002  91.370003  89.660004  90.610001  90.610001   \n",
       "7859 2022-10-04  92.000000  94.870003  91.889999  94.790001  94.790001   \n",
       "7860 2022-10-05  95.989998  97.599998  95.790001  97.290001  97.290001   \n",
       "\n",
       "       volume  movement  \n",
       "0           0  0.000000  \n",
       "1           0  0.000000  \n",
       "2           0  0.000000  \n",
       "3           0  0.000000  \n",
       "4           0  0.000000  \n",
       "...       ...       ...  \n",
       "7856  2094138 -0.709999  \n",
       "7857  3741428 -2.520004  \n",
       "7858  2038034 -0.540001  \n",
       "7859  3030551  2.790001  \n",
       "7860  3840988  1.300003  \n",
       "\n",
       "[7861 rows x 8 columns]"
      ]
     },
     "execution_count": 17,
     "metadata": {},
     "output_type": "execute_result"
    }
   ],
   "source": [
    "df = cba.copy()\n",
    "df"
   ]
  },
  {
   "cell_type": "code",
   "execution_count": 20,
   "id": "2ca93035",
   "metadata": {},
   "outputs": [],
   "source": [
    "import datetime"
   ]
  },
  {
   "cell_type": "code",
   "execution_count": 22,
   "id": "861ea626",
   "metadata": {},
   "outputs": [],
   "source": [
    "df['date'] = pd.to_datetime(df.date,format='%Y-%m-%d')\n",
    "df.index = df['date']"
   ]
  },
  {
   "cell_type": "code",
   "execution_count": 23,
   "id": "685be5fa",
   "metadata": {},
   "outputs": [],
   "source": [
    "#creating dataframe with date and the target variable\n",
    "data = df.sort_index(ascending=True, axis=0)\n",
    "new_data = pd.DataFrame(index=range(0,len(df)),columns=['date', 'close'])"
   ]
  },
  {
   "cell_type": "code",
   "execution_count": 24,
   "id": "ba7c6187",
   "metadata": {},
   "outputs": [],
   "source": [
    "for i in range(0,len(data)):\n",
    "     new_data['date'][i] = data['date'][i]\n",
    "     new_data['close'][i] = data['close'][i]"
   ]
  },
  {
   "cell_type": "code",
   "execution_count": 25,
   "id": "a391eed2",
   "metadata": {},
   "outputs": [
    {
     "data": {
      "text/plain": [
       "7861"
      ]
     },
     "execution_count": 25,
     "metadata": {},
     "output_type": "execute_result"
    }
   ],
   "source": [
    "len(new_data)"
   ]
  },
  {
   "cell_type": "code",
   "execution_count": 26,
   "id": "67e9150b",
   "metadata": {},
   "outputs": [],
   "source": [
    "# splitting into train and validation\n",
    "train = new_data[:7000]\n",
    "valid = new_data[7000:]"
   ]
  },
  {
   "cell_type": "code",
   "execution_count": 27,
   "id": "a5a8969f",
   "metadata": {},
   "outputs": [
    {
     "name": "stdout",
     "output_type": "stream",
     "text": [
      "\n",
      " Shape of training set:\n",
      "(7000, 2)\n"
     ]
    }
   ],
   "source": [
    "# shapes of training set\n",
    "print('\\n Shape of training set:')\n",
    "print(train.shape)"
   ]
  },
  {
   "cell_type": "code",
   "execution_count": 28,
   "id": "bf161cd6",
   "metadata": {},
   "outputs": [
    {
     "name": "stdout",
     "output_type": "stream",
     "text": [
      "\n",
      " Shape of validation set:\n",
      "(861, 2)\n"
     ]
    }
   ],
   "source": [
    "# shapes of validation set\n",
    "print('\\n Shape of validation set:')\n",
    "print(valid.shape)"
   ]
  },
  {
   "cell_type": "markdown",
   "id": "e6fa0013",
   "metadata": {},
   "source": [
    "### In the next step, we will create predictions for the validation set and check the RMSE using the actual values."
   ]
  },
  {
   "cell_type": "code",
   "execution_count": 29,
   "id": "dffd5cdf",
   "metadata": {},
   "outputs": [],
   "source": [
    "# making predictions\n",
    "preds = []\n",
    "for i in range(0,valid.shape[0]):\n",
    "    a = train['close'][len(train)-861+i:].sum() + sum(preds)\n",
    "    b = a/861\n",
    "    preds.append(b)"
   ]
  },
  {
   "cell_type": "code",
   "execution_count": 30,
   "id": "a172f738",
   "metadata": {},
   "outputs": [
    {
     "name": "stdout",
     "output_type": "stream",
     "text": [
      "\n",
      " RMSE value on validation set:\n",
      "17.871025530869673\n"
     ]
    }
   ],
   "source": [
    "# checking the results (RMSE value)\n",
    "rms=np.sqrt(np.mean(np.power((np.array(valid['close'])-preds),2)))\n",
    "print('\\n RMSE value on validation set:')\n",
    "print(rms)"
   ]
  },
  {
   "cell_type": "code",
   "execution_count": 31,
   "id": "272daee5",
   "metadata": {},
   "outputs": [
    {
     "data": {
      "text/plain": [
       "[<matplotlib.lines.Line2D at 0x7fa301c081f0>,\n",
       " <matplotlib.lines.Line2D at 0x7fa3036940a0>]"
      ]
     },
     "execution_count": 31,
     "metadata": {},
     "output_type": "execute_result"
    },
    {
     "data": {
      "image/png": "[encoded data removed]",
      "text/plain": [
       "<Figure size 432x288 with 1 Axes>"
      ]
     },
     "metadata": {
      "needs_background": "light"
     },
     "output_type": "display_data"
    }
   ],
   "source": [
    "#plot\n",
    "valid['predictions'] = 0\n",
    "valid['predictions'] = preds\n",
    "plt.plot(train['close'])\n",
    "plt.plot(valid[['close', 'predictions']])"
   ]
  },
  {
   "cell_type": "markdown",
   "id": "0cdc21bf",
   "metadata": {},
   "source": [
    "### Linear Regression"
   ]
  },
  {
   "cell_type": "code",
   "execution_count": 32,
   "id": "a2630b8e",
   "metadata": {},
   "outputs": [
    {
     "data": {
      "text/html": [
       "<div>\n",
       "<style scoped>\n",
       "    .dataframe tbody tr th:only-of-type {\n",
       "        vertical-align: middle;\n",
       "    }\n",
       "\n",
       "    .dataframe tbody tr th {\n",
       "        vertical-align: top;\n",
       "    }\n",
       "\n",
       "    .dataframe thead th {\n",
       "        text-align: right;\n",
       "    }\n",
       "</style>\n",
       "<table border=\"1\" class=\"dataframe\">\n",
       "  <thead>\n",
       "    <tr style=\"text-align: right;\">\n",
       "      <th></th>\n",
       "      <th>date</th>\n",
       "      <th>close</th>\n",
       "    </tr>\n",
       "  </thead>\n",
       "  <tbody>\n",
       "    <tr>\n",
       "      <th>0</th>\n",
       "      <td>1991-10-01 00:00:00</td>\n",
       "      <td>6.78662</td>\n",
       "    </tr>\n",
       "    <tr>\n",
       "      <th>1</th>\n",
       "      <td>1991-10-02 00:00:00</td>\n",
       "      <td>6.78662</td>\n",
       "    </tr>\n",
       "    <tr>\n",
       "      <th>2</th>\n",
       "      <td>1991-10-03 00:00:00</td>\n",
       "      <td>6.78662</td>\n",
       "    </tr>\n",
       "    <tr>\n",
       "      <th>3</th>\n",
       "      <td>1991-10-04 00:00:00</td>\n",
       "      <td>6.78662</td>\n",
       "    </tr>\n",
       "    <tr>\n",
       "      <th>4</th>\n",
       "      <td>1991-10-07 00:00:00</td>\n",
       "      <td>6.78662</td>\n",
       "    </tr>\n",
       "    <tr>\n",
       "      <th>...</th>\n",
       "      <td>...</td>\n",
       "      <td>...</td>\n",
       "    </tr>\n",
       "    <tr>\n",
       "      <th>7856</th>\n",
       "      <td>2022-09-29 00:00:00</td>\n",
       "      <td>93.120003</td>\n",
       "    </tr>\n",
       "    <tr>\n",
       "      <th>7857</th>\n",
       "      <td>2022-09-30 00:00:00</td>\n",
       "      <td>90.699997</td>\n",
       "    </tr>\n",
       "    <tr>\n",
       "      <th>7858</th>\n",
       "      <td>2022-10-03 00:00:00</td>\n",
       "      <td>90.610001</td>\n",
       "    </tr>\n",
       "    <tr>\n",
       "      <th>7859</th>\n",
       "      <td>2022-10-04 00:00:00</td>\n",
       "      <td>94.790001</td>\n",
       "    </tr>\n",
       "    <tr>\n",
       "      <th>7860</th>\n",
       "      <td>2022-10-05 00:00:00</td>\n",
       "      <td>97.290001</td>\n",
       "    </tr>\n",
       "  </tbody>\n",
       "</table>\n",
       "<p>7861 rows × 2 columns</p>\n",
       "</div>"
      ],
      "text/plain": [
       "                     date      close\n",
       "0     1991-10-01 00:00:00    6.78662\n",
       "1     1991-10-02 00:00:00    6.78662\n",
       "2     1991-10-03 00:00:00    6.78662\n",
       "3     1991-10-04 00:00:00    6.78662\n",
       "4     1991-10-07 00:00:00    6.78662\n",
       "...                   ...        ...\n",
       "7856  2022-09-29 00:00:00  93.120003\n",
       "7857  2022-09-30 00:00:00  90.699997\n",
       "7858  2022-10-03 00:00:00  90.610001\n",
       "7859  2022-10-04 00:00:00  94.790001\n",
       "7860  2022-10-05 00:00:00  97.290001\n",
       "\n",
       "[7861 rows x 2 columns]"
      ]
     },
     "execution_count": 32,
     "metadata": {},
     "output_type": "execute_result"
    }
   ],
   "source": [
    "new_data"
   ]
  },
  {
   "cell_type": "code",
   "execution_count": 38,
   "id": "a195ca00",
   "metadata": {},
   "outputs": [],
   "source": [
    "import fastai"
   ]
  },
  {
   "cell_type": "code",
   "execution_count": 44,
   "id": "f052f5f9",
   "metadata": {},
   "outputs": [],
   "source": [
    "#create features\n",
    "from fastai.tabular.all import  add_datepart"
   ]
  },
  {
   "cell_type": "code",
   "execution_count": 45,
   "id": "52acd2c4",
   "metadata": {},
   "outputs": [
    {
     "data": {
      "text/html": [
       "<div>\n",
       "<style scoped>\n",
       "    .dataframe tbody tr th:only-of-type {\n",
       "        vertical-align: middle;\n",
       "    }\n",
       "\n",
       "    .dataframe tbody tr th {\n",
       "        vertical-align: top;\n",
       "    }\n",
       "\n",
       "    .dataframe thead th {\n",
       "        text-align: right;\n",
       "    }\n",
       "</style>\n",
       "<table border=\"1\" class=\"dataframe\">\n",
       "  <thead>\n",
       "    <tr style=\"text-align: right;\">\n",
       "      <th></th>\n",
       "      <th>close</th>\n",
       "      <th>Year</th>\n",
       "      <th>Month</th>\n",
       "      <th>Week</th>\n",
       "      <th>Day</th>\n",
       "      <th>Dayofweek</th>\n",
       "      <th>Dayofyear</th>\n",
       "      <th>Is_month_end</th>\n",
       "      <th>Is_month_start</th>\n",
       "      <th>Is_quarter_end</th>\n",
       "      <th>Is_quarter_start</th>\n",
       "      <th>Is_year_end</th>\n",
       "      <th>Is_year_start</th>\n",
       "      <th>Elapsed</th>\n",
       "    </tr>\n",
       "  </thead>\n",
       "  <tbody>\n",
       "    <tr>\n",
       "      <th>0</th>\n",
       "      <td>6.78662</td>\n",
       "      <td>1991</td>\n",
       "      <td>10</td>\n",
       "      <td>40</td>\n",
       "      <td>1</td>\n",
       "      <td>1</td>\n",
       "      <td>274</td>\n",
       "      <td>False</td>\n",
       "      <td>True</td>\n",
       "      <td>False</td>\n",
       "      <td>True</td>\n",
       "      <td>False</td>\n",
       "      <td>False</td>\n",
       "      <td>6.862752e+08</td>\n",
       "    </tr>\n",
       "    <tr>\n",
       "      <th>1</th>\n",
       "      <td>6.78662</td>\n",
       "      <td>1991</td>\n",
       "      <td>10</td>\n",
       "      <td>40</td>\n",
       "      <td>2</td>\n",
       "      <td>2</td>\n",
       "      <td>275</td>\n",
       "      <td>False</td>\n",
       "      <td>False</td>\n",
       "      <td>False</td>\n",
       "      <td>False</td>\n",
       "      <td>False</td>\n",
       "      <td>False</td>\n",
       "      <td>6.863616e+08</td>\n",
       "    </tr>\n",
       "    <tr>\n",
       "      <th>2</th>\n",
       "      <td>6.78662</td>\n",
       "      <td>1991</td>\n",
       "      <td>10</td>\n",
       "      <td>40</td>\n",
       "      <td>3</td>\n",
       "      <td>3</td>\n",
       "      <td>276</td>\n",
       "      <td>False</td>\n",
       "      <td>False</td>\n",
       "      <td>False</td>\n",
       "      <td>False</td>\n",
       "      <td>False</td>\n",
       "      <td>False</td>\n",
       "      <td>6.864480e+08</td>\n",
       "    </tr>\n",
       "    <tr>\n",
       "      <th>3</th>\n",
       "      <td>6.78662</td>\n",
       "      <td>1991</td>\n",
       "      <td>10</td>\n",
       "      <td>40</td>\n",
       "      <td>4</td>\n",
       "      <td>4</td>\n",
       "      <td>277</td>\n",
       "      <td>False</td>\n",
       "      <td>False</td>\n",
       "      <td>False</td>\n",
       "      <td>False</td>\n",
       "      <td>False</td>\n",
       "      <td>False</td>\n",
       "      <td>6.865344e+08</td>\n",
       "    </tr>\n",
       "    <tr>\n",
       "      <th>4</th>\n",
       "      <td>6.78662</td>\n",
       "      <td>1991</td>\n",
       "      <td>10</td>\n",
       "      <td>41</td>\n",
       "      <td>7</td>\n",
       "      <td>0</td>\n",
       "      <td>280</td>\n",
       "      <td>False</td>\n",
       "      <td>False</td>\n",
       "      <td>False</td>\n",
       "      <td>False</td>\n",
       "      <td>False</td>\n",
       "      <td>False</td>\n",
       "      <td>6.867936e+08</td>\n",
       "    </tr>\n",
       "    <tr>\n",
       "      <th>...</th>\n",
       "      <td>...</td>\n",
       "      <td>...</td>\n",
       "      <td>...</td>\n",
       "      <td>...</td>\n",
       "      <td>...</td>\n",
       "      <td>...</td>\n",
       "      <td>...</td>\n",
       "      <td>...</td>\n",
       "      <td>...</td>\n",
       "      <td>...</td>\n",
       "      <td>...</td>\n",
       "      <td>...</td>\n",
       "      <td>...</td>\n",
       "      <td>...</td>\n",
       "    </tr>\n",
       "    <tr>\n",
       "      <th>7856</th>\n",
       "      <td>93.120003</td>\n",
       "      <td>2022</td>\n",
       "      <td>9</td>\n",
       "      <td>39</td>\n",
       "      <td>29</td>\n",
       "      <td>3</td>\n",
       "      <td>272</td>\n",
       "      <td>False</td>\n",
       "      <td>False</td>\n",
       "      <td>False</td>\n",
       "      <td>False</td>\n",
       "      <td>False</td>\n",
       "      <td>False</td>\n",
       "      <td>1.664410e+09</td>\n",
       "    </tr>\n",
       "    <tr>\n",
       "      <th>7857</th>\n",
       "      <td>90.699997</td>\n",
       "      <td>2022</td>\n",
       "      <td>9</td>\n",
       "      <td>39</td>\n",
       "      <td>30</td>\n",
       "      <td>4</td>\n",
       "      <td>273</td>\n",
       "      <td>True</td>\n",
       "      <td>False</td>\n",
       "      <td>True</td>\n",
       "      <td>False</td>\n",
       "      <td>False</td>\n",
       "      <td>False</td>\n",
       "      <td>1.664496e+09</td>\n",
       "    </tr>\n",
       "    <tr>\n",
       "      <th>7858</th>\n",
       "      <td>90.610001</td>\n",
       "      <td>2022</td>\n",
       "      <td>10</td>\n",
       "      <td>40</td>\n",
       "      <td>3</td>\n",
       "      <td>0</td>\n",
       "      <td>276</td>\n",
       "      <td>False</td>\n",
       "      <td>False</td>\n",
       "      <td>False</td>\n",
       "      <td>False</td>\n",
       "      <td>False</td>\n",
       "      <td>False</td>\n",
       "      <td>1.664755e+09</td>\n",
       "    </tr>\n",
       "    <tr>\n",
       "      <th>7859</th>\n",
       "      <td>94.790001</td>\n",
       "      <td>2022</td>\n",
       "      <td>10</td>\n",
       "      <td>40</td>\n",
       "      <td>4</td>\n",
       "      <td>1</td>\n",
       "      <td>277</td>\n",
       "      <td>False</td>\n",
       "      <td>False</td>\n",
       "      <td>False</td>\n",
       "      <td>False</td>\n",
       "      <td>False</td>\n",
       "      <td>False</td>\n",
       "      <td>1.664842e+09</td>\n",
       "    </tr>\n",
       "    <tr>\n",
       "      <th>7860</th>\n",
       "      <td>97.290001</td>\n",
       "      <td>2022</td>\n",
       "      <td>10</td>\n",
       "      <td>40</td>\n",
       "      <td>5</td>\n",
       "      <td>2</td>\n",
       "      <td>278</td>\n",
       "      <td>False</td>\n",
       "      <td>False</td>\n",
       "      <td>False</td>\n",
       "      <td>False</td>\n",
       "      <td>False</td>\n",
       "      <td>False</td>\n",
       "      <td>1.664928e+09</td>\n",
       "    </tr>\n",
       "  </tbody>\n",
       "</table>\n",
       "<p>7861 rows × 14 columns</p>\n",
       "</div>"
      ],
      "text/plain": [
       "          close  Year  Month  Week  Day  Dayofweek  Dayofyear  Is_month_end  \\\n",
       "0       6.78662  1991     10    40    1          1        274         False   \n",
       "1       6.78662  1991     10    40    2          2        275         False   \n",
       "2       6.78662  1991     10    40    3          3        276         False   \n",
       "3       6.78662  1991     10    40    4          4        277         False   \n",
       "4       6.78662  1991     10    41    7          0        280         False   \n",
       "...         ...   ...    ...   ...  ...        ...        ...           ...   \n",
       "7856  93.120003  2022      9    39   29          3        272         False   \n",
       "7857  90.699997  2022      9    39   30          4        273          True   \n",
       "7858  90.610001  2022     10    40    3          0        276         False   \n",
       "7859  94.790001  2022     10    40    4          1        277         False   \n",
       "7860  97.290001  2022     10    40    5          2        278         False   \n",
       "\n",
       "      Is_month_start  Is_quarter_end  Is_quarter_start  Is_year_end  \\\n",
       "0               True           False              True        False   \n",
       "1              False           False             False        False   \n",
       "2              False           False             False        False   \n",
       "3              False           False             False        False   \n",
       "4              False           False             False        False   \n",
       "...              ...             ...               ...          ...   \n",
       "7856           False           False             False        False   \n",
       "7857           False            True             False        False   \n",
       "7858           False           False             False        False   \n",
       "7859           False           False             False        False   \n",
       "7860           False           False             False        False   \n",
       "\n",
       "      Is_year_start       Elapsed  \n",
       "0             False  6.862752e+08  \n",
       "1             False  6.863616e+08  \n",
       "2             False  6.864480e+08  \n",
       "3             False  6.865344e+08  \n",
       "4             False  6.867936e+08  \n",
       "...             ...           ...  \n",
       "7856          False  1.664410e+09  \n",
       "7857          False  1.664496e+09  \n",
       "7858          False  1.664755e+09  \n",
       "7859          False  1.664842e+09  \n",
       "7860          False  1.664928e+09  \n",
       "\n",
       "[7861 rows x 14 columns]"
      ]
     },
     "execution_count": 45,
     "metadata": {},
     "output_type": "execute_result"
    }
   ],
   "source": [
    "new_data"
   ]
  },
  {
   "cell_type": "code",
   "execution_count": 51,
   "id": "5d82eff9",
   "metadata": {},
   "outputs": [
    {
     "data": {
      "text/html": [
       "<div>\n",
       "<style scoped>\n",
       "    .dataframe tbody tr th:only-of-type {\n",
       "        vertical-align: middle;\n",
       "    }\n",
       "\n",
       "    .dataframe tbody tr th {\n",
       "        vertical-align: top;\n",
       "    }\n",
       "\n",
       "    .dataframe thead th {\n",
       "        text-align: right;\n",
       "    }\n",
       "</style>\n",
       "<table border=\"1\" class=\"dataframe\">\n",
       "  <thead>\n",
       "    <tr style=\"text-align: right;\">\n",
       "      <th></th>\n",
       "      <th>date</th>\n",
       "      <th>open</th>\n",
       "      <th>high</th>\n",
       "      <th>low</th>\n",
       "      <th>close</th>\n",
       "      <th>adj close</th>\n",
       "      <th>volume</th>\n",
       "      <th>movement</th>\n",
       "    </tr>\n",
       "    <tr>\n",
       "      <th>date</th>\n",
       "      <th></th>\n",
       "      <th></th>\n",
       "      <th></th>\n",
       "      <th></th>\n",
       "      <th></th>\n",
       "      <th></th>\n",
       "      <th></th>\n",
       "      <th></th>\n",
       "    </tr>\n",
       "  </thead>\n",
       "  <tbody>\n",
       "    <tr>\n",
       "      <th>1991-10-01</th>\n",
       "      <td>1991-10-01</td>\n",
       "      <td>6.786620</td>\n",
       "      <td>6.786620</td>\n",
       "      <td>6.786620</td>\n",
       "      <td>6.786620</td>\n",
       "      <td>1.290987</td>\n",
       "      <td>0</td>\n",
       "      <td>0.000000</td>\n",
       "    </tr>\n",
       "    <tr>\n",
       "      <th>1991-10-02</th>\n",
       "      <td>1991-10-02</td>\n",
       "      <td>6.786620</td>\n",
       "      <td>6.786620</td>\n",
       "      <td>6.786620</td>\n",
       "      <td>6.786620</td>\n",
       "      <td>1.290987</td>\n",
       "      <td>0</td>\n",
       "      <td>0.000000</td>\n",
       "    </tr>\n",
       "    <tr>\n",
       "      <th>1991-10-03</th>\n",
       "      <td>1991-10-03</td>\n",
       "      <td>6.786620</td>\n",
       "      <td>6.786620</td>\n",
       "      <td>6.786620</td>\n",
       "      <td>6.786620</td>\n",
       "      <td>1.290987</td>\n",
       "      <td>0</td>\n",
       "      <td>0.000000</td>\n",
       "    </tr>\n",
       "    <tr>\n",
       "      <th>1991-10-04</th>\n",
       "      <td>1991-10-04</td>\n",
       "      <td>6.786620</td>\n",
       "      <td>6.786620</td>\n",
       "      <td>6.786620</td>\n",
       "      <td>6.786620</td>\n",
       "      <td>1.290987</td>\n",
       "      <td>0</td>\n",
       "      <td>0.000000</td>\n",
       "    </tr>\n",
       "    <tr>\n",
       "      <th>1991-10-07</th>\n",
       "      <td>1991-10-07</td>\n",
       "      <td>6.786620</td>\n",
       "      <td>6.786620</td>\n",
       "      <td>6.786620</td>\n",
       "      <td>6.786620</td>\n",
       "      <td>1.290987</td>\n",
       "      <td>0</td>\n",
       "      <td>0.000000</td>\n",
       "    </tr>\n",
       "    <tr>\n",
       "      <th>...</th>\n",
       "      <td>...</td>\n",
       "      <td>...</td>\n",
       "      <td>...</td>\n",
       "      <td>...</td>\n",
       "      <td>...</td>\n",
       "      <td>...</td>\n",
       "      <td>...</td>\n",
       "      <td>...</td>\n",
       "    </tr>\n",
       "    <tr>\n",
       "      <th>2022-09-29</th>\n",
       "      <td>2022-09-29</td>\n",
       "      <td>93.830002</td>\n",
       "      <td>94.190002</td>\n",
       "      <td>93.120003</td>\n",
       "      <td>93.120003</td>\n",
       "      <td>93.120003</td>\n",
       "      <td>2094138</td>\n",
       "      <td>-0.709999</td>\n",
       "    </tr>\n",
       "    <tr>\n",
       "      <th>2022-09-30</th>\n",
       "      <td>2022-09-30</td>\n",
       "      <td>93.220001</td>\n",
       "      <td>93.230003</td>\n",
       "      <td>90.260002</td>\n",
       "      <td>90.699997</td>\n",
       "      <td>90.699997</td>\n",
       "      <td>3741428</td>\n",
       "      <td>-2.520004</td>\n",
       "    </tr>\n",
       "    <tr>\n",
       "      <th>2022-10-03</th>\n",
       "      <td>2022-10-03</td>\n",
       "      <td>91.150002</td>\n",
       "      <td>91.370003</td>\n",
       "      <td>89.660004</td>\n",
       "      <td>90.610001</td>\n",
       "      <td>90.610001</td>\n",
       "      <td>2038034</td>\n",
       "      <td>-0.540001</td>\n",
       "    </tr>\n",
       "    <tr>\n",
       "      <th>2022-10-04</th>\n",
       "      <td>2022-10-04</td>\n",
       "      <td>92.000000</td>\n",
       "      <td>94.870003</td>\n",
       "      <td>91.889999</td>\n",
       "      <td>94.790001</td>\n",
       "      <td>94.790001</td>\n",
       "      <td>3030551</td>\n",
       "      <td>2.790001</td>\n",
       "    </tr>\n",
       "    <tr>\n",
       "      <th>2022-10-05</th>\n",
       "      <td>2022-10-05</td>\n",
       "      <td>95.989998</td>\n",
       "      <td>97.599998</td>\n",
       "      <td>95.790001</td>\n",
       "      <td>97.290001</td>\n",
       "      <td>97.290001</td>\n",
       "      <td>3840988</td>\n",
       "      <td>1.300003</td>\n",
       "    </tr>\n",
       "  </tbody>\n",
       "</table>\n",
       "<p>7861 rows × 8 columns</p>\n",
       "</div>"
      ],
      "text/plain": [
       "                 date       open       high        low      close  adj close  \\\n",
       "date                                                                           \n",
       "1991-10-01 1991-10-01   6.786620   6.786620   6.786620   6.786620   1.290987   \n",
       "1991-10-02 1991-10-02   6.786620   6.786620   6.786620   6.786620   1.290987   \n",
       "1991-10-03 1991-10-03   6.786620   6.786620   6.786620   6.786620   1.290987   \n",
       "1991-10-04 1991-10-04   6.786620   6.786620   6.786620   6.786620   1.290987   \n",
       "1991-10-07 1991-10-07   6.786620   6.786620   6.786620   6.786620   1.290987   \n",
       "...               ...        ...        ...        ...        ...        ...   \n",
       "2022-09-29 2022-09-29  93.830002  94.190002  93.120003  93.120003  93.120003   \n",
       "2022-09-30 2022-09-30  93.220001  93.230003  90.260002  90.699997  90.699997   \n",
       "2022-10-03 2022-10-03  91.150002  91.370003  89.660004  90.610001  90.610001   \n",
       "2022-10-04 2022-10-04  92.000000  94.870003  91.889999  94.790001  94.790001   \n",
       "2022-10-05 2022-10-05  95.989998  97.599998  95.790001  97.290001  97.290001   \n",
       "\n",
       "             volume  movement  \n",
       "date                           \n",
       "1991-10-01        0  0.000000  \n",
       "1991-10-02        0  0.000000  \n",
       "1991-10-03        0  0.000000  \n",
       "1991-10-04        0  0.000000  \n",
       "1991-10-07        0  0.000000  \n",
       "...             ...       ...  \n",
       "2022-09-29  2094138 -0.709999  \n",
       "2022-09-30  3741428 -2.520004  \n",
       "2022-10-03  2038034 -0.540001  \n",
       "2022-10-04  3030551  2.790001  \n",
       "2022-10-05  3840988  1.300003  \n",
       "\n",
       "[7861 rows x 8 columns]"
      ]
     },
     "execution_count": 51,
     "metadata": {},
     "output_type": "execute_result"
    }
   ],
   "source": [
    "df"
   ]
  },
  {
   "cell_type": "code",
   "execution_count": 52,
   "id": "6eca3734",
   "metadata": {},
   "outputs": [],
   "source": [
    "#creating a separate dataset\n",
    "new_df = pd.DataFrame(index=range(0,len(df)),columns=['date', 'close'])\n",
    "\n",
    "for i in range(0,len(data)):\n",
    "    new_df['date'][i] = df['date'][i]\n",
    "    new_df['close'][i] = df['close'][i]\n"
   ]
  },
  {
   "cell_type": "code",
   "execution_count": 53,
   "id": "f1062d40",
   "metadata": {},
   "outputs": [
    {
     "data": {
      "text/html": [
       "<div>\n",
       "<style scoped>\n",
       "    .dataframe tbody tr th:only-of-type {\n",
       "        vertical-align: middle;\n",
       "    }\n",
       "\n",
       "    .dataframe tbody tr th {\n",
       "        vertical-align: top;\n",
       "    }\n",
       "\n",
       "    .dataframe thead th {\n",
       "        text-align: right;\n",
       "    }\n",
       "</style>\n",
       "<table border=\"1\" class=\"dataframe\">\n",
       "  <thead>\n",
       "    <tr style=\"text-align: right;\">\n",
       "      <th></th>\n",
       "      <th>date</th>\n",
       "      <th>close</th>\n",
       "    </tr>\n",
       "  </thead>\n",
       "  <tbody>\n",
       "    <tr>\n",
       "      <th>0</th>\n",
       "      <td>1991-10-01 00:00:00</td>\n",
       "      <td>6.78662</td>\n",
       "    </tr>\n",
       "    <tr>\n",
       "      <th>1</th>\n",
       "      <td>1991-10-02 00:00:00</td>\n",
       "      <td>6.78662</td>\n",
       "    </tr>\n",
       "    <tr>\n",
       "      <th>2</th>\n",
       "      <td>1991-10-03 00:00:00</td>\n",
       "      <td>6.78662</td>\n",
       "    </tr>\n",
       "    <tr>\n",
       "      <th>3</th>\n",
       "      <td>1991-10-04 00:00:00</td>\n",
       "      <td>6.78662</td>\n",
       "    </tr>\n",
       "    <tr>\n",
       "      <th>4</th>\n",
       "      <td>1991-10-07 00:00:00</td>\n",
       "      <td>6.78662</td>\n",
       "    </tr>\n",
       "    <tr>\n",
       "      <th>...</th>\n",
       "      <td>...</td>\n",
       "      <td>...</td>\n",
       "    </tr>\n",
       "    <tr>\n",
       "      <th>7856</th>\n",
       "      <td>2022-09-29 00:00:00</td>\n",
       "      <td>93.120003</td>\n",
       "    </tr>\n",
       "    <tr>\n",
       "      <th>7857</th>\n",
       "      <td>2022-09-30 00:00:00</td>\n",
       "      <td>90.699997</td>\n",
       "    </tr>\n",
       "    <tr>\n",
       "      <th>7858</th>\n",
       "      <td>2022-10-03 00:00:00</td>\n",
       "      <td>90.610001</td>\n",
       "    </tr>\n",
       "    <tr>\n",
       "      <th>7859</th>\n",
       "      <td>2022-10-04 00:00:00</td>\n",
       "      <td>94.790001</td>\n",
       "    </tr>\n",
       "    <tr>\n",
       "      <th>7860</th>\n",
       "      <td>2022-10-05 00:00:00</td>\n",
       "      <td>97.290001</td>\n",
       "    </tr>\n",
       "  </tbody>\n",
       "</table>\n",
       "<p>7861 rows × 2 columns</p>\n",
       "</div>"
      ],
      "text/plain": [
       "                     date      close\n",
       "0     1991-10-01 00:00:00    6.78662\n",
       "1     1991-10-02 00:00:00    6.78662\n",
       "2     1991-10-03 00:00:00    6.78662\n",
       "3     1991-10-04 00:00:00    6.78662\n",
       "4     1991-10-07 00:00:00    6.78662\n",
       "...                   ...        ...\n",
       "7856  2022-09-29 00:00:00  93.120003\n",
       "7857  2022-09-30 00:00:00  90.699997\n",
       "7858  2022-10-03 00:00:00  90.610001\n",
       "7859  2022-10-04 00:00:00  94.790001\n",
       "7860  2022-10-05 00:00:00  97.290001\n",
       "\n",
       "[7861 rows x 2 columns]"
      ]
     },
     "execution_count": 53,
     "metadata": {},
     "output_type": "execute_result"
    }
   ],
   "source": [
    "new_df"
   ]
  },
  {
   "cell_type": "code",
   "execution_count": 54,
   "id": "f097d3bc",
   "metadata": {},
   "outputs": [],
   "source": [
    "add_datepart(new_df, 'date')\n",
    "new_df.drop('Elapsed', axis=1, inplace=True)  #elapsed will be the time stamp"
   ]
  },
  {
   "cell_type": "code",
   "execution_count": 55,
   "id": "4fb2f838",
   "metadata": {},
   "outputs": [
    {
     "data": {
      "text/html": [
       "<div>\n",
       "<style scoped>\n",
       "    .dataframe tbody tr th:only-of-type {\n",
       "        vertical-align: middle;\n",
       "    }\n",
       "\n",
       "    .dataframe tbody tr th {\n",
       "        vertical-align: top;\n",
       "    }\n",
       "\n",
       "    .dataframe thead th {\n",
       "        text-align: right;\n",
       "    }\n",
       "</style>\n",
       "<table border=\"1\" class=\"dataframe\">\n",
       "  <thead>\n",
       "    <tr style=\"text-align: right;\">\n",
       "      <th></th>\n",
       "      <th>close</th>\n",
       "      <th>Year</th>\n",
       "      <th>Month</th>\n",
       "      <th>Week</th>\n",
       "      <th>Day</th>\n",
       "      <th>Dayofweek</th>\n",
       "      <th>Dayofyear</th>\n",
       "      <th>Is_month_end</th>\n",
       "      <th>Is_month_start</th>\n",
       "      <th>Is_quarter_end</th>\n",
       "      <th>Is_quarter_start</th>\n",
       "      <th>Is_year_end</th>\n",
       "      <th>Is_year_start</th>\n",
       "    </tr>\n",
       "  </thead>\n",
       "  <tbody>\n",
       "    <tr>\n",
       "      <th>0</th>\n",
       "      <td>6.78662</td>\n",
       "      <td>1991</td>\n",
       "      <td>10</td>\n",
       "      <td>40</td>\n",
       "      <td>1</td>\n",
       "      <td>1</td>\n",
       "      <td>274</td>\n",
       "      <td>False</td>\n",
       "      <td>True</td>\n",
       "      <td>False</td>\n",
       "      <td>True</td>\n",
       "      <td>False</td>\n",
       "      <td>False</td>\n",
       "    </tr>\n",
       "    <tr>\n",
       "      <th>1</th>\n",
       "      <td>6.78662</td>\n",
       "      <td>1991</td>\n",
       "      <td>10</td>\n",
       "      <td>40</td>\n",
       "      <td>2</td>\n",
       "      <td>2</td>\n",
       "      <td>275</td>\n",
       "      <td>False</td>\n",
       "      <td>False</td>\n",
       "      <td>False</td>\n",
       "      <td>False</td>\n",
       "      <td>False</td>\n",
       "      <td>False</td>\n",
       "    </tr>\n",
       "    <tr>\n",
       "      <th>2</th>\n",
       "      <td>6.78662</td>\n",
       "      <td>1991</td>\n",
       "      <td>10</td>\n",
       "      <td>40</td>\n",
       "      <td>3</td>\n",
       "      <td>3</td>\n",
       "      <td>276</td>\n",
       "      <td>False</td>\n",
       "      <td>False</td>\n",
       "      <td>False</td>\n",
       "      <td>False</td>\n",
       "      <td>False</td>\n",
       "      <td>False</td>\n",
       "    </tr>\n",
       "    <tr>\n",
       "      <th>3</th>\n",
       "      <td>6.78662</td>\n",
       "      <td>1991</td>\n",
       "      <td>10</td>\n",
       "      <td>40</td>\n",
       "      <td>4</td>\n",
       "      <td>4</td>\n",
       "      <td>277</td>\n",
       "      <td>False</td>\n",
       "      <td>False</td>\n",
       "      <td>False</td>\n",
       "      <td>False</td>\n",
       "      <td>False</td>\n",
       "      <td>False</td>\n",
       "    </tr>\n",
       "    <tr>\n",
       "      <th>4</th>\n",
       "      <td>6.78662</td>\n",
       "      <td>1991</td>\n",
       "      <td>10</td>\n",
       "      <td>41</td>\n",
       "      <td>7</td>\n",
       "      <td>0</td>\n",
       "      <td>280</td>\n",
       "      <td>False</td>\n",
       "      <td>False</td>\n",
       "      <td>False</td>\n",
       "      <td>False</td>\n",
       "      <td>False</td>\n",
       "      <td>False</td>\n",
       "    </tr>\n",
       "    <tr>\n",
       "      <th>...</th>\n",
       "      <td>...</td>\n",
       "      <td>...</td>\n",
       "      <td>...</td>\n",
       "      <td>...</td>\n",
       "      <td>...</td>\n",
       "      <td>...</td>\n",
       "      <td>...</td>\n",
       "      <td>...</td>\n",
       "      <td>...</td>\n",
       "      <td>...</td>\n",
       "      <td>...</td>\n",
       "      <td>...</td>\n",
       "      <td>...</td>\n",
       "    </tr>\n",
       "    <tr>\n",
       "      <th>7856</th>\n",
       "      <td>93.120003</td>\n",
       "      <td>2022</td>\n",
       "      <td>9</td>\n",
       "      <td>39</td>\n",
       "      <td>29</td>\n",
       "      <td>3</td>\n",
       "      <td>272</td>\n",
       "      <td>False</td>\n",
       "      <td>False</td>\n",
       "      <td>False</td>\n",
       "      <td>False</td>\n",
       "      <td>False</td>\n",
       "      <td>False</td>\n",
       "    </tr>\n",
       "    <tr>\n",
       "      <th>7857</th>\n",
       "      <td>90.699997</td>\n",
       "      <td>2022</td>\n",
       "      <td>9</td>\n",
       "      <td>39</td>\n",
       "      <td>30</td>\n",
       "      <td>4</td>\n",
       "      <td>273</td>\n",
       "      <td>True</td>\n",
       "      <td>False</td>\n",
       "      <td>True</td>\n",
       "      <td>False</td>\n",
       "      <td>False</td>\n",
       "      <td>False</td>\n",
       "    </tr>\n",
       "    <tr>\n",
       "      <th>7858</th>\n",
       "      <td>90.610001</td>\n",
       "      <td>2022</td>\n",
       "      <td>10</td>\n",
       "      <td>40</td>\n",
       "      <td>3</td>\n",
       "      <td>0</td>\n",
       "      <td>276</td>\n",
       "      <td>False</td>\n",
       "      <td>False</td>\n",
       "      <td>False</td>\n",
       "      <td>False</td>\n",
       "      <td>False</td>\n",
       "      <td>False</td>\n",
       "    </tr>\n",
       "    <tr>\n",
       "      <th>7859</th>\n",
       "      <td>94.790001</td>\n",
       "      <td>2022</td>\n",
       "      <td>10</td>\n",
       "      <td>40</td>\n",
       "      <td>4</td>\n",
       "      <td>1</td>\n",
       "      <td>277</td>\n",
       "      <td>False</td>\n",
       "      <td>False</td>\n",
       "      <td>False</td>\n",
       "      <td>False</td>\n",
       "      <td>False</td>\n",
       "      <td>False</td>\n",
       "    </tr>\n",
       "    <tr>\n",
       "      <th>7860</th>\n",
       "      <td>97.290001</td>\n",
       "      <td>2022</td>\n",
       "      <td>10</td>\n",
       "      <td>40</td>\n",
       "      <td>5</td>\n",
       "      <td>2</td>\n",
       "      <td>278</td>\n",
       "      <td>False</td>\n",
       "      <td>False</td>\n",
       "      <td>False</td>\n",
       "      <td>False</td>\n",
       "      <td>False</td>\n",
       "      <td>False</td>\n",
       "    </tr>\n",
       "  </tbody>\n",
       "</table>\n",
       "<p>7861 rows × 13 columns</p>\n",
       "</div>"
      ],
      "text/plain": [
       "          close  Year  Month  Week  Day  Dayofweek  Dayofyear  Is_month_end  \\\n",
       "0       6.78662  1991     10    40    1          1        274         False   \n",
       "1       6.78662  1991     10    40    2          2        275         False   \n",
       "2       6.78662  1991     10    40    3          3        276         False   \n",
       "3       6.78662  1991     10    40    4          4        277         False   \n",
       "4       6.78662  1991     10    41    7          0        280         False   \n",
       "...         ...   ...    ...   ...  ...        ...        ...           ...   \n",
       "7856  93.120003  2022      9    39   29          3        272         False   \n",
       "7857  90.699997  2022      9    39   30          4        273          True   \n",
       "7858  90.610001  2022     10    40    3          0        276         False   \n",
       "7859  94.790001  2022     10    40    4          1        277         False   \n",
       "7860  97.290001  2022     10    40    5          2        278         False   \n",
       "\n",
       "      Is_month_start  Is_quarter_end  Is_quarter_start  Is_year_end  \\\n",
       "0               True           False              True        False   \n",
       "1              False           False             False        False   \n",
       "2              False           False             False        False   \n",
       "3              False           False             False        False   \n",
       "4              False           False             False        False   \n",
       "...              ...             ...               ...          ...   \n",
       "7856           False           False             False        False   \n",
       "7857           False            True             False        False   \n",
       "7858           False           False             False        False   \n",
       "7859           False           False             False        False   \n",
       "7860           False           False             False        False   \n",
       "\n",
       "      Is_year_start  \n",
       "0             False  \n",
       "1             False  \n",
       "2             False  \n",
       "3             False  \n",
       "4             False  \n",
       "...             ...  \n",
       "7856          False  \n",
       "7857          False  \n",
       "7858          False  \n",
       "7859          False  \n",
       "7860          False  \n",
       "\n",
       "[7861 rows x 13 columns]"
      ]
     },
     "execution_count": 55,
     "metadata": {},
     "output_type": "execute_result"
    }
   ],
   "source": [
    "new_df"
   ]
  },
  {
   "cell_type": "code",
   "execution_count": 58,
   "id": "dc0d370a",
   "metadata": {},
   "outputs": [
    {
     "ename": "SettingWithCopyError",
     "evalue": "\nA value is trying to be set on a copy of a slice from a DataFrame\n\nSee the caveats in the documentation: https://pandas.pydata.org/pandas-docs/stable/user_guide/indexing.html#returning-a-view-versus-a-copy",
     "output_type": "error",
     "traceback": [
      "\u001b[0;31m---------------------------------------------------------------------------\u001b[0m",
      "\u001b[0;31mSettingWithCopyError\u001b[0m                      Traceback (most recent call last)",
      "Input \u001b[0;32mIn [58]\u001b[0m, in \u001b[0;36m<cell line: 2>\u001b[0;34m()\u001b[0m\n\u001b[1;32m      4\u001b[0m     new_df[\u001b[38;5;124m'\u001b[39m\u001b[38;5;124mmon_fri\u001b[39m\u001b[38;5;124m'\u001b[39m][i] \u001b[38;5;241m=\u001b[39m \u001b[38;5;241m1\u001b[39m\n\u001b[1;32m      5\u001b[0m \u001b[38;5;28;01melse\u001b[39;00m:\n\u001b[0;32m----> 6\u001b[0m     new_df[\u001b[38;5;124m'\u001b[39m\u001b[38;5;124mmon_fri\u001b[39m\u001b[38;5;124m'\u001b[39m][i] \u001b[38;5;241m=\u001b[39m \u001b[38;5;241m0\u001b[39m\n",
      "File \u001b[0;32m~/opt/anaconda3/envs/Deep/lib/python3.8/site-packages/pandas/core/series.py:1075\u001b[0m, in \u001b[0;36mSeries.__setitem__\u001b[0;34m(self, key, value)\u001b[0m\n\u001b[1;32m   1073\u001b[0m check_deprecated_indexers(key)\n\u001b[1;32m   1074\u001b[0m key \u001b[38;5;241m=\u001b[39m com\u001b[38;5;241m.\u001b[39mapply_if_callable(key, \u001b[38;5;28mself\u001b[39m)\n\u001b[0;32m-> 1075\u001b[0m cacher_needs_updating \u001b[38;5;241m=\u001b[39m \u001b[38;5;28;43mself\u001b[39;49m\u001b[38;5;241;43m.\u001b[39;49m\u001b[43m_check_is_chained_assignment_possible\u001b[49m\u001b[43m(\u001b[49m\u001b[43m)\u001b[49m\n\u001b[1;32m   1077\u001b[0m \u001b[38;5;28;01mif\u001b[39;00m key \u001b[38;5;129;01mis\u001b[39;00m \u001b[38;5;28mEllipsis\u001b[39m:\n\u001b[1;32m   1078\u001b[0m     key \u001b[38;5;241m=\u001b[39m \u001b[38;5;28mslice\u001b[39m(\u001b[38;5;28;01mNone\u001b[39;00m)\n",
      "File \u001b[0;32m~/opt/anaconda3/envs/Deep/lib/python3.8/site-packages/pandas/core/series.py:1256\u001b[0m, in \u001b[0;36mSeries._check_is_chained_assignment_possible\u001b[0;34m(self)\u001b[0m\n\u001b[1;32m   1254\u001b[0m     ref \u001b[38;5;241m=\u001b[39m \u001b[38;5;28mself\u001b[39m\u001b[38;5;241m.\u001b[39m_get_cacher()\n\u001b[1;32m   1255\u001b[0m     \u001b[38;5;28;01mif\u001b[39;00m ref \u001b[38;5;129;01mis\u001b[39;00m \u001b[38;5;129;01mnot\u001b[39;00m \u001b[38;5;28;01mNone\u001b[39;00m \u001b[38;5;129;01mand\u001b[39;00m ref\u001b[38;5;241m.\u001b[39m_is_mixed_type:\n\u001b[0;32m-> 1256\u001b[0m         \u001b[38;5;28;43mself\u001b[39;49m\u001b[38;5;241;43m.\u001b[39;49m\u001b[43m_check_setitem_copy\u001b[49m\u001b[43m(\u001b[49m\u001b[43mt\u001b[49m\u001b[38;5;241;43m=\u001b[39;49m\u001b[38;5;124;43m\"\u001b[39;49m\u001b[38;5;124;43mreferent\u001b[39;49m\u001b[38;5;124;43m\"\u001b[39;49m\u001b[43m,\u001b[49m\u001b[43m \u001b[49m\u001b[43mforce\u001b[49m\u001b[38;5;241;43m=\u001b[39;49m\u001b[38;5;28;43;01mTrue\u001b[39;49;00m\u001b[43m)\u001b[49m\n\u001b[1;32m   1257\u001b[0m     \u001b[38;5;28;01mreturn\u001b[39;00m \u001b[38;5;28;01mTrue\u001b[39;00m\n\u001b[1;32m   1258\u001b[0m \u001b[38;5;28;01mreturn\u001b[39;00m \u001b[38;5;28msuper\u001b[39m()\u001b[38;5;241m.\u001b[39m_check_is_chained_assignment_possible()\n",
      "File \u001b[0;32m~/opt/anaconda3/envs/Deep/lib/python3.8/site-packages/pandas/core/generic.py:4016\u001b[0m, in \u001b[0;36mNDFrame._check_setitem_copy\u001b[0;34m(self, t, force)\u001b[0m\n\u001b[1;32m   4005\u001b[0m     t \u001b[38;5;241m=\u001b[39m (\n\u001b[1;32m   4006\u001b[0m         \u001b[38;5;124m\"\u001b[39m\u001b[38;5;130;01m\\n\u001b[39;00m\u001b[38;5;124m\"\u001b[39m\n\u001b[1;32m   4007\u001b[0m         \u001b[38;5;124m\"\u001b[39m\u001b[38;5;124mA value is trying to be set on a copy of a slice from a \u001b[39m\u001b[38;5;124m\"\u001b[39m\n\u001b[0;32m   (...)\u001b[0m\n\u001b[1;32m   4012\u001b[0m         \u001b[38;5;124m\"\u001b[39m\u001b[38;5;124mindexing.html#returning-a-view-versus-a-copy\u001b[39m\u001b[38;5;124m\"\u001b[39m\n\u001b[1;32m   4013\u001b[0m     )\n\u001b[1;32m   4015\u001b[0m \u001b[38;5;28;01mif\u001b[39;00m value \u001b[38;5;241m==\u001b[39m \u001b[38;5;124m\"\u001b[39m\u001b[38;5;124mraise\u001b[39m\u001b[38;5;124m\"\u001b[39m:\n\u001b[0;32m-> 4016\u001b[0m     \u001b[38;5;28;01mraise\u001b[39;00m com\u001b[38;5;241m.\u001b[39mSettingWithCopyError(t)\n\u001b[1;32m   4017\u001b[0m \u001b[38;5;28;01melif\u001b[39;00m value \u001b[38;5;241m==\u001b[39m \u001b[38;5;124m\"\u001b[39m\u001b[38;5;124mwarn\u001b[39m\u001b[38;5;124m\"\u001b[39m:\n\u001b[1;32m   4018\u001b[0m     warnings\u001b[38;5;241m.\u001b[39mwarn(t, com\u001b[38;5;241m.\u001b[39mSettingWithCopyWarning, stacklevel\u001b[38;5;241m=\u001b[39mfind_stack_level())\n",
      "\u001b[0;31mSettingWithCopyError\u001b[0m: \nA value is trying to be set on a copy of a slice from a DataFrame\n\nSee the caveats in the documentation: https://pandas.pydata.org/pandas-docs/stable/user_guide/indexing.html#returning-a-view-versus-a-copy"
     ]
    }
   ],
   "source": [
    "new_df['mon_fri'] = 0\n",
    "for i in range(0,len(new_df)):\n",
    "    if (new_df['Dayofweek'][i] == 0 or new_df['Dayofweek'][i] == 4):\n",
    "        new_df['mon_fri'][i] = 1\n",
    "    else:\n",
    "        new_df['mon_fri'][i] = 0"
   ]
  },
  {
   "cell_type": "code",
   "execution_count": null,
   "id": "0cade317",
   "metadata": {},
   "outputs": [],
   "source": []
  },
  {
   "cell_type": "code",
   "execution_count": null,
   "id": "d129745e",
   "metadata": {},
   "outputs": [],
   "source": []
  },
  {
   "cell_type": "code",
   "execution_count": null,
   "id": "a9630136",
   "metadata": {},
   "outputs": [],
   "source": []
  },
  {
   "cell_type": "code",
   "execution_count": null,
   "id": "f51261d6",
   "metadata": {},
   "outputs": [],
   "source": []
  },
  {
   "cell_type": "code",
   "execution_count": null,
   "id": "19805150",
   "metadata": {},
   "outputs": [],
   "source": []
  },
  {
   "cell_type": "code",
   "execution_count": null,
   "id": "6077ef2b",
   "metadata": {},
   "outputs": [],
   "source": []
  },
  {
   "cell_type": "code",
   "execution_count": null,
   "id": "5a18a927",
   "metadata": {},
   "outputs": [],
   "source": []
  },
  {
   "cell_type": "code",
   "execution_count": null,
   "id": "a33c7f27",
   "metadata": {},
   "outputs": [],
   "source": []
  },
  {
   "cell_type": "code",
   "execution_count": null,
   "id": "b36914f3",
   "metadata": {},
   "outputs": [],
   "source": []
  },
  {
   "cell_type": "code",
   "execution_count": 162,
   "id": "894e6abd",
   "metadata": {},
   "outputs": [],
   "source": [
    "import datetime\n",
    "\n",
    "def str_to_datetime(s):\n",
    "  split = s.split('-')\n",
    "  year, month, day = int(split[0]), int(split[1]), int(split[2])\n",
    "  return datetime.datetime(year=year, month=month, day=day)"
   ]
  },
  {
   "cell_type": "code",
   "execution_count": 163,
   "id": "b72b2866",
   "metadata": {},
   "outputs": [
    {
     "data": {
      "text/plain": [
       "datetime.datetime(2017, 9, 21, 0, 0)"
      ]
     },
     "execution_count": 163,
     "metadata": {},
     "output_type": "execute_result"
    }
   ],
   "source": [
    "datetime_object = str_to_datetime('2017-09-21')\n",
    "datetime_object"
   ]
  },
  {
   "cell_type": "code",
   "execution_count": 164,
   "id": "70372cff",
   "metadata": {},
   "outputs": [],
   "source": [
    "cba = cba.drop(labels = ['open', 'high', 'low', 'close', 'adj close', 'volume'], axis=1)"
   ]
  },
  {
   "cell_type": "code",
   "execution_count": 166,
   "id": "416f89c0",
   "metadata": {},
   "outputs": [
    {
     "data": {
      "text/html": [
       "<div>\n",
       "<style scoped>\n",
       "    .dataframe tbody tr th:only-of-type {\n",
       "        vertical-align: middle;\n",
       "    }\n",
       "\n",
       "    .dataframe tbody tr th {\n",
       "        vertical-align: top;\n",
       "    }\n",
       "\n",
       "    .dataframe thead th {\n",
       "        text-align: right;\n",
       "    }\n",
       "</style>\n",
       "<table border=\"1\" class=\"dataframe\">\n",
       "  <thead>\n",
       "    <tr style=\"text-align: right;\">\n",
       "      <th></th>\n",
       "      <th>date</th>\n",
       "      <th>movement</th>\n",
       "    </tr>\n",
       "  </thead>\n",
       "  <tbody>\n",
       "    <tr>\n",
       "      <th>0</th>\n",
       "      <td>1991-10-01</td>\n",
       "      <td>0.000000</td>\n",
       "    </tr>\n",
       "    <tr>\n",
       "      <th>1</th>\n",
       "      <td>1991-10-02</td>\n",
       "      <td>0.000000</td>\n",
       "    </tr>\n",
       "    <tr>\n",
       "      <th>2</th>\n",
       "      <td>1991-10-03</td>\n",
       "      <td>0.000000</td>\n",
       "    </tr>\n",
       "    <tr>\n",
       "      <th>3</th>\n",
       "      <td>1991-10-04</td>\n",
       "      <td>0.000000</td>\n",
       "    </tr>\n",
       "    <tr>\n",
       "      <th>4</th>\n",
       "      <td>1991-10-07</td>\n",
       "      <td>0.000000</td>\n",
       "    </tr>\n",
       "    <tr>\n",
       "      <th>...</th>\n",
       "      <td>...</td>\n",
       "      <td>...</td>\n",
       "    </tr>\n",
       "    <tr>\n",
       "      <th>7856</th>\n",
       "      <td>2022-09-29</td>\n",
       "      <td>-0.709999</td>\n",
       "    </tr>\n",
       "    <tr>\n",
       "      <th>7857</th>\n",
       "      <td>2022-09-30</td>\n",
       "      <td>-2.520004</td>\n",
       "    </tr>\n",
       "    <tr>\n",
       "      <th>7858</th>\n",
       "      <td>2022-10-03</td>\n",
       "      <td>-0.540001</td>\n",
       "    </tr>\n",
       "    <tr>\n",
       "      <th>7859</th>\n",
       "      <td>2022-10-04</td>\n",
       "      <td>2.790001</td>\n",
       "    </tr>\n",
       "    <tr>\n",
       "      <th>7860</th>\n",
       "      <td>2022-10-05</td>\n",
       "      <td>1.300003</td>\n",
       "    </tr>\n",
       "  </tbody>\n",
       "</table>\n",
       "<p>7861 rows × 2 columns</p>\n",
       "</div>"
      ],
      "text/plain": [
       "           date  movement\n",
       "0    1991-10-01  0.000000\n",
       "1    1991-10-02  0.000000\n",
       "2    1991-10-03  0.000000\n",
       "3    1991-10-04  0.000000\n",
       "4    1991-10-07  0.000000\n",
       "...         ...       ...\n",
       "7856 2022-09-29 -0.709999\n",
       "7857 2022-09-30 -2.520004\n",
       "7858 2022-10-03 -0.540001\n",
       "7859 2022-10-04  2.790001\n",
       "7860 2022-10-05  1.300003\n",
       "\n",
       "[7861 rows x 2 columns]"
      ]
     },
     "execution_count": 166,
     "metadata": {},
     "output_type": "execute_result"
    }
   ],
   "source": [
    "cba"
   ]
  },
  {
   "cell_type": "code",
   "execution_count": 167,
   "id": "f281e7bd",
   "metadata": {},
   "outputs": [],
   "source": [
    "cba.index = cba.pop('date')"
   ]
  },
  {
   "cell_type": "code",
   "execution_count": 168,
   "id": "40adc0d2",
   "metadata": {},
   "outputs": [
    {
     "data": {
      "text/html": [
       "<div>\n",
       "<style scoped>\n",
       "    .dataframe tbody tr th:only-of-type {\n",
       "        vertical-align: middle;\n",
       "    }\n",
       "\n",
       "    .dataframe tbody tr th {\n",
       "        vertical-align: top;\n",
       "    }\n",
       "\n",
       "    .dataframe thead th {\n",
       "        text-align: right;\n",
       "    }\n",
       "</style>\n",
       "<table border=\"1\" class=\"dataframe\">\n",
       "  <thead>\n",
       "    <tr style=\"text-align: right;\">\n",
       "      <th></th>\n",
       "      <th>movement</th>\n",
       "    </tr>\n",
       "    <tr>\n",
       "      <th>date</th>\n",
       "      <th></th>\n",
       "    </tr>\n",
       "  </thead>\n",
       "  <tbody>\n",
       "    <tr>\n",
       "      <th>1991-10-01</th>\n",
       "      <td>0.000000</td>\n",
       "    </tr>\n",
       "    <tr>\n",
       "      <th>1991-10-02</th>\n",
       "      <td>0.000000</td>\n",
       "    </tr>\n",
       "    <tr>\n",
       "      <th>1991-10-03</th>\n",
       "      <td>0.000000</td>\n",
       "    </tr>\n",
       "    <tr>\n",
       "      <th>1991-10-04</th>\n",
       "      <td>0.000000</td>\n",
       "    </tr>\n",
       "    <tr>\n",
       "      <th>1991-10-07</th>\n",
       "      <td>0.000000</td>\n",
       "    </tr>\n",
       "    <tr>\n",
       "      <th>...</th>\n",
       "      <td>...</td>\n",
       "    </tr>\n",
       "    <tr>\n",
       "      <th>2022-09-29</th>\n",
       "      <td>-0.709999</td>\n",
       "    </tr>\n",
       "    <tr>\n",
       "      <th>2022-09-30</th>\n",
       "      <td>-2.520004</td>\n",
       "    </tr>\n",
       "    <tr>\n",
       "      <th>2022-10-03</th>\n",
       "      <td>-0.540001</td>\n",
       "    </tr>\n",
       "    <tr>\n",
       "      <th>2022-10-04</th>\n",
       "      <td>2.790001</td>\n",
       "    </tr>\n",
       "    <tr>\n",
       "      <th>2022-10-05</th>\n",
       "      <td>1.300003</td>\n",
       "    </tr>\n",
       "  </tbody>\n",
       "</table>\n",
       "<p>7861 rows × 1 columns</p>\n",
       "</div>"
      ],
      "text/plain": [
       "            movement\n",
       "date                \n",
       "1991-10-01  0.000000\n",
       "1991-10-02  0.000000\n",
       "1991-10-03  0.000000\n",
       "1991-10-04  0.000000\n",
       "1991-10-07  0.000000\n",
       "...              ...\n",
       "2022-09-29 -0.709999\n",
       "2022-09-30 -2.520004\n",
       "2022-10-03 -0.540001\n",
       "2022-10-04  2.790001\n",
       "2022-10-05  1.300003\n",
       "\n",
       "[7861 rows x 1 columns]"
      ]
     },
     "execution_count": 168,
     "metadata": {},
     "output_type": "execute_result"
    }
   ],
   "source": [
    "cba"
   ]
  },
  {
   "cell_type": "code",
   "execution_count": 169,
   "id": "bb87e21e",
   "metadata": {},
   "outputs": [],
   "source": [
    "df2 = cba.copy()"
   ]
  },
  {
   "cell_type": "code",
   "execution_count": 170,
   "id": "c78e60d3",
   "metadata": {},
   "outputs": [],
   "source": [
    "def create_features(df2):\n",
    "    \"\"\"\n",
    "    Create time series features based on time series index.\n",
    "    \"\"\"\n",
    "    df2['dayofweek'] = df2.index.dayofweek\n",
    "    df2['quarter'] = df2.index.quarter\n",
    "    df2['month'] = df2.index.month\n",
    "    df2['year'] = df2.index.year\n",
    "    return df2\n"
   ]
  },
  {
   "cell_type": "code",
   "execution_count": 171,
   "id": "071004d6",
   "metadata": {},
   "outputs": [],
   "source": [
    "df2 = create_features(df2)"
   ]
  },
  {
   "cell_type": "code",
   "execution_count": 172,
   "id": "b32ec41b",
   "metadata": {},
   "outputs": [
    {
     "data": {
      "text/html": [
       "<div>\n",
       "<style scoped>\n",
       "    .dataframe tbody tr th:only-of-type {\n",
       "        vertical-align: middle;\n",
       "    }\n",
       "\n",
       "    .dataframe tbody tr th {\n",
       "        vertical-align: top;\n",
       "    }\n",
       "\n",
       "    .dataframe thead th {\n",
       "        text-align: right;\n",
       "    }\n",
       "</style>\n",
       "<table border=\"1\" class=\"dataframe\">\n",
       "  <thead>\n",
       "    <tr style=\"text-align: right;\">\n",
       "      <th></th>\n",
       "      <th>movement</th>\n",
       "      <th>dayofweek</th>\n",
       "      <th>quarter</th>\n",
       "      <th>month</th>\n",
       "      <th>year</th>\n",
       "    </tr>\n",
       "    <tr>\n",
       "      <th>date</th>\n",
       "      <th></th>\n",
       "      <th></th>\n",
       "      <th></th>\n",
       "      <th></th>\n",
       "      <th></th>\n",
       "    </tr>\n",
       "  </thead>\n",
       "  <tbody>\n",
       "    <tr>\n",
       "      <th>1991-10-01</th>\n",
       "      <td>0.000000</td>\n",
       "      <td>1</td>\n",
       "      <td>4</td>\n",
       "      <td>10</td>\n",
       "      <td>1991</td>\n",
       "    </tr>\n",
       "    <tr>\n",
       "      <th>1991-10-02</th>\n",
       "      <td>0.000000</td>\n",
       "      <td>2</td>\n",
       "      <td>4</td>\n",
       "      <td>10</td>\n",
       "      <td>1991</td>\n",
       "    </tr>\n",
       "    <tr>\n",
       "      <th>1991-10-03</th>\n",
       "      <td>0.000000</td>\n",
       "      <td>3</td>\n",
       "      <td>4</td>\n",
       "      <td>10</td>\n",
       "      <td>1991</td>\n",
       "    </tr>\n",
       "    <tr>\n",
       "      <th>1991-10-04</th>\n",
       "      <td>0.000000</td>\n",
       "      <td>4</td>\n",
       "      <td>4</td>\n",
       "      <td>10</td>\n",
       "      <td>1991</td>\n",
       "    </tr>\n",
       "    <tr>\n",
       "      <th>1991-10-07</th>\n",
       "      <td>0.000000</td>\n",
       "      <td>0</td>\n",
       "      <td>4</td>\n",
       "      <td>10</td>\n",
       "      <td>1991</td>\n",
       "    </tr>\n",
       "    <tr>\n",
       "      <th>...</th>\n",
       "      <td>...</td>\n",
       "      <td>...</td>\n",
       "      <td>...</td>\n",
       "      <td>...</td>\n",
       "      <td>...</td>\n",
       "    </tr>\n",
       "    <tr>\n",
       "      <th>2022-09-29</th>\n",
       "      <td>-0.709999</td>\n",
       "      <td>3</td>\n",
       "      <td>3</td>\n",
       "      <td>9</td>\n",
       "      <td>2022</td>\n",
       "    </tr>\n",
       "    <tr>\n",
       "      <th>2022-09-30</th>\n",
       "      <td>-2.520004</td>\n",
       "      <td>4</td>\n",
       "      <td>3</td>\n",
       "      <td>9</td>\n",
       "      <td>2022</td>\n",
       "    </tr>\n",
       "    <tr>\n",
       "      <th>2022-10-03</th>\n",
       "      <td>-0.540001</td>\n",
       "      <td>0</td>\n",
       "      <td>4</td>\n",
       "      <td>10</td>\n",
       "      <td>2022</td>\n",
       "    </tr>\n",
       "    <tr>\n",
       "      <th>2022-10-04</th>\n",
       "      <td>2.790001</td>\n",
       "      <td>1</td>\n",
       "      <td>4</td>\n",
       "      <td>10</td>\n",
       "      <td>2022</td>\n",
       "    </tr>\n",
       "    <tr>\n",
       "      <th>2022-10-05</th>\n",
       "      <td>1.300003</td>\n",
       "      <td>2</td>\n",
       "      <td>4</td>\n",
       "      <td>10</td>\n",
       "      <td>2022</td>\n",
       "    </tr>\n",
       "  </tbody>\n",
       "</table>\n",
       "<p>7861 rows × 5 columns</p>\n",
       "</div>"
      ],
      "text/plain": [
       "            movement  dayofweek  quarter  month  year\n",
       "date                                                 \n",
       "1991-10-01  0.000000          1        4     10  1991\n",
       "1991-10-02  0.000000          2        4     10  1991\n",
       "1991-10-03  0.000000          3        4     10  1991\n",
       "1991-10-04  0.000000          4        4     10  1991\n",
       "1991-10-07  0.000000          0        4     10  1991\n",
       "...              ...        ...      ...    ...   ...\n",
       "2022-09-29 -0.709999          3        3      9  2022\n",
       "2022-09-30 -2.520004          4        3      9  2022\n",
       "2022-10-03 -0.540001          0        4     10  2022\n",
       "2022-10-04  2.790001          1        4     10  2022\n",
       "2022-10-05  1.300003          2        4     10  2022\n",
       "\n",
       "[7861 rows x 5 columns]"
      ]
     },
     "execution_count": 172,
     "metadata": {},
     "output_type": "execute_result"
    }
   ],
   "source": [
    "df2"
   ]
  },
  {
   "cell_type": "code",
   "execution_count": 173,
   "id": "4acf80cd",
   "metadata": {},
   "outputs": [
    {
     "data": {
      "image/png": "[encoded data removed]",
      "text/plain": [
       "<Figure size 720x576 with 1 Axes>"
      ]
     },
     "metadata": {
      "needs_background": "light"
     },
     "output_type": "display_data"
    }
   ],
   "source": [
    "fig, ax = plt.subplots(figsize=(10, 8))\n",
    "sns.boxplot(data=df2, x='dayofweek', y='movement')\n",
    "ax.set_title('Price by day of week')\n",
    "plt.show()"
   ]
  },
  {
   "cell_type": "code",
   "execution_count": 174,
   "id": "015810f0",
   "metadata": {},
   "outputs": [
    {
     "data": {
      "image/png": "[encoded data removed]",
      "text/plain": [
       "<Figure size 720x576 with 1 Axes>"
      ]
     },
     "metadata": {
      "needs_background": "light"
     },
     "output_type": "display_data"
    }
   ],
   "source": [
    "fig, ax = plt.subplots(figsize=(10, 8))\n",
    "sns.boxplot(data=df2, x='month', y='movement')\n",
    "ax.set_title('Price by month')\n",
    "plt.show()"
   ]
  },
  {
   "cell_type": "code",
   "execution_count": 175,
   "id": "04186d45",
   "metadata": {},
   "outputs": [
    {
     "data": {
      "image/png": "[encoded data removed]",
      "text/plain": [
       "<Figure size 720x576 with 1 Axes>"
      ]
     },
     "metadata": {
      "needs_background": "light"
     },
     "output_type": "display_data"
    }
   ],
   "source": [
    "fig, ax = plt.subplots(figsize=(10, 8))\n",
    "sns.boxplot(data=df2, x='quarter', y='movement')\n",
    "ax.set_title('Price by quarter')\n",
    "plt.show()"
   ]
  },
  {
   "cell_type": "code",
   "execution_count": 176,
   "id": "86f17fe6",
   "metadata": {},
   "outputs": [
    {
     "data": {
      "image/png": "[encoded data removed]",
      "text/plain": [
       "<Figure size 720x576 with 1 Axes>"
      ]
     },
     "metadata": {
      "needs_background": "light"
     },
     "output_type": "display_data"
    }
   ],
   "source": [
    "fig, ax = plt.subplots(figsize=(10, 8))\n",
    "sns.boxplot(data=df2, x='year', y='movement')\n",
    "ax.set_title('Price by year')\n",
    "plt.show()"
   ]
  },
  {
   "cell_type": "markdown",
   "id": "94421ae5",
   "metadata": {},
   "source": [
    "### Converting data to Supervised learning problem"
   ]
  },
  {
   "cell_type": "code",
   "execution_count": 179,
   "id": "42d531a2",
   "metadata": {},
   "outputs": [],
   "source": [
    "def df_to_windowed_df(dataframe, first_date_str, last_date_str, n=3):\n",
    "  first_date = str_to_datetime(first_date_str)\n",
    "  last_date  = str_to_datetime(last_date_str)\n",
    "\n",
    "  target_date = first_date\n",
    "  \n",
    "  dates = []\n",
    "  X, Y = [], []\n",
    "\n",
    "  last_time = False\n",
    "  while True:\n",
    "    df_subset = dataframe.loc[:target_date].tail(n+1)\n",
    "    \n",
    "    if len(df_subset) != n+1:\n",
    "      print(f'Error: Window of size {n} is too large for date {target_date}')\n",
    "      return\n",
    "\n",
    "    values = df_subset['movement'].to_numpy()\n",
    "    x, y = values[:-1], values[-1]\n",
    "\n",
    "    dates.append(target_date)\n",
    "    X.append(x)\n",
    "    Y.append(y)\n",
    "\n",
    "    next_week = dataframe.loc[target_date:target_date+datetime.timedelta(days=7)]\n",
    "    next_datetime_str = str(next_week.head(2).tail(1).index.values[0])\n",
    "    next_date_str = next_datetime_str.split('T')[0]\n",
    "    year_month_day = next_date_str.split('-')\n",
    "    year, month, day = year_month_day\n",
    "    next_date = datetime.datetime(day=int(day), month=int(month), year=int(year))\n",
    "    \n",
    "    if last_time:\n",
    "      break\n",
    "    \n",
    "    target_date = next_date\n",
    "\n",
    "    if target_date == last_date:\n",
    "      last_time = True\n",
    "    \n",
    "  ret_df = pd.DataFrame({})\n",
    "  ret_df['Target Date'] = dates\n",
    "  \n",
    "  X = np.array(X)\n",
    "  for i in range(0, n):\n",
    "    X[:, i]\n",
    "    ret_df[f'Target-{n-i}'] = X[:, i]\n",
    "  \n",
    "  ret_df['Target'] = Y\n",
    "\n",
    "  return ret_df"
   ]
  },
  {
   "cell_type": "code",
   "execution_count": 180,
   "id": "eae05cf5",
   "metadata": {},
   "outputs": [
    {
     "data": {
      "text/html": [
       "<div>\n",
       "<style scoped>\n",
       "    .dataframe tbody tr th:only-of-type {\n",
       "        vertical-align: middle;\n",
       "    }\n",
       "\n",
       "    .dataframe tbody tr th {\n",
       "        vertical-align: top;\n",
       "    }\n",
       "\n",
       "    .dataframe thead th {\n",
       "        text-align: right;\n",
       "    }\n",
       "</style>\n",
       "<table border=\"1\" class=\"dataframe\">\n",
       "  <thead>\n",
       "    <tr style=\"text-align: right;\">\n",
       "      <th></th>\n",
       "      <th>Target Date</th>\n",
       "      <th>Target-3</th>\n",
       "      <th>Target-2</th>\n",
       "      <th>Target-1</th>\n",
       "      <th>Target</th>\n",
       "    </tr>\n",
       "  </thead>\n",
       "  <tbody>\n",
       "    <tr>\n",
       "      <th>0</th>\n",
       "      <td>1991-10-04</td>\n",
       "      <td>0.000000</td>\n",
       "      <td>0.000000</td>\n",
       "      <td>0.000000</td>\n",
       "      <td>0.000000</td>\n",
       "    </tr>\n",
       "    <tr>\n",
       "      <th>1</th>\n",
       "      <td>1991-10-07</td>\n",
       "      <td>0.000000</td>\n",
       "      <td>0.000000</td>\n",
       "      <td>0.000000</td>\n",
       "      <td>0.000000</td>\n",
       "    </tr>\n",
       "    <tr>\n",
       "      <th>2</th>\n",
       "      <td>1991-10-08</td>\n",
       "      <td>0.000000</td>\n",
       "      <td>0.000000</td>\n",
       "      <td>0.000000</td>\n",
       "      <td>0.000000</td>\n",
       "    </tr>\n",
       "    <tr>\n",
       "      <th>3</th>\n",
       "      <td>1991-10-09</td>\n",
       "      <td>0.000000</td>\n",
       "      <td>0.000000</td>\n",
       "      <td>0.000000</td>\n",
       "      <td>0.000000</td>\n",
       "    </tr>\n",
       "    <tr>\n",
       "      <th>4</th>\n",
       "      <td>1991-10-10</td>\n",
       "      <td>0.000000</td>\n",
       "      <td>0.000000</td>\n",
       "      <td>0.000000</td>\n",
       "      <td>0.000000</td>\n",
       "    </tr>\n",
       "    <tr>\n",
       "      <th>...</th>\n",
       "      <td>...</td>\n",
       "      <td>...</td>\n",
       "      <td>...</td>\n",
       "      <td>...</td>\n",
       "      <td>...</td>\n",
       "    </tr>\n",
       "    <tr>\n",
       "      <th>7853</th>\n",
       "      <td>2022-09-29</td>\n",
       "      <td>1.010003</td>\n",
       "      <td>-0.510002</td>\n",
       "      <td>0.040001</td>\n",
       "      <td>-0.709999</td>\n",
       "    </tr>\n",
       "    <tr>\n",
       "      <th>7854</th>\n",
       "      <td>2022-09-30</td>\n",
       "      <td>-0.510002</td>\n",
       "      <td>0.040001</td>\n",
       "      <td>-0.709999</td>\n",
       "      <td>-2.520004</td>\n",
       "    </tr>\n",
       "    <tr>\n",
       "      <th>7855</th>\n",
       "      <td>2022-10-03</td>\n",
       "      <td>0.040001</td>\n",
       "      <td>-0.709999</td>\n",
       "      <td>-2.520004</td>\n",
       "      <td>-0.540001</td>\n",
       "    </tr>\n",
       "    <tr>\n",
       "      <th>7856</th>\n",
       "      <td>2022-10-04</td>\n",
       "      <td>-0.709999</td>\n",
       "      <td>-2.520004</td>\n",
       "      <td>-0.540001</td>\n",
       "      <td>2.790001</td>\n",
       "    </tr>\n",
       "    <tr>\n",
       "      <th>7857</th>\n",
       "      <td>2022-10-05</td>\n",
       "      <td>-2.520004</td>\n",
       "      <td>-0.540001</td>\n",
       "      <td>2.790001</td>\n",
       "      <td>1.300003</td>\n",
       "    </tr>\n",
       "  </tbody>\n",
       "</table>\n",
       "<p>7858 rows × 5 columns</p>\n",
       "</div>"
      ],
      "text/plain": [
       "     Target Date  Target-3  Target-2  Target-1    Target\n",
       "0     1991-10-04  0.000000  0.000000  0.000000  0.000000\n",
       "1     1991-10-07  0.000000  0.000000  0.000000  0.000000\n",
       "2     1991-10-08  0.000000  0.000000  0.000000  0.000000\n",
       "3     1991-10-09  0.000000  0.000000  0.000000  0.000000\n",
       "4     1991-10-10  0.000000  0.000000  0.000000  0.000000\n",
       "...          ...       ...       ...       ...       ...\n",
       "7853  2022-09-29  1.010003 -0.510002  0.040001 -0.709999\n",
       "7854  2022-09-30 -0.510002  0.040001 -0.709999 -2.520004\n",
       "7855  2022-10-03  0.040001 -0.709999 -2.520004 -0.540001\n",
       "7856  2022-10-04 -0.709999 -2.520004 -0.540001  2.790001\n",
       "7857  2022-10-05 -2.520004 -0.540001  2.790001  1.300003\n",
       "\n",
       "[7858 rows x 5 columns]"
      ]
     },
     "execution_count": 180,
     "metadata": {},
     "output_type": "execute_result"
    }
   ],
   "source": [
    "# Start day second time around \n",
    "windowed_df = df_to_windowed_df(cba, \n",
    "                                '1991-10-04', \n",
    "                                '2022-10-05', \n",
    "                                n=3)\n",
    "windowed_df"
   ]
  },
  {
   "cell_type": "markdown",
   "id": "6d8b7b07",
   "metadata": {},
   "source": [
    "### Convert data to numpy array"
   ]
  },
  {
   "cell_type": "code",
   "execution_count": 181,
   "id": "82086f15",
   "metadata": {},
   "outputs": [
    {
     "data": {
      "text/plain": [
       "((7858,), (7858, 3, 1), (7858,))"
      ]
     },
     "execution_count": 181,
     "metadata": {},
     "output_type": "execute_result"
    }
   ],
   "source": [
    "def windowed_df_to_date_X_y(windowed_dataframe):\n",
    "  df_as_np = windowed_dataframe.to_numpy()\n",
    "\n",
    "  dates = df_as_np[:, 0]\n",
    "\n",
    "  middle_matrix = df_as_np[:, 1:-1]\n",
    "  X = middle_matrix.reshape((len(dates), middle_matrix.shape[1], 1)) # Using 1 for Univariate forecasting\n",
    "\n",
    "  Y = df_as_np[:, -1]\n",
    "\n",
    "  return dates, X.astype(np.float32), Y.astype(np.float32)\n",
    "\n",
    "dates, X, y = windowed_df_to_date_X_y(windowed_df)\n",
    "\n",
    "dates.shape, X.shape, y.shape"
   ]
  },
  {
   "cell_type": "markdown",
   "id": "df5988d1",
   "metadata": {},
   "source": [
    "### Split data into Train and Test"
   ]
  },
  {
   "cell_type": "code",
   "execution_count": 182,
   "id": "c9036c6e",
   "metadata": {},
   "outputs": [
    {
     "data": {
      "text/plain": [
       "<matplotlib.legend.Legend at 0x7fcbf8192cd0>"
      ]
     },
     "execution_count": 182,
     "metadata": {},
     "output_type": "execute_result"
    },
    {
     "data": {
      "image/png": "[encoded data removed]",
      "text/plain": [
       "<Figure size 432x288 with 1 Axes>"
      ]
     },
     "metadata": {
      "needs_background": "light"
     },
     "output_type": "display_data"
    }
   ],
   "source": [
    "q_80 = int(len(dates) * .8)\n",
    "q_90 = int(len(dates) * .9)\n",
    "\n",
    "dates_train, X_train, y_train = dates[:q_80], X[:q_80], y[:q_80]\n",
    "\n",
    "dates_val, X_val, y_val = dates[q_80:q_90], X[q_80:q_90], y[q_80:q_90]\n",
    "dates_test, X_test, y_test = dates[q_90:], X[q_90:], y[q_90:]\n",
    "\n",
    "plt.plot(dates_train, y_train)\n",
    "plt.plot(dates_val, y_val)\n",
    "plt.plot(dates_test, y_test)\n",
    "\n",
    "plt.legend(['Train', 'Validation', 'Test'])"
   ]
  },
  {
   "cell_type": "code",
   "execution_count": 183,
   "id": "56d74074",
   "metadata": {},
   "outputs": [
    {
     "name": "stderr",
     "output_type": "stream",
     "text": [
      "2022-10-05 21:44:45.145205: I tensorflow/core/platform/cpu_feature_guard.cc:151] This TensorFlow binary is optimized with oneAPI Deep Neural Network Library (oneDNN) to use the following CPU instructions in performance-critical operations:  SSE4.1 SSE4.2 AVX AVX2 FMA\n",
      "To enable them in other operations, rebuild TensorFlow with the appropriate compiler flags.\n"
     ]
    },
    {
     "name": "stdout",
     "output_type": "stream",
     "text": [
      "Epoch 1/100\n",
      "197/197 [==============================] - 3s 5ms/step - loss: 0.1902 - mean_absolute_error: 0.2582 - val_loss: 0.3532 - val_mean_absolute_error: 0.4675\n",
      "Epoch 2/100\n",
      "197/197 [==============================] - 1s 3ms/step - loss: 0.1899 - mean_absolute_error: 0.2568 - val_loss: 0.3533 - val_mean_absolute_error: 0.4675\n",
      "Epoch 3/100\n",
      "197/197 [==============================] - 1s 3ms/step - loss: 0.1897 - mean_absolute_error: 0.2563 - val_loss: 0.3529 - val_mean_absolute_error: 0.4672\n",
      "Epoch 4/100\n",
      "197/197 [==============================] - 1s 3ms/step - loss: 0.1896 - mean_absolute_error: 0.2556 - val_loss: 0.3535 - val_mean_absolute_error: 0.4676\n",
      "Epoch 5/100\n",
      "197/197 [==============================] - 1s 3ms/step - loss: 0.1893 - mean_absolute_error: 0.2557 - val_loss: 0.3533 - val_mean_absolute_error: 0.4677\n",
      "Epoch 6/100\n",
      "197/197 [==============================] - 1s 3ms/step - loss: 0.1892 - mean_absolute_error: 0.2558 - val_loss: 0.3526 - val_mean_absolute_error: 0.4677\n",
      "Epoch 7/100\n",
      "197/197 [==============================] - 1s 3ms/step - loss: 0.1889 - mean_absolute_error: 0.2552 - val_loss: 0.3517 - val_mean_absolute_error: 0.4671\n",
      "Epoch 8/100\n",
      "197/197 [==============================] - 1s 3ms/step - loss: 0.1886 - mean_absolute_error: 0.2563 - val_loss: 0.3531 - val_mean_absolute_error: 0.4687\n",
      "Epoch 9/100\n",
      "197/197 [==============================] - 1s 3ms/step - loss: 0.1882 - mean_absolute_error: 0.2566 - val_loss: 0.3523 - val_mean_absolute_error: 0.4676\n",
      "Epoch 10/100\n",
      "197/197 [==============================] - 1s 3ms/step - loss: 0.1881 - mean_absolute_error: 0.2558 - val_loss: 0.3528 - val_mean_absolute_error: 0.4674\n",
      "Epoch 11/100\n",
      "197/197 [==============================] - 1s 4ms/step - loss: 0.1880 - mean_absolute_error: 0.2555 - val_loss: 0.3524 - val_mean_absolute_error: 0.4680\n",
      "Epoch 12/100\n",
      "197/197 [==============================] - 1s 4ms/step - loss: 0.1875 - mean_absolute_error: 0.2561 - val_loss: 0.3642 - val_mean_absolute_error: 0.4757\n",
      "Epoch 13/100\n",
      "197/197 [==============================] - 1s 3ms/step - loss: 0.1880 - mean_absolute_error: 0.2571 - val_loss: 0.3548 - val_mean_absolute_error: 0.4686\n",
      "Epoch 14/100\n",
      "197/197 [==============================] - 1s 4ms/step - loss: 0.1871 - mean_absolute_error: 0.2552 - val_loss: 0.3528 - val_mean_absolute_error: 0.4673\n",
      "Epoch 15/100\n",
      "197/197 [==============================] - 1s 3ms/step - loss: 0.1868 - mean_absolute_error: 0.2542 - val_loss: 0.3536 - val_mean_absolute_error: 0.4682\n",
      "Epoch 16/100\n",
      "197/197 [==============================] - 1s 3ms/step - loss: 0.1882 - mean_absolute_error: 0.2551 - val_loss: 0.3544 - val_mean_absolute_error: 0.4689\n",
      "Epoch 17/100\n",
      "197/197 [==============================] - 1s 4ms/step - loss: 0.1869 - mean_absolute_error: 0.2554 - val_loss: 0.3518 - val_mean_absolute_error: 0.4674\n",
      "Epoch 18/100\n",
      "197/197 [==============================] - 1s 3ms/step - loss: 0.1869 - mean_absolute_error: 0.2554 - val_loss: 0.3527 - val_mean_absolute_error: 0.4680\n",
      "Epoch 19/100\n",
      "197/197 [==============================] - 1s 3ms/step - loss: 0.1868 - mean_absolute_error: 0.2546 - val_loss: 0.3523 - val_mean_absolute_error: 0.4671\n",
      "Epoch 20/100\n",
      "197/197 [==============================] - 1s 3ms/step - loss: 0.1866 - mean_absolute_error: 0.2559 - val_loss: 0.3528 - val_mean_absolute_error: 0.4682\n",
      "Epoch 21/100\n",
      "197/197 [==============================] - 1s 3ms/step - loss: 0.1867 - mean_absolute_error: 0.2553 - val_loss: 0.3537 - val_mean_absolute_error: 0.4691\n",
      "Epoch 22/100\n",
      "197/197 [==============================] - 1s 3ms/step - loss: 0.1861 - mean_absolute_error: 0.2550 - val_loss: 0.3532 - val_mean_absolute_error: 0.4688\n",
      "Epoch 23/100\n",
      "197/197 [==============================] - 1s 3ms/step - loss: 0.1862 - mean_absolute_error: 0.2540 - val_loss: 0.3509 - val_mean_absolute_error: 0.4674\n",
      "Epoch 24/100\n",
      "197/197 [==============================] - 1s 3ms/step - loss: 0.1861 - mean_absolute_error: 0.2545 - val_loss: 0.3542 - val_mean_absolute_error: 0.4684\n",
      "Epoch 25/100\n",
      "197/197 [==============================] - 1s 4ms/step - loss: 0.1854 - mean_absolute_error: 0.2545 - val_loss: 0.3588 - val_mean_absolute_error: 0.4716\n",
      "Epoch 26/100\n",
      "197/197 [==============================] - 1s 4ms/step - loss: 0.1867 - mean_absolute_error: 0.2550 - val_loss: 0.3532 - val_mean_absolute_error: 0.4687\n",
      "Epoch 27/100\n",
      "197/197 [==============================] - 1s 4ms/step - loss: 0.1861 - mean_absolute_error: 0.2560 - val_loss: 0.3522 - val_mean_absolute_error: 0.4679\n",
      "Epoch 28/100\n",
      "197/197 [==============================] - 1s 4ms/step - loss: 0.1854 - mean_absolute_error: 0.2557 - val_loss: 0.3531 - val_mean_absolute_error: 0.4681\n",
      "Epoch 29/100\n",
      "197/197 [==============================] - 1s 3ms/step - loss: 0.1854 - mean_absolute_error: 0.2554 - val_loss: 0.3525 - val_mean_absolute_error: 0.4681\n",
      "Epoch 30/100\n",
      "197/197 [==============================] - 1s 3ms/step - loss: 0.1853 - mean_absolute_error: 0.2547 - val_loss: 0.3541 - val_mean_absolute_error: 0.4689\n",
      "Epoch 31/100\n",
      "197/197 [==============================] - 1s 3ms/step - loss: 0.1854 - mean_absolute_error: 0.2549 - val_loss: 0.3548 - val_mean_absolute_error: 0.4697\n",
      "Epoch 32/100\n",
      "197/197 [==============================] - 1s 3ms/step - loss: 0.1856 - mean_absolute_error: 0.2546 - val_loss: 0.3519 - val_mean_absolute_error: 0.4672\n",
      "Epoch 33/100\n",
      "197/197 [==============================] - 1s 3ms/step - loss: 0.1842 - mean_absolute_error: 0.2537 - val_loss: 0.3546 - val_mean_absolute_error: 0.4689\n",
      "Epoch 34/100\n",
      "197/197 [==============================] - 1s 3ms/step - loss: 0.1846 - mean_absolute_error: 0.2550 - val_loss: 0.3538 - val_mean_absolute_error: 0.4680\n",
      "Epoch 35/100\n",
      "197/197 [==============================] - 1s 3ms/step - loss: 0.1846 - mean_absolute_error: 0.2550 - val_loss: 0.3515 - val_mean_absolute_error: 0.4668\n",
      "Epoch 36/100\n",
      "197/197 [==============================] - 1s 3ms/step - loss: 0.1839 - mean_absolute_error: 0.2538 - val_loss: 0.3532 - val_mean_absolute_error: 0.4688\n",
      "Epoch 37/100\n",
      "197/197 [==============================] - 1s 3ms/step - loss: 0.1841 - mean_absolute_error: 0.2543 - val_loss: 0.3584 - val_mean_absolute_error: 0.4717\n",
      "Epoch 38/100\n",
      "197/197 [==============================] - 1s 3ms/step - loss: 0.1843 - mean_absolute_error: 0.2545 - val_loss: 0.3584 - val_mean_absolute_error: 0.4709\n",
      "Epoch 39/100\n",
      "197/197 [==============================] - 1s 4ms/step - loss: 0.1840 - mean_absolute_error: 0.2533 - val_loss: 0.3519 - val_mean_absolute_error: 0.4669\n",
      "Epoch 40/100\n",
      "197/197 [==============================] - 1s 3ms/step - loss: 0.1841 - mean_absolute_error: 0.2550 - val_loss: 0.3510 - val_mean_absolute_error: 0.4674\n",
      "Epoch 41/100\n",
      "197/197 [==============================] - 1s 3ms/step - loss: 0.1835 - mean_absolute_error: 0.2541 - val_loss: 0.3584 - val_mean_absolute_error: 0.4712\n",
      "Epoch 42/100\n",
      "197/197 [==============================] - 1s 3ms/step - loss: 0.1831 - mean_absolute_error: 0.2540 - val_loss: 0.3532 - val_mean_absolute_error: 0.4683\n",
      "Epoch 43/100\n",
      "197/197 [==============================] - 1s 3ms/step - loss: 0.1831 - mean_absolute_error: 0.2539 - val_loss: 0.3538 - val_mean_absolute_error: 0.4688\n",
      "Epoch 44/100\n",
      "197/197 [==============================] - 1s 3ms/step - loss: 0.1827 - mean_absolute_error: 0.2541 - val_loss: 0.3547 - val_mean_absolute_error: 0.4694\n",
      "Epoch 45/100\n",
      "197/197 [==============================] - 1s 3ms/step - loss: 0.1824 - mean_absolute_error: 0.2544 - val_loss: 0.3536 - val_mean_absolute_error: 0.4683\n",
      "Epoch 46/100\n",
      "197/197 [==============================] - 1s 3ms/step - loss: 0.1825 - mean_absolute_error: 0.2537 - val_loss: 0.3534 - val_mean_absolute_error: 0.4679\n",
      "Epoch 47/100\n",
      "197/197 [==============================] - 1s 3ms/step - loss: 0.1824 - mean_absolute_error: 0.2569 - val_loss: 0.3572 - val_mean_absolute_error: 0.4707\n",
      "Epoch 48/100\n",
      "197/197 [==============================] - 1s 3ms/step - loss: 0.1827 - mean_absolute_error: 0.2544 - val_loss: 0.3528 - val_mean_absolute_error: 0.4682\n",
      "Epoch 49/100\n",
      "197/197 [==============================] - 1s 3ms/step - loss: 0.1831 - mean_absolute_error: 0.2536 - val_loss: 0.3524 - val_mean_absolute_error: 0.4680\n",
      "Epoch 50/100\n",
      "197/197 [==============================] - 1s 3ms/step - loss: 0.1817 - mean_absolute_error: 0.2532 - val_loss: 0.3556 - val_mean_absolute_error: 0.4698\n",
      "Epoch 51/100\n",
      "197/197 [==============================] - 1s 3ms/step - loss: 0.1810 - mean_absolute_error: 0.2537 - val_loss: 0.3598 - val_mean_absolute_error: 0.4710\n",
      "Epoch 52/100\n",
      "197/197 [==============================] - 1s 3ms/step - loss: 0.1819 - mean_absolute_error: 0.2535 - val_loss: 0.3621 - val_mean_absolute_error: 0.4728\n",
      "Epoch 53/100\n",
      "197/197 [==============================] - 1s 3ms/step - loss: 0.1817 - mean_absolute_error: 0.2538 - val_loss: 0.3558 - val_mean_absolute_error: 0.4691\n",
      "Epoch 54/100\n",
      "197/197 [==============================] - 1s 3ms/step - loss: 0.1808 - mean_absolute_error: 0.2551 - val_loss: 0.3577 - val_mean_absolute_error: 0.4705\n",
      "Epoch 55/100\n",
      "197/197 [==============================] - 1s 3ms/step - loss: 0.1809 - mean_absolute_error: 0.2528 - val_loss: 0.3598 - val_mean_absolute_error: 0.4718\n",
      "Epoch 56/100\n",
      "197/197 [==============================] - 1s 3ms/step - loss: 0.1804 - mean_absolute_error: 0.2531 - val_loss: 0.3611 - val_mean_absolute_error: 0.4728\n",
      "Epoch 57/100\n",
      "197/197 [==============================] - 1s 3ms/step - loss: 0.1804 - mean_absolute_error: 0.2532 - val_loss: 0.3595 - val_mean_absolute_error: 0.4725\n",
      "Epoch 58/100\n",
      "197/197 [==============================] - 1s 3ms/step - loss: 0.1804 - mean_absolute_error: 0.2541 - val_loss: 0.3524 - val_mean_absolute_error: 0.4673\n",
      "Epoch 59/100\n",
      "197/197 [==============================] - 1s 3ms/step - loss: 0.1804 - mean_absolute_error: 0.2541 - val_loss: 0.3619 - val_mean_absolute_error: 0.4723\n",
      "Epoch 60/100\n",
      "197/197 [==============================] - 1s 3ms/step - loss: 0.1797 - mean_absolute_error: 0.2526 - val_loss: 0.3573 - val_mean_absolute_error: 0.4699\n",
      "Epoch 61/100\n",
      "197/197 [==============================] - 1s 4ms/step - loss: 0.1802 - mean_absolute_error: 0.2527 - val_loss: 0.3571 - val_mean_absolute_error: 0.4693\n",
      "Epoch 62/100\n",
      "197/197 [==============================] - 1s 3ms/step - loss: 0.1797 - mean_absolute_error: 0.2527 - val_loss: 0.3635 - val_mean_absolute_error: 0.4733\n",
      "Epoch 63/100\n",
      "197/197 [==============================] - 1s 3ms/step - loss: 0.1789 - mean_absolute_error: 0.2534 - val_loss: 0.3609 - val_mean_absolute_error: 0.4716\n",
      "Epoch 64/100\n",
      "197/197 [==============================] - 1s 3ms/step - loss: 0.1792 - mean_absolute_error: 0.2529 - val_loss: 0.3578 - val_mean_absolute_error: 0.4701\n",
      "Epoch 65/100\n",
      "197/197 [==============================] - 1s 3ms/step - loss: 0.1780 - mean_absolute_error: 0.2517 - val_loss: 0.3644 - val_mean_absolute_error: 0.4743\n",
      "Epoch 66/100\n",
      "197/197 [==============================] - 1s 3ms/step - loss: 0.1792 - mean_absolute_error: 0.2526 - val_loss: 0.3606 - val_mean_absolute_error: 0.4716\n",
      "Epoch 67/100\n",
      "197/197 [==============================] - 1s 3ms/step - loss: 0.1783 - mean_absolute_error: 0.2523 - val_loss: 0.3562 - val_mean_absolute_error: 0.4687\n",
      "Epoch 68/100\n",
      "197/197 [==============================] - 1s 3ms/step - loss: 0.1772 - mean_absolute_error: 0.2526 - val_loss: 0.3549 - val_mean_absolute_error: 0.4683\n",
      "Epoch 69/100\n",
      "197/197 [==============================] - 1s 3ms/step - loss: 0.1776 - mean_absolute_error: 0.2520 - val_loss: 0.3570 - val_mean_absolute_error: 0.4691\n",
      "Epoch 70/100\n",
      "197/197 [==============================] - 1s 3ms/step - loss: 0.1766 - mean_absolute_error: 0.2519 - val_loss: 0.3585 - val_mean_absolute_error: 0.4707\n",
      "Epoch 71/100\n",
      "197/197 [==============================] - 1s 3ms/step - loss: 0.1765 - mean_absolute_error: 0.2510 - val_loss: 0.3602 - val_mean_absolute_error: 0.4719\n",
      "Epoch 72/100\n",
      "197/197 [==============================] - 1s 3ms/step - loss: 0.1761 - mean_absolute_error: 0.2525 - val_loss: 0.3612 - val_mean_absolute_error: 0.4727\n",
      "Epoch 73/100\n",
      "197/197 [==============================] - 1s 3ms/step - loss: 0.1764 - mean_absolute_error: 0.2529 - val_loss: 0.3630 - val_mean_absolute_error: 0.4736\n",
      "Epoch 74/100\n",
      "197/197 [==============================] - 1s 3ms/step - loss: 0.1750 - mean_absolute_error: 0.2513 - val_loss: 0.3637 - val_mean_absolute_error: 0.4743\n",
      "Epoch 75/100\n",
      "197/197 [==============================] - 1s 3ms/step - loss: 0.1752 - mean_absolute_error: 0.2521 - val_loss: 0.3605 - val_mean_absolute_error: 0.4716\n",
      "Epoch 76/100\n",
      "197/197 [==============================] - 1s 3ms/step - loss: 0.1755 - mean_absolute_error: 0.2519 - val_loss: 0.3668 - val_mean_absolute_error: 0.4762\n",
      "Epoch 77/100\n",
      "197/197 [==============================] - 1s 3ms/step - loss: 0.1754 - mean_absolute_error: 0.2518 - val_loss: 0.3623 - val_mean_absolute_error: 0.4722\n",
      "Epoch 78/100\n",
      "197/197 [==============================] - 1s 4ms/step - loss: 0.1745 - mean_absolute_error: 0.2510 - val_loss: 0.3653 - val_mean_absolute_error: 0.4753\n",
      "Epoch 79/100\n",
      "197/197 [==============================] - 1s 3ms/step - loss: 0.1730 - mean_absolute_error: 0.2502 - val_loss: 0.3540 - val_mean_absolute_error: 0.4684\n",
      "Epoch 80/100\n",
      "197/197 [==============================] - 1s 3ms/step - loss: 0.1735 - mean_absolute_error: 0.2506 - val_loss: 0.3621 - val_mean_absolute_error: 0.4729\n",
      "Epoch 81/100\n",
      "197/197 [==============================] - 1s 3ms/step - loss: 0.1737 - mean_absolute_error: 0.2497 - val_loss: 0.3611 - val_mean_absolute_error: 0.4728\n",
      "Epoch 82/100\n",
      "197/197 [==============================] - 1s 3ms/step - loss: 0.1735 - mean_absolute_error: 0.2507 - val_loss: 0.3606 - val_mean_absolute_error: 0.4721\n",
      "Epoch 83/100\n",
      "197/197 [==============================] - 1s 4ms/step - loss: 0.1722 - mean_absolute_error: 0.2497 - val_loss: 0.3567 - val_mean_absolute_error: 0.4702\n",
      "Epoch 84/100\n",
      "197/197 [==============================] - 1s 3ms/step - loss: 0.1726 - mean_absolute_error: 0.2490 - val_loss: 0.3672 - val_mean_absolute_error: 0.4771\n",
      "Epoch 85/100\n",
      "197/197 [==============================] - 1s 3ms/step - loss: 0.1725 - mean_absolute_error: 0.2496 - val_loss: 0.3630 - val_mean_absolute_error: 0.4736\n",
      "Epoch 86/100\n",
      "197/197 [==============================] - 1s 3ms/step - loss: 0.1714 - mean_absolute_error: 0.2495 - val_loss: 0.3628 - val_mean_absolute_error: 0.4746\n",
      "Epoch 87/100\n",
      "197/197 [==============================] - 1s 3ms/step - loss: 0.1717 - mean_absolute_error: 0.2486 - val_loss: 0.3653 - val_mean_absolute_error: 0.4757\n",
      "Epoch 88/100\n",
      "197/197 [==============================] - 1s 3ms/step - loss: 0.1722 - mean_absolute_error: 0.2488 - val_loss: 0.3613 - val_mean_absolute_error: 0.4730\n",
      "Epoch 89/100\n",
      "197/197 [==============================] - 1s 3ms/step - loss: 0.1711 - mean_absolute_error: 0.2488 - val_loss: 0.3731 - val_mean_absolute_error: 0.4785\n",
      "Epoch 90/100\n",
      "197/197 [==============================] - 1s 3ms/step - loss: 0.1719 - mean_absolute_error: 0.2486 - val_loss: 0.3599 - val_mean_absolute_error: 0.4724\n",
      "Epoch 91/100\n",
      "197/197 [==============================] - 1s 3ms/step - loss: 0.1711 - mean_absolute_error: 0.2476 - val_loss: 0.3610 - val_mean_absolute_error: 0.4744\n",
      "Epoch 92/100\n",
      "197/197 [==============================] - 1s 3ms/step - loss: 0.1707 - mean_absolute_error: 0.2479 - val_loss: 0.3674 - val_mean_absolute_error: 0.4769\n",
      "Epoch 93/100\n",
      "197/197 [==============================] - 1s 3ms/step - loss: 0.1709 - mean_absolute_error: 0.2483 - val_loss: 0.3638 - val_mean_absolute_error: 0.4759\n",
      "Epoch 94/100\n",
      "197/197 [==============================] - 1s 3ms/step - loss: 0.1709 - mean_absolute_error: 0.2474 - val_loss: 0.3651 - val_mean_absolute_error: 0.4759\n",
      "Epoch 95/100\n",
      "197/197 [==============================] - 1s 3ms/step - loss: 0.1699 - mean_absolute_error: 0.2479 - val_loss: 0.3624 - val_mean_absolute_error: 0.4745\n",
      "Epoch 96/100\n",
      "197/197 [==============================] - 1s 3ms/step - loss: 0.1701 - mean_absolute_error: 0.2473 - val_loss: 0.3791 - val_mean_absolute_error: 0.4835\n",
      "Epoch 97/100\n",
      "197/197 [==============================] - 1s 3ms/step - loss: 0.1701 - mean_absolute_error: 0.2480 - val_loss: 0.3686 - val_mean_absolute_error: 0.4771\n",
      "Epoch 98/100\n",
      "197/197 [==============================] - 1s 3ms/step - loss: 0.1700 - mean_absolute_error: 0.2473 - val_loss: 0.3673 - val_mean_absolute_error: 0.4779\n",
      "Epoch 99/100\n"
     ]
    },
    {
     "name": "stdout",
     "output_type": "stream",
     "text": [
      "197/197 [==============================] - 1s 3ms/step - loss: 0.1694 - mean_absolute_error: 0.2484 - val_loss: 0.3664 - val_mean_absolute_error: 0.4775\n",
      "Epoch 100/100\n",
      "197/197 [==============================] - 0s 2ms/step - loss: 0.1696 - mean_absolute_error: 0.2475 - val_loss: 0.3661 - val_mean_absolute_error: 0.4766\n"
     ]
    },
    {
     "data": {
      "text/plain": [
       "<keras.callbacks.History at 0x7fcbfa6de5e0>"
      ]
     },
     "execution_count": 183,
     "metadata": {},
     "output_type": "execute_result"
    }
   ],
   "source": [
    "from tensorflow.keras.models import Sequential\n",
    "from tensorflow.keras.optimizers import Adam\n",
    "from tensorflow.keras import layers\n",
    "\n",
    "model = Sequential([layers.Input((3, 1)),\n",
    "                    layers.LSTM(64),\n",
    "                    layers.Dense(32, activation='relu'),\n",
    "                    layers.Dense(32, activation='relu'),\n",
    "                    layers.Dense(1)])\n",
    "\n",
    "model.compile(loss='mse', \n",
    "              optimizer=Adam(learning_rate=0.001),\n",
    "              metrics=['mean_absolute_error'])\n",
    "\n",
    "model.fit(X_train, y_train, validation_data=(X_val, y_val), epochs=100)"
   ]
  },
  {
   "cell_type": "code",
   "execution_count": 184,
   "id": "9497a27b",
   "metadata": {},
   "outputs": [
    {
     "data": {
      "text/plain": [
       "<matplotlib.legend.Legend at 0x7fcbf6925a00>"
      ]
     },
     "execution_count": 184,
     "metadata": {},
     "output_type": "execute_result"
    },
    {
     "data": {
      "image/png": "[encoded data removed]",
      "text/plain": [
       "<Figure size 432x288 with 1 Axes>"
      ]
     },
     "metadata": {
      "needs_background": "light"
     },
     "output_type": "display_data"
    }
   ],
   "source": [
    "train_predictions = model.predict(X_train).flatten()\n",
    "\n",
    "plt.plot(dates_train, train_predictions)\n",
    "plt.plot(dates_train, y_train)\n",
    "plt.legend(['Training Predictions', 'Training Observations'])"
   ]
  },
  {
   "cell_type": "code",
   "execution_count": 185,
   "id": "2ec01bfc",
   "metadata": {},
   "outputs": [
    {
     "data": {
      "text/plain": [
       "<matplotlib.legend.Legend at 0x7fcbf69a4cd0>"
      ]
     },
     "execution_count": 185,
     "metadata": {},
     "output_type": "execute_result"
    },
    {
     "data": {
      "image/png": "[encoded data removed]",
      "text/plain": [
       "<Figure size 432x288 with 1 Axes>"
      ]
     },
     "metadata": {
      "needs_background": "light"
     },
     "output_type": "display_data"
    }
   ],
   "source": [
    "val_predictions = model.predict(X_val).flatten()\n",
    "\n",
    "plt.plot(dates_val, val_predictions)\n",
    "plt.plot(dates_val, y_val)\n",
    "plt.legend(['Validation Predictions', 'Validation Observations'])"
   ]
  },
  {
   "cell_type": "code",
   "execution_count": 186,
   "id": "2dbc285d",
   "metadata": {},
   "outputs": [
    {
     "data": {
      "text/plain": [
       "<matplotlib.legend.Legend at 0x7fcbfbc30d00>"
      ]
     },
     "execution_count": 186,
     "metadata": {},
     "output_type": "execute_result"
    },
    {
     "data": {
      "image/png": "[encoded data removed]",
      "text/plain": [
       "<Figure size 432x288 with 1 Axes>"
      ]
     },
     "metadata": {
      "needs_background": "light"
     },
     "output_type": "display_data"
    }
   ],
   "source": [
    "test_predictions = model.predict(X_test).flatten()\n",
    "\n",
    "plt.plot(dates_test, test_predictions)\n",
    "plt.plot(dates_test, y_test)\n",
    "plt.legend(['Testing Predictions', 'Testing Observations'])"
   ]
  },
  {
   "cell_type": "code",
   "execution_count": 187,
   "id": "3c30ee92",
   "metadata": {},
   "outputs": [
    {
     "data": {
      "text/plain": [
       "<matplotlib.legend.Legend at 0x7fcbfbe526a0>"
      ]
     },
     "execution_count": 187,
     "metadata": {},
     "output_type": "execute_result"
    },
    {
     "data": {
      "image/png": "[encoded data removed]",
      "text/plain": [
       "<Figure size 432x288 with 1 Axes>"
      ]
     },
     "metadata": {
      "needs_background": "light"
     },
     "output_type": "display_data"
    }
   ],
   "source": [
    "plt.plot(dates_train, train_predictions)\n",
    "plt.plot(dates_train, y_train)\n",
    "plt.plot(dates_val, val_predictions)\n",
    "plt.plot(dates_val, y_val)\n",
    "plt.plot(dates_test, test_predictions)\n",
    "plt.plot(dates_test, y_test)\n",
    "plt.legend(['Training Predictions', \n",
    "            'Training Observations',\n",
    "            'Validation Predictions', \n",
    "            'Validation Observations',\n",
    "            'Testing Predictions', \n",
    "            'Testing Observations'])"
   ]
  },
  {
   "cell_type": "markdown",
   "id": "c9a33484",
   "metadata": {},
   "source": [
    "### Recursive prediction using training data to predict val and test dates"
   ]
  },
  {
   "cell_type": "code",
   "execution_count": 188,
   "id": "3f042037",
   "metadata": {},
   "outputs": [],
   "source": [
    "from copy import deepcopy\n",
    "\n",
    "recursive_predictions = []\n",
    "recursive_dates = np.concatenate([dates_val, dates_test])\n",
    "\n",
    "for target_date in recursive_dates:\n",
    "  last_window = deepcopy(X_train[-1])\n",
    "  next_prediction = model.predict(np.array([last_window])).flatten()\n",
    "  recursive_predictions.append(next_prediction)\n",
    "  last_window[-1] = next_prediction"
   ]
  },
  {
   "cell_type": "code",
   "execution_count": 189,
   "id": "3e2673ca",
   "metadata": {
    "scrolled": false
   },
   "outputs": [
    {
     "data": {
      "text/plain": [
       "<matplotlib.legend.Legend at 0x7fcbfdf90c40>"
      ]
     },
     "execution_count": 189,
     "metadata": {},
     "output_type": "execute_result"
    },
    {
     "data": {
      "image/png": "[encoded data removed]",
      "text/plain": [
       "<Figure size 432x288 with 1 Axes>"
      ]
     },
     "metadata": {
      "needs_background": "light"
     },
     "output_type": "display_data"
    }
   ],
   "source": [
    "plt.plot(dates_train, train_predictions)\n",
    "plt.plot(dates_train, y_train)\n",
    "plt.plot(dates_val, val_predictions)\n",
    "plt.plot(dates_val, y_val)\n",
    "plt.plot(dates_test, test_predictions)\n",
    "plt.plot(dates_test, y_test)\n",
    "plt.plot(recursive_dates, recursive_predictions)\n",
    "plt.legend(['Training Predictions', \n",
    "            'Training Observations',\n",
    "            'Validation Predictions', \n",
    "            'Validation Observations',\n",
    "            'Testing Predictions', \n",
    "            'Testing Observations',\n",
    "            'Recursive Predictions'])"
   ]
  },
  {
   "cell_type": "code",
   "execution_count": null,
   "id": "87cd9439",
   "metadata": {},
   "outputs": [],
   "source": []
  },
  {
   "cell_type": "code",
   "execution_count": null,
   "id": "ba7b959c",
   "metadata": {},
   "outputs": [],
   "source": []
  },
  {
   "cell_type": "code",
   "execution_count": null,
   "id": "180eb1c4",
   "metadata": {},
   "outputs": [],
   "source": []
  },
  {
   "cell_type": "code",
   "execution_count": null,
   "id": "fc43c8f1",
   "metadata": {},
   "outputs": [],
   "source": []
  },
  {
   "cell_type": "code",
   "execution_count": null,
   "id": "d3caea23",
   "metadata": {},
   "outputs": [],
   "source": []
  },
  {
   "cell_type": "code",
   "execution_count": null,
   "id": "bddf233c",
   "metadata": {},
   "outputs": [],
   "source": []
  },
  {
   "cell_type": "code",
   "execution_count": null,
   "id": "58e3c6cf",
   "metadata": {},
   "outputs": [],
   "source": []
  },
  {
   "cell_type": "code",
   "execution_count": null,
   "id": "8395fe49",
   "metadata": {},
   "outputs": [],
   "source": []
  },
  {
   "cell_type": "markdown",
   "id": "488a597d",
   "metadata": {},
   "source": [
    "### Gated Recurrent Units"
   ]
  },
  {
   "cell_type": "code",
   "execution_count": null,
   "id": "fdad1cb8",
   "metadata": {},
   "outputs": [],
   "source": []
  },
  {
   "cell_type": "code",
   "execution_count": 195,
   "id": "dc65d64a",
   "metadata": {},
   "outputs": [],
   "source": [
    "from keras.models import Sequential\n",
    "from keras.layers import Dense, Dropout, LSTM, GRU, Bidirectional\n",
    "from tensorflow.keras.optimizers import SGD"
   ]
  },
  {
   "cell_type": "code",
   "execution_count": 196,
   "id": "acfd0545",
   "metadata": {},
   "outputs": [],
   "source": [
    "# The GRU architecture\n",
    "regressorGRU = Sequential()\n",
    "# First GRU layer with Dropout regularisation\n",
    "regressorGRU.add(GRU(units=50, return_sequences=True, input_shape=(x_train.shape[1],1), activation='tanh'))\n",
    "regressorGRU.add(Dropout(0.2))\n",
    "# Second GRU layer\n",
    "regressorGRU.add(GRU(units=50, return_sequences=True, input_shape=(x_train.shape[1],1), activation='tanh'))\n",
    "regressorGRU.add(Dropout(0.2))\n",
    "# Third GRU layer\n",
    "regressorGRU.add(GRU(units=50, return_sequences=True, input_shape=(x_train.shape[1],1), activation='tanh'))\n",
    "regressorGRU.add(Dropout(0.2))\n",
    "# Fourth GRU layer\n",
    "regressorGRU.add(GRU(units=50, activation='tanh'))\n",
    "regressorGRU.add(Dropout(0.2))\n",
    "# The output layer\n",
    "regressorGRU.add(Dense(units=1))"
   ]
  },
  {
   "cell_type": "code",
   "execution_count": 198,
   "id": "738e0224",
   "metadata": {},
   "outputs": [
    {
     "name": "stdout",
     "output_type": "stream",
     "text": [
      "Epoch 1/100\n"
     ]
    },
    {
     "ename": "ValueError",
     "evalue": "in user code:\n\n    File \"/Users/macbook/opt/anaconda3/envs/Deep/lib/python3.8/site-packages/keras/engine/training.py\", line 878, in train_function  *\n        return step_function(self, iterator)\n    File \"/Users/macbook/opt/anaconda3/envs/Deep/lib/python3.8/site-packages/keras/engine/training.py\", line 867, in step_function  **\n        outputs = model.distribute_strategy.run(run_step, args=(data,))\n    File \"/Users/macbook/opt/anaconda3/envs/Deep/lib/python3.8/site-packages/keras/engine/training.py\", line 860, in run_step  **\n        outputs = model.train_step(data)\n    File \"/Users/macbook/opt/anaconda3/envs/Deep/lib/python3.8/site-packages/keras/engine/training.py\", line 808, in train_step\n        y_pred = self(x, training=True)\n    File \"/Users/macbook/opt/anaconda3/envs/Deep/lib/python3.8/site-packages/keras/utils/traceback_utils.py\", line 67, in error_handler\n        raise e.with_traceback(filtered_tb) from None\n    File \"/Users/macbook/opt/anaconda3/envs/Deep/lib/python3.8/site-packages/keras/engine/input_spec.py\", line 263, in assert_input_compatibility\n        raise ValueError(f'Input {input_index} of layer \"{layer_name}\" is '\n\n    ValueError: Input 0 of layer \"sequential_2\" is incompatible with the layer: expected shape=(None, 60, 1), found shape=(None, 3, 1)\n",
     "output_type": "error",
     "traceback": [
      "\u001b[0;31m---------------------------------------------------------------------------\u001b[0m",
      "\u001b[0;31mValueError\u001b[0m                                Traceback (most recent call last)",
      "Input \u001b[0;32mIn [198]\u001b[0m, in \u001b[0;36m<cell line: 5>\u001b[0;34m()\u001b[0m\n\u001b[1;32m      1\u001b[0m regressorGRU\u001b[38;5;241m.\u001b[39mcompile(optimizer\u001b[38;5;241m=\u001b[39mSGD(lr\u001b[38;5;241m=\u001b[39m\u001b[38;5;241m0.01\u001b[39m, decay\u001b[38;5;241m=\u001b[39m\u001b[38;5;241m1e-7\u001b[39m, momentum\u001b[38;5;241m=\u001b[39m\u001b[38;5;241m0.9\u001b[39m, nesterov\u001b[38;5;241m=\u001b[39m\u001b[38;5;28;01mFalse\u001b[39;00m), loss\u001b[38;5;241m=\u001b[39m\u001b[38;5;124m'\u001b[39m\u001b[38;5;124mmean_squared_error\u001b[39m\u001b[38;5;124m'\u001b[39m)\n\u001b[1;32m      3\u001b[0m \u001b[38;5;66;03m# fitting the model\u001b[39;00m\n\u001b[0;32m----> 5\u001b[0m \u001b[43mregressorGRU\u001b[49m\u001b[38;5;241;43m.\u001b[39;49m\u001b[43mfit\u001b[49m\u001b[43m(\u001b[49m\u001b[43mX_train\u001b[49m\u001b[43m,\u001b[49m\u001b[43m \u001b[49m\u001b[43my_train\u001b[49m\u001b[43m,\u001b[49m\u001b[43m \u001b[49m\u001b[43mepochs\u001b[49m\u001b[38;5;241;43m=\u001b[39;49m\u001b[38;5;241;43m100\u001b[39;49m\u001b[43m,\u001b[49m\u001b[43m \u001b[49m\u001b[43mbatch_size\u001b[49m\u001b[38;5;241;43m=\u001b[39;49m\u001b[38;5;241;43m150\u001b[39;49m\u001b[43m)\u001b[49m\n",
      "File \u001b[0;32m~/opt/anaconda3/envs/Deep/lib/python3.8/site-packages/keras/utils/traceback_utils.py:67\u001b[0m, in \u001b[0;36mfilter_traceback.<locals>.error_handler\u001b[0;34m(*args, **kwargs)\u001b[0m\n\u001b[1;32m     65\u001b[0m \u001b[38;5;28;01mexcept\u001b[39;00m \u001b[38;5;167;01mException\u001b[39;00m \u001b[38;5;28;01mas\u001b[39;00m e:  \u001b[38;5;66;03m# pylint: disable=broad-except\u001b[39;00m\n\u001b[1;32m     66\u001b[0m   filtered_tb \u001b[38;5;241m=\u001b[39m _process_traceback_frames(e\u001b[38;5;241m.\u001b[39m__traceback__)\n\u001b[0;32m---> 67\u001b[0m   \u001b[38;5;28;01mraise\u001b[39;00m e\u001b[38;5;241m.\u001b[39mwith_traceback(filtered_tb) \u001b[38;5;28;01mfrom\u001b[39;00m \u001b[38;5;28mNone\u001b[39m\n\u001b[1;32m     68\u001b[0m \u001b[38;5;28;01mfinally\u001b[39;00m:\n\u001b[1;32m     69\u001b[0m   \u001b[38;5;28;01mdel\u001b[39;00m filtered_tb\n",
      "File \u001b[0;32m~/opt/anaconda3/envs/Deep/lib/python3.8/site-packages/tensorflow/python/framework/func_graph.py:1129\u001b[0m, in \u001b[0;36mfunc_graph_from_py_func.<locals>.autograph_handler\u001b[0;34m(*args, **kwargs)\u001b[0m\n\u001b[1;32m   1127\u001b[0m \u001b[38;5;28;01mexcept\u001b[39;00m \u001b[38;5;167;01mException\u001b[39;00m \u001b[38;5;28;01mas\u001b[39;00m e:  \u001b[38;5;66;03m# pylint:disable=broad-except\u001b[39;00m\n\u001b[1;32m   1128\u001b[0m   \u001b[38;5;28;01mif\u001b[39;00m \u001b[38;5;28mhasattr\u001b[39m(e, \u001b[38;5;124m\"\u001b[39m\u001b[38;5;124mag_error_metadata\u001b[39m\u001b[38;5;124m\"\u001b[39m):\n\u001b[0;32m-> 1129\u001b[0m     \u001b[38;5;28;01mraise\u001b[39;00m e\u001b[38;5;241m.\u001b[39mag_error_metadata\u001b[38;5;241m.\u001b[39mto_exception(e)\n\u001b[1;32m   1130\u001b[0m   \u001b[38;5;28;01melse\u001b[39;00m:\n\u001b[1;32m   1131\u001b[0m     \u001b[38;5;28;01mraise\u001b[39;00m\n",
      "\u001b[0;31mValueError\u001b[0m: in user code:\n\n    File \"/Users/macbook/opt/anaconda3/envs/Deep/lib/python3.8/site-packages/keras/engine/training.py\", line 878, in train_function  *\n        return step_function(self, iterator)\n    File \"/Users/macbook/opt/anaconda3/envs/Deep/lib/python3.8/site-packages/keras/engine/training.py\", line 867, in step_function  **\n        outputs = model.distribute_strategy.run(run_step, args=(data,))\n    File \"/Users/macbook/opt/anaconda3/envs/Deep/lib/python3.8/site-packages/keras/engine/training.py\", line 860, in run_step  **\n        outputs = model.train_step(data)\n    File \"/Users/macbook/opt/anaconda3/envs/Deep/lib/python3.8/site-packages/keras/engine/training.py\", line 808, in train_step\n        y_pred = self(x, training=True)\n    File \"/Users/macbook/opt/anaconda3/envs/Deep/lib/python3.8/site-packages/keras/utils/traceback_utils.py\", line 67, in error_handler\n        raise e.with_traceback(filtered_tb) from None\n    File \"/Users/macbook/opt/anaconda3/envs/Deep/lib/python3.8/site-packages/keras/engine/input_spec.py\", line 263, in assert_input_compatibility\n        raise ValueError(f'Input {input_index} of layer \"{layer_name}\" is '\n\n    ValueError: Input 0 of layer \"sequential_2\" is incompatible with the layer: expected shape=(None, 60, 1), found shape=(None, 3, 1)\n"
     ]
    }
   ],
   "source": [
    "regressorGRU.compile(optimizer=SGD(lr=0.01, decay=1e-7, momentum=0.9, nesterov=False), loss='mean_squared_error')\n",
    "\n",
    "# fitting the model\n",
    "\n",
    "regressorGRU.fit(X_train, y_train, epochs=100, batch_size=150)"
   ]
  },
  {
   "cell_type": "code",
   "execution_count": null,
   "id": "552816c0",
   "metadata": {},
   "outputs": [],
   "source": []
  },
  {
   "cell_type": "code",
   "execution_count": null,
   "id": "7291c04b",
   "metadata": {},
   "outputs": [],
   "source": []
  },
  {
   "cell_type": "code",
   "execution_count": null,
   "id": "f5819671",
   "metadata": {},
   "outputs": [],
   "source": []
  },
  {
   "cell_type": "code",
   "execution_count": null,
   "id": "de90ead8",
   "metadata": {},
   "outputs": [],
   "source": []
  },
  {
   "cell_type": "code",
   "execution_count": null,
   "id": "2a6e145f",
   "metadata": {},
   "outputs": [],
   "source": []
  },
  {
   "cell_type": "code",
   "execution_count": null,
   "id": "13fd361e",
   "metadata": {},
   "outputs": [],
   "source": []
  },
  {
   "cell_type": "code",
   "execution_count": null,
   "id": "973ff006",
   "metadata": {},
   "outputs": [],
   "source": []
  },
  {
   "cell_type": "code",
   "execution_count": null,
   "id": "7b79f29d",
   "metadata": {},
   "outputs": [],
   "source": []
  },
  {
   "cell_type": "code",
   "execution_count": null,
   "id": "c09795cd",
   "metadata": {},
   "outputs": [],
   "source": []
  },
  {
   "cell_type": "code",
   "execution_count": null,
   "id": "a4113785",
   "metadata": {},
   "outputs": [],
   "source": []
  },
  {
   "cell_type": "code",
   "execution_count": null,
   "id": "dbcd0641",
   "metadata": {},
   "outputs": [],
   "source": []
  },
  {
   "cell_type": "code",
   "execution_count": null,
   "id": "00f4dc61",
   "metadata": {},
   "outputs": [],
   "source": []
  },
  {
   "cell_type": "code",
   "execution_count": null,
   "id": "16fdbc58",
   "metadata": {},
   "outputs": [],
   "source": []
  },
  {
   "cell_type": "code",
   "execution_count": null,
   "id": "12ab2e69",
   "metadata": {},
   "outputs": [],
   "source": []
  },
  {
   "cell_type": "code",
   "execution_count": null,
   "id": "0ed0a15e",
   "metadata": {},
   "outputs": [],
   "source": []
  },
  {
   "cell_type": "code",
   "execution_count": null,
   "id": "827546f0",
   "metadata": {},
   "outputs": [],
   "source": []
  },
  {
   "cell_type": "code",
   "execution_count": null,
   "id": "b5abb545",
   "metadata": {},
   "outputs": [],
   "source": []
  },
  {
   "cell_type": "code",
   "execution_count": null,
   "id": "045ca5ab",
   "metadata": {},
   "outputs": [],
   "source": []
  },
  {
   "cell_type": "code",
   "execution_count": null,
   "id": "0f81c2be",
   "metadata": {},
   "outputs": [],
   "source": []
  },
  {
   "cell_type": "code",
   "execution_count": null,
   "id": "24b61ea6",
   "metadata": {},
   "outputs": [],
   "source": []
  },
  {
   "cell_type": "code",
   "execution_count": null,
   "id": "c28827b8",
   "metadata": {},
   "outputs": [],
   "source": []
  }
 ],
 "metadata": {
  "kernelspec": {
   "display_name": "Python 3 (ipykernel)",
   "language": "python",
   "name": "python3"
  },
  "language_info": {
   "codemirror_mode": {
    "name": "ipython",
    "version": 3
   },
   "file_extension": ".py",
   "mimetype": "text/x-python",
   "name": "python",
   "nbconvert_exporter": "python",
   "pygments_lexer": "ipython3",
   "version": "3.8.13"
  }
 },
 "nbformat": 4,
 "nbformat_minor": 5
}
