{
 "cells": [
  {
   "cell_type": "code",
   "execution_count": 139,
   "id": "ab8ab3f6",
   "metadata": {},
   "outputs": [],
   "source": [
    "#Importing required Libraries\n",
    "import pandas as pd\n",
    "import numpy as np\n",
    "import time\n",
    "from IPython.core.debugger import set_trace\n",
    "\n",
    "import matplotlib.pyplot as plt\n",
    "import seaborn as sns\n",
    "from pandas.plotting import register_matplotlib_converters\n",
    "register_matplotlib_converters()\n",
    "%matplotlib inline"
   ]
  },
  {
   "cell_type": "code",
   "execution_count": 96,
   "id": "3ff2aad8",
   "metadata": {},
   "outputs": [
    {
     "data": {
      "text/html": [
       "<div>\n",
       "<style scoped>\n",
       "    .dataframe tbody tr th:only-of-type {\n",
       "        vertical-align: middle;\n",
       "    }\n",
       "\n",
       "    .dataframe tbody tr th {\n",
       "        vertical-align: top;\n",
       "    }\n",
       "\n",
       "    .dataframe thead th {\n",
       "        text-align: right;\n",
       "    }\n",
       "</style>\n",
       "<table border=\"1\" class=\"dataframe\">\n",
       "  <thead>\n",
       "    <tr style=\"text-align: right;\">\n",
       "      <th></th>\n",
       "      <th>Date</th>\n",
       "      <th>Open</th>\n",
       "      <th>High</th>\n",
       "      <th>Low</th>\n",
       "      <th>Close</th>\n",
       "      <th>Adj Close</th>\n",
       "      <th>Volume</th>\n",
       "    </tr>\n",
       "  </thead>\n",
       "  <tbody>\n",
       "    <tr>\n",
       "      <th>0</th>\n",
       "      <td>2017-09-21</td>\n",
       "      <td>76.000000</td>\n",
       "      <td>76.889999</td>\n",
       "      <td>75.900002</td>\n",
       "      <td>76.070000</td>\n",
       "      <td>60.625332</td>\n",
       "      <td>4104401</td>\n",
       "    </tr>\n",
       "    <tr>\n",
       "      <th>1</th>\n",
       "      <td>2017-09-22</td>\n",
       "      <td>76.199997</td>\n",
       "      <td>77.050003</td>\n",
       "      <td>76.180000</td>\n",
       "      <td>76.620003</td>\n",
       "      <td>61.063652</td>\n",
       "      <td>2170239</td>\n",
       "    </tr>\n",
       "    <tr>\n",
       "      <th>2</th>\n",
       "      <td>2017-09-25</td>\n",
       "      <td>77.029999</td>\n",
       "      <td>77.269997</td>\n",
       "      <td>75.739998</td>\n",
       "      <td>75.809998</td>\n",
       "      <td>60.418121</td>\n",
       "      <td>2003512</td>\n",
       "    </tr>\n",
       "    <tr>\n",
       "      <th>3</th>\n",
       "      <td>2017-09-26</td>\n",
       "      <td>75.800003</td>\n",
       "      <td>75.860001</td>\n",
       "      <td>75.080002</td>\n",
       "      <td>75.099998</td>\n",
       "      <td>59.852276</td>\n",
       "      <td>2552948</td>\n",
       "    </tr>\n",
       "    <tr>\n",
       "      <th>4</th>\n",
       "      <td>2017-09-27</td>\n",
       "      <td>75.080002</td>\n",
       "      <td>75.349998</td>\n",
       "      <td>74.610001</td>\n",
       "      <td>74.849998</td>\n",
       "      <td>59.653019</td>\n",
       "      <td>2688235</td>\n",
       "    </tr>\n",
       "    <tr>\n",
       "      <th>...</th>\n",
       "      <td>...</td>\n",
       "      <td>...</td>\n",
       "      <td>...</td>\n",
       "      <td>...</td>\n",
       "      <td>...</td>\n",
       "      <td>...</td>\n",
       "      <td>...</td>\n",
       "    </tr>\n",
       "    <tr>\n",
       "      <th>1262</th>\n",
       "      <td>2022-09-15</td>\n",
       "      <td>94.849998</td>\n",
       "      <td>95.339996</td>\n",
       "      <td>94.660004</td>\n",
       "      <td>95.059998</td>\n",
       "      <td>95.059998</td>\n",
       "      <td>3364419</td>\n",
       "    </tr>\n",
       "    <tr>\n",
       "      <th>1263</th>\n",
       "      <td>2022-09-16</td>\n",
       "      <td>94.550003</td>\n",
       "      <td>95.279999</td>\n",
       "      <td>94.044998</td>\n",
       "      <td>94.230003</td>\n",
       "      <td>94.230003</td>\n",
       "      <td>5980478</td>\n",
       "    </tr>\n",
       "    <tr>\n",
       "      <th>1264</th>\n",
       "      <td>2022-09-19</td>\n",
       "      <td>94.250000</td>\n",
       "      <td>95.029999</td>\n",
       "      <td>94.250000</td>\n",
       "      <td>94.660004</td>\n",
       "      <td>94.660004</td>\n",
       "      <td>1474030</td>\n",
       "    </tr>\n",
       "    <tr>\n",
       "      <th>1265</th>\n",
       "      <td>2022-09-20</td>\n",
       "      <td>95.949997</td>\n",
       "      <td>96.800003</td>\n",
       "      <td>95.660004</td>\n",
       "      <td>96.529999</td>\n",
       "      <td>96.529999</td>\n",
       "      <td>2389248</td>\n",
       "    </tr>\n",
       "    <tr>\n",
       "      <th>1266</th>\n",
       "      <td>2022-09-21</td>\n",
       "      <td>96.279999</td>\n",
       "      <td>96.279999</td>\n",
       "      <td>95.750000</td>\n",
       "      <td>95.860001</td>\n",
       "      <td>95.860001</td>\n",
       "      <td>128860</td>\n",
       "    </tr>\n",
       "  </tbody>\n",
       "</table>\n",
       "<p>1267 rows × 7 columns</p>\n",
       "</div>"
      ],
      "text/plain": [
       "            Date       Open       High        Low      Close  Adj Close  \\\n",
       "0     2017-09-21  76.000000  76.889999  75.900002  76.070000  60.625332   \n",
       "1     2017-09-22  76.199997  77.050003  76.180000  76.620003  61.063652   \n",
       "2     2017-09-25  77.029999  77.269997  75.739998  75.809998  60.418121   \n",
       "3     2017-09-26  75.800003  75.860001  75.080002  75.099998  59.852276   \n",
       "4     2017-09-27  75.080002  75.349998  74.610001  74.849998  59.653019   \n",
       "...          ...        ...        ...        ...        ...        ...   \n",
       "1262  2022-09-15  94.849998  95.339996  94.660004  95.059998  95.059998   \n",
       "1263  2022-09-16  94.550003  95.279999  94.044998  94.230003  94.230003   \n",
       "1264  2022-09-19  94.250000  95.029999  94.250000  94.660004  94.660004   \n",
       "1265  2022-09-20  95.949997  96.800003  95.660004  96.529999  96.529999   \n",
       "1266  2022-09-21  96.279999  96.279999  95.750000  95.860001  95.860001   \n",
       "\n",
       "       Volume  \n",
       "0     4104401  \n",
       "1     2170239  \n",
       "2     2003512  \n",
       "3     2552948  \n",
       "4     2688235  \n",
       "...       ...  \n",
       "1262  3364419  \n",
       "1263  5980478  \n",
       "1264  1474030  \n",
       "1265  2389248  \n",
       "1266   128860  \n",
       "\n",
       "[1267 rows x 7 columns]"
      ]
     },
     "execution_count": 96,
     "metadata": {},
     "output_type": "execute_result"
    }
   ],
   "source": [
    "df = pd.read_csv('CBA.AX5y.csv')\n",
    "df"
   ]
  },
  {
   "cell_type": "code",
   "execution_count": 97,
   "id": "d6f7c238",
   "metadata": {},
   "outputs": [],
   "source": [
    "df.columns = df.columns.str.lower()"
   ]
  },
  {
   "cell_type": "code",
   "execution_count": 98,
   "id": "c725c189",
   "metadata": {},
   "outputs": [
    {
     "data": {
      "text/html": [
       "<div>\n",
       "<style scoped>\n",
       "    .dataframe tbody tr th:only-of-type {\n",
       "        vertical-align: middle;\n",
       "    }\n",
       "\n",
       "    .dataframe tbody tr th {\n",
       "        vertical-align: top;\n",
       "    }\n",
       "\n",
       "    .dataframe thead th {\n",
       "        text-align: right;\n",
       "    }\n",
       "</style>\n",
       "<table border=\"1\" class=\"dataframe\">\n",
       "  <thead>\n",
       "    <tr style=\"text-align: right;\">\n",
       "      <th></th>\n",
       "      <th>date</th>\n",
       "      <th>open</th>\n",
       "      <th>high</th>\n",
       "      <th>low</th>\n",
       "      <th>close</th>\n",
       "      <th>adj close</th>\n",
       "      <th>volume</th>\n",
       "      <th>mean</th>\n",
       "    </tr>\n",
       "  </thead>\n",
       "  <tbody>\n",
       "    <tr>\n",
       "      <th>0</th>\n",
       "      <td>2017-09-21</td>\n",
       "      <td>76.000000</td>\n",
       "      <td>76.889999</td>\n",
       "      <td>75.900002</td>\n",
       "      <td>76.070000</td>\n",
       "      <td>60.625332</td>\n",
       "      <td>4104401</td>\n",
       "      <td>76.395001</td>\n",
       "    </tr>\n",
       "    <tr>\n",
       "      <th>1</th>\n",
       "      <td>2017-09-22</td>\n",
       "      <td>76.199997</td>\n",
       "      <td>77.050003</td>\n",
       "      <td>76.180000</td>\n",
       "      <td>76.620003</td>\n",
       "      <td>61.063652</td>\n",
       "      <td>2170239</td>\n",
       "      <td>76.615002</td>\n",
       "    </tr>\n",
       "    <tr>\n",
       "      <th>2</th>\n",
       "      <td>2017-09-25</td>\n",
       "      <td>77.029999</td>\n",
       "      <td>77.269997</td>\n",
       "      <td>75.739998</td>\n",
       "      <td>75.809998</td>\n",
       "      <td>60.418121</td>\n",
       "      <td>2003512</td>\n",
       "      <td>76.504998</td>\n",
       "    </tr>\n",
       "    <tr>\n",
       "      <th>3</th>\n",
       "      <td>2017-09-26</td>\n",
       "      <td>75.800003</td>\n",
       "      <td>75.860001</td>\n",
       "      <td>75.080002</td>\n",
       "      <td>75.099998</td>\n",
       "      <td>59.852276</td>\n",
       "      <td>2552948</td>\n",
       "      <td>75.470001</td>\n",
       "    </tr>\n",
       "    <tr>\n",
       "      <th>4</th>\n",
       "      <td>2017-09-27</td>\n",
       "      <td>75.080002</td>\n",
       "      <td>75.349998</td>\n",
       "      <td>74.610001</td>\n",
       "      <td>74.849998</td>\n",
       "      <td>59.653019</td>\n",
       "      <td>2688235</td>\n",
       "      <td>74.979999</td>\n",
       "    </tr>\n",
       "    <tr>\n",
       "      <th>...</th>\n",
       "      <td>...</td>\n",
       "      <td>...</td>\n",
       "      <td>...</td>\n",
       "      <td>...</td>\n",
       "      <td>...</td>\n",
       "      <td>...</td>\n",
       "      <td>...</td>\n",
       "      <td>...</td>\n",
       "    </tr>\n",
       "    <tr>\n",
       "      <th>1262</th>\n",
       "      <td>2022-09-15</td>\n",
       "      <td>94.849998</td>\n",
       "      <td>95.339996</td>\n",
       "      <td>94.660004</td>\n",
       "      <td>95.059998</td>\n",
       "      <td>95.059998</td>\n",
       "      <td>3364419</td>\n",
       "      <td>95.000000</td>\n",
       "    </tr>\n",
       "    <tr>\n",
       "      <th>1263</th>\n",
       "      <td>2022-09-16</td>\n",
       "      <td>94.550003</td>\n",
       "      <td>95.279999</td>\n",
       "      <td>94.044998</td>\n",
       "      <td>94.230003</td>\n",
       "      <td>94.230003</td>\n",
       "      <td>5980478</td>\n",
       "      <td>94.662498</td>\n",
       "    </tr>\n",
       "    <tr>\n",
       "      <th>1264</th>\n",
       "      <td>2022-09-19</td>\n",
       "      <td>94.250000</td>\n",
       "      <td>95.029999</td>\n",
       "      <td>94.250000</td>\n",
       "      <td>94.660004</td>\n",
       "      <td>94.660004</td>\n",
       "      <td>1474030</td>\n",
       "      <td>94.640000</td>\n",
       "    </tr>\n",
       "    <tr>\n",
       "      <th>1265</th>\n",
       "      <td>2022-09-20</td>\n",
       "      <td>95.949997</td>\n",
       "      <td>96.800003</td>\n",
       "      <td>95.660004</td>\n",
       "      <td>96.529999</td>\n",
       "      <td>96.529999</td>\n",
       "      <td>2389248</td>\n",
       "      <td>96.230004</td>\n",
       "    </tr>\n",
       "    <tr>\n",
       "      <th>1266</th>\n",
       "      <td>2022-09-21</td>\n",
       "      <td>96.279999</td>\n",
       "      <td>96.279999</td>\n",
       "      <td>95.750000</td>\n",
       "      <td>95.860001</td>\n",
       "      <td>95.860001</td>\n",
       "      <td>128860</td>\n",
       "      <td>96.015000</td>\n",
       "    </tr>\n",
       "  </tbody>\n",
       "</table>\n",
       "<p>1267 rows × 8 columns</p>\n",
       "</div>"
      ],
      "text/plain": [
       "            date       open       high        low      close  adj close  \\\n",
       "0     2017-09-21  76.000000  76.889999  75.900002  76.070000  60.625332   \n",
       "1     2017-09-22  76.199997  77.050003  76.180000  76.620003  61.063652   \n",
       "2     2017-09-25  77.029999  77.269997  75.739998  75.809998  60.418121   \n",
       "3     2017-09-26  75.800003  75.860001  75.080002  75.099998  59.852276   \n",
       "4     2017-09-27  75.080002  75.349998  74.610001  74.849998  59.653019   \n",
       "...          ...        ...        ...        ...        ...        ...   \n",
       "1262  2022-09-15  94.849998  95.339996  94.660004  95.059998  95.059998   \n",
       "1263  2022-09-16  94.550003  95.279999  94.044998  94.230003  94.230003   \n",
       "1264  2022-09-19  94.250000  95.029999  94.250000  94.660004  94.660004   \n",
       "1265  2022-09-20  95.949997  96.800003  95.660004  96.529999  96.529999   \n",
       "1266  2022-09-21  96.279999  96.279999  95.750000  95.860001  95.860001   \n",
       "\n",
       "       volume       mean  \n",
       "0     4104401  76.395001  \n",
       "1     2170239  76.615002  \n",
       "2     2003512  76.504998  \n",
       "3     2552948  75.470001  \n",
       "4     2688235  74.979999  \n",
       "...       ...        ...  \n",
       "1262  3364419  95.000000  \n",
       "1263  5980478  94.662498  \n",
       "1264  1474030  94.640000  \n",
       "1265  2389248  96.230004  \n",
       "1266   128860  96.015000  \n",
       "\n",
       "[1267 rows x 8 columns]"
      ]
     },
     "execution_count": 98,
     "metadata": {},
     "output_type": "execute_result"
    }
   ],
   "source": [
    "df['mean'] = (df['low']+df['high'])/2\n",
    "df"
   ]
  },
  {
   "cell_type": "code",
   "execution_count": 99,
   "id": "cbb8f0b8",
   "metadata": {},
   "outputs": [
    {
     "data": {
      "text/html": [
       "<div>\n",
       "<style scoped>\n",
       "    .dataframe tbody tr th:only-of-type {\n",
       "        vertical-align: middle;\n",
       "    }\n",
       "\n",
       "    .dataframe tbody tr th {\n",
       "        vertical-align: top;\n",
       "    }\n",
       "\n",
       "    .dataframe thead th {\n",
       "        text-align: right;\n",
       "    }\n",
       "</style>\n",
       "<table border=\"1\" class=\"dataframe\">\n",
       "  <thead>\n",
       "    <tr style=\"text-align: right;\">\n",
       "      <th></th>\n",
       "      <th>date</th>\n",
       "      <th>open</th>\n",
       "      <th>high</th>\n",
       "      <th>low</th>\n",
       "      <th>close</th>\n",
       "      <th>adj close</th>\n",
       "      <th>volume</th>\n",
       "      <th>mean</th>\n",
       "      <th>actual</th>\n",
       "    </tr>\n",
       "  </thead>\n",
       "  <tbody>\n",
       "    <tr>\n",
       "      <th>0</th>\n",
       "      <td>2017-09-21</td>\n",
       "      <td>76.000000</td>\n",
       "      <td>76.889999</td>\n",
       "      <td>75.900002</td>\n",
       "      <td>76.070000</td>\n",
       "      <td>60.625332</td>\n",
       "      <td>4104401</td>\n",
       "      <td>76.395001</td>\n",
       "      <td>76.615002</td>\n",
       "    </tr>\n",
       "    <tr>\n",
       "      <th>1</th>\n",
       "      <td>2017-09-22</td>\n",
       "      <td>76.199997</td>\n",
       "      <td>77.050003</td>\n",
       "      <td>76.180000</td>\n",
       "      <td>76.620003</td>\n",
       "      <td>61.063652</td>\n",
       "      <td>2170239</td>\n",
       "      <td>76.615002</td>\n",
       "      <td>76.504998</td>\n",
       "    </tr>\n",
       "    <tr>\n",
       "      <th>2</th>\n",
       "      <td>2017-09-25</td>\n",
       "      <td>77.029999</td>\n",
       "      <td>77.269997</td>\n",
       "      <td>75.739998</td>\n",
       "      <td>75.809998</td>\n",
       "      <td>60.418121</td>\n",
       "      <td>2003512</td>\n",
       "      <td>76.504998</td>\n",
       "      <td>75.470001</td>\n",
       "    </tr>\n",
       "  </tbody>\n",
       "</table>\n",
       "</div>"
      ],
      "text/plain": [
       "         date       open       high        low      close  adj close   volume  \\\n",
       "0  2017-09-21  76.000000  76.889999  75.900002  76.070000  60.625332  4104401   \n",
       "1  2017-09-22  76.199997  77.050003  76.180000  76.620003  61.063652  2170239   \n",
       "2  2017-09-25  77.029999  77.269997  75.739998  75.809998  60.418121  2003512   \n",
       "\n",
       "        mean     actual  \n",
       "0  76.395001  76.615002  \n",
       "1  76.615002  76.504998  \n",
       "2  76.504998  75.470001  "
      ]
     },
     "execution_count": 99,
     "metadata": {},
     "output_type": "execute_result"
    }
   ],
   "source": [
    "# preparing the dataset by shifting the mean by 1\n",
    "steps=-1\n",
    "dfpred= df.copy()\n",
    "dfpred['actual']=dfpred['mean'].shift(steps)\n",
    "dfpred.head(3)"
   ]
  },
  {
   "cell_type": "code",
   "execution_count": 100,
   "id": "e3496a2a",
   "metadata": {},
   "outputs": [
    {
     "data": {
      "text/html": [
       "<div>\n",
       "<style scoped>\n",
       "    .dataframe tbody tr th:only-of-type {\n",
       "        vertical-align: middle;\n",
       "    }\n",
       "\n",
       "    .dataframe tbody tr th {\n",
       "        vertical-align: top;\n",
       "    }\n",
       "\n",
       "    .dataframe thead th {\n",
       "        text-align: right;\n",
       "    }\n",
       "</style>\n",
       "<table border=\"1\" class=\"dataframe\">\n",
       "  <thead>\n",
       "    <tr style=\"text-align: right;\">\n",
       "      <th></th>\n",
       "      <th>date</th>\n",
       "      <th>open</th>\n",
       "      <th>high</th>\n",
       "      <th>low</th>\n",
       "      <th>close</th>\n",
       "      <th>adj close</th>\n",
       "      <th>volume</th>\n",
       "      <th>mean</th>\n",
       "      <th>actual</th>\n",
       "    </tr>\n",
       "  </thead>\n",
       "  <tbody>\n",
       "    <tr>\n",
       "      <th>1262</th>\n",
       "      <td>2022-09-15</td>\n",
       "      <td>94.849998</td>\n",
       "      <td>95.339996</td>\n",
       "      <td>94.660004</td>\n",
       "      <td>95.059998</td>\n",
       "      <td>95.059998</td>\n",
       "      <td>3364419</td>\n",
       "      <td>95.000000</td>\n",
       "      <td>94.662498</td>\n",
       "    </tr>\n",
       "    <tr>\n",
       "      <th>1263</th>\n",
       "      <td>2022-09-16</td>\n",
       "      <td>94.550003</td>\n",
       "      <td>95.279999</td>\n",
       "      <td>94.044998</td>\n",
       "      <td>94.230003</td>\n",
       "      <td>94.230003</td>\n",
       "      <td>5980478</td>\n",
       "      <td>94.662498</td>\n",
       "      <td>94.640000</td>\n",
       "    </tr>\n",
       "    <tr>\n",
       "      <th>1264</th>\n",
       "      <td>2022-09-19</td>\n",
       "      <td>94.250000</td>\n",
       "      <td>95.029999</td>\n",
       "      <td>94.250000</td>\n",
       "      <td>94.660004</td>\n",
       "      <td>94.660004</td>\n",
       "      <td>1474030</td>\n",
       "      <td>94.640000</td>\n",
       "      <td>96.230004</td>\n",
       "    </tr>\n",
       "    <tr>\n",
       "      <th>1265</th>\n",
       "      <td>2022-09-20</td>\n",
       "      <td>95.949997</td>\n",
       "      <td>96.800003</td>\n",
       "      <td>95.660004</td>\n",
       "      <td>96.529999</td>\n",
       "      <td>96.529999</td>\n",
       "      <td>2389248</td>\n",
       "      <td>96.230004</td>\n",
       "      <td>96.015000</td>\n",
       "    </tr>\n",
       "    <tr>\n",
       "      <th>1266</th>\n",
       "      <td>2022-09-21</td>\n",
       "      <td>96.279999</td>\n",
       "      <td>96.279999</td>\n",
       "      <td>95.750000</td>\n",
       "      <td>95.860001</td>\n",
       "      <td>95.860001</td>\n",
       "      <td>128860</td>\n",
       "      <td>96.015000</td>\n",
       "      <td>NaN</td>\n",
       "    </tr>\n",
       "  </tbody>\n",
       "</table>\n",
       "</div>"
      ],
      "text/plain": [
       "            date       open       high        low      close  adj close  \\\n",
       "1262  2022-09-15  94.849998  95.339996  94.660004  95.059998  95.059998   \n",
       "1263  2022-09-16  94.550003  95.279999  94.044998  94.230003  94.230003   \n",
       "1264  2022-09-19  94.250000  95.029999  94.250000  94.660004  94.660004   \n",
       "1265  2022-09-20  95.949997  96.800003  95.660004  96.529999  96.529999   \n",
       "1266  2022-09-21  96.279999  96.279999  95.750000  95.860001  95.860001   \n",
       "\n",
       "       volume       mean     actual  \n",
       "1262  3364419  95.000000  94.662498  \n",
       "1263  5980478  94.662498  94.640000  \n",
       "1264  1474030  94.640000  96.230004  \n",
       "1265  2389248  96.230004  96.015000  \n",
       "1266   128860  96.015000        NaN  "
      ]
     },
     "execution_count": 100,
     "metadata": {},
     "output_type": "execute_result"
    }
   ],
   "source": [
    "dfpred.tail()"
   ]
  },
  {
   "cell_type": "code",
   "execution_count": 101,
   "id": "994c7de2",
   "metadata": {},
   "outputs": [],
   "source": [
    "dfpred = dfpred.dropna()"
   ]
  },
  {
   "cell_type": "code",
   "execution_count": 102,
   "id": "02693b69",
   "metadata": {
    "scrolled": true
   },
   "outputs": [
    {
     "data": {
      "text/html": [
       "<div>\n",
       "<style scoped>\n",
       "    .dataframe tbody tr th:only-of-type {\n",
       "        vertical-align: middle;\n",
       "    }\n",
       "\n",
       "    .dataframe tbody tr th {\n",
       "        vertical-align: top;\n",
       "    }\n",
       "\n",
       "    .dataframe thead th {\n",
       "        text-align: right;\n",
       "    }\n",
       "</style>\n",
       "<table border=\"1\" class=\"dataframe\">\n",
       "  <thead>\n",
       "    <tr style=\"text-align: right;\">\n",
       "      <th></th>\n",
       "      <th>date</th>\n",
       "      <th>open</th>\n",
       "      <th>high</th>\n",
       "      <th>low</th>\n",
       "      <th>close</th>\n",
       "      <th>adj close</th>\n",
       "      <th>volume</th>\n",
       "      <th>mean</th>\n",
       "      <th>actual</th>\n",
       "    </tr>\n",
       "  </thead>\n",
       "  <tbody>\n",
       "    <tr>\n",
       "      <th>1261</th>\n",
       "      <td>2022-09-14</td>\n",
       "      <td>95.629997</td>\n",
       "      <td>95.680000</td>\n",
       "      <td>94.430000</td>\n",
       "      <td>94.459999</td>\n",
       "      <td>94.459999</td>\n",
       "      <td>2958659</td>\n",
       "      <td>95.055000</td>\n",
       "      <td>95.000000</td>\n",
       "    </tr>\n",
       "    <tr>\n",
       "      <th>1262</th>\n",
       "      <td>2022-09-15</td>\n",
       "      <td>94.849998</td>\n",
       "      <td>95.339996</td>\n",
       "      <td>94.660004</td>\n",
       "      <td>95.059998</td>\n",
       "      <td>95.059998</td>\n",
       "      <td>3364419</td>\n",
       "      <td>95.000000</td>\n",
       "      <td>94.662498</td>\n",
       "    </tr>\n",
       "    <tr>\n",
       "      <th>1263</th>\n",
       "      <td>2022-09-16</td>\n",
       "      <td>94.550003</td>\n",
       "      <td>95.279999</td>\n",
       "      <td>94.044998</td>\n",
       "      <td>94.230003</td>\n",
       "      <td>94.230003</td>\n",
       "      <td>5980478</td>\n",
       "      <td>94.662498</td>\n",
       "      <td>94.640000</td>\n",
       "    </tr>\n",
       "    <tr>\n",
       "      <th>1264</th>\n",
       "      <td>2022-09-19</td>\n",
       "      <td>94.250000</td>\n",
       "      <td>95.029999</td>\n",
       "      <td>94.250000</td>\n",
       "      <td>94.660004</td>\n",
       "      <td>94.660004</td>\n",
       "      <td>1474030</td>\n",
       "      <td>94.640000</td>\n",
       "      <td>96.230004</td>\n",
       "    </tr>\n",
       "    <tr>\n",
       "      <th>1265</th>\n",
       "      <td>2022-09-20</td>\n",
       "      <td>95.949997</td>\n",
       "      <td>96.800003</td>\n",
       "      <td>95.660004</td>\n",
       "      <td>96.529999</td>\n",
       "      <td>96.529999</td>\n",
       "      <td>2389248</td>\n",
       "      <td>96.230004</td>\n",
       "      <td>96.015000</td>\n",
       "    </tr>\n",
       "  </tbody>\n",
       "</table>\n",
       "</div>"
      ],
      "text/plain": [
       "            date       open       high        low      close  adj close  \\\n",
       "1261  2022-09-14  95.629997  95.680000  94.430000  94.459999  94.459999   \n",
       "1262  2022-09-15  94.849998  95.339996  94.660004  95.059998  95.059998   \n",
       "1263  2022-09-16  94.550003  95.279999  94.044998  94.230003  94.230003   \n",
       "1264  2022-09-19  94.250000  95.029999  94.250000  94.660004  94.660004   \n",
       "1265  2022-09-20  95.949997  96.800003  95.660004  96.529999  96.529999   \n",
       "\n",
       "       volume       mean     actual  \n",
       "1261  2958659  95.055000  95.000000  \n",
       "1262  3364419  95.000000  94.662498  \n",
       "1263  5980478  94.662498  94.640000  \n",
       "1264  1474030  94.640000  96.230004  \n",
       "1265  2389248  96.230004  96.015000  "
      ]
     },
     "execution_count": 102,
     "metadata": {},
     "output_type": "execute_result"
    }
   ],
   "source": [
    "dfpred.tail()"
   ]
  },
  {
   "cell_type": "code",
   "execution_count": 103,
   "id": "e9e36477",
   "metadata": {},
   "outputs": [],
   "source": [
    "dfpred = dfpred.set_index('date')\n",
    "dfpred.index = pd.to_datetime(dfpred.index)"
   ]
  },
  {
   "cell_type": "code",
   "execution_count": 104,
   "id": "2917459d",
   "metadata": {},
   "outputs": [
    {
     "data": {
      "image/png": "[encoded data removed]",
      "text/plain": [
       "<Figure size 1080x360 with 1 Axes>"
      ]
     },
     "metadata": {
      "needs_background": "light"
     },
     "output_type": "display_data"
    }
   ],
   "source": [
    "dfpred['mean'].plot(style='-',\n",
    "        figsize=(15, 5),\n",
    "        title='CBA stock price')\n",
    "plt.show()"
   ]
  },
  {
   "cell_type": "code",
   "execution_count": 105,
   "id": "30a9ba38",
   "metadata": {},
   "outputs": [
    {
     "data": {
      "text/plain": [
       "Int64Index([3, 4, 0, 1, 2, 3, 4, 0, 1, 2,\n",
       "            ...\n",
       "            2, 3, 4, 0, 1, 2, 3, 4, 0, 1],\n",
       "           dtype='int64', name='date', length=1266)"
      ]
     },
     "execution_count": 105,
     "metadata": {},
     "output_type": "execute_result"
    }
   ],
   "source": [
    "dfpred.index.dayofweek"
   ]
  },
  {
   "cell_type": "code",
   "execution_count": 106,
   "id": "bc71dc95",
   "metadata": {},
   "outputs": [],
   "source": [
    "def create_features(dfpred):\n",
    "    \"\"\"\n",
    "    Create time series features based on time series index.\n",
    "    \"\"\"\n",
    "    dfpred = dfpred.copy()\n",
    "    dfpred['dayofweek'] = dfpred.index.dayofweek\n",
    "    dfpred['quarter'] = dfpred.index.quarter\n",
    "    dfpred['month'] = dfpred.index.month\n",
    "    dfpred['year'] = dfpred.index.year\n",
    "    return dfpred\n",
    "\n",
    "dfpred = create_features(dfpred)"
   ]
  },
  {
   "cell_type": "code",
   "execution_count": 107,
   "id": "588d6cb7",
   "metadata": {},
   "outputs": [
    {
     "data": {
      "text/html": [
       "<div>\n",
       "<style scoped>\n",
       "    .dataframe tbody tr th:only-of-type {\n",
       "        vertical-align: middle;\n",
       "    }\n",
       "\n",
       "    .dataframe tbody tr th {\n",
       "        vertical-align: top;\n",
       "    }\n",
       "\n",
       "    .dataframe thead th {\n",
       "        text-align: right;\n",
       "    }\n",
       "</style>\n",
       "<table border=\"1\" class=\"dataframe\">\n",
       "  <thead>\n",
       "    <tr style=\"text-align: right;\">\n",
       "      <th></th>\n",
       "      <th>open</th>\n",
       "      <th>high</th>\n",
       "      <th>low</th>\n",
       "      <th>close</th>\n",
       "      <th>adj close</th>\n",
       "      <th>volume</th>\n",
       "      <th>mean</th>\n",
       "      <th>actual</th>\n",
       "      <th>dayofweek</th>\n",
       "      <th>quarter</th>\n",
       "      <th>month</th>\n",
       "      <th>year</th>\n",
       "    </tr>\n",
       "    <tr>\n",
       "      <th>date</th>\n",
       "      <th></th>\n",
       "      <th></th>\n",
       "      <th></th>\n",
       "      <th></th>\n",
       "      <th></th>\n",
       "      <th></th>\n",
       "      <th></th>\n",
       "      <th></th>\n",
       "      <th></th>\n",
       "      <th></th>\n",
       "      <th></th>\n",
       "      <th></th>\n",
       "    </tr>\n",
       "  </thead>\n",
       "  <tbody>\n",
       "    <tr>\n",
       "      <th>2017-09-21</th>\n",
       "      <td>76.000000</td>\n",
       "      <td>76.889999</td>\n",
       "      <td>75.900002</td>\n",
       "      <td>76.070000</td>\n",
       "      <td>60.625332</td>\n",
       "      <td>4104401</td>\n",
       "      <td>76.395001</td>\n",
       "      <td>76.615002</td>\n",
       "      <td>3</td>\n",
       "      <td>3</td>\n",
       "      <td>9</td>\n",
       "      <td>2017</td>\n",
       "    </tr>\n",
       "    <tr>\n",
       "      <th>2017-09-22</th>\n",
       "      <td>76.199997</td>\n",
       "      <td>77.050003</td>\n",
       "      <td>76.180000</td>\n",
       "      <td>76.620003</td>\n",
       "      <td>61.063652</td>\n",
       "      <td>2170239</td>\n",
       "      <td>76.615002</td>\n",
       "      <td>76.504998</td>\n",
       "      <td>4</td>\n",
       "      <td>3</td>\n",
       "      <td>9</td>\n",
       "      <td>2017</td>\n",
       "    </tr>\n",
       "    <tr>\n",
       "      <th>2017-09-25</th>\n",
       "      <td>77.029999</td>\n",
       "      <td>77.269997</td>\n",
       "      <td>75.739998</td>\n",
       "      <td>75.809998</td>\n",
       "      <td>60.418121</td>\n",
       "      <td>2003512</td>\n",
       "      <td>76.504998</td>\n",
       "      <td>75.470001</td>\n",
       "      <td>0</td>\n",
       "      <td>3</td>\n",
       "      <td>9</td>\n",
       "      <td>2017</td>\n",
       "    </tr>\n",
       "    <tr>\n",
       "      <th>2017-09-26</th>\n",
       "      <td>75.800003</td>\n",
       "      <td>75.860001</td>\n",
       "      <td>75.080002</td>\n",
       "      <td>75.099998</td>\n",
       "      <td>59.852276</td>\n",
       "      <td>2552948</td>\n",
       "      <td>75.470001</td>\n",
       "      <td>74.979999</td>\n",
       "      <td>1</td>\n",
       "      <td>3</td>\n",
       "      <td>9</td>\n",
       "      <td>2017</td>\n",
       "    </tr>\n",
       "    <tr>\n",
       "      <th>2017-09-27</th>\n",
       "      <td>75.080002</td>\n",
       "      <td>75.349998</td>\n",
       "      <td>74.610001</td>\n",
       "      <td>74.849998</td>\n",
       "      <td>59.653019</td>\n",
       "      <td>2688235</td>\n",
       "      <td>74.979999</td>\n",
       "      <td>75.115002</td>\n",
       "      <td>2</td>\n",
       "      <td>3</td>\n",
       "      <td>9</td>\n",
       "      <td>2017</td>\n",
       "    </tr>\n",
       "    <tr>\n",
       "      <th>...</th>\n",
       "      <td>...</td>\n",
       "      <td>...</td>\n",
       "      <td>...</td>\n",
       "      <td>...</td>\n",
       "      <td>...</td>\n",
       "      <td>...</td>\n",
       "      <td>...</td>\n",
       "      <td>...</td>\n",
       "      <td>...</td>\n",
       "      <td>...</td>\n",
       "      <td>...</td>\n",
       "      <td>...</td>\n",
       "    </tr>\n",
       "    <tr>\n",
       "      <th>2022-09-14</th>\n",
       "      <td>95.629997</td>\n",
       "      <td>95.680000</td>\n",
       "      <td>94.430000</td>\n",
       "      <td>94.459999</td>\n",
       "      <td>94.459999</td>\n",
       "      <td>2958659</td>\n",
       "      <td>95.055000</td>\n",
       "      <td>95.000000</td>\n",
       "      <td>2</td>\n",
       "      <td>3</td>\n",
       "      <td>9</td>\n",
       "      <td>2022</td>\n",
       "    </tr>\n",
       "    <tr>\n",
       "      <th>2022-09-15</th>\n",
       "      <td>94.849998</td>\n",
       "      <td>95.339996</td>\n",
       "      <td>94.660004</td>\n",
       "      <td>95.059998</td>\n",
       "      <td>95.059998</td>\n",
       "      <td>3364419</td>\n",
       "      <td>95.000000</td>\n",
       "      <td>94.662498</td>\n",
       "      <td>3</td>\n",
       "      <td>3</td>\n",
       "      <td>9</td>\n",
       "      <td>2022</td>\n",
       "    </tr>\n",
       "    <tr>\n",
       "      <th>2022-09-16</th>\n",
       "      <td>94.550003</td>\n",
       "      <td>95.279999</td>\n",
       "      <td>94.044998</td>\n",
       "      <td>94.230003</td>\n",
       "      <td>94.230003</td>\n",
       "      <td>5980478</td>\n",
       "      <td>94.662498</td>\n",
       "      <td>94.640000</td>\n",
       "      <td>4</td>\n",
       "      <td>3</td>\n",
       "      <td>9</td>\n",
       "      <td>2022</td>\n",
       "    </tr>\n",
       "    <tr>\n",
       "      <th>2022-09-19</th>\n",
       "      <td>94.250000</td>\n",
       "      <td>95.029999</td>\n",
       "      <td>94.250000</td>\n",
       "      <td>94.660004</td>\n",
       "      <td>94.660004</td>\n",
       "      <td>1474030</td>\n",
       "      <td>94.640000</td>\n",
       "      <td>96.230004</td>\n",
       "      <td>0</td>\n",
       "      <td>3</td>\n",
       "      <td>9</td>\n",
       "      <td>2022</td>\n",
       "    </tr>\n",
       "    <tr>\n",
       "      <th>2022-09-20</th>\n",
       "      <td>95.949997</td>\n",
       "      <td>96.800003</td>\n",
       "      <td>95.660004</td>\n",
       "      <td>96.529999</td>\n",
       "      <td>96.529999</td>\n",
       "      <td>2389248</td>\n",
       "      <td>96.230004</td>\n",
       "      <td>96.015000</td>\n",
       "      <td>1</td>\n",
       "      <td>3</td>\n",
       "      <td>9</td>\n",
       "      <td>2022</td>\n",
       "    </tr>\n",
       "  </tbody>\n",
       "</table>\n",
       "<p>1266 rows × 12 columns</p>\n",
       "</div>"
      ],
      "text/plain": [
       "                 open       high        low      close  adj close   volume  \\\n",
       "date                                                                         \n",
       "2017-09-21  76.000000  76.889999  75.900002  76.070000  60.625332  4104401   \n",
       "2017-09-22  76.199997  77.050003  76.180000  76.620003  61.063652  2170239   \n",
       "2017-09-25  77.029999  77.269997  75.739998  75.809998  60.418121  2003512   \n",
       "2017-09-26  75.800003  75.860001  75.080002  75.099998  59.852276  2552948   \n",
       "2017-09-27  75.080002  75.349998  74.610001  74.849998  59.653019  2688235   \n",
       "...               ...        ...        ...        ...        ...      ...   \n",
       "2022-09-14  95.629997  95.680000  94.430000  94.459999  94.459999  2958659   \n",
       "2022-09-15  94.849998  95.339996  94.660004  95.059998  95.059998  3364419   \n",
       "2022-09-16  94.550003  95.279999  94.044998  94.230003  94.230003  5980478   \n",
       "2022-09-19  94.250000  95.029999  94.250000  94.660004  94.660004  1474030   \n",
       "2022-09-20  95.949997  96.800003  95.660004  96.529999  96.529999  2389248   \n",
       "\n",
       "                 mean     actual  dayofweek  quarter  month  year  \n",
       "date                                                               \n",
       "2017-09-21  76.395001  76.615002          3        3      9  2017  \n",
       "2017-09-22  76.615002  76.504998          4        3      9  2017  \n",
       "2017-09-25  76.504998  75.470001          0        3      9  2017  \n",
       "2017-09-26  75.470001  74.979999          1        3      9  2017  \n",
       "2017-09-27  74.979999  75.115002          2        3      9  2017  \n",
       "...               ...        ...        ...      ...    ...   ...  \n",
       "2022-09-14  95.055000  95.000000          2        3      9  2022  \n",
       "2022-09-15  95.000000  94.662498          3        3      9  2022  \n",
       "2022-09-16  94.662498  94.640000          4        3      9  2022  \n",
       "2022-09-19  94.640000  96.230004          0        3      9  2022  \n",
       "2022-09-20  96.230004  96.015000          1        3      9  2022  \n",
       "\n",
       "[1266 rows x 12 columns]"
      ]
     },
     "execution_count": 107,
     "metadata": {},
     "output_type": "execute_result"
    }
   ],
   "source": [
    "dfpred"
   ]
  },
  {
   "cell_type": "code",
   "execution_count": 108,
   "id": "935deb86",
   "metadata": {},
   "outputs": [
    {
     "data": {
      "image/png": "[encoded data removed]",
      "text/plain": [
       "<Figure size 720x576 with 1 Axes>"
      ]
     },
     "metadata": {
      "needs_background": "light"
     },
     "output_type": "display_data"
    }
   ],
   "source": [
    "fig, ax = plt.subplots(figsize=(10, 8))\n",
    "sns.boxplot(data=dfpred, x='dayofweek', y='actual')\n",
    "ax.set_title('Price by day of week')\n",
    "plt.show()"
   ]
  },
  {
   "cell_type": "code",
   "execution_count": 109,
   "id": "e0f3f878",
   "metadata": {},
   "outputs": [
    {
     "data": {
      "image/png": "[encoded data removed]",
      "text/plain": [
       "<Figure size 720x576 with 1 Axes>"
      ]
     },
     "metadata": {
      "needs_background": "light"
     },
     "output_type": "display_data"
    }
   ],
   "source": [
    "fig, ax = plt.subplots(figsize=(10, 8))\n",
    "sns.boxplot(data=dfpred, x='quarter', y='close')\n",
    "ax.set_title('Price by quarter')\n",
    "plt.show()"
   ]
  },
  {
   "cell_type": "code",
   "execution_count": 110,
   "id": "d912d359",
   "metadata": {},
   "outputs": [
    {
     "data": {
      "image/png": "[encoded data removed]",
      "text/plain": [
       "<Figure size 720x576 with 1 Axes>"
      ]
     },
     "metadata": {
      "needs_background": "light"
     },
     "output_type": "display_data"
    }
   ],
   "source": [
    "fig, ax = plt.subplots(figsize=(10, 8))\n",
    "sns.boxplot(data=dfpred, x='month', y='close')\n",
    "ax.set_title('Price by month')\n",
    "plt.show()"
   ]
  },
  {
   "cell_type": "code",
   "execution_count": 111,
   "id": "8d619b84",
   "metadata": {},
   "outputs": [
    {
     "data": {
      "image/png": "[encoded data removed]",
      "text/plain": [
       "<Figure size 720x576 with 1 Axes>"
      ]
     },
     "metadata": {
      "needs_background": "light"
     },
     "output_type": "display_data"
    }
   ],
   "source": [
    "fig, ax = plt.subplots(figsize=(10, 8))\n",
    "sns.boxplot(data=dfpred, x='year', y='close')\n",
    "ax.set_title('Price by year')\n",
    "plt.show()"
   ]
  },
  {
   "cell_type": "code",
   "execution_count": 112,
   "id": "e37668c2",
   "metadata": {},
   "outputs": [
    {
     "data": {
      "image/png": "[encoded data removed]",
      "text/plain": [
       "<Figure size 1080x360 with 1 Axes>"
      ]
     },
     "metadata": {
      "needs_background": "light"
     },
     "output_type": "display_data"
    }
   ],
   "source": [
    "dfpred['volume'].plot(style='-',\n",
    "        figsize=(15, 5),\n",
    "        title='CBA stock volume')\n",
    "plt.show()"
   ]
  },
  {
   "cell_type": "code",
   "execution_count": 113,
   "id": "70eb9ef1",
   "metadata": {},
   "outputs": [],
   "source": [
    "# normalizing input features\n",
    "from sklearn.preprocessing import MinMaxScaler\n",
    "sc_in = MinMaxScaler(feature_range=(0, 1))\n",
    "scaled_input = sc_in.fit_transform(dfpred[['low', 'high','open', 'close', 'volume', 'adj close', 'mean','dayofweek', 'quarter', 'month', 'year']])\n",
    "scaled_input =pd.DataFrame(scaled_input)\n",
    "X= scaled_input"
   ]
  },
  {
   "cell_type": "code",
   "execution_count": 114,
   "id": "db10853c",
   "metadata": {},
   "outputs": [
    {
     "data": {
      "text/html": [
       "<div>\n",
       "<style scoped>\n",
       "    .dataframe tbody tr th:only-of-type {\n",
       "        vertical-align: middle;\n",
       "    }\n",
       "\n",
       "    .dataframe tbody tr th {\n",
       "        vertical-align: top;\n",
       "    }\n",
       "\n",
       "    .dataframe thead th {\n",
       "        text-align: right;\n",
       "    }\n",
       "</style>\n",
       "<table border=\"1\" class=\"dataframe\">\n",
       "  <thead>\n",
       "    <tr style=\"text-align: right;\">\n",
       "      <th></th>\n",
       "      <th>0</th>\n",
       "      <th>1</th>\n",
       "      <th>2</th>\n",
       "      <th>3</th>\n",
       "      <th>4</th>\n",
       "      <th>5</th>\n",
       "      <th>6</th>\n",
       "      <th>7</th>\n",
       "      <th>8</th>\n",
       "      <th>9</th>\n",
       "      <th>10</th>\n",
       "    </tr>\n",
       "  </thead>\n",
       "  <tbody>\n",
       "    <tr>\n",
       "      <th>0</th>\n",
       "      <td>0.402293</td>\n",
       "      <td>0.364382</td>\n",
       "      <td>0.370254</td>\n",
       "      <td>0.390371</td>\n",
       "      <td>0.225164</td>\n",
       "      <td>0.195181</td>\n",
       "      <td>0.383940</td>\n",
       "      <td>0.75</td>\n",
       "      <td>0.666667</td>\n",
       "      <td>0.727273</td>\n",
       "      <td>0.0</td>\n",
       "    </tr>\n",
       "    <tr>\n",
       "      <th>1</th>\n",
       "      <td>0.407308</td>\n",
       "      <td>0.367437</td>\n",
       "      <td>0.373958</td>\n",
       "      <td>0.400215</td>\n",
       "      <td>0.109147</td>\n",
       "      <td>0.202937</td>\n",
       "      <td>0.388006</td>\n",
       "      <td>1.00</td>\n",
       "      <td>0.666667</td>\n",
       "      <td>0.727273</td>\n",
       "      <td>0.0</td>\n",
       "    </tr>\n",
       "    <tr>\n",
       "      <th>2</th>\n",
       "      <td>0.399427</td>\n",
       "      <td>0.371636</td>\n",
       "      <td>0.389331</td>\n",
       "      <td>0.385717</td>\n",
       "      <td>0.099146</td>\n",
       "      <td>0.191515</td>\n",
       "      <td>0.385973</td>\n",
       "      <td>0.00</td>\n",
       "      <td>0.666667</td>\n",
       "      <td>0.727273</td>\n",
       "      <td>0.0</td>\n",
       "    </tr>\n",
       "    <tr>\n",
       "      <th>3</th>\n",
       "      <td>0.387605</td>\n",
       "      <td>0.344722</td>\n",
       "      <td>0.366549</td>\n",
       "      <td>0.373009</td>\n",
       "      <td>0.132103</td>\n",
       "      <td>0.181502</td>\n",
       "      <td>0.366845</td>\n",
       "      <td>0.25</td>\n",
       "      <td>0.666667</td>\n",
       "      <td>0.727273</td>\n",
       "      <td>0.0</td>\n",
       "    </tr>\n",
       "    <tr>\n",
       "      <th>4</th>\n",
       "      <td>0.379187</td>\n",
       "      <td>0.334988</td>\n",
       "      <td>0.353214</td>\n",
       "      <td>0.368534</td>\n",
       "      <td>0.140218</td>\n",
       "      <td>0.177976</td>\n",
       "      <td>0.357790</td>\n",
       "      <td>0.50</td>\n",
       "      <td>0.666667</td>\n",
       "      <td>0.727273</td>\n",
       "      <td>0.0</td>\n",
       "    </tr>\n",
       "    <tr>\n",
       "      <th>...</th>\n",
       "      <td>...</td>\n",
       "      <td>...</td>\n",
       "      <td>...</td>\n",
       "      <td>...</td>\n",
       "      <td>...</td>\n",
       "      <td>...</td>\n",
       "      <td>...</td>\n",
       "      <td>...</td>\n",
       "      <td>...</td>\n",
       "      <td>...</td>\n",
       "      <td>...</td>\n",
       "    </tr>\n",
       "    <tr>\n",
       "      <th>1261</th>\n",
       "      <td>0.734193</td>\n",
       "      <td>0.723039</td>\n",
       "      <td>0.733840</td>\n",
       "      <td>0.719528</td>\n",
       "      <td>0.156438</td>\n",
       "      <td>0.793896</td>\n",
       "      <td>0.728793</td>\n",
       "      <td>0.50</td>\n",
       "      <td>0.666667</td>\n",
       "      <td>0.727273</td>\n",
       "      <td>1.0</td>\n",
       "    </tr>\n",
       "    <tr>\n",
       "      <th>1262</th>\n",
       "      <td>0.738313</td>\n",
       "      <td>0.716549</td>\n",
       "      <td>0.719392</td>\n",
       "      <td>0.730267</td>\n",
       "      <td>0.180777</td>\n",
       "      <td>0.804513</td>\n",
       "      <td>0.727777</td>\n",
       "      <td>0.75</td>\n",
       "      <td>0.666667</td>\n",
       "      <td>0.727273</td>\n",
       "      <td>1.0</td>\n",
       "    </tr>\n",
       "    <tr>\n",
       "      <th>1263</th>\n",
       "      <td>0.727297</td>\n",
       "      <td>0.715404</td>\n",
       "      <td>0.713836</td>\n",
       "      <td>0.715411</td>\n",
       "      <td>0.337697</td>\n",
       "      <td>0.789826</td>\n",
       "      <td>0.721539</td>\n",
       "      <td>1.00</td>\n",
       "      <td>0.666667</td>\n",
       "      <td>0.727273</td>\n",
       "      <td>1.0</td>\n",
       "    </tr>\n",
       "    <tr>\n",
       "      <th>1264</th>\n",
       "      <td>0.730969</td>\n",
       "      <td>0.710632</td>\n",
       "      <td>0.708279</td>\n",
       "      <td>0.723107</td>\n",
       "      <td>0.067386</td>\n",
       "      <td>0.797435</td>\n",
       "      <td>0.721124</td>\n",
       "      <td>0.00</td>\n",
       "      <td>0.666667</td>\n",
       "      <td>0.727273</td>\n",
       "      <td>1.0</td>\n",
       "    </tr>\n",
       "    <tr>\n",
       "      <th>1265</th>\n",
       "      <td>0.756224</td>\n",
       "      <td>0.744417</td>\n",
       "      <td>0.739767</td>\n",
       "      <td>0.756578</td>\n",
       "      <td>0.122283</td>\n",
       "      <td>0.830525</td>\n",
       "      <td>0.750508</td>\n",
       "      <td>0.25</td>\n",
       "      <td>0.666667</td>\n",
       "      <td>0.727273</td>\n",
       "      <td>1.0</td>\n",
       "    </tr>\n",
       "  </tbody>\n",
       "</table>\n",
       "<p>1266 rows × 11 columns</p>\n",
       "</div>"
      ],
      "text/plain": [
       "            0         1         2         3         4         5         6   \\\n",
       "0     0.402293  0.364382  0.370254  0.390371  0.225164  0.195181  0.383940   \n",
       "1     0.407308  0.367437  0.373958  0.400215  0.109147  0.202937  0.388006   \n",
       "2     0.399427  0.371636  0.389331  0.385717  0.099146  0.191515  0.385973   \n",
       "3     0.387605  0.344722  0.366549  0.373009  0.132103  0.181502  0.366845   \n",
       "4     0.379187  0.334988  0.353214  0.368534  0.140218  0.177976  0.357790   \n",
       "...        ...       ...       ...       ...       ...       ...       ...   \n",
       "1261  0.734193  0.723039  0.733840  0.719528  0.156438  0.793896  0.728793   \n",
       "1262  0.738313  0.716549  0.719392  0.730267  0.180777  0.804513  0.727777   \n",
       "1263  0.727297  0.715404  0.713836  0.715411  0.337697  0.789826  0.721539   \n",
       "1264  0.730969  0.710632  0.708279  0.723107  0.067386  0.797435  0.721124   \n",
       "1265  0.756224  0.744417  0.739767  0.756578  0.122283  0.830525  0.750508   \n",
       "\n",
       "        7         8         9    10  \n",
       "0     0.75  0.666667  0.727273  0.0  \n",
       "1     1.00  0.666667  0.727273  0.0  \n",
       "2     0.00  0.666667  0.727273  0.0  \n",
       "3     0.25  0.666667  0.727273  0.0  \n",
       "4     0.50  0.666667  0.727273  0.0  \n",
       "...    ...       ...       ...  ...  \n",
       "1261  0.50  0.666667  0.727273  1.0  \n",
       "1262  0.75  0.666667  0.727273  1.0  \n",
       "1263  1.00  0.666667  0.727273  1.0  \n",
       "1264  0.00  0.666667  0.727273  1.0  \n",
       "1265  0.25  0.666667  0.727273  1.0  \n",
       "\n",
       "[1266 rows x 11 columns]"
      ]
     },
     "execution_count": 114,
     "metadata": {},
     "output_type": "execute_result"
    }
   ],
   "source": [
    "X"
   ]
  },
  {
   "cell_type": "code",
   "execution_count": 115,
   "id": "9a429fde",
   "metadata": {},
   "outputs": [
    {
     "data": {
      "text/html": [
       "<div>\n",
       "<style scoped>\n",
       "    .dataframe tbody tr th:only-of-type {\n",
       "        vertical-align: middle;\n",
       "    }\n",
       "\n",
       "    .dataframe tbody tr th {\n",
       "        vertical-align: top;\n",
       "    }\n",
       "\n",
       "    .dataframe thead th {\n",
       "        text-align: right;\n",
       "    }\n",
       "</style>\n",
       "<table border=\"1\" class=\"dataframe\">\n",
       "  <thead>\n",
       "    <tr style=\"text-align: right;\">\n",
       "      <th></th>\n",
       "      <th>low</th>\n",
       "      <th>high</th>\n",
       "      <th>open</th>\n",
       "      <th>close</th>\n",
       "      <th>volume</th>\n",
       "      <th>adj close</th>\n",
       "      <th>mean</th>\n",
       "      <th>dayofweek</th>\n",
       "      <th>quarter</th>\n",
       "      <th>month</th>\n",
       "      <th>year</th>\n",
       "    </tr>\n",
       "    <tr>\n",
       "      <th>date</th>\n",
       "      <th></th>\n",
       "      <th></th>\n",
       "      <th></th>\n",
       "      <th></th>\n",
       "      <th></th>\n",
       "      <th></th>\n",
       "      <th></th>\n",
       "      <th></th>\n",
       "      <th></th>\n",
       "      <th></th>\n",
       "      <th></th>\n",
       "    </tr>\n",
       "  </thead>\n",
       "  <tbody>\n",
       "    <tr>\n",
       "      <th>2022-09-14</th>\n",
       "      <td>0.734193</td>\n",
       "      <td>0.723039</td>\n",
       "      <td>0.733840</td>\n",
       "      <td>0.719528</td>\n",
       "      <td>0.156438</td>\n",
       "      <td>0.793896</td>\n",
       "      <td>0.728793</td>\n",
       "      <td>0.50</td>\n",
       "      <td>0.666667</td>\n",
       "      <td>0.727273</td>\n",
       "      <td>1.0</td>\n",
       "    </tr>\n",
       "    <tr>\n",
       "      <th>2022-09-15</th>\n",
       "      <td>0.738313</td>\n",
       "      <td>0.716549</td>\n",
       "      <td>0.719392</td>\n",
       "      <td>0.730267</td>\n",
       "      <td>0.180777</td>\n",
       "      <td>0.804513</td>\n",
       "      <td>0.727777</td>\n",
       "      <td>0.75</td>\n",
       "      <td>0.666667</td>\n",
       "      <td>0.727273</td>\n",
       "      <td>1.0</td>\n",
       "    </tr>\n",
       "    <tr>\n",
       "      <th>2022-09-16</th>\n",
       "      <td>0.727297</td>\n",
       "      <td>0.715404</td>\n",
       "      <td>0.713836</td>\n",
       "      <td>0.715411</td>\n",
       "      <td>0.337697</td>\n",
       "      <td>0.789826</td>\n",
       "      <td>0.721539</td>\n",
       "      <td>1.00</td>\n",
       "      <td>0.666667</td>\n",
       "      <td>0.727273</td>\n",
       "      <td>1.0</td>\n",
       "    </tr>\n",
       "    <tr>\n",
       "      <th>2022-09-19</th>\n",
       "      <td>0.730969</td>\n",
       "      <td>0.710632</td>\n",
       "      <td>0.708279</td>\n",
       "      <td>0.723107</td>\n",
       "      <td>0.067386</td>\n",
       "      <td>0.797435</td>\n",
       "      <td>0.721124</td>\n",
       "      <td>0.00</td>\n",
       "      <td>0.666667</td>\n",
       "      <td>0.727273</td>\n",
       "      <td>1.0</td>\n",
       "    </tr>\n",
       "    <tr>\n",
       "      <th>2022-09-20</th>\n",
       "      <td>0.756224</td>\n",
       "      <td>0.744417</td>\n",
       "      <td>0.739767</td>\n",
       "      <td>0.756578</td>\n",
       "      <td>0.122283</td>\n",
       "      <td>0.830525</td>\n",
       "      <td>0.750508</td>\n",
       "      <td>0.25</td>\n",
       "      <td>0.666667</td>\n",
       "      <td>0.727273</td>\n",
       "      <td>1.0</td>\n",
       "    </tr>\n",
       "  </tbody>\n",
       "</table>\n",
       "</div>"
      ],
      "text/plain": [
       "                 low      high      open     close    volume  adj close  \\\n",
       "date                                                                      \n",
       "2022-09-14  0.734193  0.723039  0.733840  0.719528  0.156438   0.793896   \n",
       "2022-09-15  0.738313  0.716549  0.719392  0.730267  0.180777   0.804513   \n",
       "2022-09-16  0.727297  0.715404  0.713836  0.715411  0.337697   0.789826   \n",
       "2022-09-19  0.730969  0.710632  0.708279  0.723107  0.067386   0.797435   \n",
       "2022-09-20  0.756224  0.744417  0.739767  0.756578  0.122283   0.830525   \n",
       "\n",
       "                mean  dayofweek   quarter     month  year  \n",
       "date                                                       \n",
       "2022-09-14  0.728793       0.50  0.666667  0.727273   1.0  \n",
       "2022-09-15  0.727777       0.75  0.666667  0.727273   1.0  \n",
       "2022-09-16  0.721539       1.00  0.666667  0.727273   1.0  \n",
       "2022-09-19  0.721124       0.00  0.666667  0.727273   1.0  \n",
       "2022-09-20  0.750508       0.25  0.666667  0.727273   1.0  "
      ]
     },
     "execution_count": 115,
     "metadata": {},
     "output_type": "execute_result"
    }
   ],
   "source": [
    "X.rename(columns={0:'low', 1:'high',2:'open', 3:'close', 4:'volume', 5:'adj close', 6:'mean',7:'dayofweek', 8:'quarter', 9:'month', 10:'year'}, inplace=True)\n",
    "X = pd.DataFrame(X)\n",
    "X.index = dfpred.index\n",
    "X.tail(5)"
   ]
  },
  {
   "cell_type": "code",
   "execution_count": 116,
   "id": "c1231c53",
   "metadata": {},
   "outputs": [],
   "source": [
    "sc_out = MinMaxScaler(feature_range=(0, 1))\n",
    "scaler_output = sc_out.fit_transform(dfpred[['actual']])\n",
    "scaler_output =pd.DataFrame(scaler_output)\n",
    "y=scaler_output"
   ]
  },
  {
   "cell_type": "code",
   "execution_count": 117,
   "id": "c4c9946c",
   "metadata": {},
   "outputs": [
    {
     "data": {
      "text/html": [
       "<div>\n",
       "<style scoped>\n",
       "    .dataframe tbody tr th:only-of-type {\n",
       "        vertical-align: middle;\n",
       "    }\n",
       "\n",
       "    .dataframe tbody tr th {\n",
       "        vertical-align: top;\n",
       "    }\n",
       "\n",
       "    .dataframe thead th {\n",
       "        text-align: right;\n",
       "    }\n",
       "</style>\n",
       "<table border=\"1\" class=\"dataframe\">\n",
       "  <thead>\n",
       "    <tr style=\"text-align: right;\">\n",
       "      <th></th>\n",
       "      <th>0</th>\n",
       "    </tr>\n",
       "  </thead>\n",
       "  <tbody>\n",
       "    <tr>\n",
       "      <th>0</th>\n",
       "      <td>0.388006</td>\n",
       "    </tr>\n",
       "    <tr>\n",
       "      <th>1</th>\n",
       "      <td>0.385973</td>\n",
       "    </tr>\n",
       "    <tr>\n",
       "      <th>2</th>\n",
       "      <td>0.366845</td>\n",
       "    </tr>\n",
       "    <tr>\n",
       "      <th>3</th>\n",
       "      <td>0.357790</td>\n",
       "    </tr>\n",
       "    <tr>\n",
       "      <th>4</th>\n",
       "      <td>0.360285</td>\n",
       "    </tr>\n",
       "    <tr>\n",
       "      <th>...</th>\n",
       "      <td>...</td>\n",
       "    </tr>\n",
       "    <tr>\n",
       "      <th>1261</th>\n",
       "      <td>0.727777</td>\n",
       "    </tr>\n",
       "    <tr>\n",
       "      <th>1262</th>\n",
       "      <td>0.721539</td>\n",
       "    </tr>\n",
       "    <tr>\n",
       "      <th>1263</th>\n",
       "      <td>0.721124</td>\n",
       "    </tr>\n",
       "    <tr>\n",
       "      <th>1264</th>\n",
       "      <td>0.750508</td>\n",
       "    </tr>\n",
       "    <tr>\n",
       "      <th>1265</th>\n",
       "      <td>0.746535</td>\n",
       "    </tr>\n",
       "  </tbody>\n",
       "</table>\n",
       "<p>1266 rows × 1 columns</p>\n",
       "</div>"
      ],
      "text/plain": [
       "             0\n",
       "0     0.388006\n",
       "1     0.385973\n",
       "2     0.366845\n",
       "3     0.357790\n",
       "4     0.360285\n",
       "...        ...\n",
       "1261  0.727777\n",
       "1262  0.721539\n",
       "1263  0.721124\n",
       "1264  0.750508\n",
       "1265  0.746535\n",
       "\n",
       "[1266 rows x 1 columns]"
      ]
     },
     "execution_count": 117,
     "metadata": {},
     "output_type": "execute_result"
    }
   ],
   "source": [
    "y"
   ]
  },
  {
   "cell_type": "code",
   "execution_count": 118,
   "id": "90494323",
   "metadata": {},
   "outputs": [
    {
     "data": {
      "text/html": [
       "<div>\n",
       "<style scoped>\n",
       "    .dataframe tbody tr th:only-of-type {\n",
       "        vertical-align: middle;\n",
       "    }\n",
       "\n",
       "    .dataframe tbody tr th {\n",
       "        vertical-align: top;\n",
       "    }\n",
       "\n",
       "    .dataframe thead th {\n",
       "        text-align: right;\n",
       "    }\n",
       "</style>\n",
       "<table border=\"1\" class=\"dataframe\">\n",
       "  <thead>\n",
       "    <tr style=\"text-align: right;\">\n",
       "      <th></th>\n",
       "      <th>price_next_day</th>\n",
       "    </tr>\n",
       "    <tr>\n",
       "      <th>date</th>\n",
       "      <th></th>\n",
       "    </tr>\n",
       "  </thead>\n",
       "  <tbody>\n",
       "    <tr>\n",
       "      <th>2017-09-21</th>\n",
       "      <td>0.388006</td>\n",
       "    </tr>\n",
       "    <tr>\n",
       "      <th>2017-09-22</th>\n",
       "      <td>0.385973</td>\n",
       "    </tr>\n",
       "  </tbody>\n",
       "</table>\n",
       "</div>"
      ],
      "text/plain": [
       "            price_next_day\n",
       "date                      \n",
       "2017-09-21        0.388006\n",
       "2017-09-22        0.385973"
      ]
     },
     "execution_count": 118,
     "metadata": {},
     "output_type": "execute_result"
    }
   ],
   "source": [
    "y.rename(columns={0:'price_next_day'}, inplace= True)\n",
    "y.index=dfpred.index\n",
    "y.head(2)"
   ]
  },
  {
   "cell_type": "code",
   "execution_count": 119,
   "id": "9372d044",
   "metadata": {},
   "outputs": [
    {
     "data": {
      "image/png": "[encoded data removed]",
      "text/plain": [
       "<Figure size 432x288 with 4 Axes>"
      ]
     },
     "metadata": {
      "needs_background": "light"
     },
     "output_type": "display_data"
    }
   ],
   "source": [
    "import statsmodels.api as sm\n",
    "sd=sm.tsa.seasonal_decompose(X['mean'],model='add',period=365);\n",
    "fig=sd.plot()\n",
    "fig.set_figheight(4)\n",
    "plt.show()"
   ]
  },
  {
   "cell_type": "code",
   "execution_count": 120,
   "id": "d663b689",
   "metadata": {},
   "outputs": [
    {
     "name": "stdout",
     "output_type": "stream",
     "text": [
      "254\n"
     ]
    }
   ],
   "source": [
    "train_size=int(len(df) *0.80)\n",
    "test_size = int(len(df)) - train_size\n",
    "print(test_size)"
   ]
  },
  {
   "cell_type": "code",
   "execution_count": 121,
   "id": "51a7ff06",
   "metadata": {},
   "outputs": [],
   "source": [
    "train_X, train_y = X[:train_size], y[:train_size]\n",
    "test_X, test_y = X[train_size:], y[train_size:]"
   ]
  },
  {
   "cell_type": "code",
   "execution_count": 122,
   "id": "23eaee25",
   "metadata": {},
   "outputs": [
    {
     "data": {
      "text/plain": [
       "Index(['low', 'high', 'open', 'close', 'volume', 'adj close', 'mean',\n",
       "       'dayofweek', 'quarter', 'month', 'year'],\n",
       "      dtype='object')"
      ]
     },
     "execution_count": 122,
     "metadata": {},
     "output_type": "execute_result"
    }
   ],
   "source": [
    "test_X.columns"
   ]
  },
  {
   "cell_type": "code",
   "execution_count": 123,
   "id": "6e7d700b",
   "metadata": {},
   "outputs": [],
   "source": [
    "y_test=y['price_next_day'][:train_size]"
   ]
  },
  {
   "cell_type": "code",
   "execution_count": 126,
   "id": "ae4dd942",
   "metadata": {},
   "outputs": [
    {
     "data": {
      "text/plain": [
       "pandas.core.series.Series"
      ]
     },
     "execution_count": 126,
     "metadata": {},
     "output_type": "execute_result"
    }
   ],
   "source": [
    "type(y_test)"
   ]
  },
  {
   "cell_type": "code",
   "execution_count": null,
   "id": "b7270ecd",
   "metadata": {},
   "outputs": [],
   "source": []
  },
  {
   "cell_type": "code",
   "execution_count": 128,
   "id": "dc292d7e",
   "metadata": {},
   "outputs": [],
   "source": [
    "from statsmodels.tsa.stattools import adfuller\n",
    "def test_adf(series, title=''):\n",
    "    dfout={}\n",
    "    dftest=sm.tsa.adfuller(series.dropna(), autolag='AIC', regression='ct')\n",
    "    for key,val in dftest[4].items():\n",
    "        dfout[f'critical value ({key})']=val\n",
    "    if dftest[1]<=0.05:\n",
    "        print(\"Strong evidence against Null Hypothesis\")\n",
    "        print(\"Reject Null Hypothesis - Data is  Stationary\")\n",
    "        print(\"Data is Stationary for\", title)\n",
    "    else:\n",
    "        print(\"Strong evidence for  Null Hypothesis\")\n",
    "        print(\"Accept Null Hypothesis - Data is not Stationary\")\n",
    "        print(\"Data is NOT Stationary for\", title)"
   ]
  },
  {
   "cell_type": "code",
   "execution_count": 129,
   "id": "beedf8f0",
   "metadata": {},
   "outputs": [
    {
     "name": "stdout",
     "output_type": "stream",
     "text": [
      "Strong evidence for  Null Hypothesis\n",
      "Accept Null Hypothesis - Data is not Stationary\n",
      "Data is NOT Stationary for CBA stock price\n"
     ]
    }
   ],
   "source": [
    "test_adf(y_test, \"CBA stock price\")"
   ]
  },
  {
   "cell_type": "code",
   "execution_count": 130,
   "id": "1357180a",
   "metadata": {},
   "outputs": [
    {
     "name": "stdout",
     "output_type": "stream",
     "text": [
      "Strong evidence against Null Hypothesis\n",
      "Reject Null Hypothesis - Data is  Stationary\n",
      "Data is Stationary for  CBA stock Price\n"
     ]
    }
   ],
   "source": [
    "test_adf(y_test.diff(), \" CBA stock Price\")"
   ]
  },
  {
   "cell_type": "code",
   "execution_count": 134,
   "id": "fea8c244",
   "metadata": {},
   "outputs": [
    {
     "data": {
      "image/png": "[encoded data removed]",
      "text/plain": [
       "<Figure size 720x360 with 2 Axes>"
      ]
     },
     "metadata": {
      "needs_background": "light"
     },
     "output_type": "display_data"
    }
   ],
   "source": [
    "#Correlograms\n",
    "fig,ax= plt.subplots(2,1, figsize=(10,5))\n",
    "fig=sm.tsa.graphics.plot_acf(y_test, lags=30, ax=ax[0])\n",
    "fig=sm.tsa.graphics.plot_pacf(y_test, lags=30, ax=ax[1])\n",
    "plt.show()"
   ]
  },
  {
   "cell_type": "code",
   "execution_count": 136,
   "id": "7d9874d2",
   "metadata": {},
   "outputs": [
    {
     "name": "stdout",
     "output_type": "stream",
     "text": [
      "Performing stepwise search to minimize aic\n"
     ]
    },
    {
     "name": "stderr",
     "output_type": "stream",
     "text": [
      "/Users/macbook/opt/anaconda3/envs/Deep/lib/python3.8/site-packages/statsmodels/tsa/statespace/sarimax.py:1899: RuntimeWarning: invalid value encountered in reciprocal\n",
      "  return np.roots(self.polynomial_reduced_ar)**-1\n",
      "/Users/macbook/opt/anaconda3/envs/Deep/lib/python3.8/site-packages/statsmodels/tsa/statespace/sarimax.py:1906: RuntimeWarning: invalid value encountered in reciprocal\n",
      "  return np.roots(self.polynomial_reduced_ma)**-1\n"
     ]
    },
    {
     "name": "stdout",
     "output_type": "stream",
     "text": [
      " ARIMA(1,1,1)(0,0,0)[0] intercept   : AIC=-5636.175, Time=1.93 sec\n",
      " ARIMA(0,1,0)(0,0,0)[0] intercept   : AIC=-5602.973, Time=0.55 sec\n"
     ]
    },
    {
     "name": "stderr",
     "output_type": "stream",
     "text": [
      "/Users/macbook/opt/anaconda3/envs/Deep/lib/python3.8/site-packages/statsmodels/tsa/statespace/sarimax.py:1899: RuntimeWarning: invalid value encountered in reciprocal\n",
      "  return np.roots(self.polynomial_reduced_ar)**-1\n"
     ]
    },
    {
     "name": "stdout",
     "output_type": "stream",
     "text": [
      " ARIMA(1,1,0)(0,0,0)[0] intercept   : AIC=-5630.563, Time=1.63 sec\n"
     ]
    },
    {
     "name": "stderr",
     "output_type": "stream",
     "text": [
      "/Users/macbook/opt/anaconda3/envs/Deep/lib/python3.8/site-packages/statsmodels/tsa/statespace/sarimax.py:1906: RuntimeWarning: invalid value encountered in reciprocal\n",
      "  return np.roots(self.polynomial_reduced_ma)**-1\n"
     ]
    },
    {
     "name": "stdout",
     "output_type": "stream",
     "text": [
      " ARIMA(0,1,1)(0,0,0)[0] intercept   : AIC=-5668.822, Time=1.92 sec\n",
      " ARIMA(0,1,0)(0,0,0)[0]             : AIC=-5604.536, Time=0.81 sec\n",
      " ARIMA(0,1,2)(0,0,0)[0] intercept   : AIC=-5674.122, Time=1.89 sec\n"
     ]
    },
    {
     "name": "stderr",
     "output_type": "stream",
     "text": [
      "/Users/macbook/opt/anaconda3/envs/Deep/lib/python3.8/site-packages/statsmodels/tsa/statespace/sarimax.py:1899: RuntimeWarning: invalid value encountered in reciprocal\n",
      "  return np.roots(self.polynomial_reduced_ar)**-1\n"
     ]
    },
    {
     "name": "stdout",
     "output_type": "stream",
     "text": [
      " ARIMA(1,1,2)(0,0,0)[0] intercept   : AIC=-5660.072, Time=1.91 sec\n"
     ]
    },
    {
     "name": "stderr",
     "output_type": "stream",
     "text": [
      "/Users/macbook/opt/anaconda3/envs/Deep/lib/python3.8/site-packages/statsmodels/tsa/statespace/sarimax.py:1906: RuntimeWarning: invalid value encountered in reciprocal\n",
      "  return np.roots(self.polynomial_reduced_ma)**-1\n"
     ]
    },
    {
     "name": "stdout",
     "output_type": "stream",
     "text": [
      " ARIMA(0,1,3)(0,0,0)[0] intercept   : AIC=-5661.968, Time=1.92 sec\n"
     ]
    },
    {
     "name": "stderr",
     "output_type": "stream",
     "text": [
      "/Users/macbook/opt/anaconda3/envs/Deep/lib/python3.8/site-packages/statsmodels/tsa/statespace/sarimax.py:1899: RuntimeWarning: invalid value encountered in reciprocal\n",
      "  return np.roots(self.polynomial_reduced_ar)**-1\n",
      "/Users/macbook/opt/anaconda3/envs/Deep/lib/python3.8/site-packages/statsmodels/tsa/statespace/sarimax.py:1906: RuntimeWarning: invalid value encountered in reciprocal\n",
      "  return np.roots(self.polynomial_reduced_ma)**-1\n"
     ]
    },
    {
     "name": "stdout",
     "output_type": "stream",
     "text": [
      " ARIMA(1,1,3)(0,0,0)[0] intercept   : AIC=-5622.041, Time=2.33 sec\n",
      " ARIMA(0,1,2)(0,0,0)[0]             : AIC=-5680.758, Time=1.94 sec\n"
     ]
    },
    {
     "name": "stderr",
     "output_type": "stream",
     "text": [
      "/Users/macbook/opt/anaconda3/envs/Deep/lib/python3.8/site-packages/statsmodels/tsa/statespace/sarimax.py:1906: RuntimeWarning: invalid value encountered in reciprocal\n",
      "  return np.roots(self.polynomial_reduced_ma)**-1\n"
     ]
    },
    {
     "name": "stdout",
     "output_type": "stream",
     "text": [
      " ARIMA(0,1,1)(0,0,0)[0]             : AIC=-5685.251, Time=1.70 sec\n"
     ]
    },
    {
     "name": "stderr",
     "output_type": "stream",
     "text": [
      "/Users/macbook/opt/anaconda3/envs/Deep/lib/python3.8/site-packages/statsmodels/tsa/statespace/sarimax.py:1899: RuntimeWarning: invalid value encountered in reciprocal\n",
      "  return np.roots(self.polynomial_reduced_ar)**-1\n",
      "/Users/macbook/opt/anaconda3/envs/Deep/lib/python3.8/site-packages/statsmodels/tsa/statespace/sarimax.py:1906: RuntimeWarning: invalid value encountered in reciprocal\n",
      "  return np.roots(self.polynomial_reduced_ma)**-1\n"
     ]
    },
    {
     "name": "stdout",
     "output_type": "stream",
     "text": [
      " ARIMA(1,1,1)(0,0,0)[0]             : AIC=-5637.466, Time=1.70 sec\n"
     ]
    },
    {
     "name": "stderr",
     "output_type": "stream",
     "text": [
      "/Users/macbook/opt/anaconda3/envs/Deep/lib/python3.8/site-packages/statsmodels/tsa/statespace/sarimax.py:1899: RuntimeWarning: invalid value encountered in reciprocal\n",
      "  return np.roots(self.polynomial_reduced_ar)**-1\n"
     ]
    },
    {
     "name": "stdout",
     "output_type": "stream",
     "text": [
      " ARIMA(1,1,0)(0,0,0)[0]             : AIC=-5632.940, Time=1.70 sec\n",
      " ARIMA(1,1,2)(0,0,0)[0]             : AIC=-5678.703, Time=2.22 sec\n",
      "\n",
      "Best model:  ARIMA(0,1,1)(0,0,0)[0]          \n",
      "Total fit time: 24.163 seconds\n"
     ]
    },
    {
     "name": "stderr",
     "output_type": "stream",
     "text": [
      "/Users/macbook/opt/anaconda3/envs/Deep/lib/python3.8/site-packages/statsmodels/tsa/statespace/sarimax.py:1899: RuntimeWarning: invalid value encountered in reciprocal\n",
      "  return np.roots(self.polynomial_reduced_ar)**-1\n"
     ]
    }
   ],
   "source": [
    "from pmdarima.arima import auto_arima\n",
    "ar=auto_arima(train_y, \n",
    "                     exogenous= train_X,\n",
    "                     start_p=1,  start_q=1, \n",
    "                     max_p=7,  max_q=7, \n",
    "                     d=1, max_d=7,\n",
    "                     trace=True, \n",
    "                     error_action='ignore', \n",
    "                     suppress_warnings=True, \n",
    "                     stepwise=True)"
   ]
  },
  {
   "cell_type": "code",
   "execution_count": 137,
   "id": "0fe96e36",
   "metadata": {},
   "outputs": [
    {
     "data": {
      "text/html": [
       "<table class=\"simpletable\">\n",
       "<caption>SARIMAX Results</caption>\n",
       "<tr>\n",
       "  <th>Dep. Variable:</th>           <td>y</td>        <th>  No. Observations:  </th>   <td>1013</td>   \n",
       "</tr>\n",
       "<tr>\n",
       "  <th>Model:</th>           <td>SARIMAX(0, 1, 1)</td> <th>  Log Likelihood     </th> <td>2855.625</td> \n",
       "</tr>\n",
       "<tr>\n",
       "  <th>Date:</th>            <td>Mon, 03 Oct 2022</td> <th>  AIC                </th> <td>-5685.251</td>\n",
       "</tr>\n",
       "<tr>\n",
       "  <th>Time:</th>                <td>22:13:14</td>     <th>  BIC                </th> <td>-5621.295</td>\n",
       "</tr>\n",
       "<tr>\n",
       "  <th>Sample:</th>                  <td>0</td>        <th>  HQIC               </th> <td>-5660.957</td>\n",
       "</tr>\n",
       "<tr>\n",
       "  <th></th>                      <td> - 1013</td>     <th>                     </th>     <td> </td>    \n",
       "</tr>\n",
       "<tr>\n",
       "  <th>Covariance Type:</th>        <td>opg</td>       <th>                     </th>     <td> </td>    \n",
       "</tr>\n",
       "</table>\n",
       "<table class=\"simpletable\">\n",
       "<tr>\n",
       "      <td></td>         <th>coef</th>     <th>std err</th>      <th>z</th>      <th>P>|z|</th>  <th>[0.025</th>    <th>0.975]</th>  \n",
       "</tr>\n",
       "<tr>\n",
       "  <th>low</th>       <td>    0.0540</td> <td>    0.043</td> <td>    1.262</td> <td> 0.207</td> <td>   -0.030</td> <td>    0.138</td>\n",
       "</tr>\n",
       "<tr>\n",
       "  <th>high</th>      <td>    0.2281</td> <td>    0.040</td> <td>    5.645</td> <td> 0.000</td> <td>    0.149</td> <td>    0.307</td>\n",
       "</tr>\n",
       "<tr>\n",
       "  <th>open</th>      <td>   -0.2285</td> <td>    0.039</td> <td>   -5.833</td> <td> 0.000</td> <td>   -0.305</td> <td>   -0.152</td>\n",
       "</tr>\n",
       "<tr>\n",
       "  <th>close</th>     <td>    0.4649</td> <td>    0.112</td> <td>    4.155</td> <td> 0.000</td> <td>    0.246</td> <td>    0.684</td>\n",
       "</tr>\n",
       "<tr>\n",
       "  <th>volume</th>    <td>   -0.0223</td> <td>    0.006</td> <td>   -3.813</td> <td> 0.000</td> <td>   -0.034</td> <td>   -0.011</td>\n",
       "</tr>\n",
       "<tr>\n",
       "  <th>adj close</th> <td>    0.2838</td> <td>    0.113</td> <td>    2.514</td> <td> 0.012</td> <td>    0.063</td> <td>    0.505</td>\n",
       "</tr>\n",
       "<tr>\n",
       "  <th>mean</th>      <td>    0.1383</td> <td>    0.021</td> <td>    6.499</td> <td> 0.000</td> <td>    0.097</td> <td>    0.180</td>\n",
       "</tr>\n",
       "<tr>\n",
       "  <th>dayofweek</th> <td>   -0.0017</td> <td>    0.001</td> <td>   -1.373</td> <td> 0.170</td> <td>   -0.004</td> <td>    0.001</td>\n",
       "</tr>\n",
       "<tr>\n",
       "  <th>quarter</th>   <td>    0.0107</td> <td>    0.009</td> <td>    1.191</td> <td> 0.234</td> <td>   -0.007</td> <td>    0.028</td>\n",
       "</tr>\n",
       "<tr>\n",
       "  <th>month</th>     <td>   -0.0160</td> <td>    0.016</td> <td>   -1.007</td> <td> 0.314</td> <td>   -0.047</td> <td>    0.015</td>\n",
       "</tr>\n",
       "<tr>\n",
       "  <th>year</th>      <td>   -0.0130</td> <td>    0.072</td> <td>   -0.181</td> <td> 0.857</td> <td>   -0.154</td> <td>    0.128</td>\n",
       "</tr>\n",
       "<tr>\n",
       "  <th>ma.L1</th>     <td>   -0.8210</td> <td>    0.033</td> <td>  -25.143</td> <td> 0.000</td> <td>   -0.885</td> <td>   -0.757</td>\n",
       "</tr>\n",
       "<tr>\n",
       "  <th>sigma2</th>    <td>    0.0002</td> <td>  6.2e-06</td> <td>   33.944</td> <td> 0.000</td> <td>    0.000</td> <td>    0.000</td>\n",
       "</tr>\n",
       "</table>\n",
       "<table class=\"simpletable\">\n",
       "<tr>\n",
       "  <th>Ljung-Box (L1) (Q):</th>     <td>0.42</td> <th>  Jarque-Bera (JB):  </th> <td>519.55</td>\n",
       "</tr>\n",
       "<tr>\n",
       "  <th>Prob(Q):</th>                <td>0.52</td> <th>  Prob(JB):          </th>  <td>0.00</td> \n",
       "</tr>\n",
       "<tr>\n",
       "  <th>Heteroskedasticity (H):</th> <td>2.34</td> <th>  Skew:              </th>  <td>-0.17</td>\n",
       "</tr>\n",
       "<tr>\n",
       "  <th>Prob(H) (two-sided):</th>    <td>0.00</td> <th>  Kurtosis:          </th>  <td>6.49</td> \n",
       "</tr>\n",
       "</table><br/><br/>Warnings:<br/>[1] Covariance matrix calculated using the outer product of gradients (complex-step).<br/>[2] Covariance matrix is singular or near-singular, with condition number 1.29e+17. Standard errors may be unstable."
      ],
      "text/plain": [
       "<class 'statsmodels.iolib.summary.Summary'>\n",
       "\"\"\"\n",
       "                               SARIMAX Results                                \n",
       "==============================================================================\n",
       "Dep. Variable:                      y   No. Observations:                 1013\n",
       "Model:               SARIMAX(0, 1, 1)   Log Likelihood                2855.625\n",
       "Date:                Mon, 03 Oct 2022   AIC                          -5685.251\n",
       "Time:                        22:13:14   BIC                          -5621.295\n",
       "Sample:                             0   HQIC                         -5660.957\n",
       "                               - 1013                                         \n",
       "Covariance Type:                  opg                                         \n",
       "==============================================================================\n",
       "                 coef    std err          z      P>|z|      [0.025      0.975]\n",
       "------------------------------------------------------------------------------\n",
       "low            0.0540      0.043      1.262      0.207      -0.030       0.138\n",
       "high           0.2281      0.040      5.645      0.000       0.149       0.307\n",
       "open          -0.2285      0.039     -5.833      0.000      -0.305      -0.152\n",
       "close          0.4649      0.112      4.155      0.000       0.246       0.684\n",
       "volume        -0.0223      0.006     -3.813      0.000      -0.034      -0.011\n",
       "adj close      0.2838      0.113      2.514      0.012       0.063       0.505\n",
       "mean           0.1383      0.021      6.499      0.000       0.097       0.180\n",
       "dayofweek     -0.0017      0.001     -1.373      0.170      -0.004       0.001\n",
       "quarter        0.0107      0.009      1.191      0.234      -0.007       0.028\n",
       "month         -0.0160      0.016     -1.007      0.314      -0.047       0.015\n",
       "year          -0.0130      0.072     -0.181      0.857      -0.154       0.128\n",
       "ma.L1         -0.8210      0.033    -25.143      0.000      -0.885      -0.757\n",
       "sigma2         0.0002    6.2e-06     33.944      0.000       0.000       0.000\n",
       "===================================================================================\n",
       "Ljung-Box (L1) (Q):                   0.42   Jarque-Bera (JB):               519.55\n",
       "Prob(Q):                              0.52   Prob(JB):                         0.00\n",
       "Heteroskedasticity (H):               2.34   Skew:                            -0.17\n",
       "Prob(H) (two-sided):                  0.00   Kurtosis:                         6.49\n",
       "===================================================================================\n",
       "\n",
       "Warnings:\n",
       "[1] Covariance matrix calculated using the outer product of gradients (complex-step).\n",
       "[2] Covariance matrix is singular or near-singular, with condition number 1.29e+17. Standard errors may be unstable.\n",
       "\"\"\""
      ]
     },
     "execution_count": 137,
     "metadata": {},
     "output_type": "execute_result"
    }
   ],
   "source": [
    "ar.summary()"
   ]
  },
  {
   "cell_type": "code",
   "execution_count": 138,
   "id": "561f7744",
   "metadata": {},
   "outputs": [
    {
     "name": "stderr",
     "output_type": "stream",
     "text": [
      "/Users/macbook/opt/anaconda3/envs/Deep/lib/python3.8/site-packages/statsmodels/tsa/base/tsa_model.py:471: ValueWarning: A date index has been provided, but it has no associated frequency information and so will be ignored when e.g. forecasting.\n",
      "  self._init_dates(dates, freq)\n",
      "/Users/macbook/opt/anaconda3/envs/Deep/lib/python3.8/site-packages/statsmodels/tsa/base/tsa_model.py:471: ValueWarning: A date index has been provided, but it has no associated frequency information and so will be ignored when e.g. forecasting.\n",
      "  self._init_dates(dates, freq)\n"
     ]
    }
   ],
   "source": [
    "from statsmodels.tsa.statespace.sarimax import SARIMAX\n",
    "model= SARIMAX(train_y, \n",
    "           exog=train_X,\n",
    "              order=(0,1,1),\n",
    "              enforce_invertibility=False, enforce_stationarity=False)"
   ]
  },
  {
   "cell_type": "code",
   "execution_count": 140,
   "id": "0fb6298a",
   "metadata": {},
   "outputs": [
    {
     "name": "stdout",
     "output_type": "stream",
     "text": [
      "RUNNING THE L-BFGS-B CODE\n",
      "\n",
      "           * * *\n",
      "\n",
      "Machine precision = 2.220D-16\n",
      " N =           13     M =           10\n",
      "\n",
      "At X0         0 variables are exactly at the bounds\n",
      "\n",
      "At iterate    0    f= -2.77454D+00    |proj g|=  1.65807D-01\n"
     ]
    },
    {
     "name": "stderr",
     "output_type": "stream",
     "text": [
      " This problem is unconstrained.\n"
     ]
    },
    {
     "name": "stdout",
     "output_type": "stream",
     "text": [
      "\n",
      "At iterate    5    f= -2.77585D+00    |proj g|=  1.29068D+00\n",
      "\n",
      "At iterate   10    f= -2.77668D+00    |proj g|=  1.25758D-01\n",
      "\n",
      "At iterate   15    f= -2.77699D+00    |proj g|=  1.13648D-01\n",
      "\n",
      "At iterate   20    f= -2.77898D+00    |proj g|=  1.50223D+00\n",
      "\n",
      "At iterate   25    f= -2.79717D+00    |proj g|=  1.19117D+00\n",
      "\n",
      "At iterate   30    f= -2.80721D+00    |proj g|=  2.36141D-01\n",
      "\n",
      "At iterate   35    f= -2.81071D+00    |proj g|=  3.37860D-01\n",
      "\n",
      "At iterate   40    f= -2.81209D+00    |proj g|=  8.19650D-02\n",
      "\n",
      "At iterate   45    f= -2.81495D+00    |proj g|=  2.55898D-01\n",
      "\n",
      "At iterate   50    f= -2.81515D+00    |proj g|=  3.10602D-02\n",
      "\n",
      "           * * *\n",
      "\n",
      "Tit   = total number of iterations\n",
      "Tnf   = total number of function evaluations\n",
      "Tnint = total number of segments explored during Cauchy searches\n",
      "Skip  = number of BFGS updates skipped\n",
      "Nact  = number of active bounds at final generalized Cauchy point\n",
      "Projg = norm of the final projected gradient\n",
      "F     = final function value\n",
      "\n",
      "           * * *\n",
      "\n",
      "   N    Tit     Tnf  Tnint  Skip  Nact     Projg        F\n",
      "   13     50     61      1     0     0   3.106D-02  -2.815D+00\n",
      "  F =  -2.8151450306445733     \n",
      "\n",
      "STOP: TOTAL NO. of ITERATIONS REACHED LIMIT                 \n",
      "253\n"
     ]
    },
    {
     "name": "stderr",
     "output_type": "stream",
     "text": [
      "/Users/macbook/opt/anaconda3/envs/Deep/lib/python3.8/site-packages/statsmodels/base/model.py:604: ConvergenceWarning: Maximum Likelihood optimization failed to converge. Check mle_retvals\n",
      "  warnings.warn(\"Maximum Likelihood optimization failed to \"\n",
      "/Users/macbook/opt/anaconda3/envs/Deep/lib/python3.8/site-packages/statsmodels/tsa/base/tsa_model.py:834: ValueWarning: No supported index is available. Prediction results will be given with an integer index beginning at `start`.\n",
      "  return get_prediction_index(\n"
     ]
    }
   ],
   "source": [
    "results = model.fit()\n",
    "predictions= results.predict(start =train_size, end=train_size+test_size+(steps)-1,exog=test_X)\n",
    "print(len(predictions))"
   ]
  },
  {
   "cell_type": "code",
   "execution_count": 142,
   "id": "2de27680",
   "metadata": {},
   "outputs": [
    {
     "name": "stderr",
     "output_type": "stream",
     "text": [
      "/Users/macbook/opt/anaconda3/envs/Deep/lib/python3.8/site-packages/statsmodels/tsa/base/tsa_model.py:834: ValueWarning: No supported index is available. Prediction results will be given with an integer index beginning at `start`.\n",
      "  return get_prediction_index(\n"
     ]
    }
   ],
   "source": [
    "forecast_1= results.forecast(steps=test_size-1, exog=test_X)"
   ]
  },
  {
   "cell_type": "code",
   "execution_count": 148,
   "id": "ffd0fc48",
   "metadata": {},
   "outputs": [],
   "source": [
    "act= pd.DataFrame(scaler_output.iloc[train_size:, 0])"
   ]
  },
  {
   "cell_type": "code",
   "execution_count": 176,
   "id": "82d8a4ce",
   "metadata": {},
   "outputs": [
    {
     "data": {
      "text/html": [
       "<div>\n",
       "<style scoped>\n",
       "    .dataframe tbody tr th:only-of-type {\n",
       "        vertical-align: middle;\n",
       "    }\n",
       "\n",
       "    .dataframe tbody tr th {\n",
       "        vertical-align: top;\n",
       "    }\n",
       "\n",
       "    .dataframe thead th {\n",
       "        text-align: right;\n",
       "    }\n",
       "</style>\n",
       "<table border=\"1\" class=\"dataframe\">\n",
       "  <thead>\n",
       "    <tr style=\"text-align: right;\">\n",
       "      <th></th>\n",
       "      <th>price_next_day</th>\n",
       "    </tr>\n",
       "    <tr>\n",
       "      <th>date</th>\n",
       "      <th></th>\n",
       "    </tr>\n",
       "  </thead>\n",
       "  <tbody>\n",
       "    <tr>\n",
       "      <th>2021-09-21</th>\n",
       "      <td>0.820089</td>\n",
       "    </tr>\n",
       "    <tr>\n",
       "      <th>2021-09-22</th>\n",
       "      <td>0.832841</td>\n",
       "    </tr>\n",
       "    <tr>\n",
       "      <th>2021-09-23</th>\n",
       "      <td>0.843837</td>\n",
       "    </tr>\n",
       "    <tr>\n",
       "      <th>2021-09-24</th>\n",
       "      <td>0.884310</td>\n",
       "    </tr>\n",
       "    <tr>\n",
       "      <th>2021-09-27</th>\n",
       "      <td>0.910922</td>\n",
       "    </tr>\n",
       "    <tr>\n",
       "      <th>...</th>\n",
       "      <td>...</td>\n",
       "    </tr>\n",
       "    <tr>\n",
       "      <th>2022-09-14</th>\n",
       "      <td>0.727777</td>\n",
       "    </tr>\n",
       "    <tr>\n",
       "      <th>2022-09-15</th>\n",
       "      <td>0.721539</td>\n",
       "    </tr>\n",
       "    <tr>\n",
       "      <th>2022-09-16</th>\n",
       "      <td>0.721124</td>\n",
       "    </tr>\n",
       "    <tr>\n",
       "      <th>2022-09-19</th>\n",
       "      <td>0.750508</td>\n",
       "    </tr>\n",
       "    <tr>\n",
       "      <th>2022-09-20</th>\n",
       "      <td>0.746535</td>\n",
       "    </tr>\n",
       "  </tbody>\n",
       "</table>\n",
       "<p>253 rows × 1 columns</p>\n",
       "</div>"
      ],
      "text/plain": [
       "            price_next_day\n",
       "date                      \n",
       "2021-09-21        0.820089\n",
       "2021-09-22        0.832841\n",
       "2021-09-23        0.843837\n",
       "2021-09-24        0.884310\n",
       "2021-09-27        0.910922\n",
       "...                    ...\n",
       "2022-09-14        0.727777\n",
       "2022-09-15        0.721539\n",
       "2022-09-16        0.721124\n",
       "2022-09-19        0.750508\n",
       "2022-09-20        0.746535\n",
       "\n",
       "[253 rows x 1 columns]"
      ]
     },
     "execution_count": 176,
     "metadata": {},
     "output_type": "execute_result"
    }
   ],
   "source": [
    "act.head()"
   ]
  },
  {
   "cell_type": "code",
   "execution_count": 167,
   "id": "41491676",
   "metadata": {},
   "outputs": [],
   "source": [
    "fc_cba= pd.DataFrame(forecast_1)\n",
    "fc_cba.reset_index(drop=True, inplace=True)\n",
    "fc_cba.index=test_X.index\n",
    "fc_cba['actual'] =scaler_output.iloc[train_size:, 0]\n",
    "fc_cba.rename(columns={0:'forecast'}, inplace= True)"
   ]
  },
  {
   "cell_type": "code",
   "execution_count": 170,
   "id": "99da3d45",
   "metadata": {},
   "outputs": [
    {
     "data": {
      "text/html": [
       "<div>\n",
       "<style scoped>\n",
       "    .dataframe tbody tr th:only-of-type {\n",
       "        vertical-align: middle;\n",
       "    }\n",
       "\n",
       "    .dataframe tbody tr th {\n",
       "        vertical-align: top;\n",
       "    }\n",
       "\n",
       "    .dataframe thead th {\n",
       "        text-align: right;\n",
       "    }\n",
       "</style>\n",
       "<table border=\"1\" class=\"dataframe\">\n",
       "  <thead>\n",
       "    <tr style=\"text-align: right;\">\n",
       "      <th></th>\n",
       "      <th>predicted_mean</th>\n",
       "      <th>actual</th>\n",
       "    </tr>\n",
       "    <tr>\n",
       "      <th>date</th>\n",
       "      <th></th>\n",
       "      <th></th>\n",
       "    </tr>\n",
       "  </thead>\n",
       "  <tbody>\n",
       "    <tr>\n",
       "      <th>2021-09-21</th>\n",
       "      <td>0.821483</td>\n",
       "      <td>0.820089</td>\n",
       "    </tr>\n",
       "    <tr>\n",
       "      <th>2021-09-22</th>\n",
       "      <td>0.812877</td>\n",
       "      <td>0.832841</td>\n",
       "    </tr>\n",
       "    <tr>\n",
       "      <th>2021-09-23</th>\n",
       "      <td>0.830117</td>\n",
       "      <td>0.843837</td>\n",
       "    </tr>\n",
       "    <tr>\n",
       "      <th>2021-09-24</th>\n",
       "      <td>0.841829</td>\n",
       "      <td>0.884310</td>\n",
       "    </tr>\n",
       "    <tr>\n",
       "      <th>2021-09-27</th>\n",
       "      <td>0.892872</td>\n",
       "      <td>0.910922</td>\n",
       "    </tr>\n",
       "  </tbody>\n",
       "</table>\n",
       "</div>"
      ],
      "text/plain": [
       "            predicted_mean    actual\n",
       "date                                \n",
       "2021-09-21        0.821483  0.820089\n",
       "2021-09-22        0.812877  0.832841\n",
       "2021-09-23        0.830117  0.843837\n",
       "2021-09-24        0.841829  0.884310\n",
       "2021-09-27        0.892872  0.910922"
      ]
     },
     "execution_count": 170,
     "metadata": {},
     "output_type": "execute_result"
    }
   ],
   "source": [
    "fc_cba.head()"
   ]
  },
  {
   "cell_type": "code",
   "execution_count": 171,
   "id": "d4ab535b",
   "metadata": {},
   "outputs": [],
   "source": [
    "fc_cba.columns = ['forecast', 'actual']"
   ]
  },
  {
   "cell_type": "code",
   "execution_count": 172,
   "id": "2362d279",
   "metadata": {},
   "outputs": [
    {
     "data": {
      "text/html": [
       "<div>\n",
       "<style scoped>\n",
       "    .dataframe tbody tr th:only-of-type {\n",
       "        vertical-align: middle;\n",
       "    }\n",
       "\n",
       "    .dataframe tbody tr th {\n",
       "        vertical-align: top;\n",
       "    }\n",
       "\n",
       "    .dataframe thead th {\n",
       "        text-align: right;\n",
       "    }\n",
       "</style>\n",
       "<table border=\"1\" class=\"dataframe\">\n",
       "  <thead>\n",
       "    <tr style=\"text-align: right;\">\n",
       "      <th></th>\n",
       "      <th>forecast</th>\n",
       "      <th>actual</th>\n",
       "    </tr>\n",
       "    <tr>\n",
       "      <th>date</th>\n",
       "      <th></th>\n",
       "      <th></th>\n",
       "    </tr>\n",
       "  </thead>\n",
       "  <tbody>\n",
       "    <tr>\n",
       "      <th>2021-09-21</th>\n",
       "      <td>0.821483</td>\n",
       "      <td>0.820089</td>\n",
       "    </tr>\n",
       "    <tr>\n",
       "      <th>2021-09-22</th>\n",
       "      <td>0.812877</td>\n",
       "      <td>0.832841</td>\n",
       "    </tr>\n",
       "    <tr>\n",
       "      <th>2021-09-23</th>\n",
       "      <td>0.830117</td>\n",
       "      <td>0.843837</td>\n",
       "    </tr>\n",
       "    <tr>\n",
       "      <th>2021-09-24</th>\n",
       "      <td>0.841829</td>\n",
       "      <td>0.884310</td>\n",
       "    </tr>\n",
       "    <tr>\n",
       "      <th>2021-09-27</th>\n",
       "      <td>0.892872</td>\n",
       "      <td>0.910922</td>\n",
       "    </tr>\n",
       "  </tbody>\n",
       "</table>\n",
       "</div>"
      ],
      "text/plain": [
       "            forecast    actual\n",
       "date                          \n",
       "2021-09-21  0.821483  0.820089\n",
       "2021-09-22  0.812877  0.832841\n",
       "2021-09-23  0.830117  0.843837\n",
       "2021-09-24  0.841829  0.884310\n",
       "2021-09-27  0.892872  0.910922"
      ]
     },
     "execution_count": 172,
     "metadata": {},
     "output_type": "execute_result"
    }
   ],
   "source": [
    "fc_cba.head()"
   ]
  },
  {
   "cell_type": "code",
   "execution_count": 173,
   "id": "8d054b0c",
   "metadata": {
    "scrolled": true
   },
   "outputs": [
    {
     "data": {
      "text/plain": [
       "<AxesSubplot:xlabel='date'>"
      ]
     },
     "execution_count": 173,
     "metadata": {},
     "output_type": "execute_result"
    },
    {
     "data": {
      "image/png": "[encoded data removed]",
      "text/plain": [
       "<Figure size 432x288 with 1 Axes>"
      ]
     },
     "metadata": {
      "needs_background": "light"
     },
     "output_type": "display_data"
    }
   ],
   "source": [
    "fc_cba['forecast'].plot(legend=True)\n",
    "fc_cba['actual'].plot(legend=True)"
   ]
  },
  {
   "cell_type": "code",
   "execution_count": 179,
   "id": "edd51144",
   "metadata": {},
   "outputs": [],
   "source": [
    "predictions=pd.DataFrame(predictions)\n",
    "predictions.reset_index(drop=True, inplace=True)\n",
    "predictions.index=test_X.index\n",
    "predictions['actual'] = act['price_next_day']\n",
    "predictions.columns = ['pred', 'actual']"
   ]
  },
  {
   "cell_type": "code",
   "execution_count": 180,
   "id": "a5bbe740",
   "metadata": {},
   "outputs": [
    {
     "data": {
      "text/html": [
       "<div>\n",
       "<style scoped>\n",
       "    .dataframe tbody tr th:only-of-type {\n",
       "        vertical-align: middle;\n",
       "    }\n",
       "\n",
       "    .dataframe tbody tr th {\n",
       "        vertical-align: top;\n",
       "    }\n",
       "\n",
       "    .dataframe thead th {\n",
       "        text-align: right;\n",
       "    }\n",
       "</style>\n",
       "<table border=\"1\" class=\"dataframe\">\n",
       "  <thead>\n",
       "    <tr style=\"text-align: right;\">\n",
       "      <th></th>\n",
       "      <th>pred</th>\n",
       "      <th>actual</th>\n",
       "    </tr>\n",
       "    <tr>\n",
       "      <th>date</th>\n",
       "      <th></th>\n",
       "      <th></th>\n",
       "    </tr>\n",
       "  </thead>\n",
       "  <tbody>\n",
       "    <tr>\n",
       "      <th>2021-09-21</th>\n",
       "      <td>0.821483</td>\n",
       "      <td>0.820089</td>\n",
       "    </tr>\n",
       "    <tr>\n",
       "      <th>2021-09-22</th>\n",
       "      <td>0.812877</td>\n",
       "      <td>0.832841</td>\n",
       "    </tr>\n",
       "    <tr>\n",
       "      <th>2021-09-23</th>\n",
       "      <td>0.830117</td>\n",
       "      <td>0.843837</td>\n",
       "    </tr>\n",
       "    <tr>\n",
       "      <th>2021-09-24</th>\n",
       "      <td>0.841829</td>\n",
       "      <td>0.884310</td>\n",
       "    </tr>\n",
       "    <tr>\n",
       "      <th>2021-09-27</th>\n",
       "      <td>0.892872</td>\n",
       "      <td>0.910922</td>\n",
       "    </tr>\n",
       "    <tr>\n",
       "      <th>...</th>\n",
       "      <td>...</td>\n",
       "      <td>...</td>\n",
       "    </tr>\n",
       "    <tr>\n",
       "      <th>2022-09-14</th>\n",
       "      <td>0.736800</td>\n",
       "      <td>0.727777</td>\n",
       "    </tr>\n",
       "    <tr>\n",
       "      <th>2022-09-15</th>\n",
       "      <td>0.744416</td>\n",
       "      <td>0.721539</td>\n",
       "    </tr>\n",
       "    <tr>\n",
       "      <th>2022-09-16</th>\n",
       "      <td>0.729488</td>\n",
       "      <td>0.721124</td>\n",
       "    </tr>\n",
       "    <tr>\n",
       "      <th>2022-09-19</th>\n",
       "      <td>0.742239</td>\n",
       "      <td>0.750508</td>\n",
       "    </tr>\n",
       "    <tr>\n",
       "      <th>2022-09-20</th>\n",
       "      <td>0.771345</td>\n",
       "      <td>0.746535</td>\n",
       "    </tr>\n",
       "  </tbody>\n",
       "</table>\n",
       "<p>253 rows × 2 columns</p>\n",
       "</div>"
      ],
      "text/plain": [
       "                pred    actual\n",
       "date                          \n",
       "2021-09-21  0.821483  0.820089\n",
       "2021-09-22  0.812877  0.832841\n",
       "2021-09-23  0.830117  0.843837\n",
       "2021-09-24  0.841829  0.884310\n",
       "2021-09-27  0.892872  0.910922\n",
       "...              ...       ...\n",
       "2022-09-14  0.736800  0.727777\n",
       "2022-09-15  0.744416  0.721539\n",
       "2022-09-16  0.729488  0.721124\n",
       "2022-09-19  0.742239  0.750508\n",
       "2022-09-20  0.771345  0.746535\n",
       "\n",
       "[253 rows x 2 columns]"
      ]
     },
     "execution_count": 180,
     "metadata": {},
     "output_type": "execute_result"
    }
   ],
   "source": [
    "predictions"
   ]
  },
  {
   "cell_type": "code",
   "execution_count": 181,
   "id": "d70f2044",
   "metadata": {},
   "outputs": [
    {
     "data": {
      "text/plain": [
       "0.022022996621278698"
      ]
     },
     "execution_count": 181,
     "metadata": {},
     "output_type": "execute_result"
    }
   ],
   "source": [
    "from statsmodels.tools.eval_measures import rmse\n",
    "error=rmse(predictions['pred'], predictions['actual'])\n",
    "error"
   ]
  },
  {
   "cell_type": "markdown",
   "id": "169d52bd",
   "metadata": {},
   "source": [
    "### Inverse Scalar"
   ]
  },
  {
   "cell_type": "code",
   "execution_count": 182,
   "id": "7e00e213",
   "metadata": {},
   "outputs": [
    {
     "data": {
      "text/html": [
       "<div>\n",
       "<style scoped>\n",
       "    .dataframe tbody tr th:only-of-type {\n",
       "        vertical-align: middle;\n",
       "    }\n",
       "\n",
       "    .dataframe tbody tr th {\n",
       "        vertical-align: top;\n",
       "    }\n",
       "\n",
       "    .dataframe thead th {\n",
       "        text-align: right;\n",
       "    }\n",
       "</style>\n",
       "<table border=\"1\" class=\"dataframe\">\n",
       "  <thead>\n",
       "    <tr style=\"text-align: right;\">\n",
       "      <th></th>\n",
       "      <th>low</th>\n",
       "      <th>high</th>\n",
       "      <th>open</th>\n",
       "      <th>close</th>\n",
       "      <th>volume</th>\n",
       "      <th>adj close</th>\n",
       "      <th>mean</th>\n",
       "      <th>dayofweek</th>\n",
       "      <th>quarter</th>\n",
       "      <th>month</th>\n",
       "      <th>year</th>\n",
       "    </tr>\n",
       "    <tr>\n",
       "      <th>date</th>\n",
       "      <th></th>\n",
       "      <th></th>\n",
       "      <th></th>\n",
       "      <th></th>\n",
       "      <th></th>\n",
       "      <th></th>\n",
       "      <th></th>\n",
       "      <th></th>\n",
       "      <th></th>\n",
       "      <th></th>\n",
       "      <th></th>\n",
       "    </tr>\n",
       "  </thead>\n",
       "  <tbody>\n",
       "    <tr>\n",
       "      <th>2017-09-21</th>\n",
       "      <td>0.402293</td>\n",
       "      <td>0.364382</td>\n",
       "      <td>0.370254</td>\n",
       "      <td>0.390371</td>\n",
       "      <td>0.225164</td>\n",
       "      <td>0.195181</td>\n",
       "      <td>0.383940</td>\n",
       "      <td>0.75</td>\n",
       "      <td>0.666667</td>\n",
       "      <td>0.727273</td>\n",
       "      <td>0.0</td>\n",
       "    </tr>\n",
       "    <tr>\n",
       "      <th>2017-09-22</th>\n",
       "      <td>0.407308</td>\n",
       "      <td>0.367437</td>\n",
       "      <td>0.373958</td>\n",
       "      <td>0.400215</td>\n",
       "      <td>0.109147</td>\n",
       "      <td>0.202937</td>\n",
       "      <td>0.388006</td>\n",
       "      <td>1.00</td>\n",
       "      <td>0.666667</td>\n",
       "      <td>0.727273</td>\n",
       "      <td>0.0</td>\n",
       "    </tr>\n",
       "    <tr>\n",
       "      <th>2017-09-25</th>\n",
       "      <td>0.399427</td>\n",
       "      <td>0.371636</td>\n",
       "      <td>0.389331</td>\n",
       "      <td>0.385717</td>\n",
       "      <td>0.099146</td>\n",
       "      <td>0.191515</td>\n",
       "      <td>0.385973</td>\n",
       "      <td>0.00</td>\n",
       "      <td>0.666667</td>\n",
       "      <td>0.727273</td>\n",
       "      <td>0.0</td>\n",
       "    </tr>\n",
       "    <tr>\n",
       "      <th>2017-09-26</th>\n",
       "      <td>0.387605</td>\n",
       "      <td>0.344722</td>\n",
       "      <td>0.366549</td>\n",
       "      <td>0.373009</td>\n",
       "      <td>0.132103</td>\n",
       "      <td>0.181502</td>\n",
       "      <td>0.366845</td>\n",
       "      <td>0.25</td>\n",
       "      <td>0.666667</td>\n",
       "      <td>0.727273</td>\n",
       "      <td>0.0</td>\n",
       "    </tr>\n",
       "    <tr>\n",
       "      <th>2017-09-27</th>\n",
       "      <td>0.379187</td>\n",
       "      <td>0.334988</td>\n",
       "      <td>0.353214</td>\n",
       "      <td>0.368534</td>\n",
       "      <td>0.140218</td>\n",
       "      <td>0.177976</td>\n",
       "      <td>0.357790</td>\n",
       "      <td>0.50</td>\n",
       "      <td>0.666667</td>\n",
       "      <td>0.727273</td>\n",
       "      <td>0.0</td>\n",
       "    </tr>\n",
       "  </tbody>\n",
       "</table>\n",
       "</div>"
      ],
      "text/plain": [
       "                 low      high      open     close    volume  adj close  \\\n",
       "date                                                                      \n",
       "2017-09-21  0.402293  0.364382  0.370254  0.390371  0.225164   0.195181   \n",
       "2017-09-22  0.407308  0.367437  0.373958  0.400215  0.109147   0.202937   \n",
       "2017-09-25  0.399427  0.371636  0.389331  0.385717  0.099146   0.191515   \n",
       "2017-09-26  0.387605  0.344722  0.366549  0.373009  0.132103   0.181502   \n",
       "2017-09-27  0.379187  0.334988  0.353214  0.368534  0.140218   0.177976   \n",
       "\n",
       "                mean  dayofweek   quarter     month  year  \n",
       "date                                                       \n",
       "2017-09-21  0.383940       0.75  0.666667  0.727273   0.0  \n",
       "2017-09-22  0.388006       1.00  0.666667  0.727273   0.0  \n",
       "2017-09-25  0.385973       0.00  0.666667  0.727273   0.0  \n",
       "2017-09-26  0.366845       0.25  0.666667  0.727273   0.0  \n",
       "2017-09-27  0.357790       0.50  0.666667  0.727273   0.0  "
      ]
     },
     "execution_count": 182,
     "metadata": {},
     "output_type": "execute_result"
    }
   ],
   "source": [
    "X.head()"
   ]
  },
  {
   "cell_type": "code",
   "execution_count": 183,
   "id": "3747f5a8",
   "metadata": {},
   "outputs": [],
   "source": [
    "# invert predictions, scale values back to real index/price range.\n",
    "test_predict = sc_out.inverse_transform(predictions[['pred']])\n",
    "test_actual = sc_out.inverse_transform(predictions[['actual']])"
   ]
  },
  {
   "cell_type": "code",
   "execution_count": 184,
   "id": "1c81db06",
   "metadata": {},
   "outputs": [],
   "source": [
    "act_1=pd.DataFrame(test_actual)"
   ]
  },
  {
   "cell_type": "code",
   "execution_count": null,
   "id": "1adf7950",
   "metadata": {},
   "outputs": [],
   "source": [
    "#act_pred=pd.DataFrame()\n",
    "act_pred= pd.DataFrame(testPredict)\n",
    "act_pred.reset_index(drop=True, inplace=True)\n",
    "act_pred.index=test_X.index\n",
    "act_pred['Actual'] = act['Stock Price next day']"
   ]
  },
  {
   "cell_type": "code",
   "execution_count": null,
   "id": "fd6a2c16",
   "metadata": {},
   "outputs": [],
   "source": []
  },
  {
   "cell_type": "code",
   "execution_count": null,
   "id": "6a4705b7",
   "metadata": {},
   "outputs": [],
   "source": []
  },
  {
   "cell_type": "code",
   "execution_count": null,
   "id": "a42e0ae4",
   "metadata": {},
   "outputs": [],
   "source": []
  },
  {
   "cell_type": "code",
   "execution_count": null,
   "id": "c9b2530c",
   "metadata": {},
   "outputs": [],
   "source": []
  },
  {
   "cell_type": "code",
   "execution_count": null,
   "id": "c26483c2",
   "metadata": {},
   "outputs": [],
   "source": []
  },
  {
   "cell_type": "code",
   "execution_count": null,
   "id": "bb043356",
   "metadata": {},
   "outputs": [],
   "source": []
  },
  {
   "cell_type": "code",
   "execution_count": null,
   "id": "1dbbfaa9",
   "metadata": {},
   "outputs": [],
   "source": []
  },
  {
   "cell_type": "code",
   "execution_count": null,
   "id": "6f152578",
   "metadata": {},
   "outputs": [],
   "source": []
  }
 ],
 "metadata": {
  "kernelspec": {
   "display_name": "Python 3 (ipykernel)",
   "language": "python",
   "name": "python3"
  },
  "language_info": {
   "codemirror_mode": {
    "name": "ipython",
    "version": 3
   },
   "file_extension": ".py",
   "mimetype": "text/x-python",
   "name": "python",
   "nbconvert_exporter": "python",
   "pygments_lexer": "ipython3",
   "version": "3.8.13"
  }
 },
 "nbformat": 4,
 "nbformat_minor": 5
}
