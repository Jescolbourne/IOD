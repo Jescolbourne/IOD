{
 "cells": [
  {
   "cell_type": "code",
   "execution_count": 1,
   "id": "ab8ab3f6",
   "metadata": {},
   "outputs": [],
   "source": [
    "#Importing required Libraries\n",
    "import pandas as pd\n",
    "import numpy as np\n",
    "import time\n",
    "from IPython.core.debugger import set_trace\n",
    "\n",
    "import matplotlib.pyplot as plt\n",
    "import seaborn as sns\n",
    "from pandas.plotting import register_matplotlib_converters\n",
    "register_matplotlib_converters()\n",
    "%matplotlib inline"
   ]
  },
  {
   "cell_type": "code",
   "execution_count": 2,
   "id": "3ff2aad8",
   "metadata": {},
   "outputs": [
    {
     "data": {
      "text/html": [
       "<div>\n",
       "<style scoped>\n",
       "    .dataframe tbody tr th:only-of-type {\n",
       "        vertical-align: middle;\n",
       "    }\n",
       "\n",
       "    .dataframe tbody tr th {\n",
       "        vertical-align: top;\n",
       "    }\n",
       "\n",
       "    .dataframe thead th {\n",
       "        text-align: right;\n",
       "    }\n",
       "</style>\n",
       "<table border=\"1\" class=\"dataframe\">\n",
       "  <thead>\n",
       "    <tr style=\"text-align: right;\">\n",
       "      <th></th>\n",
       "      <th>Date</th>\n",
       "      <th>Open</th>\n",
       "      <th>High</th>\n",
       "      <th>Low</th>\n",
       "      <th>Close</th>\n",
       "      <th>Adj Close</th>\n",
       "      <th>Volume</th>\n",
       "    </tr>\n",
       "  </thead>\n",
       "  <tbody>\n",
       "    <tr>\n",
       "      <th>0</th>\n",
       "      <td>2017-09-21</td>\n",
       "      <td>76.000000</td>\n",
       "      <td>76.889999</td>\n",
       "      <td>75.900002</td>\n",
       "      <td>76.070000</td>\n",
       "      <td>60.625332</td>\n",
       "      <td>4104401</td>\n",
       "    </tr>\n",
       "    <tr>\n",
       "      <th>1</th>\n",
       "      <td>2017-09-22</td>\n",
       "      <td>76.199997</td>\n",
       "      <td>77.050003</td>\n",
       "      <td>76.180000</td>\n",
       "      <td>76.620003</td>\n",
       "      <td>61.063652</td>\n",
       "      <td>2170239</td>\n",
       "    </tr>\n",
       "    <tr>\n",
       "      <th>2</th>\n",
       "      <td>2017-09-25</td>\n",
       "      <td>77.029999</td>\n",
       "      <td>77.269997</td>\n",
       "      <td>75.739998</td>\n",
       "      <td>75.809998</td>\n",
       "      <td>60.418121</td>\n",
       "      <td>2003512</td>\n",
       "    </tr>\n",
       "    <tr>\n",
       "      <th>3</th>\n",
       "      <td>2017-09-26</td>\n",
       "      <td>75.800003</td>\n",
       "      <td>75.860001</td>\n",
       "      <td>75.080002</td>\n",
       "      <td>75.099998</td>\n",
       "      <td>59.852276</td>\n",
       "      <td>2552948</td>\n",
       "    </tr>\n",
       "    <tr>\n",
       "      <th>4</th>\n",
       "      <td>2017-09-27</td>\n",
       "      <td>75.080002</td>\n",
       "      <td>75.349998</td>\n",
       "      <td>74.610001</td>\n",
       "      <td>74.849998</td>\n",
       "      <td>59.653019</td>\n",
       "      <td>2688235</td>\n",
       "    </tr>\n",
       "    <tr>\n",
       "      <th>...</th>\n",
       "      <td>...</td>\n",
       "      <td>...</td>\n",
       "      <td>...</td>\n",
       "      <td>...</td>\n",
       "      <td>...</td>\n",
       "      <td>...</td>\n",
       "      <td>...</td>\n",
       "    </tr>\n",
       "    <tr>\n",
       "      <th>1262</th>\n",
       "      <td>2022-09-15</td>\n",
       "      <td>94.849998</td>\n",
       "      <td>95.339996</td>\n",
       "      <td>94.660004</td>\n",
       "      <td>95.059998</td>\n",
       "      <td>95.059998</td>\n",
       "      <td>3364419</td>\n",
       "    </tr>\n",
       "    <tr>\n",
       "      <th>1263</th>\n",
       "      <td>2022-09-16</td>\n",
       "      <td>94.550003</td>\n",
       "      <td>95.279999</td>\n",
       "      <td>94.044998</td>\n",
       "      <td>94.230003</td>\n",
       "      <td>94.230003</td>\n",
       "      <td>5980478</td>\n",
       "    </tr>\n",
       "    <tr>\n",
       "      <th>1264</th>\n",
       "      <td>2022-09-19</td>\n",
       "      <td>94.250000</td>\n",
       "      <td>95.029999</td>\n",
       "      <td>94.250000</td>\n",
       "      <td>94.660004</td>\n",
       "      <td>94.660004</td>\n",
       "      <td>1474030</td>\n",
       "    </tr>\n",
       "    <tr>\n",
       "      <th>1265</th>\n",
       "      <td>2022-09-20</td>\n",
       "      <td>95.949997</td>\n",
       "      <td>96.800003</td>\n",
       "      <td>95.660004</td>\n",
       "      <td>96.529999</td>\n",
       "      <td>96.529999</td>\n",
       "      <td>2389248</td>\n",
       "    </tr>\n",
       "    <tr>\n",
       "      <th>1266</th>\n",
       "      <td>2022-09-21</td>\n",
       "      <td>96.279999</td>\n",
       "      <td>96.279999</td>\n",
       "      <td>95.750000</td>\n",
       "      <td>95.860001</td>\n",
       "      <td>95.860001</td>\n",
       "      <td>128860</td>\n",
       "    </tr>\n",
       "  </tbody>\n",
       "</table>\n",
       "<p>1267 rows × 7 columns</p>\n",
       "</div>"
      ],
      "text/plain": [
       "            Date       Open       High        Low      Close  Adj Close  \\\n",
       "0     2017-09-21  76.000000  76.889999  75.900002  76.070000  60.625332   \n",
       "1     2017-09-22  76.199997  77.050003  76.180000  76.620003  61.063652   \n",
       "2     2017-09-25  77.029999  77.269997  75.739998  75.809998  60.418121   \n",
       "3     2017-09-26  75.800003  75.860001  75.080002  75.099998  59.852276   \n",
       "4     2017-09-27  75.080002  75.349998  74.610001  74.849998  59.653019   \n",
       "...          ...        ...        ...        ...        ...        ...   \n",
       "1262  2022-09-15  94.849998  95.339996  94.660004  95.059998  95.059998   \n",
       "1263  2022-09-16  94.550003  95.279999  94.044998  94.230003  94.230003   \n",
       "1264  2022-09-19  94.250000  95.029999  94.250000  94.660004  94.660004   \n",
       "1265  2022-09-20  95.949997  96.800003  95.660004  96.529999  96.529999   \n",
       "1266  2022-09-21  96.279999  96.279999  95.750000  95.860001  95.860001   \n",
       "\n",
       "       Volume  \n",
       "0     4104401  \n",
       "1     2170239  \n",
       "2     2003512  \n",
       "3     2552948  \n",
       "4     2688235  \n",
       "...       ...  \n",
       "1262  3364419  \n",
       "1263  5980478  \n",
       "1264  1474030  \n",
       "1265  2389248  \n",
       "1266   128860  \n",
       "\n",
       "[1267 rows x 7 columns]"
      ]
     },
     "execution_count": 2,
     "metadata": {},
     "output_type": "execute_result"
    }
   ],
   "source": [
    "df = pd.read_csv('CBA.AX5y.csv')\n",
    "df"
   ]
  },
  {
   "cell_type": "code",
   "execution_count": 3,
   "id": "d6f7c238",
   "metadata": {},
   "outputs": [],
   "source": [
    "df.columns = df.columns.str.lower()"
   ]
  },
  {
   "cell_type": "code",
   "execution_count": 4,
   "id": "c725c189",
   "metadata": {},
   "outputs": [
    {
     "data": {
      "text/html": [
       "<div>\n",
       "<style scoped>\n",
       "    .dataframe tbody tr th:only-of-type {\n",
       "        vertical-align: middle;\n",
       "    }\n",
       "\n",
       "    .dataframe tbody tr th {\n",
       "        vertical-align: top;\n",
       "    }\n",
       "\n",
       "    .dataframe thead th {\n",
       "        text-align: right;\n",
       "    }\n",
       "</style>\n",
       "<table border=\"1\" class=\"dataframe\">\n",
       "  <thead>\n",
       "    <tr style=\"text-align: right;\">\n",
       "      <th></th>\n",
       "      <th>date</th>\n",
       "      <th>open</th>\n",
       "      <th>high</th>\n",
       "      <th>low</th>\n",
       "      <th>close</th>\n",
       "      <th>adj close</th>\n",
       "      <th>volume</th>\n",
       "      <th>movement</th>\n",
       "    </tr>\n",
       "  </thead>\n",
       "  <tbody>\n",
       "    <tr>\n",
       "      <th>0</th>\n",
       "      <td>2017-09-21</td>\n",
       "      <td>76.000000</td>\n",
       "      <td>76.889999</td>\n",
       "      <td>75.900002</td>\n",
       "      <td>76.070000</td>\n",
       "      <td>60.625332</td>\n",
       "      <td>4104401</td>\n",
       "      <td>0.070000</td>\n",
       "    </tr>\n",
       "    <tr>\n",
       "      <th>1</th>\n",
       "      <td>2017-09-22</td>\n",
       "      <td>76.199997</td>\n",
       "      <td>77.050003</td>\n",
       "      <td>76.180000</td>\n",
       "      <td>76.620003</td>\n",
       "      <td>61.063652</td>\n",
       "      <td>2170239</td>\n",
       "      <td>0.420006</td>\n",
       "    </tr>\n",
       "    <tr>\n",
       "      <th>2</th>\n",
       "      <td>2017-09-25</td>\n",
       "      <td>77.029999</td>\n",
       "      <td>77.269997</td>\n",
       "      <td>75.739998</td>\n",
       "      <td>75.809998</td>\n",
       "      <td>60.418121</td>\n",
       "      <td>2003512</td>\n",
       "      <td>-1.220001</td>\n",
       "    </tr>\n",
       "    <tr>\n",
       "      <th>3</th>\n",
       "      <td>2017-09-26</td>\n",
       "      <td>75.800003</td>\n",
       "      <td>75.860001</td>\n",
       "      <td>75.080002</td>\n",
       "      <td>75.099998</td>\n",
       "      <td>59.852276</td>\n",
       "      <td>2552948</td>\n",
       "      <td>-0.700005</td>\n",
       "    </tr>\n",
       "    <tr>\n",
       "      <th>4</th>\n",
       "      <td>2017-09-27</td>\n",
       "      <td>75.080002</td>\n",
       "      <td>75.349998</td>\n",
       "      <td>74.610001</td>\n",
       "      <td>74.849998</td>\n",
       "      <td>59.653019</td>\n",
       "      <td>2688235</td>\n",
       "      <td>-0.230004</td>\n",
       "    </tr>\n",
       "    <tr>\n",
       "      <th>...</th>\n",
       "      <td>...</td>\n",
       "      <td>...</td>\n",
       "      <td>...</td>\n",
       "      <td>...</td>\n",
       "      <td>...</td>\n",
       "      <td>...</td>\n",
       "      <td>...</td>\n",
       "      <td>...</td>\n",
       "    </tr>\n",
       "    <tr>\n",
       "      <th>1262</th>\n",
       "      <td>2022-09-15</td>\n",
       "      <td>94.849998</td>\n",
       "      <td>95.339996</td>\n",
       "      <td>94.660004</td>\n",
       "      <td>95.059998</td>\n",
       "      <td>95.059998</td>\n",
       "      <td>3364419</td>\n",
       "      <td>0.210000</td>\n",
       "    </tr>\n",
       "    <tr>\n",
       "      <th>1263</th>\n",
       "      <td>2022-09-16</td>\n",
       "      <td>94.550003</td>\n",
       "      <td>95.279999</td>\n",
       "      <td>94.044998</td>\n",
       "      <td>94.230003</td>\n",
       "      <td>94.230003</td>\n",
       "      <td>5980478</td>\n",
       "      <td>-0.320000</td>\n",
       "    </tr>\n",
       "    <tr>\n",
       "      <th>1264</th>\n",
       "      <td>2022-09-19</td>\n",
       "      <td>94.250000</td>\n",
       "      <td>95.029999</td>\n",
       "      <td>94.250000</td>\n",
       "      <td>94.660004</td>\n",
       "      <td>94.660004</td>\n",
       "      <td>1474030</td>\n",
       "      <td>0.410004</td>\n",
       "    </tr>\n",
       "    <tr>\n",
       "      <th>1265</th>\n",
       "      <td>2022-09-20</td>\n",
       "      <td>95.949997</td>\n",
       "      <td>96.800003</td>\n",
       "      <td>95.660004</td>\n",
       "      <td>96.529999</td>\n",
       "      <td>96.529999</td>\n",
       "      <td>2389248</td>\n",
       "      <td>0.580002</td>\n",
       "    </tr>\n",
       "    <tr>\n",
       "      <th>1266</th>\n",
       "      <td>2022-09-21</td>\n",
       "      <td>96.279999</td>\n",
       "      <td>96.279999</td>\n",
       "      <td>95.750000</td>\n",
       "      <td>95.860001</td>\n",
       "      <td>95.860001</td>\n",
       "      <td>128860</td>\n",
       "      <td>-0.419998</td>\n",
       "    </tr>\n",
       "  </tbody>\n",
       "</table>\n",
       "<p>1267 rows × 8 columns</p>\n",
       "</div>"
      ],
      "text/plain": [
       "            date       open       high        low      close  adj close  \\\n",
       "0     2017-09-21  76.000000  76.889999  75.900002  76.070000  60.625332   \n",
       "1     2017-09-22  76.199997  77.050003  76.180000  76.620003  61.063652   \n",
       "2     2017-09-25  77.029999  77.269997  75.739998  75.809998  60.418121   \n",
       "3     2017-09-26  75.800003  75.860001  75.080002  75.099998  59.852276   \n",
       "4     2017-09-27  75.080002  75.349998  74.610001  74.849998  59.653019   \n",
       "...          ...        ...        ...        ...        ...        ...   \n",
       "1262  2022-09-15  94.849998  95.339996  94.660004  95.059998  95.059998   \n",
       "1263  2022-09-16  94.550003  95.279999  94.044998  94.230003  94.230003   \n",
       "1264  2022-09-19  94.250000  95.029999  94.250000  94.660004  94.660004   \n",
       "1265  2022-09-20  95.949997  96.800003  95.660004  96.529999  96.529999   \n",
       "1266  2022-09-21  96.279999  96.279999  95.750000  95.860001  95.860001   \n",
       "\n",
       "       volume  movement  \n",
       "0     4104401  0.070000  \n",
       "1     2170239  0.420006  \n",
       "2     2003512 -1.220001  \n",
       "3     2552948 -0.700005  \n",
       "4     2688235 -0.230004  \n",
       "...       ...       ...  \n",
       "1262  3364419  0.210000  \n",
       "1263  5980478 -0.320000  \n",
       "1264  1474030  0.410004  \n",
       "1265  2389248  0.580002  \n",
       "1266   128860 -0.419998  \n",
       "\n",
       "[1267 rows x 8 columns]"
      ]
     },
     "execution_count": 4,
     "metadata": {},
     "output_type": "execute_result"
    }
   ],
   "source": [
    "df['movement'] = df['close']-df['open']\n",
    "df"
   ]
  },
  {
   "cell_type": "code",
   "execution_count": 7,
   "id": "cbb8f0b8",
   "metadata": {},
   "outputs": [
    {
     "data": {
      "text/html": [
       "<div>\n",
       "<style scoped>\n",
       "    .dataframe tbody tr th:only-of-type {\n",
       "        vertical-align: middle;\n",
       "    }\n",
       "\n",
       "    .dataframe tbody tr th {\n",
       "        vertical-align: top;\n",
       "    }\n",
       "\n",
       "    .dataframe thead th {\n",
       "        text-align: right;\n",
       "    }\n",
       "</style>\n",
       "<table border=\"1\" class=\"dataframe\">\n",
       "  <thead>\n",
       "    <tr style=\"text-align: right;\">\n",
       "      <th></th>\n",
       "      <th>date</th>\n",
       "      <th>open</th>\n",
       "      <th>high</th>\n",
       "      <th>low</th>\n",
       "      <th>close</th>\n",
       "      <th>adj close</th>\n",
       "      <th>volume</th>\n",
       "      <th>movement</th>\n",
       "      <th>actual</th>\n",
       "    </tr>\n",
       "  </thead>\n",
       "  <tbody>\n",
       "    <tr>\n",
       "      <th>0</th>\n",
       "      <td>2017-09-21</td>\n",
       "      <td>76.000000</td>\n",
       "      <td>76.889999</td>\n",
       "      <td>75.900002</td>\n",
       "      <td>76.070000</td>\n",
       "      <td>60.625332</td>\n",
       "      <td>4104401</td>\n",
       "      <td>0.070000</td>\n",
       "      <td>0.420006</td>\n",
       "    </tr>\n",
       "    <tr>\n",
       "      <th>1</th>\n",
       "      <td>2017-09-22</td>\n",
       "      <td>76.199997</td>\n",
       "      <td>77.050003</td>\n",
       "      <td>76.180000</td>\n",
       "      <td>76.620003</td>\n",
       "      <td>61.063652</td>\n",
       "      <td>2170239</td>\n",
       "      <td>0.420006</td>\n",
       "      <td>-1.220001</td>\n",
       "    </tr>\n",
       "    <tr>\n",
       "      <th>2</th>\n",
       "      <td>2017-09-25</td>\n",
       "      <td>77.029999</td>\n",
       "      <td>77.269997</td>\n",
       "      <td>75.739998</td>\n",
       "      <td>75.809998</td>\n",
       "      <td>60.418121</td>\n",
       "      <td>2003512</td>\n",
       "      <td>-1.220001</td>\n",
       "      <td>-0.700005</td>\n",
       "    </tr>\n",
       "  </tbody>\n",
       "</table>\n",
       "</div>"
      ],
      "text/plain": [
       "         date       open       high        low      close  adj close   volume  \\\n",
       "0  2017-09-21  76.000000  76.889999  75.900002  76.070000  60.625332  4104401   \n",
       "1  2017-09-22  76.199997  77.050003  76.180000  76.620003  61.063652  2170239   \n",
       "2  2017-09-25  77.029999  77.269997  75.739998  75.809998  60.418121  2003512   \n",
       "\n",
       "   movement    actual  \n",
       "0  0.070000  0.420006  \n",
       "1  0.420006 -1.220001  \n",
       "2 -1.220001 -0.700005  "
      ]
     },
     "execution_count": 7,
     "metadata": {},
     "output_type": "execute_result"
    }
   ],
   "source": [
    "# preparing the dataset by shifting the mean by 1\n",
    "steps=-1\n",
    "dfpred= df.copy()\n",
    "dfpred['actual']=dfpred['movement'].shift(steps)\n",
    "dfpred.head(3)"
   ]
  },
  {
   "cell_type": "code",
   "execution_count": 8,
   "id": "e3496a2a",
   "metadata": {},
   "outputs": [
    {
     "data": {
      "text/html": [
       "<div>\n",
       "<style scoped>\n",
       "    .dataframe tbody tr th:only-of-type {\n",
       "        vertical-align: middle;\n",
       "    }\n",
       "\n",
       "    .dataframe tbody tr th {\n",
       "        vertical-align: top;\n",
       "    }\n",
       "\n",
       "    .dataframe thead th {\n",
       "        text-align: right;\n",
       "    }\n",
       "</style>\n",
       "<table border=\"1\" class=\"dataframe\">\n",
       "  <thead>\n",
       "    <tr style=\"text-align: right;\">\n",
       "      <th></th>\n",
       "      <th>date</th>\n",
       "      <th>open</th>\n",
       "      <th>high</th>\n",
       "      <th>low</th>\n",
       "      <th>close</th>\n",
       "      <th>adj close</th>\n",
       "      <th>volume</th>\n",
       "      <th>movement</th>\n",
       "      <th>actual</th>\n",
       "    </tr>\n",
       "  </thead>\n",
       "  <tbody>\n",
       "    <tr>\n",
       "      <th>1262</th>\n",
       "      <td>2022-09-15</td>\n",
       "      <td>94.849998</td>\n",
       "      <td>95.339996</td>\n",
       "      <td>94.660004</td>\n",
       "      <td>95.059998</td>\n",
       "      <td>95.059998</td>\n",
       "      <td>3364419</td>\n",
       "      <td>0.210000</td>\n",
       "      <td>-0.320000</td>\n",
       "    </tr>\n",
       "    <tr>\n",
       "      <th>1263</th>\n",
       "      <td>2022-09-16</td>\n",
       "      <td>94.550003</td>\n",
       "      <td>95.279999</td>\n",
       "      <td>94.044998</td>\n",
       "      <td>94.230003</td>\n",
       "      <td>94.230003</td>\n",
       "      <td>5980478</td>\n",
       "      <td>-0.320000</td>\n",
       "      <td>0.410004</td>\n",
       "    </tr>\n",
       "    <tr>\n",
       "      <th>1264</th>\n",
       "      <td>2022-09-19</td>\n",
       "      <td>94.250000</td>\n",
       "      <td>95.029999</td>\n",
       "      <td>94.250000</td>\n",
       "      <td>94.660004</td>\n",
       "      <td>94.660004</td>\n",
       "      <td>1474030</td>\n",
       "      <td>0.410004</td>\n",
       "      <td>0.580002</td>\n",
       "    </tr>\n",
       "    <tr>\n",
       "      <th>1265</th>\n",
       "      <td>2022-09-20</td>\n",
       "      <td>95.949997</td>\n",
       "      <td>96.800003</td>\n",
       "      <td>95.660004</td>\n",
       "      <td>96.529999</td>\n",
       "      <td>96.529999</td>\n",
       "      <td>2389248</td>\n",
       "      <td>0.580002</td>\n",
       "      <td>-0.419998</td>\n",
       "    </tr>\n",
       "    <tr>\n",
       "      <th>1266</th>\n",
       "      <td>2022-09-21</td>\n",
       "      <td>96.279999</td>\n",
       "      <td>96.279999</td>\n",
       "      <td>95.750000</td>\n",
       "      <td>95.860001</td>\n",
       "      <td>95.860001</td>\n",
       "      <td>128860</td>\n",
       "      <td>-0.419998</td>\n",
       "      <td>NaN</td>\n",
       "    </tr>\n",
       "  </tbody>\n",
       "</table>\n",
       "</div>"
      ],
      "text/plain": [
       "            date       open       high        low      close  adj close  \\\n",
       "1262  2022-09-15  94.849998  95.339996  94.660004  95.059998  95.059998   \n",
       "1263  2022-09-16  94.550003  95.279999  94.044998  94.230003  94.230003   \n",
       "1264  2022-09-19  94.250000  95.029999  94.250000  94.660004  94.660004   \n",
       "1265  2022-09-20  95.949997  96.800003  95.660004  96.529999  96.529999   \n",
       "1266  2022-09-21  96.279999  96.279999  95.750000  95.860001  95.860001   \n",
       "\n",
       "       volume  movement    actual  \n",
       "1262  3364419  0.210000 -0.320000  \n",
       "1263  5980478 -0.320000  0.410004  \n",
       "1264  1474030  0.410004  0.580002  \n",
       "1265  2389248  0.580002 -0.419998  \n",
       "1266   128860 -0.419998       NaN  "
      ]
     },
     "execution_count": 8,
     "metadata": {},
     "output_type": "execute_result"
    }
   ],
   "source": [
    "dfpred.tail()"
   ]
  },
  {
   "cell_type": "code",
   "execution_count": 9,
   "id": "994c7de2",
   "metadata": {},
   "outputs": [],
   "source": [
    "dfpred = dfpred.dropna()"
   ]
  },
  {
   "cell_type": "code",
   "execution_count": 10,
   "id": "02693b69",
   "metadata": {
    "scrolled": true
   },
   "outputs": [
    {
     "data": {
      "text/html": [
       "<div>\n",
       "<style scoped>\n",
       "    .dataframe tbody tr th:only-of-type {\n",
       "        vertical-align: middle;\n",
       "    }\n",
       "\n",
       "    .dataframe tbody tr th {\n",
       "        vertical-align: top;\n",
       "    }\n",
       "\n",
       "    .dataframe thead th {\n",
       "        text-align: right;\n",
       "    }\n",
       "</style>\n",
       "<table border=\"1\" class=\"dataframe\">\n",
       "  <thead>\n",
       "    <tr style=\"text-align: right;\">\n",
       "      <th></th>\n",
       "      <th>date</th>\n",
       "      <th>open</th>\n",
       "      <th>high</th>\n",
       "      <th>low</th>\n",
       "      <th>close</th>\n",
       "      <th>adj close</th>\n",
       "      <th>volume</th>\n",
       "      <th>movement</th>\n",
       "      <th>actual</th>\n",
       "    </tr>\n",
       "  </thead>\n",
       "  <tbody>\n",
       "    <tr>\n",
       "      <th>1261</th>\n",
       "      <td>2022-09-14</td>\n",
       "      <td>95.629997</td>\n",
       "      <td>95.680000</td>\n",
       "      <td>94.430000</td>\n",
       "      <td>94.459999</td>\n",
       "      <td>94.459999</td>\n",
       "      <td>2958659</td>\n",
       "      <td>-1.169998</td>\n",
       "      <td>0.210000</td>\n",
       "    </tr>\n",
       "    <tr>\n",
       "      <th>1262</th>\n",
       "      <td>2022-09-15</td>\n",
       "      <td>94.849998</td>\n",
       "      <td>95.339996</td>\n",
       "      <td>94.660004</td>\n",
       "      <td>95.059998</td>\n",
       "      <td>95.059998</td>\n",
       "      <td>3364419</td>\n",
       "      <td>0.210000</td>\n",
       "      <td>-0.320000</td>\n",
       "    </tr>\n",
       "    <tr>\n",
       "      <th>1263</th>\n",
       "      <td>2022-09-16</td>\n",
       "      <td>94.550003</td>\n",
       "      <td>95.279999</td>\n",
       "      <td>94.044998</td>\n",
       "      <td>94.230003</td>\n",
       "      <td>94.230003</td>\n",
       "      <td>5980478</td>\n",
       "      <td>-0.320000</td>\n",
       "      <td>0.410004</td>\n",
       "    </tr>\n",
       "    <tr>\n",
       "      <th>1264</th>\n",
       "      <td>2022-09-19</td>\n",
       "      <td>94.250000</td>\n",
       "      <td>95.029999</td>\n",
       "      <td>94.250000</td>\n",
       "      <td>94.660004</td>\n",
       "      <td>94.660004</td>\n",
       "      <td>1474030</td>\n",
       "      <td>0.410004</td>\n",
       "      <td>0.580002</td>\n",
       "    </tr>\n",
       "    <tr>\n",
       "      <th>1265</th>\n",
       "      <td>2022-09-20</td>\n",
       "      <td>95.949997</td>\n",
       "      <td>96.800003</td>\n",
       "      <td>95.660004</td>\n",
       "      <td>96.529999</td>\n",
       "      <td>96.529999</td>\n",
       "      <td>2389248</td>\n",
       "      <td>0.580002</td>\n",
       "      <td>-0.419998</td>\n",
       "    </tr>\n",
       "  </tbody>\n",
       "</table>\n",
       "</div>"
      ],
      "text/plain": [
       "            date       open       high        low      close  adj close  \\\n",
       "1261  2022-09-14  95.629997  95.680000  94.430000  94.459999  94.459999   \n",
       "1262  2022-09-15  94.849998  95.339996  94.660004  95.059998  95.059998   \n",
       "1263  2022-09-16  94.550003  95.279999  94.044998  94.230003  94.230003   \n",
       "1264  2022-09-19  94.250000  95.029999  94.250000  94.660004  94.660004   \n",
       "1265  2022-09-20  95.949997  96.800003  95.660004  96.529999  96.529999   \n",
       "\n",
       "       volume  movement    actual  \n",
       "1261  2958659 -1.169998  0.210000  \n",
       "1262  3364419  0.210000 -0.320000  \n",
       "1263  5980478 -0.320000  0.410004  \n",
       "1264  1474030  0.410004  0.580002  \n",
       "1265  2389248  0.580002 -0.419998  "
      ]
     },
     "execution_count": 10,
     "metadata": {},
     "output_type": "execute_result"
    }
   ],
   "source": [
    "dfpred.tail()"
   ]
  },
  {
   "cell_type": "code",
   "execution_count": 11,
   "id": "e9e36477",
   "metadata": {},
   "outputs": [],
   "source": [
    "dfpred = dfpred.set_index('date')\n",
    "dfpred.index = pd.to_datetime(dfpred.index)"
   ]
  },
  {
   "cell_type": "code",
   "execution_count": 12,
   "id": "2917459d",
   "metadata": {},
   "outputs": [
    {
     "data": {
      "image/png": "[encoded data removed]",
      "text/plain": [
       "<Figure size 1080x360 with 1 Axes>"
      ]
     },
     "metadata": {
      "needs_background": "light"
     },
     "output_type": "display_data"
    }
   ],
   "source": [
    "dfpred['movement'].plot(style='-',\n",
    "        figsize=(15, 5),\n",
    "        title='CBA stock price')\n",
    "plt.show()"
   ]
  },
  {
   "cell_type": "code",
   "execution_count": 13,
   "id": "30a9ba38",
   "metadata": {},
   "outputs": [
    {
     "data": {
      "text/plain": [
       "Int64Index([3, 4, 0, 1, 2, 3, 4, 0, 1, 2,\n",
       "            ...\n",
       "            2, 3, 4, 0, 1, 2, 3, 4, 0, 1],\n",
       "           dtype='int64', name='date', length=1266)"
      ]
     },
     "execution_count": 13,
     "metadata": {},
     "output_type": "execute_result"
    }
   ],
   "source": [
    "dfpred.index.dayofweek"
   ]
  },
  {
   "cell_type": "code",
   "execution_count": 14,
   "id": "bc71dc95",
   "metadata": {},
   "outputs": [],
   "source": [
    "def create_features(dfpred):\n",
    "    \"\"\"\n",
    "    Create time series features based on time series index.\n",
    "    \"\"\"\n",
    "    dfpred = dfpred.copy()\n",
    "    dfpred['dayofweek'] = dfpred.index.dayofweek\n",
    "    dfpred['quarter'] = dfpred.index.quarter\n",
    "    dfpred['month'] = dfpred.index.month\n",
    "    dfpred['year'] = dfpred.index.year\n",
    "    return dfpred\n",
    "\n",
    "dfpred = create_features(dfpred)"
   ]
  },
  {
   "cell_type": "code",
   "execution_count": 15,
   "id": "588d6cb7",
   "metadata": {},
   "outputs": [
    {
     "data": {
      "text/html": [
       "<div>\n",
       "<style scoped>\n",
       "    .dataframe tbody tr th:only-of-type {\n",
       "        vertical-align: middle;\n",
       "    }\n",
       "\n",
       "    .dataframe tbody tr th {\n",
       "        vertical-align: top;\n",
       "    }\n",
       "\n",
       "    .dataframe thead th {\n",
       "        text-align: right;\n",
       "    }\n",
       "</style>\n",
       "<table border=\"1\" class=\"dataframe\">\n",
       "  <thead>\n",
       "    <tr style=\"text-align: right;\">\n",
       "      <th></th>\n",
       "      <th>open</th>\n",
       "      <th>high</th>\n",
       "      <th>low</th>\n",
       "      <th>close</th>\n",
       "      <th>adj close</th>\n",
       "      <th>volume</th>\n",
       "      <th>movement</th>\n",
       "      <th>actual</th>\n",
       "      <th>dayofweek</th>\n",
       "      <th>quarter</th>\n",
       "      <th>month</th>\n",
       "      <th>year</th>\n",
       "    </tr>\n",
       "    <tr>\n",
       "      <th>date</th>\n",
       "      <th></th>\n",
       "      <th></th>\n",
       "      <th></th>\n",
       "      <th></th>\n",
       "      <th></th>\n",
       "      <th></th>\n",
       "      <th></th>\n",
       "      <th></th>\n",
       "      <th></th>\n",
       "      <th></th>\n",
       "      <th></th>\n",
       "      <th></th>\n",
       "    </tr>\n",
       "  </thead>\n",
       "  <tbody>\n",
       "    <tr>\n",
       "      <th>2017-09-21</th>\n",
       "      <td>76.000000</td>\n",
       "      <td>76.889999</td>\n",
       "      <td>75.900002</td>\n",
       "      <td>76.070000</td>\n",
       "      <td>60.625332</td>\n",
       "      <td>4104401</td>\n",
       "      <td>0.070000</td>\n",
       "      <td>0.420006</td>\n",
       "      <td>3</td>\n",
       "      <td>3</td>\n",
       "      <td>9</td>\n",
       "      <td>2017</td>\n",
       "    </tr>\n",
       "    <tr>\n",
       "      <th>2017-09-22</th>\n",
       "      <td>76.199997</td>\n",
       "      <td>77.050003</td>\n",
       "      <td>76.180000</td>\n",
       "      <td>76.620003</td>\n",
       "      <td>61.063652</td>\n",
       "      <td>2170239</td>\n",
       "      <td>0.420006</td>\n",
       "      <td>-1.220001</td>\n",
       "      <td>4</td>\n",
       "      <td>3</td>\n",
       "      <td>9</td>\n",
       "      <td>2017</td>\n",
       "    </tr>\n",
       "    <tr>\n",
       "      <th>2017-09-25</th>\n",
       "      <td>77.029999</td>\n",
       "      <td>77.269997</td>\n",
       "      <td>75.739998</td>\n",
       "      <td>75.809998</td>\n",
       "      <td>60.418121</td>\n",
       "      <td>2003512</td>\n",
       "      <td>-1.220001</td>\n",
       "      <td>-0.700005</td>\n",
       "      <td>0</td>\n",
       "      <td>3</td>\n",
       "      <td>9</td>\n",
       "      <td>2017</td>\n",
       "    </tr>\n",
       "    <tr>\n",
       "      <th>2017-09-26</th>\n",
       "      <td>75.800003</td>\n",
       "      <td>75.860001</td>\n",
       "      <td>75.080002</td>\n",
       "      <td>75.099998</td>\n",
       "      <td>59.852276</td>\n",
       "      <td>2552948</td>\n",
       "      <td>-0.700005</td>\n",
       "      <td>-0.230004</td>\n",
       "      <td>1</td>\n",
       "      <td>3</td>\n",
       "      <td>9</td>\n",
       "      <td>2017</td>\n",
       "    </tr>\n",
       "    <tr>\n",
       "      <th>2017-09-27</th>\n",
       "      <td>75.080002</td>\n",
       "      <td>75.349998</td>\n",
       "      <td>74.610001</td>\n",
       "      <td>74.849998</td>\n",
       "      <td>59.653019</td>\n",
       "      <td>2688235</td>\n",
       "      <td>-0.230004</td>\n",
       "      <td>-0.229995</td>\n",
       "      <td>2</td>\n",
       "      <td>3</td>\n",
       "      <td>9</td>\n",
       "      <td>2017</td>\n",
       "    </tr>\n",
       "    <tr>\n",
       "      <th>...</th>\n",
       "      <td>...</td>\n",
       "      <td>...</td>\n",
       "      <td>...</td>\n",
       "      <td>...</td>\n",
       "      <td>...</td>\n",
       "      <td>...</td>\n",
       "      <td>...</td>\n",
       "      <td>...</td>\n",
       "      <td>...</td>\n",
       "      <td>...</td>\n",
       "      <td>...</td>\n",
       "      <td>...</td>\n",
       "    </tr>\n",
       "    <tr>\n",
       "      <th>2022-09-14</th>\n",
       "      <td>95.629997</td>\n",
       "      <td>95.680000</td>\n",
       "      <td>94.430000</td>\n",
       "      <td>94.459999</td>\n",
       "      <td>94.459999</td>\n",
       "      <td>2958659</td>\n",
       "      <td>-1.169998</td>\n",
       "      <td>0.210000</td>\n",
       "      <td>2</td>\n",
       "      <td>3</td>\n",
       "      <td>9</td>\n",
       "      <td>2022</td>\n",
       "    </tr>\n",
       "    <tr>\n",
       "      <th>2022-09-15</th>\n",
       "      <td>94.849998</td>\n",
       "      <td>95.339996</td>\n",
       "      <td>94.660004</td>\n",
       "      <td>95.059998</td>\n",
       "      <td>95.059998</td>\n",
       "      <td>3364419</td>\n",
       "      <td>0.210000</td>\n",
       "      <td>-0.320000</td>\n",
       "      <td>3</td>\n",
       "      <td>3</td>\n",
       "      <td>9</td>\n",
       "      <td>2022</td>\n",
       "    </tr>\n",
       "    <tr>\n",
       "      <th>2022-09-16</th>\n",
       "      <td>94.550003</td>\n",
       "      <td>95.279999</td>\n",
       "      <td>94.044998</td>\n",
       "      <td>94.230003</td>\n",
       "      <td>94.230003</td>\n",
       "      <td>5980478</td>\n",
       "      <td>-0.320000</td>\n",
       "      <td>0.410004</td>\n",
       "      <td>4</td>\n",
       "      <td>3</td>\n",
       "      <td>9</td>\n",
       "      <td>2022</td>\n",
       "    </tr>\n",
       "    <tr>\n",
       "      <th>2022-09-19</th>\n",
       "      <td>94.250000</td>\n",
       "      <td>95.029999</td>\n",
       "      <td>94.250000</td>\n",
       "      <td>94.660004</td>\n",
       "      <td>94.660004</td>\n",
       "      <td>1474030</td>\n",
       "      <td>0.410004</td>\n",
       "      <td>0.580002</td>\n",
       "      <td>0</td>\n",
       "      <td>3</td>\n",
       "      <td>9</td>\n",
       "      <td>2022</td>\n",
       "    </tr>\n",
       "    <tr>\n",
       "      <th>2022-09-20</th>\n",
       "      <td>95.949997</td>\n",
       "      <td>96.800003</td>\n",
       "      <td>95.660004</td>\n",
       "      <td>96.529999</td>\n",
       "      <td>96.529999</td>\n",
       "      <td>2389248</td>\n",
       "      <td>0.580002</td>\n",
       "      <td>-0.419998</td>\n",
       "      <td>1</td>\n",
       "      <td>3</td>\n",
       "      <td>9</td>\n",
       "      <td>2022</td>\n",
       "    </tr>\n",
       "  </tbody>\n",
       "</table>\n",
       "<p>1266 rows × 12 columns</p>\n",
       "</div>"
      ],
      "text/plain": [
       "                 open       high        low      close  adj close   volume  \\\n",
       "date                                                                         \n",
       "2017-09-21  76.000000  76.889999  75.900002  76.070000  60.625332  4104401   \n",
       "2017-09-22  76.199997  77.050003  76.180000  76.620003  61.063652  2170239   \n",
       "2017-09-25  77.029999  77.269997  75.739998  75.809998  60.418121  2003512   \n",
       "2017-09-26  75.800003  75.860001  75.080002  75.099998  59.852276  2552948   \n",
       "2017-09-27  75.080002  75.349998  74.610001  74.849998  59.653019  2688235   \n",
       "...               ...        ...        ...        ...        ...      ...   \n",
       "2022-09-14  95.629997  95.680000  94.430000  94.459999  94.459999  2958659   \n",
       "2022-09-15  94.849998  95.339996  94.660004  95.059998  95.059998  3364419   \n",
       "2022-09-16  94.550003  95.279999  94.044998  94.230003  94.230003  5980478   \n",
       "2022-09-19  94.250000  95.029999  94.250000  94.660004  94.660004  1474030   \n",
       "2022-09-20  95.949997  96.800003  95.660004  96.529999  96.529999  2389248   \n",
       "\n",
       "            movement    actual  dayofweek  quarter  month  year  \n",
       "date                                                             \n",
       "2017-09-21  0.070000  0.420006          3        3      9  2017  \n",
       "2017-09-22  0.420006 -1.220001          4        3      9  2017  \n",
       "2017-09-25 -1.220001 -0.700005          0        3      9  2017  \n",
       "2017-09-26 -0.700005 -0.230004          1        3      9  2017  \n",
       "2017-09-27 -0.230004 -0.229995          2        3      9  2017  \n",
       "...              ...       ...        ...      ...    ...   ...  \n",
       "2022-09-14 -1.169998  0.210000          2        3      9  2022  \n",
       "2022-09-15  0.210000 -0.320000          3        3      9  2022  \n",
       "2022-09-16 -0.320000  0.410004          4        3      9  2022  \n",
       "2022-09-19  0.410004  0.580002          0        3      9  2022  \n",
       "2022-09-20  0.580002 -0.419998          1        3      9  2022  \n",
       "\n",
       "[1266 rows x 12 columns]"
      ]
     },
     "execution_count": 15,
     "metadata": {},
     "output_type": "execute_result"
    }
   ],
   "source": [
    "dfpred"
   ]
  },
  {
   "cell_type": "code",
   "execution_count": 17,
   "id": "935deb86",
   "metadata": {},
   "outputs": [
    {
     "data": {
      "image/png": "[encoded data removed]",
      "text/plain": [
       "<Figure size 720x576 with 1 Axes>"
      ]
     },
     "metadata": {
      "needs_background": "light"
     },
     "output_type": "display_data"
    }
   ],
   "source": [
    "fig, ax = plt.subplots(figsize=(10, 8))\n",
    "sns.boxplot(data=dfpred, x='dayofweek', y='movement')\n",
    "ax.set_title('Price by day of week')\n",
    "plt.show()"
   ]
  },
  {
   "cell_type": "code",
   "execution_count": 18,
   "id": "e0f3f878",
   "metadata": {},
   "outputs": [
    {
     "data": {
      "image/png": "[encoded data removed]",
      "text/plain": [
       "<Figure size 720x576 with 1 Axes>"
      ]
     },
     "metadata": {
      "needs_background": "light"
     },
     "output_type": "display_data"
    }
   ],
   "source": [
    "fig, ax = plt.subplots(figsize=(10, 8))\n",
    "sns.boxplot(data=dfpred, x='quarter', y='movement')\n",
    "ax.set_title('Price by quarter')\n",
    "plt.show()"
   ]
  },
  {
   "cell_type": "code",
   "execution_count": 19,
   "id": "d912d359",
   "metadata": {},
   "outputs": [
    {
     "data": {
      "image/png": "[encoded data removed]",
      "text/plain": [
       "<Figure size 720x576 with 1 Axes>"
      ]
     },
     "metadata": {
      "needs_background": "light"
     },
     "output_type": "display_data"
    }
   ],
   "source": [
    "fig, ax = plt.subplots(figsize=(10, 8))\n",
    "sns.boxplot(data=dfpred, x='month', y='movement')\n",
    "ax.set_title('Price by month')\n",
    "plt.show()"
   ]
  },
  {
   "cell_type": "code",
   "execution_count": 20,
   "id": "8d619b84",
   "metadata": {},
   "outputs": [
    {
     "data": {
      "image/png": "[encoded data removed]",
      "text/plain": [
       "<Figure size 720x576 with 1 Axes>"
      ]
     },
     "metadata": {
      "needs_background": "light"
     },
     "output_type": "display_data"
    }
   ],
   "source": [
    "fig, ax = plt.subplots(figsize=(10, 8))\n",
    "sns.boxplot(data=dfpred, x='year', y='movement')\n",
    "ax.set_title('Price by year')\n",
    "plt.show()"
   ]
  },
  {
   "cell_type": "code",
   "execution_count": 21,
   "id": "e37668c2",
   "metadata": {},
   "outputs": [
    {
     "data": {
      "image/png": "[encoded data removed]",
      "text/plain": [
       "<Figure size 1080x360 with 1 Axes>"
      ]
     },
     "metadata": {
      "needs_background": "light"
     },
     "output_type": "display_data"
    }
   ],
   "source": [
    "dfpred['volume'].plot(style='-',\n",
    "        figsize=(15, 5),\n",
    "        title='CBA stock volume')\n",
    "plt.show()"
   ]
  },
  {
   "cell_type": "code",
   "execution_count": 22,
   "id": "70eb9ef1",
   "metadata": {},
   "outputs": [],
   "source": [
    "# normalizing input features\n",
    "from sklearn.preprocessing import MinMaxScaler\n",
    "sc_in = MinMaxScaler(feature_range=(0, 1))\n",
    "scaled_input = sc_in.fit_transform(dfpred[['low', 'high','open', 'close', 'volume', 'adj close', 'movement','dayofweek', 'quarter', 'month', 'year']])\n",
    "scaled_input =pd.DataFrame(scaled_input)\n",
    "X= scaled_input"
   ]
  },
  {
   "cell_type": "code",
   "execution_count": 23,
   "id": "db10853c",
   "metadata": {},
   "outputs": [
    {
     "data": {
      "text/html": [
       "<div>\n",
       "<style scoped>\n",
       "    .dataframe tbody tr th:only-of-type {\n",
       "        vertical-align: middle;\n",
       "    }\n",
       "\n",
       "    .dataframe tbody tr th {\n",
       "        vertical-align: top;\n",
       "    }\n",
       "\n",
       "    .dataframe thead th {\n",
       "        text-align: right;\n",
       "    }\n",
       "</style>\n",
       "<table border=\"1\" class=\"dataframe\">\n",
       "  <thead>\n",
       "    <tr style=\"text-align: right;\">\n",
       "      <th></th>\n",
       "      <th>0</th>\n",
       "      <th>1</th>\n",
       "      <th>2</th>\n",
       "      <th>3</th>\n",
       "      <th>4</th>\n",
       "      <th>5</th>\n",
       "      <th>6</th>\n",
       "      <th>7</th>\n",
       "      <th>8</th>\n",
       "      <th>9</th>\n",
       "      <th>10</th>\n",
       "    </tr>\n",
       "  </thead>\n",
       "  <tbody>\n",
       "    <tr>\n",
       "      <th>0</th>\n",
       "      <td>0.402293</td>\n",
       "      <td>0.364382</td>\n",
       "      <td>0.370254</td>\n",
       "      <td>0.390371</td>\n",
       "      <td>0.225164</td>\n",
       "      <td>0.195181</td>\n",
       "      <td>0.420236</td>\n",
       "      <td>0.75</td>\n",
       "      <td>0.666667</td>\n",
       "      <td>0.727273</td>\n",
       "      <td>0.0</td>\n",
       "    </tr>\n",
       "    <tr>\n",
       "      <th>1</th>\n",
       "      <td>0.407308</td>\n",
       "      <td>0.367437</td>\n",
       "      <td>0.373958</td>\n",
       "      <td>0.400215</td>\n",
       "      <td>0.109147</td>\n",
       "      <td>0.202937</td>\n",
       "      <td>0.446086</td>\n",
       "      <td>1.00</td>\n",
       "      <td>0.666667</td>\n",
       "      <td>0.727273</td>\n",
       "      <td>0.0</td>\n",
       "    </tr>\n",
       "    <tr>\n",
       "      <th>2</th>\n",
       "      <td>0.399427</td>\n",
       "      <td>0.371636</td>\n",
       "      <td>0.389331</td>\n",
       "      <td>0.385717</td>\n",
       "      <td>0.099146</td>\n",
       "      <td>0.191515</td>\n",
       "      <td>0.324963</td>\n",
       "      <td>0.00</td>\n",
       "      <td>0.666667</td>\n",
       "      <td>0.727273</td>\n",
       "      <td>0.0</td>\n",
       "    </tr>\n",
       "    <tr>\n",
       "      <th>3</th>\n",
       "      <td>0.387605</td>\n",
       "      <td>0.344722</td>\n",
       "      <td>0.366549</td>\n",
       "      <td>0.373009</td>\n",
       "      <td>0.132103</td>\n",
       "      <td>0.181502</td>\n",
       "      <td>0.363367</td>\n",
       "      <td>0.25</td>\n",
       "      <td>0.666667</td>\n",
       "      <td>0.727273</td>\n",
       "      <td>0.0</td>\n",
       "    </tr>\n",
       "    <tr>\n",
       "      <th>4</th>\n",
       "      <td>0.379187</td>\n",
       "      <td>0.334988</td>\n",
       "      <td>0.353214</td>\n",
       "      <td>0.368534</td>\n",
       "      <td>0.140218</td>\n",
       "      <td>0.177976</td>\n",
       "      <td>0.398079</td>\n",
       "      <td>0.50</td>\n",
       "      <td>0.666667</td>\n",
       "      <td>0.727273</td>\n",
       "      <td>0.0</td>\n",
       "    </tr>\n",
       "    <tr>\n",
       "      <th>...</th>\n",
       "      <td>...</td>\n",
       "      <td>...</td>\n",
       "      <td>...</td>\n",
       "      <td>...</td>\n",
       "      <td>...</td>\n",
       "      <td>...</td>\n",
       "      <td>...</td>\n",
       "      <td>...</td>\n",
       "      <td>...</td>\n",
       "      <td>...</td>\n",
       "      <td>...</td>\n",
       "    </tr>\n",
       "    <tr>\n",
       "      <th>1261</th>\n",
       "      <td>0.734193</td>\n",
       "      <td>0.723039</td>\n",
       "      <td>0.733840</td>\n",
       "      <td>0.719528</td>\n",
       "      <td>0.156438</td>\n",
       "      <td>0.793896</td>\n",
       "      <td>0.328656</td>\n",
       "      <td>0.50</td>\n",
       "      <td>0.666667</td>\n",
       "      <td>0.727273</td>\n",
       "      <td>1.0</td>\n",
       "    </tr>\n",
       "    <tr>\n",
       "      <th>1262</th>\n",
       "      <td>0.738313</td>\n",
       "      <td>0.716549</td>\n",
       "      <td>0.719392</td>\n",
       "      <td>0.730267</td>\n",
       "      <td>0.180777</td>\n",
       "      <td>0.804513</td>\n",
       "      <td>0.430576</td>\n",
       "      <td>0.75</td>\n",
       "      <td>0.666667</td>\n",
       "      <td>0.727273</td>\n",
       "      <td>1.0</td>\n",
       "    </tr>\n",
       "    <tr>\n",
       "      <th>1263</th>\n",
       "      <td>0.727297</td>\n",
       "      <td>0.715404</td>\n",
       "      <td>0.713836</td>\n",
       "      <td>0.715411</td>\n",
       "      <td>0.337697</td>\n",
       "      <td>0.789826</td>\n",
       "      <td>0.391433</td>\n",
       "      <td>1.00</td>\n",
       "      <td>0.666667</td>\n",
       "      <td>0.727273</td>\n",
       "      <td>1.0</td>\n",
       "    </tr>\n",
       "    <tr>\n",
       "      <th>1264</th>\n",
       "      <td>0.730969</td>\n",
       "      <td>0.710632</td>\n",
       "      <td>0.708279</td>\n",
       "      <td>0.723107</td>\n",
       "      <td>0.067386</td>\n",
       "      <td>0.797435</td>\n",
       "      <td>0.445347</td>\n",
       "      <td>0.00</td>\n",
       "      <td>0.666667</td>\n",
       "      <td>0.727273</td>\n",
       "      <td>1.0</td>\n",
       "    </tr>\n",
       "    <tr>\n",
       "      <th>1265</th>\n",
       "      <td>0.756224</td>\n",
       "      <td>0.744417</td>\n",
       "      <td>0.739767</td>\n",
       "      <td>0.756578</td>\n",
       "      <td>0.122283</td>\n",
       "      <td>0.830525</td>\n",
       "      <td>0.457903</td>\n",
       "      <td>0.25</td>\n",
       "      <td>0.666667</td>\n",
       "      <td>0.727273</td>\n",
       "      <td>1.0</td>\n",
       "    </tr>\n",
       "  </tbody>\n",
       "</table>\n",
       "<p>1266 rows × 11 columns</p>\n",
       "</div>"
      ],
      "text/plain": [
       "            0         1         2         3         4         5         6   \\\n",
       "0     0.402293  0.364382  0.370254  0.390371  0.225164  0.195181  0.420236   \n",
       "1     0.407308  0.367437  0.373958  0.400215  0.109147  0.202937  0.446086   \n",
       "2     0.399427  0.371636  0.389331  0.385717  0.099146  0.191515  0.324963   \n",
       "3     0.387605  0.344722  0.366549  0.373009  0.132103  0.181502  0.363367   \n",
       "4     0.379187  0.334988  0.353214  0.368534  0.140218  0.177976  0.398079   \n",
       "...        ...       ...       ...       ...       ...       ...       ...   \n",
       "1261  0.734193  0.723039  0.733840  0.719528  0.156438  0.793896  0.328656   \n",
       "1262  0.738313  0.716549  0.719392  0.730267  0.180777  0.804513  0.430576   \n",
       "1263  0.727297  0.715404  0.713836  0.715411  0.337697  0.789826  0.391433   \n",
       "1264  0.730969  0.710632  0.708279  0.723107  0.067386  0.797435  0.445347   \n",
       "1265  0.756224  0.744417  0.739767  0.756578  0.122283  0.830525  0.457903   \n",
       "\n",
       "        7         8         9    10  \n",
       "0     0.75  0.666667  0.727273  0.0  \n",
       "1     1.00  0.666667  0.727273  0.0  \n",
       "2     0.00  0.666667  0.727273  0.0  \n",
       "3     0.25  0.666667  0.727273  0.0  \n",
       "4     0.50  0.666667  0.727273  0.0  \n",
       "...    ...       ...       ...  ...  \n",
       "1261  0.50  0.666667  0.727273  1.0  \n",
       "1262  0.75  0.666667  0.727273  1.0  \n",
       "1263  1.00  0.666667  0.727273  1.0  \n",
       "1264  0.00  0.666667  0.727273  1.0  \n",
       "1265  0.25  0.666667  0.727273  1.0  \n",
       "\n",
       "[1266 rows x 11 columns]"
      ]
     },
     "execution_count": 23,
     "metadata": {},
     "output_type": "execute_result"
    }
   ],
   "source": [
    "X"
   ]
  },
  {
   "cell_type": "code",
   "execution_count": 24,
   "id": "9a429fde",
   "metadata": {},
   "outputs": [
    {
     "data": {
      "text/html": [
       "<div>\n",
       "<style scoped>\n",
       "    .dataframe tbody tr th:only-of-type {\n",
       "        vertical-align: middle;\n",
       "    }\n",
       "\n",
       "    .dataframe tbody tr th {\n",
       "        vertical-align: top;\n",
       "    }\n",
       "\n",
       "    .dataframe thead th {\n",
       "        text-align: right;\n",
       "    }\n",
       "</style>\n",
       "<table border=\"1\" class=\"dataframe\">\n",
       "  <thead>\n",
       "    <tr style=\"text-align: right;\">\n",
       "      <th></th>\n",
       "      <th>low</th>\n",
       "      <th>high</th>\n",
       "      <th>open</th>\n",
       "      <th>close</th>\n",
       "      <th>volume</th>\n",
       "      <th>adj close</th>\n",
       "      <th>movement</th>\n",
       "      <th>dayofweek</th>\n",
       "      <th>quarter</th>\n",
       "      <th>month</th>\n",
       "      <th>year</th>\n",
       "    </tr>\n",
       "    <tr>\n",
       "      <th>date</th>\n",
       "      <th></th>\n",
       "      <th></th>\n",
       "      <th></th>\n",
       "      <th></th>\n",
       "      <th></th>\n",
       "      <th></th>\n",
       "      <th></th>\n",
       "      <th></th>\n",
       "      <th></th>\n",
       "      <th></th>\n",
       "      <th></th>\n",
       "    </tr>\n",
       "  </thead>\n",
       "  <tbody>\n",
       "    <tr>\n",
       "      <th>2022-09-14</th>\n",
       "      <td>0.734193</td>\n",
       "      <td>0.723039</td>\n",
       "      <td>0.733840</td>\n",
       "      <td>0.719528</td>\n",
       "      <td>0.156438</td>\n",
       "      <td>0.793896</td>\n",
       "      <td>0.328656</td>\n",
       "      <td>0.50</td>\n",
       "      <td>0.666667</td>\n",
       "      <td>0.727273</td>\n",
       "      <td>1.0</td>\n",
       "    </tr>\n",
       "    <tr>\n",
       "      <th>2022-09-15</th>\n",
       "      <td>0.738313</td>\n",
       "      <td>0.716549</td>\n",
       "      <td>0.719392</td>\n",
       "      <td>0.730267</td>\n",
       "      <td>0.180777</td>\n",
       "      <td>0.804513</td>\n",
       "      <td>0.430576</td>\n",
       "      <td>0.75</td>\n",
       "      <td>0.666667</td>\n",
       "      <td>0.727273</td>\n",
       "      <td>1.0</td>\n",
       "    </tr>\n",
       "    <tr>\n",
       "      <th>2022-09-16</th>\n",
       "      <td>0.727297</td>\n",
       "      <td>0.715404</td>\n",
       "      <td>0.713836</td>\n",
       "      <td>0.715411</td>\n",
       "      <td>0.337697</td>\n",
       "      <td>0.789826</td>\n",
       "      <td>0.391433</td>\n",
       "      <td>1.00</td>\n",
       "      <td>0.666667</td>\n",
       "      <td>0.727273</td>\n",
       "      <td>1.0</td>\n",
       "    </tr>\n",
       "    <tr>\n",
       "      <th>2022-09-19</th>\n",
       "      <td>0.730969</td>\n",
       "      <td>0.710632</td>\n",
       "      <td>0.708279</td>\n",
       "      <td>0.723107</td>\n",
       "      <td>0.067386</td>\n",
       "      <td>0.797435</td>\n",
       "      <td>0.445347</td>\n",
       "      <td>0.00</td>\n",
       "      <td>0.666667</td>\n",
       "      <td>0.727273</td>\n",
       "      <td>1.0</td>\n",
       "    </tr>\n",
       "    <tr>\n",
       "      <th>2022-09-20</th>\n",
       "      <td>0.756224</td>\n",
       "      <td>0.744417</td>\n",
       "      <td>0.739767</td>\n",
       "      <td>0.756578</td>\n",
       "      <td>0.122283</td>\n",
       "      <td>0.830525</td>\n",
       "      <td>0.457903</td>\n",
       "      <td>0.25</td>\n",
       "      <td>0.666667</td>\n",
       "      <td>0.727273</td>\n",
       "      <td>1.0</td>\n",
       "    </tr>\n",
       "  </tbody>\n",
       "</table>\n",
       "</div>"
      ],
      "text/plain": [
       "                 low      high      open     close    volume  adj close  \\\n",
       "date                                                                      \n",
       "2022-09-14  0.734193  0.723039  0.733840  0.719528  0.156438   0.793896   \n",
       "2022-09-15  0.738313  0.716549  0.719392  0.730267  0.180777   0.804513   \n",
       "2022-09-16  0.727297  0.715404  0.713836  0.715411  0.337697   0.789826   \n",
       "2022-09-19  0.730969  0.710632  0.708279  0.723107  0.067386   0.797435   \n",
       "2022-09-20  0.756224  0.744417  0.739767  0.756578  0.122283   0.830525   \n",
       "\n",
       "            movement  dayofweek   quarter     month  year  \n",
       "date                                                       \n",
       "2022-09-14  0.328656       0.50  0.666667  0.727273   1.0  \n",
       "2022-09-15  0.430576       0.75  0.666667  0.727273   1.0  \n",
       "2022-09-16  0.391433       1.00  0.666667  0.727273   1.0  \n",
       "2022-09-19  0.445347       0.00  0.666667  0.727273   1.0  \n",
       "2022-09-20  0.457903       0.25  0.666667  0.727273   1.0  "
      ]
     },
     "execution_count": 24,
     "metadata": {},
     "output_type": "execute_result"
    }
   ],
   "source": [
    "X.rename(columns={0:'low', 1:'high',2:'open', 3:'close', 4:'volume', 5:'adj close', 6:'movement',7:'dayofweek', 8:'quarter', 9:'month', 10:'year'}, inplace=True)\n",
    "X = pd.DataFrame(X)\n",
    "X.index = dfpred.index\n",
    "X.tail(5)"
   ]
  },
  {
   "cell_type": "code",
   "execution_count": 25,
   "id": "c1231c53",
   "metadata": {},
   "outputs": [],
   "source": [
    "sc_out = MinMaxScaler(feature_range=(0, 1))\n",
    "scaler_output = sc_out.fit_transform(dfpred[['actual']])\n",
    "scaler_output =pd.DataFrame(scaler_output)\n",
    "y=scaler_output"
   ]
  },
  {
   "cell_type": "code",
   "execution_count": 26,
   "id": "c4c9946c",
   "metadata": {},
   "outputs": [
    {
     "data": {
      "text/html": [
       "<div>\n",
       "<style scoped>\n",
       "    .dataframe tbody tr th:only-of-type {\n",
       "        vertical-align: middle;\n",
       "    }\n",
       "\n",
       "    .dataframe tbody tr th {\n",
       "        vertical-align: top;\n",
       "    }\n",
       "\n",
       "    .dataframe thead th {\n",
       "        text-align: right;\n",
       "    }\n",
       "</style>\n",
       "<table border=\"1\" class=\"dataframe\">\n",
       "  <thead>\n",
       "    <tr style=\"text-align: right;\">\n",
       "      <th></th>\n",
       "      <th>0</th>\n",
       "    </tr>\n",
       "  </thead>\n",
       "  <tbody>\n",
       "    <tr>\n",
       "      <th>0</th>\n",
       "      <td>0.446086</td>\n",
       "    </tr>\n",
       "    <tr>\n",
       "      <th>1</th>\n",
       "      <td>0.324963</td>\n",
       "    </tr>\n",
       "    <tr>\n",
       "      <th>2</th>\n",
       "      <td>0.363367</td>\n",
       "    </tr>\n",
       "    <tr>\n",
       "      <th>3</th>\n",
       "      <td>0.398079</td>\n",
       "    </tr>\n",
       "    <tr>\n",
       "      <th>4</th>\n",
       "      <td>0.398080</td>\n",
       "    </tr>\n",
       "    <tr>\n",
       "      <th>...</th>\n",
       "      <td>...</td>\n",
       "    </tr>\n",
       "    <tr>\n",
       "      <th>1261</th>\n",
       "      <td>0.430576</td>\n",
       "    </tr>\n",
       "    <tr>\n",
       "      <th>1262</th>\n",
       "      <td>0.391433</td>\n",
       "    </tr>\n",
       "    <tr>\n",
       "      <th>1263</th>\n",
       "      <td>0.445347</td>\n",
       "    </tr>\n",
       "    <tr>\n",
       "      <th>1264</th>\n",
       "      <td>0.457903</td>\n",
       "    </tr>\n",
       "    <tr>\n",
       "      <th>1265</th>\n",
       "      <td>0.384047</td>\n",
       "    </tr>\n",
       "  </tbody>\n",
       "</table>\n",
       "<p>1266 rows × 1 columns</p>\n",
       "</div>"
      ],
      "text/plain": [
       "             0\n",
       "0     0.446086\n",
       "1     0.324963\n",
       "2     0.363367\n",
       "3     0.398079\n",
       "4     0.398080\n",
       "...        ...\n",
       "1261  0.430576\n",
       "1262  0.391433\n",
       "1263  0.445347\n",
       "1264  0.457903\n",
       "1265  0.384047\n",
       "\n",
       "[1266 rows x 1 columns]"
      ]
     },
     "execution_count": 26,
     "metadata": {},
     "output_type": "execute_result"
    }
   ],
   "source": [
    "y"
   ]
  },
  {
   "cell_type": "code",
   "execution_count": 27,
   "id": "90494323",
   "metadata": {},
   "outputs": [
    {
     "data": {
      "text/html": [
       "<div>\n",
       "<style scoped>\n",
       "    .dataframe tbody tr th:only-of-type {\n",
       "        vertical-align: middle;\n",
       "    }\n",
       "\n",
       "    .dataframe tbody tr th {\n",
       "        vertical-align: top;\n",
       "    }\n",
       "\n",
       "    .dataframe thead th {\n",
       "        text-align: right;\n",
       "    }\n",
       "</style>\n",
       "<table border=\"1\" class=\"dataframe\">\n",
       "  <thead>\n",
       "    <tr style=\"text-align: right;\">\n",
       "      <th></th>\n",
       "      <th>movement_next_day</th>\n",
       "    </tr>\n",
       "    <tr>\n",
       "      <th>date</th>\n",
       "      <th></th>\n",
       "    </tr>\n",
       "  </thead>\n",
       "  <tbody>\n",
       "    <tr>\n",
       "      <th>2017-09-21</th>\n",
       "      <td>0.446086</td>\n",
       "    </tr>\n",
       "    <tr>\n",
       "      <th>2017-09-22</th>\n",
       "      <td>0.324963</td>\n",
       "    </tr>\n",
       "  </tbody>\n",
       "</table>\n",
       "</div>"
      ],
      "text/plain": [
       "            movement_next_day\n",
       "date                         \n",
       "2017-09-21           0.446086\n",
       "2017-09-22           0.324963"
      ]
     },
     "execution_count": 27,
     "metadata": {},
     "output_type": "execute_result"
    }
   ],
   "source": [
    "y.rename(columns={0:'movement_next_day'}, inplace= True)\n",
    "y.index=dfpred.index\n",
    "y.head(2)"
   ]
  },
  {
   "cell_type": "code",
   "execution_count": 28,
   "id": "9372d044",
   "metadata": {
    "scrolled": false
   },
   "outputs": [
    {
     "data": {
      "image/png": "[encoded data removed]",
      "text/plain": [
       "<Figure size 432x288 with 4 Axes>"
      ]
     },
     "metadata": {
      "needs_background": "light"
     },
     "output_type": "display_data"
    }
   ],
   "source": [
    "import statsmodels.api as sm\n",
    "sd=sm.tsa.seasonal_decompose(X['movement'],model='add',period=365);\n",
    "fig=sd.plot()\n",
    "fig.set_figheight(4)\n",
    "plt.show()"
   ]
  },
  {
   "cell_type": "markdown",
   "id": "5a2131d9",
   "metadata": {},
   "source": [
    "### Split data into Train and Test"
   ]
  },
  {
   "cell_type": "code",
   "execution_count": 31,
   "id": "d663b689",
   "metadata": {},
   "outputs": [
    {
     "name": "stdout",
     "output_type": "stream",
     "text": [
      "254\n"
     ]
    }
   ],
   "source": [
    "train_size=int(len(df) *0.60)\n",
    "val_size=int(len(df) *0.20)\n",
    "test_size = int(len(df)) - train_size - val_size\n",
    "print(test_size)"
   ]
  },
  {
   "cell_type": "code",
   "execution_count": 32,
   "id": "51a7ff06",
   "metadata": {},
   "outputs": [],
   "source": [
    "train_X, train_y = X[:train_size], y[:train_size]\n",
    "val_X, val_y = X[:val_size], y[:val_size]\n",
    "test_X, test_y = X[test_size:], y[test_size:]"
   ]
  },
  {
   "cell_type": "code",
   "execution_count": 33,
   "id": "23eaee25",
   "metadata": {},
   "outputs": [
    {
     "data": {
      "text/plain": [
       "Index(['low', 'high', 'open', 'close', 'volume', 'adj close', 'movement',\n",
       "       'dayofweek', 'quarter', 'month', 'year'],\n",
       "      dtype='object')"
      ]
     },
     "execution_count": 33,
     "metadata": {},
     "output_type": "execute_result"
    }
   ],
   "source": [
    "test_X.columns"
   ]
  },
  {
   "cell_type": "code",
   "execution_count": 34,
   "id": "6e7d700b",
   "metadata": {},
   "outputs": [],
   "source": [
    "y_test=y['movement_next_day'][:test_size]"
   ]
  },
  {
   "cell_type": "code",
   "execution_count": 35,
   "id": "ae4dd942",
   "metadata": {},
   "outputs": [
    {
     "data": {
      "text/plain": [
       "pandas.core.series.Series"
      ]
     },
     "execution_count": 35,
     "metadata": {},
     "output_type": "execute_result"
    }
   ],
   "source": [
    "type(y_test)"
   ]
  },
  {
   "cell_type": "code",
   "execution_count": null,
   "id": "b7270ecd",
   "metadata": {},
   "outputs": [],
   "source": []
  },
  {
   "cell_type": "code",
   "execution_count": 36,
   "id": "dc292d7e",
   "metadata": {},
   "outputs": [],
   "source": [
    "from statsmodels.tsa.stattools import adfuller\n",
    "def test_adf(series, title=''):\n",
    "    dfout={}\n",
    "    dftest=sm.tsa.adfuller(series.dropna(), autolag='AIC', regression='ct')\n",
    "    for key,val in dftest[4].items():\n",
    "        dfout[f'critical value ({key})']=val\n",
    "    if dftest[1]<=0.05:\n",
    "        print(\"Strong evidence against Null Hypothesis\")\n",
    "        print(\"Reject Null Hypothesis - Data is  Stationary\")\n",
    "        print(\"Data is Stationary for\", title)\n",
    "    else:\n",
    "        print(\"Strong evidence for  Null Hypothesis\")\n",
    "        print(\"Accept Null Hypothesis - Data is not Stationary\")\n",
    "        print(\"Data is NOT Stationary for\", title)"
   ]
  },
  {
   "cell_type": "code",
   "execution_count": 37,
   "id": "beedf8f0",
   "metadata": {},
   "outputs": [
    {
     "name": "stdout",
     "output_type": "stream",
     "text": [
      "Strong evidence against Null Hypothesis\n",
      "Reject Null Hypothesis - Data is  Stationary\n",
      "Data is Stationary for CBA stock price\n"
     ]
    }
   ],
   "source": [
    "test_adf(y_test, \"CBA stock price\")"
   ]
  },
  {
   "cell_type": "code",
   "execution_count": 38,
   "id": "1357180a",
   "metadata": {},
   "outputs": [
    {
     "name": "stdout",
     "output_type": "stream",
     "text": [
      "Strong evidence against Null Hypothesis\n",
      "Reject Null Hypothesis - Data is  Stationary\n",
      "Data is Stationary for  CBA stock Price\n"
     ]
    }
   ],
   "source": [
    "test_adf(y_test.diff(), \" CBA stock Price\")"
   ]
  },
  {
   "cell_type": "code",
   "execution_count": 39,
   "id": "fea8c244",
   "metadata": {},
   "outputs": [
    {
     "name": "stderr",
     "output_type": "stream",
     "text": [
      "/Users/macbook/opt/anaconda3/envs/Deep/lib/python3.8/site-packages/statsmodels/graphics/tsaplots.py:348: FutureWarning: The default method 'yw' can produce PACF values outside of the [-1,1] interval. After 0.13, the default will change tounadjusted Yule-Walker ('ywm'). You can use this method now by setting method='ywm'.\n",
      "  warnings.warn(\n"
     ]
    },
    {
     "data": {
      "image/png": "[encoded data removed]",
      "text/plain": [
       "<Figure size 720x360 with 2 Axes>"
      ]
     },
     "metadata": {
      "needs_background": "light"
     },
     "output_type": "display_data"
    }
   ],
   "source": [
    "#Correlograms\n",
    "fig,ax= plt.subplots(2,1, figsize=(10,5))\n",
    "fig=sm.tsa.graphics.plot_acf(y_test, lags=30, ax=ax[0])\n",
    "fig=sm.tsa.graphics.plot_pacf(y_test, lags=30, ax=ax[1])\n",
    "plt.show()"
   ]
  },
  {
   "cell_type": "code",
   "execution_count": 40,
   "id": "7d9874d2",
   "metadata": {},
   "outputs": [
    {
     "name": "stdout",
     "output_type": "stream",
     "text": [
      "Performing stepwise search to minimize aic\n"
     ]
    },
    {
     "name": "stderr",
     "output_type": "stream",
     "text": [
      "/Users/macbook/opt/anaconda3/envs/Deep/lib/python3.8/site-packages/statsmodels/tsa/statespace/sarimax.py:1899: RuntimeWarning: invalid value encountered in reciprocal\n",
      "  return np.roots(self.polynomial_reduced_ar)**-1\n",
      "/Users/macbook/opt/anaconda3/envs/Deep/lib/python3.8/site-packages/statsmodels/tsa/statespace/sarimax.py:1906: RuntimeWarning: invalid value encountered in reciprocal\n",
      "  return np.roots(self.polynomial_reduced_ma)**-1\n"
     ]
    },
    {
     "name": "stdout",
     "output_type": "stream",
     "text": [
      " ARIMA(1,1,1)(0,0,0)[0] intercept   : AIC=-1870.373, Time=1.98 sec\n",
      " ARIMA(0,1,0)(0,0,0)[0] intercept   : AIC=-1760.583, Time=0.37 sec\n"
     ]
    },
    {
     "name": "stderr",
     "output_type": "stream",
     "text": [
      "/Users/macbook/opt/anaconda3/envs/Deep/lib/python3.8/site-packages/statsmodels/tsa/statespace/sarimax.py:1899: RuntimeWarning: invalid value encountered in reciprocal\n",
      "  return np.roots(self.polynomial_reduced_ar)**-1\n"
     ]
    },
    {
     "name": "stdout",
     "output_type": "stream",
     "text": [
      " ARIMA(1,1,0)(0,0,0)[0] intercept   : AIC=-1824.695, Time=1.35 sec\n"
     ]
    },
    {
     "name": "stderr",
     "output_type": "stream",
     "text": [
      "/Users/macbook/opt/anaconda3/envs/Deep/lib/python3.8/site-packages/statsmodels/tsa/statespace/sarimax.py:1906: RuntimeWarning: invalid value encountered in reciprocal\n",
      "  return np.roots(self.polynomial_reduced_ma)**-1\n"
     ]
    },
    {
     "name": "stdout",
     "output_type": "stream",
     "text": [
      " ARIMA(0,1,1)(0,0,0)[0] intercept   : AIC=-1871.627, Time=1.52 sec\n",
      " ARIMA(0,1,0)(0,0,0)[0]             : AIC=-1762.581, Time=0.98 sec\n",
      " ARIMA(0,1,2)(0,0,0)[0] intercept   : AIC=-1876.888, Time=1.55 sec\n"
     ]
    },
    {
     "name": "stderr",
     "output_type": "stream",
     "text": [
      "/Users/macbook/opt/anaconda3/envs/Deep/lib/python3.8/site-packages/statsmodels/tsa/statespace/sarimax.py:1899: RuntimeWarning: invalid value encountered in reciprocal\n",
      "  return np.roots(self.polynomial_reduced_ar)**-1\n"
     ]
    },
    {
     "name": "stdout",
     "output_type": "stream",
     "text": [
      " ARIMA(1,1,2)(0,0,0)[0] intercept   : AIC=-1880.378, Time=1.56 sec\n",
      " ARIMA(2,1,2)(0,0,0)[0] intercept   : AIC=-1885.538, Time=1.69 sec\n"
     ]
    },
    {
     "name": "stderr",
     "output_type": "stream",
     "text": [
      "/Users/macbook/opt/anaconda3/envs/Deep/lib/python3.8/site-packages/statsmodels/tsa/statespace/sarimax.py:1906: RuntimeWarning: invalid value encountered in reciprocal\n",
      "  return np.roots(self.polynomial_reduced_ma)**-1\n"
     ]
    },
    {
     "name": "stdout",
     "output_type": "stream",
     "text": [
      " ARIMA(2,1,1)(0,0,0)[0] intercept   : AIC=-1860.423, Time=1.57 sec\n"
     ]
    },
    {
     "name": "stderr",
     "output_type": "stream",
     "text": [
      "/Users/macbook/opt/anaconda3/envs/Deep/lib/python3.8/site-packages/statsmodels/tsa/statespace/sarimax.py:1899: RuntimeWarning: invalid value encountered in reciprocal\n",
      "  return np.roots(self.polynomial_reduced_ar)**-1\n"
     ]
    },
    {
     "name": "stdout",
     "output_type": "stream",
     "text": [
      " ARIMA(3,1,2)(0,0,0)[0] intercept   : AIC=-1884.655, Time=1.92 sec\n",
      " ARIMA(2,1,3)(0,0,0)[0] intercept   : AIC=-1863.537, Time=2.05 sec\n"
     ]
    },
    {
     "name": "stderr",
     "output_type": "stream",
     "text": [
      "/Users/macbook/opt/anaconda3/envs/Deep/lib/python3.8/site-packages/statsmodels/tsa/statespace/sarimax.py:1899: RuntimeWarning: invalid value encountered in reciprocal\n",
      "  return np.roots(self.polynomial_reduced_ar)**-1\n",
      "/Users/macbook/opt/anaconda3/envs/Deep/lib/python3.8/site-packages/statsmodels/tsa/statespace/sarimax.py:1906: RuntimeWarning: invalid value encountered in reciprocal\n",
      "  return np.roots(self.polynomial_reduced_ma)**-1\n"
     ]
    },
    {
     "name": "stdout",
     "output_type": "stream",
     "text": [
      " ARIMA(1,1,3)(0,0,0)[0] intercept   : AIC=-1883.130, Time=1.80 sec\n"
     ]
    },
    {
     "name": "stderr",
     "output_type": "stream",
     "text": [
      "/Users/macbook/opt/anaconda3/envs/Deep/lib/python3.8/site-packages/statsmodels/tsa/statespace/sarimax.py:1906: RuntimeWarning: invalid value encountered in reciprocal\n",
      "  return np.roots(self.polynomial_reduced_ma)**-1\n"
     ]
    },
    {
     "name": "stdout",
     "output_type": "stream",
     "text": [
      " ARIMA(3,1,1)(0,0,0)[0] intercept   : AIC=-1855.397, Time=1.71 sec\n",
      " ARIMA(3,1,3)(0,0,0)[0] intercept   : AIC=-1874.488, Time=2.42 sec\n",
      " ARIMA(2,1,2)(0,0,0)[0]             : AIC=-1891.532, Time=1.71 sec\n"
     ]
    },
    {
     "name": "stderr",
     "output_type": "stream",
     "text": [
      "/Users/macbook/opt/anaconda3/envs/Deep/lib/python3.8/site-packages/statsmodels/tsa/statespace/sarimax.py:1899: RuntimeWarning: invalid value encountered in reciprocal\n",
      "  return np.roots(self.polynomial_reduced_ar)**-1\n"
     ]
    },
    {
     "name": "stdout",
     "output_type": "stream",
     "text": [
      " ARIMA(1,1,2)(0,0,0)[0]             : AIC=-1899.255, Time=1.53 sec\n",
      " ARIMA(0,1,2)(0,0,0)[0]             : AIC=-1885.520, Time=1.54 sec\n"
     ]
    },
    {
     "name": "stderr",
     "output_type": "stream",
     "text": [
      "/Users/macbook/opt/anaconda3/envs/Deep/lib/python3.8/site-packages/statsmodels/tsa/statespace/sarimax.py:1899: RuntimeWarning: invalid value encountered in reciprocal\n",
      "  return np.roots(self.polynomial_reduced_ar)**-1\n",
      "/Users/macbook/opt/anaconda3/envs/Deep/lib/python3.8/site-packages/statsmodels/tsa/statespace/sarimax.py:1906: RuntimeWarning: invalid value encountered in reciprocal\n",
      "  return np.roots(self.polynomial_reduced_ma)**-1\n"
     ]
    },
    {
     "name": "stdout",
     "output_type": "stream",
     "text": [
      " ARIMA(1,1,1)(0,0,0)[0]             : AIC=-1890.263, Time=1.47 sec\n"
     ]
    },
    {
     "name": "stderr",
     "output_type": "stream",
     "text": [
      "/Users/macbook/opt/anaconda3/envs/Deep/lib/python3.8/site-packages/statsmodels/tsa/statespace/sarimax.py:1899: RuntimeWarning: invalid value encountered in reciprocal\n",
      "  return np.roots(self.polynomial_reduced_ar)**-1\n",
      "/Users/macbook/opt/anaconda3/envs/Deep/lib/python3.8/site-packages/statsmodels/tsa/statespace/sarimax.py:1906: RuntimeWarning: invalid value encountered in reciprocal\n",
      "  return np.roots(self.polynomial_reduced_ma)**-1\n"
     ]
    },
    {
     "name": "stdout",
     "output_type": "stream",
     "text": [
      " ARIMA(1,1,3)(0,0,0)[0]             : AIC=-1934.322, Time=1.86 sec\n"
     ]
    },
    {
     "name": "stderr",
     "output_type": "stream",
     "text": [
      "/Users/macbook/opt/anaconda3/envs/Deep/lib/python3.8/site-packages/statsmodels/tsa/statespace/sarimax.py:1906: RuntimeWarning: invalid value encountered in reciprocal\n",
      "  return np.roots(self.polynomial_reduced_ma)**-1\n"
     ]
    },
    {
     "name": "stdout",
     "output_type": "stream",
     "text": [
      " ARIMA(0,1,3)(0,0,0)[0]             : AIC=-1875.542, Time=1.61 sec\n"
     ]
    },
    {
     "name": "stderr",
     "output_type": "stream",
     "text": [
      "/Users/macbook/opt/anaconda3/envs/Deep/lib/python3.8/site-packages/statsmodels/tsa/statespace/sarimax.py:1906: RuntimeWarning: invalid value encountered in reciprocal\n",
      "  return np.roots(self.polynomial_reduced_ma)**-1\n"
     ]
    },
    {
     "name": "stdout",
     "output_type": "stream",
     "text": [
      " ARIMA(2,1,3)(0,0,0)[0]             : AIC=-1898.879, Time=1.83 sec\n"
     ]
    },
    {
     "name": "stderr",
     "output_type": "stream",
     "text": [
      "/Users/macbook/opt/anaconda3/envs/Deep/lib/python3.8/site-packages/statsmodels/tsa/statespace/sarimax.py:1899: RuntimeWarning: invalid value encountered in reciprocal\n",
      "  return np.roots(self.polynomial_reduced_ar)**-1\n"
     ]
    },
    {
     "name": "stdout",
     "output_type": "stream",
     "text": [
      " ARIMA(1,1,4)(0,0,0)[0]             : AIC=-1885.444, Time=1.77 sec\n",
      " ARIMA(0,1,4)(0,0,0)[0]             : AIC=-1891.315, Time=1.80 sec\n",
      " ARIMA(2,1,4)(0,0,0)[0]             : AIC=-1880.966, Time=1.85 sec\n",
      "\n",
      "Best model:  ARIMA(1,1,3)(0,0,0)[0]          \n",
      "Total fit time: 39.453 seconds\n"
     ]
    }
   ],
   "source": [
    "from pmdarima.arima import auto_arima\n",
    "ar=auto_arima(train_y, \n",
    "                     exogenous= train_X,\n",
    "                     start_p=1,  start_q=1, \n",
    "                     max_p=5,  max_q=5, \n",
    "                     d=1, max_d=5,\n",
    "                     trace=True, \n",
    "                     error_action='ignore', \n",
    "                     suppress_warnings=True, \n",
    "                     stepwise=True)"
   ]
  },
  {
   "cell_type": "code",
   "execution_count": 41,
   "id": "0fe96e36",
   "metadata": {},
   "outputs": [
    {
     "data": {
      "text/html": [
       "<table class=\"simpletable\">\n",
       "<caption>SARIMAX Results</caption>\n",
       "<tr>\n",
       "  <th>Dep. Variable:</th>           <td>y</td>        <th>  No. Observations:  </th>    <td>760</td>   \n",
       "</tr>\n",
       "<tr>\n",
       "  <th>Model:</th>           <td>SARIMAX(1, 1, 3)</td> <th>  Log Likelihood     </th>  <td>983.161</td> \n",
       "</tr>\n",
       "<tr>\n",
       "  <th>Date:</th>            <td>Fri, 07 Oct 2022</td> <th>  AIC                </th> <td>-1934.322</td>\n",
       "</tr>\n",
       "<tr>\n",
       "  <th>Time:</th>                <td>18:17:34</td>     <th>  BIC                </th> <td>-1860.210</td>\n",
       "</tr>\n",
       "<tr>\n",
       "  <th>Sample:</th>                  <td>0</td>        <th>  HQIC               </th> <td>-1905.781</td>\n",
       "</tr>\n",
       "<tr>\n",
       "  <th></th>                      <td> - 760</td>      <th>                     </th>     <td> </td>    \n",
       "</tr>\n",
       "<tr>\n",
       "  <th>Covariance Type:</th>        <td>opg</td>       <th>                     </th>     <td> </td>    \n",
       "</tr>\n",
       "</table>\n",
       "<table class=\"simpletable\">\n",
       "<tr>\n",
       "      <td></td>         <th>coef</th>     <th>std err</th>      <th>z</th>      <th>P>|z|</th>  <th>[0.025</th>    <th>0.975]</th>  \n",
       "</tr>\n",
       "<tr>\n",
       "  <th>low</th>       <td>    1.8753</td> <td>    0.283</td> <td>    6.617</td> <td> 0.000</td> <td>    1.320</td> <td>    2.431</td>\n",
       "</tr>\n",
       "<tr>\n",
       "  <th>high</th>      <td>    0.1810</td> <td>    0.247</td> <td>    0.734</td> <td> 0.463</td> <td>   -0.302</td> <td>    0.664</td>\n",
       "</tr>\n",
       "<tr>\n",
       "  <th>open</th>      <td>   -0.5742</td> <td>    0.312</td> <td>   -1.838</td> <td> 0.066</td> <td>   -1.187</td> <td>    0.038</td>\n",
       "</tr>\n",
       "<tr>\n",
       "  <th>close</th>     <td>   -0.5698</td> <td>    0.302</td> <td>   -1.885</td> <td> 0.059</td> <td>   -1.162</td> <td>    0.023</td>\n",
       "</tr>\n",
       "<tr>\n",
       "  <th>volume</th>    <td>    0.0571</td> <td>    0.039</td> <td>    1.458</td> <td> 0.145</td> <td>   -0.020</td> <td>    0.134</td>\n",
       "</tr>\n",
       "<tr>\n",
       "  <th>adj close</th> <td>   -1.1984</td> <td>    0.469</td> <td>   -2.553</td> <td> 0.011</td> <td>   -2.118</td> <td>   -0.278</td>\n",
       "</tr>\n",
       "<tr>\n",
       "  <th>movement</th>  <td>   -0.0630</td> <td>    0.097</td> <td>   -0.652</td> <td> 0.514</td> <td>   -0.252</td> <td>    0.126</td>\n",
       "</tr>\n",
       "<tr>\n",
       "  <th>dayofweek</th> <td>   -0.0107</td> <td>    0.009</td> <td>   -1.202</td> <td> 0.230</td> <td>   -0.028</td> <td>    0.007</td>\n",
       "</tr>\n",
       "<tr>\n",
       "  <th>quarter</th>   <td>   -0.0157</td> <td>    0.043</td> <td>   -0.364</td> <td> 0.716</td> <td>   -0.100</td> <td>    0.069</td>\n",
       "</tr>\n",
       "<tr>\n",
       "  <th>month</th>     <td>    0.1310</td> <td>    0.066</td> <td>    1.976</td> <td> 0.048</td> <td>    0.001</td> <td>    0.261</td>\n",
       "</tr>\n",
       "<tr>\n",
       "  <th>year</th>      <td>    0.5314</td> <td>    0.226</td> <td>    2.351</td> <td> 0.019</td> <td>    0.088</td> <td>    0.974</td>\n",
       "</tr>\n",
       "<tr>\n",
       "  <th>ar.L1</th>     <td>   -0.9107</td> <td>    0.038</td> <td>  -23.713</td> <td> 0.000</td> <td>   -0.986</td> <td>   -0.835</td>\n",
       "</tr>\n",
       "<tr>\n",
       "  <th>ma.L1</th>     <td>    0.0883</td> <td>    0.080</td> <td>    1.109</td> <td> 0.268</td> <td>   -0.068</td> <td>    0.244</td>\n",
       "</tr>\n",
       "<tr>\n",
       "  <th>ma.L2</th>     <td>   -0.9183</td> <td>    0.023</td> <td>  -40.382</td> <td> 0.000</td> <td>   -0.963</td> <td>   -0.874</td>\n",
       "</tr>\n",
       "<tr>\n",
       "  <th>ma.L3</th>     <td>   -0.0895</td> <td>    0.074</td> <td>   -1.211</td> <td> 0.226</td> <td>   -0.234</td> <td>    0.055</td>\n",
       "</tr>\n",
       "<tr>\n",
       "  <th>sigma2</th>    <td>    0.0043</td> <td>    0.000</td> <td>   35.301</td> <td> 0.000</td> <td>    0.004</td> <td>    0.005</td>\n",
       "</tr>\n",
       "</table>\n",
       "<table class=\"simpletable\">\n",
       "<tr>\n",
       "  <th>Ljung-Box (L1) (Q):</th>     <td>0.20</td> <th>  Jarque-Bera (JB):  </th> <td>6573.46</td>\n",
       "</tr>\n",
       "<tr>\n",
       "  <th>Prob(Q):</th>                <td>0.66</td> <th>  Prob(JB):          </th>  <td>0.00</td>  \n",
       "</tr>\n",
       "<tr>\n",
       "  <th>Heteroskedasticity (H):</th> <td>4.99</td> <th>  Skew:              </th>  <td>0.29</td>  \n",
       "</tr>\n",
       "<tr>\n",
       "  <th>Prob(H) (two-sided):</th>    <td>0.00</td> <th>  Kurtosis:          </th>  <td>17.41</td> \n",
       "</tr>\n",
       "</table><br/><br/>Warnings:<br/>[1] Covariance matrix calculated using the outer product of gradients (complex-step).<br/>[2] Covariance matrix is singular or near-singular, with condition number 2.79e+18. Standard errors may be unstable."
      ],
      "text/plain": [
       "<class 'statsmodels.iolib.summary.Summary'>\n",
       "\"\"\"\n",
       "                               SARIMAX Results                                \n",
       "==============================================================================\n",
       "Dep. Variable:                      y   No. Observations:                  760\n",
       "Model:               SARIMAX(1, 1, 3)   Log Likelihood                 983.161\n",
       "Date:                Fri, 07 Oct 2022   AIC                          -1934.322\n",
       "Time:                        18:17:34   BIC                          -1860.210\n",
       "Sample:                             0   HQIC                         -1905.781\n",
       "                                - 760                                         \n",
       "Covariance Type:                  opg                                         \n",
       "==============================================================================\n",
       "                 coef    std err          z      P>|z|      [0.025      0.975]\n",
       "------------------------------------------------------------------------------\n",
       "low            1.8753      0.283      6.617      0.000       1.320       2.431\n",
       "high           0.1810      0.247      0.734      0.463      -0.302       0.664\n",
       "open          -0.5742      0.312     -1.838      0.066      -1.187       0.038\n",
       "close         -0.5698      0.302     -1.885      0.059      -1.162       0.023\n",
       "volume         0.0571      0.039      1.458      0.145      -0.020       0.134\n",
       "adj close     -1.1984      0.469     -2.553      0.011      -2.118      -0.278\n",
       "movement      -0.0630      0.097     -0.652      0.514      -0.252       0.126\n",
       "dayofweek     -0.0107      0.009     -1.202      0.230      -0.028       0.007\n",
       "quarter       -0.0157      0.043     -0.364      0.716      -0.100       0.069\n",
       "month          0.1310      0.066      1.976      0.048       0.001       0.261\n",
       "year           0.5314      0.226      2.351      0.019       0.088       0.974\n",
       "ar.L1         -0.9107      0.038    -23.713      0.000      -0.986      -0.835\n",
       "ma.L1          0.0883      0.080      1.109      0.268      -0.068       0.244\n",
       "ma.L2         -0.9183      0.023    -40.382      0.000      -0.963      -0.874\n",
       "ma.L3         -0.0895      0.074     -1.211      0.226      -0.234       0.055\n",
       "sigma2         0.0043      0.000     35.301      0.000       0.004       0.005\n",
       "===================================================================================\n",
       "Ljung-Box (L1) (Q):                   0.20   Jarque-Bera (JB):              6573.46\n",
       "Prob(Q):                              0.66   Prob(JB):                         0.00\n",
       "Heteroskedasticity (H):               4.99   Skew:                             0.29\n",
       "Prob(H) (two-sided):                  0.00   Kurtosis:                        17.41\n",
       "===================================================================================\n",
       "\n",
       "Warnings:\n",
       "[1] Covariance matrix calculated using the outer product of gradients (complex-step).\n",
       "[2] Covariance matrix is singular or near-singular, with condition number 2.79e+18. Standard errors may be unstable.\n",
       "\"\"\""
      ]
     },
     "execution_count": 41,
     "metadata": {},
     "output_type": "execute_result"
    }
   ],
   "source": [
    "ar.summary()"
   ]
  },
  {
   "cell_type": "code",
   "execution_count": 42,
   "id": "561f7744",
   "metadata": {},
   "outputs": [
    {
     "name": "stderr",
     "output_type": "stream",
     "text": [
      "/Users/macbook/opt/anaconda3/envs/Deep/lib/python3.8/site-packages/statsmodels/tsa/base/tsa_model.py:471: ValueWarning: A date index has been provided, but it has no associated frequency information and so will be ignored when e.g. forecasting.\n",
      "  self._init_dates(dates, freq)\n",
      "/Users/macbook/opt/anaconda3/envs/Deep/lib/python3.8/site-packages/statsmodels/tsa/base/tsa_model.py:471: ValueWarning: A date index has been provided, but it has no associated frequency information and so will be ignored when e.g. forecasting.\n",
      "  self._init_dates(dates, freq)\n"
     ]
    }
   ],
   "source": [
    "from statsmodels.tsa.statespace.sarimax import SARIMAX\n",
    "model= SARIMAX(train_y, \n",
    "           exog=train_X,\n",
    "              order=(1,1,3),\n",
    "              enforce_invertibility=False, enforce_stationarity=False)"
   ]
  },
  {
   "cell_type": "code",
   "execution_count": 44,
   "id": "0fb6298a",
   "metadata": {},
   "outputs": [
    {
     "name": "stderr",
     "output_type": "stream",
     "text": [
      " This problem is unconstrained.\n"
     ]
    },
    {
     "name": "stdout",
     "output_type": "stream",
     "text": [
      "RUNNING THE L-BFGS-B CODE\n",
      "\n",
      "           * * *\n",
      "\n",
      "Machine precision = 2.220D-16\n",
      " N =           16     M =           10\n",
      "\n",
      "At X0         0 variables are exactly at the bounds\n",
      "\n",
      "At iterate    0    f= -1.20317D+00    |proj g|=  1.41697D-01\n",
      "\n",
      "At iterate    5    f= -1.20993D+00    |proj g|=  2.11189D-01\n",
      "\n",
      "At iterate   10    f= -1.22332D+00    |proj g|=  6.22541D-01\n",
      "\n",
      "At iterate   15    f= -1.23083D+00    |proj g|=  5.13770D-01\n",
      "\n",
      "At iterate   20    f= -1.23431D+00    |proj g|=  1.23775D-01\n",
      "\n",
      "At iterate   25    f= -1.24611D+00    |proj g|=  1.23034D+00\n",
      "\n",
      "At iterate   30    f= -1.24923D+00    |proj g|=  3.35794D-02\n",
      "\n",
      "At iterate   35    f= -1.25024D+00    |proj g|=  1.81501D-02\n",
      "\n",
      "At iterate   40    f= -1.25259D+00    |proj g|=  8.67287D-02\n",
      "\n",
      "At iterate   45    f= -1.25422D+00    |proj g|=  2.21093D-01\n",
      "\n",
      "At iterate   50    f= -1.25614D+00    |proj g|=  6.40653D-02\n",
      "\n",
      "           * * *\n",
      "\n",
      "Tit   = total number of iterations\n",
      "Tnf   = total number of function evaluations\n",
      "Tnint = total number of segments explored during Cauchy searches\n",
      "Skip  = number of BFGS updates skipped\n",
      "Nact  = number of active bounds at final generalized Cauchy point\n",
      "Projg = norm of the final projected gradient\n",
      "F     = final function value\n",
      "\n",
      "           * * *\n",
      "\n",
      "   N    Tit     Tnf  Tnint  Skip  Nact     Projg        F\n",
      "   16     50     59      1     0     0   6.407D-02  -1.256D+00\n",
      "  F =  -1.2561361831845526     \n",
      "\n",
      "STOP: TOTAL NO. of ITERATIONS REACHED LIMIT                 \n",
      "253\n"
     ]
    },
    {
     "name": "stderr",
     "output_type": "stream",
     "text": [
      "/Users/macbook/opt/anaconda3/envs/Deep/lib/python3.8/site-packages/statsmodels/base/model.py:604: ConvergenceWarning: Maximum Likelihood optimization failed to converge. Check mle_retvals\n",
      "  warnings.warn(\"Maximum Likelihood optimization failed to \"\n",
      "/Users/macbook/opt/anaconda3/envs/Deep/lib/python3.8/site-packages/statsmodels/tsa/base/tsa_model.py:834: ValueWarning: No supported index is available. Prediction results will be given with an integer index beginning at `start`.\n",
      "  return get_prediction_index(\n"
     ]
    }
   ],
   "source": [
    "results_val = model.fit()\n",
    "predictions_val= results_val.predict(start =train_size, end=train_size+val_size+(steps),exog=val_X)\n",
    "print(len(predictions_val))"
   ]
  },
  {
   "cell_type": "code",
   "execution_count": 47,
   "id": "2de27680",
   "metadata": {},
   "outputs": [
    {
     "name": "stderr",
     "output_type": "stream",
     "text": [
      "/Users/macbook/opt/anaconda3/envs/Deep/lib/python3.8/site-packages/statsmodels/tsa/base/tsa_model.py:834: ValueWarning: No supported index is available. Prediction results will be given with an integer index beginning at `start`.\n",
      "  return get_prediction_index(\n"
     ]
    }
   ],
   "source": [
    "forecast_val= results_val.forecast(steps=val_size, exog=val_X)"
   ]
  },
  {
   "cell_type": "code",
   "execution_count": 48,
   "id": "ffd0fc48",
   "metadata": {},
   "outputs": [],
   "source": [
    "act= pd.DataFrame(scaler_output.iloc[train_size:, 0])"
   ]
  },
  {
   "cell_type": "code",
   "execution_count": 49,
   "id": "82d8a4ce",
   "metadata": {},
   "outputs": [
    {
     "data": {
      "text/html": [
       "<div>\n",
       "<style scoped>\n",
       "    .dataframe tbody tr th:only-of-type {\n",
       "        vertical-align: middle;\n",
       "    }\n",
       "\n",
       "    .dataframe tbody tr th {\n",
       "        vertical-align: top;\n",
       "    }\n",
       "\n",
       "    .dataframe thead th {\n",
       "        text-align: right;\n",
       "    }\n",
       "</style>\n",
       "<table border=\"1\" class=\"dataframe\">\n",
       "  <thead>\n",
       "    <tr style=\"text-align: right;\">\n",
       "      <th></th>\n",
       "      <th>movement_next_day</th>\n",
       "    </tr>\n",
       "    <tr>\n",
       "      <th>date</th>\n",
       "      <th></th>\n",
       "    </tr>\n",
       "  </thead>\n",
       "  <tbody>\n",
       "    <tr>\n",
       "      <th>2020-09-22</th>\n",
       "      <td>0.472673</td>\n",
       "    </tr>\n",
       "    <tr>\n",
       "      <th>2020-09-23</th>\n",
       "      <td>0.468242</td>\n",
       "    </tr>\n",
       "    <tr>\n",
       "      <th>2020-09-24</th>\n",
       "      <td>0.462334</td>\n",
       "    </tr>\n",
       "    <tr>\n",
       "      <th>2020-09-25</th>\n",
       "      <td>0.340473</td>\n",
       "    </tr>\n",
       "    <tr>\n",
       "      <th>2020-09-28</th>\n",
       "      <td>0.350812</td>\n",
       "    </tr>\n",
       "  </tbody>\n",
       "</table>\n",
       "</div>"
      ],
      "text/plain": [
       "            movement_next_day\n",
       "date                         \n",
       "2020-09-22           0.472673\n",
       "2020-09-23           0.468242\n",
       "2020-09-24           0.462334\n",
       "2020-09-25           0.340473\n",
       "2020-09-28           0.350812"
      ]
     },
     "execution_count": 49,
     "metadata": {},
     "output_type": "execute_result"
    }
   ],
   "source": [
    "act.head()"
   ]
  },
  {
   "cell_type": "code",
   "execution_count": null,
   "id": "67b50489",
   "metadata": {},
   "outputs": [],
   "source": []
  },
  {
   "cell_type": "code",
   "execution_count": 52,
   "id": "41491676",
   "metadata": {},
   "outputs": [],
   "source": [
    "fc_val= pd.DataFrame(forecast_val)\n",
    "fc_val.reset_index(drop=True, inplace=True)\n",
    "fc_val.index=val_X.index\n",
    "fc_val['actual'] =scaler_output.iloc[val_size:, 0]\n",
    "fc_val.rename(columns={0:'forecast_val'}, inplace= True)"
   ]
  },
  {
   "cell_type": "code",
   "execution_count": 53,
   "id": "99da3d45",
   "metadata": {},
   "outputs": [
    {
     "data": {
      "text/html": [
       "<div>\n",
       "<style scoped>\n",
       "    .dataframe tbody tr th:only-of-type {\n",
       "        vertical-align: middle;\n",
       "    }\n",
       "\n",
       "    .dataframe tbody tr th {\n",
       "        vertical-align: top;\n",
       "    }\n",
       "\n",
       "    .dataframe thead th {\n",
       "        text-align: right;\n",
       "    }\n",
       "</style>\n",
       "<table border=\"1\" class=\"dataframe\">\n",
       "  <thead>\n",
       "    <tr style=\"text-align: right;\">\n",
       "      <th></th>\n",
       "      <th>predicted_mean</th>\n",
       "      <th>actual</th>\n",
       "    </tr>\n",
       "    <tr>\n",
       "      <th>date</th>\n",
       "      <th></th>\n",
       "      <th></th>\n",
       "    </tr>\n",
       "  </thead>\n",
       "  <tbody>\n",
       "    <tr>\n",
       "      <th>2017-09-21</th>\n",
       "      <td>0.846867</td>\n",
       "      <td>NaN</td>\n",
       "    </tr>\n",
       "    <tr>\n",
       "      <th>2017-09-22</th>\n",
       "      <td>0.828728</td>\n",
       "      <td>NaN</td>\n",
       "    </tr>\n",
       "    <tr>\n",
       "      <th>2017-09-25</th>\n",
       "      <td>0.862346</td>\n",
       "      <td>NaN</td>\n",
       "    </tr>\n",
       "    <tr>\n",
       "      <th>2017-09-26</th>\n",
       "      <td>0.854623</td>\n",
       "      <td>NaN</td>\n",
       "    </tr>\n",
       "    <tr>\n",
       "      <th>2017-09-27</th>\n",
       "      <td>0.845254</td>\n",
       "      <td>NaN</td>\n",
       "    </tr>\n",
       "  </tbody>\n",
       "</table>\n",
       "</div>"
      ],
      "text/plain": [
       "            predicted_mean  actual\n",
       "date                              \n",
       "2017-09-21        0.846867     NaN\n",
       "2017-09-22        0.828728     NaN\n",
       "2017-09-25        0.862346     NaN\n",
       "2017-09-26        0.854623     NaN\n",
       "2017-09-27        0.845254     NaN"
      ]
     },
     "execution_count": 53,
     "metadata": {},
     "output_type": "execute_result"
    }
   ],
   "source": [
    "fc_val.head()"
   ]
  },
  {
   "cell_type": "code",
   "execution_count": 171,
   "id": "d4ab535b",
   "metadata": {},
   "outputs": [],
   "source": [
    "fc_cba.columns = ['forecast', 'actual']"
   ]
  },
  {
   "cell_type": "code",
   "execution_count": 172,
   "id": "2362d279",
   "metadata": {},
   "outputs": [
    {
     "data": {
      "text/html": [
       "<div>\n",
       "<style scoped>\n",
       "    .dataframe tbody tr th:only-of-type {\n",
       "        vertical-align: middle;\n",
       "    }\n",
       "\n",
       "    .dataframe tbody tr th {\n",
       "        vertical-align: top;\n",
       "    }\n",
       "\n",
       "    .dataframe thead th {\n",
       "        text-align: right;\n",
       "    }\n",
       "</style>\n",
       "<table border=\"1\" class=\"dataframe\">\n",
       "  <thead>\n",
       "    <tr style=\"text-align: right;\">\n",
       "      <th></th>\n",
       "      <th>forecast</th>\n",
       "      <th>actual</th>\n",
       "    </tr>\n",
       "    <tr>\n",
       "      <th>date</th>\n",
       "      <th></th>\n",
       "      <th></th>\n",
       "    </tr>\n",
       "  </thead>\n",
       "  <tbody>\n",
       "    <tr>\n",
       "      <th>2021-09-21</th>\n",
       "      <td>0.821483</td>\n",
       "      <td>0.820089</td>\n",
       "    </tr>\n",
       "    <tr>\n",
       "      <th>2021-09-22</th>\n",
       "      <td>0.812877</td>\n",
       "      <td>0.832841</td>\n",
       "    </tr>\n",
       "    <tr>\n",
       "      <th>2021-09-23</th>\n",
       "      <td>0.830117</td>\n",
       "      <td>0.843837</td>\n",
       "    </tr>\n",
       "    <tr>\n",
       "      <th>2021-09-24</th>\n",
       "      <td>0.841829</td>\n",
       "      <td>0.884310</td>\n",
       "    </tr>\n",
       "    <tr>\n",
       "      <th>2021-09-27</th>\n",
       "      <td>0.892872</td>\n",
       "      <td>0.910922</td>\n",
       "    </tr>\n",
       "  </tbody>\n",
       "</table>\n",
       "</div>"
      ],
      "text/plain": [
       "            forecast    actual\n",
       "date                          \n",
       "2021-09-21  0.821483  0.820089\n",
       "2021-09-22  0.812877  0.832841\n",
       "2021-09-23  0.830117  0.843837\n",
       "2021-09-24  0.841829  0.884310\n",
       "2021-09-27  0.892872  0.910922"
      ]
     },
     "execution_count": 172,
     "metadata": {},
     "output_type": "execute_result"
    }
   ],
   "source": [
    "fc_cba.head()"
   ]
  },
  {
   "cell_type": "code",
   "execution_count": 173,
   "id": "8d054b0c",
   "metadata": {
    "scrolled": true
   },
   "outputs": [
    {
     "data": {
      "text/plain": [
       "<AxesSubplot:xlabel='date'>"
      ]
     },
     "execution_count": 173,
     "metadata": {},
     "output_type": "execute_result"
    },
    {
     "data": {
      "image/png": "[encoded data removed]",
      "text/plain": [
       "<Figure size 432x288 with 1 Axes>"
      ]
     },
     "metadata": {
      "needs_background": "light"
     },
     "output_type": "display_data"
    }
   ],
   "source": [
    "fc_cba['forecast'].plot(legend=True)\n",
    "fc_cba['actual'].plot(legend=True)"
   ]
  },
  {
   "cell_type": "code",
   "execution_count": 179,
   "id": "edd51144",
   "metadata": {},
   "outputs": [],
   "source": [
    "predictions=pd.DataFrame(predictions)\n",
    "predictions.reset_index(drop=True, inplace=True)\n",
    "predictions.index=test_X.index\n",
    "predictions['actual'] = act['price_next_day']\n",
    "predictions.columns = ['pred', 'actual']"
   ]
  },
  {
   "cell_type": "code",
   "execution_count": 180,
   "id": "a5bbe740",
   "metadata": {},
   "outputs": [
    {
     "data": {
      "text/html": [
       "<div>\n",
       "<style scoped>\n",
       "    .dataframe tbody tr th:only-of-type {\n",
       "        vertical-align: middle;\n",
       "    }\n",
       "\n",
       "    .dataframe tbody tr th {\n",
       "        vertical-align: top;\n",
       "    }\n",
       "\n",
       "    .dataframe thead th {\n",
       "        text-align: right;\n",
       "    }\n",
       "</style>\n",
       "<table border=\"1\" class=\"dataframe\">\n",
       "  <thead>\n",
       "    <tr style=\"text-align: right;\">\n",
       "      <th></th>\n",
       "      <th>pred</th>\n",
       "      <th>actual</th>\n",
       "    </tr>\n",
       "    <tr>\n",
       "      <th>date</th>\n",
       "      <th></th>\n",
       "      <th></th>\n",
       "    </tr>\n",
       "  </thead>\n",
       "  <tbody>\n",
       "    <tr>\n",
       "      <th>2021-09-21</th>\n",
       "      <td>0.821483</td>\n",
       "      <td>0.820089</td>\n",
       "    </tr>\n",
       "    <tr>\n",
       "      <th>2021-09-22</th>\n",
       "      <td>0.812877</td>\n",
       "      <td>0.832841</td>\n",
       "    </tr>\n",
       "    <tr>\n",
       "      <th>2021-09-23</th>\n",
       "      <td>0.830117</td>\n",
       "      <td>0.843837</td>\n",
       "    </tr>\n",
       "    <tr>\n",
       "      <th>2021-09-24</th>\n",
       "      <td>0.841829</td>\n",
       "      <td>0.884310</td>\n",
       "    </tr>\n",
       "    <tr>\n",
       "      <th>2021-09-27</th>\n",
       "      <td>0.892872</td>\n",
       "      <td>0.910922</td>\n",
       "    </tr>\n",
       "    <tr>\n",
       "      <th>...</th>\n",
       "      <td>...</td>\n",
       "      <td>...</td>\n",
       "    </tr>\n",
       "    <tr>\n",
       "      <th>2022-09-14</th>\n",
       "      <td>0.736800</td>\n",
       "      <td>0.727777</td>\n",
       "    </tr>\n",
       "    <tr>\n",
       "      <th>2022-09-15</th>\n",
       "      <td>0.744416</td>\n",
       "      <td>0.721539</td>\n",
       "    </tr>\n",
       "    <tr>\n",
       "      <th>2022-09-16</th>\n",
       "      <td>0.729488</td>\n",
       "      <td>0.721124</td>\n",
       "    </tr>\n",
       "    <tr>\n",
       "      <th>2022-09-19</th>\n",
       "      <td>0.742239</td>\n",
       "      <td>0.750508</td>\n",
       "    </tr>\n",
       "    <tr>\n",
       "      <th>2022-09-20</th>\n",
       "      <td>0.771345</td>\n",
       "      <td>0.746535</td>\n",
       "    </tr>\n",
       "  </tbody>\n",
       "</table>\n",
       "<p>253 rows × 2 columns</p>\n",
       "</div>"
      ],
      "text/plain": [
       "                pred    actual\n",
       "date                          \n",
       "2021-09-21  0.821483  0.820089\n",
       "2021-09-22  0.812877  0.832841\n",
       "2021-09-23  0.830117  0.843837\n",
       "2021-09-24  0.841829  0.884310\n",
       "2021-09-27  0.892872  0.910922\n",
       "...              ...       ...\n",
       "2022-09-14  0.736800  0.727777\n",
       "2022-09-15  0.744416  0.721539\n",
       "2022-09-16  0.729488  0.721124\n",
       "2022-09-19  0.742239  0.750508\n",
       "2022-09-20  0.771345  0.746535\n",
       "\n",
       "[253 rows x 2 columns]"
      ]
     },
     "execution_count": 180,
     "metadata": {},
     "output_type": "execute_result"
    }
   ],
   "source": [
    "predictions"
   ]
  },
  {
   "cell_type": "code",
   "execution_count": 181,
   "id": "d70f2044",
   "metadata": {},
   "outputs": [
    {
     "data": {
      "text/plain": [
       "0.022022996621278698"
      ]
     },
     "execution_count": 181,
     "metadata": {},
     "output_type": "execute_result"
    }
   ],
   "source": [
    "from statsmodels.tools.eval_measures import rmse\n",
    "error=rmse(predictions['pred'], predictions['actual'])\n",
    "error"
   ]
  },
  {
   "cell_type": "markdown",
   "id": "169d52bd",
   "metadata": {},
   "source": [
    "### Inverse Scalar"
   ]
  },
  {
   "cell_type": "code",
   "execution_count": 182,
   "id": "7e00e213",
   "metadata": {},
   "outputs": [
    {
     "data": {
      "text/html": [
       "<div>\n",
       "<style scoped>\n",
       "    .dataframe tbody tr th:only-of-type {\n",
       "        vertical-align: middle;\n",
       "    }\n",
       "\n",
       "    .dataframe tbody tr th {\n",
       "        vertical-align: top;\n",
       "    }\n",
       "\n",
       "    .dataframe thead th {\n",
       "        text-align: right;\n",
       "    }\n",
       "</style>\n",
       "<table border=\"1\" class=\"dataframe\">\n",
       "  <thead>\n",
       "    <tr style=\"text-align: right;\">\n",
       "      <th></th>\n",
       "      <th>low</th>\n",
       "      <th>high</th>\n",
       "      <th>open</th>\n",
       "      <th>close</th>\n",
       "      <th>volume</th>\n",
       "      <th>adj close</th>\n",
       "      <th>mean</th>\n",
       "      <th>dayofweek</th>\n",
       "      <th>quarter</th>\n",
       "      <th>month</th>\n",
       "      <th>year</th>\n",
       "    </tr>\n",
       "    <tr>\n",
       "      <th>date</th>\n",
       "      <th></th>\n",
       "      <th></th>\n",
       "      <th></th>\n",
       "      <th></th>\n",
       "      <th></th>\n",
       "      <th></th>\n",
       "      <th></th>\n",
       "      <th></th>\n",
       "      <th></th>\n",
       "      <th></th>\n",
       "      <th></th>\n",
       "    </tr>\n",
       "  </thead>\n",
       "  <tbody>\n",
       "    <tr>\n",
       "      <th>2017-09-21</th>\n",
       "      <td>0.402293</td>\n",
       "      <td>0.364382</td>\n",
       "      <td>0.370254</td>\n",
       "      <td>0.390371</td>\n",
       "      <td>0.225164</td>\n",
       "      <td>0.195181</td>\n",
       "      <td>0.383940</td>\n",
       "      <td>0.75</td>\n",
       "      <td>0.666667</td>\n",
       "      <td>0.727273</td>\n",
       "      <td>0.0</td>\n",
       "    </tr>\n",
       "    <tr>\n",
       "      <th>2017-09-22</th>\n",
       "      <td>0.407308</td>\n",
       "      <td>0.367437</td>\n",
       "      <td>0.373958</td>\n",
       "      <td>0.400215</td>\n",
       "      <td>0.109147</td>\n",
       "      <td>0.202937</td>\n",
       "      <td>0.388006</td>\n",
       "      <td>1.00</td>\n",
       "      <td>0.666667</td>\n",
       "      <td>0.727273</td>\n",
       "      <td>0.0</td>\n",
       "    </tr>\n",
       "    <tr>\n",
       "      <th>2017-09-25</th>\n",
       "      <td>0.399427</td>\n",
       "      <td>0.371636</td>\n",
       "      <td>0.389331</td>\n",
       "      <td>0.385717</td>\n",
       "      <td>0.099146</td>\n",
       "      <td>0.191515</td>\n",
       "      <td>0.385973</td>\n",
       "      <td>0.00</td>\n",
       "      <td>0.666667</td>\n",
       "      <td>0.727273</td>\n",
       "      <td>0.0</td>\n",
       "    </tr>\n",
       "    <tr>\n",
       "      <th>2017-09-26</th>\n",
       "      <td>0.387605</td>\n",
       "      <td>0.344722</td>\n",
       "      <td>0.366549</td>\n",
       "      <td>0.373009</td>\n",
       "      <td>0.132103</td>\n",
       "      <td>0.181502</td>\n",
       "      <td>0.366845</td>\n",
       "      <td>0.25</td>\n",
       "      <td>0.666667</td>\n",
       "      <td>0.727273</td>\n",
       "      <td>0.0</td>\n",
       "    </tr>\n",
       "    <tr>\n",
       "      <th>2017-09-27</th>\n",
       "      <td>0.379187</td>\n",
       "      <td>0.334988</td>\n",
       "      <td>0.353214</td>\n",
       "      <td>0.368534</td>\n",
       "      <td>0.140218</td>\n",
       "      <td>0.177976</td>\n",
       "      <td>0.357790</td>\n",
       "      <td>0.50</td>\n",
       "      <td>0.666667</td>\n",
       "      <td>0.727273</td>\n",
       "      <td>0.0</td>\n",
       "    </tr>\n",
       "  </tbody>\n",
       "</table>\n",
       "</div>"
      ],
      "text/plain": [
       "                 low      high      open     close    volume  adj close  \\\n",
       "date                                                                      \n",
       "2017-09-21  0.402293  0.364382  0.370254  0.390371  0.225164   0.195181   \n",
       "2017-09-22  0.407308  0.367437  0.373958  0.400215  0.109147   0.202937   \n",
       "2017-09-25  0.399427  0.371636  0.389331  0.385717  0.099146   0.191515   \n",
       "2017-09-26  0.387605  0.344722  0.366549  0.373009  0.132103   0.181502   \n",
       "2017-09-27  0.379187  0.334988  0.353214  0.368534  0.140218   0.177976   \n",
       "\n",
       "                mean  dayofweek   quarter     month  year  \n",
       "date                                                       \n",
       "2017-09-21  0.383940       0.75  0.666667  0.727273   0.0  \n",
       "2017-09-22  0.388006       1.00  0.666667  0.727273   0.0  \n",
       "2017-09-25  0.385973       0.00  0.666667  0.727273   0.0  \n",
       "2017-09-26  0.366845       0.25  0.666667  0.727273   0.0  \n",
       "2017-09-27  0.357790       0.50  0.666667  0.727273   0.0  "
      ]
     },
     "execution_count": 182,
     "metadata": {},
     "output_type": "execute_result"
    }
   ],
   "source": [
    "X.head()"
   ]
  },
  {
   "cell_type": "code",
   "execution_count": 183,
   "id": "3747f5a8",
   "metadata": {},
   "outputs": [],
   "source": [
    "# invert predictions, scale values back to real index/price range.\n",
    "test_predict = sc_out.inverse_transform(predictions[['pred']])\n",
    "test_actual = sc_out.inverse_transform(predictions[['actual']])"
   ]
  },
  {
   "cell_type": "code",
   "execution_count": 184,
   "id": "1c81db06",
   "metadata": {},
   "outputs": [],
   "source": [
    "act_1=pd.DataFrame(test_actual)"
   ]
  },
  {
   "cell_type": "code",
   "execution_count": null,
   "id": "1adf7950",
   "metadata": {},
   "outputs": [],
   "source": [
    "#act_pred=pd.DataFrame()\n",
    "act_pred= pd.DataFrame(testPredict)\n",
    "act_pred.reset_index(drop=True, inplace=True)\n",
    "act_pred.index=test_X.index\n",
    "act_pred['Actual'] = act['Stock Price next day']"
   ]
  },
  {
   "cell_type": "code",
   "execution_count": null,
   "id": "fd6a2c16",
   "metadata": {},
   "outputs": [],
   "source": []
  },
  {
   "cell_type": "code",
   "execution_count": null,
   "id": "6a4705b7",
   "metadata": {},
   "outputs": [],
   "source": []
  },
  {
   "cell_type": "code",
   "execution_count": null,
   "id": "a42e0ae4",
   "metadata": {},
   "outputs": [],
   "source": []
  },
  {
   "cell_type": "code",
   "execution_count": null,
   "id": "c9b2530c",
   "metadata": {},
   "outputs": [],
   "source": []
  },
  {
   "cell_type": "code",
   "execution_count": null,
   "id": "c26483c2",
   "metadata": {},
   "outputs": [],
   "source": []
  },
  {
   "cell_type": "code",
   "execution_count": null,
   "id": "bb043356",
   "metadata": {},
   "outputs": [],
   "source": []
  },
  {
   "cell_type": "code",
   "execution_count": null,
   "id": "1dbbfaa9",
   "metadata": {},
   "outputs": [],
   "source": []
  },
  {
   "cell_type": "code",
   "execution_count": null,
   "id": "6f152578",
   "metadata": {},
   "outputs": [],
   "source": []
  }
 ],
 "metadata": {
  "kernelspec": {
   "display_name": "Python 3 (ipykernel)",
   "language": "python",
   "name": "python3"
  },
  "language_info": {
   "codemirror_mode": {
    "name": "ipython",
    "version": 3
   },
   "file_extension": ".py",
   "mimetype": "text/x-python",
   "name": "python",
   "nbconvert_exporter": "python",
   "pygments_lexer": "ipython3",
   "version": "3.8.13"
  }
 },
 "nbformat": 4,
 "nbformat_minor": 5
}
