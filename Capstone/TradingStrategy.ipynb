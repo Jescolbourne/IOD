{
 "cells": [
  {
   "cell_type": "code",
   "execution_count": 1,
   "id": "985ebe0f",
   "metadata": {},
   "outputs": [],
   "source": [
    "import yfinance as yf\n",
    "import matplotlib.pyplot as plt\n",
    "import pandas as pd\n",
    "from datetime import datetime, timedelta"
   ]
  },
  {
   "cell_type": "code",
   "execution_count": 40,
   "id": "92d2cee7",
   "metadata": {},
   "outputs": [],
   "source": [
    "tickerSymbol = 'AZN'"
   ]
  },
  {
   "cell_type": "code",
   "execution_count": 41,
   "id": "b9de82b2",
   "metadata": {},
   "outputs": [],
   "source": [
    "tickerData = yf.Ticker(tickerSymbol)"
   ]
  },
  {
   "cell_type": "code",
   "execution_count": 42,
   "id": "3ad4526c",
   "metadata": {},
   "outputs": [],
   "source": [
    "#get the historical prices for this ticker\n",
    "tickerDf = tickerData.history(interval='1d', start='2019-1-1', end='2020-4-30')"
   ]
  },
  {
   "cell_type": "code",
   "execution_count": 43,
   "id": "4645ae86",
   "metadata": {},
   "outputs": [],
   "source": [
    "priceData = tickerDf.Open"
   ]
  },
  {
   "cell_type": "code",
   "execution_count": 44,
   "id": "4c681130",
   "metadata": {},
   "outputs": [],
   "source": [
    "priceData = priceData.asfreq(pd.infer_freq(priceData.index))"
   ]
  },
  {
   "cell_type": "code",
   "execution_count": 45,
   "id": "8b6fce4d",
   "metadata": {},
   "outputs": [
    {
     "data": {
      "text/plain": [
       "Date\n",
       "2019-01-02 00:00:00-05:00    33.734576\n",
       "2019-01-03 00:00:00-05:00    34.324837\n",
       "2019-01-04 00:00:00-05:00    34.718350\n",
       "2019-01-05 00:00:00-05:00          NaN\n",
       "2019-01-06 00:00:00-05:00          NaN\n",
       "                               ...    \n",
       "2020-04-25 00:00:00-04:00          NaN\n",
       "2020-04-26 00:00:00-04:00          NaN\n",
       "2020-04-27 00:00:00-04:00    48.675974\n",
       "2020-04-28 00:00:00-04:00    49.345612\n",
       "2020-04-29 00:00:00-04:00    49.062669\n",
       "Freq: D, Name: Open, Length: 484, dtype: float64"
      ]
     },
     "execution_count": 45,
     "metadata": {},
     "output_type": "execute_result"
    }
   ],
   "source": [
    "priceData"
   ]
  },
  {
   "cell_type": "code",
   "execution_count": 46,
   "id": "ef84da6c",
   "metadata": {},
   "outputs": [
    {
     "data": {
      "text/plain": [
       "Text(0.5, 1.0, 'AZN Price Data')"
      ]
     },
     "execution_count": 46,
     "metadata": {},
     "output_type": "execute_result"
    },
    {
     "data": {
      "image/png": "[encoded data removed]",
      "text/plain": [
       "<Figure size 720x288 with 1 Axes>"
      ]
     },
     "metadata": {
      "needs_background": "light"
     },
     "output_type": "display_data"
    }
   ],
   "source": [
    "plt.figure(figsize=(10,4))\n",
    "plt.plot(priceData)\n",
    "for year in range(priceData.index[0].year, priceData.index[-1].year+1):\n",
    "    plt.axvline(datetime(year,1,1), color='k', linestyle='--', alpha=0.2)\n",
    "plt.title(\"%s Price Data\"%tickerSymbol, fontsize=20)"
   ]
  },
  {
   "cell_type": "code",
   "execution_count": 47,
   "id": "ea55d109",
   "metadata": {},
   "outputs": [],
   "source": [
    "def get_buying_selling_days(price_data, b, s):\n",
    "    \n",
    "    pct_change = price_data.pct_change()[1:]\n",
    "    \n",
    "    def buying_condition(sub_series):\n",
    "        return (sub_series > 0).all()\n",
    "    \n",
    "    def selling_condition(sub_series):\n",
    "        return (sub_series < 0).all()\n",
    "    \n",
    "    buying_days = pct_change.rolling(b).apply(buying_condition)\n",
    "    \n",
    "    potential_selling_days = pct_change.rolling(s).apply(selling_condition)\n",
    "    \n",
    "    return {'buying_days': buying_days, 'potential_selling_days': potential_selling_days}"
   ]
  },
  {
   "cell_type": "code",
   "execution_count": 48,
   "id": "ff8cef1c",
   "metadata": {},
   "outputs": [],
   "source": [
    "info_dict = get_buying_selling_days(priceData, 2, 1)"
   ]
  },
  {
   "cell_type": "code",
   "execution_count": 49,
   "id": "83c3fba8",
   "metadata": {},
   "outputs": [],
   "source": [
    "buying_days = info_dict['buying_days']\n",
    "potential_selling_days = info_dict['potential_selling_days']"
   ]
  },
  {
   "cell_type": "code",
   "execution_count": 50,
   "id": "d3c1ebc6",
   "metadata": {},
   "outputs": [],
   "source": [
    "df_stocks = pd.DataFrame(index = buying_days.index)"
   ]
  },
  {
   "cell_type": "code",
   "execution_count": 51,
   "id": "dc60182e",
   "metadata": {},
   "outputs": [],
   "source": [
    "df_stocks['buying_day'] = (buying_days == 1)\n",
    "df_stocks['potential_selling_day'] = (potential_selling_days == 1)\n",
    "df_stocks['price'] = priceData\n",
    "df_stocks = df_stocks[(df_stocks.buying_day | df_stocks.potential_selling_day)]"
   ]
  },
  {
   "cell_type": "code",
   "execution_count": 52,
   "id": "fef2b72a",
   "metadata": {},
   "outputs": [
    {
     "data": {
      "text/html": [
       "<div>\n",
       "<style scoped>\n",
       "    .dataframe tbody tr th:only-of-type {\n",
       "        vertical-align: middle;\n",
       "    }\n",
       "\n",
       "    .dataframe tbody tr th {\n",
       "        vertical-align: top;\n",
       "    }\n",
       "\n",
       "    .dataframe thead th {\n",
       "        text-align: right;\n",
       "    }\n",
       "</style>\n",
       "<table border=\"1\" class=\"dataframe\">\n",
       "  <thead>\n",
       "    <tr style=\"text-align: right;\">\n",
       "      <th></th>\n",
       "      <th>buying_day</th>\n",
       "      <th>potential_selling_day</th>\n",
       "      <th>price</th>\n",
       "    </tr>\n",
       "    <tr>\n",
       "      <th>Date</th>\n",
       "      <th></th>\n",
       "      <th></th>\n",
       "      <th></th>\n",
       "    </tr>\n",
       "  </thead>\n",
       "  <tbody>\n",
       "    <tr>\n",
       "      <th>2019-01-04 00:00:00-05:00</th>\n",
       "      <td>True</td>\n",
       "      <td>False</td>\n",
       "      <td>34.718350</td>\n",
       "    </tr>\n",
       "    <tr>\n",
       "      <th>2019-01-08 00:00:00-05:00</th>\n",
       "      <td>False</td>\n",
       "      <td>True</td>\n",
       "      <td>34.324835</td>\n",
       "    </tr>\n",
       "    <tr>\n",
       "      <th>2019-01-09 00:00:00-05:00</th>\n",
       "      <td>False</td>\n",
       "      <td>True</td>\n",
       "      <td>34.119144</td>\n",
       "    </tr>\n",
       "    <tr>\n",
       "      <th>2019-01-10 00:00:00-05:00</th>\n",
       "      <td>False</td>\n",
       "      <td>True</td>\n",
       "      <td>34.020769</td>\n",
       "    </tr>\n",
       "    <tr>\n",
       "      <th>2019-01-11 00:00:00-05:00</th>\n",
       "      <td>False</td>\n",
       "      <td>True</td>\n",
       "      <td>33.689857</td>\n",
       "    </tr>\n",
       "    <tr>\n",
       "      <th>...</th>\n",
       "      <td>...</td>\n",
       "      <td>...</td>\n",
       "      <td>...</td>\n",
       "    </tr>\n",
       "    <tr>\n",
       "      <th>2020-04-20 00:00:00-04:00</th>\n",
       "      <td>False</td>\n",
       "      <td>True</td>\n",
       "      <td>46.987739</td>\n",
       "    </tr>\n",
       "    <tr>\n",
       "      <th>2020-04-22 00:00:00-04:00</th>\n",
       "      <td>True</td>\n",
       "      <td>False</td>\n",
       "      <td>47.761117</td>\n",
       "    </tr>\n",
       "    <tr>\n",
       "      <th>2020-04-23 00:00:00-04:00</th>\n",
       "      <td>False</td>\n",
       "      <td>True</td>\n",
       "      <td>47.431016</td>\n",
       "    </tr>\n",
       "    <tr>\n",
       "      <th>2020-04-28 00:00:00-04:00</th>\n",
       "      <td>True</td>\n",
       "      <td>False</td>\n",
       "      <td>49.345612</td>\n",
       "    </tr>\n",
       "    <tr>\n",
       "      <th>2020-04-29 00:00:00-04:00</th>\n",
       "      <td>False</td>\n",
       "      <td>True</td>\n",
       "      <td>49.062669</td>\n",
       "    </tr>\n",
       "  </tbody>\n",
       "</table>\n",
       "<p>231 rows × 3 columns</p>\n",
       "</div>"
      ],
      "text/plain": [
       "                           buying_day  potential_selling_day      price\n",
       "Date                                                                   \n",
       "2019-01-04 00:00:00-05:00        True                  False  34.718350\n",
       "2019-01-08 00:00:00-05:00       False                   True  34.324835\n",
       "2019-01-09 00:00:00-05:00       False                   True  34.119144\n",
       "2019-01-10 00:00:00-05:00       False                   True  34.020769\n",
       "2019-01-11 00:00:00-05:00       False                   True  33.689857\n",
       "...                               ...                    ...        ...\n",
       "2020-04-20 00:00:00-04:00       False                   True  46.987739\n",
       "2020-04-22 00:00:00-04:00        True                  False  47.761117\n",
       "2020-04-23 00:00:00-04:00       False                   True  47.431016\n",
       "2020-04-28 00:00:00-04:00        True                  False  49.345612\n",
       "2020-04-29 00:00:00-04:00       False                   True  49.062669\n",
       "\n",
       "[231 rows x 3 columns]"
      ]
     },
     "execution_count": 52,
     "metadata": {},
     "output_type": "execute_result"
    }
   ],
   "source": [
    "df_stocks"
   ]
  },
  {
   "cell_type": "code",
   "execution_count": 53,
   "id": "433de45f",
   "metadata": {},
   "outputs": [],
   "source": [
    "def check_cumulative_percent_change(price_data, buy_date, potential_sell_date):\n",
    "    \n",
    "    pct_change = price_data.pct_change()[1:]\n",
    "    \n",
    "    sub_series = 1 + pct_change[buy_date + timedelta(hours=1): potential_sell_date]\n",
    "    \n",
    "    return sub_series.product() > 1"
   ]
  },
  {
   "cell_type": "code",
   "execution_count": 54,
   "id": "717fa83d",
   "metadata": {},
   "outputs": [],
   "source": [
    "def get_investing_result(df_stocks, starting_funds, verbose=False):\n",
    "    \n",
    "    #get a copy of price data\n",
    "    price_data = df_stocks.price\n",
    "    \n",
    "    #at start, not holding any shares\n",
    "    holding = False\n",
    "    \n",
    "    #init vars\n",
    "    current_funds = starting_funds\n",
    "    current_shares = 0\n",
    "    last_buy_date = None\n",
    "    \n",
    "    #init dict of buying and selling dates\n",
    "    events_list = []\n",
    "    \n",
    "    #for each buying day and potential selling day...\n",
    "    for date,data in df_stocks.iterrows():\n",
    "        \n",
    "        #if not currently holding shares, and this is a buying day...\n",
    "        if (not holding) and data.buying_day:\n",
    "            \n",
    "            #calculate the number of shares we can buy\n",
    "            num_shares_to_buy = int(current_funds / data.price)\n",
    "            \n",
    "            #update number of shares\n",
    "            current_shares += num_shares_to_buy\n",
    "            \n",
    "            #decrease current funds\n",
    "            current_funds -= num_shares_to_buy * data.price\n",
    "            \n",
    "            #set last buy date\n",
    "            last_buy_date = date\n",
    "            events_list.append(('b', date))\n",
    "            \n",
    "            #we are now holding shares\n",
    "            holding = True\n",
    "            \n",
    "            if verbose:\n",
    "                print('Bought %s shares at $%s on %s totaling $%s'%(num_shares_to_buy, data.price, date.date(), round(num_shares_to_buy*data.price,2)))\n",
    "        \n",
    "        #if you are holding shares, and this is a potential selling day...\n",
    "        elif holding and data.potential_selling_day:\n",
    "            \n",
    "            #check to make sure we're making a profit\n",
    "            if check_cumulative_percent_change(price_data, last_buy_date, date):\n",
    "                #add to our current funds\n",
    "                current_funds += current_shares * data.price\n",
    "                \n",
    "                if verbose:\n",
    "                    print('Sold %s shares at $%s on %s totaling $%s'%(current_shares, data.price, date.date(), round(num_shares_to_buy*data.price,2)))\n",
    "                    print('--------------------------------------')\n",
    "                    \n",
    "                #reset current shares\n",
    "                current_shares = 0\n",
    "                \n",
    "                #we are no longer holding shares\n",
    "                holding = False\n",
    "                \n",
    "                events_list.append(('s', date))\n",
    "                \n",
    "    #get the stock price at the end of the time span\n",
    "    final_stock_price = price_data[-1]\n",
    "        \n",
    "    #get the final total value of all assets (funds + stock value)\n",
    "    final_value = current_funds + final_stock_price * current_shares\n",
    "    \n",
    "    #return the percent change in value\n",
    "    return round((final_value - starting_funds) / starting_funds,2), events_list"
   ]
  },
  {
   "cell_type": "code",
   "execution_count": 55,
   "id": "c80c9bb0",
   "metadata": {},
   "outputs": [
    {
     "name": "stdout",
     "output_type": "stream",
     "text": [
      "Bought 288 shares at $34.71835011100155 on 2019-01-04 totaling $9998.88\n",
      "Sold 288 shares at $35.74684821513682 on 2019-02-19 totaling $10295.09\n",
      "--------------------------------------\n",
      "Bought 284 shares at $36.14035402557369 on 2019-02-21 totaling $10263.86\n",
      "Sold 284 shares at $38.02093606902491 on 2019-03-05 totaling $10797.95\n",
      "--------------------------------------\n",
      "Bought 279 shares at $38.67961809939359 on 2019-03-14 totaling $10791.61\n",
      "Sold 279 shares at $39.255969781585044 on 2019-03-21 totaling $10952.42\n",
      "--------------------------------------\n",
      "Bought 279 shares at $39.35660215238211 on 2019-03-26 totaling $10980.49\n",
      "Sold 279 shares at $40.161667089654685 on 2019-07-30 totaling $11205.11\n",
      "--------------------------------------\n",
      "Bought 276 shares at $40.61908787413167 on 2019-08-02 totaling $11210.87\n",
      "Sold 276 shares at $41.40005723599082 on 2019-08-12 totaling $11426.42\n",
      "--------------------------------------\n",
      "Bought 275 shares at $41.492489145692645 on 2019-08-20 totaling $11410.43\n",
      "Sold 275 shares at $41.852973045039974 on 2019-08-23 totaling $11509.57\n",
      "--------------------------------------\n",
      "Bought 274 shares at $41.98237535526809 on 2019-09-04 totaling $11503.17\n",
      "Sold 274 shares at $42.04707889762212 on 2019-09-27 totaling $11520.9\n",
      "--------------------------------------\n",
      "Bought 288 shares at $40.078289007932284 on 2019-10-04 totaling $11542.55\n",
      "Sold 288 shares at $40.43877248975917 on 2019-10-15 totaling $11646.37\n",
      "--------------------------------------\n",
      "Bought 284 shares at $40.96563089902973 on 2019-10-17 totaling $11634.24\n",
      "Sold 284 shares at $43.83100856264396 on 2019-10-29 totaling $12448.01\n",
      "--------------------------------------\n",
      "Bought 283 shares at $43.97889960871448 on 2019-11-13 totaling $12446.03\n",
      "Sold 283 shares at $45.04185939207285 on 2019-11-26 totaling $12746.85\n",
      "--------------------------------------\n",
      "Bought 287 shares at $44.43181149969679 on 2019-12-05 totaling $12751.93\n",
      "Sold 287 shares at $45.33763811020829 on 2019-12-17 totaling $13011.9\n",
      "--------------------------------------\n",
      "Bought 278 shares at $46.71486942061366 on 2019-12-20 totaling $12986.73\n",
      "Sold 278 shares at $46.98773862593608 on 2020-04-20 totaling $13062.59\n",
      "--------------------------------------\n",
      "Bought 274 shares at $47.7611168367278 on 2020-04-22 totaling $13086.55\n",
      "Sold 274 shares at $49.062668973364275 on 2020-04-29 totaling $13443.17\n",
      "--------------------------------------\n"
     ]
    }
   ],
   "source": [
    "percent_change, events_list = get_investing_result(df_stocks, 10000, True)"
   ]
  },
  {
   "cell_type": "code",
   "execution_count": 56,
   "id": "7cc14f37",
   "metadata": {},
   "outputs": [
    {
     "name": "stdout",
     "output_type": "stream",
     "text": [
      "0.35\n"
     ]
    }
   ],
   "source": [
    "print(percent_change)"
   ]
  },
  {
   "cell_type": "code",
   "execution_count": 57,
   "id": "571b208e",
   "metadata": {},
   "outputs": [
    {
     "data": {
      "text/plain": [
       "(30.0, 51.0)"
      ]
     },
     "execution_count": 57,
     "metadata": {},
     "output_type": "execute_result"
    },
    {
     "data": {
      "image/png": "[encoded data removed]",
      "text/plain": [
       "<Figure size 720x288 with 1 Axes>"
      ]
     },
     "metadata": {
      "needs_background": "light"
     },
     "output_type": "display_data"
    }
   ],
   "source": [
    "plt.figure(figsize=(10,4))\n",
    "plt.plot(priceData)\n",
    "\n",
    "y_lims = (int(priceData.min()*.95), int(priceData.max()*1.05))\n",
    "shaded_y_lims = int(priceData.min()*.5), int(priceData.max()*1.5)\n",
    "\n",
    "for idx, event in enumerate(events_list):\n",
    "    color = 'red' if event[0] == 'b' else 'blue'\n",
    "    plt.axvline(event[1], color=color, linestyle='--', alpha=0.4)\n",
    "    if event[0] == 's':\n",
    "        plt.fill_betweenx(range(*shaded_y_lims), \n",
    "                          event[1], events_list[idx-1][1], color='k', alpha=0.1)\n",
    "\n",
    "plt.title(\"%s Price Data\"%tickerSymbol, fontsize=20)\n",
    "plt.ylim(*y_lims)"
   ]
  },
  {
   "cell_type": "code",
   "execution_count": null,
   "id": "279ef112",
   "metadata": {},
   "outputs": [],
   "source": []
  },
  {
   "cell_type": "code",
   "execution_count": null,
   "id": "3b9a87ce",
   "metadata": {},
   "outputs": [],
   "source": []
  },
  {
   "cell_type": "code",
   "execution_count": null,
   "id": "1c28550a",
   "metadata": {},
   "outputs": [],
   "source": []
  },
  {
   "cell_type": "code",
   "execution_count": null,
   "id": "567a778a",
   "metadata": {},
   "outputs": [],
   "source": []
  },
  {
   "cell_type": "code",
   "execution_count": null,
   "id": "967c353d",
   "metadata": {},
   "outputs": [],
   "source": []
  },
  {
   "cell_type": "code",
   "execution_count": null,
   "id": "7799f240",
   "metadata": {},
   "outputs": [],
   "source": []
  },
  {
   "cell_type": "code",
   "execution_count": null,
   "id": "9db9a685",
   "metadata": {},
   "outputs": [],
   "source": []
  }
 ],
 "metadata": {
  "kernelspec": {
   "display_name": "Python 3 (ipykernel)",
   "language": "python",
   "name": "python3"
  },
  "language_info": {
   "codemirror_mode": {
    "name": "ipython",
    "version": 3
   },
   "file_extension": ".py",
   "mimetype": "text/x-python",
   "name": "python",
   "nbconvert_exporter": "python",
   "pygments_lexer": "ipython3",
   "version": "3.8.13"
  }
 },
 "nbformat": 4,
 "nbformat_minor": 5
}
