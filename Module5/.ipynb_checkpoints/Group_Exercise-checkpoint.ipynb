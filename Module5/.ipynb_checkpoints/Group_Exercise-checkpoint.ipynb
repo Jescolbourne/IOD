{
 "cells": [
  {
   "cell_type": "code",
   "execution_count": 1,
   "id": "689eb7eb",
   "metadata": {},
   "outputs": [],
   "source": [
    "import numpy as np\n",
    "import pandas as pd\n",
    "import math\n",
    "from scipy import stats\n",
    "import seaborn as sns\n",
    "from matplotlib import pyplot as plt\n",
    "import matplotlib.pylab as pylab\n",
    "from sklearn.neural_network import MLPClassifier\n",
    "from sklearn.model_selection import train_test_split\n",
    "from sklearn.linear_model import LogisticRegression\n",
    "from sklearn import metrics\n",
    "\n",
    "%matplotlib inline"
   ]
  },
  {
   "cell_type": "code",
   "execution_count": 2,
   "id": "53a3631f",
   "metadata": {},
   "outputs": [
    {
     "name": "stdout",
     "output_type": "stream",
     "text": [
      "<class 'pandas.core.frame.DataFrame'>\n",
      "RangeIndex: 112457 entries, 0 to 112456\n",
      "Data columns (total 8 columns):\n",
      " #   Column     Non-Null Count   Dtype  \n",
      "---  ------     --------------   -----  \n",
      " 0   Index      112457 non-null  object \n",
      " 1   Date       112457 non-null  object \n",
      " 2   Open       110253 non-null  float64\n",
      " 3   High       110253 non-null  float64\n",
      " 4   Low        110253 non-null  float64\n",
      " 5   Close      110253 non-null  float64\n",
      " 6   Adj Close  110253 non-null  float64\n",
      " 7   Volume     110253 non-null  float64\n",
      "dtypes: float64(6), object(2)\n",
      "memory usage: 6.9+ MB\n"
     ]
    }
   ],
   "source": [
    "d = pd.read_csv('indexData.csv')\n",
    "d.info()"
   ]
  },
  {
   "cell_type": "code",
   "execution_count": 5,
   "id": "40fdcb10",
   "metadata": {
    "scrolled": true
   },
   "outputs": [
    {
     "data": {
      "text/html": [
       "<div>\n",
       "<style scoped>\n",
       "    .dataframe tbody tr th:only-of-type {\n",
       "        vertical-align: middle;\n",
       "    }\n",
       "\n",
       "    .dataframe tbody tr th {\n",
       "        vertical-align: top;\n",
       "    }\n",
       "\n",
       "    .dataframe thead th {\n",
       "        text-align: right;\n",
       "    }\n",
       "</style>\n",
       "<table border=\"1\" class=\"dataframe\">\n",
       "  <thead>\n",
       "    <tr style=\"text-align: right;\">\n",
       "      <th></th>\n",
       "      <th>Index</th>\n",
       "      <th>Date</th>\n",
       "      <th>Open</th>\n",
       "      <th>High</th>\n",
       "      <th>Low</th>\n",
       "      <th>Close</th>\n",
       "      <th>Adj Close</th>\n",
       "      <th>Volume</th>\n",
       "    </tr>\n",
       "  </thead>\n",
       "  <tbody>\n",
       "    <tr>\n",
       "      <th>0</th>\n",
       "      <td>NYA</td>\n",
       "      <td>1965-12-31</td>\n",
       "      <td>528.690002</td>\n",
       "      <td>528.690002</td>\n",
       "      <td>528.690002</td>\n",
       "      <td>528.690002</td>\n",
       "      <td>528.690002</td>\n",
       "      <td>0.0</td>\n",
       "    </tr>\n",
       "    <tr>\n",
       "      <th>1</th>\n",
       "      <td>NYA</td>\n",
       "      <td>1966-01-03</td>\n",
       "      <td>527.210022</td>\n",
       "      <td>527.210022</td>\n",
       "      <td>527.210022</td>\n",
       "      <td>527.210022</td>\n",
       "      <td>527.210022</td>\n",
       "      <td>0.0</td>\n",
       "    </tr>\n",
       "    <tr>\n",
       "      <th>2</th>\n",
       "      <td>NYA</td>\n",
       "      <td>1966-01-04</td>\n",
       "      <td>527.840027</td>\n",
       "      <td>527.840027</td>\n",
       "      <td>527.840027</td>\n",
       "      <td>527.840027</td>\n",
       "      <td>527.840027</td>\n",
       "      <td>0.0</td>\n",
       "    </tr>\n",
       "    <tr>\n",
       "      <th>3</th>\n",
       "      <td>NYA</td>\n",
       "      <td>1966-01-05</td>\n",
       "      <td>531.119995</td>\n",
       "      <td>531.119995</td>\n",
       "      <td>531.119995</td>\n",
       "      <td>531.119995</td>\n",
       "      <td>531.119995</td>\n",
       "      <td>0.0</td>\n",
       "    </tr>\n",
       "    <tr>\n",
       "      <th>4</th>\n",
       "      <td>NYA</td>\n",
       "      <td>1966-01-06</td>\n",
       "      <td>532.070007</td>\n",
       "      <td>532.070007</td>\n",
       "      <td>532.070007</td>\n",
       "      <td>532.070007</td>\n",
       "      <td>532.070007</td>\n",
       "      <td>0.0</td>\n",
       "    </tr>\n",
       "  </tbody>\n",
       "</table>\n",
       "</div>"
      ],
      "text/plain": [
       "  Index        Date        Open        High         Low       Close  \\\n",
       "0   NYA  1965-12-31  528.690002  528.690002  528.690002  528.690002   \n",
       "1   NYA  1966-01-03  527.210022  527.210022  527.210022  527.210022   \n",
       "2   NYA  1966-01-04  527.840027  527.840027  527.840027  527.840027   \n",
       "3   NYA  1966-01-05  531.119995  531.119995  531.119995  531.119995   \n",
       "4   NYA  1966-01-06  532.070007  532.070007  532.070007  532.070007   \n",
       "\n",
       "    Adj Close  Volume  \n",
       "0  528.690002     0.0  \n",
       "1  527.210022     0.0  \n",
       "2  527.840027     0.0  \n",
       "3  531.119995     0.0  \n",
       "4  532.070007     0.0  "
      ]
     },
     "execution_count": 5,
     "metadata": {},
     "output_type": "execute_result"
    }
   ],
   "source": [
    "d.head()"
   ]
  },
  {
   "cell_type": "code",
   "execution_count": 7,
   "id": "935b80f4",
   "metadata": {},
   "outputs": [
    {
     "data": {
      "text/plain": [
       "N225         14500\n",
       "NYA          13948\n",
       "IXIC         12690\n",
       "GSPTSE       10776\n",
       "HSI           8750\n",
       "GDAXI         8606\n",
       "SSMI          7830\n",
       "KS11          6181\n",
       "TWII          6010\n",
       "000001.SS     5963\n",
       "399001.SZ     5928\n",
       "N100          5507\n",
       "NSEI          3381\n",
       "J203.JO       2387\n",
       "Name: Index, dtype: int64"
      ]
     },
     "execution_count": 7,
     "metadata": {},
     "output_type": "execute_result"
    }
   ],
   "source": [
    "d.Index.value_counts()"
   ]
  },
  {
   "cell_type": "code",
   "execution_count": 3,
   "id": "a18cefbe",
   "metadata": {},
   "outputs": [
    {
     "name": "stdout",
     "output_type": "stream",
     "text": [
      "<class 'pandas.core.frame.DataFrame'>\n",
      "RangeIndex: 14 entries, 0 to 13\n",
      "Data columns (total 4 columns):\n",
      " #   Column    Non-Null Count  Dtype \n",
      "---  ------    --------------  ----- \n",
      " 0   Region    14 non-null     object\n",
      " 1   Exchange  14 non-null     object\n",
      " 2   Index     14 non-null     object\n",
      " 3   Currency  14 non-null     object\n",
      "dtypes: object(4)\n",
      "memory usage: 576.0+ bytes\n"
     ]
    }
   ],
   "source": [
    "i = pd.read_csv('indexInfo.csv')\n",
    "i.info()"
   ]
  },
  {
   "cell_type": "code",
   "execution_count": 4,
   "id": "acdae46f",
   "metadata": {},
   "outputs": [
    {
     "data": {
      "text/html": [
       "<div>\n",
       "<style scoped>\n",
       "    .dataframe tbody tr th:only-of-type {\n",
       "        vertical-align: middle;\n",
       "    }\n",
       "\n",
       "    .dataframe tbody tr th {\n",
       "        vertical-align: top;\n",
       "    }\n",
       "\n",
       "    .dataframe thead th {\n",
       "        text-align: right;\n",
       "    }\n",
       "</style>\n",
       "<table border=\"1\" class=\"dataframe\">\n",
       "  <thead>\n",
       "    <tr style=\"text-align: right;\">\n",
       "      <th></th>\n",
       "      <th>Region</th>\n",
       "      <th>Exchange</th>\n",
       "      <th>Index</th>\n",
       "      <th>Currency</th>\n",
       "    </tr>\n",
       "  </thead>\n",
       "  <tbody>\n",
       "    <tr>\n",
       "      <th>0</th>\n",
       "      <td>United States</td>\n",
       "      <td>New York Stock Exchange</td>\n",
       "      <td>NYA</td>\n",
       "      <td>USD</td>\n",
       "    </tr>\n",
       "    <tr>\n",
       "      <th>1</th>\n",
       "      <td>United States</td>\n",
       "      <td>NASDAQ</td>\n",
       "      <td>IXIC</td>\n",
       "      <td>USD</td>\n",
       "    </tr>\n",
       "    <tr>\n",
       "      <th>2</th>\n",
       "      <td>Hong Kong</td>\n",
       "      <td>Hong Kong Stock Exchange</td>\n",
       "      <td>HSI</td>\n",
       "      <td>HKD</td>\n",
       "    </tr>\n",
       "    <tr>\n",
       "      <th>3</th>\n",
       "      <td>China</td>\n",
       "      <td>Shanghai Stock Exchange</td>\n",
       "      <td>000001.SS</td>\n",
       "      <td>CNY</td>\n",
       "    </tr>\n",
       "    <tr>\n",
       "      <th>4</th>\n",
       "      <td>Japan</td>\n",
       "      <td>Tokyo Stock Exchange</td>\n",
       "      <td>N225</td>\n",
       "      <td>JPY</td>\n",
       "    </tr>\n",
       "  </tbody>\n",
       "</table>\n",
       "</div>"
      ],
      "text/plain": [
       "          Region                  Exchange      Index Currency\n",
       "0  United States   New York Stock Exchange        NYA      USD\n",
       "1  United States                    NASDAQ       IXIC      USD\n",
       "2      Hong Kong  Hong Kong Stock Exchange        HSI      HKD\n",
       "3          China   Shanghai Stock Exchange  000001.SS      CNY\n",
       "4          Japan      Tokyo Stock Exchange       N225      JPY"
      ]
     },
     "execution_count": 4,
     "metadata": {},
     "output_type": "execute_result"
    }
   ],
   "source": [
    "i.head()"
   ]
  },
  {
   "cell_type": "code",
   "execution_count": 8,
   "id": "b008f3d4",
   "metadata": {},
   "outputs": [
    {
     "data": {
      "text/html": [
       "<div>\n",
       "<style scoped>\n",
       "    .dataframe tbody tr th:only-of-type {\n",
       "        vertical-align: middle;\n",
       "    }\n",
       "\n",
       "    .dataframe tbody tr th {\n",
       "        vertical-align: top;\n",
       "    }\n",
       "\n",
       "    .dataframe thead th {\n",
       "        text-align: right;\n",
       "    }\n",
       "</style>\n",
       "<table border=\"1\" class=\"dataframe\">\n",
       "  <thead>\n",
       "    <tr style=\"text-align: right;\">\n",
       "      <th></th>\n",
       "      <th>Index</th>\n",
       "      <th>Date</th>\n",
       "      <th>Open</th>\n",
       "      <th>High</th>\n",
       "      <th>Low</th>\n",
       "      <th>Close</th>\n",
       "      <th>Adj Close</th>\n",
       "      <th>Volume</th>\n",
       "      <th>CloseUSD</th>\n",
       "    </tr>\n",
       "  </thead>\n",
       "  <tbody>\n",
       "    <tr>\n",
       "      <th>0</th>\n",
       "      <td>HSI</td>\n",
       "      <td>1986-12-31</td>\n",
       "      <td>2568.300049</td>\n",
       "      <td>2568.300049</td>\n",
       "      <td>2568.300049</td>\n",
       "      <td>2568.300049</td>\n",
       "      <td>2568.300049</td>\n",
       "      <td>0.0</td>\n",
       "      <td>333.879006</td>\n",
       "    </tr>\n",
       "    <tr>\n",
       "      <th>1</th>\n",
       "      <td>HSI</td>\n",
       "      <td>1987-01-02</td>\n",
       "      <td>2540.100098</td>\n",
       "      <td>2540.100098</td>\n",
       "      <td>2540.100098</td>\n",
       "      <td>2540.100098</td>\n",
       "      <td>2540.100098</td>\n",
       "      <td>0.0</td>\n",
       "      <td>330.213013</td>\n",
       "    </tr>\n",
       "    <tr>\n",
       "      <th>2</th>\n",
       "      <td>HSI</td>\n",
       "      <td>1987-01-05</td>\n",
       "      <td>2552.399902</td>\n",
       "      <td>2552.399902</td>\n",
       "      <td>2552.399902</td>\n",
       "      <td>2552.399902</td>\n",
       "      <td>2552.399902</td>\n",
       "      <td>0.0</td>\n",
       "      <td>331.811987</td>\n",
       "    </tr>\n",
       "    <tr>\n",
       "      <th>3</th>\n",
       "      <td>HSI</td>\n",
       "      <td>1987-01-06</td>\n",
       "      <td>2583.899902</td>\n",
       "      <td>2583.899902</td>\n",
       "      <td>2583.899902</td>\n",
       "      <td>2583.899902</td>\n",
       "      <td>2583.899902</td>\n",
       "      <td>0.0</td>\n",
       "      <td>335.906987</td>\n",
       "    </tr>\n",
       "    <tr>\n",
       "      <th>4</th>\n",
       "      <td>HSI</td>\n",
       "      <td>1987-01-07</td>\n",
       "      <td>2607.100098</td>\n",
       "      <td>2607.100098</td>\n",
       "      <td>2607.100098</td>\n",
       "      <td>2607.100098</td>\n",
       "      <td>2607.100098</td>\n",
       "      <td>0.0</td>\n",
       "      <td>338.923013</td>\n",
       "    </tr>\n",
       "  </tbody>\n",
       "</table>\n",
       "</div>"
      ],
      "text/plain": [
       "  Index        Date         Open         High          Low        Close  \\\n",
       "0   HSI  1986-12-31  2568.300049  2568.300049  2568.300049  2568.300049   \n",
       "1   HSI  1987-01-02  2540.100098  2540.100098  2540.100098  2540.100098   \n",
       "2   HSI  1987-01-05  2552.399902  2552.399902  2552.399902  2552.399902   \n",
       "3   HSI  1987-01-06  2583.899902  2583.899902  2583.899902  2583.899902   \n",
       "4   HSI  1987-01-07  2607.100098  2607.100098  2607.100098  2607.100098   \n",
       "\n",
       "     Adj Close  Volume    CloseUSD  \n",
       "0  2568.300049     0.0  333.879006  \n",
       "1  2540.100098     0.0  330.213013  \n",
       "2  2552.399902     0.0  331.811987  \n",
       "3  2583.899902     0.0  335.906987  \n",
       "4  2607.100098     0.0  338.923013  "
      ]
     },
     "execution_count": 8,
     "metadata": {},
     "output_type": "execute_result"
    }
   ],
   "source": [
    "p = pd.read_csv('indexProcessed.csv')\n",
    "p.head()"
   ]
  },
  {
   "cell_type": "code",
   "execution_count": 9,
   "id": "4266cb22",
   "metadata": {},
   "outputs": [
    {
     "data": {
      "text/plain": [
       "NYA          13947\n",
       "N225         13874\n",
       "IXIC         12690\n",
       "GSPTSE       10526\n",
       "HSI           8492\n",
       "GDAXI         8438\n",
       "SSMI          7671\n",
       "TWII          5869\n",
       "000001.SS     5791\n",
       "399001.SZ     5760\n",
       "N100          5474\n",
       "NSEI          3346\n",
       "J203.JO       2346\n",
       "Name: Index, dtype: int64"
      ]
     },
     "execution_count": 9,
     "metadata": {},
     "output_type": "execute_result"
    }
   ],
   "source": [
    "p.Index.value_counts()"
   ]
  },
  {
   "cell_type": "code",
   "execution_count": 10,
   "id": "7ccaa50b",
   "metadata": {},
   "outputs": [
    {
     "data": {
      "text/plain": [
       "(104224, 9)"
      ]
     },
     "execution_count": 10,
     "metadata": {},
     "output_type": "execute_result"
    }
   ],
   "source": [
    "p.shape"
   ]
  },
  {
   "cell_type": "code",
   "execution_count": null,
   "id": "8df95da3",
   "metadata": {},
   "outputs": [],
   "source": []
  },
  {
   "cell_type": "code",
   "execution_count": null,
   "id": "8206a8be",
   "metadata": {},
   "outputs": [],
   "source": []
  },
  {
   "cell_type": "code",
   "execution_count": null,
   "id": "dab0ff49",
   "metadata": {},
   "outputs": [],
   "source": []
  },
  {
   "cell_type": "code",
   "execution_count": null,
   "id": "70a57a2a",
   "metadata": {},
   "outputs": [],
   "source": []
  }
 ],
 "metadata": {
  "kernelspec": {
   "display_name": "Python 3 (ipykernel)",
   "language": "python",
   "name": "python3"
  },
  "language_info": {
   "codemirror_mode": {
    "name": "ipython",
    "version": 3
   },
   "file_extension": ".py",
   "mimetype": "text/x-python",
   "name": "python",
   "nbconvert_exporter": "python",
   "pygments_lexer": "ipython3",
   "version": "3.8.13"
  }
 },
 "nbformat": 4,
 "nbformat_minor": 5
}
