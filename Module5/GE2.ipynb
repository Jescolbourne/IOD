{
 "cells": [
  {
   "cell_type": "code",
   "execution_count": 38,
   "id": "74d7e110",
   "metadata": {},
   "outputs": [],
   "source": [
    "import numpy as np\n",
    "import pandas as pd\n",
    "import math\n",
    "from scipy import stats\n",
    "import seaborn as sns\n",
    "from matplotlib import pyplot as plt\n",
    "import matplotlib.pylab as pylab\n",
    "\n",
    "plt.style.use('fivethirtyeight')\n",
    "\n",
    "from ipywidgets import *\n",
    "from IPython.display import display\n",
    "\n",
    "from sklearn.svm import SVC\n",
    "from sklearn.preprocessing import StandardScaler\n",
    "\n",
    "from sklearn.neural_network import MLPClassifier\n",
    "from sklearn.naive_bayes import GaussianNB\n",
    "from sklearn.linear_model import LogisticRegression\n",
    "from sklearn import metrics\n",
    "\n",
    "from sklearn.model_selection import train_test_split\n",
    "from sklearn.model_selection import cross_val_score\n",
    "from sklearn.model_selection import RandomizedSearchCV\n",
    "from sklearn.model_selection import GridSearchCV\n",
    "\n",
    "from sklearn.metrics import roc_curve, auc\n",
    "from sklearn.metrics import accuracy_score, confusion_matrix\n",
    "from sklearn.metrics import classification_report\n",
    "from warnings import filterwarnings\n",
    "filterwarnings(\"ignore\")\n",
    "\n",
    "%matplotlib inline\n",
    "%config InlineBackend.figure_format = 'retina'"
   ]
  },
  {
   "cell_type": "code",
   "execution_count": 2,
   "id": "1ba16de3",
   "metadata": {},
   "outputs": [
    {
     "data": {
      "text/html": [
       "<div>\n",
       "<style scoped>\n",
       "    .dataframe tbody tr th:only-of-type {\n",
       "        vertical-align: middle;\n",
       "    }\n",
       "\n",
       "    .dataframe tbody tr th {\n",
       "        vertical-align: top;\n",
       "    }\n",
       "\n",
       "    .dataframe thead th {\n",
       "        text-align: right;\n",
       "    }\n",
       "</style>\n",
       "<table border=\"1\" class=\"dataframe\">\n",
       "  <thead>\n",
       "    <tr style=\"text-align: right;\">\n",
       "      <th></th>\n",
       "      <th>ID</th>\n",
       "      <th>Age</th>\n",
       "      <th>Experience</th>\n",
       "      <th>Income</th>\n",
       "      <th>ZIP Code</th>\n",
       "      <th>Family</th>\n",
       "      <th>CCAvg</th>\n",
       "      <th>Education</th>\n",
       "      <th>Mortgage</th>\n",
       "      <th>Personal Loan</th>\n",
       "      <th>Securities Account</th>\n",
       "      <th>CD Account</th>\n",
       "      <th>Online</th>\n",
       "      <th>CreditCard</th>\n",
       "    </tr>\n",
       "  </thead>\n",
       "  <tbody>\n",
       "    <tr>\n",
       "      <th>0</th>\n",
       "      <td>1</td>\n",
       "      <td>25</td>\n",
       "      <td>1</td>\n",
       "      <td>49</td>\n",
       "      <td>91107</td>\n",
       "      <td>4</td>\n",
       "      <td>1.6</td>\n",
       "      <td>1</td>\n",
       "      <td>0</td>\n",
       "      <td>0</td>\n",
       "      <td>1</td>\n",
       "      <td>0</td>\n",
       "      <td>0</td>\n",
       "      <td>0</td>\n",
       "    </tr>\n",
       "    <tr>\n",
       "      <th>1</th>\n",
       "      <td>2</td>\n",
       "      <td>45</td>\n",
       "      <td>19</td>\n",
       "      <td>34</td>\n",
       "      <td>90089</td>\n",
       "      <td>3</td>\n",
       "      <td>1.5</td>\n",
       "      <td>1</td>\n",
       "      <td>0</td>\n",
       "      <td>0</td>\n",
       "      <td>1</td>\n",
       "      <td>0</td>\n",
       "      <td>0</td>\n",
       "      <td>0</td>\n",
       "    </tr>\n",
       "    <tr>\n",
       "      <th>2</th>\n",
       "      <td>3</td>\n",
       "      <td>39</td>\n",
       "      <td>15</td>\n",
       "      <td>11</td>\n",
       "      <td>94720</td>\n",
       "      <td>1</td>\n",
       "      <td>1.0</td>\n",
       "      <td>1</td>\n",
       "      <td>0</td>\n",
       "      <td>0</td>\n",
       "      <td>0</td>\n",
       "      <td>0</td>\n",
       "      <td>0</td>\n",
       "      <td>0</td>\n",
       "    </tr>\n",
       "    <tr>\n",
       "      <th>3</th>\n",
       "      <td>4</td>\n",
       "      <td>35</td>\n",
       "      <td>9</td>\n",
       "      <td>100</td>\n",
       "      <td>94112</td>\n",
       "      <td>1</td>\n",
       "      <td>2.7</td>\n",
       "      <td>2</td>\n",
       "      <td>0</td>\n",
       "      <td>0</td>\n",
       "      <td>0</td>\n",
       "      <td>0</td>\n",
       "      <td>0</td>\n",
       "      <td>0</td>\n",
       "    </tr>\n",
       "    <tr>\n",
       "      <th>4</th>\n",
       "      <td>5</td>\n",
       "      <td>35</td>\n",
       "      <td>8</td>\n",
       "      <td>45</td>\n",
       "      <td>91330</td>\n",
       "      <td>4</td>\n",
       "      <td>1.0</td>\n",
       "      <td>2</td>\n",
       "      <td>0</td>\n",
       "      <td>0</td>\n",
       "      <td>0</td>\n",
       "      <td>0</td>\n",
       "      <td>0</td>\n",
       "      <td>1</td>\n",
       "    </tr>\n",
       "  </tbody>\n",
       "</table>\n",
       "</div>"
      ],
      "text/plain": [
       "   ID  Age  Experience  Income  ZIP Code  Family  CCAvg  Education  Mortgage  \\\n",
       "0   1   25           1      49     91107       4    1.6          1         0   \n",
       "1   2   45          19      34     90089       3    1.5          1         0   \n",
       "2   3   39          15      11     94720       1    1.0          1         0   \n",
       "3   4   35           9     100     94112       1    2.7          2         0   \n",
       "4   5   35           8      45     91330       4    1.0          2         0   \n",
       "\n",
       "   Personal Loan  Securities Account  CD Account  Online  CreditCard  \n",
       "0              0                   1           0       0           0  \n",
       "1              0                   1           0       0           0  \n",
       "2              0                   0           0       0           0  \n",
       "3              0                   0           0       0           0  \n",
       "4              0                   0           0       0           1  "
      ]
     },
     "execution_count": 2,
     "metadata": {},
     "output_type": "execute_result"
    }
   ],
   "source": [
    "bl = pd.read_excel('bplm.xlsx')\n",
    "bl.head()"
   ]
  },
  {
   "cell_type": "code",
   "execution_count": 3,
   "id": "481475ca",
   "metadata": {},
   "outputs": [],
   "source": [
    "bl.columns = bl.columns.str.lower()\n",
    "bl.columns = bl.columns.str.replace(' ','_')"
   ]
  },
  {
   "cell_type": "code",
   "execution_count": 4,
   "id": "04ee6194",
   "metadata": {},
   "outputs": [],
   "source": [
    "bl['zip_code'] = bl['zip_code'].astype(str)\n",
    "bl['id'] = bl['id'].astype(str)"
   ]
  },
  {
   "cell_type": "code",
   "execution_count": 6,
   "id": "9056958a",
   "metadata": {},
   "outputs": [
    {
     "data": {
      "text/plain": [
       "0    400\n",
       "1    400\n",
       "Name: personal_loan, dtype: int64"
      ]
     },
     "execution_count": 6,
     "metadata": {},
     "output_type": "execute_result"
    }
   ],
   "source": [
    "bl1 = bl.loc[bl['personal_loan']==1]\n",
    "bl0 = bl.loc[bl['personal_loan']==0]\n",
    "\n",
    "bl1_samp = bl1.sample(400)\n",
    "bl0_samp = bl0.sample(400)\n",
    "\n",
    "bldfc = pd.concat([bl1_samp, bl0_samp])\n",
    "bldfc['personal_loan'].value_counts()"
   ]
  },
  {
   "cell_type": "code",
   "execution_count": 7,
   "id": "ea99920c",
   "metadata": {},
   "outputs": [],
   "source": [
    "bl_unseen = bldfc.sample(frac=0.20)\n",
    "\n",
    "bl_train = bldfc.sample(frac=0.80)"
   ]
  },
  {
   "cell_type": "code",
   "execution_count": 8,
   "id": "bd5d5188",
   "metadata": {},
   "outputs": [
    {
     "data": {
      "text/plain": [
       "(640, 14)"
      ]
     },
     "execution_count": 8,
     "metadata": {},
     "output_type": "execute_result"
    }
   ],
   "source": [
    "bl_train.shape"
   ]
  },
  {
   "cell_type": "code",
   "execution_count": 9,
   "id": "e070aa26",
   "metadata": {},
   "outputs": [
    {
     "data": {
      "text/plain": [
       "Index(['id', 'age', 'experience', 'income', 'zip_code', 'family', 'ccavg',\n",
       "       'education', 'mortgage', 'personal_loan', 'securities_account',\n",
       "       'cd_account', 'online', 'creditcard'],\n",
       "      dtype='object')"
      ]
     },
     "execution_count": 9,
     "metadata": {},
     "output_type": "execute_result"
    }
   ],
   "source": [
    "bl_train.columns"
   ]
  },
  {
   "cell_type": "code",
   "execution_count": 10,
   "id": "ae9a9459",
   "metadata": {},
   "outputs": [],
   "source": [
    "target_col = 'personal_loan'\n",
    "feature_cols = ['age', 'experience', 'income', 'zip_code', 'family', 'ccavg',\n",
    "       'education', 'mortgage', 'securities_account',\n",
    "       'cd_account', 'online', 'creditcard']\n",
    "X = bl_train[feature_cols]\n",
    "y = bl_train[target_col]\n",
    "\n",
    "X_train, X_test, y_train, y_test = train_test_split(X, y, test_size=0.2, random_state=42)"
   ]
  },
  {
   "cell_type": "code",
   "execution_count": 18,
   "id": "7a15afba",
   "metadata": {},
   "outputs": [],
   "source": [
    "#Logistic Regression Model\n",
    "\n",
    "lg_model = LogisticRegression(solver='lbfgs', max_iter=1000)\n",
    "lg_model.fit(X_train, y_train)\n",
    "lg_model_score = cross_val_score(lg_model, X, y, cv=5)"
   ]
  },
  {
   "cell_type": "code",
   "execution_count": 20,
   "id": "57af0e64",
   "metadata": {},
   "outputs": [
    {
     "name": "stdout",
     "output_type": "stream",
     "text": [
      "accuracy_train =  0.8281\n",
      "accuracy_test =  0.8516\n",
      "cross validatio score =  0.8438\n"
     ]
    }
   ],
   "source": [
    "print('accuracy_train = {:7.4f}'.format(lg_model.score(X_train, y_train)))\n",
    "print('accuracy_test = {:7.4f}'.format(lg_model.score(X_test, y_test)))\n",
    "print('cross validatio score = {:7.4f}'.format(lg_model_score.mean()))"
   ]
  },
  {
   "cell_type": "code",
   "execution_count": 21,
   "id": "a5e0be8e",
   "metadata": {},
   "outputs": [
    {
     "name": "stdout",
     "output_type": "stream",
     "text": [
      "Accuracy is:  0.8515625\n",
      "              precision    recall  f1-score   support\n",
      "\n",
      "           0       0.79      0.89      0.83        54\n",
      "           1       0.91      0.82      0.87        74\n",
      "\n",
      "    accuracy                           0.85       128\n",
      "   macro avg       0.85      0.86      0.85       128\n",
      "weighted avg       0.86      0.85      0.85       128\n",
      "\n"
     ]
    },
    {
     "data": {
      "image/png": "[encoded data removed]",
      "text/plain": [
       "<Figure size 432x288 with 2 Axes>"
      ]
     },
     "metadata": {
      "image/png": {
       "height": 244,
       "width": 373
      },
      "needs_background": "light"
     },
     "output_type": "display_data"
    }
   ],
   "source": [
    "#Calculate the predicted labels and predicted probabilities on the test set\n",
    "y_pred = lg_model.predict(X_test)\n",
    "\n",
    "y_pp = lg_model.predict_proba(X_test)\n",
    "\n",
    "#Create the confusion matrix\n",
    "ac = accuracy_score(y_test, y_pred)\n",
    "print('Accuracy is: ', ac)\n",
    "cm = confusion_matrix(y_test, y_pred)\n",
    "sns.heatmap(cm, annot=True, fmt='d');\n",
    "print(classification_report(y_test, y_pred))"
   ]
  },
  {
   "cell_type": "code",
   "execution_count": 24,
   "id": "552e7438",
   "metadata": {},
   "outputs": [
    {
     "name": "stdout",
     "output_type": "stream",
     "text": [
      "accuracy_train =  0.8848\n",
      "accuracy_test =  0.8750\n",
      "cross_val_score:  0.875\n"
     ]
    }
   ],
   "source": [
    "#Reduced features\n",
    "target_col1 = 'personal_loan'\n",
    "feature_cols1 = ['income', 'family', 'education', 'ccavg', 'mortgage',\n",
    "       'cd_account', 'online']\n",
    "X1 = bl_train[feature_cols1]\n",
    "y1 = bl_train[target_col1]\n",
    "\n",
    "X1_train, X1_test, y1_train, y1_test = train_test_split(X1, y1, test_size=0.2, random_state=42)\n",
    "\n",
    "lg_model = LogisticRegression(solver='lbfgs', max_iter=1000)\n",
    "lg_model.fit(X1_train, y1_train)\n",
    "lg_model_score1 = cross_val_score(lg_model, X1, y1, cv=5)\n",
    "\n",
    "print('accuracy_train = {:7.4f}'.format(lg_model.score(X1_train, y1_train)))\n",
    "print('accuracy_test = {:7.4f}'.format(lg_model.score(X1_test, y1_test)))\n",
    "print('cross_val_score: ', lg_model_score1.mean())"
   ]
  },
  {
   "cell_type": "code",
   "execution_count": 25,
   "id": "065d283d",
   "metadata": {},
   "outputs": [
    {
     "name": "stdout",
     "output_type": "stream",
     "text": [
      "Accuracy is:  0.875\n",
      "              precision    recall  f1-score   support\n",
      "\n",
      "           0       0.87      0.83      0.85        54\n",
      "           1       0.88      0.91      0.89        74\n",
      "\n",
      "    accuracy                           0.88       128\n",
      "   macro avg       0.87      0.87      0.87       128\n",
      "weighted avg       0.87      0.88      0.87       128\n",
      "\n"
     ]
    },
    {
     "data": {
      "image/png": "[encoded data removed]",
      "text/plain": [
       "<Figure size 432x288 with 2 Axes>"
      ]
     },
     "metadata": {
      "image/png": {
       "height": 244,
       "width": 373
      },
      "needs_background": "light"
     },
     "output_type": "display_data"
    }
   ],
   "source": [
    "#Calculate the predicted labels and predicted probabilities on the test set\n",
    "y1_pred = lg_model.predict(X1_test)\n",
    "\n",
    "y1_pp = lg_model.predict_proba(X1_test)\n",
    "\n",
    "#Create the confusion matrix\n",
    "ac = accuracy_score(y1_test, y1_pred)\n",
    "print('Accuracy is: ', ac)\n",
    "cm = confusion_matrix(y1_test, y1_pred)\n",
    "sns.heatmap(cm, annot=True, fmt='d');\n",
    "print(classification_report(y1_test, y1_pred))"
   ]
  },
  {
   "cell_type": "code",
   "execution_count": 45,
   "id": "052e5717",
   "metadata": {},
   "outputs": [
    {
     "name": "stdout",
     "output_type": "stream",
     "text": [
      "accuracy_train =  0.6035\n",
      "accuracy_test =  0.5625\n",
      "cross_val_score:  0.6921875\n"
     ]
    }
   ],
   "source": [
    "#Support Vector Machine\n",
    "#using all features\n",
    "\n",
    "target_col = 'personal_loan'\n",
    "feature_cols = ['age', 'experience', 'income', 'zip_code', 'family', 'ccavg',\n",
    "       'education', 'mortgage', 'securities_account',\n",
    "       'cd_account', 'online', 'creditcard']\n",
    "X = bl_train[feature_cols]\n",
    "y = bl_train[target_col]\n",
    "\n",
    "X_train, X_test, y_train, y_test = train_test_split(X, y, test_size=0.2, random_state=42)\n",
    "\n",
    "svm_model = SVC(kernel='linear', probability=True, max_iter=1000)\n",
    "svm_model.fit(X_train, y_train)\n",
    "svm_model.score(X_test, y_test)\n",
    "svm_model_score = cross_val_score(svm_model, X, y, cv=5)\n",
    "\n",
    "print('accuracy_train = {:7.4f}'.format(svm_model.score(X_train, y_train)))\n",
    "print('accuracy_test = {:7.4f}'.format(svm_model.score(X_test, y_test)))\n",
    "print('cross_val_score: ', svm_model_score.mean())"
   ]
  },
  {
   "cell_type": "code",
   "execution_count": 46,
   "id": "de97e6b3",
   "metadata": {},
   "outputs": [
    {
     "name": "stdout",
     "output_type": "stream",
     "text": [
      "Accuracy is:  0.5625\n",
      "              precision    recall  f1-score   support\n",
      "\n",
      "           0       0.49      0.69      0.57        54\n",
      "           1       0.67      0.47      0.56        74\n",
      "\n",
      "    accuracy                           0.56       128\n",
      "   macro avg       0.58      0.58      0.56       128\n",
      "weighted avg       0.59      0.56      0.56       128\n",
      "\n"
     ]
    },
    {
     "data": {
      "image/png": "[encoded data removed]",
      "text/plain": [
       "<Figure size 432x288 with 2 Axes>"
      ]
     },
     "metadata": {
      "image/png": {
       "height": 244,
       "width": 383
      },
      "needs_background": "light"
     },
     "output_type": "display_data"
    }
   ],
   "source": [
    "#Calculate the predicted labels and predicted probabilities on the test set\n",
    "y_pred = svm_model.predict(X_test)\n",
    "\n",
    "y_pp = svm_model.predict_proba(X_test)\n",
    "\n",
    "#Create the confusion matrix\n",
    "ac = accuracy_score(y_test, y_pred)\n",
    "print('Accuracy is: ', ac)\n",
    "cm = confusion_matrix(y_test, y_pred)\n",
    "sns.heatmap(cm, annot=True, fmt='d');\n",
    "print(classification_report(y_test, y_pred))"
   ]
  },
  {
   "cell_type": "code",
   "execution_count": 47,
   "id": "eca517b5",
   "metadata": {},
   "outputs": [
    {
     "name": "stdout",
     "output_type": "stream",
     "text": [
      "accuracy_train =  0.4883\n",
      "accuracy_test =  0.5078\n",
      "cross_val_score:  0.6390625\n"
     ]
    }
   ],
   "source": [
    "#Support Vector Machine\n",
    "#Reduced features\n",
    "\n",
    "target_col1 = 'personal_loan'\n",
    "feature_cols1 = ['income', 'family', 'education', 'ccavg', 'mortgage', 'cd_account', 'online']\n",
    "X1 = bl_train[feature_cols1]\n",
    "y1 = bl_train[target_col1]\n",
    "\n",
    "X1_train, X1_test, y1_train, y1_test = train_test_split(X1, y1, test_size=0.2, random_state=42)\n",
    "\n",
    "svm_model = SVC(kernel='linear', probability=True, max_iter=1000)\n",
    "svm_model.fit(X1_train, y1_train)\n",
    "svm_model.score(X1_test, y1_test)\n",
    "svm_model_score = cross_val_score(svm_model, X1, y1, cv=5)\n",
    "\n",
    "print('accuracy_train = {:7.4f}'.format(svm_model.score(X1_train, y1_train)))\n",
    "print('accuracy_test = {:7.4f}'.format(svm_model.score(X1_test, y1_test)))\n",
    "print('cross_val_score: ', svm_model_score.mean())"
   ]
  },
  {
   "cell_type": "code",
   "execution_count": 48,
   "id": "17f31004",
   "metadata": {},
   "outputs": [
    {
     "name": "stdout",
     "output_type": "stream",
     "text": [
      "Accuracy is:  0.5078125\n",
      "              precision    recall  f1-score   support\n",
      "\n",
      "           0       0.40      0.31      0.35        54\n",
      "           1       0.56      0.65      0.60        74\n",
      "\n",
      "    accuracy                           0.51       128\n",
      "   macro avg       0.48      0.48      0.48       128\n",
      "weighted avg       0.49      0.51      0.50       128\n",
      "\n"
     ]
    },
    {
     "data": {
      "image/png": "[encoded data removed]",
      "text/plain": [
       "<Figure size 432x288 with 2 Axes>"
      ]
     },
     "metadata": {
      "image/png": {
       "height": 244,
       "width": 373
      },
      "needs_background": "light"
     },
     "output_type": "display_data"
    }
   ],
   "source": [
    "#Calculate the predicted labels and predicted probabilities on the test set\n",
    "y1_pred = svm_model.predict(X1_test)\n",
    "\n",
    "y1_pp = svm_model.predict_proba(X1_test)\n",
    "\n",
    "#Create the confusion matrix\n",
    "ac = accuracy_score(y1_test, y1_pred)\n",
    "print('Accuracy is: ', ac)\n",
    "cm = confusion_matrix(y1_test, y1_pred)\n",
    "sns.heatmap(cm, annot=True, fmt='d');\n",
    "print(classification_report(y1_test, y1_pred))"
   ]
  },
  {
   "cell_type": "code",
   "execution_count": 34,
   "id": "b2b57e85",
   "metadata": {},
   "outputs": [
    {
     "name": "stdout",
     "output_type": "stream",
     "text": [
      "accuracy_train =  0.8008\n",
      "accuracy_test =  0.7969\n",
      "cross_val_score:  0.8046875\n"
     ]
    }
   ],
   "source": [
    "#Naive Bayes\n",
    "#using all features\n",
    "\n",
    "target_col = 'personal_loan'\n",
    "feature_cols = ['age', 'experience', 'income', 'zip_code', 'family', 'ccavg',\n",
    "       'education', 'mortgage', 'securities_account',\n",
    "       'cd_account', 'online', 'creditcard']\n",
    "X = bl_train[feature_cols]\n",
    "y = bl_train[target_col]\n",
    "\n",
    "X_train, X_test, y_train, y_test = train_test_split(X, y, test_size=0.2, random_state=42)\n",
    "\n",
    "nb_model = GaussianNB()\n",
    "nb_model.fit(X_train, y_train)\n",
    "nb_model.score(X_test, y_test)\n",
    "nb_model_score = cross_val_score(nb_model, X, y, cv=5)\n",
    "\n",
    "print('accuracy_train = {:7.4f}'.format(nb_model.score(X_train, y_train)))\n",
    "print('accuracy_test = {:7.4f}'.format(nb_model.score(X_test, y_test)))\n",
    "print('cross_val_score: ', nb_model_score.mean())"
   ]
  },
  {
   "cell_type": "code",
   "execution_count": 35,
   "id": "3eb4309b",
   "metadata": {},
   "outputs": [
    {
     "name": "stdout",
     "output_type": "stream",
     "text": [
      "Accuracy is:  0.796875\n",
      "              precision    recall  f1-score   support\n",
      "\n",
      "           0       0.70      0.91      0.79        54\n",
      "           1       0.91      0.72      0.80        74\n",
      "\n",
      "    accuracy                           0.80       128\n",
      "   macro avg       0.81      0.81      0.80       128\n",
      "weighted avg       0.82      0.80      0.80       128\n",
      "\n"
     ]
    },
    {
     "data": {
      "image/png": "[encoded data removed]",
      "text/plain": [
       "<Figure size 432x288 with 2 Axes>"
      ]
     },
     "metadata": {
      "image/png": {
       "height": 244,
       "width": 373
      },
      "needs_background": "light"
     },
     "output_type": "display_data"
    }
   ],
   "source": [
    "#Calculate the predicted labels and predicted probabilities on the test set\n",
    "y_pred = nb_model.predict(X_test)\n",
    "\n",
    "y_pp = nb_model.predict_proba(X_test)\n",
    "\n",
    "#Create the confusion matrix\n",
    "ac = accuracy_score(y_test, y_pred)\n",
    "print('Accuracy is: ', ac)\n",
    "cm = confusion_matrix(y_test, y_pred)\n",
    "sns.heatmap(cm, annot=True, fmt='d');\n",
    "print(classification_report(y_test, y_pred))"
   ]
  },
  {
   "cell_type": "code",
   "execution_count": 36,
   "id": "f57319e9",
   "metadata": {},
   "outputs": [
    {
     "name": "stdout",
     "output_type": "stream",
     "text": [
      "accuracy_train =  0.8125\n",
      "accuracy_test =  0.7969\n",
      "cross_val_score:  0.8109375\n"
     ]
    }
   ],
   "source": [
    "#Naive Bayes\n",
    "#Reduced features\n",
    "\n",
    "target_col1 = 'personal_loan'\n",
    "feature_cols1 = ['income', 'family', 'education', 'ccavg', 'mortgage', 'cd_account', 'online']\n",
    "X1 = bl_train[feature_cols1]\n",
    "y1 = bl_train[target_col1]\n",
    "\n",
    "X1_train, X1_test, y1_train, y1_test = train_test_split(X1, y1, test_size=0.2, random_state=42)\n",
    "\n",
    "nb_model = GaussianNB()\n",
    "nb_model.fit(X1_train, y1_train)\n",
    "nb_model.score(X1_test, y1_test)\n",
    "nb_model_score = cross_val_score(nb_model, X1, y1, cv=5)\n",
    "\n",
    "print('accuracy_train = {:7.4f}'.format(nb_model.score(X1_train, y1_train)))\n",
    "print('accuracy_test = {:7.4f}'.format(nb_model.score(X1_test, y1_test)))\n",
    "print('cross_val_score: ', nb_model_score.mean())"
   ]
  },
  {
   "cell_type": "code",
   "execution_count": 37,
   "id": "f4b52a6b",
   "metadata": {},
   "outputs": [
    {
     "name": "stdout",
     "output_type": "stream",
     "text": [
      "Accuracy is:  0.5078125\n",
      "              precision    recall  f1-score   support\n",
      "\n",
      "           0       0.40      0.31      0.35        54\n",
      "           1       0.56      0.65      0.60        74\n",
      "\n",
      "    accuracy                           0.51       128\n",
      "   macro avg       0.48      0.48      0.48       128\n",
      "weighted avg       0.49      0.51      0.50       128\n",
      "\n"
     ]
    },
    {
     "data": {
      "image/png": "[encoded data removed]",
      "text/plain": [
       "<Figure size 432x288 with 2 Axes>"
      ]
     },
     "metadata": {
      "image/png": {
       "height": 244,
       "width": 373
      },
      "needs_background": "light"
     },
     "output_type": "display_data"
    }
   ],
   "source": [
    "#Calculate the predicted labels and predicted probabilities on the test set\n",
    "y_pred = nb_model.predict(X1_test)\n",
    "\n",
    "y_pp = nb_model.predict_proba(X1_test)\n",
    "\n",
    "#Create the confusion matrix\n",
    "ac = accuracy_score(y1_test, y1_pred)\n",
    "print('Accuracy is: ', ac)\n",
    "cm = confusion_matrix(y1_test, y1_pred)\n",
    "sns.heatmap(cm, annot=True, fmt='d');\n",
    "print(classification_report(y1_test, y1_pred))"
   ]
  },
  {
   "cell_type": "code",
   "execution_count": 39,
   "id": "f211379b",
   "metadata": {},
   "outputs": [],
   "source": [
    "##We'll test these 3 models on unseen dataset\n",
    "\n",
    "target_col_unseen = 'personal_loan'\n",
    "feature_cols_unseen = ['age', 'experience', 'income', 'zip_code', 'family', 'ccavg',\n",
    "       'education', 'mortgage', 'securities_account',\n",
    "       'cd_account', 'online', 'creditcard']\n",
    "X_unseen = bl_unseen[feature_cols_unseen]\n",
    "y_unseen = bl_unseen[target_col_unseen]\n",
    "\n",
    "target_col1_unseen = 'personal_loan'\n",
    "feature_cols1_unseen = ['income', 'family', 'education', 'ccavg', 'mortgage', 'cd_account', 'online']\n",
    "X1_unseen = bl_unseen[feature_cols1_unseen]\n",
    "y1_unseen = bl_unseen[target_col1_unseen]\n"
   ]
  },
  {
   "cell_type": "code",
   "execution_count": 41,
   "id": "3ba850c1",
   "metadata": {},
   "outputs": [
    {
     "name": "stdout",
     "output_type": "stream",
     "text": [
      "accuracy_unseen =  0.8625\n",
      "cross_val_score_unseen =  0.8500\n",
      "Accuracy score is:  0.8625\n",
      "              precision    recall  f1-score   support\n",
      "\n",
      "           0       0.88      0.84      0.86        82\n",
      "           1       0.84      0.88      0.86        78\n",
      "\n",
      "    accuracy                           0.86       160\n",
      "   macro avg       0.86      0.86      0.86       160\n",
      "weighted avg       0.86      0.86      0.86       160\n",
      "\n"
     ]
    },
    {
     "data": {
      "image/png": "[encoded data removed]",
      "text/plain": [
       "<Figure size 432x288 with 2 Axes>"
      ]
     },
     "metadata": {
      "image/png": {
       "height": 244,
       "width": 373
      },
      "needs_background": "light"
     },
     "output_type": "display_data"
    }
   ],
   "source": [
    "##Logistic Regression with all features\n",
    "lg_model_unseen = LogisticRegression(solver='lbfgs', max_iter=1000)\n",
    "lg_model_unseen.fit(X_unseen, y_unseen)\n",
    "lg_model_score_unseen = cross_val_score(lg_model_unseen, X_unseen, y_unseen, cv=5)\n",
    "\n",
    "print('accuracy_unseen = {:7.4f}'.format(lg_model_unseen.score(X_unseen, y_unseen)))\n",
    "print('cross_val_score_unseen = {:7.4f}'.format(lg_model_score_unseen.mean()))\n",
    "\n",
    "#Calculate the predicted labels and predicted probabilities on the unseen dataset\n",
    "y_unseen_pred = lg_model_unseen.predict(X_unseen)\n",
    "\n",
    "y_unseen_pp = lg_model_unseen.predict_proba(X_unseen)\n",
    "\n",
    "#Create the confusion matrix\n",
    "ac_unseen = accuracy_score(y_unseen, y_unseen_pred)\n",
    "print('Accuracy score is: ', ac_unseen)\n",
    "cm_unseen = confusion_matrix(y_unseen, y_unseen_pred)\n",
    "sns.heatmap(cm_unseen, annot=True, fmt='d');\n",
    "print(classification_report(y_unseen, y_unseen_pred))"
   ]
  },
  {
   "cell_type": "code",
   "execution_count": 44,
   "id": "2bdca50d",
   "metadata": {},
   "outputs": [
    {
     "name": "stdout",
     "output_type": "stream",
     "text": [
      "accuracy_unseen_reduced =  0.8938\n",
      "cross_val_score_unseen_reduced =  0.8750\n",
      "Accuracy score is:  0.8625\n",
      "              precision    recall  f1-score   support\n",
      "\n",
      "           0       0.91      0.88      0.89        82\n",
      "           1       0.88      0.91      0.89        78\n",
      "\n",
      "    accuracy                           0.89       160\n",
      "   macro avg       0.89      0.89      0.89       160\n",
      "weighted avg       0.89      0.89      0.89       160\n",
      "\n"
     ]
    },
    {
     "data": {
      "image/png": "[encoded data removed]",
      "text/plain": [
       "<Figure size 432x288 with 2 Axes>"
      ]
     },
     "metadata": {
      "image/png": {
       "height": 244,
       "width": 373
      },
      "needs_background": "light"
     },
     "output_type": "display_data"
    }
   ],
   "source": [
    "##Logistic Regression with reduced features\n",
    "lg_model_unseen = LogisticRegression(solver='lbfgs', max_iter=1000)\n",
    "lg_model_unseen.fit(X1_unseen, y1_unseen)\n",
    "lg_model_score_unseen1 = cross_val_score(lg_model_unseen, X1_unseen, y1_unseen, cv=5)\n",
    "\n",
    "print('accuracy_unseen_reduced = {:7.4f}'.format(lg_model_unseen.score(X1_unseen, y1_unseen)))\n",
    "print('cross_val_score_unseen_reduced = {:7.4f}'.format(lg_model_score_unseen1.mean()))\n",
    "\n",
    "#Calculate the predicted labels and predicted probabilities on the unseen dataset\n",
    "y1_unseen_pred = lg_model_unseen.predict(X1_unseen)\n",
    "\n",
    "y1_unseen_pp = lg_model_unseen.predict_proba(X1_unseen)\n",
    "\n",
    "#Create the confusion matrix\n",
    "ac_unseen1 = accuracy_score(y1_unseen, y1_unseen_pred)\n",
    "print('Accuracy score is: ', ac_unseen)\n",
    "cm_unseen1 = confusion_matrix(y1_unseen, y1_unseen_pred)\n",
    "sns.heatmap(cm_unseen, annot=True, fmt='d');\n",
    "print(classification_report(y1_unseen, y1_unseen_pred))"
   ]
  },
  {
   "cell_type": "code",
   "execution_count": 49,
   "id": "a8ae5c8d",
   "metadata": {},
   "outputs": [
    {
     "name": "stdout",
     "output_type": "stream",
     "text": [
      "accuracy_unseen =  0.7000\n",
      "cross_val_score_unseen =  0.6875\n",
      "Accuracy score is:  0.7\n",
      "              precision    recall  f1-score   support\n",
      "\n",
      "           0       0.70      0.73      0.71        82\n",
      "           1       0.70      0.67      0.68        78\n",
      "\n",
      "    accuracy                           0.70       160\n",
      "   macro avg       0.70      0.70      0.70       160\n",
      "weighted avg       0.70      0.70      0.70       160\n",
      "\n"
     ]
    },
    {
     "data": {
      "image/png": "[encoded data removed]",
      "text/plain": [
       "<Figure size 432x288 with 2 Axes>"
      ]
     },
     "metadata": {
      "image/png": {
       "height": 248,
       "width": 373
      },
      "needs_background": "light"
     },
     "output_type": "display_data"
    }
   ],
   "source": [
    "##Support Vector Machine with all features\n",
    "svm_model_unseen = SVC(kernel='linear', probability=True, max_iter=1000)\n",
    "svm_model_unseen.fit(X_unseen, y_unseen)\n",
    "svm_model_score_unseen = cross_val_score(svm_model_unseen, X_unseen, y_unseen, cv=5)\n",
    "\n",
    "print('accuracy_unseen = {:7.4f}'.format(svm_model_unseen.score(X_unseen, y_unseen)))\n",
    "print('cross_val_score_unseen = {:7.4f}'.format(svm_model_score_unseen.mean()))\n",
    "\n",
    "#Calculate the predicted labels and predicted probabilities on the unseen dataset\n",
    "y_unseen_pred = svm_model_unseen.predict(X_unseen)\n",
    "\n",
    "y_unseen_pp = svm_model_unseen.predict_proba(X_unseen)\n",
    "\n",
    "#Create the confusion matrix\n",
    "ac_unseen = accuracy_score(y_unseen, y_unseen_pred)\n",
    "print('Accuracy score is: ', ac_unseen)\n",
    "cm_unseen = confusion_matrix(y_unseen, y_unseen_pred)\n",
    "sns.heatmap(cm_unseen, annot=True, fmt='d');\n",
    "print(classification_report(y_unseen, y_unseen_pred))"
   ]
  },
  {
   "cell_type": "code",
   "execution_count": 50,
   "id": "7138a8a9",
   "metadata": {},
   "outputs": [
    {
     "name": "stdout",
     "output_type": "stream",
     "text": [
      "accuracy_unseen =  0.7625\n",
      "cross_val_score_unseen =  0.7250\n",
      "Accuracy score is:  0.7\n",
      "              precision    recall  f1-score   support\n",
      "\n",
      "           0       0.91      0.88      0.89        82\n",
      "           1       0.88      0.91      0.89        78\n",
      "\n",
      "    accuracy                           0.89       160\n",
      "   macro avg       0.89      0.89      0.89       160\n",
      "weighted avg       0.89      0.89      0.89       160\n",
      "\n"
     ]
    },
    {
     "data": {
      "image/png": "[encoded data removed]",
      "text/plain": [
       "<Figure size 432x288 with 2 Axes>"
      ]
     },
     "metadata": {
      "image/png": {
       "height": 244,
       "width": 373
      },
      "needs_background": "light"
     },
     "output_type": "display_data"
    }
   ],
   "source": [
    "##Support Vector Machine with reduced features\n",
    "svm_model_unseen = SVC(kernel='linear', probability=True, max_iter=1000)\n",
    "svm_model_unseen.fit(X1_unseen, y1_unseen)\n",
    "svm_model_score_unseen1 = cross_val_score(svm_model_unseen, X1_unseen, y1_unseen, cv=5)\n",
    "\n",
    "print('accuracy_unseen = {:7.4f}'.format(svm_model_unseen.score(X1_unseen, y1_unseen)))\n",
    "print('cross_val_score_unseen = {:7.4f}'.format(svm_model_score_unseen1.mean()))\n",
    "\n",
    "#Calculate the predicted labels and predicted probabilities on the unseen dataset\n",
    "y_unseen_pred = svm_model_unseen.predict(X1_unseen)\n",
    "\n",
    "y_unseen_pp = svm_model_unseen.predict_proba(X1_unseen)\n",
    "\n",
    "#Create the confusion matrix\n",
    "ac_unseen1 = accuracy_score(y1_unseen, y1_unseen_pred)\n",
    "print('Accuracy score is: ', ac_unseen)\n",
    "cm_unseen = confusion_matrix(y1_unseen, y1_unseen_pred)\n",
    "sns.heatmap(cm_unseen, annot=True, fmt='d');\n",
    "print(classification_report(y1_unseen, y1_unseen_pred))"
   ]
  },
  {
   "cell_type": "code",
   "execution_count": 51,
   "id": "716da8e1",
   "metadata": {},
   "outputs": [
    {
     "name": "stdout",
     "output_type": "stream",
     "text": [
      "accuracy_unseen =  0.8375\n",
      "cross_val_score_unseen =  0.8125\n",
      "Accuracy score is:  0.8375\n",
      "              precision    recall  f1-score   support\n",
      "\n",
      "           0       0.80      0.90      0.85        82\n",
      "           1       0.88      0.77      0.82        78\n",
      "\n",
      "    accuracy                           0.84       160\n",
      "   macro avg       0.84      0.84      0.84       160\n",
      "weighted avg       0.84      0.84      0.84       160\n",
      "\n"
     ]
    },
    {
     "data": {
      "image/png": "[encoded data removed]",
      "text/plain": [
       "<Figure size 432x288 with 2 Axes>"
      ]
     },
     "metadata": {
      "image/png": {
       "height": 244,
       "width": 373
      },
      "needs_background": "light"
     },
     "output_type": "display_data"
    }
   ],
   "source": [
    "##Naive Bayes with all features\n",
    "nb_model_unseen = GaussianNB()\n",
    "nb_model_unseen.fit(X_unseen, y_unseen)\n",
    "nb_model_score_unseen = cross_val_score(nb_model_unseen, X_unseen, y_unseen, cv=5)\n",
    "\n",
    "print('accuracy_unseen = {:7.4f}'.format(nb_model_unseen.score(X_unseen, y_unseen)))\n",
    "print('cross_val_score_unseen = {:7.4f}'.format(nb_model_score_unseen.mean()))\n",
    "\n",
    "#Calculate the predicted labels and predicted probabilities on the unseen dataset\n",
    "y_unseen_pred = nb_model_unseen.predict(X_unseen)\n",
    "\n",
    "y_unseen_pp = nb_model_unseen.predict_proba(X_unseen)\n",
    "\n",
    "#Create the confusion matrix\n",
    "ac_unseen = accuracy_score(y_unseen, y_unseen_pred)\n",
    "print('Accuracy score is: ', ac_unseen)\n",
    "cm_unseen = confusion_matrix(y_unseen, y_unseen_pred)\n",
    "sns.heatmap(cm_unseen, annot=True, fmt='d');\n",
    "print(classification_report(y_unseen, y_unseen_pred))"
   ]
  },
  {
   "cell_type": "code",
   "execution_count": 52,
   "id": "070d3e88",
   "metadata": {},
   "outputs": [
    {
     "name": "stdout",
     "output_type": "stream",
     "text": [
      "accuracy_unseen =  0.8187\n",
      "cross_val_score_unseen =  0.8125\n",
      "Accuracy score is:  0.81875\n",
      "              precision    recall  f1-score   support\n",
      "\n",
      "           0       0.78      0.89      0.83        82\n",
      "           1       0.87      0.74      0.80        78\n",
      "\n",
      "    accuracy                           0.82       160\n",
      "   macro avg       0.83      0.82      0.82       160\n",
      "weighted avg       0.82      0.82      0.82       160\n",
      "\n"
     ]
    },
    {
     "data": {
      "image/png": "[encoded data removed]",
      "text/plain": [
       "<Figure size 432x288 with 2 Axes>"
      ]
     },
     "metadata": {
      "image/png": {
       "height": 244,
       "width": 373
      },
      "needs_background": "light"
     },
     "output_type": "display_data"
    }
   ],
   "source": [
    "##Naive Bayes with reduced features\n",
    "nb_model_unseen = GaussianNB()\n",
    "nb_model_unseen.fit(X1_unseen, y1_unseen)\n",
    "nb_model_score_unseen1 = cross_val_score(nb_model_unseen, X1_unseen, y1_unseen, cv=5)\n",
    "\n",
    "print('accuracy_unseen = {:7.4f}'.format(nb_model_unseen.score(X1_unseen, y1_unseen)))\n",
    "print('cross_val_score_unseen = {:7.4f}'.format(nb_model_score_unseen1.mean()))\n",
    "\n",
    "#Calculate the predicted labels and predicted probabilities on the unseen dataset\n",
    "y1_unseen_pred = nb_model_unseen.predict(X1_unseen)\n",
    "\n",
    "y1_unseen_pp = nb_model_unseen.predict_proba(X1_unseen)\n",
    "\n",
    "#Create the confusion matrix\n",
    "ac_unseen = accuracy_score(y1_unseen, y1_unseen_pred)\n",
    "print('Accuracy score is: ', ac_unseen)\n",
    "cm_unseen = confusion_matrix(y1_unseen, y1_unseen_pred)\n",
    "sns.heatmap(cm_unseen, annot=True, fmt='d');\n",
    "print(classification_report(y1_unseen, y1_unseen_pred))"
   ]
  },
  {
   "cell_type": "code",
   "execution_count": null,
   "id": "b66519aa",
   "metadata": {},
   "outputs": [],
   "source": [
    "#Gridsearch optimal parameters for all three models"
   ]
  },
  {
   "cell_type": "code",
   "execution_count": null,
   "id": "0242fd30",
   "metadata": {},
   "outputs": [],
   "source": [
    "pl_map = {\n",
    "    'N': 0,\n",
    "    'Y': 1\n",
    "}\n",
    "\n",
    "['diagnosis'] = breast_cancer['diagnosis'].map(bm_map)"
   ]
  },
  {
   "cell_type": "code",
   "execution_count": null,
   "id": "f3b59e1f",
   "metadata": {},
   "outputs": [],
   "source": []
  },
  {
   "cell_type": "code",
   "execution_count": null,
   "id": "45ba4cac",
   "metadata": {},
   "outputs": [],
   "source": [
    "yhat_pp_lg = lg_model.predict_proba(X1_unseen)\n",
    "yhat_pp_svm = svm_model.predict_proba(X1_unseen)\n",
    "yhat_pp_nb = nb_model.predict_proba(X1_unseen)\n",
    "fpr, tpr, _ = roc_curve(y1_unseen, yhat_pp_lg[:,1], pos_label='M')\n",
    "fpr_svm, tpr_svm, _ = roc_curve(y1_unseen, yhat_pp_svm[:,1], pos_label='M')\n",
    "fpr_nb, tpr_nb, _ = roc_curve(y1_unseen, yhat_pp_nb[:,1], pos_label='M')\n",
    "\n",
    "plt.figure(figsize=[10,10])\n",
    "\n",
    "plt.plot(fpr, tpr, label='ROC curve Logistic (area = %0.2f)' % auc(fpr, tpr), linewidth=4)\n",
    "plt.plot(fpr_svc, tpr_svc, label='ROC curve SVC (area = %0.2f)' % auc(fpr_svc, tpr_svc), linewidth=4, color='darkred')\n",
    "plt.plot(fpr_nb, tpr_nb, label='ROC curve NB (area = %0.2f)' % auc(fpr_nb, tpr_nb), linewidth=4, color='darkblue')\n",
    "plt.xlim([-0.05, 1.0])\n",
    "plt.ylim([-0.05, 1.05])\n",
    "plt.xlabel('False Positive Rate', fontsize=18)\n",
    "plt.ylabel('True Positive Rate', fontsize=18)\n",
    "plt.title('Receiver operating characteristic: M', fontsize=18)\n",
    "plt.legend(loc=\"lower right\")\n",
    "plt.show()"
   ]
  },
  {
   "cell_type": "code",
   "execution_count": null,
   "id": "bee7eaf5",
   "metadata": {},
   "outputs": [],
   "source": []
  }
 ],
 "metadata": {
  "kernelspec": {
   "display_name": "Python 3 (ipykernel)",
   "language": "python",
   "name": "python3"
  },
  "language_info": {
   "codemirror_mode": {
    "name": "ipython",
    "version": 3
   },
   "file_extension": ".py",
   "mimetype": "text/x-python",
   "name": "python",
   "nbconvert_exporter": "python",
   "pygments_lexer": "ipython3",
   "version": "3.8.13"
  }
 },
 "nbformat": 4,
 "nbformat_minor": 5
}
