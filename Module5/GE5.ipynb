{
 "cells": [
  {
   "cell_type": "code",
   "execution_count": 1,
   "id": "a6e87085",
   "metadata": {},
   "outputs": [],
   "source": [
    "import numpy as np\n",
    "import pandas as pd\n",
    "import math\n",
    "from scipy import stats\n",
    "import seaborn as sns\n",
    "from matplotlib import pyplot as plt\n",
    "import matplotlib.pylab as pylab\n",
    "\n",
    "plt.style.use('fivethirtyeight')\n",
    "\n",
    "from ipywidgets import *\n",
    "from IPython.display import display\n",
    "\n",
    "from sklearn.svm import SVC\n",
    "from sklearn.preprocessing import StandardScaler\n",
    "\n",
    "from sklearn.neural_network import MLPClassifier\n",
    "from sklearn.naive_bayes import GaussianNB\n",
    "from sklearn.linear_model import LogisticRegression\n",
    "from sklearn import metrics\n",
    "\n",
    "from sklearn.model_selection import train_test_split\n",
    "from sklearn.model_selection import cross_val_score\n",
    "from sklearn.model_selection import RandomizedSearchCV\n",
    "from sklearn.model_selection import GridSearchCV\n",
    "\n",
    "from sklearn.metrics import roc_curve, auc\n",
    "from sklearn.metrics import accuracy_score, confusion_matrix\n",
    "from sklearn.metrics import classification_report\n",
    "from warnings import filterwarnings\n",
    "filterwarnings(\"ignore\")\n",
    "\n",
    "%matplotlib inline\n",
    "%config InlineBackend.figure_format = 'retina'"
   ]
  },
  {
   "cell_type": "code",
   "execution_count": 2,
   "id": "04745283",
   "metadata": {},
   "outputs": [
    {
     "data": {
      "text/html": [
       "<div>\n",
       "<style scoped>\n",
       "    .dataframe tbody tr th:only-of-type {\n",
       "        vertical-align: middle;\n",
       "    }\n",
       "\n",
       "    .dataframe tbody tr th {\n",
       "        vertical-align: top;\n",
       "    }\n",
       "\n",
       "    .dataframe thead th {\n",
       "        text-align: right;\n",
       "    }\n",
       "</style>\n",
       "<table border=\"1\" class=\"dataframe\">\n",
       "  <thead>\n",
       "    <tr style=\"text-align: right;\">\n",
       "      <th></th>\n",
       "      <th>ID</th>\n",
       "      <th>Age</th>\n",
       "      <th>Experience</th>\n",
       "      <th>Income</th>\n",
       "      <th>ZIP Code</th>\n",
       "      <th>Family</th>\n",
       "      <th>CCAvg</th>\n",
       "      <th>Education</th>\n",
       "      <th>Mortgage</th>\n",
       "      <th>Personal Loan</th>\n",
       "      <th>Securities Account</th>\n",
       "      <th>CD Account</th>\n",
       "      <th>Online</th>\n",
       "      <th>CreditCard</th>\n",
       "    </tr>\n",
       "  </thead>\n",
       "  <tbody>\n",
       "    <tr>\n",
       "      <th>0</th>\n",
       "      <td>1</td>\n",
       "      <td>25</td>\n",
       "      <td>1</td>\n",
       "      <td>49</td>\n",
       "      <td>91107</td>\n",
       "      <td>4</td>\n",
       "      <td>1.6</td>\n",
       "      <td>1</td>\n",
       "      <td>0</td>\n",
       "      <td>0</td>\n",
       "      <td>1</td>\n",
       "      <td>0</td>\n",
       "      <td>0</td>\n",
       "      <td>0</td>\n",
       "    </tr>\n",
       "    <tr>\n",
       "      <th>1</th>\n",
       "      <td>2</td>\n",
       "      <td>45</td>\n",
       "      <td>19</td>\n",
       "      <td>34</td>\n",
       "      <td>90089</td>\n",
       "      <td>3</td>\n",
       "      <td>1.5</td>\n",
       "      <td>1</td>\n",
       "      <td>0</td>\n",
       "      <td>0</td>\n",
       "      <td>1</td>\n",
       "      <td>0</td>\n",
       "      <td>0</td>\n",
       "      <td>0</td>\n",
       "    </tr>\n",
       "    <tr>\n",
       "      <th>2</th>\n",
       "      <td>3</td>\n",
       "      <td>39</td>\n",
       "      <td>15</td>\n",
       "      <td>11</td>\n",
       "      <td>94720</td>\n",
       "      <td>1</td>\n",
       "      <td>1.0</td>\n",
       "      <td>1</td>\n",
       "      <td>0</td>\n",
       "      <td>0</td>\n",
       "      <td>0</td>\n",
       "      <td>0</td>\n",
       "      <td>0</td>\n",
       "      <td>0</td>\n",
       "    </tr>\n",
       "    <tr>\n",
       "      <th>3</th>\n",
       "      <td>4</td>\n",
       "      <td>35</td>\n",
       "      <td>9</td>\n",
       "      <td>100</td>\n",
       "      <td>94112</td>\n",
       "      <td>1</td>\n",
       "      <td>2.7</td>\n",
       "      <td>2</td>\n",
       "      <td>0</td>\n",
       "      <td>0</td>\n",
       "      <td>0</td>\n",
       "      <td>0</td>\n",
       "      <td>0</td>\n",
       "      <td>0</td>\n",
       "    </tr>\n",
       "    <tr>\n",
       "      <th>4</th>\n",
       "      <td>5</td>\n",
       "      <td>35</td>\n",
       "      <td>8</td>\n",
       "      <td>45</td>\n",
       "      <td>91330</td>\n",
       "      <td>4</td>\n",
       "      <td>1.0</td>\n",
       "      <td>2</td>\n",
       "      <td>0</td>\n",
       "      <td>0</td>\n",
       "      <td>0</td>\n",
       "      <td>0</td>\n",
       "      <td>0</td>\n",
       "      <td>1</td>\n",
       "    </tr>\n",
       "  </tbody>\n",
       "</table>\n",
       "</div>"
      ],
      "text/plain": [
       "   ID  Age  Experience  Income  ZIP Code  Family  CCAvg  Education  Mortgage  \\\n",
       "0   1   25           1      49     91107       4    1.6          1         0   \n",
       "1   2   45          19      34     90089       3    1.5          1         0   \n",
       "2   3   39          15      11     94720       1    1.0          1         0   \n",
       "3   4   35           9     100     94112       1    2.7          2         0   \n",
       "4   5   35           8      45     91330       4    1.0          2         0   \n",
       "\n",
       "   Personal Loan  Securities Account  CD Account  Online  CreditCard  \n",
       "0              0                   1           0       0           0  \n",
       "1              0                   1           0       0           0  \n",
       "2              0                   0           0       0           0  \n",
       "3              0                   0           0       0           0  \n",
       "4              0                   0           0       0           1  "
      ]
     },
     "execution_count": 2,
     "metadata": {},
     "output_type": "execute_result"
    }
   ],
   "source": [
    "bl = pd.read_excel('bplm.xlsx')\n",
    "bl.head()"
   ]
  },
  {
   "cell_type": "code",
   "execution_count": 3,
   "id": "4c082518",
   "metadata": {},
   "outputs": [
    {
     "data": {
      "text/plain": [
       "(5000, 14)"
      ]
     },
     "execution_count": 3,
     "metadata": {},
     "output_type": "execute_result"
    }
   ],
   "source": [
    "bl.shape"
   ]
  },
  {
   "cell_type": "code",
   "execution_count": 4,
   "id": "7942e1e7",
   "metadata": {},
   "outputs": [],
   "source": [
    "bl.columns = bl.columns.str.lower()\n",
    "bl.columns = bl.columns.str.replace(' ','_')"
   ]
  },
  {
   "cell_type": "code",
   "execution_count": 5,
   "id": "e86d5898",
   "metadata": {},
   "outputs": [],
   "source": [
    "bl['zip_code'] = bl['zip_code'].astype(str)\n",
    "bl['id'] = bl['id'].astype(str)"
   ]
  },
  {
   "cell_type": "code",
   "execution_count": 6,
   "id": "c8446451",
   "metadata": {},
   "outputs": [
    {
     "data": {
      "text/plain": [
       "0    400\n",
       "1    400\n",
       "Name: personal_loan, dtype: int64"
      ]
     },
     "execution_count": 6,
     "metadata": {},
     "output_type": "execute_result"
    }
   ],
   "source": [
    "bl1 = bl.loc[bl['personal_loan']==1]\n",
    "bl0 = bl.loc[bl['personal_loan']==0]\n",
    "\n",
    "bl1_samp = bl1.sample(400)\n",
    "bl0_samp = bl0.sample(400)\n",
    "\n",
    "bldfc = pd.concat([bl1_samp, bl0_samp])\n",
    "bldfc['personal_loan'].value_counts()"
   ]
  },
  {
   "cell_type": "code",
   "execution_count": 7,
   "id": "99fed5b7",
   "metadata": {},
   "outputs": [],
   "source": [
    "bl_unseen = bldfc.sample(frac=0.20)\n",
    "\n",
    "bl_train = bldfc.sample(frac=0.80)"
   ]
  },
  {
   "cell_type": "code",
   "execution_count": 8,
   "id": "e41d6e90",
   "metadata": {},
   "outputs": [
    {
     "data": {
      "text/plain": [
       "(640, 14)"
      ]
     },
     "execution_count": 8,
     "metadata": {},
     "output_type": "execute_result"
    }
   ],
   "source": [
    "bl_train.shape"
   ]
  },
  {
   "cell_type": "code",
   "execution_count": 9,
   "id": "6f9d299b",
   "metadata": {},
   "outputs": [
    {
     "data": {
      "text/plain": [
       "(160, 14)"
      ]
     },
     "execution_count": 9,
     "metadata": {},
     "output_type": "execute_result"
    }
   ],
   "source": [
    "bl_unseen.shape"
   ]
  },
  {
   "cell_type": "code",
   "execution_count": 10,
   "id": "491602c4",
   "metadata": {},
   "outputs": [
    {
     "data": {
      "text/plain": [
       "Index(['id', 'age', 'experience', 'income', 'zip_code', 'family', 'ccavg',\n",
       "       'education', 'mortgage', 'personal_loan', 'securities_account',\n",
       "       'cd_account', 'online', 'creditcard'],\n",
       "      dtype='object')"
      ]
     },
     "execution_count": 10,
     "metadata": {},
     "output_type": "execute_result"
    }
   ],
   "source": [
    "bl_train.columns"
   ]
  },
  {
   "cell_type": "code",
   "execution_count": 11,
   "id": "d67da055",
   "metadata": {},
   "outputs": [
    {
     "data": {
      "text/html": [
       "<div>\n",
       "<style scoped>\n",
       "    .dataframe tbody tr th:only-of-type {\n",
       "        vertical-align: middle;\n",
       "    }\n",
       "\n",
       "    .dataframe tbody tr th {\n",
       "        vertical-align: top;\n",
       "    }\n",
       "\n",
       "    .dataframe thead th {\n",
       "        text-align: right;\n",
       "    }\n",
       "</style>\n",
       "<table border=\"1\" class=\"dataframe\">\n",
       "  <thead>\n",
       "    <tr style=\"text-align: right;\">\n",
       "      <th></th>\n",
       "      <th>count</th>\n",
       "      <th>mean</th>\n",
       "      <th>std</th>\n",
       "      <th>min</th>\n",
       "      <th>25%</th>\n",
       "      <th>50%</th>\n",
       "      <th>75%</th>\n",
       "      <th>max</th>\n",
       "    </tr>\n",
       "  </thead>\n",
       "  <tbody>\n",
       "    <tr>\n",
       "      <th>age</th>\n",
       "      <td>640.0</td>\n",
       "      <td>45.245312</td>\n",
       "      <td>11.652673</td>\n",
       "      <td>23.0</td>\n",
       "      <td>35.00</td>\n",
       "      <td>45.5</td>\n",
       "      <td>55.00</td>\n",
       "      <td>66.0</td>\n",
       "    </tr>\n",
       "    <tr>\n",
       "      <th>experience</th>\n",
       "      <td>640.0</td>\n",
       "      <td>20.007812</td>\n",
       "      <td>11.575496</td>\n",
       "      <td>-1.0</td>\n",
       "      <td>9.00</td>\n",
       "      <td>20.0</td>\n",
       "      <td>30.00</td>\n",
       "      <td>41.0</td>\n",
       "    </tr>\n",
       "    <tr>\n",
       "      <th>income</th>\n",
       "      <td>640.0</td>\n",
       "      <td>101.318750</td>\n",
       "      <td>53.133708</td>\n",
       "      <td>8.0</td>\n",
       "      <td>53.75</td>\n",
       "      <td>101.0</td>\n",
       "      <td>143.00</td>\n",
       "      <td>203.0</td>\n",
       "    </tr>\n",
       "    <tr>\n",
       "      <th>family</th>\n",
       "      <td>640.0</td>\n",
       "      <td>2.531250</td>\n",
       "      <td>1.167756</td>\n",
       "      <td>1.0</td>\n",
       "      <td>1.00</td>\n",
       "      <td>3.0</td>\n",
       "      <td>4.00</td>\n",
       "      <td>4.0</td>\n",
       "    </tr>\n",
       "    <tr>\n",
       "      <th>ccavg</th>\n",
       "      <td>640.0</td>\n",
       "      <td>2.680313</td>\n",
       "      <td>2.030453</td>\n",
       "      <td>0.0</td>\n",
       "      <td>1.00</td>\n",
       "      <td>2.3</td>\n",
       "      <td>3.90</td>\n",
       "      <td>10.0</td>\n",
       "    </tr>\n",
       "    <tr>\n",
       "      <th>education</th>\n",
       "      <td>640.0</td>\n",
       "      <td>2.034375</td>\n",
       "      <td>0.817688</td>\n",
       "      <td>1.0</td>\n",
       "      <td>1.00</td>\n",
       "      <td>2.0</td>\n",
       "      <td>3.00</td>\n",
       "      <td>3.0</td>\n",
       "    </tr>\n",
       "    <tr>\n",
       "      <th>mortgage</th>\n",
       "      <td>640.0</td>\n",
       "      <td>78.407813</td>\n",
       "      <td>130.156981</td>\n",
       "      <td>0.0</td>\n",
       "      <td>0.00</td>\n",
       "      <td>0.0</td>\n",
       "      <td>136.25</td>\n",
       "      <td>612.0</td>\n",
       "    </tr>\n",
       "    <tr>\n",
       "      <th>personal_loan</th>\n",
       "      <td>640.0</td>\n",
       "      <td>0.484375</td>\n",
       "      <td>0.500147</td>\n",
       "      <td>0.0</td>\n",
       "      <td>0.00</td>\n",
       "      <td>0.0</td>\n",
       "      <td>1.00</td>\n",
       "      <td>1.0</td>\n",
       "    </tr>\n",
       "    <tr>\n",
       "      <th>securities_account</th>\n",
       "      <td>640.0</td>\n",
       "      <td>0.129688</td>\n",
       "      <td>0.336222</td>\n",
       "      <td>0.0</td>\n",
       "      <td>0.00</td>\n",
       "      <td>0.0</td>\n",
       "      <td>0.00</td>\n",
       "      <td>1.0</td>\n",
       "    </tr>\n",
       "    <tr>\n",
       "      <th>cd_account</th>\n",
       "      <td>640.0</td>\n",
       "      <td>0.153125</td>\n",
       "      <td>0.360390</td>\n",
       "      <td>0.0</td>\n",
       "      <td>0.00</td>\n",
       "      <td>0.0</td>\n",
       "      <td>0.00</td>\n",
       "      <td>1.0</td>\n",
       "    </tr>\n",
       "    <tr>\n",
       "      <th>online</th>\n",
       "      <td>640.0</td>\n",
       "      <td>0.600000</td>\n",
       "      <td>0.490281</td>\n",
       "      <td>0.0</td>\n",
       "      <td>0.00</td>\n",
       "      <td>1.0</td>\n",
       "      <td>1.00</td>\n",
       "      <td>1.0</td>\n",
       "    </tr>\n",
       "    <tr>\n",
       "      <th>creditcard</th>\n",
       "      <td>640.0</td>\n",
       "      <td>0.289062</td>\n",
       "      <td>0.453682</td>\n",
       "      <td>0.0</td>\n",
       "      <td>0.00</td>\n",
       "      <td>0.0</td>\n",
       "      <td>1.00</td>\n",
       "      <td>1.0</td>\n",
       "    </tr>\n",
       "  </tbody>\n",
       "</table>\n",
       "</div>"
      ],
      "text/plain": [
       "                    count        mean         std   min    25%    50%     75%  \\\n",
       "age                 640.0   45.245312   11.652673  23.0  35.00   45.5   55.00   \n",
       "experience          640.0   20.007812   11.575496  -1.0   9.00   20.0   30.00   \n",
       "income              640.0  101.318750   53.133708   8.0  53.75  101.0  143.00   \n",
       "family              640.0    2.531250    1.167756   1.0   1.00    3.0    4.00   \n",
       "ccavg               640.0    2.680313    2.030453   0.0   1.00    2.3    3.90   \n",
       "education           640.0    2.034375    0.817688   1.0   1.00    2.0    3.00   \n",
       "mortgage            640.0   78.407813  130.156981   0.0   0.00    0.0  136.25   \n",
       "personal_loan       640.0    0.484375    0.500147   0.0   0.00    0.0    1.00   \n",
       "securities_account  640.0    0.129688    0.336222   0.0   0.00    0.0    0.00   \n",
       "cd_account          640.0    0.153125    0.360390   0.0   0.00    0.0    0.00   \n",
       "online              640.0    0.600000    0.490281   0.0   0.00    1.0    1.00   \n",
       "creditcard          640.0    0.289062    0.453682   0.0   0.00    0.0    1.00   \n",
       "\n",
       "                      max  \n",
       "age                  66.0  \n",
       "experience           41.0  \n",
       "income              203.0  \n",
       "family                4.0  \n",
       "ccavg                10.0  \n",
       "education             3.0  \n",
       "mortgage            612.0  \n",
       "personal_loan         1.0  \n",
       "securities_account    1.0  \n",
       "cd_account            1.0  \n",
       "online                1.0  \n",
       "creditcard            1.0  "
      ]
     },
     "execution_count": 11,
     "metadata": {},
     "output_type": "execute_result"
    }
   ],
   "source": [
    "bl_train.describe().T"
   ]
  },
  {
   "cell_type": "code",
   "execution_count": 12,
   "id": "de48302b",
   "metadata": {},
   "outputs": [],
   "source": [
    "#set target and preprocessing \n",
    "#Using all features\n",
    "\n",
    "target = 'personal_loan'\n",
    "\n",
    "features_all = ['age', 'experience', 'income', 'zip_code', 'family', 'ccavg',\n",
    "       'education', 'mortgage', 'securities_account',\n",
    "       'cd_account', 'online', 'creditcard']\n",
    "\n",
    "#Training set\n",
    "\n",
    "X = bl_train[features_all]\n",
    "y = bl_train[target]\n",
    "\n",
    "X_train, X_test, y_train, y_test = train_test_split(X, y, test_size=0.2, random_state=42)\n",
    "\n",
    "scaler = StandardScaler()\n",
    "\n",
    "scaler.fit(X_train)\n",
    "\n",
    "X_train_a = scaler.transform(X_train)\n",
    "X_test_a = scaler.transform(X_test)\n",
    "\n",
    "\n",
    "#Unseen set\n",
    "\n",
    "X_us = bl_unseen[features_all]\n",
    "y_us = bl_unseen[target]\n",
    "\n",
    "#Whole dataset\n",
    "X_wh = bl[features_all]\n",
    "y_wh = bl[target]"
   ]
  },
  {
   "cell_type": "code",
   "execution_count": 13,
   "id": "7531d2a8",
   "metadata": {},
   "outputs": [
    {
     "name": "stdout",
     "output_type": "stream",
     "text": [
      "              precision    recall  f1-score   support\n",
      "\n",
      "           0       0.90      0.88      0.89        69\n",
      "           1       0.87      0.88      0.87        59\n",
      "\n",
      "    accuracy                           0.88       128\n",
      "   macro avg       0.88      0.88      0.88       128\n",
      "weighted avg       0.88      0.88      0.88       128\n",
      "\n",
      "accuracy_train =  0.8750\n",
      "accuracy_test =  0.8828\n",
      "accuracy is =  0.8828125\n"
     ]
    },
    {
     "data": {
      "image/png": "[encoded data removed]",
      "text/plain": [
       "<Figure size 432x288 with 2 Axes>"
      ]
     },
     "metadata": {
      "image/png": {
       "height": 244,
       "width": 373
      },
      "needs_background": "light"
     },
     "output_type": "display_data"
    }
   ],
   "source": [
    "##Logistic Regression Model\n",
    "\n",
    "#Training set\n",
    "lg = LogisticRegression()\n",
    "lg.fit(X_train, y_train)\n",
    "\n",
    "y_pred = lg.predict(X_test)\n",
    "y_pp = lg.predict_proba(X_test)[:, 1]\n",
    "\n",
    "ac = accuracy_score(y_test, y_pred)\n",
    "cm = confusion_matrix(y_test, y_pred)\n",
    "sns.heatmap(cm, annot=True, fmt='d');\n",
    "print(classification_report(y_test, y_pred))\n",
    "    \n",
    "print('accuracy_train = {:7.4f}'.format(lg.score(X_train, y_train)))\n",
    "print('accuracy_test = {:7.4f}'.format(lg.score(X_test, y_test)))\n",
    "print('accuracy is = ', ac)"
   ]
  },
  {
   "cell_type": "code",
   "execution_count": 14,
   "id": "2ee871d1",
   "metadata": {},
   "outputs": [
    {
     "data": {
      "text/plain": [
       "array([[61,  8],\n",
       "       [ 7, 52]])"
      ]
     },
     "execution_count": 14,
     "metadata": {},
     "output_type": "execute_result"
    }
   ],
   "source": [
    "confusion_matrix()"
   ]
  },
  {
   "cell_type": "code",
   "execution_count": 15,
   "id": "fe9a0d96",
   "metadata": {},
   "outputs": [
    {
     "name": "stdout",
     "output_type": "stream",
     "text": [
      "              precision    recall  f1-score   support\n",
      "\n",
      "           0       0.90      0.85      0.87        78\n",
      "           1       0.86      0.91      0.89        82\n",
      "\n",
      "    accuracy                           0.88       160\n",
      "   macro avg       0.88      0.88      0.88       160\n",
      "weighted avg       0.88      0.88      0.88       160\n",
      "\n",
      "accuracy_unseen =  0.8812\n",
      "accuracy is =  0.88125\n"
     ]
    },
    {
     "data": {
      "image/png": "[encoded data removed]",
      "text/plain": [
       "<Figure size 432x288 with 2 Axes>"
      ]
     },
     "metadata": {
      "image/png": {
       "height": 244,
       "width": 373
      },
      "needs_background": "light"
     },
     "output_type": "display_data"
    }
   ],
   "source": [
    "#Unseen set\n",
    "\n",
    "lg.fit(X_us, y_us)\n",
    "\n",
    "y_pred_us = lg.predict(X_us)\n",
    "y_pp_us = lg.predict_proba(X_us)[:, 1]\n",
    "\n",
    "ac_us = accuracy_score(y_us, y_pred_us)\n",
    "cm_us = confusion_matrix(y_us, y_pred_us)\n",
    "sns.heatmap(cm_us, annot=True, fmt='d');\n",
    "print(classification_report(y_us, y_pred_us))\n",
    "    \n",
    "print('accuracy_unseen = {:7.4f}'.format(lg.score(X_us, y_us)))\n",
    "print('accuracy is = ', ac_us)"
   ]
  },
  {
   "cell_type": "code",
   "execution_count": 16,
   "id": "8469de2d",
   "metadata": {},
   "outputs": [
    {
     "data": {
      "text/plain": [
       "array([[66, 12],\n",
       "       [ 7, 75]])"
      ]
     },
     "execution_count": 16,
     "metadata": {},
     "output_type": "execute_result"
    }
   ],
   "source": [
    "cm_us"
   ]
  },
  {
   "cell_type": "code",
   "execution_count": null,
   "id": "fcdd0e86",
   "metadata": {},
   "outputs": [],
   "source": []
  },
  {
   "cell_type": "code",
   "execution_count": null,
   "id": "d80f4098",
   "metadata": {},
   "outputs": [],
   "source": []
  },
  {
   "cell_type": "code",
   "execution_count": null,
   "id": "76179ed2",
   "metadata": {},
   "outputs": [],
   "source": []
  },
  {
   "cell_type": "code",
   "execution_count": null,
   "id": "62c993bc",
   "metadata": {},
   "outputs": [],
   "source": []
  },
  {
   "cell_type": "code",
   "execution_count": null,
   "id": "76e90c9a",
   "metadata": {},
   "outputs": [],
   "source": []
  },
  {
   "cell_type": "code",
   "execution_count": null,
   "id": "ab06cd9c",
   "metadata": {},
   "outputs": [],
   "source": []
  }
 ],
 "metadata": {
  "kernelspec": {
   "display_name": "Python 3 (ipykernel)",
   "language": "python",
   "name": "python3"
  },
  "language_info": {
   "codemirror_mode": {
    "name": "ipython",
    "version": 3
   },
   "file_extension": ".py",
   "mimetype": "text/x-python",
   "name": "python",
   "nbconvert_exporter": "python",
   "pygments_lexer": "ipython3",
   "version": "3.8.13"
  }
 },
 "nbformat": 4,
 "nbformat_minor": 5
}
