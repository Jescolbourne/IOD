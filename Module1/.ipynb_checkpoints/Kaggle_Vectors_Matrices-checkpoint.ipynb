{
 "cells": [
  {
   "cell_type": "code",
   "execution_count": 3,
   "id": "9a4ee3f1",
   "metadata": {
    "scrolled": true
   },
   "outputs": [],
   "source": [
    "Introduction to NumPy: Vectors and Matrices"
   ]
  },
  {
   "cell_type": "code",
   "execution_count": null,
   "id": "3e0e8395",
   "metadata": {},
   "outputs": [],
   "source": [
    "Vectors and Matrices\n",
    "Vectors\n",
    "A vector has magnitude (size) and direction\n",
    "Use NumPy to create a one-dimensional array\n",
    "Vector can be created as row or column using NumPy"
   ]
  },
  {
   "cell_type": "code",
   "execution_count": 4,
   "id": "fc2d355c",
   "metadata": {},
   "outputs": [],
   "source": [
    "#Load NumPy Library \n",
    "import numpy as np "
   ]
  },
  {
   "cell_type": "code",
   "execution_count": 5,
   "id": "3efe295e",
   "metadata": {},
   "outputs": [
    {
     "name": "stdout",
     "output_type": "stream",
     "text": [
      "[1 2 3]\n"
     ]
    }
   ],
   "source": [
    "#Create a vector as row \n",
    "vector_row = np.array([1, 2, 3])\n",
    "print(vector_row) "
   ]
  },
  {
   "cell_type": "code",
   "execution_count": 6,
   "id": "2f80c3f9",
   "metadata": {},
   "outputs": [
    {
     "name": "stdout",
     "output_type": "stream",
     "text": [
      "[[1]\n",
      " [2]\n",
      " [3]]\n"
     ]
    }
   ],
   "source": [
    "#Create a vector as column \n",
    "vector_column = np.array([[1], [2], [3]]) \n",
    "print(vector_column) "
   ]
  },
  {
   "cell_type": "code",
   "execution_count": null,
   "id": "74fab4b9",
   "metadata": {},
   "outputs": [],
   "source": [
    "Matrix\n",
    "In mathematics, a matrix is a rectangular array of numbers, symbols, or expressions, arranged in rows and columns\n",
    "Rows tun horizontally and columns run vertically\n",
    "Use NumPy to create a two-dimensional array"
   ]
  },
  {
   "cell_type": "code",
   "execution_count": null,
   "id": "6055aebc",
   "metadata": {},
   "outputs": [],
   "source": [
    "Matrix Order\n",
    "You can think of an  𝑟𝑥𝑐  matrix as a set of r row vectors, each having c elements; or you can think of it as a set of c column vectors, each having r elements.\n",
    "The rank of a matrix is defined as (a) the maximum number of linearly independent column vectors in the matrix or (b) the maximum number of linearly independent row vectors in the matrix. Both definitions are equivalent.\n",
    "If r is less than c, then the maximum rank of the matrix is r.\n",
    "If r is greater than c, then the maximum rank of the matrix is c."
   ]
  },
  {
   "cell_type": "code",
   "execution_count": null,
   "id": "2121a1c2",
   "metadata": {},
   "outputs": [],
   "source": [
    "Create a matrix using matrix()\n",
    "Returns a matrix from an array type object ir string of data.\n",
    "Syntax: np.matrix(data)\n"
   ]
  },
  {
   "cell_type": "code",
   "execution_count": 7,
   "id": "e46268e1",
   "metadata": {},
   "outputs": [
    {
     "name": "stdout",
     "output_type": "stream",
     "text": [
      "[[ 1  2  3  4]\n",
      " [ 4  5  6  7]\n",
      " [ 7  8  9 10]]\n"
     ]
    }
   ],
   "source": [
    "mat1 = np.matrix(\"1, 2, 3, 4; 4, 5, 6, 7; 7, 8, 9, 10\")\n",
    "print(mat1)"
   ]
  },
  {
   "cell_type": "code",
   "execution_count": null,
   "id": "cc0d1168",
   "metadata": {},
   "outputs": [],
   "source": [
    "Create a using array()\n",
    "Returns a matrix\n",
    "Syntax: np.array(object)\n"
   ]
  },
  {
   "cell_type": "code",
   "execution_count": 8,
   "id": "b18facd9",
   "metadata": {},
   "outputs": [
    {
     "name": "stdout",
     "output_type": "stream",
     "text": [
      "[[1 2]\n",
      " [3 4]\n",
      " [4 6]]\n"
     ]
    }
   ],
   "source": [
    "mat2 = np.array([[1, 2], [3,4], [4, 6]])\n",
    "print(mat2) "
   ]
  },
  {
   "cell_type": "code",
   "execution_count": null,
   "id": "37089afc",
   "metadata": {},
   "outputs": [],
   "source": [
    "Matrix Properties\n",
    "Shape\n",
    "Returns number of rows and columns from a matrix\n",
    "Syntax: mat.shape\n",
    "shape[0] - returns the number of rows\n",
    "shape[1] - returns the number of columns\n"
   ]
  },
  {
   "cell_type": "code",
   "execution_count": 9,
   "id": "8ad9cd94",
   "metadata": {},
   "outputs": [],
   "source": [
    "mat3 = np.matrix(\"1, 2, 3, 4; 4, 5, 6, 7; 7, 8, 9, 10\")"
   ]
  },
  {
   "cell_type": "code",
   "execution_count": 10,
   "id": "279a6480",
   "metadata": {},
   "outputs": [
    {
     "data": {
      "text/plain": [
       "(3, 4)"
      ]
     },
     "execution_count": 10,
     "metadata": {},
     "output_type": "execute_result"
    }
   ],
   "source": [
    "# shape \n",
    "mat3.shape"
   ]
  },
  {
   "cell_type": "code",
   "execution_count": 11,
   "id": "a899523e",
   "metadata": {},
   "outputs": [
    {
     "data": {
      "text/plain": [
       "3"
      ]
     },
     "execution_count": 11,
     "metadata": {},
     "output_type": "execute_result"
    }
   ],
   "source": [
    "# rows \n",
    "mat3.shape[0]"
   ]
  },
  {
   "cell_type": "code",
   "execution_count": 12,
   "id": "0e3f478e",
   "metadata": {},
   "outputs": [
    {
     "data": {
      "text/plain": [
       "4"
      ]
     },
     "execution_count": 12,
     "metadata": {},
     "output_type": "execute_result"
    }
   ],
   "source": [
    "# columns \n",
    "mat3.shape[1]"
   ]
  },
  {
   "cell_type": "code",
   "execution_count": null,
   "id": "fb0a4ee6",
   "metadata": {},
   "outputs": [],
   "source": [
    "Size\n",
    "Returns the number of elements from a matrix\n",
    "Syntax: array.size"
   ]
  },
  {
   "cell_type": "code",
   "execution_count": 13,
   "id": "1ca13a78",
   "metadata": {},
   "outputs": [],
   "source": [
    "mat4 = np.matrix(\"1, 2, 3, 4; 4, 5, 6, 7; 7, 8, 9, 10\")"
   ]
  },
  {
   "cell_type": "code",
   "execution_count": 14,
   "id": "8a859d1e",
   "metadata": {},
   "outputs": [
    {
     "data": {
      "text/plain": [
       "12"
      ]
     },
     "execution_count": 14,
     "metadata": {},
     "output_type": "execute_result"
    }
   ],
   "source": [
    "# size \n",
    "mat4.size"
   ]
  },
  {
   "cell_type": "code",
   "execution_count": null,
   "id": "19d1baf4",
   "metadata": {},
   "outputs": [],
   "source": [
    "Modifying matrix using insert()\n",
    "Adds values at a given position and axis in a matrix\n",
    "Syntax: np.insert(matrix, object, values, axis)\n",
    "matrix - input matrix\n",
    "object - index position\n",
    "values - matrix of values to be inserted"
   ]
  },
  {
   "cell_type": "code",
   "execution_count": 15,
   "id": "bf51912d",
   "metadata": {},
   "outputs": [
    {
     "name": "stdout",
     "output_type": "stream",
     "text": [
      "[[ 1  2  3  4]\n",
      " [ 4  5  6  7]\n",
      " [ 7  8  9 10]]\n"
     ]
    }
   ],
   "source": [
    "mat5 = np.matrix(\"1, 2, 3, 4; 4, 5, 6, 7; 7, 8, 9, 10\")\n",
    "print(mat5)"
   ]
  },
  {
   "cell_type": "code",
   "execution_count": 16,
   "id": "ed6ea5ed",
   "metadata": {},
   "outputs": [
    {
     "name": "stdout",
     "output_type": "stream",
     "text": [
      "[[1 1 1]]\n"
     ]
    }
   ],
   "source": [
    "# adding a new matrix `col_new` as a new column to mat5\n",
    "col_new = np.matrix(\"1, 1, 1\")\n",
    "print(col_new)"
   ]
  },
  {
   "cell_type": "code",
   "execution_count": 17,
   "id": "59129fe5",
   "metadata": {},
   "outputs": [
    {
     "name": "stdout",
     "output_type": "stream",
     "text": [
      "[[ 1  1  2  3  4]\n",
      " [ 1  4  5  6  7]\n",
      " [ 1  7  8  9 10]]\n"
     ]
    }
   ],
   "source": [
    "# insert at column \n",
    "mat6 = np.insert(mat5, 0, col_new, axis=1)\n",
    "print(mat6) "
   ]
  },
  {
   "cell_type": "code",
   "execution_count": 18,
   "id": "ffb4a061",
   "metadata": {},
   "outputs": [
    {
     "name": "stdout",
     "output_type": "stream",
     "text": [
      "[[0 0 0 0]]\n"
     ]
    }
   ],
   "source": [
    "# adding a new matrix `row_new` as a new row to mat5\n",
    "row_new = np.matrix(\"0, 0, 0, 0\")\n",
    "print(row_new)"
   ]
  },
  {
   "cell_type": "code",
   "execution_count": 19,
   "id": "d75d926f",
   "metadata": {},
   "outputs": [
    {
     "name": "stdout",
     "output_type": "stream",
     "text": [
      "[[ 0  0  0  0]\n",
      " [ 1  2  3  4]\n",
      " [ 4  5  6  7]\n",
      " [ 7  8  9 10]]\n"
     ]
    }
   ],
   "source": [
    "# insert at row \n",
    "mat7 = np.insert(mat5, 0, row_new, axis=0)\n",
    "print(mat7)"
   ]
  },
  {
   "cell_type": "code",
   "execution_count": null,
   "id": "102c3681",
   "metadata": {},
   "outputs": [],
   "source": [
    "Modifying matrix using index\n",
    "Elements of matrix can be modified using index number\n",
    "Syntax:: mat[row_index, col_index)"
   ]
  },
  {
   "cell_type": "code",
   "execution_count": 20,
   "id": "f7dd7397",
   "metadata": {},
   "outputs": [
    {
     "name": "stdout",
     "output_type": "stream",
     "text": [
      "[[ 1  2  3  4  5]\n",
      " [ 5  6  7  8  9]\n",
      " [ 9 10 11 12 13]]\n"
     ]
    }
   ],
   "source": [
    "mat_a = np.matrix(\"1, 2, 3, 4, 5; 5, 6, 7, 8, 9; 9, 10, 11, 12, 13\")\n",
    "print(mat_a)"
   ]
  },
  {
   "cell_type": "code",
   "execution_count": 23,
   "id": "9c6ea8e9",
   "metadata": {},
   "outputs": [],
   "source": [
    "# change 6 with 0 \n",
    "mat_a[1, 1] = 0 "
   ]
  },
  {
   "cell_type": "code",
   "execution_count": 24,
   "id": "68dae4fc",
   "metadata": {},
   "outputs": [
    {
     "name": "stdout",
     "output_type": "stream",
     "text": [
      "[[ 1  2  3  4  5]\n",
      " [ 5  0  7  8  9]\n",
      " [ 9 10 11 12 13]]\n"
     ]
    }
   ],
   "source": [
    "# show mat_a \n",
    "print(mat_a)"
   ]
  },
  {
   "cell_type": "code",
   "execution_count": 25,
   "id": "f37ce241",
   "metadata": {},
   "outputs": [
    {
     "data": {
      "text/plain": [
       "matrix([[5, 0, 7, 8, 9]])"
      ]
     },
     "execution_count": 25,
     "metadata": {},
     "output_type": "execute_result"
    }
   ],
   "source": [
    "# extract 2nd row \n",
    "mat_a[1, :]"
   ]
  },
  {
   "cell_type": "code",
   "execution_count": 26,
   "id": "088b2fe8",
   "metadata": {},
   "outputs": [
    {
     "data": {
      "text/plain": [
       "matrix([[ 3],\n",
       "        [ 7],\n",
       "        [11]])"
      ]
     },
     "execution_count": 26,
     "metadata": {},
     "output_type": "execute_result"
    }
   ],
   "source": [
    "# extract 3rd column\n",
    "mat_a[:, 2]"
   ]
  },
  {
   "cell_type": "code",
   "execution_count": 27,
   "id": "2fa3938f",
   "metadata": {},
   "outputs": [
    {
     "data": {
      "text/plain": [
       "7"
      ]
     },
     "execution_count": 27,
     "metadata": {},
     "output_type": "execute_result"
    }
   ],
   "source": [
    "# extract elements \n",
    "mat_a[1, 2]"
   ]
  },
  {
   "cell_type": "code",
   "execution_count": null,
   "id": "c65e269d",
   "metadata": {},
   "outputs": [],
   "source": [
    "Matrix Operations"
   ]
  },
  {
   "cell_type": "code",
   "execution_count": 28,
   "id": "8137103d",
   "metadata": {},
   "outputs": [
    {
     "name": "stdout",
     "output_type": "stream",
     "text": [
      "[[ 0  1  2  3]\n",
      " [ 4  5  6  7]\n",
      " [ 8  9 10 11]\n",
      " [12 13 14 15]\n",
      " [16 17 18 19]]\n"
     ]
    }
   ],
   "source": [
    "A = np.arange(0, 20).reshape(5,4)\n",
    "print(A)"
   ]
  },
  {
   "cell_type": "code",
   "execution_count": 29,
   "id": "eeb3c396",
   "metadata": {},
   "outputs": [
    {
     "name": "stdout",
     "output_type": "stream",
     "text": [
      "[[20 21 22 23]\n",
      " [24 25 26 27]\n",
      " [28 29 30 31]\n",
      " [32 33 34 35]\n",
      " [36 37 38 39]]\n"
     ]
    }
   ],
   "source": [
    "B = np.arange(20, 40).reshape(5,4)\n",
    "print(B)"
   ]
  },
  {
   "cell_type": "code",
   "execution_count": null,
   "id": "a36e9054",
   "metadata": {},
   "outputs": [],
   "source": [
    "Addition\n",
    "np.add()- performs element-wise addition between two matrices\n",
    "Syntax: np.add(matrix_1, matrix_2)"
   ]
  },
  {
   "cell_type": "code",
   "execution_count": 30,
   "id": "b65da6d8",
   "metadata": {},
   "outputs": [
    {
     "data": {
      "text/plain": [
       "array([[20, 22, 24, 26],\n",
       "       [28, 30, 32, 34],\n",
       "       [36, 38, 40, 42],\n",
       "       [44, 46, 48, 50],\n",
       "       [52, 54, 56, 58]])"
      ]
     },
     "execution_count": 30,
     "metadata": {},
     "output_type": "execute_result"
    }
   ],
   "source": [
    "# addition \n",
    "np.add(A, B)"
   ]
  },
  {
   "cell_type": "code",
   "execution_count": null,
   "id": "ffcc7d78",
   "metadata": {},
   "outputs": [],
   "source": [
    "Subtraction\n",
    "np.subtract() - performs element-wise subtraction between two matrices.\n",
    "Syntax: np.subtract(matrix_1, matrix_2)"
   ]
  },
  {
   "cell_type": "code",
   "execution_count": 31,
   "id": "663913ab",
   "metadata": {},
   "outputs": [
    {
     "data": {
      "text/plain": [
       "array([[-20, -20, -20, -20],\n",
       "       [-20, -20, -20, -20],\n",
       "       [-20, -20, -20, -20],\n",
       "       [-20, -20, -20, -20],\n",
       "       [-20, -20, -20, -20]])"
      ]
     },
     "execution_count": 31,
     "metadata": {},
     "output_type": "execute_result"
    }
   ],
   "source": [
    "# subtraction \n",
    "np.subtract(A,B)"
   ]
  },
  {
   "cell_type": "code",
   "execution_count": null,
   "id": "c81c2aac",
   "metadata": {},
   "outputs": [],
   "source": [
    "Transpose\n",
    "np.transpose() - Permute the dimensions of an array.\n",
    "Transposing an  𝑀×𝑁  matrix flips it around the center diagonal and results in an  𝑁×𝑀  matrix.\n",
    "Syntax: np.transpose(matrix)"
   ]
  },
  {
   "cell_type": "code",
   "execution_count": 32,
   "id": "fef0437a",
   "metadata": {},
   "outputs": [
    {
     "name": "stdout",
     "output_type": "stream",
     "text": [
      "[[ 0  1  2  3]\n",
      " [ 4  5  6  7]\n",
      " [ 8  9 10 11]\n",
      " [12 13 14 15]\n",
      " [16 17 18 19]]\n"
     ]
    }
   ],
   "source": [
    "A = np.arange(0, 20).reshape(5,4)\n",
    "print(A)"
   ]
  },
  {
   "cell_type": "code",
   "execution_count": 35,
   "id": "8da09efb",
   "metadata": {
    "scrolled": true
   },
   "outputs": [
    {
     "data": {
      "text/plain": [
       "array([[ 0,  4,  8, 12, 16],\n",
       "       [ 1,  5,  9, 13, 17],\n",
       "       [ 2,  6, 10, 14, 18],\n",
       "       [ 3,  7, 11, 15, 19]])"
      ]
     },
     "execution_count": 35,
     "metadata": {},
     "output_type": "execute_result"
    }
   ],
   "source": [
    "# transpose \n",
    "np.transpose(A)"
   ]
  },
  {
   "cell_type": "code",
   "execution_count": null,
   "id": "14998adf",
   "metadata": {},
   "outputs": [],
   "source": [
    "Multiplication\n",
    "np.dot() - performs matrix multiplication between two matrices.\n",
    "Syntax: np.dot(matrix_1, matrix_2)"
   ]
  },
  {
   "cell_type": "code",
   "execution_count": 37,
   "id": "703dddd4",
   "metadata": {},
   "outputs": [
    {
     "ename": "ValueError",
     "evalue": "shapes (5,4) and (5,4) not aligned: 4 (dim 1) != 5 (dim 0)",
     "output_type": "error",
     "traceback": [
      "\u001b[0;31m---------------------------------------------------------------------------\u001b[0m",
      "\u001b[0;31mValueError\u001b[0m                                Traceback (most recent call last)",
      "Input \u001b[0;32mIn [37]\u001b[0m, in \u001b[0;36m<cell line: 2>\u001b[0;34m()\u001b[0m\n\u001b[1;32m      1\u001b[0m \u001b[38;5;66;03m# multiplication\u001b[39;00m\n\u001b[0;32m----> 2\u001b[0m \u001b[43mnp\u001b[49m\u001b[38;5;241;43m.\u001b[39;49m\u001b[43mdot\u001b[49m\u001b[43m(\u001b[49m\u001b[43mA\u001b[49m\u001b[43m,\u001b[49m\u001b[43mB\u001b[49m\u001b[43m)\u001b[49m\n",
      "\u001b[0;31mValueError\u001b[0m: shapes (5,4) and (5,4) not aligned: 4 (dim 1) != 5 (dim 0)"
     ]
    }
   ],
   "source": [
    "# multiplication\n",
    "np.dot(A,B) "
   ]
  },
  {
   "cell_type": "code",
   "execution_count": null,
   "id": "d128526f",
   "metadata": {},
   "outputs": [],
   "source": [
    "Note\n",
    "\n",
    "For matrix multiplication the number of columns in matrix  𝐴  should be equal to the number of rows in matrix  𝐵 \n",
    "Here, Order of matrix  𝐴  =  5×4  and order of matrix  𝐵  =  5×4 \n",
    "So,  5≠4 \n",
    "That's why it shows ValueError: shapes (5,4) and (5,4) not aligned: 4 (dim 1) != 5 (dim 0)"
   ]
  },
  {
   "cell_type": "code",
   "execution_count": 38,
   "id": "18431bb8",
   "metadata": {},
   "outputs": [
    {
     "name": "stdout",
     "output_type": "stream",
     "text": [
      "[[20 24 28 32 36]\n",
      " [21 25 29 33 37]\n",
      " [22 26 30 34 38]\n",
      " [23 27 31 35 39]]\n"
     ]
    }
   ],
   "source": [
    "# transpose matrix B to make it 4x5 in dimension\n",
    "T = np.transpose(B)\n",
    "print(T)"
   ]
  },
  {
   "cell_type": "code",
   "execution_count": 39,
   "id": "f9c0b0ab",
   "metadata": {},
   "outputs": [
    {
     "data": {
      "text/plain": [
       "array([[ 134,  158,  182,  206,  230],\n",
       "       [ 478,  566,  654,  742,  830],\n",
       "       [ 822,  974, 1126, 1278, 1430],\n",
       "       [1166, 1382, 1598, 1814, 2030],\n",
       "       [1510, 1790, 2070, 2350, 2630]])"
      ]
     },
     "execution_count": 39,
     "metadata": {},
     "output_type": "execute_result"
    }
   ],
   "source": [
    "# now we can perform multiplication\n",
    "np.dot(A,T)"
   ]
  },
  {
   "cell_type": "code",
   "execution_count": 40,
   "id": "ec695484",
   "metadata": {},
   "outputs": [
    {
     "data": {
      "text/plain": [
       "array([[ 134,  158,  182,  206,  230],\n",
       "       [ 478,  566,  654,  742,  830],\n",
       "       [ 822,  974, 1126, 1278, 1430],\n",
       "       [1166, 1382, 1598, 1814, 2030],\n",
       "       [1510, 1790, 2070, 2350, 2630]])"
      ]
     },
     "execution_count": 40,
     "metadata": {},
     "output_type": "execute_result"
    }
   ],
   "source": [
    "# using matmul \n",
    "np.matmul(A, T)"
   ]
  },
  {
   "cell_type": "code",
   "execution_count": 41,
   "id": "466fe0b7",
   "metadata": {},
   "outputs": [
    {
     "data": {
      "text/plain": [
       "array([[ 134,  158,  182,  206,  230],\n",
       "       [ 478,  566,  654,  742,  830],\n",
       "       [ 822,  974, 1126, 1278, 1430],\n",
       "       [1166, 1382, 1598, 1814, 2030],\n",
       "       [1510, 1790, 2070, 2350, 2630]])"
      ]
     },
     "execution_count": 41,
     "metadata": {},
     "output_type": "execute_result"
    }
   ],
   "source": [
    "# using @ operator \n",
    "A @ T "
   ]
  },
  {
   "cell_type": "code",
   "execution_count": null,
   "id": "de2307af",
   "metadata": {},
   "outputs": [],
   "source": [
    "Element-wise multiplication\n",
    "np.multiply() - performs element-wise multiplication between two matrices.\n",
    "Syntax: np.multiply(matrix1, matrix2)"
   ]
  },
  {
   "cell_type": "code",
   "execution_count": 42,
   "id": "eb1dc1e2",
   "metadata": {},
   "outputs": [
    {
     "data": {
      "text/plain": [
       "array([[  0,  21,  44,  69],\n",
       "       [ 96, 125, 156, 189],\n",
       "       [224, 261, 300, 341],\n",
       "       [384, 429, 476, 525],\n",
       "       [576, 629, 684, 741]])"
      ]
     },
     "execution_count": 42,
     "metadata": {},
     "output_type": "execute_result"
    }
   ],
   "source": [
    "# element-wise multiplication \n",
    "np.multiply(A, B)"
   ]
  },
  {
   "cell_type": "code",
   "execution_count": null,
   "id": "c452a6f1",
   "metadata": {},
   "outputs": [],
   "source": [
    "Division\n",
    "np.divide() - performs element-wise division between two matrices.\n",
    "Syntax: np.divide(matrix_1, matrix_2)"
   ]
  },
  {
   "cell_type": "code",
   "execution_count": 43,
   "id": "e4fbb4b0",
   "metadata": {},
   "outputs": [
    {
     "data": {
      "text/plain": [
       "array([[0.        , 0.04761905, 0.09090909, 0.13043478],\n",
       "       [0.16666667, 0.2       , 0.23076923, 0.25925926],\n",
       "       [0.28571429, 0.31034483, 0.33333333, 0.35483871],\n",
       "       [0.375     , 0.39393939, 0.41176471, 0.42857143],\n",
       "       [0.44444444, 0.45945946, 0.47368421, 0.48717949]])"
      ]
     },
     "execution_count": 43,
     "metadata": {},
     "output_type": "execute_result"
    }
   ],
   "source": [
    "# division\n",
    "np.divide(A, B)"
   ]
  },
  {
   "cell_type": "code",
   "execution_count": null,
   "id": "0cabc7c6",
   "metadata": {},
   "outputs": [],
   "source": [
    "References\n",
    "[1]https://numpy.org/\n",
    "[2]https://www.edureka.co/blog/python-numpy-tutorial/\n",
    "[3]https://github.com/enthought/Numpy-Tutorial-SciPyConf-2019\n",
    "[4]https://arm-software.github.io/CMSIS_5/DSP/html/group__groupMatrix.html"
   ]
  }
 ],
 "metadata": {
  "kernelspec": {
   "display_name": "Python 3 (ipykernel)",
   "language": "python",
   "name": "python3"
  },
  "language_info": {
   "codemirror_mode": {
    "name": "ipython",
    "version": 3
   },
   "file_extension": ".py",
   "mimetype": "text/x-python",
   "name": "python",
   "nbconvert_exporter": "python",
   "pygments_lexer": "ipython3",
   "version": "3.8.13"
  }
 },
 "nbformat": 4,
 "nbformat_minor": 5
}
