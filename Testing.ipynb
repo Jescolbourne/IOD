{
 "cells": [
  {
   "cell_type": "markdown",
   "id": "a31d31e6-0d31-4af6-aff7-6388b1af4fdf",
   "metadata": {},
   "source": [
    "# Testing Lab"
   ]
  },
  {
   "cell_type": "markdown",
   "id": "3eb7a66f-7c79-4cf4-bfd8-08106e8fa082",
   "metadata": {},
   "source": [
    "### Test from Jes"
   ]
  },
  {
   "cell_type": "code",
   "execution_count": 5,
   "id": "a17042db-db42-4b4f-8d6e-86fce525703c",
   "metadata": {},
   "outputs": [],
   "source": [
    "a = 10"
   ]
  },
  {
   "cell_type": "code",
   "execution_count": 6,
   "id": "64166f3f-7c46-48a4-a602-b84c92d91da4",
   "metadata": {},
   "outputs": [],
   "source": [
    "#a+b just to try\n",
    "b = 16"
   ]
  },
  {
   "cell_type": "code",
   "execution_count": 7,
   "id": "208266f2-c918-4cba-87b6-caa22fd771bf",
   "metadata": {},
   "outputs": [
    {
     "data": {
      "text/plain": [
       "26"
      ]
     },
     "execution_count": 7,
     "metadata": {},
     "output_type": "execute_result"
    }
   ],
   "source": [
    "a + b"
   ]
  },
  {
   "cell_type": "code",
   "execution_count": 4,
   "id": "a5e5f56f-a9ca-4219-8c31-0f405621a4bd",
   "metadata": {},
   "outputs": [
    {
     "name": "stdout",
     "output_type": "stream",
     "text": [
      "26\n"
     ]
    }
   ],
   "source": [
    "print(a+b)"
   ]
  },
  {
   "cell_type": "code",
   "execution_count": null,
   "id": "a1421d09-7375-4c05-9eeb-82c59721d2fa",
   "metadata": {},
   "outputs": [],
   "source": []
  }
 ],
 "metadata": {
  "kernelspec": {
   "display_name": "Python 3 (ipykernel)",
   "language": "python",
   "name": "python3"
  },
  "language_info": {
   "codemirror_mode": {
    "name": "ipython",
    "version": 3
   },
   "file_extension": ".py",
   "mimetype": "text/x-python",
   "name": "python",
   "nbconvert_exporter": "python",
   "pygments_lexer": "ipython3",
   "version": "3.9.12"
  }
 },
 "nbformat": 4,
 "nbformat_minor": 5
}
