{
 "cells": [
  {
   "cell_type": "code",
   "execution_count": 11,
   "id": "2a5f7ad9",
   "metadata": {},
   "outputs": [],
   "source": [
    "import numpy as np\n",
    "import pandas as pd\n",
    "import math\n",
    "from scipy import stats\n",
    "import seaborn as sns\n",
    "from matplotlib import pyplot as plt\n",
    "import matplotlib.pylab as pylab\n",
    "from sklearn.neural_network import MLPClassifier\n",
    "\n",
    "%matplotlib inline"
   ]
  },
  {
   "cell_type": "code",
   "execution_count": 12,
   "id": "e8e94e16",
   "metadata": {},
   "outputs": [
    {
     "name": "stdout",
     "output_type": "stream",
     "text": [
      "<class 'pandas.core.frame.DataFrame'>\n",
      "RangeIndex: 768 entries, 0 to 767\n",
      "Data columns (total 9 columns):\n",
      " #   Column                    Non-Null Count  Dtype  \n",
      "---  ------                    --------------  -----  \n",
      " 0   Pregnancies               768 non-null    int64  \n",
      " 1   Glucose                   768 non-null    int64  \n",
      " 2   BloodPressure             768 non-null    int64  \n",
      " 3   SkinThickness             768 non-null    int64  \n",
      " 4   Insulin                   768 non-null    int64  \n",
      " 5   BMI                       768 non-null    float64\n",
      " 6   DiabetesPedigreeFunction  768 non-null    float64\n",
      " 7   Age                       768 non-null    int64  \n",
      " 8   Outcome                   768 non-null    int64  \n",
      "dtypes: float64(2), int64(7)\n",
      "memory usage: 54.1 KB\n"
     ]
    }
   ],
   "source": [
    "d = pd.read_csv('diabetes.csv')\n",
    "d.info()"
   ]
  },
  {
   "cell_type": "code",
   "execution_count": 14,
   "id": "d441f4f8",
   "metadata": {
    "scrolled": true
   },
   "outputs": [
    {
     "data": {
      "text/html": [
       "<div>\n",
       "<style scoped>\n",
       "    .dataframe tbody tr th:only-of-type {\n",
       "        vertical-align: middle;\n",
       "    }\n",
       "\n",
       "    .dataframe tbody tr th {\n",
       "        vertical-align: top;\n",
       "    }\n",
       "\n",
       "    .dataframe thead th {\n",
       "        text-align: right;\n",
       "    }\n",
       "</style>\n",
       "<table border=\"1\" class=\"dataframe\">\n",
       "  <thead>\n",
       "    <tr style=\"text-align: right;\">\n",
       "      <th></th>\n",
       "      <th>Pregnancies</th>\n",
       "      <th>Glucose</th>\n",
       "      <th>BloodPressure</th>\n",
       "      <th>SkinThickness</th>\n",
       "      <th>Insulin</th>\n",
       "      <th>BMI</th>\n",
       "      <th>DiabetesPedigreeFunction</th>\n",
       "      <th>Age</th>\n",
       "      <th>Outcome</th>\n",
       "    </tr>\n",
       "  </thead>\n",
       "  <tbody>\n",
       "    <tr>\n",
       "      <th>0</th>\n",
       "      <td>6</td>\n",
       "      <td>148</td>\n",
       "      <td>72</td>\n",
       "      <td>35</td>\n",
       "      <td>0</td>\n",
       "      <td>33.6</td>\n",
       "      <td>0.627</td>\n",
       "      <td>50</td>\n",
       "      <td>1</td>\n",
       "    </tr>\n",
       "    <tr>\n",
       "      <th>1</th>\n",
       "      <td>1</td>\n",
       "      <td>85</td>\n",
       "      <td>66</td>\n",
       "      <td>29</td>\n",
       "      <td>0</td>\n",
       "      <td>26.6</td>\n",
       "      <td>0.351</td>\n",
       "      <td>31</td>\n",
       "      <td>0</td>\n",
       "    </tr>\n",
       "    <tr>\n",
       "      <th>2</th>\n",
       "      <td>8</td>\n",
       "      <td>183</td>\n",
       "      <td>64</td>\n",
       "      <td>0</td>\n",
       "      <td>0</td>\n",
       "      <td>23.3</td>\n",
       "      <td>0.672</td>\n",
       "      <td>32</td>\n",
       "      <td>1</td>\n",
       "    </tr>\n",
       "    <tr>\n",
       "      <th>3</th>\n",
       "      <td>1</td>\n",
       "      <td>89</td>\n",
       "      <td>66</td>\n",
       "      <td>23</td>\n",
       "      <td>94</td>\n",
       "      <td>28.1</td>\n",
       "      <td>0.167</td>\n",
       "      <td>21</td>\n",
       "      <td>0</td>\n",
       "    </tr>\n",
       "    <tr>\n",
       "      <th>4</th>\n",
       "      <td>0</td>\n",
       "      <td>137</td>\n",
       "      <td>40</td>\n",
       "      <td>35</td>\n",
       "      <td>168</td>\n",
       "      <td>43.1</td>\n",
       "      <td>2.288</td>\n",
       "      <td>33</td>\n",
       "      <td>1</td>\n",
       "    </tr>\n",
       "  </tbody>\n",
       "</table>\n",
       "</div>"
      ],
      "text/plain": [
       "   Pregnancies  Glucose  BloodPressure  SkinThickness  Insulin   BMI  \\\n",
       "0            6      148             72             35        0  33.6   \n",
       "1            1       85             66             29        0  26.6   \n",
       "2            8      183             64              0        0  23.3   \n",
       "3            1       89             66             23       94  28.1   \n",
       "4            0      137             40             35      168  43.1   \n",
       "\n",
       "   DiabetesPedigreeFunction  Age  Outcome  \n",
       "0                     0.627   50        1  \n",
       "1                     0.351   31        0  \n",
       "2                     0.672   32        1  \n",
       "3                     0.167   21        0  \n",
       "4                     2.288   33        1  "
      ]
     },
     "execution_count": 14,
     "metadata": {},
     "output_type": "execute_result"
    }
   ],
   "source": [
    "d.head()"
   ]
  },
  {
   "cell_type": "code",
   "execution_count": 15,
   "id": "a2797937",
   "metadata": {},
   "outputs": [],
   "source": [
    "d.columns = d.columns.str.lower()"
   ]
  },
  {
   "cell_type": "code",
   "execution_count": 16,
   "id": "5b557c3a",
   "metadata": {},
   "outputs": [
    {
     "data": {
      "text/html": [
       "<div>\n",
       "<style scoped>\n",
       "    .dataframe tbody tr th:only-of-type {\n",
       "        vertical-align: middle;\n",
       "    }\n",
       "\n",
       "    .dataframe tbody tr th {\n",
       "        vertical-align: top;\n",
       "    }\n",
       "\n",
       "    .dataframe thead th {\n",
       "        text-align: right;\n",
       "    }\n",
       "</style>\n",
       "<table border=\"1\" class=\"dataframe\">\n",
       "  <thead>\n",
       "    <tr style=\"text-align: right;\">\n",
       "      <th></th>\n",
       "      <th>pregnancies</th>\n",
       "      <th>glucose</th>\n",
       "      <th>bloodpressure</th>\n",
       "      <th>skinthickness</th>\n",
       "      <th>insulin</th>\n",
       "      <th>bmi</th>\n",
       "      <th>diabetespedigreefunction</th>\n",
       "      <th>age</th>\n",
       "      <th>outcome</th>\n",
       "    </tr>\n",
       "  </thead>\n",
       "  <tbody>\n",
       "    <tr>\n",
       "      <th>0</th>\n",
       "      <td>6</td>\n",
       "      <td>148</td>\n",
       "      <td>72</td>\n",
       "      <td>35</td>\n",
       "      <td>0</td>\n",
       "      <td>33.6</td>\n",
       "      <td>0.627</td>\n",
       "      <td>50</td>\n",
       "      <td>1</td>\n",
       "    </tr>\n",
       "    <tr>\n",
       "      <th>1</th>\n",
       "      <td>1</td>\n",
       "      <td>85</td>\n",
       "      <td>66</td>\n",
       "      <td>29</td>\n",
       "      <td>0</td>\n",
       "      <td>26.6</td>\n",
       "      <td>0.351</td>\n",
       "      <td>31</td>\n",
       "      <td>0</td>\n",
       "    </tr>\n",
       "    <tr>\n",
       "      <th>2</th>\n",
       "      <td>8</td>\n",
       "      <td>183</td>\n",
       "      <td>64</td>\n",
       "      <td>0</td>\n",
       "      <td>0</td>\n",
       "      <td>23.3</td>\n",
       "      <td>0.672</td>\n",
       "      <td>32</td>\n",
       "      <td>1</td>\n",
       "    </tr>\n",
       "    <tr>\n",
       "      <th>3</th>\n",
       "      <td>1</td>\n",
       "      <td>89</td>\n",
       "      <td>66</td>\n",
       "      <td>23</td>\n",
       "      <td>94</td>\n",
       "      <td>28.1</td>\n",
       "      <td>0.167</td>\n",
       "      <td>21</td>\n",
       "      <td>0</td>\n",
       "    </tr>\n",
       "    <tr>\n",
       "      <th>4</th>\n",
       "      <td>0</td>\n",
       "      <td>137</td>\n",
       "      <td>40</td>\n",
       "      <td>35</td>\n",
       "      <td>168</td>\n",
       "      <td>43.1</td>\n",
       "      <td>2.288</td>\n",
       "      <td>33</td>\n",
       "      <td>1</td>\n",
       "    </tr>\n",
       "  </tbody>\n",
       "</table>\n",
       "</div>"
      ],
      "text/plain": [
       "   pregnancies  glucose  bloodpressure  skinthickness  insulin   bmi  \\\n",
       "0            6      148             72             35        0  33.6   \n",
       "1            1       85             66             29        0  26.6   \n",
       "2            8      183             64              0        0  23.3   \n",
       "3            1       89             66             23       94  28.1   \n",
       "4            0      137             40             35      168  43.1   \n",
       "\n",
       "   diabetespedigreefunction  age  outcome  \n",
       "0                     0.627   50        1  \n",
       "1                     0.351   31        0  \n",
       "2                     0.672   32        1  \n",
       "3                     0.167   21        0  \n",
       "4                     2.288   33        1  "
      ]
     },
     "execution_count": 16,
     "metadata": {},
     "output_type": "execute_result"
    }
   ],
   "source": [
    "d.head()"
   ]
  },
  {
   "cell_type": "code",
   "execution_count": 17,
   "id": "0e84bd60",
   "metadata": {},
   "outputs": [
    {
     "data": {
      "text/html": [
       "<div>\n",
       "<style scoped>\n",
       "    .dataframe tbody tr th:only-of-type {\n",
       "        vertical-align: middle;\n",
       "    }\n",
       "\n",
       "    .dataframe tbody tr th {\n",
       "        vertical-align: top;\n",
       "    }\n",
       "\n",
       "    .dataframe thead th {\n",
       "        text-align: right;\n",
       "    }\n",
       "</style>\n",
       "<table border=\"1\" class=\"dataframe\">\n",
       "  <thead>\n",
       "    <tr style=\"text-align: right;\">\n",
       "      <th></th>\n",
       "      <th>pregnancies</th>\n",
       "      <th>glucose</th>\n",
       "      <th>bloodpressure</th>\n",
       "      <th>skinthickness</th>\n",
       "      <th>insulin</th>\n",
       "      <th>bmi</th>\n",
       "      <th>diabetespedigreefunction</th>\n",
       "      <th>age</th>\n",
       "    </tr>\n",
       "  </thead>\n",
       "  <tbody>\n",
       "    <tr>\n",
       "      <th>0</th>\n",
       "      <td>6</td>\n",
       "      <td>148</td>\n",
       "      <td>72</td>\n",
       "      <td>35</td>\n",
       "      <td>0</td>\n",
       "      <td>33.6</td>\n",
       "      <td>0.627</td>\n",
       "      <td>50</td>\n",
       "    </tr>\n",
       "    <tr>\n",
       "      <th>1</th>\n",
       "      <td>1</td>\n",
       "      <td>85</td>\n",
       "      <td>66</td>\n",
       "      <td>29</td>\n",
       "      <td>0</td>\n",
       "      <td>26.6</td>\n",
       "      <td>0.351</td>\n",
       "      <td>31</td>\n",
       "    </tr>\n",
       "    <tr>\n",
       "      <th>2</th>\n",
       "      <td>8</td>\n",
       "      <td>183</td>\n",
       "      <td>64</td>\n",
       "      <td>0</td>\n",
       "      <td>0</td>\n",
       "      <td>23.3</td>\n",
       "      <td>0.672</td>\n",
       "      <td>32</td>\n",
       "    </tr>\n",
       "    <tr>\n",
       "      <th>3</th>\n",
       "      <td>1</td>\n",
       "      <td>89</td>\n",
       "      <td>66</td>\n",
       "      <td>23</td>\n",
       "      <td>94</td>\n",
       "      <td>28.1</td>\n",
       "      <td>0.167</td>\n",
       "      <td>21</td>\n",
       "    </tr>\n",
       "    <tr>\n",
       "      <th>4</th>\n",
       "      <td>0</td>\n",
       "      <td>137</td>\n",
       "      <td>40</td>\n",
       "      <td>35</td>\n",
       "      <td>168</td>\n",
       "      <td>43.1</td>\n",
       "      <td>2.288</td>\n",
       "      <td>33</td>\n",
       "    </tr>\n",
       "  </tbody>\n",
       "</table>\n",
       "</div>"
      ],
      "text/plain": [
       "   pregnancies  glucose  bloodpressure  skinthickness  insulin   bmi  \\\n",
       "0            6      148             72             35        0  33.6   \n",
       "1            1       85             66             29        0  26.6   \n",
       "2            8      183             64              0        0  23.3   \n",
       "3            1       89             66             23       94  28.1   \n",
       "4            0      137             40             35      168  43.1   \n",
       "\n",
       "   diabetespedigreefunction  age  \n",
       "0                     0.627   50  \n",
       "1                     0.351   31  \n",
       "2                     0.672   32  \n",
       "3                     0.167   21  \n",
       "4                     2.288   33  "
      ]
     },
     "execution_count": 17,
     "metadata": {},
     "output_type": "execute_result"
    }
   ],
   "source": [
    "#get target data\n",
    "y = d['outcome']\n",
    "\n",
    "#load X variables\n",
    "X  = d.drop(['outcome'], axis=1)\n",
    "X.head()"
   ]
  },
  {
   "cell_type": "code",
   "execution_count": 18,
   "id": "f67e5ae2",
   "metadata": {},
   "outputs": [
    {
     "data": {
      "text/plain": [
       "(768, 8)"
      ]
     },
     "execution_count": 18,
     "metadata": {},
     "output_type": "execute_result"
    }
   ],
   "source": [
    "X.shape ##Check size of data"
   ]
  },
  {
   "cell_type": "code",
   "execution_count": 19,
   "id": "0ac9475f",
   "metadata": {},
   "outputs": [
    {
     "data": {
      "text/plain": [
       "pregnancies                 0\n",
       "glucose                     0\n",
       "bloodpressure               0\n",
       "skinthickness               0\n",
       "insulin                     0\n",
       "bmi                         0\n",
       "diabetespedigreefunction    0\n",
       "age                         0\n",
       "dtype: int64"
      ]
     },
     "execution_count": 19,
     "metadata": {},
     "output_type": "execute_result"
    }
   ],
   "source": [
    "X.isnull().sum()#We do not have any missing values"
   ]
  },
  {
   "cell_type": "code",
   "execution_count": null,
   "id": "87c27d30",
   "metadata": {},
   "outputs": [],
   "source": [
    "# Build Model"
   ]
  },
  {
   "cell_type": "code",
   "execution_count": 20,
   "id": "84adfde6",
   "metadata": {},
   "outputs": [],
   "source": [
    "nnModel = MLPClassifier(solver='lbfgs', alpha=1e-5, hidden_layer_sizes=(5,2), random_state=1, max_iter=1000)"
   ]
  },
  {
   "cell_type": "code",
   "execution_count": 21,
   "id": "b07f1da0",
   "metadata": {},
   "outputs": [
    {
     "data": {
      "text/plain": [
       "MLPClassifier(alpha=1e-05, hidden_layer_sizes=(5, 2), max_iter=1000,\n",
       "              random_state=1, solver='lbfgs')"
      ]
     },
     "execution_count": 21,
     "metadata": {},
     "output_type": "execute_result"
    }
   ],
   "source": [
    "nnModel.fit(X,y)"
   ]
  },
  {
   "cell_type": "code",
   "execution_count": 22,
   "id": "dcd43420",
   "metadata": {},
   "outputs": [
    {
     "name": "stdout",
     "output_type": "stream",
     "text": [
      "Accuracy - :  0.681\n"
     ]
    }
   ],
   "source": [
    "print(f'Accuracy - : {nnModel.score(X,y): .3f}')"
   ]
  },
  {
   "cell_type": "code",
   "execution_count": 23,
   "id": "10e98cd8",
   "metadata": {},
   "outputs": [
    {
     "name": "stdout",
     "output_type": "stream",
     "text": [
      "Accuracy - :  0.757\n"
     ]
    }
   ],
   "source": [
    "nnModel = MLPClassifier(solver='lbfgs', alpha=1e-5, hidden_layer_sizes=(10,4), random_state=1, max_iter=1000)\n",
    "nnModel.fit(X,y)\n",
    "print(f'Accuracy - : {nnModel.score(X,y): .3f}')"
   ]
  },
  {
   "cell_type": "code",
   "execution_count": 24,
   "id": "f7743418",
   "metadata": {},
   "outputs": [
    {
     "name": "stdout",
     "output_type": "stream",
     "text": [
      "Accuracy - :  0.799\n"
     ]
    }
   ],
   "source": [
    "nnModel = MLPClassifier(solver='lbfgs', alpha=1e-5, hidden_layer_sizes=(20,10,5), random_state=1, max_iter=1000)\n",
    "nnModel.fit(X,y)\n",
    "print(f'Accuracy - : {nnModel.score(X,y): .3f}')"
   ]
  },
  {
   "cell_type": "code",
   "execution_count": 25,
   "id": "5fe43a37",
   "metadata": {},
   "outputs": [
    {
     "name": "stdout",
     "output_type": "stream",
     "text": [
      "Accuracy - :  0.652\n"
     ]
    }
   ],
   "source": [
    "nnModel = MLPClassifier(solver='lbfgs', alpha=1e-5, hidden_layer_sizes=(20,10,5,4), random_state=1, max_iter=1000)\n",
    "nnModel.fit(X,y)\n",
    "print(f'Accuracy - : {nnModel.score(X,y): .3f}')"
   ]
  },
  {
   "cell_type": "code",
   "execution_count": 26,
   "id": "fe63b324",
   "metadata": {},
   "outputs": [
    {
     "name": "stdout",
     "output_type": "stream",
     "text": [
      "Accuracy - :  0.652\n"
     ]
    }
   ],
   "source": [
    "nnModel = MLPClassifier(solver='lbfgs', alpha=1e-5, hidden_layer_sizes=(20,10,5,4,2), random_state=1, max_iter=1000)\n",
    "nnModel.fit(X,y)\n",
    "print(f'Accuracy - : {nnModel.score(X,y): .3f}')"
   ]
  },
  {
   "cell_type": "code",
   "execution_count": 27,
   "id": "3d874c47",
   "metadata": {},
   "outputs": [
    {
     "name": "stdout",
     "output_type": "stream",
     "text": [
      "Accuracy - :  0.846\n"
     ]
    },
    {
     "name": "stderr",
     "output_type": "stream",
     "text": [
      "/Users/jesandbrett/opt/anaconda3/envs/IOD/lib/python3.8/site-packages/sklearn/neural_network/_multilayer_perceptron.py:549: ConvergenceWarning: lbfgs failed to converge (status=1):\n",
      "STOP: TOTAL NO. of ITERATIONS REACHED LIMIT.\n",
      "\n",
      "Increase the number of iterations (max_iter) or scale the data as shown in:\n",
      "    https://scikit-learn.org/stable/modules/preprocessing.html\n",
      "  self.n_iter_ = _check_optimize_result(\"lbfgs\", opt_res, self.max_iter)\n"
     ]
    }
   ],
   "source": [
    "nnModel = MLPClassifier(solver='lbfgs', alpha=1e-5, hidden_layer_sizes=(30,20,10), random_state=1, max_iter=1000)\n",
    "nnModel.fit(X,y)\n",
    "print(f'Accuracy - : {nnModel.score(X,y): .3f}')"
   ]
  },
  {
   "cell_type": "code",
   "execution_count": 28,
   "id": "5860169b",
   "metadata": {},
   "outputs": [
    {
     "name": "stdout",
     "output_type": "stream",
     "text": [
      "Accuracy - :  0.789\n"
     ]
    },
    {
     "name": "stderr",
     "output_type": "stream",
     "text": [
      "/Users/jesandbrett/opt/anaconda3/envs/IOD/lib/python3.8/site-packages/sklearn/neural_network/_multilayer_perceptron.py:549: ConvergenceWarning: lbfgs failed to converge (status=1):\n",
      "STOP: TOTAL NO. of ITERATIONS REACHED LIMIT.\n",
      "\n",
      "Increase the number of iterations (max_iter) or scale the data as shown in:\n",
      "    https://scikit-learn.org/stable/modules/preprocessing.html\n",
      "  self.n_iter_ = _check_optimize_result(\"lbfgs\", opt_res, self.max_iter)\n"
     ]
    }
   ],
   "source": [
    "nnModel = MLPClassifier(solver='lbfgs', alpha=1e-5, hidden_layer_sizes=(20,15,15), random_state=1, max_iter=1000)\n",
    "nnModel.fit(X,y)\n",
    "print(f'Accuracy - : {nnModel.score(X,y): .3f}')"
   ]
  },
  {
   "cell_type": "code",
   "execution_count": 29,
   "id": "72e54fdb",
   "metadata": {},
   "outputs": [
    {
     "name": "stdout",
     "output_type": "stream",
     "text": [
      "Accuracy - :  0.853\n"
     ]
    }
   ],
   "source": [
    "nnModel = MLPClassifier(solver='lbfgs', alpha=1e-5, hidden_layer_sizes=(30,20,10), random_state=1, max_iter=2000)\n",
    "nnModel.fit(X,y)\n",
    "print(f'Accuracy - : {nnModel.score(X,y): .3f}')"
   ]
  },
  {
   "cell_type": "code",
   "execution_count": 32,
   "id": "9d306d0d",
   "metadata": {},
   "outputs": [
    {
     "name": "stdout",
     "output_type": "stream",
     "text": [
      "Accuracy - :  0.888\n"
     ]
    },
    {
     "name": "stderr",
     "output_type": "stream",
     "text": [
      "/Users/jesandbrett/opt/anaconda3/envs/IOD/lib/python3.8/site-packages/sklearn/neural_network/_multilayer_perceptron.py:549: ConvergenceWarning: lbfgs failed to converge (status=1):\n",
      "STOP: TOTAL NO. of ITERATIONS REACHED LIMIT.\n",
      "\n",
      "Increase the number of iterations (max_iter) or scale the data as shown in:\n",
      "    https://scikit-learn.org/stable/modules/preprocessing.html\n",
      "  self.n_iter_ = _check_optimize_result(\"lbfgs\", opt_res, self.max_iter)\n"
     ]
    }
   ],
   "source": [
    "nnModel = MLPClassifier(solver='lbfgs', alpha=1e-5, hidden_layer_sizes=(40,30,20), random_state=1, max_iter=3000)\n",
    "nnModel.fit(X,y)\n",
    "print(f'Accuracy - : {nnModel.score(X,y): .3f}')"
   ]
  },
  {
   "cell_type": "code",
   "execution_count": 34,
   "id": "c1191187",
   "metadata": {},
   "outputs": [
    {
     "name": "stdout",
     "output_type": "stream",
     "text": [
      "Accuracy - :  0.908\n"
     ]
    },
    {
     "name": "stderr",
     "output_type": "stream",
     "text": [
      "/Users/jesandbrett/opt/anaconda3/envs/IOD/lib/python3.8/site-packages/sklearn/neural_network/_multilayer_perceptron.py:549: ConvergenceWarning: lbfgs failed to converge (status=1):\n",
      "STOP: TOTAL NO. of ITERATIONS REACHED LIMIT.\n",
      "\n",
      "Increase the number of iterations (max_iter) or scale the data as shown in:\n",
      "    https://scikit-learn.org/stable/modules/preprocessing.html\n",
      "  self.n_iter_ = _check_optimize_result(\"lbfgs\", opt_res, self.max_iter)\n"
     ]
    }
   ],
   "source": [
    "nnModel = MLPClassifier(solver='lbfgs', alpha=1e-5, hidden_layer_sizes=(40,30,20), random_state=1, max_iter=7000)\n",
    "nnModel.fit(X,y)\n",
    "print(f'Accuracy - : {nnModel.score(X,y): .3f}')"
   ]
  },
  {
   "cell_type": "code",
   "execution_count": 35,
   "id": "9a8f4268",
   "metadata": {},
   "outputs": [
    {
     "name": "stdout",
     "output_type": "stream",
     "text": [
      "Accuracy - :  0.922\n"
     ]
    }
   ],
   "source": [
    "nnModel = MLPClassifier(solver='lbfgs', alpha=1e-5, hidden_layer_sizes=(40,20,20,10), random_state=1, max_iter=7000)\n",
    "nnModel.fit(X,y)\n",
    "print(f'Accuracy - : {nnModel.score(X,y): .3f}')"
   ]
  },
  {
   "cell_type": "code",
   "execution_count": 36,
   "id": "eab67556",
   "metadata": {},
   "outputs": [
    {
     "name": "stdout",
     "output_type": "stream",
     "text": [
      "Accuracy - :  0.957\n"
     ]
    }
   ],
   "source": [
    "nnModel = MLPClassifier(solver='lbfgs', alpha=1e-5, hidden_layer_sizes=(40,20,20,10,10), random_state=1, max_iter=7000)\n",
    "nnModel.fit(X,y)\n",
    "print(f'Accuracy - : {nnModel.score(X,y): .3f}')"
   ]
  },
  {
   "cell_type": "code",
   "execution_count": 37,
   "id": "fd2f06b7",
   "metadata": {},
   "outputs": [
    {
     "name": "stdout",
     "output_type": "stream",
     "text": [
      "Accuracy - :  0.652\n"
     ]
    }
   ],
   "source": [
    "nnModel = MLPClassifier(solver='lbfgs', alpha=1e-5, hidden_layer_sizes=(20,10,5,4), random_state=1, max_iter=1000)\n",
    "nnModel.fit(X,y)\n",
    "print(f'Accuracy - : {nnModel.score(X,y): .3f}')"
   ]
  },
  {
   "cell_type": "code",
   "execution_count": 40,
   "id": "2f34dd8a",
   "metadata": {},
   "outputs": [
    {
     "name": "stdout",
     "output_type": "stream",
     "text": [
      "Accuracy - :  0.772\n"
     ]
    },
    {
     "name": "stderr",
     "output_type": "stream",
     "text": [
      "/Users/jesandbrett/opt/anaconda3/envs/IOD/lib/python3.8/site-packages/sklearn/neural_network/_multilayer_perceptron.py:549: ConvergenceWarning: lbfgs failed to converge (status=1):\n",
      "STOP: TOTAL NO. of ITERATIONS REACHED LIMIT.\n",
      "\n",
      "Increase the number of iterations (max_iter) or scale the data as shown in:\n",
      "    https://scikit-learn.org/stable/modules/preprocessing.html\n",
      "  self.n_iter_ = _check_optimize_result(\"lbfgs\", opt_res, self.max_iter)\n"
     ]
    }
   ],
   "source": [
    "nnModel = MLPClassifier(solver='lbfgs', alpha=1e-5, hidden_layer_sizes=(20,10,10,10,5), random_state=1, max_iter=1000, early_stopping=True)\n",
    "nnModel.fit(X,y)\n",
    "print(f'Accuracy - : {nnModel.score(X,y): .3f}')"
   ]
  },
  {
   "cell_type": "code",
   "execution_count": 41,
   "id": "a31d8151",
   "metadata": {},
   "outputs": [
    {
     "name": "stdout",
     "output_type": "stream",
     "text": [
      "Accuracy - :  0.819\n"
     ]
    },
    {
     "name": "stderr",
     "output_type": "stream",
     "text": [
      "/Users/jesandbrett/opt/anaconda3/envs/IOD/lib/python3.8/site-packages/sklearn/neural_network/_multilayer_perceptron.py:549: ConvergenceWarning: lbfgs failed to converge (status=1):\n",
      "STOP: TOTAL NO. of ITERATIONS REACHED LIMIT.\n",
      "\n",
      "Increase the number of iterations (max_iter) or scale the data as shown in:\n",
      "    https://scikit-learn.org/stable/modules/preprocessing.html\n",
      "  self.n_iter_ = _check_optimize_result(\"lbfgs\", opt_res, self.max_iter)\n"
     ]
    }
   ],
   "source": [
    "nnModel = MLPClassifier(solver='lbfgs', alpha=1e-5, hidden_layer_sizes=(40,10,10), random_state=1, max_iter=1000, early_stopping=True)\n",
    "nnModel.fit(X,y)\n",
    "print(f'Accuracy - : {nnModel.score(X,y): .3f}')"
   ]
  },
  {
   "cell_type": "code",
   "execution_count": 42,
   "id": "256549da",
   "metadata": {},
   "outputs": [
    {
     "name": "stdout",
     "output_type": "stream",
     "text": [
      "Accuracy - :  0.868\n"
     ]
    },
    {
     "name": "stderr",
     "output_type": "stream",
     "text": [
      "/Users/jesandbrett/opt/anaconda3/envs/IOD/lib/python3.8/site-packages/sklearn/neural_network/_multilayer_perceptron.py:549: ConvergenceWarning: lbfgs failed to converge (status=1):\n",
      "STOP: TOTAL NO. of ITERATIONS REACHED LIMIT.\n",
      "\n",
      "Increase the number of iterations (max_iter) or scale the data as shown in:\n",
      "    https://scikit-learn.org/stable/modules/preprocessing.html\n",
      "  self.n_iter_ = _check_optimize_result(\"lbfgs\", opt_res, self.max_iter)\n"
     ]
    }
   ],
   "source": [
    "nnModel = MLPClassifier(solver='lbfgs', alpha=1e-5, hidden_layer_sizes=(40,20,10), random_state=1, max_iter=1000, early_stopping=True)\n",
    "nnModel.fit(X,y)\n",
    "print(f'Accuracy - : {nnModel.score(X,y): .3f}')"
   ]
  },
  {
   "cell_type": "code",
   "execution_count": 43,
   "id": "5dbd6fa3",
   "metadata": {},
   "outputs": [
    {
     "name": "stdout",
     "output_type": "stream",
     "text": [
      "Accuracy - :  0.845\n"
     ]
    },
    {
     "name": "stderr",
     "output_type": "stream",
     "text": [
      "/Users/jesandbrett/opt/anaconda3/envs/IOD/lib/python3.8/site-packages/sklearn/neural_network/_multilayer_perceptron.py:549: ConvergenceWarning: lbfgs failed to converge (status=1):\n",
      "STOP: TOTAL NO. of ITERATIONS REACHED LIMIT.\n",
      "\n",
      "Increase the number of iterations (max_iter) or scale the data as shown in:\n",
      "    https://scikit-learn.org/stable/modules/preprocessing.html\n",
      "  self.n_iter_ = _check_optimize_result(\"lbfgs\", opt_res, self.max_iter)\n"
     ]
    }
   ],
   "source": [
    "nnModel = MLPClassifier(solver='lbfgs', alpha=1e-5, hidden_layer_sizes=(40,30,20), random_state=1, max_iter=1000, early_stopping=True)\n",
    "nnModel.fit(X,y)\n",
    "print(f'Accuracy - : {nnModel.score(X,y): .3f}')"
   ]
  },
  {
   "cell_type": "code",
   "execution_count": 45,
   "id": "a42b78b0",
   "metadata": {},
   "outputs": [
    {
     "name": "stdout",
     "output_type": "stream",
     "text": [
      "Accuracy - :  0.789\n"
     ]
    },
    {
     "name": "stderr",
     "output_type": "stream",
     "text": [
      "/Users/jesandbrett/opt/anaconda3/envs/IOD/lib/python3.8/site-packages/sklearn/neural_network/_multilayer_perceptron.py:549: ConvergenceWarning: lbfgs failed to converge (status=1):\n",
      "STOP: TOTAL NO. of ITERATIONS REACHED LIMIT.\n",
      "\n",
      "Increase the number of iterations (max_iter) or scale the data as shown in:\n",
      "    https://scikit-learn.org/stable/modules/preprocessing.html\n",
      "  self.n_iter_ = _check_optimize_result(\"lbfgs\", opt_res, self.max_iter)\n"
     ]
    }
   ],
   "source": [
    "nnModel = MLPClassifier(solver='lbfgs', alpha=1e-5, hidden_layer_sizes=(40,20,5), random_state=1, max_iter=1000, early_stopping=True)\n",
    "nnModel.fit(X,y)\n",
    "print(f'Accuracy - : {nnModel.score(X,y): .3f}')"
   ]
  },
  {
   "cell_type": "code",
   "execution_count": 46,
   "id": "a0f5640f",
   "metadata": {},
   "outputs": [
    {
     "name": "stdout",
     "output_type": "stream",
     "text": [
      "Accuracy - :  0.884\n"
     ]
    },
    {
     "name": "stderr",
     "output_type": "stream",
     "text": [
      "/Users/jesandbrett/opt/anaconda3/envs/IOD/lib/python3.8/site-packages/sklearn/neural_network/_multilayer_perceptron.py:549: ConvergenceWarning: lbfgs failed to converge (status=1):\n",
      "STOP: TOTAL NO. of ITERATIONS REACHED LIMIT.\n",
      "\n",
      "Increase the number of iterations (max_iter) or scale the data as shown in:\n",
      "    https://scikit-learn.org/stable/modules/preprocessing.html\n",
      "  self.n_iter_ = _check_optimize_result(\"lbfgs\", opt_res, self.max_iter)\n"
     ]
    }
   ],
   "source": [
    "nnModel = MLPClassifier(solver='lbfgs', alpha=1e-5, hidden_layer_sizes=(40,30,10), random_state=1, max_iter=1000, early_stopping=True)\n",
    "nnModel.fit(X,y)\n",
    "print(f'Accuracy - : {nnModel.score(X,y): .3f}')"
   ]
  },
  {
   "cell_type": "code",
   "execution_count": 47,
   "id": "6067a0c4",
   "metadata": {},
   "outputs": [
    {
     "name": "stdout",
     "output_type": "stream",
     "text": [
      "Accuracy - :  0.788\n"
     ]
    }
   ],
   "source": [
    "nnModel = MLPClassifier(solver='lbfgs', alpha=1e-5, hidden_layer_sizes=(9,5), random_state=1, max_iter=1000, early_stopping=True)\n",
    "nnModel.fit(X,y)\n",
    "print(f'Accuracy - : {nnModel.score(X,y): .3f}')"
   ]
  },
  {
   "cell_type": "code",
   "execution_count": 54,
   "id": "84a8ff26",
   "metadata": {},
   "outputs": [],
   "source": [
    "from sklearn.model_selection import train_test_split\n",
    "from sklearn.linear_model import LogisticRegression\n",
    "from sklearn import metrics"
   ]
  },
  {
   "cell_type": "code",
   "execution_count": 55,
   "id": "eb59106f",
   "metadata": {},
   "outputs": [
    {
     "data": {
      "text/plain": [
       "Index(['pregnancies', 'glucose', 'bloodpressure', 'skinthickness', 'insulin',\n",
       "       'bmi', 'diabetespedigreefunction', 'age', 'outcome'],\n",
       "      dtype='object')"
      ]
     },
     "execution_count": 55,
     "metadata": {},
     "output_type": "execute_result"
    }
   ],
   "source": [
    "d.columns"
   ]
  },
  {
   "cell_type": "code",
   "execution_count": 56,
   "id": "92b06467",
   "metadata": {},
   "outputs": [],
   "source": [
    "feature_cols = ['pregnancies', 'glucose', 'bloodpressure', 'skinthickness', 'insulin',\n",
    "       'bmi', 'diabetespedigreefunction', 'age']\n",
    "X = d[feature_cols]\n",
    "y = d['outcome']"
   ]
  },
  {
   "cell_type": "code",
   "execution_count": 57,
   "id": "5762cb5a",
   "metadata": {},
   "outputs": [],
   "source": [
    "X_train, X_test, y_train, y_test = train_test_split(X, y, random_state=1)"
   ]
  },
  {
   "cell_type": "code",
   "execution_count": 58,
   "id": "6f512e97",
   "metadata": {},
   "outputs": [
    {
     "name": "stdout",
     "output_type": "stream",
     "text": [
      "Accuracy - :  0.723\n"
     ]
    },
    {
     "name": "stderr",
     "output_type": "stream",
     "text": [
      "/Users/jesandbrett/opt/anaconda3/envs/IOD/lib/python3.8/site-packages/sklearn/neural_network/_multilayer_perceptron.py:549: ConvergenceWarning: lbfgs failed to converge (status=1):\n",
      "STOP: TOTAL NO. of ITERATIONS REACHED LIMIT.\n",
      "\n",
      "Increase the number of iterations (max_iter) or scale the data as shown in:\n",
      "    https://scikit-learn.org/stable/modules/preprocessing.html\n",
      "  self.n_iter_ = _check_optimize_result(\"lbfgs\", opt_res, self.max_iter)\n"
     ]
    }
   ],
   "source": [
    "nnModel = MLPClassifier(solver='lbfgs', alpha=1e-5, hidden_layer_sizes=(9,5), random_state=1, max_iter=1000, early_stopping=True)\n",
    "nnModel.fit(X_test,y_test)\n",
    "print(f'Accuracy - : {nnModel.score(X,y): .3f}')"
   ]
  },
  {
   "cell_type": "code",
   "execution_count": null,
   "id": "4e15e656",
   "metadata": {},
   "outputs": [],
   "source": []
  }
 ],
 "metadata": {
  "kernelspec": {
   "display_name": "Python 3 (ipykernel)",
   "language": "python",
   "name": "python3"
  },
  "language_info": {
   "codemirror_mode": {
    "name": "ipython",
    "version": 3
   },
   "file_extension": ".py",
   "mimetype": "text/x-python",
   "name": "python",
   "nbconvert_exporter": "python",
   "pygments_lexer": "ipython3",
   "version": "3.8.13"
  }
 },
 "nbformat": 4,
 "nbformat_minor": 5
}
